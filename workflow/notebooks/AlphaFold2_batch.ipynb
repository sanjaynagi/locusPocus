{
  "nbformat": 4,
  "nbformat_minor": 0,
  "metadata": {
    "accelerator": "GPU",
    "colab": {
      "name": "AlphaFold2_batch.ipynb",
      "provenance": [],
      "collapsed_sections": []
    },
    "kernelspec": {
      "name": "python3",
      "language": "python",
      "display_name": "Python 3 (ipykernel)"
    },
    "language_info": {
      "name": "python"
    }
  },
  "cells": [
    {
      "cell_type": "markdown",
      "metadata": {
        "id": "G4yBrceuFbf3"
      },
      "source": [
        "#ColabFold: AlphaFold2 w/ MMseqs2 BATCH\n",
        "\n",
        "<img src=\"https://raw.githubusercontent.com/sokrypton/ColabFold/main/.github/ColabFold_Marv_Logo_Small.png\" height=\"256\" align=\"right\" style=\"height:256px\">\n",
        "\n",
        "Easy to use AlphaFold2 protein structure [(Jumper et al. 2021)](https://www.nature.com/articles/s41586-021-03819-2) and complex [(Evans et al. 2021)](https://www.biorxiv.org/content/10.1101/2021.10.04.463034v1) prediction using multiple sequence alignments generated through MMseqs2. For details, refer to our manuscript:\n",
        "\n",
        "[Mirdita M, Schütze K, Moriwaki Y, Heo L, Ovchinnikov S, Steinegger M. ColabFold: Making protein folding accessible to all.\n",
        "*Nature Methods*, 2022](https://www.nature.com/articles/s41592-022-01488-1) \n",
        "\n",
        "**Usage**\n",
        "\n",
        "`input_dir` directory with only fasta files or MSAs stored in Google Drive. MSAs need to be A3M formatted and have an `.a3m` extention. For MSAs MMseqs2 will not be called.\n",
        "\n",
        "`result_dir` results will be written to the result directory in Google Drive\n",
        "\n",
        "Old versions: [v1.0-alpha](https://colab.research.google.com/github/sokrypton/ColabFold/blob/v1.0-alpha/batch/AlphaFold2_batch.ipynb), [v1.1-permultimer](https://colab.research.google.com/github/sokrypton/ColabFold/blob/v1.1-premultimer//batch/AlphaFold2_batch.ipynb), [v1.2](https://colab.research.google.com/github/sokrypton/ColabFold/blob/v1.2.0/batch/AlphaFold2_batch.ipynb), [v1.3](https://colab.research.google.com/github/sokrypton/ColabFold/blob/v1.3.0/batch/AlphaFold2_batch.ipynb)\n",
        "\n",
        "<strong>For more details, see <a href=\"#Instructions\">bottom</a> of the notebook and checkout the [ColabFold GitHub](https://github.com/sokrypton/ColabFold). </strong>"
      ]
    },
    {
      "cell_type": "code",
      "metadata": {
        "id": "AwvIWN3HDyUJ",
        "outputId": "46db5a84-7bc8-4e53-867e-826775c2b22b",
        "colab": {
          "base_uri": "https://localhost:8080/"
        }
      },
      "source": [
        "#@title Mount google drive\n",
        "from google.colab import drive\n",
        "drive.mount('/content/drive')"
      ],
      "execution_count": 1,
      "outputs": [
        {
          "output_type": "stream",
          "name": "stdout",
          "text": [
            "Mounted at /content/drive\n"
          ]
        }
      ]
    },
    {
      "cell_type": "code",
      "metadata": {
        "id": "kOblAo-xetgx",
        "cellView": "form"
      },
      "source": [
        "#@title Input protein sequence, then hit `Runtime` -> `Run all`\n",
        "\n",
        "input_dir = '/content/drive/MyDrive/esterases_gam_arab_quinq.fasta' #@param {type:\"string\"}\n",
        "result_dir = '/content/drive/MyDrive/result' #@param {type:\"string\"}\n",
        "\n",
        "# number of models to use\n",
        "#@markdown ---\n",
        "#@markdown ### Advanced settings\n",
        "msa_mode = \"MMseqs2 (UniRef+Environmental)\" #@param [\"MMseqs2 (UniRef+Environmental)\", \"MMseqs2 (UniRef only)\",\"single_sequence\",\"custom\"]\n",
        "num_models = 5 #@param [1,2,3,4,5] {type:\"raw\"}\n",
        "num_recycles = 3 #@param [1,3,6,12,24,48] {type:\"raw\"}\n",
        "stop_at_score = 100 #@param {type:\"string\"}\n",
        "#@markdown - early stop computing models once score > threshold (avg. plddt for \"structures\" and ptmscore for \"complexes\")\n",
        "use_custom_msa = False\n",
        "use_amber = False #@param {type:\"boolean\"}\n",
        "use_templates = False #@param {type:\"boolean\"}\n",
        "do_not_overwrite_results = True #@param {type:\"boolean\"}\n",
        "zip_results = False #@param {type:\"boolean\"}\n"
      ],
      "execution_count": 2,
      "outputs": []
    },
    {
      "cell_type": "code",
      "source": [
        "from google.colab import drive\n",
        "drive.mount('/content/drive')"
      ],
      "metadata": {
        "id": "hjjfbjbU6-uy",
        "outputId": "079af0c8-d545-4b88-820e-c27be03d72ad",
        "colab": {
          "base_uri": "https://localhost:8080/"
        }
      },
      "execution_count": 3,
      "outputs": [
        {
          "output_type": "stream",
          "name": "stdout",
          "text": [
            "Drive already mounted at /content/drive; to attempt to forcibly remount, call drive.mount(\"/content/drive\", force_remount=True).\n"
          ]
        }
      ]
    },
    {
      "cell_type": "code",
      "metadata": {
        "id": "iccGdbe_Pmt9",
        "outputId": "d16c6ace-bcb9-4eed-a2f4-2710ac960d9e",
        "colab": {
          "base_uri": "https://localhost:8080/"
        }
      },
      "source": [
        "#@title Install dependencies\n",
        "%%bash -s $use_amber $use_templates\n",
        "\n",
        "set -e\n",
        "\n",
        "USE_AMBER=$1\n",
        "USE_TEMPLATES=$2\n",
        "\n",
        "\n",
        "if [ ! -f COLABFOLD_READY ]; then\n",
        "  # install dependencies\n",
        "  # We have to use \"--no-warn-conflicts\" because colab already has a lot preinstalled with requirements different to ours\n",
        "  pip install -q --no-warn-conflicts \"colabfold[alphafold-minus-jax] @ git+https://github.com/sokrypton/ColabFold\"\n",
        "  # high risk high gain\n",
        "  pip install -q \"jax[cuda11_cudnn805]>=0.3.8,<0.4\" -f https://storage.googleapis.com/jax-releases/jax_releases.html\n",
        "  touch COLABFOLD_READY\n",
        "fi\n",
        "\n",
        "# Download params (~1min)\n",
        "python -m colabfold.download\n",
        "\n",
        "# setup conda\n",
        "if [ ${USE_AMBER} == \"True\" ] || [ ${USE_TEMPLATES} == \"True\" ]; then\n",
        "  if [ ! -f CONDA_READY ]; then\n",
        "    wget -qnc https://repo.anaconda.com/miniconda/Miniconda3-latest-Linux-x86_64.sh\n",
        "    bash Miniconda3-latest-Linux-x86_64.sh -bfp /usr/local 2>&1 1>/dev/null\n",
        "    rm Miniconda3-latest-Linux-x86_64.sh\n",
        "    touch CONDA_READY\n",
        "  fi\n",
        "fi\n",
        "# setup template search\n",
        "if [ ${USE_TEMPLATES} == \"True\" ] && [ ! -f HH_READY ]; then\n",
        "  conda install -y -q -c conda-forge -c bioconda kalign2=2.04 hhsuite=3.3.0 python=3.7 2>&1 1>/dev/null\n",
        "  touch HH_READY\n",
        "fi\n",
        "# setup openmm for amber refinement\n",
        "if [ ${USE_AMBER} == \"True\" ] && [ ! -f AMBER_READY ]; then\n",
        "  conda install -y -q -c conda-forge openmm=7.5.1 python=3.7 pdbfixer 2>&1 1>/dev/null\n",
        "  touch AMBER_READY\n",
        "fi"
      ],
      "execution_count": 4,
      "outputs": [
        {
          "output_type": "stream",
          "name": "stderr",
          "text": [
            "\rDownloading alphafold2 weights to /root/.cache/colabfold:   0%|          | 0/4099686400 [00:00<?, ?it/s]\rDownloading alphafold2 weights to /root/.cache/colabfold:   0%|          | 15.0M/3.82G [00:00<00:25, 157MB/s]\rDownloading alphafold2 weights to /root/.cache/colabfold:   1%|          | 37.0M/3.82G [00:00<00:20, 200MB/s]\rDownloading alphafold2 weights to /root/.cache/colabfold:   2%|▏         | 62.0M/3.82G [00:00<00:17, 229MB/s]\rDownloading alphafold2 weights to /root/.cache/colabfold:   2%|▏         | 87.5M/3.82G [00:00<00:16, 244MB/s]\rDownloading alphafold2 weights to /root/.cache/colabfold:   3%|▎         | 111M/3.82G [00:00<00:17, 227MB/s] \rDownloading alphafold2 weights to /root/.cache/colabfold:   3%|▎         | 133M/3.82G [00:00<00:19, 207MB/s]\rDownloading alphafold2 weights to /root/.cache/colabfold:   4%|▍         | 153M/3.82G [00:00<00:19, 207MB/s]\rDownloading alphafold2 weights to /root/.cache/colabfold:   4%|▍         | 174M/3.82G [00:00<00:18, 212MB/s]\rDownloading alphafold2 weights to /root/.cache/colabfold:   5%|▌         | 196M/3.82G [00:00<00:17, 218MB/s]\rDownloading alphafold2 weights to /root/.cache/colabfold:   6%|▌         | 217M/3.82G [00:01<00:19, 201MB/s]\rDownloading alphafold2 weights to /root/.cache/colabfold:   6%|▌         | 239M/3.82G [00:01<00:18, 208MB/s]\rDownloading alphafold2 weights to /root/.cache/colabfold:   7%|▋         | 263M/3.82G [00:01<00:17, 221MB/s]\rDownloading alphafold2 weights to /root/.cache/colabfold:   7%|▋         | 287M/3.82G [00:01<00:16, 228MB/s]\rDownloading alphafold2 weights to /root/.cache/colabfold:   8%|▊         | 309M/3.82G [00:01<00:18, 205MB/s]\rDownloading alphafold2 weights to /root/.cache/colabfold:   8%|▊         | 330M/3.82G [00:01<00:17, 209MB/s]\rDownloading alphafold2 weights to /root/.cache/colabfold:   9%|▉         | 351M/3.82G [00:01<00:17, 214MB/s]\rDownloading alphafold2 weights to /root/.cache/colabfold:  10%|▉         | 374M/3.82G [00:01<00:17, 216MB/s]\rDownloading alphafold2 weights to /root/.cache/colabfold:  10%|█         | 397M/3.82G [00:01<00:16, 224MB/s]\rDownloading alphafold2 weights to /root/.cache/colabfold:  11%|█         | 421M/3.82G [00:02<00:15, 233MB/s]\rDownloading alphafold2 weights to /root/.cache/colabfold:  11%|█▏        | 444M/3.82G [00:02<00:15, 234MB/s]\rDownloading alphafold2 weights to /root/.cache/colabfold:  12%|█▏        | 467M/3.82G [00:02<00:15, 233MB/s]\rDownloading alphafold2 weights to /root/.cache/colabfold:  13%|█▎        | 489M/3.82G [00:02<00:21, 167MB/s]\rDownloading alphafold2 weights to /root/.cache/colabfold:  13%|█▎        | 507M/3.82G [00:02<00:21, 165MB/s]\rDownloading alphafold2 weights to /root/.cache/colabfold:  14%|█▎        | 529M/3.82G [00:02<00:19, 180MB/s]\rDownloading alphafold2 weights to /root/.cache/colabfold:  14%|█▍        | 551M/3.82G [00:02<00:18, 194MB/s]\rDownloading alphafold2 weights to /root/.cache/colabfold:  15%|█▍        | 572M/3.82G [00:02<00:17, 199MB/s]\rDownloading alphafold2 weights to /root/.cache/colabfold:  15%|█▌        | 594M/3.82G [00:02<00:16, 207MB/s]\rDownloading alphafold2 weights to /root/.cache/colabfold:  16%|█▌        | 615M/3.82G [00:03<00:16, 211MB/s]\rDownloading alphafold2 weights to /root/.cache/colabfold:  16%|█▋        | 636M/3.82G [00:03<00:16, 214MB/s]\rDownloading alphafold2 weights to /root/.cache/colabfold:  17%|█▋        | 657M/3.82G [00:03<00:15, 217MB/s]\rDownloading alphafold2 weights to /root/.cache/colabfold:  17%|█▋        | 680M/3.82G [00:03<00:15, 223MB/s]\rDownloading alphafold2 weights to /root/.cache/colabfold:  18%|█▊        | 701M/3.82G [00:03<00:16, 210MB/s]\rDownloading alphafold2 weights to /root/.cache/colabfold:  18%|█▊        | 722M/3.82G [00:03<00:15, 212MB/s]\rDownloading alphafold2 weights to /root/.cache/colabfold:  19%|█▉        | 743M/3.82G [00:03<00:15, 213MB/s]\rDownloading alphafold2 weights to /root/.cache/colabfold:  20%|█▉        | 764M/3.82G [00:03<00:15, 214MB/s]\rDownloading alphafold2 weights to /root/.cache/colabfold:  20%|██        | 786M/3.82G [00:03<00:14, 219MB/s]\rDownloading alphafold2 weights to /root/.cache/colabfold:  21%|██        | 808M/3.82G [00:04<00:14, 223MB/s]\rDownloading alphafold2 weights to /root/.cache/colabfold:  21%|██        | 829M/3.82G [00:04<00:14, 225MB/s]\rDownloading alphafold2 weights to /root/.cache/colabfold:  22%|██▏       | 852M/3.82G [00:04<00:14, 227MB/s]\rDownloading alphafold2 weights to /root/.cache/colabfold:  22%|██▏       | 874M/3.82G [00:04<00:13, 231MB/s]\rDownloading alphafold2 weights to /root/.cache/colabfold:  23%|██▎       | 899M/3.82G [00:04<00:13, 239MB/s]\rDownloading alphafold2 weights to /root/.cache/colabfold:  24%|██▎       | 922M/3.82G [00:04<00:14, 224MB/s]\rDownloading alphafold2 weights to /root/.cache/colabfold:  24%|██▍       | 943M/3.82G [00:04<00:14, 219MB/s]\rDownloading alphafold2 weights to /root/.cache/colabfold:  25%|██▍       | 964M/3.82G [00:04<00:14, 219MB/s]\rDownloading alphafold2 weights to /root/.cache/colabfold:  25%|██▌       | 987M/3.82G [00:04<00:13, 222MB/s]\rDownloading alphafold2 weights to /root/.cache/colabfold:  26%|██▌       | 0.98G/3.82G [00:04<00:13, 225MB/s]\rDownloading alphafold2 weights to /root/.cache/colabfold:  26%|██▋       | 1.01G/3.82G [00:05<00:13, 229MB/s]\rDownloading alphafold2 weights to /root/.cache/colabfold:  27%|██▋       | 1.03G/3.82G [00:05<00:13, 229MB/s]\rDownloading alphafold2 weights to /root/.cache/colabfold:  27%|██▋       | 1.05G/3.82G [00:05<00:13, 227MB/s]\rDownloading alphafold2 weights to /root/.cache/colabfold:  28%|██▊       | 1.07G/3.82G [00:05<00:12, 232MB/s]\rDownloading alphafold2 weights to /root/.cache/colabfold:  29%|██▊       | 1.09G/3.82G [00:05<00:12, 230MB/s]\rDownloading alphafold2 weights to /root/.cache/colabfold:  29%|██▉       | 1.12G/3.82G [00:05<00:12, 238MB/s]\rDownloading alphafold2 weights to /root/.cache/colabfold:  30%|██▉       | 1.14G/3.82G [00:05<00:11, 240MB/s]\rDownloading alphafold2 weights to /root/.cache/colabfold:  30%|███       | 1.16G/3.82G [00:05<00:12, 222MB/s]\rDownloading alphafold2 weights to /root/.cache/colabfold:  31%|███       | 1.18G/3.82G [00:05<00:12, 219MB/s]\rDownloading alphafold2 weights to /root/.cache/colabfold:  32%|███▏      | 1.21G/3.82G [00:05<00:12, 221MB/s]\rDownloading alphafold2 weights to /root/.cache/colabfold:  32%|███▏      | 1.23G/3.82G [00:06<00:12, 223MB/s]\rDownloading alphafold2 weights to /root/.cache/colabfold:  33%|███▎      | 1.25G/3.82G [00:06<00:12, 226MB/s]\rDownloading alphafold2 weights to /root/.cache/colabfold:  33%|███▎      | 1.27G/3.82G [00:06<00:12, 221MB/s]\rDownloading alphafold2 weights to /root/.cache/colabfold:  34%|███▍      | 1.29G/3.82G [00:06<00:12, 223MB/s]\rDownloading alphafold2 weights to /root/.cache/colabfold:  34%|███▍      | 1.31G/3.82G [00:06<00:11, 226MB/s]\rDownloading alphafold2 weights to /root/.cache/colabfold:  35%|███▍      | 1.33G/3.82G [00:06<00:12, 205MB/s]\rDownloading alphafold2 weights to /root/.cache/colabfold:  36%|███▌      | 1.36G/3.82G [00:06<00:12, 219MB/s]\rDownloading alphafold2 weights to /root/.cache/colabfold:  36%|███▌      | 1.38G/3.82G [00:06<00:11, 226MB/s]\rDownloading alphafold2 weights to /root/.cache/colabfold:  37%|███▋      | 1.40G/3.82G [00:06<00:11, 232MB/s]\rDownloading alphafold2 weights to /root/.cache/colabfold:  37%|███▋      | 1.43G/3.82G [00:07<00:10, 237MB/s]\rDownloading alphafold2 weights to /root/.cache/colabfold:  38%|███▊      | 1.45G/3.82G [00:07<00:12, 203MB/s]\rDownloading alphafold2 weights to /root/.cache/colabfold:  38%|███▊      | 1.47G/3.82G [00:07<00:12, 207MB/s]\rDownloading alphafold2 weights to /root/.cache/colabfold:  39%|███▉      | 1.49G/3.82G [00:07<00:12, 208MB/s]\rDownloading alphafold2 weights to /root/.cache/colabfold:  40%|███▉      | 1.51G/3.82G [00:07<00:11, 215MB/s]\rDownloading alphafold2 weights to /root/.cache/colabfold:  40%|████      | 1.53G/3.82G [00:07<00:11, 220MB/s]\rDownloading alphafold2 weights to /root/.cache/colabfold:  41%|████      | 1.55G/3.82G [00:07<00:11, 217MB/s]\rDownloading alphafold2 weights to /root/.cache/colabfold:  41%|████      | 1.57G/3.82G [00:07<00:10, 219MB/s]\rDownloading alphafold2 weights to /root/.cache/colabfold:  42%|████▏     | 1.60G/3.82G [00:07<00:10, 223MB/s]\rDownloading alphafold2 weights to /root/.cache/colabfold:  42%|████▏     | 1.62G/3.82G [00:07<00:10, 234MB/s]\rDownloading alphafold2 weights to /root/.cache/colabfold:  43%|████▎     | 1.64G/3.82G [00:08<00:09, 238MB/s]\rDownloading alphafold2 weights to /root/.cache/colabfold:  44%|████▎     | 1.67G/3.82G [00:08<00:09, 238MB/s]\rDownloading alphafold2 weights to /root/.cache/colabfold:  44%|████▍     | 1.69G/3.82G [00:08<00:09, 239MB/s]\rDownloading alphafold2 weights to /root/.cache/colabfold:  45%|████▍     | 1.71G/3.82G [00:08<00:11, 196MB/s]\rDownloading alphafold2 weights to /root/.cache/colabfold:  45%|████▌     | 1.73G/3.82G [00:08<00:11, 202MB/s]\rDownloading alphafold2 weights to /root/.cache/colabfold:  46%|████▌     | 1.75G/3.82G [00:08<00:10, 210MB/s]\rDownloading alphafold2 weights to /root/.cache/colabfold:  46%|████▋     | 1.77G/3.82G [00:08<00:10, 215MB/s]\rDownloading alphafold2 weights to /root/.cache/colabfold:  47%|████▋     | 1.79G/3.82G [00:08<00:10, 216MB/s]\rDownloading alphafold2 weights to /root/.cache/colabfold:  48%|████▊     | 1.82G/3.82G [00:08<00:09, 218MB/s]\rDownloading alphafold2 weights to /root/.cache/colabfold:  48%|████▊     | 1.84G/3.82G [00:09<00:09, 226MB/s]\rDownloading alphafold2 weights to /root/.cache/colabfold:  49%|████▊     | 1.86G/3.82G [00:09<00:10, 196MB/s]\rDownloading alphafold2 weights to /root/.cache/colabfold:  49%|████▉     | 1.88G/3.82G [00:09<00:10, 198MB/s]\rDownloading alphafold2 weights to /root/.cache/colabfold:  50%|████▉     | 1.90G/3.82G [00:09<00:10, 201MB/s]\rDownloading alphafold2 weights to /root/.cache/colabfold:  50%|█████     | 1.92G/3.82G [00:09<00:10, 187MB/s]\rDownloading alphafold2 weights to /root/.cache/colabfold:  51%|█████     | 1.94G/3.82G [00:09<00:10, 195MB/s]\rDownloading alphafold2 weights to /root/.cache/colabfold:  51%|█████▏    | 1.96G/3.82G [00:09<00:09, 200MB/s]\rDownloading alphafold2 weights to /root/.cache/colabfold:  52%|█████▏    | 1.98G/3.82G [00:09<00:09, 208MB/s]\rDownloading alphafold2 weights to /root/.cache/colabfold:  52%|█████▏    | 2.00G/3.82G [00:09<00:08, 218MB/s]\rDownloading alphafold2 weights to /root/.cache/colabfold:  53%|█████▎    | 2.02G/3.82G [00:10<00:08, 226MB/s]\rDownloading alphafold2 weights to /root/.cache/colabfold:  54%|█████▎    | 2.04G/3.82G [00:10<00:08, 226MB/s]\rDownloading alphafold2 weights to /root/.cache/colabfold:  54%|█████▍    | 2.07G/3.82G [00:10<00:08, 231MB/s]\rDownloading alphafold2 weights to /root/.cache/colabfold:  55%|█████▍    | 2.09G/3.82G [00:10<00:08, 230MB/s]\rDownloading alphafold2 weights to /root/.cache/colabfold:  55%|█████▌    | 2.11G/3.82G [00:10<00:09, 193MB/s]\rDownloading alphafold2 weights to /root/.cache/colabfold:  56%|█████▌    | 2.13G/3.82G [00:10<00:09, 198MB/s]\rDownloading alphafold2 weights to /root/.cache/colabfold:  56%|█████▋    | 2.15G/3.82G [00:10<00:08, 204MB/s]\rDownloading alphafold2 weights to /root/.cache/colabfold:  57%|█████▋    | 2.17G/3.82G [00:10<00:08, 208MB/s]\rDownloading alphafold2 weights to /root/.cache/colabfold:  57%|█████▋    | 2.19G/3.82G [00:10<00:08, 211MB/s]\rDownloading alphafold2 weights to /root/.cache/colabfold:  58%|█████▊    | 2.21G/3.82G [00:11<00:07, 221MB/s]\rDownloading alphafold2 weights to /root/.cache/colabfold:  59%|█████▊    | 2.24G/3.82G [00:11<00:07, 216MB/s]\rDownloading alphafold2 weights to /root/.cache/colabfold:  59%|█████▉    | 2.26G/3.82G [00:11<00:07, 223MB/s]\rDownloading alphafold2 weights to /root/.cache/colabfold:  60%|█████▉    | 2.28G/3.82G [00:11<00:07, 231MB/s]\rDownloading alphafold2 weights to /root/.cache/colabfold:  60%|██████    | 2.30G/3.82G [00:11<00:07, 206MB/s]\rDownloading alphafold2 weights to /root/.cache/colabfold:  61%|██████    | 2.32G/3.82G [00:11<00:08, 194MB/s]\rDownloading alphafold2 weights to /root/.cache/colabfold:  61%|██████▏   | 2.34G/3.82G [00:11<00:08, 196MB/s]\rDownloading alphafold2 weights to /root/.cache/colabfold:  62%|██████▏   | 2.36G/3.82G [00:11<00:07, 206MB/s]\rDownloading alphafold2 weights to /root/.cache/colabfold:  62%|██████▏   | 2.38G/3.82G [00:11<00:07, 210MB/s]\rDownloading alphafold2 weights to /root/.cache/colabfold:  63%|██████▎   | 2.41G/3.82G [00:12<00:06, 223MB/s]\rDownloading alphafold2 weights to /root/.cache/colabfold:  64%|██████▎   | 2.43G/3.82G [00:12<00:06, 226MB/s]\rDownloading alphafold2 weights to /root/.cache/colabfold:  64%|██████▍   | 2.45G/3.82G [00:12<00:06, 226MB/s]\rDownloading alphafold2 weights to /root/.cache/colabfold:  65%|██████▍   | 2.47G/3.82G [00:12<00:06, 228MB/s]\rDownloading alphafold2 weights to /root/.cache/colabfold:  65%|██████▌   | 2.49G/3.82G [00:12<00:07, 179MB/s]\rDownloading alphafold2 weights to /root/.cache/colabfold:  66%|██████▌   | 2.51G/3.82G [00:12<00:07, 185MB/s]\rDownloading alphafold2 weights to /root/.cache/colabfold:  66%|██████▋   | 2.54G/3.82G [00:12<00:06, 203MB/s]\rDownloading alphafold2 weights to /root/.cache/colabfold:  67%|██████▋   | 2.56G/3.82G [00:12<00:06, 219MB/s]\rDownloading alphafold2 weights to /root/.cache/colabfold:  68%|██████▊   | 2.58G/3.82G [00:12<00:06, 205MB/s]\rDownloading alphafold2 weights to /root/.cache/colabfold:  68%|██████▊   | 2.60G/3.82G [00:13<00:06, 195MB/s]\rDownloading alphafold2 weights to /root/.cache/colabfold:  69%|██████▊   | 2.62G/3.82G [00:13<00:06, 200MB/s]\rDownloading alphafold2 weights to /root/.cache/colabfold:  69%|██████▉   | 2.64G/3.82G [00:13<00:06, 203MB/s]\rDownloading alphafold2 weights to /root/.cache/colabfold:  70%|██████▉   | 2.66G/3.82G [00:13<00:05, 210MB/s]\rDownloading alphafold2 weights to /root/.cache/colabfold:  70%|███████   | 2.68G/3.82G [00:13<00:05, 214MB/s]\rDownloading alphafold2 weights to /root/.cache/colabfold:  71%|███████   | 2.70G/3.82G [00:13<00:05, 215MB/s]\rDownloading alphafold2 weights to /root/.cache/colabfold:  71%|███████▏  | 2.72G/3.82G [00:13<00:05, 220MB/s]\rDownloading alphafold2 weights to /root/.cache/colabfold:  72%|███████▏  | 2.75G/3.82G [00:13<00:05, 229MB/s]\rDownloading alphafold2 weights to /root/.cache/colabfold:  73%|███████▎  | 2.77G/3.82G [00:13<00:05, 215MB/s]\rDownloading alphafold2 weights to /root/.cache/colabfold:  73%|███████▎  | 2.79G/3.82G [00:13<00:05, 216MB/s]\rDownloading alphafold2 weights to /root/.cache/colabfold:  74%|███████▎  | 2.81G/3.82G [00:14<00:04, 218MB/s]\rDownloading alphafold2 weights to /root/.cache/colabfold:  74%|███████▍  | 2.83G/3.82G [00:14<00:04, 217MB/s]\rDownloading alphafold2 weights to /root/.cache/colabfold:  75%|███████▍  | 2.85G/3.82G [00:14<00:04, 228MB/s]\rDownloading alphafold2 weights to /root/.cache/colabfold:  75%|███████▌  | 2.88G/3.82G [00:14<00:04, 234MB/s]\rDownloading alphafold2 weights to /root/.cache/colabfold:  76%|███████▌  | 2.90G/3.82G [00:14<00:04, 242MB/s]\rDownloading alphafold2 weights to /root/.cache/colabfold:  77%|███████▋  | 2.93G/3.82G [00:14<00:03, 243MB/s]\rDownloading alphafold2 weights to /root/.cache/colabfold:  77%|███████▋  | 2.95G/3.82G [00:14<00:04, 227MB/s]\rDownloading alphafold2 weights to /root/.cache/colabfold:  78%|███████▊  | 2.97G/3.82G [00:14<00:04, 210MB/s]\rDownloading alphafold2 weights to /root/.cache/colabfold:  78%|███████▊  | 2.99G/3.82G [00:14<00:04, 221MB/s]\rDownloading alphafold2 weights to /root/.cache/colabfold:  79%|███████▉  | 3.02G/3.82G [00:15<00:03, 230MB/s]\rDownloading alphafold2 weights to /root/.cache/colabfold:  80%|███████▉  | 3.04G/3.82G [00:15<00:03, 210MB/s]\rDownloading alphafold2 weights to /root/.cache/colabfold:  80%|████████  | 3.06G/3.82G [00:15<00:03, 210MB/s]\rDownloading alphafold2 weights to /root/.cache/colabfold:  81%|████████  | 3.08G/3.82G [00:15<00:03, 214MB/s]\rDownloading alphafold2 weights to /root/.cache/colabfold:  81%|████████  | 3.10G/3.82G [00:15<00:03, 219MB/s]\rDownloading alphafold2 weights to /root/.cache/colabfold:  82%|████████▏ | 3.12G/3.82G [00:15<00:03, 208MB/s]\rDownloading alphafold2 weights to /root/.cache/colabfold:  82%|████████▏ | 3.14G/3.82G [00:15<00:03, 198MB/s]\rDownloading alphafold2 weights to /root/.cache/colabfold:  83%|████████▎ | 3.16G/3.82G [00:15<00:03, 203MB/s]\rDownloading alphafold2 weights to /root/.cache/colabfold:  83%|████████▎ | 3.18G/3.82G [00:15<00:03, 207MB/s]\rDownloading alphafold2 weights to /root/.cache/colabfold:  84%|████████▍ | 3.20G/3.82G [00:16<00:03, 213MB/s]\rDownloading alphafold2 weights to /root/.cache/colabfold:  84%|████████▍ | 3.22G/3.82G [00:16<00:02, 217MB/s]\rDownloading alphafold2 weights to /root/.cache/colabfold:  85%|████████▍ | 3.24G/3.82G [00:16<00:02, 219MB/s]\rDownloading alphafold2 weights to /root/.cache/colabfold:  86%|████████▌ | 3.27G/3.82G [00:16<00:02, 224MB/s]\rDownloading alphafold2 weights to /root/.cache/colabfold:  86%|████████▌ | 3.29G/3.82G [00:16<00:02, 231MB/s]\rDownloading alphafold2 weights to /root/.cache/colabfold:  87%|████████▋ | 3.31G/3.82G [00:16<00:02, 233MB/s]\rDownloading alphafold2 weights to /root/.cache/colabfold:  87%|████████▋ | 3.33G/3.82G [00:16<00:02, 234MB/s]\rDownloading alphafold2 weights to /root/.cache/colabfold:  88%|████████▊ | 3.36G/3.82G [00:16<00:02, 205MB/s]\rDownloading alphafold2 weights to /root/.cache/colabfold:  88%|████████▊ | 3.38G/3.82G [00:16<00:02, 210MB/s]\rDownloading alphafold2 weights to /root/.cache/colabfold:  89%|████████▉ | 3.40G/3.82G [00:16<00:02, 219MB/s]\rDownloading alphafold2 weights to /root/.cache/colabfold:  90%|████████▉ | 3.42G/3.82G [00:17<00:01, 220MB/s]\rDownloading alphafold2 weights to /root/.cache/colabfold:  90%|█████████ | 3.44G/3.82G [00:17<00:01, 225MB/s]\rDownloading alphafold2 weights to /root/.cache/colabfold:  91%|█████████ | 3.46G/3.82G [00:17<00:01, 228MB/s]\rDownloading alphafold2 weights to /root/.cache/colabfold:  91%|█████████▏| 3.49G/3.82G [00:17<00:01, 233MB/s]\rDownloading alphafold2 weights to /root/.cache/colabfold:  92%|█████████▏| 3.51G/3.82G [00:17<00:02, 158MB/s]\rDownloading alphafold2 weights to /root/.cache/colabfold:  92%|█████████▏| 3.53G/3.82G [00:17<00:02, 117MB/s]\rDownloading alphafold2 weights to /root/.cache/colabfold:  93%|█████████▎| 3.54G/3.82G [00:18<00:02, 103MB/s]\rDownloading alphafold2 weights to /root/.cache/colabfold:  93%|█████████▎| 3.55G/3.82G [00:18<00:03, 93.1MB/s]\rDownloading alphafold2 weights to /root/.cache/colabfold:  93%|█████████▎| 3.56G/3.82G [00:18<00:03, 87.7MB/s]\rDownloading alphafold2 weights to /root/.cache/colabfold:  94%|█████████▍| 3.58G/3.82G [00:18<00:02, 108MB/s] \rDownloading alphafold2 weights to /root/.cache/colabfold:  94%|█████████▍| 3.60G/3.82G [00:18<00:01, 136MB/s]\rDownloading alphafold2 weights to /root/.cache/colabfold:  95%|█████████▍| 3.63G/3.82G [00:18<00:01, 159MB/s]\rDownloading alphafold2 weights to /root/.cache/colabfold:  95%|█████████▌| 3.64G/3.82G [00:18<00:01, 147MB/s]\rDownloading alphafold2 weights to /root/.cache/colabfold:  96%|█████████▌| 3.66G/3.82G [00:18<00:01, 159MB/s]\rDownloading alphafold2 weights to /root/.cache/colabfold:  96%|█████████▋| 3.68G/3.82G [00:19<00:00, 172MB/s]\rDownloading alphafold2 weights to /root/.cache/colabfold:  97%|█████████▋| 3.70G/3.82G [00:19<00:00, 184MB/s]\rDownloading alphafold2 weights to /root/.cache/colabfold:  97%|█████████▋| 3.72G/3.82G [00:19<00:00, 194MB/s]\rDownloading alphafold2 weights to /root/.cache/colabfold:  98%|█████████▊| 3.74G/3.82G [00:19<00:00, 201MB/s]\rDownloading alphafold2 weights to /root/.cache/colabfold:  99%|█████████▊| 3.76G/3.82G [00:19<00:00, 213MB/s]\rDownloading alphafold2 weights to /root/.cache/colabfold:  99%|█████████▉| 3.78G/3.82G [00:19<00:00, 165MB/s]\rDownloading alphafold2 weights to /root/.cache/colabfold: 100%|█████████▉| 3.80G/3.82G [00:19<00:00, 156MB/s]\rDownloading alphafold2 weights to /root/.cache/colabfold: 100%|██████████| 3.82G/3.82G [00:19<00:00, 206MB/s]\n",
            "\rDownloading alphafold2 weights to /root/.cache/colabfold:   0%|          | 0/3722752000 [00:00<?, ?it/s]\rDownloading alphafold2 weights to /root/.cache/colabfold:   0%|          | 8.47M/3.47G [00:00<00:41, 88.6MB/s]\rDownloading alphafold2 weights to /root/.cache/colabfold:   1%|          | 26.9M/3.47G [00:00<00:24, 150MB/s] \rDownloading alphafold2 weights to /root/.cache/colabfold:   1%|▏         | 48.2M/3.47G [00:00<00:20, 183MB/s]\rDownloading alphafold2 weights to /root/.cache/colabfold:   2%|▏         | 70.4M/3.47G [00:00<00:17, 203MB/s]\rDownloading alphafold2 weights to /root/.cache/colabfold:   3%|▎         | 92.1M/3.47G [00:00<00:17, 212MB/s]\rDownloading alphafold2 weights to /root/.cache/colabfold:   3%|▎         | 114M/3.47G [00:00<00:16, 219MB/s] \rDownloading alphafold2 weights to /root/.cache/colabfold:   4%|▍         | 135M/3.47G [00:00<00:16, 217MB/s]\rDownloading alphafold2 weights to /root/.cache/colabfold:   4%|▍         | 158M/3.47G [00:00<00:15, 225MB/s]\rDownloading alphafold2 weights to /root/.cache/colabfold:   5%|▌         | 180M/3.47G [00:00<00:15, 224MB/s]\rDownloading alphafold2 weights to /root/.cache/colabfold:   6%|▌         | 201M/3.47G [00:01<00:15, 224MB/s]\rDownloading alphafold2 weights to /root/.cache/colabfold:   6%|▋         | 223M/3.47G [00:01<00:17, 200MB/s]\rDownloading alphafold2 weights to /root/.cache/colabfold:   7%|▋         | 242M/3.47G [00:01<00:17, 201MB/s]\rDownloading alphafold2 weights to /root/.cache/colabfold:   7%|▋         | 263M/3.47G [00:01<00:16, 206MB/s]\rDownloading alphafold2 weights to /root/.cache/colabfold:   8%|▊         | 283M/3.47G [00:01<00:16, 206MB/s]\rDownloading alphafold2 weights to /root/.cache/colabfold:   9%|▊         | 303M/3.47G [00:01<00:16, 208MB/s]\rDownloading alphafold2 weights to /root/.cache/colabfold:   9%|▉         | 324M/3.47G [00:01<00:15, 212MB/s]\rDownloading alphafold2 weights to /root/.cache/colabfold:  10%|▉         | 345M/3.47G [00:01<00:15, 211MB/s]\rDownloading alphafold2 weights to /root/.cache/colabfold:  10%|█         | 365M/3.47G [00:01<00:18, 183MB/s]\rDownloading alphafold2 weights to /root/.cache/colabfold:  11%|█         | 389M/3.47G [00:02<00:16, 203MB/s]\rDownloading alphafold2 weights to /root/.cache/colabfold:  12%|█▏        | 412M/3.47G [00:02<00:15, 213MB/s]\rDownloading alphafold2 weights to /root/.cache/colabfold:  12%|█▏        | 435M/3.47G [00:02<00:14, 221MB/s]\rDownloading alphafold2 weights to /root/.cache/colabfold:  13%|█▎        | 458M/3.47G [00:02<00:14, 227MB/s]\rDownloading alphafold2 weights to /root/.cache/colabfold:  14%|█▎        | 480M/3.47G [00:02<00:14, 221MB/s]\rDownloading alphafold2 weights to /root/.cache/colabfold:  14%|█▍        | 502M/3.47G [00:02<00:16, 199MB/s]\rDownloading alphafold2 weights to /root/.cache/colabfold:  15%|█▍        | 522M/3.47G [00:02<00:15, 203MB/s]\rDownloading alphafold2 weights to /root/.cache/colabfold:  15%|█▌        | 542M/3.47G [00:02<00:15, 201MB/s]\rDownloading alphafold2 weights to /root/.cache/colabfold:  16%|█▌        | 561M/3.47G [00:02<00:15, 199MB/s]\rDownloading alphafold2 weights to /root/.cache/colabfold:  16%|█▋        | 582M/3.47G [00:02<00:15, 205MB/s]\rDownloading alphafold2 weights to /root/.cache/colabfold:  17%|█▋        | 604M/3.47G [00:03<00:14, 213MB/s]\rDownloading alphafold2 weights to /root/.cache/colabfold:  18%|█▊        | 627M/3.47G [00:03<00:13, 222MB/s]\rDownloading alphafold2 weights to /root/.cache/colabfold:  18%|█▊        | 649M/3.47G [00:03<00:15, 190MB/s]\rDownloading alphafold2 weights to /root/.cache/colabfold:  19%|█▉        | 669M/3.47G [00:03<00:15, 196MB/s]\rDownloading alphafold2 weights to /root/.cache/colabfold:  19%|█▉        | 688M/3.47G [00:03<00:15, 198MB/s]\rDownloading alphafold2 weights to /root/.cache/colabfold:  20%|█▉        | 709M/3.47G [00:03<00:14, 203MB/s]\rDownloading alphafold2 weights to /root/.cache/colabfold:  21%|██        | 729M/3.47G [00:03<00:14, 204MB/s]\rDownloading alphafold2 weights to /root/.cache/colabfold:  21%|██        | 751M/3.47G [00:03<00:13, 211MB/s]\rDownloading alphafold2 weights to /root/.cache/colabfold:  22%|██▏       | 771M/3.47G [00:03<00:14, 205MB/s]\rDownloading alphafold2 weights to /root/.cache/colabfold:  22%|██▏       | 793M/3.47G [00:04<00:13, 212MB/s]\rDownloading alphafold2 weights to /root/.cache/colabfold:  23%|██▎       | 815M/3.47G [00:04<00:13, 219MB/s]\rDownloading alphafold2 weights to /root/.cache/colabfold:  24%|██▎       | 836M/3.47G [00:04<00:14, 199MB/s]\rDownloading alphafold2 weights to /root/.cache/colabfold:  24%|██▍       | 856M/3.47G [00:04<00:13, 202MB/s]\rDownloading alphafold2 weights to /root/.cache/colabfold:  25%|██▍       | 876M/3.47G [00:04<00:13, 203MB/s]\rDownloading alphafold2 weights to /root/.cache/colabfold:  25%|██▌       | 896M/3.47G [00:04<00:13, 206MB/s]\rDownloading alphafold2 weights to /root/.cache/colabfold:  26%|██▌       | 916M/3.47G [00:04<00:13, 204MB/s]\rDownloading alphafold2 weights to /root/.cache/colabfold:  26%|██▋       | 936M/3.47G [00:04<00:13, 203MB/s]\rDownloading alphafold2 weights to /root/.cache/colabfold:  27%|██▋       | 958M/3.47G [00:04<00:12, 211MB/s]\rDownloading alphafold2 weights to /root/.cache/colabfold:  28%|██▊       | 978M/3.47G [00:04<00:13, 207MB/s]\rDownloading alphafold2 weights to /root/.cache/colabfold:  28%|██▊       | 999M/3.47G [00:05<00:12, 213MB/s]\rDownloading alphafold2 weights to /root/.cache/colabfold:  29%|██▉       | 1.00G/3.47G [00:05<00:12, 216MB/s]\rDownloading alphafold2 weights to /root/.cache/colabfold:  29%|██▉       | 1.02G/3.47G [00:05<00:12, 217MB/s]\rDownloading alphafold2 weights to /root/.cache/colabfold:  30%|██▉       | 1.04G/3.47G [00:05<00:14, 181MB/s]\rDownloading alphafold2 weights to /root/.cache/colabfold:  30%|███       | 1.06G/3.47G [00:05<00:13, 187MB/s]\rDownloading alphafold2 weights to /root/.cache/colabfold:  31%|███       | 1.08G/3.47G [00:05<00:13, 194MB/s]\rDownloading alphafold2 weights to /root/.cache/colabfold:  32%|███▏      | 1.10G/3.47G [00:05<00:12, 197MB/s]\rDownloading alphafold2 weights to /root/.cache/colabfold:  32%|███▏      | 1.12G/3.47G [00:05<00:12, 201MB/s]\rDownloading alphafold2 weights to /root/.cache/colabfold:  33%|███▎      | 1.14G/3.47G [00:05<00:11, 209MB/s]\rDownloading alphafold2 weights to /root/.cache/colabfold:  33%|███▎      | 1.16G/3.47G [00:06<00:11, 212MB/s]\rDownloading alphafold2 weights to /root/.cache/colabfold:  34%|███▍      | 1.18G/3.47G [00:06<00:11, 220MB/s]\rDownloading alphafold2 weights to /root/.cache/colabfold:  35%|███▍      | 1.20G/3.47G [00:06<00:10, 227MB/s]\rDownloading alphafold2 weights to /root/.cache/colabfold:  35%|███▌      | 1.22G/3.47G [00:06<00:12, 195MB/s]\rDownloading alphafold2 weights to /root/.cache/colabfold:  36%|███▌      | 1.24G/3.47G [00:06<00:11, 201MB/s]\rDownloading alphafold2 weights to /root/.cache/colabfold:  36%|███▋      | 1.26G/3.47G [00:06<00:11, 206MB/s]\rDownloading alphafold2 weights to /root/.cache/colabfold:  37%|███▋      | 1.28G/3.47G [00:06<00:11, 207MB/s]\rDownloading alphafold2 weights to /root/.cache/colabfold:  38%|███▊      | 1.30G/3.47G [00:06<00:11, 210MB/s]\rDownloading alphafold2 weights to /root/.cache/colabfold:  38%|███▊      | 1.32G/3.47G [00:06<00:10, 215MB/s]\rDownloading alphafold2 weights to /root/.cache/colabfold:  39%|███▉      | 1.35G/3.47G [00:07<00:11, 206MB/s]\rDownloading alphafold2 weights to /root/.cache/colabfold:  39%|███▉      | 1.36G/3.47G [00:07<00:11, 203MB/s]\rDownloading alphafold2 weights to /root/.cache/colabfold:  40%|███▉      | 1.39G/3.47G [00:07<00:11, 196MB/s]\rDownloading alphafold2 weights to /root/.cache/colabfold:  41%|████      | 1.41G/3.47G [00:07<00:10, 204MB/s]\rDownloading alphafold2 weights to /root/.cache/colabfold:  41%|████▏     | 1.43G/3.47G [00:07<00:10, 217MB/s]\rDownloading alphafold2 weights to /root/.cache/colabfold:  42%|████▏     | 1.45G/3.47G [00:07<00:11, 196MB/s]\rDownloading alphafold2 weights to /root/.cache/colabfold:  42%|████▏     | 1.47G/3.47G [00:07<00:10, 200MB/s]\rDownloading alphafold2 weights to /root/.cache/colabfold:  43%|████▎     | 1.49G/3.47G [00:07<00:10, 205MB/s]\rDownloading alphafold2 weights to /root/.cache/colabfold:  44%|████▎     | 1.51G/3.47G [00:07<00:10, 207MB/s]\rDownloading alphafold2 weights to /root/.cache/colabfold:  44%|████▍     | 1.53G/3.47G [00:07<00:09, 211MB/s]\rDownloading alphafold2 weights to /root/.cache/colabfold:  45%|████▍     | 1.55G/3.47G [00:08<00:09, 211MB/s]\rDownloading alphafold2 weights to /root/.cache/colabfold:  45%|████▌     | 1.57G/3.47G [00:08<00:09, 217MB/s]\rDownloading alphafold2 weights to /root/.cache/colabfold:  46%|████▌     | 1.60G/3.47G [00:08<00:08, 227MB/s]\rDownloading alphafold2 weights to /root/.cache/colabfold:  47%|████▋     | 1.62G/3.47G [00:08<00:08, 234MB/s]\rDownloading alphafold2 weights to /root/.cache/colabfold:  47%|████▋     | 1.64G/3.47G [00:08<00:09, 205MB/s]\rDownloading alphafold2 weights to /root/.cache/colabfold:  48%|████▊     | 1.66G/3.47G [00:08<00:09, 209MB/s]\rDownloading alphafold2 weights to /root/.cache/colabfold:  49%|████▊     | 1.68G/3.47G [00:08<00:09, 212MB/s]\rDownloading alphafold2 weights to /root/.cache/colabfold:  49%|████▉     | 1.70G/3.47G [00:08<00:08, 213MB/s]\rDownloading alphafold2 weights to /root/.cache/colabfold:  50%|████▉     | 1.72G/3.47G [00:08<00:08, 215MB/s]\rDownloading alphafold2 weights to /root/.cache/colabfold:  50%|█████     | 1.74G/3.47G [00:09<00:08, 213MB/s]\rDownloading alphafold2 weights to /root/.cache/colabfold:  51%|█████     | 1.76G/3.47G [00:09<00:08, 221MB/s]\rDownloading alphafold2 weights to /root/.cache/colabfold:  52%|█████▏    | 1.79G/3.47G [00:09<00:07, 230MB/s]\rDownloading alphafold2 weights to /root/.cache/colabfold:  52%|█████▏    | 1.81G/3.47G [00:09<00:07, 231MB/s]\rDownloading alphafold2 weights to /root/.cache/colabfold:  53%|█████▎    | 1.83G/3.47G [00:09<00:08, 211MB/s]\rDownloading alphafold2 weights to /root/.cache/colabfold:  53%|█████▎    | 1.85G/3.47G [00:09<00:07, 221MB/s]\rDownloading alphafold2 weights to /root/.cache/colabfold:  54%|█████▍    | 1.88G/3.47G [00:09<00:07, 229MB/s]\rDownloading alphafold2 weights to /root/.cache/colabfold:  55%|█████▍    | 1.90G/3.47G [00:09<00:07, 234MB/s]\rDownloading alphafold2 weights to /root/.cache/colabfold:  55%|█████▌    | 1.92G/3.47G [00:09<00:06, 241MB/s]\rDownloading alphafold2 weights to /root/.cache/colabfold:  56%|█████▌    | 1.95G/3.47G [00:10<00:08, 198MB/s]\rDownloading alphafold2 weights to /root/.cache/colabfold:  57%|█████▋    | 1.97G/3.47G [00:10<00:08, 199MB/s]\rDownloading alphafold2 weights to /root/.cache/colabfold:  57%|█████▋    | 1.99G/3.47G [00:10<00:07, 202MB/s]\rDownloading alphafold2 weights to /root/.cache/colabfold:  58%|█████▊    | 2.01G/3.47G [00:10<00:07, 207MB/s]\rDownloading alphafold2 weights to /root/.cache/colabfold:  58%|█████▊    | 2.03G/3.47G [00:10<00:07, 211MB/s]\rDownloading alphafold2 weights to /root/.cache/colabfold:  59%|█████▉    | 2.05G/3.47G [00:10<00:07, 215MB/s]\rDownloading alphafold2 weights to /root/.cache/colabfold:  60%|█████▉    | 2.07G/3.47G [00:10<00:06, 219MB/s]\rDownloading alphafold2 weights to /root/.cache/colabfold:  60%|██████    | 2.09G/3.47G [00:10<00:06, 218MB/s]\rDownloading alphafold2 weights to /root/.cache/colabfold:  61%|██████    | 2.11G/3.47G [00:10<00:06, 221MB/s]\rDownloading alphafold2 weights to /root/.cache/colabfold:  62%|██████▏   | 2.13G/3.47G [00:10<00:06, 229MB/s]\rDownloading alphafold2 weights to /root/.cache/colabfold:  62%|██████▏   | 2.16G/3.47G [00:11<00:06, 227MB/s]\rDownloading alphafold2 weights to /root/.cache/colabfold:  63%|██████▎   | 2.18G/3.47G [00:11<00:06, 200MB/s]\rDownloading alphafold2 weights to /root/.cache/colabfold:  63%|██████▎   | 2.20G/3.47G [00:11<00:06, 205MB/s]\rDownloading alphafold2 weights to /root/.cache/colabfold:  64%|██████▍   | 2.22G/3.47G [00:11<00:06, 208MB/s]\rDownloading alphafold2 weights to /root/.cache/colabfold:  65%|██████▍   | 2.24G/3.47G [00:11<00:06, 211MB/s]\rDownloading alphafold2 weights to /root/.cache/colabfold:  65%|██████▌   | 2.26G/3.47G [00:11<00:06, 213MB/s]\rDownloading alphafold2 weights to /root/.cache/colabfold:  66%|██████▌   | 2.28G/3.47G [00:11<00:05, 214MB/s]\rDownloading alphafold2 weights to /root/.cache/colabfold:  66%|██████▋   | 2.30G/3.47G [00:11<00:05, 215MB/s]\rDownloading alphafold2 weights to /root/.cache/colabfold:  67%|██████▋   | 2.32G/3.47G [00:11<00:05, 221MB/s]\rDownloading alphafold2 weights to /root/.cache/colabfold:  68%|██████▊   | 2.34G/3.47G [00:12<00:05, 229MB/s]\rDownloading alphafold2 weights to /root/.cache/colabfold:  68%|██████▊   | 2.37G/3.47G [00:12<00:05, 232MB/s]\rDownloading alphafold2 weights to /root/.cache/colabfold:  69%|██████▉   | 2.39G/3.47G [00:12<00:05, 231MB/s]\rDownloading alphafold2 weights to /root/.cache/colabfold:  69%|██████▉   | 2.41G/3.47G [00:12<00:04, 231MB/s]\rDownloading alphafold2 weights to /root/.cache/colabfold:  70%|███████   | 2.43G/3.47G [00:12<00:05, 189MB/s]\rDownloading alphafold2 weights to /root/.cache/colabfold:  71%|███████   | 2.45G/3.47G [00:12<00:05, 197MB/s]\rDownloading alphafold2 weights to /root/.cache/colabfold:  71%|███████▏  | 2.47G/3.47G [00:12<00:05, 206MB/s]\rDownloading alphafold2 weights to /root/.cache/colabfold:  72%|███████▏  | 2.49G/3.47G [00:12<00:04, 211MB/s]\rDownloading alphafold2 weights to /root/.cache/colabfold:  73%|███████▎  | 2.51G/3.47G [00:12<00:04, 215MB/s]\rDownloading alphafold2 weights to /root/.cache/colabfold:  73%|███████▎  | 2.53G/3.47G [00:12<00:04, 218MB/s]\rDownloading alphafold2 weights to /root/.cache/colabfold:  74%|███████▎  | 2.56G/3.47G [00:13<00:04, 220MB/s]\rDownloading alphafold2 weights to /root/.cache/colabfold:  74%|███████▍  | 2.58G/3.47G [00:13<00:04, 218MB/s]\rDownloading alphafold2 weights to /root/.cache/colabfold:  75%|███████▍  | 2.60G/3.47G [00:13<00:04, 218MB/s]\rDownloading alphafold2 weights to /root/.cache/colabfold:  75%|███████▌  | 2.62G/3.47G [00:13<00:04, 211MB/s]\rDownloading alphafold2 weights to /root/.cache/colabfold:  76%|███████▌  | 2.64G/3.47G [00:13<00:04, 199MB/s]\rDownloading alphafold2 weights to /root/.cache/colabfold:  77%|███████▋  | 2.66G/3.47G [00:13<00:04, 197MB/s]\rDownloading alphafold2 weights to /root/.cache/colabfold:  77%|███████▋  | 2.68G/3.47G [00:13<00:04, 206MB/s]\rDownloading alphafold2 weights to /root/.cache/colabfold:  78%|███████▊  | 2.70G/3.47G [00:13<00:03, 211MB/s]\rDownloading alphafold2 weights to /root/.cache/colabfold:  78%|███████▊  | 2.72G/3.47G [00:13<00:03, 214MB/s]\rDownloading alphafold2 weights to /root/.cache/colabfold:  79%|███████▉  | 2.74G/3.47G [00:14<00:03, 219MB/s]\rDownloading alphafold2 weights to /root/.cache/colabfold:  80%|███████▉  | 2.76G/3.47G [00:14<00:03, 218MB/s]\rDownloading alphafold2 weights to /root/.cache/colabfold:  80%|████████  | 2.78G/3.47G [00:14<00:03, 212MB/s]\rDownloading alphafold2 weights to /root/.cache/colabfold:  81%|████████  | 2.80G/3.47G [00:14<00:03, 222MB/s]\rDownloading alphafold2 weights to /root/.cache/colabfold:  82%|████████▏ | 2.83G/3.47G [00:14<00:03, 225MB/s]\rDownloading alphafold2 weights to /root/.cache/colabfold:  82%|████████▏ | 2.85G/3.47G [00:14<00:02, 228MB/s]\rDownloading alphafold2 weights to /root/.cache/colabfold:  83%|████████▎ | 2.87G/3.47G [00:14<00:03, 204MB/s]\rDownloading alphafold2 weights to /root/.cache/colabfold:  83%|████████▎ | 2.89G/3.47G [00:14<00:02, 208MB/s]\rDownloading alphafold2 weights to /root/.cache/colabfold:  84%|████████▍ | 2.91G/3.47G [00:14<00:02, 212MB/s]\rDownloading alphafold2 weights to /root/.cache/colabfold:  85%|████████▍ | 2.93G/3.47G [00:14<00:02, 219MB/s]\rDownloading alphafold2 weights to /root/.cache/colabfold:  85%|████████▌ | 2.95G/3.47G [00:15<00:02, 218MB/s]\rDownloading alphafold2 weights to /root/.cache/colabfold:  86%|████████▌ | 2.97G/3.47G [00:15<00:02, 216MB/s]\rDownloading alphafold2 weights to /root/.cache/colabfold:  86%|████████▋ | 2.99G/3.47G [00:15<00:02, 210MB/s]\rDownloading alphafold2 weights to /root/.cache/colabfold:  87%|████████▋ | 3.02G/3.47G [00:15<00:02, 220MB/s]\rDownloading alphafold2 weights to /root/.cache/colabfold:  88%|████████▊ | 3.04G/3.47G [00:15<00:02, 227MB/s]\rDownloading alphafold2 weights to /root/.cache/colabfold:  88%|████████▊ | 3.06G/3.47G [00:15<00:01, 233MB/s]\rDownloading alphafold2 weights to /root/.cache/colabfold:  89%|████████▉ | 3.08G/3.47G [00:15<00:02, 204MB/s]\rDownloading alphafold2 weights to /root/.cache/colabfold:  90%|████████▉ | 3.10G/3.47G [00:15<00:01, 207MB/s]\rDownloading alphafold2 weights to /root/.cache/colabfold:  90%|█████████ | 3.12G/3.47G [00:15<00:01, 204MB/s]\rDownloading alphafold2 weights to /root/.cache/colabfold:  91%|█████████ | 3.15G/3.47G [00:16<00:01, 215MB/s]\rDownloading alphafold2 weights to /root/.cache/colabfold:  91%|█████████▏| 3.17G/3.47G [00:16<00:01, 213MB/s]\rDownloading alphafold2 weights to /root/.cache/colabfold:  92%|█████████▏| 3.19G/3.47G [00:16<00:01, 221MB/s]\rDownloading alphafold2 weights to /root/.cache/colabfold:  93%|█████████▎| 3.21G/3.47G [00:16<00:01, 223MB/s]\rDownloading alphafold2 weights to /root/.cache/colabfold:  93%|█████████▎| 3.23G/3.47G [00:16<00:01, 226MB/s]\rDownloading alphafold2 weights to /root/.cache/colabfold:  94%|█████████▍| 3.25G/3.47G [00:16<00:01, 224MB/s]\rDownloading alphafold2 weights to /root/.cache/colabfold:  95%|█████████▍| 3.28G/3.47G [00:16<00:00, 232MB/s]\rDownloading alphafold2 weights to /root/.cache/colabfold:  95%|█████████▌| 3.30G/3.47G [00:16<00:00, 220MB/s]\rDownloading alphafold2 weights to /root/.cache/colabfold:  96%|█████████▌| 3.32G/3.47G [00:16<00:00, 195MB/s]\rDownloading alphafold2 weights to /root/.cache/colabfold:  96%|█████████▋| 3.34G/3.47G [00:17<00:00, 210MB/s]\rDownloading alphafold2 weights to /root/.cache/colabfold:  97%|█████████▋| 3.37G/3.47G [00:17<00:00, 220MB/s]\rDownloading alphafold2 weights to /root/.cache/colabfold:  98%|█████████▊| 3.39G/3.47G [00:17<00:00, 227MB/s]\rDownloading alphafold2 weights to /root/.cache/colabfold:  98%|█████████▊| 3.41G/3.47G [00:17<00:00, 227MB/s]\rDownloading alphafold2 weights to /root/.cache/colabfold:  99%|█████████▉| 3.43G/3.47G [00:17<00:00, 194MB/s]\rDownloading alphafold2 weights to /root/.cache/colabfold: 100%|█████████▉| 3.45G/3.47G [00:17<00:00, 194MB/s]\rDownloading alphafold2 weights to /root/.cache/colabfold: 100%|██████████| 3.47G/3.47G [00:17<00:00, 211MB/s]\n"
          ]
        }
      ]
    },
    {
      "cell_type": "code",
      "metadata": {
        "id": "hUYApPElB30u",
        "outputId": "1fb61cc3-f8f2-41c5-b697-3e74e83b35f9",
        "colab": {
          "base_uri": "https://localhost:8080/"
        }
      },
      "source": [
        "#@title Run Prediction\n",
        "\n",
        "import sys\n",
        "\n",
        "from colabfold.batch import get_queries, run\n",
        "from colabfold.download import default_data_dir\n",
        "from colabfold.utils import setup_logging\n",
        "from pathlib import Path\n",
        "\n",
        "# For some reason we need that to get pdbfixer to import\n",
        "if use_amber and '/usr/local/lib/python3.7/site-packages/' not in sys.path:\n",
        "    sys.path.insert(0, '/usr/local/lib/python3.7/site-packages/')\n",
        "\n",
        "setup_logging(Path(result_dir).joinpath(\"log.txt\"))\n",
        "queries, is_complex = get_queries(input_dir)\n",
        "run(\n",
        "    queries=queries,\n",
        "    result_dir=result_dir,\n",
        "    use_templates=use_templates,\n",
        "    use_amber=use_amber,\n",
        "    msa_mode=msa_mode,\n",
        "    model_type=\"auto\",\n",
        "    num_models=num_models,\n",
        "    num_recycles=num_recycles,\n",
        "    model_order=[3, 4, 5, 1, 2],\n",
        "    is_complex=is_complex,\n",
        "    data_dir=default_data_dir,\n",
        "    keep_existing_results=do_not_overwrite_results,\n",
        "    rank_by=\"auto\",\n",
        "    pair_mode=\"unpaired+paired\",\n",
        "    stop_at_score=stop_at_score,\n",
        "    zip_results=zip_results,\n",
        ")"
      ],
      "execution_count": 5,
      "outputs": [
        {
          "output_type": "stream",
          "name": "stdout",
          "text": [
            "2022-06-29 12:13:51,620 Found 5 citations for tools or databases\n",
            "2022-06-29 12:13:59,060 Skipping AGAP006228-RA (already done)\n",
            "2022-06-29 12:13:59,064 Skipping CPIJ013917 (already done)\n",
            "2022-06-29 12:13:59,065 Skipping CQUJHB000812 (already done)\n",
            "2022-06-29 12:13:59,066 Skipping CQUJHB006176 (already done)\n",
            "2022-06-29 12:13:59,069 Skipping AARA015818 (already done)\n",
            "2022-06-29 12:13:59,071 Skipping AGAP006227-RA (already done)\n",
            "2022-06-29 12:13:59,073 Skipping AARA007309 (already done)\n",
            "2022-06-29 12:13:59,074 Query 8/8: CPIJ013918 (length 545)\n",
            "2022-06-29 12:14:03,643 Running model_3\n",
            "2022-06-29 12:22:54,773 model_3 took 512.1s (3 recycles) with pLDDT 93.8 and ptmscore 0.889\n",
            "2022-06-29 12:23:44,164 Running model_4\n",
            "2022-06-29 12:31:51,589 model_4 took 471.4s (3 recycles) with pLDDT 93.4 and ptmscore 0.892\n",
            "2022-06-29 12:32:40,003 Running model_5\n",
            "2022-06-29 12:40:45,359 model_5 took 470.0s (3 recycles) with pLDDT 95.1 and ptmscore 0.891\n",
            "2022-06-29 12:41:32,176 Running model_1\n",
            "2022-06-29 12:49:38,058 model_1 took 471.0s (3 recycles) with pLDDT 94.4 and ptmscore 0.881\n",
            "2022-06-29 12:50:26,757 Running model_2\n",
            "2022-06-29 12:58:35,536 model_2 took 473.2s (3 recycles) with pLDDT 93.8 and ptmscore 0.887\n",
            "2022-06-29 12:59:22,488 reranking models by plddt\n",
            "2022-06-29 12:59:30,121 Done\n"
          ]
        }
      ]
    },
    {
      "cell_type": "markdown",
      "metadata": {
        "id": "UGUBLzB3C6WN"
      },
      "source": [
        "# Instructions <a name=\"Instructions\"></a>\n",
        "**Quick start**\n",
        "1. Upload your single fasta files to a folder in your Google Drive\n",
        "2. Define path to the fold containing the fasta files (`input_dir`) define an outdir (`output_dir`)\n",
        "3. Press \"Runtime\" -> \"Run all\".\n",
        "\n",
        "**Result zip file contents**\n",
        "\n",
        "At the end of the job a all results `jobname.result.zip` will be uploaded to your (`output_dir`) Google Drive. Each zip contains one protein.\n",
        "\n",
        "1. PDB formatted structures sorted by avg. pIDDT. (unrelaxed and relaxed if `use_amber` is enabled).\n",
        "2. Plots of the model quality.\n",
        "3. Plots of the MSA coverage.\n",
        "4. Parameter log file.\n",
        "5. A3M formatted input MSA.\n",
        "6. BibTeX file with citations for all used tools and databases.\n",
        "\n",
        "\n",
        "**Troubleshooting**\n",
        "* Check that the runtime type is set to GPU at \"Runtime\" -> \"Change runtime type\".\n",
        "* Try to restart the session \"Runtime\" -> \"Factory reset runtime\".\n",
        "* Check your input sequence.\n",
        "\n",
        "**Known issues**\n",
        "* Google Colab assigns different types of GPUs with varying amount of memory. Some might not have enough memory to predict the structure for a long sequence.\n",
        "* Google Colab assigns different types of GPUs with varying amount of memory. Some might not have enough memory to predict the structure for a long sequence.\n",
        "* Your browser can block the pop-up for downloading the result file. You can choose the `save_to_google_drive` option to upload to Google Drive instead or manually download the result file: Click on the little folder icon to the left, navigate to file: `jobname.result.zip`, right-click and select \\\"Download\\\" (see [screenshot](https://pbs.twimg.com/media/E6wRW2lWUAEOuoe?format=jpg&name=small)).\n",
        "\n",
        "**Limitations**\n",
        "* Computing resources: Our MMseqs2 API can handle ~20-50k requests per day.\n",
        "* MSAs: MMseqs2 is very precise and sensitive but might find less hits compared to HHblits/HMMer searched against BFD or Mgnify.\n",
        "* We recommend to additionally use the full [AlphaFold2 pipeline](https://github.com/deepmind/alphafold).\n",
        "\n",
        "**Description of the plots**\n",
        "*   **Number of sequences per position** - We want to see at least 30 sequences per position, for best performance, ideally 100 sequences.\n",
        "*   **Predicted lDDT per position** - model confidence (out of 100) at each position. The higher the better.\n",
        "*   **Predicted Alignment Error** - For homooligomers, this could be a useful metric to assess how confident the model is about the interface. The lower the better.\n",
        "\n",
        "**Bugs**\n",
        "- If you encounter any bugs, please report the issue to https://github.com/sokrypton/ColabFold/issues\n",
        "\n",
        "**License**\n",
        "\n",
        "The source code of ColabFold is licensed under [MIT](https://raw.githubusercontent.com/sokrypton/ColabFold/main/LICENSE). Additionally, this notebook uses AlphaFold2 source code and its parameters licensed under [Apache 2.0](https://raw.githubusercontent.com/deepmind/alphafold/main/LICENSE) and  [CC BY 4.0](https://creativecommons.org/licenses/by-sa/4.0/) respectively. Read more about the AlphaFold license [here](https://github.com/deepmind/alphafold).\n",
        "\n",
        "**Acknowledgments**\n",
        "- We thank the AlphaFold team for developing an excellent model and open sourcing the software. \n",
        "\n",
        "- [Söding Lab](https://www.mpibpc.mpg.de/soeding) for providing the computational resources for the MMseqs2 server\n",
        "\n",
        "- Do-Yoon Kim for creating the ColabFold logo.\n",
        "\n",
        "- A colab by Sergey Ovchinnikov ([@sokrypton](https://twitter.com/sokrypton)), Milot Mirdita ([@milot_mirdita](https://twitter.com/milot_mirdita)) and Martin Steinegger ([@thesteinegger](https://twitter.com/thesteinegger)).\n"
      ]
    }
  ]
}