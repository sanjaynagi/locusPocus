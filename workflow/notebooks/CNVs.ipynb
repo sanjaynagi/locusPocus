{
 "cells": [
  {
   "cell_type": "code",
   "execution_count": 1,
   "id": "ea1d5106",
   "metadata": {},
   "outputs": [
    {
     "data": {
      "text/html": [
       "\n",
       "    <div class=\"bk-root\">\n",
       "        <a href=\"https://bokeh.org\" target=\"_blank\" class=\"bk-logo bk-logo-small bk-logo-notebook\"></a>\n",
       "        <span id=\"1002\">Loading BokehJS ...</span>\n",
       "    </div>"
      ]
     },
     "metadata": {},
     "output_type": "display_data"
    },
    {
     "data": {
      "application/javascript": "\n(function(root) {\n  function now() {\n    return new Date();\n  }\n\n  const force = true;\n\n  if (typeof root._bokeh_onload_callbacks === \"undefined\" || force === true) {\n    root._bokeh_onload_callbacks = [];\n    root._bokeh_is_loading = undefined;\n  }\n\n  const JS_MIME_TYPE = 'application/javascript';\n  const HTML_MIME_TYPE = 'text/html';\n  const EXEC_MIME_TYPE = 'application/vnd.bokehjs_exec.v0+json';\n  const CLASS_NAME = 'output_bokeh rendered_html';\n\n  /**\n   * Render data to the DOM node\n   */\n  function render(props, node) {\n    const script = document.createElement(\"script\");\n    node.appendChild(script);\n  }\n\n  /**\n   * Handle when an output is cleared or removed\n   */\n  function handleClearOutput(event, handle) {\n    const cell = handle.cell;\n\n    const id = cell.output_area._bokeh_element_id;\n    const server_id = cell.output_area._bokeh_server_id;\n    // Clean up Bokeh references\n    if (id != null && id in Bokeh.index) {\n      Bokeh.index[id].model.document.clear();\n      delete Bokeh.index[id];\n    }\n\n    if (server_id !== undefined) {\n      // Clean up Bokeh references\n      const cmd_clean = \"from bokeh.io.state import curstate; print(curstate().uuid_to_server['\" + server_id + \"'].get_sessions()[0].document.roots[0]._id)\";\n      cell.notebook.kernel.execute(cmd_clean, {\n        iopub: {\n          output: function(msg) {\n            const id = msg.content.text.trim();\n            if (id in Bokeh.index) {\n              Bokeh.index[id].model.document.clear();\n              delete Bokeh.index[id];\n            }\n          }\n        }\n      });\n      // Destroy server and session\n      const cmd_destroy = \"import bokeh.io.notebook as ion; ion.destroy_server('\" + server_id + \"')\";\n      cell.notebook.kernel.execute(cmd_destroy);\n    }\n  }\n\n  /**\n   * Handle when a new output is added\n   */\n  function handleAddOutput(event, handle) {\n    const output_area = handle.output_area;\n    const output = handle.output;\n\n    // limit handleAddOutput to display_data with EXEC_MIME_TYPE content only\n    if ((output.output_type != \"display_data\") || (!Object.prototype.hasOwnProperty.call(output.data, EXEC_MIME_TYPE))) {\n      return\n    }\n\n    const toinsert = output_area.element.find(\".\" + CLASS_NAME.split(' ')[0]);\n\n    if (output.metadata[EXEC_MIME_TYPE][\"id\"] !== undefined) {\n      toinsert[toinsert.length - 1].firstChild.textContent = output.data[JS_MIME_TYPE];\n      // store reference to embed id on output_area\n      output_area._bokeh_element_id = output.metadata[EXEC_MIME_TYPE][\"id\"];\n    }\n    if (output.metadata[EXEC_MIME_TYPE][\"server_id\"] !== undefined) {\n      const bk_div = document.createElement(\"div\");\n      bk_div.innerHTML = output.data[HTML_MIME_TYPE];\n      const script_attrs = bk_div.children[0].attributes;\n      for (let i = 0; i < script_attrs.length; i++) {\n        toinsert[toinsert.length - 1].firstChild.setAttribute(script_attrs[i].name, script_attrs[i].value);\n        toinsert[toinsert.length - 1].firstChild.textContent = bk_div.children[0].textContent\n      }\n      // store reference to server id on output_area\n      output_area._bokeh_server_id = output.metadata[EXEC_MIME_TYPE][\"server_id\"];\n    }\n  }\n\n  function register_renderer(events, OutputArea) {\n\n    function append_mime(data, metadata, element) {\n      // create a DOM node to render to\n      const toinsert = this.create_output_subarea(\n        metadata,\n        CLASS_NAME,\n        EXEC_MIME_TYPE\n      );\n      this.keyboard_manager.register_events(toinsert);\n      // Render to node\n      const props = {data: data, metadata: metadata[EXEC_MIME_TYPE]};\n      render(props, toinsert[toinsert.length - 1]);\n      element.append(toinsert);\n      return toinsert\n    }\n\n    /* Handle when an output is cleared or removed */\n    events.on('clear_output.CodeCell', handleClearOutput);\n    events.on('delete.Cell', handleClearOutput);\n\n    /* Handle when a new output is added */\n    events.on('output_added.OutputArea', handleAddOutput);\n\n    /**\n     * Register the mime type and append_mime function with output_area\n     */\n    OutputArea.prototype.register_mime_type(EXEC_MIME_TYPE, append_mime, {\n      /* Is output safe? */\n      safe: true,\n      /* Index of renderer in `output_area.display_order` */\n      index: 0\n    });\n  }\n\n  // register the mime type if in Jupyter Notebook environment and previously unregistered\n  if (root.Jupyter !== undefined) {\n    const events = require('base/js/events');\n    const OutputArea = require('notebook/js/outputarea').OutputArea;\n\n    if (OutputArea.prototype.mime_types().indexOf(EXEC_MIME_TYPE) == -1) {\n      register_renderer(events, OutputArea);\n    }\n  }\n\n  \n  if (typeof (root._bokeh_timeout) === \"undefined\" || force === true) {\n    root._bokeh_timeout = Date.now() + 5000;\n    root._bokeh_failed_load = false;\n  }\n\n  const NB_LOAD_WARNING = {'data': {'text/html':\n     \"<div style='background-color: #fdd'>\\n\"+\n     \"<p>\\n\"+\n     \"BokehJS does not appear to have successfully loaded. If loading BokehJS from CDN, this \\n\"+\n     \"may be due to a slow or bad network connection. Possible fixes:\\n\"+\n     \"</p>\\n\"+\n     \"<ul>\\n\"+\n     \"<li>re-rerun `output_notebook()` to attempt to load from CDN again, or</li>\\n\"+\n     \"<li>use INLINE resources instead, as so:</li>\\n\"+\n     \"</ul>\\n\"+\n     \"<code>\\n\"+\n     \"from bokeh.resources import INLINE\\n\"+\n     \"output_notebook(resources=INLINE)\\n\"+\n     \"</code>\\n\"+\n     \"</div>\"}};\n\n  function display_loaded() {\n    const el = document.getElementById(\"1002\");\n    if (el != null) {\n      el.textContent = \"BokehJS is loading...\";\n    }\n    if (root.Bokeh !== undefined) {\n      if (el != null) {\n        el.textContent = \"BokehJS \" + root.Bokeh.version + \" successfully loaded.\";\n      }\n    } else if (Date.now() < root._bokeh_timeout) {\n      setTimeout(display_loaded, 100)\n    }\n  }\n\n\n  function run_callbacks() {\n    try {\n      root._bokeh_onload_callbacks.forEach(function(callback) {\n        if (callback != null)\n          callback();\n      });\n    } finally {\n      delete root._bokeh_onload_callbacks\n    }\n    console.debug(\"Bokeh: all callbacks have finished\");\n  }\n\n  function load_libs(css_urls, js_urls, callback) {\n    if (css_urls == null) css_urls = [];\n    if (js_urls == null) js_urls = [];\n\n    root._bokeh_onload_callbacks.push(callback);\n    if (root._bokeh_is_loading > 0) {\n      console.debug(\"Bokeh: BokehJS is being loaded, scheduling callback at\", now());\n      return null;\n    }\n    if (js_urls == null || js_urls.length === 0) {\n      run_callbacks();\n      return null;\n    }\n    console.debug(\"Bokeh: BokehJS not loaded, scheduling load and callback at\", now());\n    root._bokeh_is_loading = css_urls.length + js_urls.length;\n\n    function on_load() {\n      root._bokeh_is_loading--;\n      if (root._bokeh_is_loading === 0) {\n        console.debug(\"Bokeh: all BokehJS libraries/stylesheets loaded\");\n        run_callbacks()\n      }\n    }\n\n    function on_error(url) {\n      console.error(\"failed to load \" + url);\n    }\n\n    for (let i = 0; i < css_urls.length; i++) {\n      const url = css_urls[i];\n      const element = document.createElement(\"link\");\n      element.onload = on_load;\n      element.onerror = on_error.bind(null, url);\n      element.rel = \"stylesheet\";\n      element.type = \"text/css\";\n      element.href = url;\n      console.debug(\"Bokeh: injecting link tag for BokehJS stylesheet: \", url);\n      document.body.appendChild(element);\n    }\n\n    for (let i = 0; i < js_urls.length; i++) {\n      const url = js_urls[i];\n      const element = document.createElement('script');\n      element.onload = on_load;\n      element.onerror = on_error.bind(null, url);\n      element.async = false;\n      element.src = url;\n      console.debug(\"Bokeh: injecting script tag for BokehJS library: \", url);\n      document.head.appendChild(element);\n    }\n  };\n\n  function inject_raw_css(css) {\n    const element = document.createElement(\"style\");\n    element.appendChild(document.createTextNode(css));\n    document.body.appendChild(element);\n  }\n\n  \n  const js_urls = [\"https://cdn.bokeh.org/bokeh/release/bokeh-2.4.2.min.js\", \"https://cdn.bokeh.org/bokeh/release/bokeh-gl-2.4.2.min.js\", \"https://cdn.bokeh.org/bokeh/release/bokeh-widgets-2.4.2.min.js\", \"https://cdn.bokeh.org/bokeh/release/bokeh-tables-2.4.2.min.js\", \"https://cdn.bokeh.org/bokeh/release/bokeh-mathjax-2.4.2.min.js\"];\n  const css_urls = [];\n  \n\n  const inline_js = [\n    function(Bokeh) {\n      Bokeh.set_log_level(\"info\");\n    },\n    function(Bokeh) {\n    \n    \n    }\n  ];\n\n  function run_inline_js() {\n    \n    if (root.Bokeh !== undefined || force === true) {\n      \n    for (let i = 0; i < inline_js.length; i++) {\n      inline_js[i].call(root, root.Bokeh);\n    }\n    if (force === true) {\n        display_loaded();\n      }} else if (Date.now() < root._bokeh_timeout) {\n      setTimeout(run_inline_js, 100);\n    } else if (!root._bokeh_failed_load) {\n      console.log(\"Bokeh: BokehJS failed to load within specified timeout.\");\n      root._bokeh_failed_load = true;\n    } else if (force !== true) {\n      const cell = $(document.getElementById(\"1002\")).parents('.cell').data().cell;\n      cell.output_area.append_execute_result(NB_LOAD_WARNING)\n    }\n\n  }\n\n  if (root._bokeh_is_loading === 0) {\n    console.debug(\"Bokeh: BokehJS loaded, going straight to plotting\");\n    run_inline_js();\n  } else {\n    load_libs(css_urls, js_urls, function() {\n      console.debug(\"Bokeh: BokehJS plotting callback run at\", now());\n      run_inline_js();\n    });\n  }\n}(window));",
      "application/vnd.bokehjs_load.v0+json": ""
     },
     "metadata": {},
     "output_type": "display_data"
    }
   ],
   "source": [
    "import sys\n",
    "# adding Folder_2 to the system path\n",
    "sys.path.insert(0, '/home/sanj/projects/gaardian/workflow/scripts/')\n",
    "import probetools as probe\n",
    "\n",
    "%run hapclust.py\n",
    "\n",
    "import numpy as np \n",
    "import allel\n",
    "import bokeh\n",
    "import bokeh.plotting\n",
    "import malariagen_data\n",
    "%matplotlib inline\n",
    "\n",
    "import bokeh.io as bkio\n",
    "bkio.output_notebook()"
   ]
  },
  {
   "cell_type": "markdown",
   "id": "59dfd496",
   "metadata": {},
   "source": [
    "### CNVs and the coeae1f region"
   ]
  },
  {
   "cell_type": "code",
   "execution_count": null,
   "id": "9e066133",
   "metadata": {},
   "outputs": [],
   "source": [
    "cnv_breakpoints = [28542695, 28551033] # baguida and obuasi CNV"
   ]
  },
  {
   "cell_type": "code",
   "execution_count": 2,
   "id": "d1583bd2",
   "metadata": {},
   "outputs": [
    {
     "data": {
      "application/javascript": "\n(function(root) {\n  function now() {\n    return new Date();\n  }\n\n  const force = true;\n\n  if (typeof root._bokeh_onload_callbacks === \"undefined\" || force === true) {\n    root._bokeh_onload_callbacks = [];\n    root._bokeh_is_loading = undefined;\n  }\n\n  const JS_MIME_TYPE = 'application/javascript';\n  const HTML_MIME_TYPE = 'text/html';\n  const EXEC_MIME_TYPE = 'application/vnd.bokehjs_exec.v0+json';\n  const CLASS_NAME = 'output_bokeh rendered_html';\n\n  /**\n   * Render data to the DOM node\n   */\n  function render(props, node) {\n    const script = document.createElement(\"script\");\n    node.appendChild(script);\n  }\n\n  /**\n   * Handle when an output is cleared or removed\n   */\n  function handleClearOutput(event, handle) {\n    const cell = handle.cell;\n\n    const id = cell.output_area._bokeh_element_id;\n    const server_id = cell.output_area._bokeh_server_id;\n    // Clean up Bokeh references\n    if (id != null && id in Bokeh.index) {\n      Bokeh.index[id].model.document.clear();\n      delete Bokeh.index[id];\n    }\n\n    if (server_id !== undefined) {\n      // Clean up Bokeh references\n      const cmd_clean = \"from bokeh.io.state import curstate; print(curstate().uuid_to_server['\" + server_id + \"'].get_sessions()[0].document.roots[0]._id)\";\n      cell.notebook.kernel.execute(cmd_clean, {\n        iopub: {\n          output: function(msg) {\n            const id = msg.content.text.trim();\n            if (id in Bokeh.index) {\n              Bokeh.index[id].model.document.clear();\n              delete Bokeh.index[id];\n            }\n          }\n        }\n      });\n      // Destroy server and session\n      const cmd_destroy = \"import bokeh.io.notebook as ion; ion.destroy_server('\" + server_id + \"')\";\n      cell.notebook.kernel.execute(cmd_destroy);\n    }\n  }\n\n  /**\n   * Handle when a new output is added\n   */\n  function handleAddOutput(event, handle) {\n    const output_area = handle.output_area;\n    const output = handle.output;\n\n    // limit handleAddOutput to display_data with EXEC_MIME_TYPE content only\n    if ((output.output_type != \"display_data\") || (!Object.prototype.hasOwnProperty.call(output.data, EXEC_MIME_TYPE))) {\n      return\n    }\n\n    const toinsert = output_area.element.find(\".\" + CLASS_NAME.split(' ')[0]);\n\n    if (output.metadata[EXEC_MIME_TYPE][\"id\"] !== undefined) {\n      toinsert[toinsert.length - 1].firstChild.textContent = output.data[JS_MIME_TYPE];\n      // store reference to embed id on output_area\n      output_area._bokeh_element_id = output.metadata[EXEC_MIME_TYPE][\"id\"];\n    }\n    if (output.metadata[EXEC_MIME_TYPE][\"server_id\"] !== undefined) {\n      const bk_div = document.createElement(\"div\");\n      bk_div.innerHTML = output.data[HTML_MIME_TYPE];\n      const script_attrs = bk_div.children[0].attributes;\n      for (let i = 0; i < script_attrs.length; i++) {\n        toinsert[toinsert.length - 1].firstChild.setAttribute(script_attrs[i].name, script_attrs[i].value);\n        toinsert[toinsert.length - 1].firstChild.textContent = bk_div.children[0].textContent\n      }\n      // store reference to server id on output_area\n      output_area._bokeh_server_id = output.metadata[EXEC_MIME_TYPE][\"server_id\"];\n    }\n  }\n\n  function register_renderer(events, OutputArea) {\n\n    function append_mime(data, metadata, element) {\n      // create a DOM node to render to\n      const toinsert = this.create_output_subarea(\n        metadata,\n        CLASS_NAME,\n        EXEC_MIME_TYPE\n      );\n      this.keyboard_manager.register_events(toinsert);\n      // Render to node\n      const props = {data: data, metadata: metadata[EXEC_MIME_TYPE]};\n      render(props, toinsert[toinsert.length - 1]);\n      element.append(toinsert);\n      return toinsert\n    }\n\n    /* Handle when an output is cleared or removed */\n    events.on('clear_output.CodeCell', handleClearOutput);\n    events.on('delete.Cell', handleClearOutput);\n\n    /* Handle when a new output is added */\n    events.on('output_added.OutputArea', handleAddOutput);\n\n    /**\n     * Register the mime type and append_mime function with output_area\n     */\n    OutputArea.prototype.register_mime_type(EXEC_MIME_TYPE, append_mime, {\n      /* Is output safe? */\n      safe: true,\n      /* Index of renderer in `output_area.display_order` */\n      index: 0\n    });\n  }\n\n  // register the mime type if in Jupyter Notebook environment and previously unregistered\n  if (root.Jupyter !== undefined) {\n    const events = require('base/js/events');\n    const OutputArea = require('notebook/js/outputarea').OutputArea;\n\n    if (OutputArea.prototype.mime_types().indexOf(EXEC_MIME_TYPE) == -1) {\n      register_renderer(events, OutputArea);\n    }\n  }\n\n  \n  if (typeof (root._bokeh_timeout) === \"undefined\" || force === true) {\n    root._bokeh_timeout = Date.now() + 5000;\n    root._bokeh_failed_load = false;\n  }\n\n  const NB_LOAD_WARNING = {'data': {'text/html':\n     \"<div style='background-color: #fdd'>\\n\"+\n     \"<p>\\n\"+\n     \"BokehJS does not appear to have successfully loaded. If loading BokehJS from CDN, this \\n\"+\n     \"may be due to a slow or bad network connection. Possible fixes:\\n\"+\n     \"</p>\\n\"+\n     \"<ul>\\n\"+\n     \"<li>re-rerun `output_notebook()` to attempt to load from CDN again, or</li>\\n\"+\n     \"<li>use INLINE resources instead, as so:</li>\\n\"+\n     \"</ul>\\n\"+\n     \"<code>\\n\"+\n     \"from bokeh.resources import INLINE\\n\"+\n     \"output_notebook(resources=INLINE)\\n\"+\n     \"</code>\\n\"+\n     \"</div>\"}};\n\n  function display_loaded() {\n    const el = document.getElementById(null);\n    if (el != null) {\n      el.textContent = \"BokehJS is loading...\";\n    }\n    if (root.Bokeh !== undefined) {\n      if (el != null) {\n        el.textContent = \"BokehJS \" + root.Bokeh.version + \" successfully loaded.\";\n      }\n    } else if (Date.now() < root._bokeh_timeout) {\n      setTimeout(display_loaded, 100)\n    }\n  }\n\n\n  function run_callbacks() {\n    try {\n      root._bokeh_onload_callbacks.forEach(function(callback) {\n        if (callback != null)\n          callback();\n      });\n    } finally {\n      delete root._bokeh_onload_callbacks\n    }\n    console.debug(\"Bokeh: all callbacks have finished\");\n  }\n\n  function load_libs(css_urls, js_urls, callback) {\n    if (css_urls == null) css_urls = [];\n    if (js_urls == null) js_urls = [];\n\n    root._bokeh_onload_callbacks.push(callback);\n    if (root._bokeh_is_loading > 0) {\n      console.debug(\"Bokeh: BokehJS is being loaded, scheduling callback at\", now());\n      return null;\n    }\n    if (js_urls == null || js_urls.length === 0) {\n      run_callbacks();\n      return null;\n    }\n    console.debug(\"Bokeh: BokehJS not loaded, scheduling load and callback at\", now());\n    root._bokeh_is_loading = css_urls.length + js_urls.length;\n\n    function on_load() {\n      root._bokeh_is_loading--;\n      if (root._bokeh_is_loading === 0) {\n        console.debug(\"Bokeh: all BokehJS libraries/stylesheets loaded\");\n        run_callbacks()\n      }\n    }\n\n    function on_error(url) {\n      console.error(\"failed to load \" + url);\n    }\n\n    for (let i = 0; i < css_urls.length; i++) {\n      const url = css_urls[i];\n      const element = document.createElement(\"link\");\n      element.onload = on_load;\n      element.onerror = on_error.bind(null, url);\n      element.rel = \"stylesheet\";\n      element.type = \"text/css\";\n      element.href = url;\n      console.debug(\"Bokeh: injecting link tag for BokehJS stylesheet: \", url);\n      document.body.appendChild(element);\n    }\n\n    for (let i = 0; i < js_urls.length; i++) {\n      const url = js_urls[i];\n      const element = document.createElement('script');\n      element.onload = on_load;\n      element.onerror = on_error.bind(null, url);\n      element.async = false;\n      element.src = url;\n      console.debug(\"Bokeh: injecting script tag for BokehJS library: \", url);\n      document.head.appendChild(element);\n    }\n  };\n\n  function inject_raw_css(css) {\n    const element = document.createElement(\"style\");\n    element.appendChild(document.createTextNode(css));\n    document.body.appendChild(element);\n  }\n\n  \n  const js_urls = [\"https://cdn.bokeh.org/bokeh/release/bokeh-2.4.2.min.js\", \"https://cdn.bokeh.org/bokeh/release/bokeh-gl-2.4.2.min.js\", \"https://cdn.bokeh.org/bokeh/release/bokeh-widgets-2.4.2.min.js\", \"https://cdn.bokeh.org/bokeh/release/bokeh-tables-2.4.2.min.js\", \"https://cdn.bokeh.org/bokeh/release/bokeh-mathjax-2.4.2.min.js\"];\n  const css_urls = [];\n  \n\n  const inline_js = [\n    function(Bokeh) {\n      Bokeh.set_log_level(\"info\");\n    },\n    function(Bokeh) {\n    \n    \n    }\n  ];\n\n  function run_inline_js() {\n    \n    if (root.Bokeh !== undefined || force === true) {\n      \n    for (let i = 0; i < inline_js.length; i++) {\n      inline_js[i].call(root, root.Bokeh);\n    }\n    } else if (Date.now() < root._bokeh_timeout) {\n      setTimeout(run_inline_js, 100);\n    } else if (!root._bokeh_failed_load) {\n      console.log(\"Bokeh: BokehJS failed to load within specified timeout.\");\n      root._bokeh_failed_load = true;\n    } else if (force !== true) {\n      const cell = $(document.getElementById(null)).parents('.cell').data().cell;\n      cell.output_area.append_execute_result(NB_LOAD_WARNING)\n    }\n\n  }\n\n  if (root._bokeh_is_loading === 0) {\n    console.debug(\"Bokeh: BokehJS loaded, going straight to plotting\");\n    run_inline_js();\n  } else {\n    load_libs(css_urls, js_urls, function() {\n      console.debug(\"Bokeh: BokehJS plotting callback run at\", now());\n      run_inline_js();\n    });\n  }\n}(window));",
      "application/vnd.bokehjs_load.v0+json": ""
     },
     "metadata": {},
     "output_type": "display_data"
    }
   ],
   "source": [
    "ag3 = malariagen_data.Ag3(pre=True)"
   ]
  },
  {
   "cell_type": "code",
   "execution_count": 3,
   "id": "423b59bf",
   "metadata": {},
   "outputs": [],
   "source": [
    "cohorts = [\n",
    "    # Ag1000G phase 3 Ghana sample set in Ag3.0\n",
    "    \"AG1000G-GH\",\n",
    "    # GAARD Ghana sample set in Ag3.2\n",
    "    \"1244-VO-GH-YAWSON-VMF00051\",\n",
    "    # Amenta-Etego sample sets in Ag3.3\n",
    "    #'1190-VO-GH-AMENGA-ETEGO-VMF00013',\n",
    "    #'1190-VO-GH-AMENGA-ETEGO-VMF00014',\n",
    "    #'1190-VO-GH-AMENGA-ETEGO-VMF00028',\n",
    "    #'1190-VO-GH-AMENGA-ETEGO-VMF00029',\n",
    "    #'1190-VO-GH-AMENGA-ETEGO-VMF00046',\n",
    "    #'1190-VO-GH-AMENGA-ETEGO-VMF00047',\n",
    "    # GAARDIAN sample set in Ag3.4\n",
    "    '1244-VO-GH-YAWSON-VMF00149',\n",
    "    'AG1000G-ML-A',\n",
    "    'AG1000G-BF-A',\n",
    "    'AG1000G-BF-B',\n",
    "    'AG1000G-GN-A',\n",
    "    'AG1000G-GN-B',\n",
    "    '1245-VO-CI-CONSTANT-VMF00054',\n",
    "    '1253-VO-TG-DJOGBENOU-VMF00052',\n",
    "    '1237-VO-BJ-DJOGBENOU-VMF00050'\n",
    "]"
   ]
  },
  {
   "cell_type": "code",
   "execution_count": 4,
   "id": "ddcca72a",
   "metadata": {},
   "outputs": [],
   "source": [
    "\n",
    "cohorts = ['AG1000G-MZ', 'AG1000G-TZ', 'AG1000G-MW']"
   ]
  },
  {
   "cell_type": "code",
   "execution_count": 5,
   "id": "1c4f3cc1",
   "metadata": {},
   "outputs": [
    {
     "data": {
      "text/html": [
       "<div>\n",
       "<style scoped>\n",
       "    .dataframe tbody tr th:only-of-type {\n",
       "        vertical-align: middle;\n",
       "    }\n",
       "\n",
       "    .dataframe tbody tr th {\n",
       "        vertical-align: top;\n",
       "    }\n",
       "\n",
       "    .dataframe thead th {\n",
       "        text-align: right;\n",
       "    }\n",
       "</style>\n",
       "<table border=\"1\" class=\"dataframe\">\n",
       "  <thead>\n",
       "    <tr style=\"text-align: right;\">\n",
       "      <th></th>\n",
       "      <th></th>\n",
       "      <th></th>\n",
       "      <th></th>\n",
       "      <th>taxon</th>\n",
       "      <th>arabiensis</th>\n",
       "      <th>gambiae</th>\n",
       "      <th>gcx3</th>\n",
       "    </tr>\n",
       "    <tr>\n",
       "      <th>country</th>\n",
       "      <th>admin1_iso</th>\n",
       "      <th>admin1_name</th>\n",
       "      <th>admin2_name</th>\n",
       "      <th>year</th>\n",
       "      <th></th>\n",
       "      <th></th>\n",
       "      <th></th>\n",
       "    </tr>\n",
       "  </thead>\n",
       "  <tbody>\n",
       "    <tr>\n",
       "      <th>Malawi</th>\n",
       "      <th>MW-S</th>\n",
       "      <th>Southern Region</th>\n",
       "      <th>Chikwawa</th>\n",
       "      <th>2015</th>\n",
       "      <td>41</td>\n",
       "      <td>0</td>\n",
       "      <td>0</td>\n",
       "    </tr>\n",
       "    <tr>\n",
       "      <th rowspan=\"2\" valign=\"top\">Mozambique</th>\n",
       "      <th rowspan=\"2\" valign=\"top\">MZ-I</th>\n",
       "      <th rowspan=\"2\" valign=\"top\">Inhambane</th>\n",
       "      <th rowspan=\"2\" valign=\"top\">Morrumbene</th>\n",
       "      <th>2003</th>\n",
       "      <td>0</td>\n",
       "      <td>3</td>\n",
       "      <td>0</td>\n",
       "    </tr>\n",
       "    <tr>\n",
       "      <th>2004</th>\n",
       "      <td>0</td>\n",
       "      <td>71</td>\n",
       "      <td>0</td>\n",
       "    </tr>\n",
       "    <tr>\n",
       "      <th rowspan=\"4\" valign=\"top\">Tanzania</th>\n",
       "      <th>TZ-05</th>\n",
       "      <th>Kagera</th>\n",
       "      <th>Sengerema</th>\n",
       "      <th>2015</th>\n",
       "      <td>137</td>\n",
       "      <td>32</td>\n",
       "      <td>1</td>\n",
       "    </tr>\n",
       "    <tr>\n",
       "      <th>TZ-13</th>\n",
       "      <th>Mara</th>\n",
       "      <th>Tarime</th>\n",
       "      <th>2012</th>\n",
       "      <td>47</td>\n",
       "      <td>0</td>\n",
       "      <td>0</td>\n",
       "    </tr>\n",
       "    <tr>\n",
       "      <th>TZ-25</th>\n",
       "      <th>Tanga</th>\n",
       "      <th>Mkinga</th>\n",
       "      <th>2013</th>\n",
       "      <td>1</td>\n",
       "      <td>32</td>\n",
       "      <td>10</td>\n",
       "    </tr>\n",
       "    <tr>\n",
       "      <th>TZ-26</th>\n",
       "      <th>Manyara</th>\n",
       "      <th>Moshi</th>\n",
       "      <th>2012</th>\n",
       "      <td>40</td>\n",
       "      <td>0</td>\n",
       "      <td>0</td>\n",
       "    </tr>\n",
       "  </tbody>\n",
       "</table>\n",
       "</div>"
      ],
      "text/plain": [
       "taxon                                                   arabiensis  gambiae  \\\n",
       "country    admin1_iso admin1_name     admin2_name year                        \n",
       "Malawi     MW-S       Southern Region Chikwawa    2015          41        0   \n",
       "Mozambique MZ-I       Inhambane       Morrumbene  2003           0        3   \n",
       "                                                  2004           0       71   \n",
       "Tanzania   TZ-05      Kagera          Sengerema   2015         137       32   \n",
       "           TZ-13      Mara            Tarime      2012          47        0   \n",
       "           TZ-25      Tanga           Mkinga      2013           1       32   \n",
       "           TZ-26      Manyara         Moshi       2012          40        0   \n",
       "\n",
       "taxon                                                   gcx3  \n",
       "country    admin1_iso admin1_name     admin2_name year        \n",
       "Malawi     MW-S       Southern Region Chikwawa    2015     0  \n",
       "Mozambique MZ-I       Inhambane       Morrumbene  2003     0  \n",
       "                                                  2004     0  \n",
       "Tanzania   TZ-05      Kagera          Sengerema   2015     1  \n",
       "           TZ-13      Mara            Tarime      2012     0  \n",
       "           TZ-25      Tanga           Mkinga      2013    10  \n",
       "           TZ-26      Manyara         Moshi       2012     0  "
      ]
     },
     "execution_count": 5,
     "metadata": {},
     "output_type": "execute_result"
    }
   ],
   "source": [
    "# inspect all samples available from Ghana\n",
    "df_samples = ag3.sample_metadata(sample_sets=cohorts)\n",
    "pivot_samples = (\n",
    "    df_samples\n",
    "    .pivot_table(\n",
    "        index=[\"country\", \"admin1_iso\", \"admin1_name\", \"admin2_name\", \"year\"], \n",
    "        columns=\"taxon\", \n",
    "        values=\"sample_id\",\n",
    "        aggfunc=\"count\",\n",
    "        fill_value=0\n",
    "    )\n",
    ")\n",
    "pivot_samples"
   ]
  },
  {
   "cell_type": "code",
   "execution_count": 6,
   "id": "cc757a33",
   "metadata": {
    "scrolled": false
   },
   "outputs": [
    {
     "data": {
      "application/vnd.plotly.v1+json": {
       "config": {
        "plotlyServerURL": "https://plot.ly"
       },
       "data": [
        {
         "coloraxis": "coloraxis",
         "hovertemplate": "x: %{x}<br>label: %{y}<br>color: %{z}<extra></extra>",
         "name": "0",
         "texttemplate": "%{z:.0%}",
         "type": "heatmap",
         "x": [
          "MW-S_arab_2015",
          "MZ-I_gamb_2004",
          "TZ-05_arab_2015",
          "TZ-05_gamb_2015",
          "TZ-13_arab_2012",
          "TZ-25_gamb_2013",
          "TZ-26_arab_2012"
         ],
         "xaxis": "x",
         "y": [
          "AGAP006222 amp",
          "AGAP006223 del",
          "AGAP006225 amp",
          "AGAP006226 (Aldehyde_oxidase) amp",
          "AGAP006227 amp",
          "AGAP006228 (COEAE2F) amp",
          "AGAP006229 (Vps20) amp",
          "AGAP006231 amp",
          "AGAP006232 (Pex14) amp",
          "AGAP006233 amp",
          "AGAP006234 amp",
          "AGAP006235 amp"
         ],
         "yaxis": "y",
         "z": [
          [
           0.05263157894736842,
           0,
           0,
           0,
           0,
           0,
           0
          ],
          [
           0.13157894736842105,
           0.11267605633802817,
           0.3897058823529412,
           0.22580645161290322,
           0.3617021276595745,
           0.034482758620689655,
           0.13157894736842105
          ],
          [
           0,
           0,
           0,
           0,
           0,
           0,
           0.23684210526315788
          ],
          [
           0,
           0,
           0,
           0,
           0,
           0,
           0.2631578947368421
          ],
          [
           0,
           0,
           0,
           0,
           0,
           0,
           0.2631578947368421
          ],
          [
           0,
           0,
           0,
           0,
           0,
           0,
           0.2631578947368421
          ],
          [
           0,
           0,
           0,
           0,
           0,
           0,
           0.2631578947368421
          ],
          [
           0,
           0,
           0,
           0,
           0,
           0,
           0.2631578947368421
          ],
          [
           0,
           0,
           0,
           0,
           0,
           0,
           0.2631578947368421
          ],
          [
           0,
           0,
           0,
           0,
           0,
           0,
           0.2631578947368421
          ],
          [
           0,
           0,
           0,
           0,
           0,
           0,
           0.2631578947368421
          ],
          [
           0,
           0,
           0.007352941176470588,
           0,
           0,
           0,
           0.2631578947368421
          ]
         ]
        }
       ],
       "layout": {
        "coloraxis": {
         "cmax": 1,
         "cmin": 0,
         "colorbar": {
          "ticktext": [
           "0%",
           "20%",
           "40%",
           "60%",
           "80%",
           "100%"
          ],
          "tickvals": [
           0,
           0.2,
           0.4,
           0.6,
           0.8,
           1
          ],
          "title": {
           "text": "Frequency"
          }
         },
         "colorscale": [
          [
           0,
           "rgb(255,245,240)"
          ],
          [
           0.125,
           "rgb(254,224,210)"
          ],
          [
           0.25,
           "rgb(252,187,161)"
          ],
          [
           0.375,
           "rgb(252,146,114)"
          ],
          [
           0.5,
           "rgb(251,106,74)"
          ],
          [
           0.625,
           "rgb(239,59,44)"
          ],
          [
           0.75,
           "rgb(203,24,29)"
          ],
          [
           0.875,
           "rgb(165,15,21)"
          ],
          [
           1,
           "rgb(103,0,13)"
          ]
         ]
        },
        "height": 480,
        "template": {
         "data": {
          "bar": [
           {
            "error_x": {
             "color": "#2a3f5f"
            },
            "error_y": {
             "color": "#2a3f5f"
            },
            "marker": {
             "line": {
              "color": "#E5ECF6",
              "width": 0.5
             },
             "pattern": {
              "fillmode": "overlay",
              "size": 10,
              "solidity": 0.2
             }
            },
            "type": "bar"
           }
          ],
          "barpolar": [
           {
            "marker": {
             "line": {
              "color": "#E5ECF6",
              "width": 0.5
             },
             "pattern": {
              "fillmode": "overlay",
              "size": 10,
              "solidity": 0.2
             }
            },
            "type": "barpolar"
           }
          ],
          "carpet": [
           {
            "aaxis": {
             "endlinecolor": "#2a3f5f",
             "gridcolor": "white",
             "linecolor": "white",
             "minorgridcolor": "white",
             "startlinecolor": "#2a3f5f"
            },
            "baxis": {
             "endlinecolor": "#2a3f5f",
             "gridcolor": "white",
             "linecolor": "white",
             "minorgridcolor": "white",
             "startlinecolor": "#2a3f5f"
            },
            "type": "carpet"
           }
          ],
          "choropleth": [
           {
            "colorbar": {
             "outlinewidth": 0,
             "ticks": ""
            },
            "type": "choropleth"
           }
          ],
          "contour": [
           {
            "colorbar": {
             "outlinewidth": 0,
             "ticks": ""
            },
            "colorscale": [
             [
              0,
              "#0d0887"
             ],
             [
              0.1111111111111111,
              "#46039f"
             ],
             [
              0.2222222222222222,
              "#7201a8"
             ],
             [
              0.3333333333333333,
              "#9c179e"
             ],
             [
              0.4444444444444444,
              "#bd3786"
             ],
             [
              0.5555555555555556,
              "#d8576b"
             ],
             [
              0.6666666666666666,
              "#ed7953"
             ],
             [
              0.7777777777777778,
              "#fb9f3a"
             ],
             [
              0.8888888888888888,
              "#fdca26"
             ],
             [
              1,
              "#f0f921"
             ]
            ],
            "type": "contour"
           }
          ],
          "contourcarpet": [
           {
            "colorbar": {
             "outlinewidth": 0,
             "ticks": ""
            },
            "type": "contourcarpet"
           }
          ],
          "heatmap": [
           {
            "colorbar": {
             "outlinewidth": 0,
             "ticks": ""
            },
            "colorscale": [
             [
              0,
              "#0d0887"
             ],
             [
              0.1111111111111111,
              "#46039f"
             ],
             [
              0.2222222222222222,
              "#7201a8"
             ],
             [
              0.3333333333333333,
              "#9c179e"
             ],
             [
              0.4444444444444444,
              "#bd3786"
             ],
             [
              0.5555555555555556,
              "#d8576b"
             ],
             [
              0.6666666666666666,
              "#ed7953"
             ],
             [
              0.7777777777777778,
              "#fb9f3a"
             ],
             [
              0.8888888888888888,
              "#fdca26"
             ],
             [
              1,
              "#f0f921"
             ]
            ],
            "type": "heatmap"
           }
          ],
          "heatmapgl": [
           {
            "colorbar": {
             "outlinewidth": 0,
             "ticks": ""
            },
            "colorscale": [
             [
              0,
              "#0d0887"
             ],
             [
              0.1111111111111111,
              "#46039f"
             ],
             [
              0.2222222222222222,
              "#7201a8"
             ],
             [
              0.3333333333333333,
              "#9c179e"
             ],
             [
              0.4444444444444444,
              "#bd3786"
             ],
             [
              0.5555555555555556,
              "#d8576b"
             ],
             [
              0.6666666666666666,
              "#ed7953"
             ],
             [
              0.7777777777777778,
              "#fb9f3a"
             ],
             [
              0.8888888888888888,
              "#fdca26"
             ],
             [
              1,
              "#f0f921"
             ]
            ],
            "type": "heatmapgl"
           }
          ],
          "histogram": [
           {
            "marker": {
             "pattern": {
              "fillmode": "overlay",
              "size": 10,
              "solidity": 0.2
             }
            },
            "type": "histogram"
           }
          ],
          "histogram2d": [
           {
            "colorbar": {
             "outlinewidth": 0,
             "ticks": ""
            },
            "colorscale": [
             [
              0,
              "#0d0887"
             ],
             [
              0.1111111111111111,
              "#46039f"
             ],
             [
              0.2222222222222222,
              "#7201a8"
             ],
             [
              0.3333333333333333,
              "#9c179e"
             ],
             [
              0.4444444444444444,
              "#bd3786"
             ],
             [
              0.5555555555555556,
              "#d8576b"
             ],
             [
              0.6666666666666666,
              "#ed7953"
             ],
             [
              0.7777777777777778,
              "#fb9f3a"
             ],
             [
              0.8888888888888888,
              "#fdca26"
             ],
             [
              1,
              "#f0f921"
             ]
            ],
            "type": "histogram2d"
           }
          ],
          "histogram2dcontour": [
           {
            "colorbar": {
             "outlinewidth": 0,
             "ticks": ""
            },
            "colorscale": [
             [
              0,
              "#0d0887"
             ],
             [
              0.1111111111111111,
              "#46039f"
             ],
             [
              0.2222222222222222,
              "#7201a8"
             ],
             [
              0.3333333333333333,
              "#9c179e"
             ],
             [
              0.4444444444444444,
              "#bd3786"
             ],
             [
              0.5555555555555556,
              "#d8576b"
             ],
             [
              0.6666666666666666,
              "#ed7953"
             ],
             [
              0.7777777777777778,
              "#fb9f3a"
             ],
             [
              0.8888888888888888,
              "#fdca26"
             ],
             [
              1,
              "#f0f921"
             ]
            ],
            "type": "histogram2dcontour"
           }
          ],
          "mesh3d": [
           {
            "colorbar": {
             "outlinewidth": 0,
             "ticks": ""
            },
            "type": "mesh3d"
           }
          ],
          "parcoords": [
           {
            "line": {
             "colorbar": {
              "outlinewidth": 0,
              "ticks": ""
             }
            },
            "type": "parcoords"
           }
          ],
          "pie": [
           {
            "automargin": true,
            "type": "pie"
           }
          ],
          "scatter": [
           {
            "marker": {
             "colorbar": {
              "outlinewidth": 0,
              "ticks": ""
             }
            },
            "type": "scatter"
           }
          ],
          "scatter3d": [
           {
            "line": {
             "colorbar": {
              "outlinewidth": 0,
              "ticks": ""
             }
            },
            "marker": {
             "colorbar": {
              "outlinewidth": 0,
              "ticks": ""
             }
            },
            "type": "scatter3d"
           }
          ],
          "scattercarpet": [
           {
            "marker": {
             "colorbar": {
              "outlinewidth": 0,
              "ticks": ""
             }
            },
            "type": "scattercarpet"
           }
          ],
          "scattergeo": [
           {
            "marker": {
             "colorbar": {
              "outlinewidth": 0,
              "ticks": ""
             }
            },
            "type": "scattergeo"
           }
          ],
          "scattergl": [
           {
            "marker": {
             "colorbar": {
              "outlinewidth": 0,
              "ticks": ""
             }
            },
            "type": "scattergl"
           }
          ],
          "scattermapbox": [
           {
            "marker": {
             "colorbar": {
              "outlinewidth": 0,
              "ticks": ""
             }
            },
            "type": "scattermapbox"
           }
          ],
          "scatterpolar": [
           {
            "marker": {
             "colorbar": {
              "outlinewidth": 0,
              "ticks": ""
             }
            },
            "type": "scatterpolar"
           }
          ],
          "scatterpolargl": [
           {
            "marker": {
             "colorbar": {
              "outlinewidth": 0,
              "ticks": ""
             }
            },
            "type": "scatterpolargl"
           }
          ],
          "scatterternary": [
           {
            "marker": {
             "colorbar": {
              "outlinewidth": 0,
              "ticks": ""
             }
            },
            "type": "scatterternary"
           }
          ],
          "surface": [
           {
            "colorbar": {
             "outlinewidth": 0,
             "ticks": ""
            },
            "colorscale": [
             [
              0,
              "#0d0887"
             ],
             [
              0.1111111111111111,
              "#46039f"
             ],
             [
              0.2222222222222222,
              "#7201a8"
             ],
             [
              0.3333333333333333,
              "#9c179e"
             ],
             [
              0.4444444444444444,
              "#bd3786"
             ],
             [
              0.5555555555555556,
              "#d8576b"
             ],
             [
              0.6666666666666666,
              "#ed7953"
             ],
             [
              0.7777777777777778,
              "#fb9f3a"
             ],
             [
              0.8888888888888888,
              "#fdca26"
             ],
             [
              1,
              "#f0f921"
             ]
            ],
            "type": "surface"
           }
          ],
          "table": [
           {
            "cells": {
             "fill": {
              "color": "#EBF0F8"
             },
             "line": {
              "color": "white"
             }
            },
            "header": {
             "fill": {
              "color": "#C8D4E3"
             },
             "line": {
              "color": "white"
             }
            },
            "type": "table"
           }
          ]
         },
         "layout": {
          "annotationdefaults": {
           "arrowcolor": "#2a3f5f",
           "arrowhead": 0,
           "arrowwidth": 1
          },
          "autotypenumbers": "strict",
          "coloraxis": {
           "colorbar": {
            "outlinewidth": 0,
            "ticks": ""
           }
          },
          "colorscale": {
           "diverging": [
            [
             0,
             "#8e0152"
            ],
            [
             0.1,
             "#c51b7d"
            ],
            [
             0.2,
             "#de77ae"
            ],
            [
             0.3,
             "#f1b6da"
            ],
            [
             0.4,
             "#fde0ef"
            ],
            [
             0.5,
             "#f7f7f7"
            ],
            [
             0.6,
             "#e6f5d0"
            ],
            [
             0.7,
             "#b8e186"
            ],
            [
             0.8,
             "#7fbc41"
            ],
            [
             0.9,
             "#4d9221"
            ],
            [
             1,
             "#276419"
            ]
           ],
           "sequential": [
            [
             0,
             "#0d0887"
            ],
            [
             0.1111111111111111,
             "#46039f"
            ],
            [
             0.2222222222222222,
             "#7201a8"
            ],
            [
             0.3333333333333333,
             "#9c179e"
            ],
            [
             0.4444444444444444,
             "#bd3786"
            ],
            [
             0.5555555555555556,
             "#d8576b"
            ],
            [
             0.6666666666666666,
             "#ed7953"
            ],
            [
             0.7777777777777778,
             "#fb9f3a"
            ],
            [
             0.8888888888888888,
             "#fdca26"
            ],
            [
             1,
             "#f0f921"
            ]
           ],
           "sequentialminus": [
            [
             0,
             "#0d0887"
            ],
            [
             0.1111111111111111,
             "#46039f"
            ],
            [
             0.2222222222222222,
             "#7201a8"
            ],
            [
             0.3333333333333333,
             "#9c179e"
            ],
            [
             0.4444444444444444,
             "#bd3786"
            ],
            [
             0.5555555555555556,
             "#d8576b"
            ],
            [
             0.6666666666666666,
             "#ed7953"
            ],
            [
             0.7777777777777778,
             "#fb9f3a"
            ],
            [
             0.8888888888888888,
             "#fdca26"
            ],
            [
             1,
             "#f0f921"
            ]
           ]
          },
          "colorway": [
           "#636efa",
           "#EF553B",
           "#00cc96",
           "#ab63fa",
           "#FFA15A",
           "#19d3f3",
           "#FF6692",
           "#B6E880",
           "#FF97FF",
           "#FECB52"
          ],
          "font": {
           "color": "#2a3f5f"
          },
          "geo": {
           "bgcolor": "white",
           "lakecolor": "white",
           "landcolor": "#E5ECF6",
           "showlakes": true,
           "showland": true,
           "subunitcolor": "white"
          },
          "hoverlabel": {
           "align": "left"
          },
          "hovermode": "closest",
          "mapbox": {
           "style": "light"
          },
          "paper_bgcolor": "white",
          "plot_bgcolor": "#E5ECF6",
          "polar": {
           "angularaxis": {
            "gridcolor": "white",
            "linecolor": "white",
            "ticks": ""
           },
           "bgcolor": "#E5ECF6",
           "radialaxis": {
            "gridcolor": "white",
            "linecolor": "white",
            "ticks": ""
           }
          },
          "scene": {
           "xaxis": {
            "backgroundcolor": "#E5ECF6",
            "gridcolor": "white",
            "gridwidth": 2,
            "linecolor": "white",
            "showbackground": true,
            "ticks": "",
            "zerolinecolor": "white"
           },
           "yaxis": {
            "backgroundcolor": "#E5ECF6",
            "gridcolor": "white",
            "gridwidth": 2,
            "linecolor": "white",
            "showbackground": true,
            "ticks": "",
            "zerolinecolor": "white"
           },
           "zaxis": {
            "backgroundcolor": "#E5ECF6",
            "gridcolor": "white",
            "gridwidth": 2,
            "linecolor": "white",
            "showbackground": true,
            "ticks": "",
            "zerolinecolor": "white"
           }
          },
          "shapedefaults": {
           "line": {
            "color": "#2a3f5f"
           }
          },
          "ternary": {
           "aaxis": {
            "gridcolor": "white",
            "linecolor": "white",
            "ticks": ""
           },
           "baxis": {
            "gridcolor": "white",
            "linecolor": "white",
            "ticks": ""
           },
           "bgcolor": "#E5ECF6",
           "caxis": {
            "gridcolor": "white",
            "linecolor": "white",
            "ticks": ""
           }
          },
          "title": {
           "x": 0.05
          },
          "xaxis": {
           "automargin": true,
           "gridcolor": "white",
           "linecolor": "white",
           "ticks": "",
           "title": {
            "standoff": 15
           },
           "zerolinecolor": "white",
           "zerolinewidth": 2
          },
          "yaxis": {
           "automargin": true,
           "gridcolor": "white",
           "linecolor": "white",
           "ticks": "",
           "title": {
            "standoff": 15
           },
           "zerolinecolor": "white",
           "zerolinewidth": 2
          }
         }
        },
        "title": {
         "text": "Gene CNV frequencies, coeae1f/2f locus"
        },
        "width": 720,
        "xaxis": {
         "anchor": "y",
         "domain": [
          0,
          1
         ],
         "side": "bottom",
         "tickangle": 30,
         "title": {
          "text": "Cohorts"
         }
        },
        "yaxis": {
         "anchor": "x",
         "autorange": "reversed",
         "domain": [
          0,
          1
         ],
         "title": {
          "text": "Variants"
         }
        }
       }
      }
     },
     "metadata": {},
     "output_type": "display_data"
    }
   ],
   "source": [
    "coe_region = \"2L:28,520,000-28,580,000\"\n",
    "\n",
    "cnv_freqs_df = ag3.gene_cnv_frequencies(\n",
    "    region=coe_region,\n",
    "    cohorts=\"admin1_year\",\n",
    "    sample_sets=cohorts,\n",
    "#    sample_query=\"taxon == 'gambiae'\",\n",
    ")\n",
    "\n",
    "ag3.plot_frequencies_heatmap(\n",
    "    cnv_freqs_df.query(\"max_af > 0.03\"), \n",
    "    title=\"Gene CNV frequencies, coeae1f/2f locus\"\n",
    ")"
   ]
  },
  {
   "cell_type": "code",
   "execution_count": 7,
   "id": "74aa3f5a",
   "metadata": {},
   "outputs": [],
   "source": [
    "cnv_data = ag3.gene_cnv(region='2L:28520000-28580000', sample_sets=cohorts)\n",
    "\n",
    "cnv_data = cnv_data.to_dataframe().query(\"gene_id == 'AGAP006227'\")\n",
    "coe_dups = cnv_data.query(\"CN_mode > 2.9\")\n",
    "sample_names = coe_dups['sample_id'].to_list()"
   ]
  },
  {
   "cell_type": "code",
   "execution_count": 9,
   "id": "dbc9fc6e",
   "metadata": {},
   "outputs": [],
   "source": [
    "import pandas as pd"
   ]
  },
  {
   "cell_type": "code",
   "execution_count": 17,
   "id": "b520a66b",
   "metadata": {},
   "outputs": [],
   "source": [
    "pd.Series(sample_names).to_csv(\"../../coe_cnv_sample_ids.tsv\", sep=\"\\t\")"
   ]
  },
  {
   "cell_type": "code",
   "execution_count": 19,
   "id": "5d3d1dc1",
   "metadata": {
    "scrolled": false
   },
   "outputs": [
    {
     "data": {
      "text/html": [
       "<div>\n",
       "<style scoped>\n",
       "    .dataframe tbody tr th:only-of-type {\n",
       "        vertical-align: middle;\n",
       "    }\n",
       "\n",
       "    .dataframe tbody tr th {\n",
       "        vertical-align: top;\n",
       "    }\n",
       "\n",
       "    .dataframe thead th {\n",
       "        text-align: right;\n",
       "    }\n",
       "</style>\n",
       "<table border=\"1\" class=\"dataframe\">\n",
       "  <thead>\n",
       "    <tr style=\"text-align: right;\">\n",
       "      <th>CN_mode</th>\n",
       "      <th>1</th>\n",
       "      <th>2</th>\n",
       "      <th>3</th>\n",
       "      <th>4</th>\n",
       "      <th>5</th>\n",
       "      <th>6</th>\n",
       "      <th>8</th>\n",
       "      <th>10</th>\n",
       "      <th>12</th>\n",
       "    </tr>\n",
       "    <tr>\n",
       "      <th>location</th>\n",
       "      <th></th>\n",
       "      <th></th>\n",
       "      <th></th>\n",
       "      <th></th>\n",
       "      <th></th>\n",
       "      <th></th>\n",
       "      <th></th>\n",
       "      <th></th>\n",
       "      <th></th>\n",
       "    </tr>\n",
       "  </thead>\n",
       "  <tbody>\n",
       "    <tr>\n",
       "      <th>Aboisso</th>\n",
       "      <td>0</td>\n",
       "      <td>38</td>\n",
       "      <td>0</td>\n",
       "      <td>0</td>\n",
       "      <td>0</td>\n",
       "      <td>0</td>\n",
       "      <td>0</td>\n",
       "      <td>0</td>\n",
       "      <td>0</td>\n",
       "    </tr>\n",
       "    <tr>\n",
       "      <th>Adansi Apagya</th>\n",
       "      <td>0</td>\n",
       "      <td>16</td>\n",
       "      <td>0</td>\n",
       "      <td>0</td>\n",
       "      <td>0</td>\n",
       "      <td>0</td>\n",
       "      <td>0</td>\n",
       "      <td>0</td>\n",
       "      <td>0</td>\n",
       "    </tr>\n",
       "    <tr>\n",
       "      <th>Adansi-Krom</th>\n",
       "      <td>0</td>\n",
       "      <td>6</td>\n",
       "      <td>0</td>\n",
       "      <td>0</td>\n",
       "      <td>0</td>\n",
       "      <td>0</td>\n",
       "      <td>0</td>\n",
       "      <td>0</td>\n",
       "      <td>0</td>\n",
       "    </tr>\n",
       "    <tr>\n",
       "      <th>Adumanu</th>\n",
       "      <td>0</td>\n",
       "      <td>6</td>\n",
       "      <td>0</td>\n",
       "      <td>0</td>\n",
       "      <td>0</td>\n",
       "      <td>0</td>\n",
       "      <td>0</td>\n",
       "      <td>0</td>\n",
       "      <td>0</td>\n",
       "    </tr>\n",
       "    <tr>\n",
       "      <th>Anhwiaso</th>\n",
       "      <td>0</td>\n",
       "      <td>2</td>\n",
       "      <td>0</td>\n",
       "      <td>0</td>\n",
       "      <td>0</td>\n",
       "      <td>0</td>\n",
       "      <td>0</td>\n",
       "      <td>0</td>\n",
       "      <td>0</td>\n",
       "    </tr>\n",
       "    <tr>\n",
       "      <th>Ankaako</th>\n",
       "      <td>0</td>\n",
       "      <td>12</td>\n",
       "      <td>0</td>\n",
       "      <td>0</td>\n",
       "      <td>0</td>\n",
       "      <td>0</td>\n",
       "      <td>0</td>\n",
       "      <td>0</td>\n",
       "      <td>0</td>\n",
       "    </tr>\n",
       "    <tr>\n",
       "      <th>Annorkrom</th>\n",
       "      <td>0</td>\n",
       "      <td>49</td>\n",
       "      <td>0</td>\n",
       "      <td>0</td>\n",
       "      <td>0</td>\n",
       "      <td>0</td>\n",
       "      <td>0</td>\n",
       "      <td>0</td>\n",
       "      <td>0</td>\n",
       "    </tr>\n",
       "    <tr>\n",
       "      <th>Anwona</th>\n",
       "      <td>0</td>\n",
       "      <td>7</td>\n",
       "      <td>0</td>\n",
       "      <td>0</td>\n",
       "      <td>1</td>\n",
       "      <td>0</td>\n",
       "      <td>0</td>\n",
       "      <td>0</td>\n",
       "      <td>0</td>\n",
       "    </tr>\n",
       "    <tr>\n",
       "      <th>Asonkore</th>\n",
       "      <td>0</td>\n",
       "      <td>5</td>\n",
       "      <td>0</td>\n",
       "      <td>0</td>\n",
       "      <td>0</td>\n",
       "      <td>0</td>\n",
       "      <td>0</td>\n",
       "      <td>0</td>\n",
       "      <td>0</td>\n",
       "    </tr>\n",
       "    <tr>\n",
       "      <th>Avrankou</th>\n",
       "      <td>1</td>\n",
       "      <td>89</td>\n",
       "      <td>0</td>\n",
       "      <td>0</td>\n",
       "      <td>0</td>\n",
       "      <td>0</td>\n",
       "      <td>0</td>\n",
       "      <td>0</td>\n",
       "      <td>0</td>\n",
       "    </tr>\n",
       "    <tr>\n",
       "      <th>Baguida</th>\n",
       "      <td>2</td>\n",
       "      <td>142</td>\n",
       "      <td>7</td>\n",
       "      <td>0</td>\n",
       "      <td>25</td>\n",
       "      <td>1</td>\n",
       "      <td>2</td>\n",
       "      <td>0</td>\n",
       "      <td>0</td>\n",
       "    </tr>\n",
       "    <tr>\n",
       "      <th>Bana Village</th>\n",
       "      <td>0</td>\n",
       "      <td>128</td>\n",
       "      <td>0</td>\n",
       "      <td>0</td>\n",
       "      <td>0</td>\n",
       "      <td>0</td>\n",
       "      <td>0</td>\n",
       "      <td>0</td>\n",
       "      <td>0</td>\n",
       "    </tr>\n",
       "    <tr>\n",
       "      <th>Bogobiri West</th>\n",
       "      <td>0</td>\n",
       "      <td>2</td>\n",
       "      <td>0</td>\n",
       "      <td>0</td>\n",
       "      <td>0</td>\n",
       "      <td>0</td>\n",
       "      <td>0</td>\n",
       "      <td>0</td>\n",
       "      <td>0</td>\n",
       "    </tr>\n",
       "    <tr>\n",
       "      <th>Bogyawe</th>\n",
       "      <td>0</td>\n",
       "      <td>5</td>\n",
       "      <td>0</td>\n",
       "      <td>0</td>\n",
       "      <td>0</td>\n",
       "      <td>0</td>\n",
       "      <td>0</td>\n",
       "      <td>0</td>\n",
       "      <td>0</td>\n",
       "    </tr>\n",
       "    <tr>\n",
       "      <th>Domenase</th>\n",
       "      <td>0</td>\n",
       "      <td>57</td>\n",
       "      <td>0</td>\n",
       "      <td>0</td>\n",
       "      <td>0</td>\n",
       "      <td>0</td>\n",
       "      <td>0</td>\n",
       "      <td>0</td>\n",
       "      <td>0</td>\n",
       "    </tr>\n",
       "    <tr>\n",
       "      <th>Dompoase</th>\n",
       "      <td>0</td>\n",
       "      <td>2</td>\n",
       "      <td>0</td>\n",
       "      <td>0</td>\n",
       "      <td>1</td>\n",
       "      <td>0</td>\n",
       "      <td>0</td>\n",
       "      <td>0</td>\n",
       "      <td>0</td>\n",
       "    </tr>\n",
       "    <tr>\n",
       "      <th>Fumso</th>\n",
       "      <td>0</td>\n",
       "      <td>4</td>\n",
       "      <td>0</td>\n",
       "      <td>0</td>\n",
       "      <td>0</td>\n",
       "      <td>0</td>\n",
       "      <td>0</td>\n",
       "      <td>0</td>\n",
       "      <td>0</td>\n",
       "    </tr>\n",
       "    <tr>\n",
       "      <th>Jacobu</th>\n",
       "      <td>0</td>\n",
       "      <td>5</td>\n",
       "      <td>0</td>\n",
       "      <td>0</td>\n",
       "      <td>0</td>\n",
       "      <td>0</td>\n",
       "      <td>0</td>\n",
       "      <td>0</td>\n",
       "      <td>0</td>\n",
       "    </tr>\n",
       "    <tr>\n",
       "      <th>Kababougou</th>\n",
       "      <td>0</td>\n",
       "      <td>40</td>\n",
       "      <td>0</td>\n",
       "      <td>0</td>\n",
       "      <td>0</td>\n",
       "      <td>0</td>\n",
       "      <td>0</td>\n",
       "      <td>0</td>\n",
       "      <td>0</td>\n",
       "    </tr>\n",
       "    <tr>\n",
       "      <th>Kente</th>\n",
       "      <td>0</td>\n",
       "      <td>23</td>\n",
       "      <td>1</td>\n",
       "      <td>0</td>\n",
       "      <td>0</td>\n",
       "      <td>0</td>\n",
       "      <td>0</td>\n",
       "      <td>0</td>\n",
       "      <td>0</td>\n",
       "    </tr>\n",
       "    <tr>\n",
       "      <th>Koforidua</th>\n",
       "      <td>0</td>\n",
       "      <td>24</td>\n",
       "      <td>0</td>\n",
       "      <td>0</td>\n",
       "      <td>0</td>\n",
       "      <td>0</td>\n",
       "      <td>0</td>\n",
       "      <td>0</td>\n",
       "      <td>0</td>\n",
       "    </tr>\n",
       "    <tr>\n",
       "      <th>Kokotro</th>\n",
       "      <td>0</td>\n",
       "      <td>28</td>\n",
       "      <td>0</td>\n",
       "      <td>0</td>\n",
       "      <td>0</td>\n",
       "      <td>0</td>\n",
       "      <td>0</td>\n",
       "      <td>0</td>\n",
       "      <td>0</td>\n",
       "    </tr>\n",
       "    <tr>\n",
       "      <th>Koniyaw</th>\n",
       "      <td>0</td>\n",
       "      <td>32</td>\n",
       "      <td>0</td>\n",
       "      <td>0</td>\n",
       "      <td>0</td>\n",
       "      <td>0</td>\n",
       "      <td>0</td>\n",
       "      <td>0</td>\n",
       "      <td>0</td>\n",
       "    </tr>\n",
       "    <tr>\n",
       "      <th>Koraboh</th>\n",
       "      <td>2</td>\n",
       "      <td>59</td>\n",
       "      <td>1</td>\n",
       "      <td>0</td>\n",
       "      <td>0</td>\n",
       "      <td>0</td>\n",
       "      <td>0</td>\n",
       "      <td>0</td>\n",
       "      <td>0</td>\n",
       "    </tr>\n",
       "    <tr>\n",
       "      <th>Korle-Bu</th>\n",
       "      <td>6</td>\n",
       "      <td>262</td>\n",
       "      <td>0</td>\n",
       "      <td>0</td>\n",
       "      <td>0</td>\n",
       "      <td>0</td>\n",
       "      <td>0</td>\n",
       "      <td>0</td>\n",
       "      <td>0</td>\n",
       "    </tr>\n",
       "    <tr>\n",
       "      <th>Koundara</th>\n",
       "      <td>2</td>\n",
       "      <td>71</td>\n",
       "      <td>1</td>\n",
       "      <td>0</td>\n",
       "      <td>0</td>\n",
       "      <td>0</td>\n",
       "      <td>0</td>\n",
       "      <td>0</td>\n",
       "      <td>0</td>\n",
       "    </tr>\n",
       "    <tr>\n",
       "      <th>Madina_North</th>\n",
       "      <td>7</td>\n",
       "      <td>192</td>\n",
       "      <td>0</td>\n",
       "      <td>0</td>\n",
       "      <td>0</td>\n",
       "      <td>0</td>\n",
       "      <td>0</td>\n",
       "      <td>1</td>\n",
       "      <td>0</td>\n",
       "    </tr>\n",
       "    <tr>\n",
       "      <th>Madina_West</th>\n",
       "      <td>0</td>\n",
       "      <td>27</td>\n",
       "      <td>0</td>\n",
       "      <td>0</td>\n",
       "      <td>0</td>\n",
       "      <td>0</td>\n",
       "      <td>0</td>\n",
       "      <td>0</td>\n",
       "      <td>0</td>\n",
       "    </tr>\n",
       "    <tr>\n",
       "      <th>Mensonso</th>\n",
       "      <td>0</td>\n",
       "      <td>1</td>\n",
       "      <td>0</td>\n",
       "      <td>0</td>\n",
       "      <td>0</td>\n",
       "      <td>0</td>\n",
       "      <td>0</td>\n",
       "      <td>0</td>\n",
       "      <td>0</td>\n",
       "    </tr>\n",
       "    <tr>\n",
       "      <th>Mprakyire</th>\n",
       "      <td>0</td>\n",
       "      <td>10</td>\n",
       "      <td>0</td>\n",
       "      <td>0</td>\n",
       "      <td>0</td>\n",
       "      <td>0</td>\n",
       "      <td>0</td>\n",
       "      <td>0</td>\n",
       "      <td>0</td>\n",
       "    </tr>\n",
       "    <tr>\n",
       "      <th>New Edubiase</th>\n",
       "      <td>0</td>\n",
       "      <td>40</td>\n",
       "      <td>0</td>\n",
       "      <td>0</td>\n",
       "      <td>2</td>\n",
       "      <td>0</td>\n",
       "      <td>0</td>\n",
       "      <td>0</td>\n",
       "      <td>0</td>\n",
       "    </tr>\n",
       "    <tr>\n",
       "      <th>Nkotumso</th>\n",
       "      <td>0</td>\n",
       "      <td>29</td>\n",
       "      <td>0</td>\n",
       "      <td>1</td>\n",
       "      <td>0</td>\n",
       "      <td>0</td>\n",
       "      <td>0</td>\n",
       "      <td>0</td>\n",
       "      <td>0</td>\n",
       "    </tr>\n",
       "    <tr>\n",
       "      <th>Obuasi</th>\n",
       "      <td>1</td>\n",
       "      <td>163</td>\n",
       "      <td>1</td>\n",
       "      <td>1</td>\n",
       "      <td>26</td>\n",
       "      <td>4</td>\n",
       "      <td>1</td>\n",
       "      <td>0</td>\n",
       "      <td>1</td>\n",
       "    </tr>\n",
       "    <tr>\n",
       "      <th>Odumto</th>\n",
       "      <td>0</td>\n",
       "      <td>34</td>\n",
       "      <td>0</td>\n",
       "      <td>0</td>\n",
       "      <td>0</td>\n",
       "      <td>0</td>\n",
       "      <td>0</td>\n",
       "      <td>0</td>\n",
       "      <td>0</td>\n",
       "    </tr>\n",
       "    <tr>\n",
       "      <th>Ouassorola</th>\n",
       "      <td>0</td>\n",
       "      <td>12</td>\n",
       "      <td>1</td>\n",
       "      <td>0</td>\n",
       "      <td>0</td>\n",
       "      <td>0</td>\n",
       "      <td>0</td>\n",
       "      <td>0</td>\n",
       "      <td>0</td>\n",
       "    </tr>\n",
       "    <tr>\n",
       "      <th>Pala</th>\n",
       "      <td>0</td>\n",
       "      <td>77</td>\n",
       "      <td>0</td>\n",
       "      <td>0</td>\n",
       "      <td>0</td>\n",
       "      <td>0</td>\n",
       "      <td>0</td>\n",
       "      <td>0</td>\n",
       "      <td>0</td>\n",
       "    </tr>\n",
       "    <tr>\n",
       "      <th>Pokukrom</th>\n",
       "      <td>0</td>\n",
       "      <td>36</td>\n",
       "      <td>1</td>\n",
       "      <td>0</td>\n",
       "      <td>0</td>\n",
       "      <td>0</td>\n",
       "      <td>0</td>\n",
       "      <td>0</td>\n",
       "      <td>0</td>\n",
       "    </tr>\n",
       "    <tr>\n",
       "      <th>Prisintease</th>\n",
       "      <td>0</td>\n",
       "      <td>24</td>\n",
       "      <td>0</td>\n",
       "      <td>0</td>\n",
       "      <td>0</td>\n",
       "      <td>0</td>\n",
       "      <td>0</td>\n",
       "      <td>0</td>\n",
       "      <td>0</td>\n",
       "    </tr>\n",
       "    <tr>\n",
       "      <th>Souroukoudinga</th>\n",
       "      <td>0</td>\n",
       "      <td>78</td>\n",
       "      <td>0</td>\n",
       "      <td>0</td>\n",
       "      <td>0</td>\n",
       "      <td>0</td>\n",
       "      <td>0</td>\n",
       "      <td>0</td>\n",
       "      <td>0</td>\n",
       "    </tr>\n",
       "    <tr>\n",
       "      <th>Subin Camp</th>\n",
       "      <td>0</td>\n",
       "      <td>2</td>\n",
       "      <td>0</td>\n",
       "      <td>0</td>\n",
       "      <td>0</td>\n",
       "      <td>0</td>\n",
       "      <td>0</td>\n",
       "      <td>0</td>\n",
       "      <td>0</td>\n",
       "    </tr>\n",
       "    <tr>\n",
       "      <th>Takan</th>\n",
       "      <td>1</td>\n",
       "      <td>30</td>\n",
       "      <td>0</td>\n",
       "      <td>0</td>\n",
       "      <td>0</td>\n",
       "      <td>0</td>\n",
       "      <td>0</td>\n",
       "      <td>0</td>\n",
       "      <td>0</td>\n",
       "    </tr>\n",
       "    <tr>\n",
       "      <th>Takoradi</th>\n",
       "      <td>0</td>\n",
       "      <td>24</td>\n",
       "      <td>0</td>\n",
       "      <td>0</td>\n",
       "      <td>0</td>\n",
       "      <td>0</td>\n",
       "      <td>0</td>\n",
       "      <td>0</td>\n",
       "      <td>0</td>\n",
       "    </tr>\n",
       "    <tr>\n",
       "      <th>Tieneguebougou</th>\n",
       "      <td>7</td>\n",
       "      <td>0</td>\n",
       "      <td>0</td>\n",
       "      <td>0</td>\n",
       "      <td>0</td>\n",
       "      <td>0</td>\n",
       "      <td>0</td>\n",
       "      <td>0</td>\n",
       "      <td>0</td>\n",
       "    </tr>\n",
       "    <tr>\n",
       "      <th>Toumani Oulena</th>\n",
       "      <td>1</td>\n",
       "      <td>62</td>\n",
       "      <td>0</td>\n",
       "      <td>0</td>\n",
       "      <td>0</td>\n",
       "      <td>0</td>\n",
       "      <td>0</td>\n",
       "      <td>0</td>\n",
       "      <td>0</td>\n",
       "    </tr>\n",
       "    <tr>\n",
       "      <th>Twifo Praso</th>\n",
       "      <td>0</td>\n",
       "      <td>25</td>\n",
       "      <td>0</td>\n",
       "      <td>0</td>\n",
       "      <td>0</td>\n",
       "      <td>0</td>\n",
       "      <td>0</td>\n",
       "      <td>0</td>\n",
       "      <td>0</td>\n",
       "    </tr>\n",
       "    <tr>\n",
       "      <th>Wamase</th>\n",
       "      <td>0</td>\n",
       "      <td>16</td>\n",
       "      <td>0</td>\n",
       "      <td>0</td>\n",
       "      <td>0</td>\n",
       "      <td>0</td>\n",
       "      <td>0</td>\n",
       "      <td>0</td>\n",
       "      <td>0</td>\n",
       "    </tr>\n",
       "    <tr>\n",
       "      <th>Watreso</th>\n",
       "      <td>0</td>\n",
       "      <td>19</td>\n",
       "      <td>0</td>\n",
       "      <td>0</td>\n",
       "      <td>0</td>\n",
       "      <td>0</td>\n",
       "      <td>0</td>\n",
       "      <td>0</td>\n",
       "      <td>0</td>\n",
       "    </tr>\n",
       "    <tr>\n",
       "      <th>Yadome</th>\n",
       "      <td>0</td>\n",
       "      <td>6</td>\n",
       "      <td>0</td>\n",
       "      <td>0</td>\n",
       "      <td>0</td>\n",
       "      <td>0</td>\n",
       "      <td>0</td>\n",
       "      <td>0</td>\n",
       "      <td>0</td>\n",
       "    </tr>\n",
       "  </tbody>\n",
       "</table>\n",
       "</div>"
      ],
      "text/plain": [
       "CN_mode         1    2   3   4   5   6   8   10  12\n",
       "location                                           \n",
       "Aboisso          0   38   0   0   0   0   0   0   0\n",
       "Adansi Apagya    0   16   0   0   0   0   0   0   0\n",
       "Adansi-Krom      0    6   0   0   0   0   0   0   0\n",
       "Adumanu          0    6   0   0   0   0   0   0   0\n",
       "Anhwiaso         0    2   0   0   0   0   0   0   0\n",
       "Ankaako          0   12   0   0   0   0   0   0   0\n",
       "Annorkrom        0   49   0   0   0   0   0   0   0\n",
       "Anwona           0    7   0   0   1   0   0   0   0\n",
       "Asonkore         0    5   0   0   0   0   0   0   0\n",
       "Avrankou         1   89   0   0   0   0   0   0   0\n",
       "Baguida          2  142   7   0  25   1   2   0   0\n",
       "Bana Village     0  128   0   0   0   0   0   0   0\n",
       "Bogobiri West    0    2   0   0   0   0   0   0   0\n",
       "Bogyawe          0    5   0   0   0   0   0   0   0\n",
       "Domenase         0   57   0   0   0   0   0   0   0\n",
       "Dompoase         0    2   0   0   1   0   0   0   0\n",
       "Fumso            0    4   0   0   0   0   0   0   0\n",
       "Jacobu           0    5   0   0   0   0   0   0   0\n",
       "Kababougou       0   40   0   0   0   0   0   0   0\n",
       "Kente            0   23   1   0   0   0   0   0   0\n",
       "Koforidua        0   24   0   0   0   0   0   0   0\n",
       "Kokotro          0   28   0   0   0   0   0   0   0\n",
       "Koniyaw          0   32   0   0   0   0   0   0   0\n",
       "Koraboh          2   59   1   0   0   0   0   0   0\n",
       "Korle-Bu         6  262   0   0   0   0   0   0   0\n",
       "Koundara         2   71   1   0   0   0   0   0   0\n",
       "Madina_North     7  192   0   0   0   0   0   1   0\n",
       "Madina_West      0   27   0   0   0   0   0   0   0\n",
       "Mensonso         0    1   0   0   0   0   0   0   0\n",
       "Mprakyire        0   10   0   0   0   0   0   0   0\n",
       "New Edubiase     0   40   0   0   2   0   0   0   0\n",
       "Nkotumso         0   29   0   1   0   0   0   0   0\n",
       "Obuasi           1  163   1   1  26   4   1   0   1\n",
       "Odumto           0   34   0   0   0   0   0   0   0\n",
       "Ouassorola       0   12   1   0   0   0   0   0   0\n",
       "Pala             0   77   0   0   0   0   0   0   0\n",
       "Pokukrom         0   36   1   0   0   0   0   0   0\n",
       "Prisintease      0   24   0   0   0   0   0   0   0\n",
       "Souroukoudinga   0   78   0   0   0   0   0   0   0\n",
       "Subin Camp       0    2   0   0   0   0   0   0   0\n",
       "Takan            1   30   0   0   0   0   0   0   0\n",
       "Takoradi         0   24   0   0   0   0   0   0   0\n",
       "Tieneguebougou   7    0   0   0   0   0   0   0   0\n",
       "Toumani Oulena   1   62   0   0   0   0   0   0   0\n",
       "Twifo Praso      0   25   0   0   0   0   0   0   0\n",
       "Wamase           0   16   0   0   0   0   0   0   0\n",
       "Watreso          0   19   0   0   0   0   0   0   0\n",
       "Yadome           0    6   0   0   0   0   0   0   0"
      ]
     },
     "execution_count": 19,
     "metadata": {},
     "output_type": "execute_result"
    }
   ],
   "source": [
    "import pandas as pd\n",
    "pd.crosstab(df_samples['location'], df_samples['CN_mode'])"
   ]
  },
  {
   "cell_type": "markdown",
   "id": "5f68c27a",
   "metadata": {},
   "source": [
    "### Looking at coverage (HMM)"
   ]
  },
  {
   "cell_type": "markdown",
   "id": "fc2e7c1a",
   "metadata": {},
   "source": [
    "Lets check how legitimate the CNV looks by investigating the HMM"
   ]
  },
  {
   "cell_type": "code",
   "execution_count": 9,
   "id": "e48dded9",
   "metadata": {
    "scrolled": false
   },
   "outputs": [
    {
     "data": {
      "text/html": [
       "\n",
       "\n",
       "\n",
       "\n",
       "\n",
       "\n",
       "  <div class=\"bk-root\" id=\"ae23314c-f55e-493d-912a-eef9e3d68219\" data-root-id=\"1148\"></div>\n"
      ]
     },
     "metadata": {},
     "output_type": "display_data"
    },
    {
     "data": {
      "application/javascript": "(function(root) {\n  function embed_document(root) {\n    \n  const docs_json = {\"3ec4a9de-d37d-48fb-ac17-d4def17d39a1\":{\"defs\":[],\"roots\":{\"references\":[{\"attributes\":{\"children\":[{\"id\":\"1147\"},{\"id\":\"1145\"}]},\"id\":\"1148\",\"type\":\"Column\"},{\"attributes\":{\"dimensions\":\"width\"},\"id\":\"1023\",\"type\":\"PanTool\"},{\"attributes\":{},\"id\":\"1096\",\"type\":\"ResetTool\"},{\"attributes\":{\"source\":{\"id\":\"1115\"}},\"id\":\"1121\",\"type\":\"CDSView\"},{\"attributes\":{\"below\":[{\"id\":\"1085\"}],\"center\":[{\"id\":\"1088\"},{\"id\":\"1092\"}],\"height\":120,\"left\":[{\"id\":\"1089\"}],\"renderers\":[{\"id\":\"1120\"}],\"title\":{\"id\":\"1076\"},\"toolbar\":{\"id\":\"1099\"},\"toolbar_location\":null,\"width\":800,\"x_range\":{\"id\":\"1003\"},\"x_scale\":{\"id\":\"1081\"},\"y_range\":{\"id\":\"1122\"},\"y_scale\":{\"id\":\"1083\"}},\"id\":\"1075\",\"subtype\":\"Figure\",\"type\":\"Plot\"},{\"attributes\":{\"callback\":{\"id\":\"1114\"}},\"id\":\"1097\",\"type\":\"TapTool\"},{\"attributes\":{},\"id\":\"1013\",\"type\":\"LinearScale\"},{\"attributes\":{},\"id\":\"1109\",\"type\":\"BasicTickFormatter\"},{\"attributes\":{\"callback\":null,\"tooltips\":[[\"ID\",\"@ID\"],[\"Name\",\"@Name\"],[\"Description\",\"@description\"],[\"Location\",\"@contig:@start{,}-@end{,}\"]]},\"id\":\"1098\",\"type\":\"HoverTool\"},{\"attributes\":{\"data\":{\"call_CN\":{\"__ndarray__\":\"AgICAgICAgICAgICAgICAgICAgICAgICAgICAgICAgICAgICAgICAgICAgICAgICAgICAgMDAwMDAwMDAwMDAwMDAwMDAwMDAwMDAwMDAwMDAwMDAwMDAwMDAwMDAwMDAwMDAwMDAwMDAwMDAwMDAwMDAwMDAwMDAwMDAwMDAwMDAwMDAwMDAwMDAwMDAwMDAwMDAwMDAwMDAwMDAwMDAwMDAwMDAwMHAwMDAwMCAgICAgICAgICAgICAgICAgICAgICAgICAgIC\",\"dtype\":\"int8\",\"order\":\"little\",\"shape\":[201]},\"call_NormCov\":{\"__ndarray__\":\"/tT4PyPbyT9/avw/AAAQQAAAAEAAAABAN4nxP7bz7T+0yOY/7nzfP2iRzT9WDq0/befbP8HKAUBCYNU/pHAFQEJg9T+0yOY/PzVOQN9PPUCgGgdAEFjJPz817j/BygFAIbAaQAAAAEB/ahw/7nxfP4GV4z+6SQxAgZUzQKJFxj+28+0/pHAFQCUGCUD+1Pg/AADAP+km0T9t59s/MzPjP6RwBUCLbBdAppsMQMHK8T8AAOA/F9kuQEoMEkDLofU/AivnP4tsF0DfTwVADAKbP1pkc0Cq8VJA1XgpQDm0MECLbBdABoFNQHE9IkCBlUNA/Kk5QKAaR0Bg5UBAoBpHQN9PNUDLoQ1A6SZRQH9qPEDhekRAwcoxQHE9IkDVeClA4XpEQOF6REDsUVhAYOVAQCGwOkCWQytAeelGQHsULkA/NS5AoBpHQD81PkB/amxA/Kk5QLbzHUD8qTlA/Kk5QOXQCkAv3RxA/Kk5QIXrSUB3vm9A+n4yQClcZ0DFIEhAL90cQCGwCkBU4yVAKVw3QIXrSUDpJlFA4XpEQD81TkAfhTtA1XgpQKrxUkCgGl9AnMR4QKAaZ0BGtktAukk0QMHKYUB7FCZA309FQN9PPUA73zdAmG5SQIGVQ0BQjYNAPzVeQJzEeEDHS09AAABgQCuHVkBWDi1AoBonQD81PkDjpTtAF9kuQKAaP0C6STRA7FFYQHsUNkBg5UBASOEyQIGVU0AhsEJAoBpnQKrxakDsUVhAf2o8QGDlGEAQWCFAkxhMQH9qLEDpJlFAoBo/QHe+b0Db+XZAx0tPQFYOFUB/aixAIbBqQDvfN0AX2S5Aukk0QGDlOECTGAxAAAAgQIGVM0C6STRAF9kuQIGVE0BeukFAPzVOQHWTaEDwp95AoBo3QKrxUkDBykFARrZLQIGVQ0AlBglA6SbRPzMz4z/pJtE/sp3PP8HKAUB/agxAgZUDQDMz4z+BleM/pHAFQIGV4z9/avw/BoH1P6AaF0CJQRBAWDm0P+583z83ifE/7FHYP39q/D8AAABAaJHNP39q3D/P9+M/YOUIQPp+CkBKDBJA\",\"dtype\":\"float32\",\"order\":\"little\",\"shape\":[201]},\"samples\":[\"BL0246-C\",\"BL0246-C\",\"BL0246-C\",\"BL0246-C\",\"BL0246-C\",\"BL0246-C\",\"BL0246-C\",\"BL0246-C\",\"BL0246-C\",\"BL0246-C\",\"BL0246-C\",\"BL0246-C\",\"BL0246-C\",\"BL0246-C\",\"BL0246-C\",\"BL0246-C\",\"BL0246-C\",\"BL0246-C\",\"BL0246-C\",\"BL0246-C\",\"BL0246-C\",\"BL0246-C\",\"BL0246-C\",\"BL0246-C\",\"BL0246-C\",\"BL0246-C\",\"BL0246-C\",\"BL0246-C\",\"BL0246-C\",\"BL0246-C\",\"BL0246-C\",\"BL0246-C\",\"BL0246-C\",\"BL0246-C\",\"BL0246-C\",\"BL0246-C\",\"BL0246-C\",\"BL0246-C\",\"BL0246-C\",\"BL0246-C\",\"BL0246-C\",\"BL0246-C\",\"BL0246-C\",\"BL0246-C\",\"BL0246-C\",\"BL0246-C\",\"BL0246-C\",\"BL0246-C\",\"BL0246-C\",\"BL0246-C\",\"BL0246-C\",\"BL0246-C\",\"BL0246-C\",\"BL0246-C\",\"BL0246-C\",\"BL0246-C\",\"BL0246-C\",\"BL0246-C\",\"BL0246-C\",\"BL0246-C\",\"BL0246-C\",\"BL0246-C\",\"BL0246-C\",\"BL0246-C\",\"BL0246-C\",\"BL0246-C\",\"BL0246-C\",\"BL0246-C\",\"BL0246-C\",\"BL0246-C\",\"BL0246-C\",\"BL0246-C\",\"BL0246-C\",\"BL0246-C\",\"BL0246-C\",\"BL0246-C\",\"BL0246-C\",\"BL0246-C\",\"BL0246-C\",\"BL0246-C\",\"BL0246-C\",\"BL0246-C\",\"BL0246-C\",\"BL0246-C\",\"BL0246-C\",\"BL0246-C\",\"BL0246-C\",\"BL0246-C\",\"BL0246-C\",\"BL0246-C\",\"BL0246-C\",\"BL0246-C\",\"BL0246-C\",\"BL0246-C\",\"BL0246-C\",\"BL0246-C\",\"BL0246-C\",\"BL0246-C\",\"BL0246-C\",\"BL0246-C\",\"BL0246-C\",\"BL0246-C\",\"BL0246-C\",\"BL0246-C\",\"BL0246-C\",\"BL0246-C\",\"BL0246-C\",\"BL0246-C\",\"BL0246-C\",\"BL0246-C\",\"BL0246-C\",\"BL0246-C\",\"BL0246-C\",\"BL0246-C\",\"BL0246-C\",\"BL0246-C\",\"BL0246-C\",\"BL0246-C\",\"BL0246-C\",\"BL0246-C\",\"BL0246-C\",\"BL0246-C\",\"BL0246-C\",\"BL0246-C\",\"BL0246-C\",\"BL0246-C\",\"BL0246-C\",\"BL0246-C\",\"BL0246-C\",\"BL0246-C\",\"BL0246-C\",\"BL0246-C\",\"BL0246-C\",\"BL0246-C\",\"BL0246-C\",\"BL0246-C\",\"BL0246-C\",\"BL0246-C\",\"BL0246-C\",\"BL0246-C\",\"BL0246-C\",\"BL0246-C\",\"BL0246-C\",\"BL0246-C\",\"BL0246-C\",\"BL0246-C\",\"BL0246-C\",\"BL0246-C\",\"BL0246-C\",\"BL0246-C\",\"BL0246-C\",\"BL0246-C\",\"BL0246-C\",\"BL0246-C\",\"BL0246-C\",\"BL0246-C\",\"BL0246-C\",\"BL0246-C\",\"BL0246-C\",\"BL0246-C\",\"BL0246-C\",\"BL0246-C\",\"BL0246-C\",\"BL0246-C\",\"BL0246-C\",\"BL0246-C\",\"BL0246-C\",\"BL0246-C\",\"BL0246-C\",\"BL0246-C\",\"BL0246-C\",\"BL0246-C\",\"BL0246-C\",\"BL0246-C\",\"BL0246-C\",\"BL0246-C\",\"BL0246-C\",\"BL0246-C\",\"BL0246-C\",\"BL0246-C\",\"BL0246-C\",\"BL0246-C\",\"BL0246-C\",\"BL0246-C\",\"BL0246-C\",\"BL0246-C\",\"BL0246-C\",\"BL0246-C\",\"BL0246-C\",\"BL0246-C\",\"BL0246-C\",\"BL0246-C\",\"BL0246-C\",\"BL0246-C\",\"BL0246-C\",\"BL0246-C\",\"BL0246-C\",\"BL0246-C\",\"BL0246-C\",\"BL0246-C\",\"BL0246-C\"],\"variant_contig\":{\"__ndarray__\":\"AQEBAQEBAQEBAQEBAQEBAQEBAQEBAQEBAQEBAQEBAQEBAQEBAQEBAQEBAQEBAQEBAQEBAQEBAQEBAQEBAQEBAQEBAQEBAQEBAQEBAQEBAQEBAQEBAQEBAQEBAQEBAQEBAQEBAQEBAQEBAQEBAQEBAQEBAQEBAQEBAQEBAQEBAQEBAQEBAQEBAQEBAQEBAQEBAQEBAQEBAQEBAQEBAQEBAQEBAQEBAQEBAQEBAQEBAQEBAQEBAQEBAQEBAQEBAQEBAQEBAQEBAQEB\",\"dtype\":\"uint8\",\"order\":\"little\",\"shape\":[201]},\"variant_end\":{\"__ndarray__\":\"pC6zAdAvswH8MLMBKDKzAVQzswGANLMBrDWzAdg2swEEOLMBMDmzAVw6swGIO7MBtDyzAeA9swEMP7MBOECzAWRBswGQQrMBvEOzAehEswEURrMBQEezAWxIswGYSbMBxEqzAfBLswEcTbMBSE6zAXRPswGgULMBzFGzAfhSswEkVLMBUFWzAXxWswGoV7MB1FizAQBaswEsW7MBWFyzAYRdswGwXrMB3F+zAQhhswE0YrMBYGOzAYxkswG4ZbMB5GazARBoswE8abMBaGqzAZRrswHAbLMB7G2zARhvswFEcLMBcHGzAZxyswHIc7MB9HSzASB2swFMd7MBeHizAaR5swHQerMB/HuzASh9swFUfrMBgH+zAayAswHYgbMBBIOzATCEswFchbMBiIazAbSHswHgiLMBDIqzATiLswFkjLMBkI2zAbyOswHoj7MBFJGzAUCSswFsk7MBmJSzAcSVswHwlrMBHJizAUiZswF0mrMBoJuzAcycswH4nbMBJJ+zAVCgswF8obMBqKKzAdSjswEApbMBLKazAVinswGEqLMBsKmzAdyqswEIrLMBNK2zAWCuswGMr7MBuLCzAeSxswEQs7MBPLSzAWi1swGUtrMBwLezAey4swEYurMBRLuzAXC8swGcvbMByL6zAfS/swEgwbMBTMKzAXjDswGkxLMB0MWzAfzGswEoyLMBVMmzAYDKswGsy7MB2MyzAQTOswEwz7MBXNCzAYjRswG00rMB4NOzAQzVswE41rMBZNezAZDYswG82bMB6NqzARTcswFA3bMBbN6zAZjfswHE4LMB8OGzARzjswFI5LMBdOWzAaDmswHM57MB+OizASTqswFQ67MBfOyzAajtswHU7rMBAPCzASzxswFY8rMBhPOzAbD0swHc9bMBCPezATT4swFg+bMBjPqzAbj7swHk/LMBEP6zATz/swFoALQBlAG0AcACtAHsA7QBGAW0AUQGtAFwB7QBnAi0AcgJtAH0CrQBIAy0AUwNtAF4DrQBpA+0AdAQtAH8EbQBKBO0AVQUtAGAFbQBrBa0AdgXtAEEGbQB\",\"dtype\":\"int32\",\"order\":\"little\",\"shape\":[201]},\"variant_midpoint\":{\"__ndarray__\":\"Dy6zATsvswFnMLMBkzGzAb8yswHrM7MBFzWzAUM2swFvN7MBmzizAcc5swHzOrMBHzyzAUs9swF3PrMBoz+zAc9AswH7QbMBJ0OzAVNEswF/RbMBq0azAddHswEDSbMBL0qzAVtLswGHTLMBs02zAd9OswELULMBN1GzAWNSswGPU7MBu1SzAedVswETV7MBP1izAWtZswGXWrMBw1uzAe9cswEbXrMBR1+zAXNgswGfYbMBy2KzAfdjswEjZbMBT2azAXtnswGnaLMB02mzAf9qswErbLMBV22zAYNuswGvb7MB23CzAQdyswEzc7MBX3SzAYt1swG3drMB43ezAQ95swE7erMBZ3uzAZN8swG/fbMB636zAReAswFDgbMBb4KzAZuDswHHhLMB84WzAR+HswFLiLMBd4mzAaOKswHPi7MB+4yzASeOswFTj7MBf5CzAauRswHXkrMBA5SzAS+VswFblrMBh5ezAbOYswHfmbMBC5uzATecswFjnbMBj56zAbufswHnoLMBE6KzAT+jswFrpLMBl6WzAcOmswHvp7MBG6mzAUeqswFzq7MBn6yzAcutswH3rrMBI7CzAU+xswF7srMBp7OzAdO0swH/tbMBK7ezAVe4swGDubMBr7qzAdu7swEHvbMBM76zAV+/swGLwLMBt8GzAePCswEPxLMBO8WzAWfGswGTx7MBv8izAevJswEXy7MBQ8yzAW/NswGbzrMBx8+zAfPQswEf0rMBS9OzAXfUswGj1bMBz9azAfvXswEn2bMBU9qzAX/bswGr3LMB192zAQPfswEv4LMBW+GzAYfiswGz47MB3+SzAQvmswE357MBY+izAY/pswG76rMB5+uzARPtswE/7rMBa++zAZfwswHD8bMB7/KzARv0swFH9bMBc/azAZ/3swHL+LMB9/mzASP7swFP/LMBe/2zAaf+swHT/7MB/wC0ASsCtAFXA7QBgwS0Aa8FtAHbBrQBBwi0ATMJtAFfCrQBiwu0AbcMtAHjDbQBDw+0ATsQtAFnEbQBkxK0Ab8TtAHrFLQBFxa0AUMXtAFvGLQB\",\"dtype\":\"int32\",\"order\":\"little\",\"shape\":[201]},\"variant_position\":{\"__ndarray__\":\"eS2zAaUuswHRL7MB/TCzASkyswFVM7MBgTSzAa01swHZNrMBBTizATE5swFdOrMBiTuzAbU8swHhPbMBDT+zATlAswFlQbMBkUKzAb1DswHpRLMBFUazAUFHswFtSLMBmUmzAcVKswHxS7MBHU2zAUlOswF1T7MBoVCzAc1RswH5UrMBJVSzAVFVswF9VrMBqVezAdVYswEBWrMBLVuzAVlcswGFXbMBsV6zAd1fswEJYbMBNWKzAWFjswGNZLMBuWWzAeVmswERaLMBPWmzAWlqswGVa7MBwWyzAe1tswEZb7MBRXCzAXFxswGdcrMByXOzAfV0swEhdrMBTXezAXl4swGlebMB0XqzAf17swEpfbMBVX6zAYF/swGtgLMB2YGzAQWDswExhLMBXYWzAYmGswG1h7MB4YizAQ2KswE5i7MBZYyzAZGNswG9jrMB6Y+zARWRswFBkrMBbZOzAZmUswHFlbMB8ZazAR2YswFJmbMBdZqzAaGbswHNnLMB+Z2zASWfswFRoLMBfaGzAamiswHVo7MBAaWzAS2mswFZp7MBhaizAbGpswHdqrMBCayzATWtswFhrrMBja+zAbmwswHlsbMBEbOzAT20swFptbMBlbazAcG3swHtuLMBGbqzAUW7swFxvLMBnb2zAcm+swH1v7MBIcGzAU3CswF5w7MBpcSzAdHFswH9xrMBKcizAVXJswGByrMBrcuzAdnMswEFzrMBMc+zAV3QswGJ0bMBtdKzAeHTswEN1bMBOdazAWXXswGR2LMBvdmzAenaswEV3LMBQd2zAW3eswGZ37MBxeCzAfHhswEd47MBSeSzAXXlswGh5rMBzeezAfnoswEl6rMBUeuzAX3sswGp7bMB1e6zAQHwswEt8bMBWfKzAYXzswGx9LMB3fWzAQn3swE1+LMBYfmzAY36swG5+7MB5fyzARH+swE9/7MBaQC0AZUBtAHBArQB7QO0ARkFtAFFBrQBcQe0AZ0ItAHJCbQB9Qq0ASEMtAFNDbQBeQ60AaUPtAHRELQB/RG0ASkTtAFVFLQBgRW0Aa0WtAHZF7QB\",\"dtype\":\"int32\",\"order\":\"little\",\"shape\":[201]},\"variants\":[0,1,2,3,4,5,6,7,8,9,10,11,12,13,14,15,16,17,18,19,20,21,22,23,24,25,26,27,28,29,30,31,32,33,34,35,36,37,38,39,40,41,42,43,44,45,46,47,48,49,50,51,52,53,54,55,56,57,58,59,60,61,62,63,64,65,66,67,68,69,70,71,72,73,74,75,76,77,78,79,80,81,82,83,84,85,86,87,88,89,90,91,92,93,94,95,96,97,98,99,100,101,102,103,104,105,106,107,108,109,110,111,112,113,114,115,116,117,118,119,120,121,122,123,124,125,126,127,128,129,130,131,132,133,134,135,136,137,138,139,140,141,142,143,144,145,146,147,148,149,150,151,152,153,154,155,156,157,158,159,160,161,162,163,164,165,166,167,168,169,170,171,172,173,174,175,176,177,178,179,180,181,182,183,184,185,186,187,188,189,190,191,192,193,194,195,196,197,198,199,200]},\"selected\":{\"id\":\"1048\"},\"selection_policy\":{\"id\":\"1047\"}},\"id\":\"1033\",\"type\":\"ColumnDataSource\"},{\"attributes\":{\"data\":{\"ID\":[\"AGAP006221\",\"AGAP006222\",\"AGAP006223\",\"AGAP006224\",\"AGAP006225\",\"AGAP006226\",\"AGAP006227\",\"AGAP006228\",\"AGAP006229\",\"AGAP006231\",\"AGAP006232\",\"AGAP006233\",\"AGAP006234\",\"AGAP006235\",\"AGAP006236\",\"AGAP006237\",\"AGAP006238\",\"AGAP006239\"],\"Name\":[\"\",\"\",\"\",\"\",\"\",\"Aldehyde_oxidase\",\"\",\"COEAE2F\",\"Vps20\",\"\",\"Pex14\",\"\",\"\",\"\",\"\",\"\",\"\",\"\"],\"Parent\":[\"NaN\",\"NaN\",\"NaN\",\"NaN\",\"NaN\",\"NaN\",\"NaN\",\"NaN\",\"NaN\",\"NaN\",\"NaN\",\"NaN\",\"NaN\",\"NaN\",\"NaN\",\"NaN\",\"NaN\",\"NaN\"],\"bottom\":[1,1,1,1,1,1,0,1,1,1,0,1,1,0,0,0,1,1],\"contig\":[\"2L\",\"2L\",\"2L\",\"2L\",\"2L\",\"2L\",\"2L\",\"2L\",\"2L\",\"2L\",\"2L\",\"2L\",\"2L\",\"2L\",\"2L\",\"2L\",\"2L\",\"2L\"],\"description\":[\"aldehyde oxidase [Source:VB Community Annotation]\",\"glucosyl/glucuronosyl transferases [Source:VB Community Annotation]\",\"glucosyl/glucuronosyl transferases [Source:VB Community Annotation]\",\"aldehyde oxidase [Source:VB Community Annotation]\",\"aldehyde oxidase [Source:VB Community Annotation]\",\"\",\"alpha esterase [Source:VB Community Annotation]\",\"carboxylesterase [Source:VB Community Annotation]\",\"vacuolar protein sorting 20 [Source:VB Community Annotation]\",\"serine/threonine-protein phosphatase dullard homolog [Source:VB Community Annotation]\",\"peroxin-14 [Source:VB Community Annotation]\",\"\",\"protein SHQ1 [Source:VB Community Annotation]\",\"\",\"\",\"Negative elongation factor E [Source:VB Community Annotation]\",\"ubiquitin-conjugating enzyme E2 C [Source:VB Community Annotation]\",\"Protein TSSC1 [Source:VB Community Annotation]\"],\"end\":[28523900,28526317,28528641,28533199,28539416,28545294,28547938,28550748,28552032,28560186,28565368,28567186,28569087,28572971,28574496,28575725,28579600,28581250],\"index\":[24735,24757,24771,24785,24801,24817,24832,24850,24862,24874,24890,24904,24912,24924,24940,24947,24953,24961],\"phase\":{\"__ndarray__\":\"AAAAAAAA+H8AAAAAAAD4fwAAAAAAAPh/AAAAAAAA+H8AAAAAAAD4fwAAAAAAAPh/AAAAAAAA+H8AAAAAAAD4fwAAAAAAAPh/AAAAAAAA+H8AAAAAAAD4fwAAAAAAAPh/AAAAAAAA+H8AAAAAAAD4fwAAAAAAAPh/AAAAAAAA+H8AAAAAAAD4fwAAAAAAAPh/\",\"dtype\":\"float64\",\"order\":\"little\",\"shape\":[18]},\"score\":{\"__ndarray__\":\"AAAAAAAA+H8AAAAAAAD4fwAAAAAAAPh/AAAAAAAA+H8AAAAAAAD4fwAAAAAAAPh/AAAAAAAA+H8AAAAAAAD4fwAAAAAAAPh/AAAAAAAA+H8AAAAAAAD4fwAAAAAAAPh/AAAAAAAA+H8AAAAAAAD4fwAAAAAAAPh/AAAAAAAA+H8AAAAAAAD4fwAAAAAAAPh/\",\"dtype\":\"float64\",\"order\":\"little\",\"shape\":[18]},\"source\":[\"VectorBase\",\"VectorBase\",\"VectorBase\",\"VectorBase\",\"VectorBase\",\"VectorBase\",\"VectorBase\",\"VectorBase\",\"VectorBase\",\"VectorBase\",\"VectorBase\",\"VectorBase\",\"VectorBase\",\"VectorBase\",\"VectorBase\",\"VectorBase\",\"VectorBase\",\"VectorBase\"],\"start\":[28518055,28524225,28526558,28528758,28534732,28540651,28545396,28548433,28550814,28552352,28563646,28565893,28567535,28569164,28573531,28574680,28576341,28579834],\"strand\":[\"+\",\"+\",\"+\",\"+\",\"+\",\"+\",\"-\",\"+\",\"+\",\"+\",\"-\",\"+\",\"+\",\"-\",\"-\",\"-\",\"+\",\"+\"],\"top\":{\"__ndarray__\":\"zczMzMzM/D/NzMzMzMz8P83MzMzMzPw/zczMzMzM/D/NzMzMzMz8P83MzMzMzPw/mpmZmZmZ6T/NzMzMzMz8P83MzMzMzPw/zczMzMzM/D+amZmZmZnpP83MzMzMzPw/zczMzMzM/D+amZmZmZnpP5qZmZmZmek/mpmZmZmZ6T/NzMzMzMz8P83MzMzMzPw/\",\"dtype\":\"float64\",\"order\":\"little\",\"shape\":[18]},\"type\":[\"gene\",\"gene\",\"gene\",\"gene\",\"gene\",\"gene\",\"gene\",\"gene\",\"gene\",\"gene\",\"gene\",\"gene\",\"gene\",\"gene\",\"gene\",\"gene\",\"gene\",\"gene\"]},\"selected\":{\"id\":\"1143\"},\"selection_policy\":{\"id\":\"1142\"}},\"id\":\"1115\",\"type\":\"ColumnDataSource\"},{\"attributes\":{\"dimensions\":\"width\",\"maintain_focus\":false},\"id\":\"1004\",\"type\":\"WheelZoomTool\"},{\"attributes\":{\"dimensions\":\"width\"},\"id\":\"1093\",\"type\":\"PanTool\"},{\"attributes\":{\"coordinates\":null,\"data_source\":{\"id\":\"1115\"},\"glyph\":{\"id\":\"1117\"},\"group\":null,\"hover_glyph\":null,\"muted_glyph\":{\"id\":\"1119\"},\"nonselection_glyph\":{\"id\":\"1118\"},\"view\":{\"id\":\"1121\"}},\"id\":\"1120\",\"type\":\"GlyphRenderer\"},{\"attributes\":{\"dimensions\":\"width\",\"maintain_focus\":false},\"id\":\"1074\",\"type\":\"WheelZoomTool\"},{\"attributes\":{},\"id\":\"1047\",\"type\":\"UnionRenderers\"},{\"attributes\":{\"dimensions\":\"width\"},\"id\":\"1025\",\"type\":\"ZoomOutTool\"},{\"attributes\":{\"dimensions\":\"width\"},\"id\":\"1095\",\"type\":\"ZoomOutTool\"},{\"attributes\":{\"bottom\":{\"field\":\"bottom\"},\"fill_alpha\":{\"value\":0.1},\"fill_color\":{\"value\":\"#1f77b4\"},\"hatch_alpha\":{\"value\":0.1},\"left\":{\"field\":\"start\"},\"line_alpha\":{\"value\":0.1},\"line_color\":{\"value\":\"#1f77b4\"},\"line_width\":{\"value\":0.5},\"right\":{\"field\":\"end\"},\"top\":{\"field\":\"top\"}},\"id\":\"1118\",\"type\":\"Quad\"},{\"attributes\":{\"url\":\"https://vectorbase.org/vectorbase/app/record/gene/@ID\"},\"id\":\"1114\",\"type\":\"OpenURL\"},{\"attributes\":{},\"id\":\"1110\",\"type\":\"AllLabels\"},{\"attributes\":{\"axis\":{\"id\":\"1015\"},\"coordinates\":null,\"group\":null,\"ticker\":null},\"id\":\"1018\",\"type\":\"Grid\"},{\"attributes\":{\"dimensions\":\"width\"},\"id\":\"1094\",\"type\":\"ZoomInTool\"},{\"attributes\":{\"line_color\":\"#1f77b4\",\"line_width\":2,\"x\":{\"field\":\"variant_midpoint\"},\"y\":{\"field\":\"call_CN\"}},\"id\":\"1053\",\"type\":\"Line\"},{\"attributes\":{\"active_drag\":{\"id\":\"1093\"},\"active_scroll\":{\"id\":\"1074\"},\"tools\":[{\"id\":\"1074\"},{\"id\":\"1093\"},{\"id\":\"1094\"},{\"id\":\"1095\"},{\"id\":\"1096\"},{\"id\":\"1097\"},{\"id\":\"1098\"}]},\"id\":\"1099\",\"type\":\"Toolbar\"},{\"attributes\":{},\"id\":\"1026\",\"type\":\"ResetTool\"},{\"attributes\":{},\"id\":\"1048\",\"type\":\"Selection\"},{\"attributes\":{\"axis\":{\"id\":\"1019\"},\"coordinates\":null,\"dimension\":1,\"group\":null,\"ticker\":null},\"id\":\"1022\",\"type\":\"Grid\"},{\"attributes\":{\"children\":[[{\"id\":\"1005\"},0,0],[{\"id\":\"1075\"},1,0]]},\"id\":\"1145\",\"type\":\"GridBox\"},{\"attributes\":{\"fill_color\":{\"value\":null},\"line_width\":{\"value\":0.5},\"size\":{\"value\":3},\"x\":{\"field\":\"variant_midpoint\"},\"y\":{\"field\":\"call_NormCov\"}},\"id\":\"1035\",\"type\":\"Circle\"},{\"attributes\":{},\"id\":\"1113\",\"type\":\"AllLabels\"},{\"attributes\":{\"below\":[{\"id\":\"1015\"}],\"center\":[{\"id\":\"1018\"},{\"id\":\"1022\"},{\"id\":\"1049\"}],\"height\":170,\"left\":[{\"id\":\"1019\"}],\"renderers\":[{\"id\":\"1038\"},{\"id\":\"1056\"}],\"right\":[{\"id\":\"1049\"}],\"title\":{\"id\":\"1006\"},\"toolbar\":{\"id\":\"1027\"},\"toolbar_location\":null,\"width\":800,\"x_range\":{\"id\":\"1003\"},\"x_scale\":{\"id\":\"1011\"},\"y_range\":{\"id\":\"1009\"},\"y_scale\":{\"id\":\"1013\"}},\"id\":\"1005\",\"subtype\":\"Figure\",\"type\":\"Plot\"},{\"attributes\":{\"active_drag\":{\"id\":\"1023\"},\"active_scroll\":{\"id\":\"1004\"},\"tools\":[{\"id\":\"1004\"},{\"id\":\"1023\"},{\"id\":\"1024\"},{\"id\":\"1025\"},{\"id\":\"1026\"}]},\"id\":\"1027\",\"type\":\"Toolbar\"},{\"attributes\":{\"fill_alpha\":{\"value\":0.1},\"fill_color\":{\"value\":null},\"hatch_alpha\":{\"value\":0.1},\"line_alpha\":{\"value\":0.1},\"line_width\":{\"value\":0.5},\"size\":{\"value\":3},\"x\":{\"field\":\"variant_midpoint\"},\"y\":{\"field\":\"call_NormCov\"}},\"id\":\"1036\",\"type\":\"Circle\"},{\"attributes\":{},\"id\":\"1125\",\"type\":\"NumeralTickFormatter\"},{\"attributes\":{\"bottom\":{\"field\":\"bottom\"},\"fill_alpha\":{\"value\":0.2},\"fill_color\":{\"value\":\"#1f77b4\"},\"hatch_alpha\":{\"value\":0.2},\"left\":{\"field\":\"start\"},\"line_alpha\":{\"value\":0.2},\"line_color\":{\"value\":\"#1f77b4\"},\"line_width\":{\"value\":0.5},\"right\":{\"field\":\"end\"},\"top\":{\"field\":\"top\"}},\"id\":\"1119\",\"type\":\"Quad\"},{\"attributes\":{\"end\":2.2,\"start\":-0.4},\"id\":\"1122\",\"type\":\"Range1d\"},{\"attributes\":{\"line_alpha\":0.2,\"line_color\":\"#1f77b4\",\"line_width\":2,\"x\":{\"field\":\"variant_midpoint\"},\"y\":{\"field\":\"call_CN\"}},\"id\":\"1055\",\"type\":\"Line\"},{\"attributes\":{\"ticks\":[0.4,1.4]},\"id\":\"1123\",\"type\":\"FixedTicker\"},{\"attributes\":{\"bottom\":{\"field\":\"bottom\"},\"fill_alpha\":{\"value\":0.5},\"fill_color\":{\"value\":\"#1f77b4\"},\"left\":{\"field\":\"start\"},\"line_color\":{\"value\":\"#1f77b4\"},\"line_width\":{\"value\":0.5},\"right\":{\"field\":\"end\"},\"top\":{\"field\":\"top\"}},\"id\":\"1117\",\"type\":\"Quad\"},{\"attributes\":{\"dimensions\":\"width\"},\"id\":\"1024\",\"type\":\"ZoomInTool\"},{\"attributes\":{},\"id\":\"1067\",\"type\":\"UnionRenderers\"},{\"attributes\":{\"axis_label\":\"Contig 2L position (bp)\",\"coordinates\":null,\"formatter\":{\"id\":\"1125\"},\"group\":null,\"major_label_policy\":{\"id\":\"1113\"},\"ticker\":{\"id\":\"1086\"}},\"id\":\"1085\",\"type\":\"LinearAxis\"},{\"attributes\":{},\"id\":\"1083\",\"type\":\"LinearScale\"},{\"attributes\":{\"coordinates\":null,\"data_source\":{\"id\":\"1051\"},\"glyph\":{\"id\":\"1053\"},\"group\":null,\"hover_glyph\":null,\"muted_glyph\":{\"id\":\"1055\"},\"nonselection_glyph\":{\"id\":\"1054\"},\"view\":{\"id\":\"1057\"}},\"id\":\"1056\",\"type\":\"GlyphRenderer\"},{\"attributes\":{\"bounds\":\"auto\",\"end\":28580100,\"start\":28519801},\"id\":\"1003\",\"type\":\"Range1d\"},{\"attributes\":{\"source\":{\"id\":\"1033\"}},\"id\":\"1039\",\"type\":\"CDSView\"},{\"attributes\":{\"coordinates\":null,\"group\":null,\"text\":\"CNV HMM - BL0246-C (AG1000G-TZ)\"},\"id\":\"1006\",\"type\":\"Title\"},{\"attributes\":{\"end\":9},\"id\":\"1009\",\"type\":\"Range1d\"},{\"attributes\":{},\"id\":\"1046\",\"type\":\"AllLabels\"},{\"attributes\":{},\"id\":\"1072\",\"type\":\"NumeralTickFormatter\"},{\"attributes\":{},\"id\":\"1081\",\"type\":\"LinearScale\"},{\"attributes\":{},\"id\":\"1142\",\"type\":\"UnionRenderers\"},{\"attributes\":{\"axis_label\":\"Copy number\",\"coordinates\":null,\"formatter\":{\"id\":\"1042\"},\"group\":null,\"major_label_policy\":{\"id\":\"1043\"},\"ticker\":{\"id\":\"1070\"}},\"id\":\"1019\",\"type\":\"LinearAxis\"},{\"attributes\":{\"toolbars\":[{\"id\":\"1027\"},{\"id\":\"1099\"}],\"tools\":[{\"id\":\"1004\"},{\"id\":\"1023\"},{\"id\":\"1024\"},{\"id\":\"1025\"},{\"id\":\"1026\"},{\"id\":\"1074\"},{\"id\":\"1093\"},{\"id\":\"1094\"},{\"id\":\"1095\"},{\"id\":\"1096\"},{\"id\":\"1097\"},{\"id\":\"1098\"}]},\"id\":\"1146\",\"type\":\"ProxyToolbar\"},{\"attributes\":{\"line_alpha\":0.1,\"line_color\":\"#1f77b4\",\"line_width\":2,\"x\":{\"field\":\"variant_midpoint\"},\"y\":{\"field\":\"call_CN\"}},\"id\":\"1054\",\"type\":\"Line\"},{\"attributes\":{\"toolbar\":{\"id\":\"1146\"},\"toolbar_location\":\"above\"},\"id\":\"1147\",\"type\":\"ToolbarBox\"},{\"attributes\":{},\"id\":\"1143\",\"type\":\"Selection\"},{\"attributes\":{\"fill_alpha\":{\"value\":0.2},\"fill_color\":{\"value\":null},\"hatch_alpha\":{\"value\":0.2},\"line_alpha\":{\"value\":0.2},\"line_width\":{\"value\":0.5},\"size\":{\"value\":3},\"x\":{\"field\":\"variant_midpoint\"},\"y\":{\"field\":\"call_NormCov\"}},\"id\":\"1037\",\"type\":\"Circle\"},{\"attributes\":{\"data\":{\"call_CN\":{\"__ndarray__\":\"AgICAgICAgICAgICAgICAgICAgICAgICAgICAgICAgICAgICAgICAgICAgICAgICAgICAgMDAwMDAwMDAwMDAwMDAwMDAwMDAwMDAwMDAwMDAwMDAwMDAwMDAwMDAwMDAwMDAwMDAwMDAwMDAwMDAwMDAwMDAwMDAwMDAwMDAwMDAwMDAwMDAwMDAwMDAwMDAwMDAwMDAwMDAwMDAwMDAwMDAwMDAwMHAwMDAwMCAgICAgICAgICAgICAgICAgICAgICAgICAgIC\",\"dtype\":\"int8\",\"order\":\"little\",\"shape\":[201]},\"call_NormCov\":{\"__ndarray__\":\"/tT4PyPbyT9/avw/AAAQQAAAAEAAAABAN4nxP7bz7T+0yOY/7nzfP2iRzT9WDq0/befbP8HKAUBCYNU/pHAFQEJg9T+0yOY/PzVOQN9PPUCgGgdAEFjJPz817j/BygFAIbAaQAAAAEB/ahw/7nxfP4GV4z+6SQxAgZUzQKJFxj+28+0/pHAFQCUGCUD+1Pg/AADAP+km0T9t59s/MzPjP6RwBUCLbBdAppsMQMHK8T8AAOA/F9kuQEoMEkDLofU/AivnP4tsF0DfTwVADAKbP1pkc0Cq8VJA1XgpQDm0MECLbBdABoFNQHE9IkCBlUNA/Kk5QKAaR0Bg5UBAoBpHQN9PNUDLoQ1A6SZRQH9qPEDhekRAwcoxQHE9IkDVeClA4XpEQOF6REDsUVhAYOVAQCGwOkCWQytAeelGQHsULkA/NS5AoBpHQD81PkB/amxA/Kk5QLbzHUD8qTlA/Kk5QOXQCkAv3RxA/Kk5QIXrSUB3vm9A+n4yQClcZ0DFIEhAL90cQCGwCkBU4yVAKVw3QIXrSUDpJlFA4XpEQD81TkAfhTtA1XgpQKrxUkCgGl9AnMR4QKAaZ0BGtktAukk0QMHKYUB7FCZA309FQN9PPUA73zdAmG5SQIGVQ0BQjYNAPzVeQJzEeEDHS09AAABgQCuHVkBWDi1AoBonQD81PkDjpTtAF9kuQKAaP0C6STRA7FFYQHsUNkBg5UBASOEyQIGVU0AhsEJAoBpnQKrxakDsUVhAf2o8QGDlGEAQWCFAkxhMQH9qLEDpJlFAoBo/QHe+b0Db+XZAx0tPQFYOFUB/aixAIbBqQDvfN0AX2S5Aukk0QGDlOECTGAxAAAAgQIGVM0C6STRAF9kuQIGVE0BeukFAPzVOQHWTaEDwp95AoBo3QKrxUkDBykFARrZLQIGVQ0AlBglA6SbRPzMz4z/pJtE/sp3PP8HKAUB/agxAgZUDQDMz4z+BleM/pHAFQIGV4z9/avw/BoH1P6AaF0CJQRBAWDm0P+583z83ifE/7FHYP39q/D8AAABAaJHNP39q3D/P9+M/YOUIQPp+CkBKDBJA\",\"dtype\":\"float32\",\"order\":\"little\",\"shape\":[201]},\"samples\":[\"BL0246-C\",\"BL0246-C\",\"BL0246-C\",\"BL0246-C\",\"BL0246-C\",\"BL0246-C\",\"BL0246-C\",\"BL0246-C\",\"BL0246-C\",\"BL0246-C\",\"BL0246-C\",\"BL0246-C\",\"BL0246-C\",\"BL0246-C\",\"BL0246-C\",\"BL0246-C\",\"BL0246-C\",\"BL0246-C\",\"BL0246-C\",\"BL0246-C\",\"BL0246-C\",\"BL0246-C\",\"BL0246-C\",\"BL0246-C\",\"BL0246-C\",\"BL0246-C\",\"BL0246-C\",\"BL0246-C\",\"BL0246-C\",\"BL0246-C\",\"BL0246-C\",\"BL0246-C\",\"BL0246-C\",\"BL0246-C\",\"BL0246-C\",\"BL0246-C\",\"BL0246-C\",\"BL0246-C\",\"BL0246-C\",\"BL0246-C\",\"BL0246-C\",\"BL0246-C\",\"BL0246-C\",\"BL0246-C\",\"BL0246-C\",\"BL0246-C\",\"BL0246-C\",\"BL0246-C\",\"BL0246-C\",\"BL0246-C\",\"BL0246-C\",\"BL0246-C\",\"BL0246-C\",\"BL0246-C\",\"BL0246-C\",\"BL0246-C\",\"BL0246-C\",\"BL0246-C\",\"BL0246-C\",\"BL0246-C\",\"BL0246-C\",\"BL0246-C\",\"BL0246-C\",\"BL0246-C\",\"BL0246-C\",\"BL0246-C\",\"BL0246-C\",\"BL0246-C\",\"BL0246-C\",\"BL0246-C\",\"BL0246-C\",\"BL0246-C\",\"BL0246-C\",\"BL0246-C\",\"BL0246-C\",\"BL0246-C\",\"BL0246-C\",\"BL0246-C\",\"BL0246-C\",\"BL0246-C\",\"BL0246-C\",\"BL0246-C\",\"BL0246-C\",\"BL0246-C\",\"BL0246-C\",\"BL0246-C\",\"BL0246-C\",\"BL0246-C\",\"BL0246-C\",\"BL0246-C\",\"BL0246-C\",\"BL0246-C\",\"BL0246-C\",\"BL0246-C\",\"BL0246-C\",\"BL0246-C\",\"BL0246-C\",\"BL0246-C\",\"BL0246-C\",\"BL0246-C\",\"BL0246-C\",\"BL0246-C\",\"BL0246-C\",\"BL0246-C\",\"BL0246-C\",\"BL0246-C\",\"BL0246-C\",\"BL0246-C\",\"BL0246-C\",\"BL0246-C\",\"BL0246-C\",\"BL0246-C\",\"BL0246-C\",\"BL0246-C\",\"BL0246-C\",\"BL0246-C\",\"BL0246-C\",\"BL0246-C\",\"BL0246-C\",\"BL0246-C\",\"BL0246-C\",\"BL0246-C\",\"BL0246-C\",\"BL0246-C\",\"BL0246-C\",\"BL0246-C\",\"BL0246-C\",\"BL0246-C\",\"BL0246-C\",\"BL0246-C\",\"BL0246-C\",\"BL0246-C\",\"BL0246-C\",\"BL0246-C\",\"BL0246-C\",\"BL0246-C\",\"BL0246-C\",\"BL0246-C\",\"BL0246-C\",\"BL0246-C\",\"BL0246-C\",\"BL0246-C\",\"BL0246-C\",\"BL0246-C\",\"BL0246-C\",\"BL0246-C\",\"BL0246-C\",\"BL0246-C\",\"BL0246-C\",\"BL0246-C\",\"BL0246-C\",\"BL0246-C\",\"BL0246-C\",\"BL0246-C\",\"BL0246-C\",\"BL0246-C\",\"BL0246-C\",\"BL0246-C\",\"BL0246-C\",\"BL0246-C\",\"BL0246-C\",\"BL0246-C\",\"BL0246-C\",\"BL0246-C\",\"BL0246-C\",\"BL0246-C\",\"BL0246-C\",\"BL0246-C\",\"BL0246-C\",\"BL0246-C\",\"BL0246-C\",\"BL0246-C\",\"BL0246-C\",\"BL0246-C\",\"BL0246-C\",\"BL0246-C\",\"BL0246-C\",\"BL0246-C\",\"BL0246-C\",\"BL0246-C\",\"BL0246-C\",\"BL0246-C\",\"BL0246-C\",\"BL0246-C\",\"BL0246-C\",\"BL0246-C\",\"BL0246-C\",\"BL0246-C\",\"BL0246-C\",\"BL0246-C\",\"BL0246-C\",\"BL0246-C\",\"BL0246-C\",\"BL0246-C\",\"BL0246-C\",\"BL0246-C\",\"BL0246-C\",\"BL0246-C\",\"BL0246-C\",\"BL0246-C\",\"BL0246-C\"],\"variant_contig\":{\"__ndarray__\":\"AQEBAQEBAQEBAQEBAQEBAQEBAQEBAQEBAQEBAQEBAQEBAQEBAQEBAQEBAQEBAQEBAQEBAQEBAQEBAQEBAQEBAQEBAQEBAQEBAQEBAQEBAQEBAQEBAQEBAQEBAQEBAQEBAQEBAQEBAQEBAQEBAQEBAQEBAQEBAQEBAQEBAQEBAQEBAQEBAQEBAQEBAQEBAQEBAQEBAQEBAQEBAQEBAQEBAQEBAQEBAQEBAQEBAQEBAQEBAQEBAQEBAQEBAQEBAQEBAQEBAQEBAQEB\",\"dtype\":\"uint8\",\"order\":\"little\",\"shape\":[201]},\"variant_end\":{\"__ndarray__\":\"pC6zAdAvswH8MLMBKDKzAVQzswGANLMBrDWzAdg2swEEOLMBMDmzAVw6swGIO7MBtDyzAeA9swEMP7MBOECzAWRBswGQQrMBvEOzAehEswEURrMBQEezAWxIswGYSbMBxEqzAfBLswEcTbMBSE6zAXRPswGgULMBzFGzAfhSswEkVLMBUFWzAXxWswGoV7MB1FizAQBaswEsW7MBWFyzAYRdswGwXrMB3F+zAQhhswE0YrMBYGOzAYxkswG4ZbMB5GazARBoswE8abMBaGqzAZRrswHAbLMB7G2zARhvswFEcLMBcHGzAZxyswHIc7MB9HSzASB2swFMd7MBeHizAaR5swHQerMB/HuzASh9swFUfrMBgH+zAayAswHYgbMBBIOzATCEswFchbMBiIazAbSHswHgiLMBDIqzATiLswFkjLMBkI2zAbyOswHoj7MBFJGzAUCSswFsk7MBmJSzAcSVswHwlrMBHJizAUiZswF0mrMBoJuzAcycswH4nbMBJJ+zAVCgswF8obMBqKKzAdSjswEApbMBLKazAVinswGEqLMBsKmzAdyqswEIrLMBNK2zAWCuswGMr7MBuLCzAeSxswEQs7MBPLSzAWi1swGUtrMBwLezAey4swEYurMBRLuzAXC8swGcvbMByL6zAfS/swEgwbMBTMKzAXjDswGkxLMB0MWzAfzGswEoyLMBVMmzAYDKswGsy7MB2MyzAQTOswEwz7MBXNCzAYjRswG00rMB4NOzAQzVswE41rMBZNezAZDYswG82bMB6NqzARTcswFA3bMBbN6zAZjfswHE4LMB8OGzARzjswFI5LMBdOWzAaDmswHM57MB+OizASTqswFQ67MBfOyzAajtswHU7rMBAPCzASzxswFY8rMBhPOzAbD0swHc9bMBCPezATT4swFg+bMBjPqzAbj7swHk/LMBEP6zATz/swFoALQBlAG0AcACtAHsA7QBGAW0AUQGtAFwB7QBnAi0AcgJtAH0CrQBIAy0AUwNtAF4DrQBpA+0AdAQtAH8EbQBKBO0AVQUtAGAFbQBrBa0AdgXtAEEGbQB\",\"dtype\":\"int32\",\"order\":\"little\",\"shape\":[201]},\"variant_midpoint\":{\"__ndarray__\":\"Dy6zATsvswFnMLMBkzGzAb8yswHrM7MBFzWzAUM2swFvN7MBmzizAcc5swHzOrMBHzyzAUs9swF3PrMBoz+zAc9AswH7QbMBJ0OzAVNEswF/RbMBq0azAddHswEDSbMBL0qzAVtLswGHTLMBs02zAd9OswELULMBN1GzAWNSswGPU7MBu1SzAedVswETV7MBP1izAWtZswGXWrMBw1uzAe9cswEbXrMBR1+zAXNgswGfYbMBy2KzAfdjswEjZbMBT2azAXtnswGnaLMB02mzAf9qswErbLMBV22zAYNuswGvb7MB23CzAQdyswEzc7MBX3SzAYt1swG3drMB43ezAQ95swE7erMBZ3uzAZN8swG/fbMB636zAReAswFDgbMBb4KzAZuDswHHhLMB84WzAR+HswFLiLMBd4mzAaOKswHPi7MB+4yzASeOswFTj7MBf5CzAauRswHXkrMBA5SzAS+VswFblrMBh5ezAbOYswHfmbMBC5uzATecswFjnbMBj56zAbufswHnoLMBE6KzAT+jswFrpLMBl6WzAcOmswHvp7MBG6mzAUeqswFzq7MBn6yzAcutswH3rrMBI7CzAU+xswF7srMBp7OzAdO0swH/tbMBK7ezAVe4swGDubMBr7qzAdu7swEHvbMBM76zAV+/swGLwLMBt8GzAePCswEPxLMBO8WzAWfGswGTx7MBv8izAevJswEXy7MBQ8yzAW/NswGbzrMBx8+zAfPQswEf0rMBS9OzAXfUswGj1bMBz9azAfvXswEn2bMBU9qzAX/bswGr3LMB192zAQPfswEv4LMBW+GzAYfiswGz47MB3+SzAQvmswE357MBY+izAY/pswG76rMB5+uzARPtswE/7rMBa++zAZfwswHD8bMB7/KzARv0swFH9bMBc/azAZ/3swHL+LMB9/mzASP7swFP/LMBe/2zAaf+swHT/7MB/wC0ASsCtAFXA7QBgwS0Aa8FtAHbBrQBBwi0ATMJtAFfCrQBiwu0AbcMtAHjDbQBDw+0ATsQtAFnEbQBkxK0Ab8TtAHrFLQBFxa0AUMXtAFvGLQB\",\"dtype\":\"int32\",\"order\":\"little\",\"shape\":[201]},\"variant_position\":{\"__ndarray__\":\"eS2zAaUuswHRL7MB/TCzASkyswFVM7MBgTSzAa01swHZNrMBBTizATE5swFdOrMBiTuzAbU8swHhPbMBDT+zATlAswFlQbMBkUKzAb1DswHpRLMBFUazAUFHswFtSLMBmUmzAcVKswHxS7MBHU2zAUlOswF1T7MBoVCzAc1RswH5UrMBJVSzAVFVswF9VrMBqVezAdVYswEBWrMBLVuzAVlcswGFXbMBsV6zAd1fswEJYbMBNWKzAWFjswGNZLMBuWWzAeVmswERaLMBPWmzAWlqswGVa7MBwWyzAe1tswEZb7MBRXCzAXFxswGdcrMByXOzAfV0swEhdrMBTXezAXl4swGlebMB0XqzAf17swEpfbMBVX6zAYF/swGtgLMB2YGzAQWDswExhLMBXYWzAYmGswG1h7MB4YizAQ2KswE5i7MBZYyzAZGNswG9jrMB6Y+zARWRswFBkrMBbZOzAZmUswHFlbMB8ZazAR2YswFJmbMBdZqzAaGbswHNnLMB+Z2zASWfswFRoLMBfaGzAamiswHVo7MBAaWzAS2mswFZp7MBhaizAbGpswHdqrMBCayzATWtswFhrrMBja+zAbmwswHlsbMBEbOzAT20swFptbMBlbazAcG3swHtuLMBGbqzAUW7swFxvLMBnb2zAcm+swH1v7MBIcGzAU3CswF5w7MBpcSzAdHFswH9xrMBKcizAVXJswGByrMBrcuzAdnMswEFzrMBMc+zAV3QswGJ0bMBtdKzAeHTswEN1bMBOdazAWXXswGR2LMBvdmzAenaswEV3LMBQd2zAW3eswGZ37MBxeCzAfHhswEd47MBSeSzAXXlswGh5rMBzeezAfnoswEl6rMBUeuzAX3sswGp7bMB1e6zAQHwswEt8bMBWfKzAYXzswGx9LMB3fWzAQn3swE1+LMBYfmzAY36swG5+7MB5fyzARH+swE9/7MBaQC0AZUBtAHBArQB7QO0ARkFtAFFBrQBcQe0AZ0ItAHJCbQB9Qq0ASEMtAFNDbQBeQ60AaUPtAHRELQB/RG0ASkTtAFVFLQBgRW0Aa0WtAHZF7QB\",\"dtype\":\"int32\",\"order\":\"little\",\"shape\":[201]},\"variants\":[0,1,2,3,4,5,6,7,8,9,10,11,12,13,14,15,16,17,18,19,20,21,22,23,24,25,26,27,28,29,30,31,32,33,34,35,36,37,38,39,40,41,42,43,44,45,46,47,48,49,50,51,52,53,54,55,56,57,58,59,60,61,62,63,64,65,66,67,68,69,70,71,72,73,74,75,76,77,78,79,80,81,82,83,84,85,86,87,88,89,90,91,92,93,94,95,96,97,98,99,100,101,102,103,104,105,106,107,108,109,110,111,112,113,114,115,116,117,118,119,120,121,122,123,124,125,126,127,128,129,130,131,132,133,134,135,136,137,138,139,140,141,142,143,144,145,146,147,148,149,150,151,152,153,154,155,156,157,158,159,160,161,162,163,164,165,166,167,168,169,170,171,172,173,174,175,176,177,178,179,180,181,182,183,184,185,186,187,188,189,190,191,192,193,194,195,196,197,198,199,200]},\"selected\":{\"id\":\"1068\"},\"selection_policy\":{\"id\":\"1067\"}},\"id\":\"1051\",\"type\":\"ColumnDataSource\"},{\"attributes\":{\"coordinates\":null,\"formatter\":{\"id\":\"1109\"},\"group\":null,\"major_label_overrides\":{\"0.4\":\"-\",\"1.4\":\"+\"},\"major_label_policy\":{\"id\":\"1110\"},\"ticker\":{\"id\":\"1123\"}},\"id\":\"1089\",\"type\":\"LinearAxis\"},{\"attributes\":{\"axis\":{\"id\":\"1089\"},\"coordinates\":null,\"dimension\":1,\"group\":null,\"ticker\":null,\"visible\":false},\"id\":\"1092\",\"type\":\"Grid\"},{\"attributes\":{},\"id\":\"1042\",\"type\":\"BasicTickFormatter\"},{\"attributes\":{\"ticks\":[0,1,2,3,4,5,6,7,8,9]},\"id\":\"1070\",\"type\":\"FixedTicker\"},{\"attributes\":{},\"id\":\"1043\",\"type\":\"AllLabels\"},{\"attributes\":{},\"id\":\"1086\",\"type\":\"BasicTicker\"},{\"attributes\":{\"axis\":{\"id\":\"1085\"},\"coordinates\":null,\"group\":null,\"ticker\":null},\"id\":\"1088\",\"type\":\"Grid\"},{\"attributes\":{},\"id\":\"1068\",\"type\":\"Selection\"},{\"attributes\":{},\"id\":\"1011\",\"type\":\"LinearScale\"},{\"attributes\":{\"axis_label\":\"Contig 2L position (bp)\",\"coordinates\":null,\"formatter\":{\"id\":\"1072\"},\"group\":null,\"major_label_policy\":{\"id\":\"1046\"},\"ticker\":{\"id\":\"1016\"},\"visible\":false},\"id\":\"1015\",\"type\":\"LinearAxis\"},{\"attributes\":{\"label\":{\"value\":\"HMM\"},\"renderers\":[{\"id\":\"1056\"}]},\"id\":\"1069\",\"type\":\"LegendItem\"},{\"attributes\":{\"coordinates\":null,\"group\":null,\"items\":[{\"id\":\"1050\"},{\"id\":\"1069\"}]},\"id\":\"1049\",\"type\":\"Legend\"},{\"attributes\":{\"coordinates\":null,\"group\":null,\"text\":\"Genes\"},\"id\":\"1076\",\"type\":\"Title\"},{\"attributes\":{\"label\":{\"value\":\"Coverage\"},\"renderers\":[{\"id\":\"1038\"}]},\"id\":\"1050\",\"type\":\"LegendItem\"},{\"attributes\":{},\"id\":\"1016\",\"type\":\"BasicTicker\"},{\"attributes\":{\"coordinates\":null,\"data_source\":{\"id\":\"1033\"},\"glyph\":{\"id\":\"1035\"},\"group\":null,\"hover_glyph\":null,\"muted_glyph\":{\"id\":\"1037\"},\"nonselection_glyph\":{\"id\":\"1036\"},\"view\":{\"id\":\"1039\"}},\"id\":\"1038\",\"type\":\"GlyphRenderer\"},{\"attributes\":{\"source\":{\"id\":\"1051\"}},\"id\":\"1057\",\"type\":\"CDSView\"}],\"root_ids\":[\"1148\"]},\"title\":\"Bokeh Application\",\"version\":\"2.4.2\"}};\n  const render_items = [{\"docid\":\"3ec4a9de-d37d-48fb-ac17-d4def17d39a1\",\"root_ids\":[\"1148\"],\"roots\":{\"1148\":\"ae23314c-f55e-493d-912a-eef9e3d68219\"}}];\n  root.Bokeh.embed.embed_items_notebook(docs_json, render_items);\n\n  }\n  if (root.Bokeh !== undefined) {\n    embed_document(root);\n  } else {\n    let attempts = 0;\n    const timer = setInterval(function(root) {\n      if (root.Bokeh !== undefined) {\n        clearInterval(timer);\n        embed_document(root);\n      } else {\n        attempts++;\n        if (attempts > 100) {\n          clearInterval(timer);\n          console.log(\"Bokeh: ERROR: Unable to run BokehJS code because BokehJS library is missing\");\n        }\n      }\n    }, 10, root)\n  }\n})(window);",
      "application/vnd.bokehjs_exec.v0+json": ""
     },
     "metadata": {
      "application/vnd.bokehjs_exec.v0+json": {
       "id": "1148"
      }
     },
     "output_type": "display_data"
    },
    {
     "data": {
      "text/html": [
       "\n",
       "\n",
       "\n",
       "\n",
       "\n",
       "\n",
       "  <div class=\"bk-root\" id=\"f600e045-907b-4bb2-a813-ae790b2502e5\" data-root-id=\"1390\"></div>\n"
      ]
     },
     "metadata": {},
     "output_type": "display_data"
    },
    {
     "data": {
      "application/javascript": "(function(root) {\n  function embed_document(root) {\n    \n  const docs_json = {\"68698997-c553-4f7b-9d5b-e035898af024\":{\"defs\":[],\"roots\":{\"references\":[{\"attributes\":{\"children\":[{\"id\":\"1389\"},{\"id\":\"1387\"}]},\"id\":\"1390\",\"type\":\"Column\"},{\"attributes\":{\"dimensions\":\"width\"},\"id\":\"1266\",\"type\":\"ZoomInTool\"},{\"attributes\":{\"dimensions\":\"width\",\"maintain_focus\":false},\"id\":\"1246\",\"type\":\"WheelZoomTool\"},{\"attributes\":{\"coordinates\":null,\"data_source\":{\"id\":\"1275\"},\"glyph\":{\"id\":\"1277\"},\"group\":null,\"hover_glyph\":null,\"muted_glyph\":{\"id\":\"1279\"},\"nonselection_glyph\":{\"id\":\"1278\"},\"view\":{\"id\":\"1281\"}},\"id\":\"1280\",\"type\":\"GlyphRenderer\"},{\"attributes\":{\"axis_label\":\"Copy number\",\"coordinates\":null,\"formatter\":{\"id\":\"1284\"},\"group\":null,\"major_label_policy\":{\"id\":\"1285\"},\"ticker\":{\"id\":\"1312\"}},\"id\":\"1261\",\"type\":\"LinearAxis\"},{\"attributes\":{\"dimensions\":\"width\"},\"id\":\"1265\",\"type\":\"PanTool\"},{\"attributes\":{\"axis\":{\"id\":\"1261\"},\"coordinates\":null,\"dimension\":1,\"group\":null,\"ticker\":null},\"id\":\"1264\",\"type\":\"Grid\"},{\"attributes\":{\"fill_alpha\":{\"value\":0.1},\"fill_color\":{\"value\":null},\"hatch_alpha\":{\"value\":0.1},\"line_alpha\":{\"value\":0.1},\"line_width\":{\"value\":0.5},\"size\":{\"value\":3},\"x\":{\"field\":\"variant_midpoint\"},\"y\":{\"field\":\"call_NormCov\"}},\"id\":\"1278\",\"type\":\"Circle\"},{\"attributes\":{\"axis\":{\"id\":\"1257\"},\"coordinates\":null,\"group\":null,\"ticker\":null},\"id\":\"1260\",\"type\":\"Grid\"},{\"attributes\":{\"active_drag\":{\"id\":\"1265\"},\"active_scroll\":{\"id\":\"1246\"},\"tools\":[{\"id\":\"1246\"},{\"id\":\"1265\"},{\"id\":\"1266\"},{\"id\":\"1267\"},{\"id\":\"1268\"}]},\"id\":\"1269\",\"type\":\"Toolbar\"},{\"attributes\":{\"children\":[[{\"id\":\"1247\"},0,0],[{\"id\":\"1317\"},1,0]]},\"id\":\"1387\",\"type\":\"GridBox\"},{\"attributes\":{},\"id\":\"1258\",\"type\":\"BasicTicker\"},{\"attributes\":{\"toolbar\":{\"id\":\"1388\"},\"toolbar_location\":\"above\"},\"id\":\"1389\",\"type\":\"ToolbarBox\"},{\"attributes\":{\"axis_label\":\"Contig 2L position (bp)\",\"coordinates\":null,\"formatter\":{\"id\":\"1314\"},\"group\":null,\"major_label_policy\":{\"id\":\"1288\"},\"ticker\":{\"id\":\"1258\"},\"visible\":false},\"id\":\"1257\",\"type\":\"LinearAxis\"},{\"attributes\":{\"axis_label\":\"Contig 2L position (bp)\",\"coordinates\":null,\"formatter\":{\"id\":\"1367\"},\"group\":null,\"major_label_policy\":{\"id\":\"1355\"},\"ticker\":{\"id\":\"1328\"}},\"id\":\"1327\",\"type\":\"LinearAxis\"},{\"attributes\":{},\"id\":\"1255\",\"type\":\"LinearScale\"},{\"attributes\":{\"source\":{\"id\":\"1357\"}},\"id\":\"1363\",\"type\":\"CDSView\"},{\"attributes\":{\"fill_color\":{\"value\":null},\"line_width\":{\"value\":0.5},\"size\":{\"value\":3},\"x\":{\"field\":\"variant_midpoint\"},\"y\":{\"field\":\"call_NormCov\"}},\"id\":\"1277\",\"type\":\"Circle\"},{\"attributes\":{},\"id\":\"1289\",\"type\":\"UnionRenderers\"},{\"attributes\":{\"label\":{\"value\":\"Coverage\"},\"renderers\":[{\"id\":\"1280\"}]},\"id\":\"1292\",\"type\":\"LegendItem\"},{\"attributes\":{},\"id\":\"1385\",\"type\":\"Selection\"},{\"attributes\":{\"dimensions\":\"width\",\"maintain_focus\":false},\"id\":\"1316\",\"type\":\"WheelZoomTool\"},{\"attributes\":{\"coordinates\":null,\"group\":null,\"text\":\"Genes\"},\"id\":\"1318\",\"type\":\"Title\"},{\"attributes\":{},\"id\":\"1285\",\"type\":\"AllLabels\"},{\"attributes\":{\"dimensions\":\"width\"},\"id\":\"1267\",\"type\":\"ZoomOutTool\"},{\"attributes\":{},\"id\":\"1323\",\"type\":\"LinearScale\"},{\"attributes\":{},\"id\":\"1268\",\"type\":\"ResetTool\"},{\"attributes\":{},\"id\":\"1290\",\"type\":\"Selection\"},{\"attributes\":{\"below\":[{\"id\":\"1257\"}],\"center\":[{\"id\":\"1260\"},{\"id\":\"1264\"},{\"id\":\"1291\"}],\"height\":170,\"left\":[{\"id\":\"1261\"}],\"renderers\":[{\"id\":\"1280\"},{\"id\":\"1298\"}],\"right\":[{\"id\":\"1291\"}],\"title\":{\"id\":\"1248\"},\"toolbar\":{\"id\":\"1269\"},\"toolbar_location\":null,\"width\":800,\"x_range\":{\"id\":\"1245\"},\"x_scale\":{\"id\":\"1253\"},\"y_range\":{\"id\":\"1251\"},\"y_scale\":{\"id\":\"1255\"}},\"id\":\"1247\",\"subtype\":\"Figure\",\"type\":\"Plot\"},{\"attributes\":{\"coordinates\":null,\"data_source\":{\"id\":\"1357\"},\"glyph\":{\"id\":\"1359\"},\"group\":null,\"hover_glyph\":null,\"muted_glyph\":{\"id\":\"1361\"},\"nonselection_glyph\":{\"id\":\"1360\"},\"view\":{\"id\":\"1363\"}},\"id\":\"1362\",\"type\":\"GlyphRenderer\"},{\"attributes\":{\"toolbars\":[{\"id\":\"1269\"},{\"id\":\"1341\"}],\"tools\":[{\"id\":\"1246\"},{\"id\":\"1265\"},{\"id\":\"1266\"},{\"id\":\"1267\"},{\"id\":\"1268\"},{\"id\":\"1316\"},{\"id\":\"1335\"},{\"id\":\"1336\"},{\"id\":\"1337\"},{\"id\":\"1338\"},{\"id\":\"1339\"},{\"id\":\"1340\"}]},\"id\":\"1388\",\"type\":\"ProxyToolbar\"},{\"attributes\":{},\"id\":\"1288\",\"type\":\"AllLabels\"},{\"attributes\":{},\"id\":\"1325\",\"type\":\"LinearScale\"},{\"attributes\":{\"below\":[{\"id\":\"1327\"}],\"center\":[{\"id\":\"1330\"},{\"id\":\"1334\"}],\"height\":120,\"left\":[{\"id\":\"1331\"}],\"renderers\":[{\"id\":\"1362\"}],\"title\":{\"id\":\"1318\"},\"toolbar\":{\"id\":\"1341\"},\"toolbar_location\":null,\"width\":800,\"x_range\":{\"id\":\"1245\"},\"x_scale\":{\"id\":\"1323\"},\"y_range\":{\"id\":\"1364\"},\"y_scale\":{\"id\":\"1325\"}},\"id\":\"1317\",\"subtype\":\"Figure\",\"type\":\"Plot\"},{\"attributes\":{\"coordinates\":null,\"group\":null,\"text\":\"CNV HMM - BL0261-C (AG1000G-TZ)\"},\"id\":\"1248\",\"type\":\"Title\"},{\"attributes\":{},\"id\":\"1367\",\"type\":\"NumeralTickFormatter\"},{\"attributes\":{},\"id\":\"1284\",\"type\":\"BasicTickFormatter\"},{\"attributes\":{\"data\":{\"call_CN\":{\"__ndarray__\":\"AgICAgICAgICAgICAgICAgICAgICAQEBAQEBAQICAgICAgICAgICAgICAgICAgICAgICAgICAgIDAwMDAwMDAwMDAwMDAwMDAwMDAwMDAwMDAwMDAwMDAwMDAwMDAwMDAwMDAwMDAwMDAwMDAwMDAwMDAwMDAwMDAwMDAwMDAwMDAwMDAwMDAwMDAwMDAwMDAwMDAwMDAwMDAwMDAwMDAwMDAwMDAwMGAwMDAwMDAwICAgICAgICAgICAgICAgICAgICAgICAgIC\",\"dtype\":\"int8\",\"order\":\"little\",\"shape\":[201]},\"call_NormCov\":{\"__ndarray__\":\"z/fDP3E9yj/hegxAnu/XP0jhyj8dWiRAAAAAQPhT8z/RIgNA8KfmP5MYtD8dWtQ/Gy/dP8HK0T9EiwRAAAAAQEJgxT/wp+Y/w/UQQCPb6T/HS+c/c2ixP/ypUT+R7Xw/kxiUP8dLNz/6fuo+CtdDP8l23j9kOw9AhxY5QCuH9j9zaJE/g8AiQD0KJ0DXo9A/H4XLP9EiA0CamQFAK4f2P6JFBkCynR9AarwEQEa2wz956bY/kxgcQAAAAEBWDv0/GQS2Px1aJEDXo/A/ZDufP4tsL0AZBB5AgZXjP9EiA0Dy0i1A8tJVQGDlOECPwj1ANV5iQNNNUkDufCdA000yQIXrOUDy0kVApHBlQE5iOEB9Py1ALbINQCGwKkAIrAxA2c4PQG3nI0DHSzdA7nwnQMl2HkA5tEBASgwyQMHKOUB3vjdAexRGQCGwKkBEiyRAke10QCUGQUBKDFpAdZNQQAaBRUDP90NA9ig0QB+FM0DLoR1Ay6EdQI2XXkAv3TxA4XoMQJzEgEB1k1BABFZuQFYObUAj22lAIbAqQBfZFkCcxIBAVg5tQMl2fkBxPSJAwcpxQIXrOUBOYmBAWDksQNv5mkAIrGxAIbBiQFyPMkB/ahxAI9thQIXrOUCDwLZAke1cQBBYSUCF63FA7FF4QDEIPECHFilADAJbQPYoTECoxkNAi2wvQAisREAOLVJAg8BSQPYoNEAIrERArkeFQDMzK0AhsCpAPQpvQArXU0BGtmtAx0tnQGDlaEAX2ZZAAACAQBKDSEAAAEBA+n46QB+Fc0CTGFxAEoNYQKwc+j+mmwRAJzFQQI/CNUBkOz9AexROQJzEcECiRSZApHDtP7x0I0DLoT1Aw/UwQGq8LEBMNylAheshQOF6TECiRcpA6SYhQGq8hED2KExAsp0fQCGwKkB/ahxAWDksQN9P7T8/NQ5AEFjZP/YoLED2KDxAHVoMQEa20z9vEgNA8KfmPwAAAEA7388/ObSoPzeJ4T89Cuc/i2zXP5zEwD/RIgNAvp+qPzeJAUAIrARA1XgJQN9PFUDl0NI/vHQjQFyPCkDZzg9A\",\"dtype\":\"float32\",\"order\":\"little\",\"shape\":[201]},\"samples\":[\"BL0261-C\",\"BL0261-C\",\"BL0261-C\",\"BL0261-C\",\"BL0261-C\",\"BL0261-C\",\"BL0261-C\",\"BL0261-C\",\"BL0261-C\",\"BL0261-C\",\"BL0261-C\",\"BL0261-C\",\"BL0261-C\",\"BL0261-C\",\"BL0261-C\",\"BL0261-C\",\"BL0261-C\",\"BL0261-C\",\"BL0261-C\",\"BL0261-C\",\"BL0261-C\",\"BL0261-C\",\"BL0261-C\",\"BL0261-C\",\"BL0261-C\",\"BL0261-C\",\"BL0261-C\",\"BL0261-C\",\"BL0261-C\",\"BL0261-C\",\"BL0261-C\",\"BL0261-C\",\"BL0261-C\",\"BL0261-C\",\"BL0261-C\",\"BL0261-C\",\"BL0261-C\",\"BL0261-C\",\"BL0261-C\",\"BL0261-C\",\"BL0261-C\",\"BL0261-C\",\"BL0261-C\",\"BL0261-C\",\"BL0261-C\",\"BL0261-C\",\"BL0261-C\",\"BL0261-C\",\"BL0261-C\",\"BL0261-C\",\"BL0261-C\",\"BL0261-C\",\"BL0261-C\",\"BL0261-C\",\"BL0261-C\",\"BL0261-C\",\"BL0261-C\",\"BL0261-C\",\"BL0261-C\",\"BL0261-C\",\"BL0261-C\",\"BL0261-C\",\"BL0261-C\",\"BL0261-C\",\"BL0261-C\",\"BL0261-C\",\"BL0261-C\",\"BL0261-C\",\"BL0261-C\",\"BL0261-C\",\"BL0261-C\",\"BL0261-C\",\"BL0261-C\",\"BL0261-C\",\"BL0261-C\",\"BL0261-C\",\"BL0261-C\",\"BL0261-C\",\"BL0261-C\",\"BL0261-C\",\"BL0261-C\",\"BL0261-C\",\"BL0261-C\",\"BL0261-C\",\"BL0261-C\",\"BL0261-C\",\"BL0261-C\",\"BL0261-C\",\"BL0261-C\",\"BL0261-C\",\"BL0261-C\",\"BL0261-C\",\"BL0261-C\",\"BL0261-C\",\"BL0261-C\",\"BL0261-C\",\"BL0261-C\",\"BL0261-C\",\"BL0261-C\",\"BL0261-C\",\"BL0261-C\",\"BL0261-C\",\"BL0261-C\",\"BL0261-C\",\"BL0261-C\",\"BL0261-C\",\"BL0261-C\",\"BL0261-C\",\"BL0261-C\",\"BL0261-C\",\"BL0261-C\",\"BL0261-C\",\"BL0261-C\",\"BL0261-C\",\"BL0261-C\",\"BL0261-C\",\"BL0261-C\",\"BL0261-C\",\"BL0261-C\",\"BL0261-C\",\"BL0261-C\",\"BL0261-C\",\"BL0261-C\",\"BL0261-C\",\"BL0261-C\",\"BL0261-C\",\"BL0261-C\",\"BL0261-C\",\"BL0261-C\",\"BL0261-C\",\"BL0261-C\",\"BL0261-C\",\"BL0261-C\",\"BL0261-C\",\"BL0261-C\",\"BL0261-C\",\"BL0261-C\",\"BL0261-C\",\"BL0261-C\",\"BL0261-C\",\"BL0261-C\",\"BL0261-C\",\"BL0261-C\",\"BL0261-C\",\"BL0261-C\",\"BL0261-C\",\"BL0261-C\",\"BL0261-C\",\"BL0261-C\",\"BL0261-C\",\"BL0261-C\",\"BL0261-C\",\"BL0261-C\",\"BL0261-C\",\"BL0261-C\",\"BL0261-C\",\"BL0261-C\",\"BL0261-C\",\"BL0261-C\",\"BL0261-C\",\"BL0261-C\",\"BL0261-C\",\"BL0261-C\",\"BL0261-C\",\"BL0261-C\",\"BL0261-C\",\"BL0261-C\",\"BL0261-C\",\"BL0261-C\",\"BL0261-C\",\"BL0261-C\",\"BL0261-C\",\"BL0261-C\",\"BL0261-C\",\"BL0261-C\",\"BL0261-C\",\"BL0261-C\",\"BL0261-C\",\"BL0261-C\",\"BL0261-C\",\"BL0261-C\",\"BL0261-C\",\"BL0261-C\",\"BL0261-C\",\"BL0261-C\",\"BL0261-C\",\"BL0261-C\",\"BL0261-C\",\"BL0261-C\",\"BL0261-C\",\"BL0261-C\",\"BL0261-C\",\"BL0261-C\",\"BL0261-C\",\"BL0261-C\",\"BL0261-C\",\"BL0261-C\",\"BL0261-C\",\"BL0261-C\",\"BL0261-C\",\"BL0261-C\"],\"variant_contig\":{\"__ndarray__\":\"AQEBAQEBAQEBAQEBAQEBAQEBAQEBAQEBAQEBAQEBAQEBAQEBAQEBAQEBAQEBAQEBAQEBAQEBAQEBAQEBAQEBAQEBAQEBAQEBAQEBAQEBAQEBAQEBAQEBAQEBAQEBAQEBAQEBAQEBAQEBAQEBAQEBAQEBAQEBAQEBAQEBAQEBAQEBAQEBAQEBAQEBAQEBAQEBAQEBAQEBAQEBAQEBAQEBAQEBAQEBAQEBAQEBAQEBAQEBAQEBAQEBAQEBAQEBAQEBAQEBAQEBAQEB\",\"dtype\":\"uint8\",\"order\":\"little\",\"shape\":[201]},\"variant_end\":{\"__ndarray__\":\"pC6zAdAvswH8MLMBKDKzAVQzswGANLMBrDWzAdg2swEEOLMBMDmzAVw6swGIO7MBtDyzAeA9swEMP7MBOECzAWRBswGQQrMBvEOzAehEswEURrMBQEezAWxIswGYSbMBxEqzAfBLswEcTbMBSE6zAXRPswGgULMBzFGzAfhSswEkVLMBUFWzAXxWswGoV7MB1FizAQBaswEsW7MBWFyzAYRdswGwXrMB3F+zAQhhswE0YrMBYGOzAYxkswG4ZbMB5GazARBoswE8abMBaGqzAZRrswHAbLMB7G2zARhvswFEcLMBcHGzAZxyswHIc7MB9HSzASB2swFMd7MBeHizAaR5swHQerMB/HuzASh9swFUfrMBgH+zAayAswHYgbMBBIOzATCEswFchbMBiIazAbSHswHgiLMBDIqzATiLswFkjLMBkI2zAbyOswHoj7MBFJGzAUCSswFsk7MBmJSzAcSVswHwlrMBHJizAUiZswF0mrMBoJuzAcycswH4nbMBJJ+zAVCgswF8obMBqKKzAdSjswEApbMBLKazAVinswGEqLMBsKmzAdyqswEIrLMBNK2zAWCuswGMr7MBuLCzAeSxswEQs7MBPLSzAWi1swGUtrMBwLezAey4swEYurMBRLuzAXC8swGcvbMByL6zAfS/swEgwbMBTMKzAXjDswGkxLMB0MWzAfzGswEoyLMBVMmzAYDKswGsy7MB2MyzAQTOswEwz7MBXNCzAYjRswG00rMB4NOzAQzVswE41rMBZNezAZDYswG82bMB6NqzARTcswFA3bMBbN6zAZjfswHE4LMB8OGzARzjswFI5LMBdOWzAaDmswHM57MB+OizASTqswFQ67MBfOyzAajtswHU7rMBAPCzASzxswFY8rMBhPOzAbD0swHc9bMBCPezATT4swFg+bMBjPqzAbj7swHk/LMBEP6zATz/swFoALQBlAG0AcACtAHsA7QBGAW0AUQGtAFwB7QBnAi0AcgJtAH0CrQBIAy0AUwNtAF4DrQBpA+0AdAQtAH8EbQBKBO0AVQUtAGAFbQBrBa0AdgXtAEEGbQB\",\"dtype\":\"int32\",\"order\":\"little\",\"shape\":[201]},\"variant_midpoint\":{\"__ndarray__\":\"Dy6zATsvswFnMLMBkzGzAb8yswHrM7MBFzWzAUM2swFvN7MBmzizAcc5swHzOrMBHzyzAUs9swF3PrMBoz+zAc9AswH7QbMBJ0OzAVNEswF/RbMBq0azAddHswEDSbMBL0qzAVtLswGHTLMBs02zAd9OswELULMBN1GzAWNSswGPU7MBu1SzAedVswETV7MBP1izAWtZswGXWrMBw1uzAe9cswEbXrMBR1+zAXNgswGfYbMBy2KzAfdjswEjZbMBT2azAXtnswGnaLMB02mzAf9qswErbLMBV22zAYNuswGvb7MB23CzAQdyswEzc7MBX3SzAYt1swG3drMB43ezAQ95swE7erMBZ3uzAZN8swG/fbMB636zAReAswFDgbMBb4KzAZuDswHHhLMB84WzAR+HswFLiLMBd4mzAaOKswHPi7MB+4yzASeOswFTj7MBf5CzAauRswHXkrMBA5SzAS+VswFblrMBh5ezAbOYswHfmbMBC5uzATecswFjnbMBj56zAbufswHnoLMBE6KzAT+jswFrpLMBl6WzAcOmswHvp7MBG6mzAUeqswFzq7MBn6yzAcutswH3rrMBI7CzAU+xswF7srMBp7OzAdO0swH/tbMBK7ezAVe4swGDubMBr7qzAdu7swEHvbMBM76zAV+/swGLwLMBt8GzAePCswEPxLMBO8WzAWfGswGTx7MBv8izAevJswEXy7MBQ8yzAW/NswGbzrMBx8+zAfPQswEf0rMBS9OzAXfUswGj1bMBz9azAfvXswEn2bMBU9qzAX/bswGr3LMB192zAQPfswEv4LMBW+GzAYfiswGz47MB3+SzAQvmswE357MBY+izAY/pswG76rMB5+uzARPtswE/7rMBa++zAZfwswHD8bMB7/KzARv0swFH9bMBc/azAZ/3swHL+LMB9/mzASP7swFP/LMBe/2zAaf+swHT/7MB/wC0ASsCtAFXA7QBgwS0Aa8FtAHbBrQBBwi0ATMJtAFfCrQBiwu0AbcMtAHjDbQBDw+0ATsQtAFnEbQBkxK0Ab8TtAHrFLQBFxa0AUMXtAFvGLQB\",\"dtype\":\"int32\",\"order\":\"little\",\"shape\":[201]},\"variant_position\":{\"__ndarray__\":\"eS2zAaUuswHRL7MB/TCzASkyswFVM7MBgTSzAa01swHZNrMBBTizATE5swFdOrMBiTuzAbU8swHhPbMBDT+zATlAswFlQbMBkUKzAb1DswHpRLMBFUazAUFHswFtSLMBmUmzAcVKswHxS7MBHU2zAUlOswF1T7MBoVCzAc1RswH5UrMBJVSzAVFVswF9VrMBqVezAdVYswEBWrMBLVuzAVlcswGFXbMBsV6zAd1fswEJYbMBNWKzAWFjswGNZLMBuWWzAeVmswERaLMBPWmzAWlqswGVa7MBwWyzAe1tswEZb7MBRXCzAXFxswGdcrMByXOzAfV0swEhdrMBTXezAXl4swGlebMB0XqzAf17swEpfbMBVX6zAYF/swGtgLMB2YGzAQWDswExhLMBXYWzAYmGswG1h7MB4YizAQ2KswE5i7MBZYyzAZGNswG9jrMB6Y+zARWRswFBkrMBbZOzAZmUswHFlbMB8ZazAR2YswFJmbMBdZqzAaGbswHNnLMB+Z2zASWfswFRoLMBfaGzAamiswHVo7MBAaWzAS2mswFZp7MBhaizAbGpswHdqrMBCayzATWtswFhrrMBja+zAbmwswHlsbMBEbOzAT20swFptbMBlbazAcG3swHtuLMBGbqzAUW7swFxvLMBnb2zAcm+swH1v7MBIcGzAU3CswF5w7MBpcSzAdHFswH9xrMBKcizAVXJswGByrMBrcuzAdnMswEFzrMBMc+zAV3QswGJ0bMBtdKzAeHTswEN1bMBOdazAWXXswGR2LMBvdmzAenaswEV3LMBQd2zAW3eswGZ37MBxeCzAfHhswEd47MBSeSzAXXlswGh5rMBzeezAfnoswEl6rMBUeuzAX3sswGp7bMB1e6zAQHwswEt8bMBWfKzAYXzswGx9LMB3fWzAQn3swE1+LMBYfmzAY36swG5+7MB5fyzARH+swE9/7MBaQC0AZUBtAHBArQB7QO0ARkFtAFFBrQBcQe0AZ0ItAHJCbQB9Qq0ASEMtAFNDbQBeQ60AaUPtAHRELQB/RG0ASkTtAFVFLQBgRW0Aa0WtAHZF7QB\",\"dtype\":\"int32\",\"order\":\"little\",\"shape\":[201]},\"variants\":[0,1,2,3,4,5,6,7,8,9,10,11,12,13,14,15,16,17,18,19,20,21,22,23,24,25,26,27,28,29,30,31,32,33,34,35,36,37,38,39,40,41,42,43,44,45,46,47,48,49,50,51,52,53,54,55,56,57,58,59,60,61,62,63,64,65,66,67,68,69,70,71,72,73,74,75,76,77,78,79,80,81,82,83,84,85,86,87,88,89,90,91,92,93,94,95,96,97,98,99,100,101,102,103,104,105,106,107,108,109,110,111,112,113,114,115,116,117,118,119,120,121,122,123,124,125,126,127,128,129,130,131,132,133,134,135,136,137,138,139,140,141,142,143,144,145,146,147,148,149,150,151,152,153,154,155,156,157,158,159,160,161,162,163,164,165,166,167,168,169,170,171,172,173,174,175,176,177,178,179,180,181,182,183,184,185,186,187,188,189,190,191,192,193,194,195,196,197,198,199,200]},\"selected\":{\"id\":\"1290\"},\"selection_policy\":{\"id\":\"1289\"}},\"id\":\"1275\",\"type\":\"ColumnDataSource\"},{\"attributes\":{\"end\":8},\"id\":\"1251\",\"type\":\"Range1d\"},{\"attributes\":{},\"id\":\"1384\",\"type\":\"UnionRenderers\"},{\"attributes\":{\"bounds\":\"auto\",\"end\":28580100,\"start\":28519801},\"id\":\"1245\",\"type\":\"Range1d\"},{\"attributes\":{\"line_color\":\"#1f77b4\",\"line_width\":2,\"x\":{\"field\":\"variant_midpoint\"},\"y\":{\"field\":\"call_CN\"}},\"id\":\"1295\",\"type\":\"Line\"},{\"attributes\":{\"source\":{\"id\":\"1275\"}},\"id\":\"1281\",\"type\":\"CDSView\"},{\"attributes\":{\"dimensions\":\"width\"},\"id\":\"1336\",\"type\":\"ZoomInTool\"},{\"attributes\":{\"ticks\":[0.4,1.4]},\"id\":\"1365\",\"type\":\"FixedTicker\"},{\"attributes\":{},\"id\":\"1338\",\"type\":\"ResetTool\"},{\"attributes\":{\"callback\":null,\"tooltips\":[[\"ID\",\"@ID\"],[\"Name\",\"@Name\"],[\"Description\",\"@description\"],[\"Location\",\"@contig:@start{,}-@end{,}\"]]},\"id\":\"1340\",\"type\":\"HoverTool\"},{\"attributes\":{\"axis\":{\"id\":\"1331\"},\"coordinates\":null,\"dimension\":1,\"group\":null,\"ticker\":null,\"visible\":false},\"id\":\"1334\",\"type\":\"Grid\"},{\"attributes\":{},\"id\":\"1314\",\"type\":\"NumeralTickFormatter\"},{\"attributes\":{\"coordinates\":null,\"formatter\":{\"id\":\"1351\"},\"group\":null,\"major_label_overrides\":{\"0.4\":\"-\",\"1.4\":\"+\"},\"major_label_policy\":{\"id\":\"1352\"},\"ticker\":{\"id\":\"1365\"}},\"id\":\"1331\",\"type\":\"LinearAxis\"},{\"attributes\":{},\"id\":\"1310\",\"type\":\"Selection\"},{\"attributes\":{\"callback\":{\"id\":\"1356\"}},\"id\":\"1339\",\"type\":\"TapTool\"},{\"attributes\":{\"coordinates\":null,\"group\":null,\"items\":[{\"id\":\"1292\"},{\"id\":\"1311\"}]},\"id\":\"1291\",\"type\":\"Legend\"},{\"attributes\":{},\"id\":\"1309\",\"type\":\"UnionRenderers\"},{\"attributes\":{\"source\":{\"id\":\"1293\"}},\"id\":\"1299\",\"type\":\"CDSView\"},{\"attributes\":{},\"id\":\"1328\",\"type\":\"BasicTicker\"},{\"attributes\":{\"line_alpha\":0.2,\"line_color\":\"#1f77b4\",\"line_width\":2,\"x\":{\"field\":\"variant_midpoint\"},\"y\":{\"field\":\"call_CN\"}},\"id\":\"1297\",\"type\":\"Line\"},{\"attributes\":{},\"id\":\"1352\",\"type\":\"AllLabels\"},{\"attributes\":{\"label\":{\"value\":\"HMM\"},\"renderers\":[{\"id\":\"1298\"}]},\"id\":\"1311\",\"type\":\"LegendItem\"},{\"attributes\":{\"coordinates\":null,\"data_source\":{\"id\":\"1293\"},\"glyph\":{\"id\":\"1295\"},\"group\":null,\"hover_glyph\":null,\"muted_glyph\":{\"id\":\"1297\"},\"nonselection_glyph\":{\"id\":\"1296\"},\"view\":{\"id\":\"1299\"}},\"id\":\"1298\",\"type\":\"GlyphRenderer\"},{\"attributes\":{\"dimensions\":\"width\"},\"id\":\"1337\",\"type\":\"ZoomOutTool\"},{\"attributes\":{\"url\":\"https://vectorbase.org/vectorbase/app/record/gene/@ID\"},\"id\":\"1356\",\"type\":\"OpenURL\"},{\"attributes\":{\"dimensions\":\"width\"},\"id\":\"1335\",\"type\":\"PanTool\"},{\"attributes\":{\"axis\":{\"id\":\"1327\"},\"coordinates\":null,\"group\":null,\"ticker\":null},\"id\":\"1330\",\"type\":\"Grid\"},{\"attributes\":{},\"id\":\"1351\",\"type\":\"BasicTickFormatter\"},{\"attributes\":{\"end\":2.2,\"start\":-0.4},\"id\":\"1364\",\"type\":\"Range1d\"},{\"attributes\":{\"data\":{\"ID\":[\"AGAP006221\",\"AGAP006222\",\"AGAP006223\",\"AGAP006224\",\"AGAP006225\",\"AGAP006226\",\"AGAP006227\",\"AGAP006228\",\"AGAP006229\",\"AGAP006231\",\"AGAP006232\",\"AGAP006233\",\"AGAP006234\",\"AGAP006235\",\"AGAP006236\",\"AGAP006237\",\"AGAP006238\",\"AGAP006239\"],\"Name\":[\"\",\"\",\"\",\"\",\"\",\"Aldehyde_oxidase\",\"\",\"COEAE2F\",\"Vps20\",\"\",\"Pex14\",\"\",\"\",\"\",\"\",\"\",\"\",\"\"],\"Parent\":[\"NaN\",\"NaN\",\"NaN\",\"NaN\",\"NaN\",\"NaN\",\"NaN\",\"NaN\",\"NaN\",\"NaN\",\"NaN\",\"NaN\",\"NaN\",\"NaN\",\"NaN\",\"NaN\",\"NaN\",\"NaN\"],\"bottom\":[1,1,1,1,1,1,0,1,1,1,0,1,1,0,0,0,1,1],\"contig\":[\"2L\",\"2L\",\"2L\",\"2L\",\"2L\",\"2L\",\"2L\",\"2L\",\"2L\",\"2L\",\"2L\",\"2L\",\"2L\",\"2L\",\"2L\",\"2L\",\"2L\",\"2L\"],\"description\":[\"aldehyde oxidase [Source:VB Community Annotation]\",\"glucosyl/glucuronosyl transferases [Source:VB Community Annotation]\",\"glucosyl/glucuronosyl transferases [Source:VB Community Annotation]\",\"aldehyde oxidase [Source:VB Community Annotation]\",\"aldehyde oxidase [Source:VB Community Annotation]\",\"\",\"alpha esterase [Source:VB Community Annotation]\",\"carboxylesterase [Source:VB Community Annotation]\",\"vacuolar protein sorting 20 [Source:VB Community Annotation]\",\"serine/threonine-protein phosphatase dullard homolog [Source:VB Community Annotation]\",\"peroxin-14 [Source:VB Community Annotation]\",\"\",\"protein SHQ1 [Source:VB Community Annotation]\",\"\",\"\",\"Negative elongation factor E [Source:VB Community Annotation]\",\"ubiquitin-conjugating enzyme E2 C [Source:VB Community Annotation]\",\"Protein TSSC1 [Source:VB Community Annotation]\"],\"end\":[28523900,28526317,28528641,28533199,28539416,28545294,28547938,28550748,28552032,28560186,28565368,28567186,28569087,28572971,28574496,28575725,28579600,28581250],\"index\":[24735,24757,24771,24785,24801,24817,24832,24850,24862,24874,24890,24904,24912,24924,24940,24947,24953,24961],\"phase\":{\"__ndarray__\":\"AAAAAAAA+H8AAAAAAAD4fwAAAAAAAPh/AAAAAAAA+H8AAAAAAAD4fwAAAAAAAPh/AAAAAAAA+H8AAAAAAAD4fwAAAAAAAPh/AAAAAAAA+H8AAAAAAAD4fwAAAAAAAPh/AAAAAAAA+H8AAAAAAAD4fwAAAAAAAPh/AAAAAAAA+H8AAAAAAAD4fwAAAAAAAPh/\",\"dtype\":\"float64\",\"order\":\"little\",\"shape\":[18]},\"score\":{\"__ndarray__\":\"AAAAAAAA+H8AAAAAAAD4fwAAAAAAAPh/AAAAAAAA+H8AAAAAAAD4fwAAAAAAAPh/AAAAAAAA+H8AAAAAAAD4fwAAAAAAAPh/AAAAAAAA+H8AAAAAAAD4fwAAAAAAAPh/AAAAAAAA+H8AAAAAAAD4fwAAAAAAAPh/AAAAAAAA+H8AAAAAAAD4fwAAAAAAAPh/\",\"dtype\":\"float64\",\"order\":\"little\",\"shape\":[18]},\"source\":[\"VectorBase\",\"VectorBase\",\"VectorBase\",\"VectorBase\",\"VectorBase\",\"VectorBase\",\"VectorBase\",\"VectorBase\",\"VectorBase\",\"VectorBase\",\"VectorBase\",\"VectorBase\",\"VectorBase\",\"VectorBase\",\"VectorBase\",\"VectorBase\",\"VectorBase\",\"VectorBase\"],\"start\":[28518055,28524225,28526558,28528758,28534732,28540651,28545396,28548433,28550814,28552352,28563646,28565893,28567535,28569164,28573531,28574680,28576341,28579834],\"strand\":[\"+\",\"+\",\"+\",\"+\",\"+\",\"+\",\"-\",\"+\",\"+\",\"+\",\"-\",\"+\",\"+\",\"-\",\"-\",\"-\",\"+\",\"+\"],\"top\":{\"__ndarray__\":\"zczMzMzM/D/NzMzMzMz8P83MzMzMzPw/zczMzMzM/D/NzMzMzMz8P83MzMzMzPw/mpmZmZmZ6T/NzMzMzMz8P83MzMzMzPw/zczMzMzM/D+amZmZmZnpP83MzMzMzPw/zczMzMzM/D+amZmZmZnpP5qZmZmZmek/mpmZmZmZ6T/NzMzMzMz8P83MzMzMzPw/\",\"dtype\":\"float64\",\"order\":\"little\",\"shape\":[18]},\"type\":[\"gene\",\"gene\",\"gene\",\"gene\",\"gene\",\"gene\",\"gene\",\"gene\",\"gene\",\"gene\",\"gene\",\"gene\",\"gene\",\"gene\",\"gene\",\"gene\",\"gene\",\"gene\"]},\"selected\":{\"id\":\"1385\"},\"selection_policy\":{\"id\":\"1384\"}},\"id\":\"1357\",\"type\":\"ColumnDataSource\"},{\"attributes\":{\"fill_alpha\":{\"value\":0.2},\"fill_color\":{\"value\":null},\"hatch_alpha\":{\"value\":0.2},\"line_alpha\":{\"value\":0.2},\"line_width\":{\"value\":0.5},\"size\":{\"value\":3},\"x\":{\"field\":\"variant_midpoint\"},\"y\":{\"field\":\"call_NormCov\"}},\"id\":\"1279\",\"type\":\"Circle\"},{\"attributes\":{\"bottom\":{\"field\":\"bottom\"},\"fill_alpha\":{\"value\":0.1},\"fill_color\":{\"value\":\"#1f77b4\"},\"hatch_alpha\":{\"value\":0.1},\"left\":{\"field\":\"start\"},\"line_alpha\":{\"value\":0.1},\"line_color\":{\"value\":\"#1f77b4\"},\"line_width\":{\"value\":0.5},\"right\":{\"field\":\"end\"},\"top\":{\"field\":\"top\"}},\"id\":\"1360\",\"type\":\"Quad\"},{\"attributes\":{\"line_alpha\":0.1,\"line_color\":\"#1f77b4\",\"line_width\":2,\"x\":{\"field\":\"variant_midpoint\"},\"y\":{\"field\":\"call_CN\"}},\"id\":\"1296\",\"type\":\"Line\"},{\"attributes\":{\"ticks\":[0,1,2,3,4,5,6,7,8]},\"id\":\"1312\",\"type\":\"FixedTicker\"},{\"attributes\":{\"active_drag\":{\"id\":\"1335\"},\"active_scroll\":{\"id\":\"1316\"},\"tools\":[{\"id\":\"1316\"},{\"id\":\"1335\"},{\"id\":\"1336\"},{\"id\":\"1337\"},{\"id\":\"1338\"},{\"id\":\"1339\"},{\"id\":\"1340\"}]},\"id\":\"1341\",\"type\":\"Toolbar\"},{\"attributes\":{\"bottom\":{\"field\":\"bottom\"},\"fill_alpha\":{\"value\":0.2},\"fill_color\":{\"value\":\"#1f77b4\"},\"hatch_alpha\":{\"value\":0.2},\"left\":{\"field\":\"start\"},\"line_alpha\":{\"value\":0.2},\"line_color\":{\"value\":\"#1f77b4\"},\"line_width\":{\"value\":0.5},\"right\":{\"field\":\"end\"},\"top\":{\"field\":\"top\"}},\"id\":\"1361\",\"type\":\"Quad\"},{\"attributes\":{\"bottom\":{\"field\":\"bottom\"},\"fill_alpha\":{\"value\":0.5},\"fill_color\":{\"value\":\"#1f77b4\"},\"left\":{\"field\":\"start\"},\"line_color\":{\"value\":\"#1f77b4\"},\"line_width\":{\"value\":0.5},\"right\":{\"field\":\"end\"},\"top\":{\"field\":\"top\"}},\"id\":\"1359\",\"type\":\"Quad\"},{\"attributes\":{},\"id\":\"1355\",\"type\":\"AllLabels\"},{\"attributes\":{},\"id\":\"1253\",\"type\":\"LinearScale\"},{\"attributes\":{\"data\":{\"call_CN\":{\"__ndarray__\":\"AgICAgICAgICAgICAgICAgICAgICAQEBAQEBAQICAgICAgICAgICAgICAgICAgICAgICAgICAgIDAwMDAwMDAwMDAwMDAwMDAwMDAwMDAwMDAwMDAwMDAwMDAwMDAwMDAwMDAwMDAwMDAwMDAwMDAwMDAwMDAwMDAwMDAwMDAwMDAwMDAwMDAwMDAwMDAwMDAwMDAwMDAwMDAwMDAwMDAwMDAwMDAwMGAwMDAwMDAwICAgICAgICAgICAgICAgICAgICAgICAgIC\",\"dtype\":\"int8\",\"order\":\"little\",\"shape\":[201]},\"call_NormCov\":{\"__ndarray__\":\"z/fDP3E9yj/hegxAnu/XP0jhyj8dWiRAAAAAQPhT8z/RIgNA8KfmP5MYtD8dWtQ/Gy/dP8HK0T9EiwRAAAAAQEJgxT/wp+Y/w/UQQCPb6T/HS+c/c2ixP/ypUT+R7Xw/kxiUP8dLNz/6fuo+CtdDP8l23j9kOw9AhxY5QCuH9j9zaJE/g8AiQD0KJ0DXo9A/H4XLP9EiA0CamQFAK4f2P6JFBkCynR9AarwEQEa2wz956bY/kxgcQAAAAEBWDv0/GQS2Px1aJEDXo/A/ZDufP4tsL0AZBB5AgZXjP9EiA0Dy0i1A8tJVQGDlOECPwj1ANV5iQNNNUkDufCdA000yQIXrOUDy0kVApHBlQE5iOEB9Py1ALbINQCGwKkAIrAxA2c4PQG3nI0DHSzdA7nwnQMl2HkA5tEBASgwyQMHKOUB3vjdAexRGQCGwKkBEiyRAke10QCUGQUBKDFpAdZNQQAaBRUDP90NA9ig0QB+FM0DLoR1Ay6EdQI2XXkAv3TxA4XoMQJzEgEB1k1BABFZuQFYObUAj22lAIbAqQBfZFkCcxIBAVg5tQMl2fkBxPSJAwcpxQIXrOUBOYmBAWDksQNv5mkAIrGxAIbBiQFyPMkB/ahxAI9thQIXrOUCDwLZAke1cQBBYSUCF63FA7FF4QDEIPECHFilADAJbQPYoTECoxkNAi2wvQAisREAOLVJAg8BSQPYoNEAIrERArkeFQDMzK0AhsCpAPQpvQArXU0BGtmtAx0tnQGDlaEAX2ZZAAACAQBKDSEAAAEBA+n46QB+Fc0CTGFxAEoNYQKwc+j+mmwRAJzFQQI/CNUBkOz9AexROQJzEcECiRSZApHDtP7x0I0DLoT1Aw/UwQGq8LEBMNylAheshQOF6TECiRcpA6SYhQGq8hED2KExAsp0fQCGwKkB/ahxAWDksQN9P7T8/NQ5AEFjZP/YoLED2KDxAHVoMQEa20z9vEgNA8KfmPwAAAEA7388/ObSoPzeJ4T89Cuc/i2zXP5zEwD/RIgNAvp+qPzeJAUAIrARA1XgJQN9PFUDl0NI/vHQjQFyPCkDZzg9A\",\"dtype\":\"float32\",\"order\":\"little\",\"shape\":[201]},\"samples\":[\"BL0261-C\",\"BL0261-C\",\"BL0261-C\",\"BL0261-C\",\"BL0261-C\",\"BL0261-C\",\"BL0261-C\",\"BL0261-C\",\"BL0261-C\",\"BL0261-C\",\"BL0261-C\",\"BL0261-C\",\"BL0261-C\",\"BL0261-C\",\"BL0261-C\",\"BL0261-C\",\"BL0261-C\",\"BL0261-C\",\"BL0261-C\",\"BL0261-C\",\"BL0261-C\",\"BL0261-C\",\"BL0261-C\",\"BL0261-C\",\"BL0261-C\",\"BL0261-C\",\"BL0261-C\",\"BL0261-C\",\"BL0261-C\",\"BL0261-C\",\"BL0261-C\",\"BL0261-C\",\"BL0261-C\",\"BL0261-C\",\"BL0261-C\",\"BL0261-C\",\"BL0261-C\",\"BL0261-C\",\"BL0261-C\",\"BL0261-C\",\"BL0261-C\",\"BL0261-C\",\"BL0261-C\",\"BL0261-C\",\"BL0261-C\",\"BL0261-C\",\"BL0261-C\",\"BL0261-C\",\"BL0261-C\",\"BL0261-C\",\"BL0261-C\",\"BL0261-C\",\"BL0261-C\",\"BL0261-C\",\"BL0261-C\",\"BL0261-C\",\"BL0261-C\",\"BL0261-C\",\"BL0261-C\",\"BL0261-C\",\"BL0261-C\",\"BL0261-C\",\"BL0261-C\",\"BL0261-C\",\"BL0261-C\",\"BL0261-C\",\"BL0261-C\",\"BL0261-C\",\"BL0261-C\",\"BL0261-C\",\"BL0261-C\",\"BL0261-C\",\"BL0261-C\",\"BL0261-C\",\"BL0261-C\",\"BL0261-C\",\"BL0261-C\",\"BL0261-C\",\"BL0261-C\",\"BL0261-C\",\"BL0261-C\",\"BL0261-C\",\"BL0261-C\",\"BL0261-C\",\"BL0261-C\",\"BL0261-C\",\"BL0261-C\",\"BL0261-C\",\"BL0261-C\",\"BL0261-C\",\"BL0261-C\",\"BL0261-C\",\"BL0261-C\",\"BL0261-C\",\"BL0261-C\",\"BL0261-C\",\"BL0261-C\",\"BL0261-C\",\"BL0261-C\",\"BL0261-C\",\"BL0261-C\",\"BL0261-C\",\"BL0261-C\",\"BL0261-C\",\"BL0261-C\",\"BL0261-C\",\"BL0261-C\",\"BL0261-C\",\"BL0261-C\",\"BL0261-C\",\"BL0261-C\",\"BL0261-C\",\"BL0261-C\",\"BL0261-C\",\"BL0261-C\",\"BL0261-C\",\"BL0261-C\",\"BL0261-C\",\"BL0261-C\",\"BL0261-C\",\"BL0261-C\",\"BL0261-C\",\"BL0261-C\",\"BL0261-C\",\"BL0261-C\",\"BL0261-C\",\"BL0261-C\",\"BL0261-C\",\"BL0261-C\",\"BL0261-C\",\"BL0261-C\",\"BL0261-C\",\"BL0261-C\",\"BL0261-C\",\"BL0261-C\",\"BL0261-C\",\"BL0261-C\",\"BL0261-C\",\"BL0261-C\",\"BL0261-C\",\"BL0261-C\",\"BL0261-C\",\"BL0261-C\",\"BL0261-C\",\"BL0261-C\",\"BL0261-C\",\"BL0261-C\",\"BL0261-C\",\"BL0261-C\",\"BL0261-C\",\"BL0261-C\",\"BL0261-C\",\"BL0261-C\",\"BL0261-C\",\"BL0261-C\",\"BL0261-C\",\"BL0261-C\",\"BL0261-C\",\"BL0261-C\",\"BL0261-C\",\"BL0261-C\",\"BL0261-C\",\"BL0261-C\",\"BL0261-C\",\"BL0261-C\",\"BL0261-C\",\"BL0261-C\",\"BL0261-C\",\"BL0261-C\",\"BL0261-C\",\"BL0261-C\",\"BL0261-C\",\"BL0261-C\",\"BL0261-C\",\"BL0261-C\",\"BL0261-C\",\"BL0261-C\",\"BL0261-C\",\"BL0261-C\",\"BL0261-C\",\"BL0261-C\",\"BL0261-C\",\"BL0261-C\",\"BL0261-C\",\"BL0261-C\",\"BL0261-C\",\"BL0261-C\",\"BL0261-C\",\"BL0261-C\",\"BL0261-C\",\"BL0261-C\",\"BL0261-C\",\"BL0261-C\",\"BL0261-C\",\"BL0261-C\",\"BL0261-C\",\"BL0261-C\",\"BL0261-C\",\"BL0261-C\",\"BL0261-C\",\"BL0261-C\"],\"variant_contig\":{\"__ndarray__\":\"AQEBAQEBAQEBAQEBAQEBAQEBAQEBAQEBAQEBAQEBAQEBAQEBAQEBAQEBAQEBAQEBAQEBAQEBAQEBAQEBAQEBAQEBAQEBAQEBAQEBAQEBAQEBAQEBAQEBAQEBAQEBAQEBAQEBAQEBAQEBAQEBAQEBAQEBAQEBAQEBAQEBAQEBAQEBAQEBAQEBAQEBAQEBAQEBAQEBAQEBAQEBAQEBAQEBAQEBAQEBAQEBAQEBAQEBAQEBAQEBAQEBAQEBAQEBAQEBAQEBAQEBAQEB\",\"dtype\":\"uint8\",\"order\":\"little\",\"shape\":[201]},\"variant_end\":{\"__ndarray__\":\"pC6zAdAvswH8MLMBKDKzAVQzswGANLMBrDWzAdg2swEEOLMBMDmzAVw6swGIO7MBtDyzAeA9swEMP7MBOECzAWRBswGQQrMBvEOzAehEswEURrMBQEezAWxIswGYSbMBxEqzAfBLswEcTbMBSE6zAXRPswGgULMBzFGzAfhSswEkVLMBUFWzAXxWswGoV7MB1FizAQBaswEsW7MBWFyzAYRdswGwXrMB3F+zAQhhswE0YrMBYGOzAYxkswG4ZbMB5GazARBoswE8abMBaGqzAZRrswHAbLMB7G2zARhvswFEcLMBcHGzAZxyswHIc7MB9HSzASB2swFMd7MBeHizAaR5swHQerMB/HuzASh9swFUfrMBgH+zAayAswHYgbMBBIOzATCEswFchbMBiIazAbSHswHgiLMBDIqzATiLswFkjLMBkI2zAbyOswHoj7MBFJGzAUCSswFsk7MBmJSzAcSVswHwlrMBHJizAUiZswF0mrMBoJuzAcycswH4nbMBJJ+zAVCgswF8obMBqKKzAdSjswEApbMBLKazAVinswGEqLMBsKmzAdyqswEIrLMBNK2zAWCuswGMr7MBuLCzAeSxswEQs7MBPLSzAWi1swGUtrMBwLezAey4swEYurMBRLuzAXC8swGcvbMByL6zAfS/swEgwbMBTMKzAXjDswGkxLMB0MWzAfzGswEoyLMBVMmzAYDKswGsy7MB2MyzAQTOswEwz7MBXNCzAYjRswG00rMB4NOzAQzVswE41rMBZNezAZDYswG82bMB6NqzARTcswFA3bMBbN6zAZjfswHE4LMB8OGzARzjswFI5LMBdOWzAaDmswHM57MB+OizASTqswFQ67MBfOyzAajtswHU7rMBAPCzASzxswFY8rMBhPOzAbD0swHc9bMBCPezATT4swFg+bMBjPqzAbj7swHk/LMBEP6zATz/swFoALQBlAG0AcACtAHsA7QBGAW0AUQGtAFwB7QBnAi0AcgJtAH0CrQBIAy0AUwNtAF4DrQBpA+0AdAQtAH8EbQBKBO0AVQUtAGAFbQBrBa0AdgXtAEEGbQB\",\"dtype\":\"int32\",\"order\":\"little\",\"shape\":[201]},\"variant_midpoint\":{\"__ndarray__\":\"Dy6zATsvswFnMLMBkzGzAb8yswHrM7MBFzWzAUM2swFvN7MBmzizAcc5swHzOrMBHzyzAUs9swF3PrMBoz+zAc9AswH7QbMBJ0OzAVNEswF/RbMBq0azAddHswEDSbMBL0qzAVtLswGHTLMBs02zAd9OswELULMBN1GzAWNSswGPU7MBu1SzAedVswETV7MBP1izAWtZswGXWrMBw1uzAe9cswEbXrMBR1+zAXNgswGfYbMBy2KzAfdjswEjZbMBT2azAXtnswGnaLMB02mzAf9qswErbLMBV22zAYNuswGvb7MB23CzAQdyswEzc7MBX3SzAYt1swG3drMB43ezAQ95swE7erMBZ3uzAZN8swG/fbMB636zAReAswFDgbMBb4KzAZuDswHHhLMB84WzAR+HswFLiLMBd4mzAaOKswHPi7MB+4yzASeOswFTj7MBf5CzAauRswHXkrMBA5SzAS+VswFblrMBh5ezAbOYswHfmbMBC5uzATecswFjnbMBj56zAbufswHnoLMBE6KzAT+jswFrpLMBl6WzAcOmswHvp7MBG6mzAUeqswFzq7MBn6yzAcutswH3rrMBI7CzAU+xswF7srMBp7OzAdO0swH/tbMBK7ezAVe4swGDubMBr7qzAdu7swEHvbMBM76zAV+/swGLwLMBt8GzAePCswEPxLMBO8WzAWfGswGTx7MBv8izAevJswEXy7MBQ8yzAW/NswGbzrMBx8+zAfPQswEf0rMBS9OzAXfUswGj1bMBz9azAfvXswEn2bMBU9qzAX/bswGr3LMB192zAQPfswEv4LMBW+GzAYfiswGz47MB3+SzAQvmswE357MBY+izAY/pswG76rMB5+uzARPtswE/7rMBa++zAZfwswHD8bMB7/KzARv0swFH9bMBc/azAZ/3swHL+LMB9/mzASP7swFP/LMBe/2zAaf+swHT/7MB/wC0ASsCtAFXA7QBgwS0Aa8FtAHbBrQBBwi0ATMJtAFfCrQBiwu0AbcMtAHjDbQBDw+0ATsQtAFnEbQBkxK0Ab8TtAHrFLQBFxa0AUMXtAFvGLQB\",\"dtype\":\"int32\",\"order\":\"little\",\"shape\":[201]},\"variant_position\":{\"__ndarray__\":\"eS2zAaUuswHRL7MB/TCzASkyswFVM7MBgTSzAa01swHZNrMBBTizATE5swFdOrMBiTuzAbU8swHhPbMBDT+zATlAswFlQbMBkUKzAb1DswHpRLMBFUazAUFHswFtSLMBmUmzAcVKswHxS7MBHU2zAUlOswF1T7MBoVCzAc1RswH5UrMBJVSzAVFVswF9VrMBqVezAdVYswEBWrMBLVuzAVlcswGFXbMBsV6zAd1fswEJYbMBNWKzAWFjswGNZLMBuWWzAeVmswERaLMBPWmzAWlqswGVa7MBwWyzAe1tswEZb7MBRXCzAXFxswGdcrMByXOzAfV0swEhdrMBTXezAXl4swGlebMB0XqzAf17swEpfbMBVX6zAYF/swGtgLMB2YGzAQWDswExhLMBXYWzAYmGswG1h7MB4YizAQ2KswE5i7MBZYyzAZGNswG9jrMB6Y+zARWRswFBkrMBbZOzAZmUswHFlbMB8ZazAR2YswFJmbMBdZqzAaGbswHNnLMB+Z2zASWfswFRoLMBfaGzAamiswHVo7MBAaWzAS2mswFZp7MBhaizAbGpswHdqrMBCayzATWtswFhrrMBja+zAbmwswHlsbMBEbOzAT20swFptbMBlbazAcG3swHtuLMBGbqzAUW7swFxvLMBnb2zAcm+swH1v7MBIcGzAU3CswF5w7MBpcSzAdHFswH9xrMBKcizAVXJswGByrMBrcuzAdnMswEFzrMBMc+zAV3QswGJ0bMBtdKzAeHTswEN1bMBOdazAWXXswGR2LMBvdmzAenaswEV3LMBQd2zAW3eswGZ37MBxeCzAfHhswEd47MBSeSzAXXlswGh5rMBzeezAfnoswEl6rMBUeuzAX3sswGp7bMB1e6zAQHwswEt8bMBWfKzAYXzswGx9LMB3fWzAQn3swE1+LMBYfmzAY36swG5+7MB5fyzARH+swE9/7MBaQC0AZUBtAHBArQB7QO0ARkFtAFFBrQBcQe0AZ0ItAHJCbQB9Qq0ASEMtAFNDbQBeQ60AaUPtAHRELQB/RG0ASkTtAFVFLQBgRW0Aa0WtAHZF7QB\",\"dtype\":\"int32\",\"order\":\"little\",\"shape\":[201]},\"variants\":[0,1,2,3,4,5,6,7,8,9,10,11,12,13,14,15,16,17,18,19,20,21,22,23,24,25,26,27,28,29,30,31,32,33,34,35,36,37,38,39,40,41,42,43,44,45,46,47,48,49,50,51,52,53,54,55,56,57,58,59,60,61,62,63,64,65,66,67,68,69,70,71,72,73,74,75,76,77,78,79,80,81,82,83,84,85,86,87,88,89,90,91,92,93,94,95,96,97,98,99,100,101,102,103,104,105,106,107,108,109,110,111,112,113,114,115,116,117,118,119,120,121,122,123,124,125,126,127,128,129,130,131,132,133,134,135,136,137,138,139,140,141,142,143,144,145,146,147,148,149,150,151,152,153,154,155,156,157,158,159,160,161,162,163,164,165,166,167,168,169,170,171,172,173,174,175,176,177,178,179,180,181,182,183,184,185,186,187,188,189,190,191,192,193,194,195,196,197,198,199,200]},\"selected\":{\"id\":\"1310\"},\"selection_policy\":{\"id\":\"1309\"}},\"id\":\"1293\",\"type\":\"ColumnDataSource\"}],\"root_ids\":[\"1390\"]},\"title\":\"Bokeh Application\",\"version\":\"2.4.2\"}};\n  const render_items = [{\"docid\":\"68698997-c553-4f7b-9d5b-e035898af024\",\"root_ids\":[\"1390\"],\"roots\":{\"1390\":\"f600e045-907b-4bb2-a813-ae790b2502e5\"}}];\n  root.Bokeh.embed.embed_items_notebook(docs_json, render_items);\n\n  }\n  if (root.Bokeh !== undefined) {\n    embed_document(root);\n  } else {\n    let attempts = 0;\n    const timer = setInterval(function(root) {\n      if (root.Bokeh !== undefined) {\n        clearInterval(timer);\n        embed_document(root);\n      } else {\n        attempts++;\n        if (attempts > 100) {\n          clearInterval(timer);\n          console.log(\"Bokeh: ERROR: Unable to run BokehJS code because BokehJS library is missing\");\n        }\n      }\n    }, 10, root)\n  }\n})(window);",
      "application/vnd.bokehjs_exec.v0+json": ""
     },
     "metadata": {
      "application/vnd.bokehjs_exec.v0+json": {
       "id": "1390"
      }
     },
     "output_type": "display_data"
    },
    {
     "data": {
      "text/html": [
       "\n",
       "\n",
       "\n",
       "\n",
       "\n",
       "\n",
       "  <div class=\"bk-root\" id=\"339e78cf-bbfe-4d95-b4be-e01c5c720744\" data-root-id=\"1648\"></div>\n"
      ]
     },
     "metadata": {},
     "output_type": "display_data"
    },
    {
     "data": {
      "application/javascript": "(function(root) {\n  function embed_document(root) {\n    \n  const docs_json = {\"e08802fd-4cec-4619-a05f-c5c092e96d50\":{\"defs\":[],\"roots\":{\"references\":[{\"attributes\":{\"children\":[{\"id\":\"1647\"},{\"id\":\"1645\"}]},\"id\":\"1648\",\"type\":\"Column\"},{\"attributes\":{\"line_alpha\":0.1,\"line_color\":\"#1f77b4\",\"line_width\":2,\"x\":{\"field\":\"variant_midpoint\"},\"y\":{\"field\":\"call_CN\"}},\"id\":\"1554\",\"type\":\"Line\"},{\"attributes\":{\"active_drag\":{\"id\":\"1523\"},\"active_scroll\":{\"id\":\"1504\"},\"tools\":[{\"id\":\"1504\"},{\"id\":\"1523\"},{\"id\":\"1524\"},{\"id\":\"1525\"},{\"id\":\"1526\"}]},\"id\":\"1527\",\"type\":\"Toolbar\"},{\"attributes\":{\"bottom\":{\"field\":\"bottom\"},\"fill_alpha\":{\"value\":0.2},\"fill_color\":{\"value\":\"#1f77b4\"},\"hatch_alpha\":{\"value\":0.2},\"left\":{\"field\":\"start\"},\"line_alpha\":{\"value\":0.2},\"line_color\":{\"value\":\"#1f77b4\"},\"line_width\":{\"value\":0.5},\"right\":{\"field\":\"end\"},\"top\":{\"field\":\"top\"}},\"id\":\"1619\",\"type\":\"Quad\"},{\"attributes\":{},\"id\":\"1586\",\"type\":\"BasicTicker\"},{\"attributes\":{\"axis_label\":\"Contig 2L position (bp)\",\"coordinates\":null,\"formatter\":{\"id\":\"1625\"},\"group\":null,\"major_label_policy\":{\"id\":\"1613\"},\"ticker\":{\"id\":\"1586\"}},\"id\":\"1585\",\"type\":\"LinearAxis\"},{\"attributes\":{\"axis\":{\"id\":\"1585\"},\"coordinates\":null,\"group\":null,\"ticker\":null},\"id\":\"1588\",\"type\":\"Grid\"},{\"attributes\":{\"coordinates\":null,\"group\":null,\"items\":[{\"id\":\"1550\"},{\"id\":\"1569\"}]},\"id\":\"1549\",\"type\":\"Legend\"},{\"attributes\":{\"coordinates\":null,\"data_source\":{\"id\":\"1551\"},\"glyph\":{\"id\":\"1553\"},\"group\":null,\"hover_glyph\":null,\"muted_glyph\":{\"id\":\"1555\"},\"nonselection_glyph\":{\"id\":\"1554\"},\"view\":{\"id\":\"1557\"}},\"id\":\"1556\",\"type\":\"GlyphRenderer\"},{\"attributes\":{},\"id\":\"1625\",\"type\":\"NumeralTickFormatter\"},{\"attributes\":{},\"id\":\"1542\",\"type\":\"BasicTickFormatter\"},{\"attributes\":{},\"id\":\"1581\",\"type\":\"LinearScale\"},{\"attributes\":{\"coordinates\":null,\"group\":null,\"text\":\"Genes\"},\"id\":\"1576\",\"type\":\"Title\"},{\"attributes\":{\"ticks\":[0,1,2,3,4,5,6,7,8,9,10,11]},\"id\":\"1570\",\"type\":\"FixedTicker\"},{\"attributes\":{\"line_alpha\":0.2,\"line_color\":\"#1f77b4\",\"line_width\":2,\"x\":{\"field\":\"variant_midpoint\"},\"y\":{\"field\":\"call_CN\"}},\"id\":\"1555\",\"type\":\"Line\"},{\"attributes\":{\"axis\":{\"id\":\"1519\"},\"coordinates\":null,\"dimension\":1,\"group\":null,\"ticker\":null},\"id\":\"1522\",\"type\":\"Grid\"},{\"attributes\":{\"source\":{\"id\":\"1615\"}},\"id\":\"1621\",\"type\":\"CDSView\"},{\"attributes\":{\"coordinates\":null,\"formatter\":{\"id\":\"1609\"},\"group\":null,\"major_label_overrides\":{\"0.4\":\"-\",\"1.4\":\"+\"},\"major_label_policy\":{\"id\":\"1610\"},\"ticker\":{\"id\":\"1623\"}},\"id\":\"1589\",\"type\":\"LinearAxis\"},{\"attributes\":{\"label\":{\"value\":\"HMM\"},\"renderers\":[{\"id\":\"1556\"}]},\"id\":\"1569\",\"type\":\"LegendItem\"},{\"attributes\":{\"end\":2.2,\"start\":-0.4},\"id\":\"1622\",\"type\":\"Range1d\"},{\"attributes\":{\"label\":{\"value\":\"Coverage\"},\"renderers\":[{\"id\":\"1538\"}]},\"id\":\"1550\",\"type\":\"LegendItem\"},{\"attributes\":{\"coordinates\":null,\"group\":null,\"text\":\"CNV HMM - BL0263-C (AG1000G-TZ)\"},\"id\":\"1506\",\"type\":\"Title\"},{\"attributes\":{},\"id\":\"1526\",\"type\":\"ResetTool\"},{\"attributes\":{},\"id\":\"1516\",\"type\":\"BasicTicker\"},{\"attributes\":{\"bottom\":{\"field\":\"bottom\"},\"fill_alpha\":{\"value\":0.5},\"fill_color\":{\"value\":\"#1f77b4\"},\"left\":{\"field\":\"start\"},\"line_color\":{\"value\":\"#1f77b4\"},\"line_width\":{\"value\":0.5},\"right\":{\"field\":\"end\"},\"top\":{\"field\":\"top\"}},\"id\":\"1617\",\"type\":\"Quad\"},{\"attributes\":{\"active_drag\":{\"id\":\"1593\"},\"active_scroll\":{\"id\":\"1574\"},\"tools\":[{\"id\":\"1574\"},{\"id\":\"1593\"},{\"id\":\"1594\"},{\"id\":\"1595\"},{\"id\":\"1596\"},{\"id\":\"1597\"},{\"id\":\"1598\"}]},\"id\":\"1599\",\"type\":\"Toolbar\"},{\"attributes\":{\"axis_label\":\"Contig 2L position (bp)\",\"coordinates\":null,\"formatter\":{\"id\":\"1572\"},\"group\":null,\"major_label_policy\":{\"id\":\"1546\"},\"ticker\":{\"id\":\"1516\"},\"visible\":false},\"id\":\"1515\",\"type\":\"LinearAxis\"},{\"attributes\":{},\"id\":\"1548\",\"type\":\"Selection\"},{\"attributes\":{},\"id\":\"1511\",\"type\":\"LinearScale\"},{\"attributes\":{},\"id\":\"1546\",\"type\":\"AllLabels\"},{\"attributes\":{\"below\":[{\"id\":\"1515\"}],\"center\":[{\"id\":\"1518\"},{\"id\":\"1522\"},{\"id\":\"1549\"}],\"height\":170,\"left\":[{\"id\":\"1519\"}],\"renderers\":[{\"id\":\"1538\"},{\"id\":\"1556\"}],\"right\":[{\"id\":\"1549\"}],\"title\":{\"id\":\"1506\"},\"toolbar\":{\"id\":\"1527\"},\"toolbar_location\":null,\"width\":800,\"x_range\":{\"id\":\"1503\"},\"x_scale\":{\"id\":\"1511\"},\"y_range\":{\"id\":\"1509\"},\"y_scale\":{\"id\":\"1513\"}},\"id\":\"1505\",\"subtype\":\"Figure\",\"type\":\"Plot\"},{\"attributes\":{},\"id\":\"1547\",\"type\":\"UnionRenderers\"},{\"attributes\":{\"toolbars\":[{\"id\":\"1527\"},{\"id\":\"1599\"}],\"tools\":[{\"id\":\"1504\"},{\"id\":\"1523\"},{\"id\":\"1524\"},{\"id\":\"1525\"},{\"id\":\"1526\"},{\"id\":\"1574\"},{\"id\":\"1593\"},{\"id\":\"1594\"},{\"id\":\"1595\"},{\"id\":\"1596\"},{\"id\":\"1597\"},{\"id\":\"1598\"}]},\"id\":\"1646\",\"type\":\"ProxyToolbar\"},{\"attributes\":{},\"id\":\"1543\",\"type\":\"AllLabels\"},{\"attributes\":{},\"id\":\"1583\",\"type\":\"LinearScale\"},{\"attributes\":{\"axis\":{\"id\":\"1515\"},\"coordinates\":null,\"group\":null,\"ticker\":null},\"id\":\"1518\",\"type\":\"Grid\"},{\"attributes\":{},\"id\":\"1567\",\"type\":\"UnionRenderers\"},{\"attributes\":{\"data\":{\"call_CN\":{\"__ndarray__\":\"AgICAgIGAgICAgICAgICAgICAgICAgICAgICAgICAgICAgICAgICAgICAgICAgICAgICAgQEBAQEBAQEBAQEBAQEBAQEBAQEBAQEBAQEBAQEBAQEBAQEBAQEBAQEBAQEBAkEBAQEBAQEBAQEBAQEBAQEBAQEBAQEBAQEBAQEBAQEBAQEBAQEBAQEBAQEBAQEBAQEBAQEBAQEBAQEBAQEBAQEBAQEBAQEBAQEBAQCAgICAgICAgICAgICAgICAgIFAgICAgICAgIC\",\"dtype\":\"int8\",\"order\":\"little\",\"shape\":[201]},\"call_NormCov\":{\"__ndarray__\":\"YOXgP65H4T+TGAxAfT/FP5ZD6z91k7xAarwUQD0K1z873xdAuB4FQGIQ6D9eugFAzczMP2Dl4D+8dANAHVrkPwAAAEBEi/w/vp8iQESLPEBeugFAg8ASQNnO5z/LofU/y6H1P7Kdzz9zaBE/K4dWPwwCE0AnMRhAkxgMQPp+2j97FK4/kxhMQK5HUUDn+9k/XI+iPxsvBUAnMRhAWmQDQKjGC0C280VAy6ENQC/dxD+8dANAQmBdQJMYDECHFvk/K4fWPxfZBkBg5eA/pHDdP1yPgkDBymlAhesZQMuhNUBCYF1AXrqBQFCNX0BI4ZJAAACAQKabmEDBymlARIt0QP7UgEBmZmZA9P1sQJzElEDLoXVAuklsQClcd0DXo0hAnMRYQKjGa0BeuoFAAACAQJMYZEB1k4hA5dCOQJhu8kBMN3FAKVxnQEoMUkC2821AexRmQAAAkEAv3YBAw/WMQPp+1kCiRX5A16OIQJZDa0AbL0VArkdZQKAak0AMAlNA5dA6QHNoDUEpXHdAdZNoQHnphkBYOZBAvHSDQKAaX0BEi3xAc2hJQNejjEAhsI5AIbCOQCUGaUBt53NARrY7QESLnEBEi3xAPQqTQAAAgEDufHdAQmBdQKJFfkAUrrtA5dB6QLBycECiRX5AUI2vQFCNj0BqvJhAvHSDQL6fYkBEi3xAQmCJQKabXEDLoXVAvp9iQPT9bEBeuoFA+n6WQClcl0BeukFAGy+FQHnphkBt55NAhxZ5QF66QUB7FGZAPQqTQKJFfkAdWmRAK4dOQKjGh0BkO4tAfT9tQGZmNkAbL0VAGy+FQAaBiUAAAIBAAABgQA4tkkDNzExAsHIwQGDlYEDLoXVAlkNrQAAAgEBI4XpAw/WMQKjGm0AhsO5AuklsQDVeikDufItALbKBQI2XRkApXA9AZDsnQPyp4T956QZAhxb5P8l2FkDP9xNAIbDyP7ByIECHFvk/z/cLQJZDA0D8qQFAUrjuP0SL/D+DwLo/+FPDP2IQ6D+TGKxADi3yPzVeSkD8qeE/yXYWQFCND0CkcN0/hxY5QESL/D/JdhZA\",\"dtype\":\"float32\",\"order\":\"little\",\"shape\":[201]},\"samples\":[\"BL0263-C\",\"BL0263-C\",\"BL0263-C\",\"BL0263-C\",\"BL0263-C\",\"BL0263-C\",\"BL0263-C\",\"BL0263-C\",\"BL0263-C\",\"BL0263-C\",\"BL0263-C\",\"BL0263-C\",\"BL0263-C\",\"BL0263-C\",\"BL0263-C\",\"BL0263-C\",\"BL0263-C\",\"BL0263-C\",\"BL0263-C\",\"BL0263-C\",\"BL0263-C\",\"BL0263-C\",\"BL0263-C\",\"BL0263-C\",\"BL0263-C\",\"BL0263-C\",\"BL0263-C\",\"BL0263-C\",\"BL0263-C\",\"BL0263-C\",\"BL0263-C\",\"BL0263-C\",\"BL0263-C\",\"BL0263-C\",\"BL0263-C\",\"BL0263-C\",\"BL0263-C\",\"BL0263-C\",\"BL0263-C\",\"BL0263-C\",\"BL0263-C\",\"BL0263-C\",\"BL0263-C\",\"BL0263-C\",\"BL0263-C\",\"BL0263-C\",\"BL0263-C\",\"BL0263-C\",\"BL0263-C\",\"BL0263-C\",\"BL0263-C\",\"BL0263-C\",\"BL0263-C\",\"BL0263-C\",\"BL0263-C\",\"BL0263-C\",\"BL0263-C\",\"BL0263-C\",\"BL0263-C\",\"BL0263-C\",\"BL0263-C\",\"BL0263-C\",\"BL0263-C\",\"BL0263-C\",\"BL0263-C\",\"BL0263-C\",\"BL0263-C\",\"BL0263-C\",\"BL0263-C\",\"BL0263-C\",\"BL0263-C\",\"BL0263-C\",\"BL0263-C\",\"BL0263-C\",\"BL0263-C\",\"BL0263-C\",\"BL0263-C\",\"BL0263-C\",\"BL0263-C\",\"BL0263-C\",\"BL0263-C\",\"BL0263-C\",\"BL0263-C\",\"BL0263-C\",\"BL0263-C\",\"BL0263-C\",\"BL0263-C\",\"BL0263-C\",\"BL0263-C\",\"BL0263-C\",\"BL0263-C\",\"BL0263-C\",\"BL0263-C\",\"BL0263-C\",\"BL0263-C\",\"BL0263-C\",\"BL0263-C\",\"BL0263-C\",\"BL0263-C\",\"BL0263-C\",\"BL0263-C\",\"BL0263-C\",\"BL0263-C\",\"BL0263-C\",\"BL0263-C\",\"BL0263-C\",\"BL0263-C\",\"BL0263-C\",\"BL0263-C\",\"BL0263-C\",\"BL0263-C\",\"BL0263-C\",\"BL0263-C\",\"BL0263-C\",\"BL0263-C\",\"BL0263-C\",\"BL0263-C\",\"BL0263-C\",\"BL0263-C\",\"BL0263-C\",\"BL0263-C\",\"BL0263-C\",\"BL0263-C\",\"BL0263-C\",\"BL0263-C\",\"BL0263-C\",\"BL0263-C\",\"BL0263-C\",\"BL0263-C\",\"BL0263-C\",\"BL0263-C\",\"BL0263-C\",\"BL0263-C\",\"BL0263-C\",\"BL0263-C\",\"BL0263-C\",\"BL0263-C\",\"BL0263-C\",\"BL0263-C\",\"BL0263-C\",\"BL0263-C\",\"BL0263-C\",\"BL0263-C\",\"BL0263-C\",\"BL0263-C\",\"BL0263-C\",\"BL0263-C\",\"BL0263-C\",\"BL0263-C\",\"BL0263-C\",\"BL0263-C\",\"BL0263-C\",\"BL0263-C\",\"BL0263-C\",\"BL0263-C\",\"BL0263-C\",\"BL0263-C\",\"BL0263-C\",\"BL0263-C\",\"BL0263-C\",\"BL0263-C\",\"BL0263-C\",\"BL0263-C\",\"BL0263-C\",\"BL0263-C\",\"BL0263-C\",\"BL0263-C\",\"BL0263-C\",\"BL0263-C\",\"BL0263-C\",\"BL0263-C\",\"BL0263-C\",\"BL0263-C\",\"BL0263-C\",\"BL0263-C\",\"BL0263-C\",\"BL0263-C\",\"BL0263-C\",\"BL0263-C\",\"BL0263-C\",\"BL0263-C\",\"BL0263-C\",\"BL0263-C\",\"BL0263-C\",\"BL0263-C\",\"BL0263-C\",\"BL0263-C\",\"BL0263-C\",\"BL0263-C\",\"BL0263-C\",\"BL0263-C\",\"BL0263-C\",\"BL0263-C\",\"BL0263-C\",\"BL0263-C\",\"BL0263-C\",\"BL0263-C\",\"BL0263-C\",\"BL0263-C\",\"BL0263-C\",\"BL0263-C\"],\"variant_contig\":{\"__ndarray__\":\"AQEBAQEBAQEBAQEBAQEBAQEBAQEBAQEBAQEBAQEBAQEBAQEBAQEBAQEBAQEBAQEBAQEBAQEBAQEBAQEBAQEBAQEBAQEBAQEBAQEBAQEBAQEBAQEBAQEBAQEBAQEBAQEBAQEBAQEBAQEBAQEBAQEBAQEBAQEBAQEBAQEBAQEBAQEBAQEBAQEBAQEBAQEBAQEBAQEBAQEBAQEBAQEBAQEBAQEBAQEBAQEBAQEBAQEBAQEBAQEBAQEBAQEBAQEBAQEBAQEBAQEBAQEB\",\"dtype\":\"uint8\",\"order\":\"little\",\"shape\":[201]},\"variant_end\":{\"__ndarray__\":\"pC6zAdAvswH8MLMBKDKzAVQzswGANLMBrDWzAdg2swEEOLMBMDmzAVw6swGIO7MBtDyzAeA9swEMP7MBOECzAWRBswGQQrMBvEOzAehEswEURrMBQEezAWxIswGYSbMBxEqzAfBLswEcTbMBSE6zAXRPswGgULMBzFGzAfhSswEkVLMBUFWzAXxWswGoV7MB1FizAQBaswEsW7MBWFyzAYRdswGwXrMB3F+zAQhhswE0YrMBYGOzAYxkswG4ZbMB5GazARBoswE8abMBaGqzAZRrswHAbLMB7G2zARhvswFEcLMBcHGzAZxyswHIc7MB9HSzASB2swFMd7MBeHizAaR5swHQerMB/HuzASh9swFUfrMBgH+zAayAswHYgbMBBIOzATCEswFchbMBiIazAbSHswHgiLMBDIqzATiLswFkjLMBkI2zAbyOswHoj7MBFJGzAUCSswFsk7MBmJSzAcSVswHwlrMBHJizAUiZswF0mrMBoJuzAcycswH4nbMBJJ+zAVCgswF8obMBqKKzAdSjswEApbMBLKazAVinswGEqLMBsKmzAdyqswEIrLMBNK2zAWCuswGMr7MBuLCzAeSxswEQs7MBPLSzAWi1swGUtrMBwLezAey4swEYurMBRLuzAXC8swGcvbMByL6zAfS/swEgwbMBTMKzAXjDswGkxLMB0MWzAfzGswEoyLMBVMmzAYDKswGsy7MB2MyzAQTOswEwz7MBXNCzAYjRswG00rMB4NOzAQzVswE41rMBZNezAZDYswG82bMB6NqzARTcswFA3bMBbN6zAZjfswHE4LMB8OGzARzjswFI5LMBdOWzAaDmswHM57MB+OizASTqswFQ67MBfOyzAajtswHU7rMBAPCzASzxswFY8rMBhPOzAbD0swHc9bMBCPezATT4swFg+bMBjPqzAbj7swHk/LMBEP6zATz/swFoALQBlAG0AcACtAHsA7QBGAW0AUQGtAFwB7QBnAi0AcgJtAH0CrQBIAy0AUwNtAF4DrQBpA+0AdAQtAH8EbQBKBO0AVQUtAGAFbQBrBa0AdgXtAEEGbQB\",\"dtype\":\"int32\",\"order\":\"little\",\"shape\":[201]},\"variant_midpoint\":{\"__ndarray__\":\"Dy6zATsvswFnMLMBkzGzAb8yswHrM7MBFzWzAUM2swFvN7MBmzizAcc5swHzOrMBHzyzAUs9swF3PrMBoz+zAc9AswH7QbMBJ0OzAVNEswF/RbMBq0azAddHswEDSbMBL0qzAVtLswGHTLMBs02zAd9OswELULMBN1GzAWNSswGPU7MBu1SzAedVswETV7MBP1izAWtZswGXWrMBw1uzAe9cswEbXrMBR1+zAXNgswGfYbMBy2KzAfdjswEjZbMBT2azAXtnswGnaLMB02mzAf9qswErbLMBV22zAYNuswGvb7MB23CzAQdyswEzc7MBX3SzAYt1swG3drMB43ezAQ95swE7erMBZ3uzAZN8swG/fbMB636zAReAswFDgbMBb4KzAZuDswHHhLMB84WzAR+HswFLiLMBd4mzAaOKswHPi7MB+4yzASeOswFTj7MBf5CzAauRswHXkrMBA5SzAS+VswFblrMBh5ezAbOYswHfmbMBC5uzATecswFjnbMBj56zAbufswHnoLMBE6KzAT+jswFrpLMBl6WzAcOmswHvp7MBG6mzAUeqswFzq7MBn6yzAcutswH3rrMBI7CzAU+xswF7srMBp7OzAdO0swH/tbMBK7ezAVe4swGDubMBr7qzAdu7swEHvbMBM76zAV+/swGLwLMBt8GzAePCswEPxLMBO8WzAWfGswGTx7MBv8izAevJswEXy7MBQ8yzAW/NswGbzrMBx8+zAfPQswEf0rMBS9OzAXfUswGj1bMBz9azAfvXswEn2bMBU9qzAX/bswGr3LMB192zAQPfswEv4LMBW+GzAYfiswGz47MB3+SzAQvmswE357MBY+izAY/pswG76rMB5+uzARPtswE/7rMBa++zAZfwswHD8bMB7/KzARv0swFH9bMBc/azAZ/3swHL+LMB9/mzASP7swFP/LMBe/2zAaf+swHT/7MB/wC0ASsCtAFXA7QBgwS0Aa8FtAHbBrQBBwi0ATMJtAFfCrQBiwu0AbcMtAHjDbQBDw+0ATsQtAFnEbQBkxK0Ab8TtAHrFLQBFxa0AUMXtAFvGLQB\",\"dtype\":\"int32\",\"order\":\"little\",\"shape\":[201]},\"variant_position\":{\"__ndarray__\":\"eS2zAaUuswHRL7MB/TCzASkyswFVM7MBgTSzAa01swHZNrMBBTizATE5swFdOrMBiTuzAbU8swHhPbMBDT+zATlAswFlQbMBkUKzAb1DswHpRLMBFUazAUFHswFtSLMBmUmzAcVKswHxS7MBHU2zAUlOswF1T7MBoVCzAc1RswH5UrMBJVSzAVFVswF9VrMBqVezAdVYswEBWrMBLVuzAVlcswGFXbMBsV6zAd1fswEJYbMBNWKzAWFjswGNZLMBuWWzAeVmswERaLMBPWmzAWlqswGVa7MBwWyzAe1tswEZb7MBRXCzAXFxswGdcrMByXOzAfV0swEhdrMBTXezAXl4swGlebMB0XqzAf17swEpfbMBVX6zAYF/swGtgLMB2YGzAQWDswExhLMBXYWzAYmGswG1h7MB4YizAQ2KswE5i7MBZYyzAZGNswG9jrMB6Y+zARWRswFBkrMBbZOzAZmUswHFlbMB8ZazAR2YswFJmbMBdZqzAaGbswHNnLMB+Z2zASWfswFRoLMBfaGzAamiswHVo7MBAaWzAS2mswFZp7MBhaizAbGpswHdqrMBCayzATWtswFhrrMBja+zAbmwswHlsbMBEbOzAT20swFptbMBlbazAcG3swHtuLMBGbqzAUW7swFxvLMBnb2zAcm+swH1v7MBIcGzAU3CswF5w7MBpcSzAdHFswH9xrMBKcizAVXJswGByrMBrcuzAdnMswEFzrMBMc+zAV3QswGJ0bMBtdKzAeHTswEN1bMBOdazAWXXswGR2LMBvdmzAenaswEV3LMBQd2zAW3eswGZ37MBxeCzAfHhswEd47MBSeSzAXXlswGh5rMBzeezAfnoswEl6rMBUeuzAX3sswGp7bMB1e6zAQHwswEt8bMBWfKzAYXzswGx9LMB3fWzAQn3swE1+LMBYfmzAY36swG5+7MB5fyzARH+swE9/7MBaQC0AZUBtAHBArQB7QO0ARkFtAFFBrQBcQe0AZ0ItAHJCbQB9Qq0ASEMtAFNDbQBeQ60AaUPtAHRELQB/RG0ASkTtAFVFLQBgRW0Aa0WtAHZF7QB\",\"dtype\":\"int32\",\"order\":\"little\",\"shape\":[201]},\"variants\":[0,1,2,3,4,5,6,7,8,9,10,11,12,13,14,15,16,17,18,19,20,21,22,23,24,25,26,27,28,29,30,31,32,33,34,35,36,37,38,39,40,41,42,43,44,45,46,47,48,49,50,51,52,53,54,55,56,57,58,59,60,61,62,63,64,65,66,67,68,69,70,71,72,73,74,75,76,77,78,79,80,81,82,83,84,85,86,87,88,89,90,91,92,93,94,95,96,97,98,99,100,101,102,103,104,105,106,107,108,109,110,111,112,113,114,115,116,117,118,119,120,121,122,123,124,125,126,127,128,129,130,131,132,133,134,135,136,137,138,139,140,141,142,143,144,145,146,147,148,149,150,151,152,153,154,155,156,157,158,159,160,161,162,163,164,165,166,167,168,169,170,171,172,173,174,175,176,177,178,179,180,181,182,183,184,185,186,187,188,189,190,191,192,193,194,195,196,197,198,199,200]},\"selected\":{\"id\":\"1548\"},\"selection_policy\":{\"id\":\"1547\"}},\"id\":\"1533\",\"type\":\"ColumnDataSource\"},{\"attributes\":{\"children\":[[{\"id\":\"1505\"},0,0],[{\"id\":\"1575\"},1,0]]},\"id\":\"1645\",\"type\":\"GridBox\"},{\"attributes\":{\"dimensions\":\"width\"},\"id\":\"1525\",\"type\":\"ZoomOutTool\"},{\"attributes\":{\"end\":11},\"id\":\"1509\",\"type\":\"Range1d\"},{\"attributes\":{\"bounds\":\"auto\",\"end\":28580100,\"start\":28519801},\"id\":\"1503\",\"type\":\"Range1d\"},{\"attributes\":{},\"id\":\"1513\",\"type\":\"LinearScale\"},{\"attributes\":{\"dimensions\":\"width\",\"maintain_focus\":false},\"id\":\"1504\",\"type\":\"WheelZoomTool\"},{\"attributes\":{\"dimensions\":\"width\"},\"id\":\"1524\",\"type\":\"ZoomInTool\"},{\"attributes\":{\"coordinates\":null,\"data_source\":{\"id\":\"1533\"},\"glyph\":{\"id\":\"1535\"},\"group\":null,\"hover_glyph\":null,\"muted_glyph\":{\"id\":\"1537\"},\"nonselection_glyph\":{\"id\":\"1536\"},\"view\":{\"id\":\"1539\"}},\"id\":\"1538\",\"type\":\"GlyphRenderer\"},{\"attributes\":{\"data\":{\"call_CN\":{\"__ndarray__\":\"AgICAgIGAgICAgICAgICAgICAgICAgICAgICAgICAgICAgICAgICAgICAgICAgICAgICAgQEBAQEBAQEBAQEBAQEBAQEBAQEBAQEBAQEBAQEBAQEBAQEBAQEBAQEBAQEBAkEBAQEBAQEBAQEBAQEBAQEBAQEBAQEBAQEBAQEBAQEBAQEBAQEBAQEBAQEBAQEBAQEBAQEBAQEBAQEBAQEBAQEBAQEBAQEBAQEBAQCAgICAgICAgICAgICAgICAgIFAgICAgICAgIC\",\"dtype\":\"int8\",\"order\":\"little\",\"shape\":[201]},\"call_NormCov\":{\"__ndarray__\":\"YOXgP65H4T+TGAxAfT/FP5ZD6z91k7xAarwUQD0K1z873xdAuB4FQGIQ6D9eugFAzczMP2Dl4D+8dANAHVrkPwAAAEBEi/w/vp8iQESLPEBeugFAg8ASQNnO5z/LofU/y6H1P7Kdzz9zaBE/K4dWPwwCE0AnMRhAkxgMQPp+2j97FK4/kxhMQK5HUUDn+9k/XI+iPxsvBUAnMRhAWmQDQKjGC0C280VAy6ENQC/dxD+8dANAQmBdQJMYDECHFvk/K4fWPxfZBkBg5eA/pHDdP1yPgkDBymlAhesZQMuhNUBCYF1AXrqBQFCNX0BI4ZJAAACAQKabmEDBymlARIt0QP7UgEBmZmZA9P1sQJzElEDLoXVAuklsQClcd0DXo0hAnMRYQKjGa0BeuoFAAACAQJMYZEB1k4hA5dCOQJhu8kBMN3FAKVxnQEoMUkC2821AexRmQAAAkEAv3YBAw/WMQPp+1kCiRX5A16OIQJZDa0AbL0VArkdZQKAak0AMAlNA5dA6QHNoDUEpXHdAdZNoQHnphkBYOZBAvHSDQKAaX0BEi3xAc2hJQNejjEAhsI5AIbCOQCUGaUBt53NARrY7QESLnEBEi3xAPQqTQAAAgEDufHdAQmBdQKJFfkAUrrtA5dB6QLBycECiRX5AUI2vQFCNj0BqvJhAvHSDQL6fYkBEi3xAQmCJQKabXEDLoXVAvp9iQPT9bEBeuoFA+n6WQClcl0BeukFAGy+FQHnphkBt55NAhxZ5QF66QUB7FGZAPQqTQKJFfkAdWmRAK4dOQKjGh0BkO4tAfT9tQGZmNkAbL0VAGy+FQAaBiUAAAIBAAABgQA4tkkDNzExAsHIwQGDlYEDLoXVAlkNrQAAAgEBI4XpAw/WMQKjGm0AhsO5AuklsQDVeikDufItALbKBQI2XRkApXA9AZDsnQPyp4T956QZAhxb5P8l2FkDP9xNAIbDyP7ByIECHFvk/z/cLQJZDA0D8qQFAUrjuP0SL/D+DwLo/+FPDP2IQ6D+TGKxADi3yPzVeSkD8qeE/yXYWQFCND0CkcN0/hxY5QESL/D/JdhZA\",\"dtype\":\"float32\",\"order\":\"little\",\"shape\":[201]},\"samples\":[\"BL0263-C\",\"BL0263-C\",\"BL0263-C\",\"BL0263-C\",\"BL0263-C\",\"BL0263-C\",\"BL0263-C\",\"BL0263-C\",\"BL0263-C\",\"BL0263-C\",\"BL0263-C\",\"BL0263-C\",\"BL0263-C\",\"BL0263-C\",\"BL0263-C\",\"BL0263-C\",\"BL0263-C\",\"BL0263-C\",\"BL0263-C\",\"BL0263-C\",\"BL0263-C\",\"BL0263-C\",\"BL0263-C\",\"BL0263-C\",\"BL0263-C\",\"BL0263-C\",\"BL0263-C\",\"BL0263-C\",\"BL0263-C\",\"BL0263-C\",\"BL0263-C\",\"BL0263-C\",\"BL0263-C\",\"BL0263-C\",\"BL0263-C\",\"BL0263-C\",\"BL0263-C\",\"BL0263-C\",\"BL0263-C\",\"BL0263-C\",\"BL0263-C\",\"BL0263-C\",\"BL0263-C\",\"BL0263-C\",\"BL0263-C\",\"BL0263-C\",\"BL0263-C\",\"BL0263-C\",\"BL0263-C\",\"BL0263-C\",\"BL0263-C\",\"BL0263-C\",\"BL0263-C\",\"BL0263-C\",\"BL0263-C\",\"BL0263-C\",\"BL0263-C\",\"BL0263-C\",\"BL0263-C\",\"BL0263-C\",\"BL0263-C\",\"BL0263-C\",\"BL0263-C\",\"BL0263-C\",\"BL0263-C\",\"BL0263-C\",\"BL0263-C\",\"BL0263-C\",\"BL0263-C\",\"BL0263-C\",\"BL0263-C\",\"BL0263-C\",\"BL0263-C\",\"BL0263-C\",\"BL0263-C\",\"BL0263-C\",\"BL0263-C\",\"BL0263-C\",\"BL0263-C\",\"BL0263-C\",\"BL0263-C\",\"BL0263-C\",\"BL0263-C\",\"BL0263-C\",\"BL0263-C\",\"BL0263-C\",\"BL0263-C\",\"BL0263-C\",\"BL0263-C\",\"BL0263-C\",\"BL0263-C\",\"BL0263-C\",\"BL0263-C\",\"BL0263-C\",\"BL0263-C\",\"BL0263-C\",\"BL0263-C\",\"BL0263-C\",\"BL0263-C\",\"BL0263-C\",\"BL0263-C\",\"BL0263-C\",\"BL0263-C\",\"BL0263-C\",\"BL0263-C\",\"BL0263-C\",\"BL0263-C\",\"BL0263-C\",\"BL0263-C\",\"BL0263-C\",\"BL0263-C\",\"BL0263-C\",\"BL0263-C\",\"BL0263-C\",\"BL0263-C\",\"BL0263-C\",\"BL0263-C\",\"BL0263-C\",\"BL0263-C\",\"BL0263-C\",\"BL0263-C\",\"BL0263-C\",\"BL0263-C\",\"BL0263-C\",\"BL0263-C\",\"BL0263-C\",\"BL0263-C\",\"BL0263-C\",\"BL0263-C\",\"BL0263-C\",\"BL0263-C\",\"BL0263-C\",\"BL0263-C\",\"BL0263-C\",\"BL0263-C\",\"BL0263-C\",\"BL0263-C\",\"BL0263-C\",\"BL0263-C\",\"BL0263-C\",\"BL0263-C\",\"BL0263-C\",\"BL0263-C\",\"BL0263-C\",\"BL0263-C\",\"BL0263-C\",\"BL0263-C\",\"BL0263-C\",\"BL0263-C\",\"BL0263-C\",\"BL0263-C\",\"BL0263-C\",\"BL0263-C\",\"BL0263-C\",\"BL0263-C\",\"BL0263-C\",\"BL0263-C\",\"BL0263-C\",\"BL0263-C\",\"BL0263-C\",\"BL0263-C\",\"BL0263-C\",\"BL0263-C\",\"BL0263-C\",\"BL0263-C\",\"BL0263-C\",\"BL0263-C\",\"BL0263-C\",\"BL0263-C\",\"BL0263-C\",\"BL0263-C\",\"BL0263-C\",\"BL0263-C\",\"BL0263-C\",\"BL0263-C\",\"BL0263-C\",\"BL0263-C\",\"BL0263-C\",\"BL0263-C\",\"BL0263-C\",\"BL0263-C\",\"BL0263-C\",\"BL0263-C\",\"BL0263-C\",\"BL0263-C\",\"BL0263-C\",\"BL0263-C\",\"BL0263-C\",\"BL0263-C\",\"BL0263-C\",\"BL0263-C\",\"BL0263-C\",\"BL0263-C\",\"BL0263-C\",\"BL0263-C\",\"BL0263-C\",\"BL0263-C\",\"BL0263-C\",\"BL0263-C\",\"BL0263-C\",\"BL0263-C\"],\"variant_contig\":{\"__ndarray__\":\"AQEBAQEBAQEBAQEBAQEBAQEBAQEBAQEBAQEBAQEBAQEBAQEBAQEBAQEBAQEBAQEBAQEBAQEBAQEBAQEBAQEBAQEBAQEBAQEBAQEBAQEBAQEBAQEBAQEBAQEBAQEBAQEBAQEBAQEBAQEBAQEBAQEBAQEBAQEBAQEBAQEBAQEBAQEBAQEBAQEBAQEBAQEBAQEBAQEBAQEBAQEBAQEBAQEBAQEBAQEBAQEBAQEBAQEBAQEBAQEBAQEBAQEBAQEBAQEBAQEBAQEBAQEB\",\"dtype\":\"uint8\",\"order\":\"little\",\"shape\":[201]},\"variant_end\":{\"__ndarray__\":\"pC6zAdAvswH8MLMBKDKzAVQzswGANLMBrDWzAdg2swEEOLMBMDmzAVw6swGIO7MBtDyzAeA9swEMP7MBOECzAWRBswGQQrMBvEOzAehEswEURrMBQEezAWxIswGYSbMBxEqzAfBLswEcTbMBSE6zAXRPswGgULMBzFGzAfhSswEkVLMBUFWzAXxWswGoV7MB1FizAQBaswEsW7MBWFyzAYRdswGwXrMB3F+zAQhhswE0YrMBYGOzAYxkswG4ZbMB5GazARBoswE8abMBaGqzAZRrswHAbLMB7G2zARhvswFEcLMBcHGzAZxyswHIc7MB9HSzASB2swFMd7MBeHizAaR5swHQerMB/HuzASh9swFUfrMBgH+zAayAswHYgbMBBIOzATCEswFchbMBiIazAbSHswHgiLMBDIqzATiLswFkjLMBkI2zAbyOswHoj7MBFJGzAUCSswFsk7MBmJSzAcSVswHwlrMBHJizAUiZswF0mrMBoJuzAcycswH4nbMBJJ+zAVCgswF8obMBqKKzAdSjswEApbMBLKazAVinswGEqLMBsKmzAdyqswEIrLMBNK2zAWCuswGMr7MBuLCzAeSxswEQs7MBPLSzAWi1swGUtrMBwLezAey4swEYurMBRLuzAXC8swGcvbMByL6zAfS/swEgwbMBTMKzAXjDswGkxLMB0MWzAfzGswEoyLMBVMmzAYDKswGsy7MB2MyzAQTOswEwz7MBXNCzAYjRswG00rMB4NOzAQzVswE41rMBZNezAZDYswG82bMB6NqzARTcswFA3bMBbN6zAZjfswHE4LMB8OGzARzjswFI5LMBdOWzAaDmswHM57MB+OizASTqswFQ67MBfOyzAajtswHU7rMBAPCzASzxswFY8rMBhPOzAbD0swHc9bMBCPezATT4swFg+bMBjPqzAbj7swHk/LMBEP6zATz/swFoALQBlAG0AcACtAHsA7QBGAW0AUQGtAFwB7QBnAi0AcgJtAH0CrQBIAy0AUwNtAF4DrQBpA+0AdAQtAH8EbQBKBO0AVQUtAGAFbQBrBa0AdgXtAEEGbQB\",\"dtype\":\"int32\",\"order\":\"little\",\"shape\":[201]},\"variant_midpoint\":{\"__ndarray__\":\"Dy6zATsvswFnMLMBkzGzAb8yswHrM7MBFzWzAUM2swFvN7MBmzizAcc5swHzOrMBHzyzAUs9swF3PrMBoz+zAc9AswH7QbMBJ0OzAVNEswF/RbMBq0azAddHswEDSbMBL0qzAVtLswGHTLMBs02zAd9OswELULMBN1GzAWNSswGPU7MBu1SzAedVswETV7MBP1izAWtZswGXWrMBw1uzAe9cswEbXrMBR1+zAXNgswGfYbMBy2KzAfdjswEjZbMBT2azAXtnswGnaLMB02mzAf9qswErbLMBV22zAYNuswGvb7MB23CzAQdyswEzc7MBX3SzAYt1swG3drMB43ezAQ95swE7erMBZ3uzAZN8swG/fbMB636zAReAswFDgbMBb4KzAZuDswHHhLMB84WzAR+HswFLiLMBd4mzAaOKswHPi7MB+4yzASeOswFTj7MBf5CzAauRswHXkrMBA5SzAS+VswFblrMBh5ezAbOYswHfmbMBC5uzATecswFjnbMBj56zAbufswHnoLMBE6KzAT+jswFrpLMBl6WzAcOmswHvp7MBG6mzAUeqswFzq7MBn6yzAcutswH3rrMBI7CzAU+xswF7srMBp7OzAdO0swH/tbMBK7ezAVe4swGDubMBr7qzAdu7swEHvbMBM76zAV+/swGLwLMBt8GzAePCswEPxLMBO8WzAWfGswGTx7MBv8izAevJswEXy7MBQ8yzAW/NswGbzrMBx8+zAfPQswEf0rMBS9OzAXfUswGj1bMBz9azAfvXswEn2bMBU9qzAX/bswGr3LMB192zAQPfswEv4LMBW+GzAYfiswGz47MB3+SzAQvmswE357MBY+izAY/pswG76rMB5+uzARPtswE/7rMBa++zAZfwswHD8bMB7/KzARv0swFH9bMBc/azAZ/3swHL+LMB9/mzASP7swFP/LMBe/2zAaf+swHT/7MB/wC0ASsCtAFXA7QBgwS0Aa8FtAHbBrQBBwi0ATMJtAFfCrQBiwu0AbcMtAHjDbQBDw+0ATsQtAFnEbQBkxK0Ab8TtAHrFLQBFxa0AUMXtAFvGLQB\",\"dtype\":\"int32\",\"order\":\"little\",\"shape\":[201]},\"variant_position\":{\"__ndarray__\":\"eS2zAaUuswHRL7MB/TCzASkyswFVM7MBgTSzAa01swHZNrMBBTizATE5swFdOrMBiTuzAbU8swHhPbMBDT+zATlAswFlQbMBkUKzAb1DswHpRLMBFUazAUFHswFtSLMBmUmzAcVKswHxS7MBHU2zAUlOswF1T7MBoVCzAc1RswH5UrMBJVSzAVFVswF9VrMBqVezAdVYswEBWrMBLVuzAVlcswGFXbMBsV6zAd1fswEJYbMBNWKzAWFjswGNZLMBuWWzAeVmswERaLMBPWmzAWlqswGVa7MBwWyzAe1tswEZb7MBRXCzAXFxswGdcrMByXOzAfV0swEhdrMBTXezAXl4swGlebMB0XqzAf17swEpfbMBVX6zAYF/swGtgLMB2YGzAQWDswExhLMBXYWzAYmGswG1h7MB4YizAQ2KswE5i7MBZYyzAZGNswG9jrMB6Y+zARWRswFBkrMBbZOzAZmUswHFlbMB8ZazAR2YswFJmbMBdZqzAaGbswHNnLMB+Z2zASWfswFRoLMBfaGzAamiswHVo7MBAaWzAS2mswFZp7MBhaizAbGpswHdqrMBCayzATWtswFhrrMBja+zAbmwswHlsbMBEbOzAT20swFptbMBlbazAcG3swHtuLMBGbqzAUW7swFxvLMBnb2zAcm+swH1v7MBIcGzAU3CswF5w7MBpcSzAdHFswH9xrMBKcizAVXJswGByrMBrcuzAdnMswEFzrMBMc+zAV3QswGJ0bMBtdKzAeHTswEN1bMBOdazAWXXswGR2LMBvdmzAenaswEV3LMBQd2zAW3eswGZ37MBxeCzAfHhswEd47MBSeSzAXXlswGh5rMBzeezAfnoswEl6rMBUeuzAX3sswGp7bMB1e6zAQHwswEt8bMBWfKzAYXzswGx9LMB3fWzAQn3swE1+LMBYfmzAY36swG5+7MB5fyzARH+swE9/7MBaQC0AZUBtAHBArQB7QO0ARkFtAFFBrQBcQe0AZ0ItAHJCbQB9Qq0ASEMtAFNDbQBeQ60AaUPtAHRELQB/RG0ASkTtAFVFLQBgRW0Aa0WtAHZF7QB\",\"dtype\":\"int32\",\"order\":\"little\",\"shape\":[201]},\"variants\":[0,1,2,3,4,5,6,7,8,9,10,11,12,13,14,15,16,17,18,19,20,21,22,23,24,25,26,27,28,29,30,31,32,33,34,35,36,37,38,39,40,41,42,43,44,45,46,47,48,49,50,51,52,53,54,55,56,57,58,59,60,61,62,63,64,65,66,67,68,69,70,71,72,73,74,75,76,77,78,79,80,81,82,83,84,85,86,87,88,89,90,91,92,93,94,95,96,97,98,99,100,101,102,103,104,105,106,107,108,109,110,111,112,113,114,115,116,117,118,119,120,121,122,123,124,125,126,127,128,129,130,131,132,133,134,135,136,137,138,139,140,141,142,143,144,145,146,147,148,149,150,151,152,153,154,155,156,157,158,159,160,161,162,163,164,165,166,167,168,169,170,171,172,173,174,175,176,177,178,179,180,181,182,183,184,185,186,187,188,189,190,191,192,193,194,195,196,197,198,199,200]},\"selected\":{\"id\":\"1568\"},\"selection_policy\":{\"id\":\"1567\"}},\"id\":\"1551\",\"type\":\"ColumnDataSource\"},{\"attributes\":{},\"id\":\"1572\",\"type\":\"NumeralTickFormatter\"},{\"attributes\":{\"source\":{\"id\":\"1533\"}},\"id\":\"1539\",\"type\":\"CDSView\"},{\"attributes\":{\"line_color\":\"#1f77b4\",\"line_width\":2,\"x\":{\"field\":\"variant_midpoint\"},\"y\":{\"field\":\"call_CN\"}},\"id\":\"1553\",\"type\":\"Line\"},{\"attributes\":{\"dimensions\":\"width\"},\"id\":\"1523\",\"type\":\"PanTool\"},{\"attributes\":{},\"id\":\"1568\",\"type\":\"Selection\"},{\"attributes\":{\"dimensions\":\"width\"},\"id\":\"1593\",\"type\":\"PanTool\"},{\"attributes\":{\"fill_alpha\":{\"value\":0.2},\"fill_color\":{\"value\":null},\"hatch_alpha\":{\"value\":0.2},\"line_alpha\":{\"value\":0.2},\"line_width\":{\"value\":0.5},\"size\":{\"value\":3},\"x\":{\"field\":\"variant_midpoint\"},\"y\":{\"field\":\"call_NormCov\"}},\"id\":\"1537\",\"type\":\"Circle\"},{\"attributes\":{\"dimensions\":\"width\"},\"id\":\"1594\",\"type\":\"ZoomInTool\"},{\"attributes\":{},\"id\":\"1613\",\"type\":\"AllLabels\"},{\"attributes\":{},\"id\":\"1596\",\"type\":\"ResetTool\"},{\"attributes\":{\"callback\":{\"id\":\"1614\"}},\"id\":\"1597\",\"type\":\"TapTool\"},{\"attributes\":{},\"id\":\"1609\",\"type\":\"BasicTickFormatter\"},{\"attributes\":{\"below\":[{\"id\":\"1585\"}],\"center\":[{\"id\":\"1588\"},{\"id\":\"1592\"}],\"height\":120,\"left\":[{\"id\":\"1589\"}],\"renderers\":[{\"id\":\"1620\"}],\"title\":{\"id\":\"1576\"},\"toolbar\":{\"id\":\"1599\"},\"toolbar_location\":null,\"width\":800,\"x_range\":{\"id\":\"1503\"},\"x_scale\":{\"id\":\"1581\"},\"y_range\":{\"id\":\"1622\"},\"y_scale\":{\"id\":\"1583\"}},\"id\":\"1575\",\"subtype\":\"Figure\",\"type\":\"Plot\"},{\"attributes\":{\"axis_label\":\"Copy number\",\"coordinates\":null,\"formatter\":{\"id\":\"1542\"},\"group\":null,\"major_label_policy\":{\"id\":\"1543\"},\"ticker\":{\"id\":\"1570\"}},\"id\":\"1519\",\"type\":\"LinearAxis\"},{\"attributes\":{\"source\":{\"id\":\"1551\"}},\"id\":\"1557\",\"type\":\"CDSView\"},{\"attributes\":{\"ticks\":[0.4,1.4]},\"id\":\"1623\",\"type\":\"FixedTicker\"},{\"attributes\":{\"coordinates\":null,\"data_source\":{\"id\":\"1615\"},\"glyph\":{\"id\":\"1617\"},\"group\":null,\"hover_glyph\":null,\"muted_glyph\":{\"id\":\"1619\"},\"nonselection_glyph\":{\"id\":\"1618\"},\"view\":{\"id\":\"1621\"}},\"id\":\"1620\",\"type\":\"GlyphRenderer\"},{\"attributes\":{},\"id\":\"1610\",\"type\":\"AllLabels\"},{\"attributes\":{\"fill_color\":{\"value\":null},\"line_width\":{\"value\":0.5},\"size\":{\"value\":3},\"x\":{\"field\":\"variant_midpoint\"},\"y\":{\"field\":\"call_NormCov\"}},\"id\":\"1535\",\"type\":\"Circle\"},{\"attributes\":{\"data\":{\"ID\":[\"AGAP006221\",\"AGAP006222\",\"AGAP006223\",\"AGAP006224\",\"AGAP006225\",\"AGAP006226\",\"AGAP006227\",\"AGAP006228\",\"AGAP006229\",\"AGAP006231\",\"AGAP006232\",\"AGAP006233\",\"AGAP006234\",\"AGAP006235\",\"AGAP006236\",\"AGAP006237\",\"AGAP006238\",\"AGAP006239\"],\"Name\":[\"\",\"\",\"\",\"\",\"\",\"Aldehyde_oxidase\",\"\",\"COEAE2F\",\"Vps20\",\"\",\"Pex14\",\"\",\"\",\"\",\"\",\"\",\"\",\"\"],\"Parent\":[\"NaN\",\"NaN\",\"NaN\",\"NaN\",\"NaN\",\"NaN\",\"NaN\",\"NaN\",\"NaN\",\"NaN\",\"NaN\",\"NaN\",\"NaN\",\"NaN\",\"NaN\",\"NaN\",\"NaN\",\"NaN\"],\"bottom\":[1,1,1,1,1,1,0,1,1,1,0,1,1,0,0,0,1,1],\"contig\":[\"2L\",\"2L\",\"2L\",\"2L\",\"2L\",\"2L\",\"2L\",\"2L\",\"2L\",\"2L\",\"2L\",\"2L\",\"2L\",\"2L\",\"2L\",\"2L\",\"2L\",\"2L\"],\"description\":[\"aldehyde oxidase [Source:VB Community Annotation]\",\"glucosyl/glucuronosyl transferases [Source:VB Community Annotation]\",\"glucosyl/glucuronosyl transferases [Source:VB Community Annotation]\",\"aldehyde oxidase [Source:VB Community Annotation]\",\"aldehyde oxidase [Source:VB Community Annotation]\",\"\",\"alpha esterase [Source:VB Community Annotation]\",\"carboxylesterase [Source:VB Community Annotation]\",\"vacuolar protein sorting 20 [Source:VB Community Annotation]\",\"serine/threonine-protein phosphatase dullard homolog [Source:VB Community Annotation]\",\"peroxin-14 [Source:VB Community Annotation]\",\"\",\"protein SHQ1 [Source:VB Community Annotation]\",\"\",\"\",\"Negative elongation factor E [Source:VB Community Annotation]\",\"ubiquitin-conjugating enzyme E2 C [Source:VB Community Annotation]\",\"Protein TSSC1 [Source:VB Community Annotation]\"],\"end\":[28523900,28526317,28528641,28533199,28539416,28545294,28547938,28550748,28552032,28560186,28565368,28567186,28569087,28572971,28574496,28575725,28579600,28581250],\"index\":[24735,24757,24771,24785,24801,24817,24832,24850,24862,24874,24890,24904,24912,24924,24940,24947,24953,24961],\"phase\":{\"__ndarray__\":\"AAAAAAAA+H8AAAAAAAD4fwAAAAAAAPh/AAAAAAAA+H8AAAAAAAD4fwAAAAAAAPh/AAAAAAAA+H8AAAAAAAD4fwAAAAAAAPh/AAAAAAAA+H8AAAAAAAD4fwAAAAAAAPh/AAAAAAAA+H8AAAAAAAD4fwAAAAAAAPh/AAAAAAAA+H8AAAAAAAD4fwAAAAAAAPh/\",\"dtype\":\"float64\",\"order\":\"little\",\"shape\":[18]},\"score\":{\"__ndarray__\":\"AAAAAAAA+H8AAAAAAAD4fwAAAAAAAPh/AAAAAAAA+H8AAAAAAAD4fwAAAAAAAPh/AAAAAAAA+H8AAAAAAAD4fwAAAAAAAPh/AAAAAAAA+H8AAAAAAAD4fwAAAAAAAPh/AAAAAAAA+H8AAAAAAAD4fwAAAAAAAPh/AAAAAAAA+H8AAAAAAAD4fwAAAAAAAPh/\",\"dtype\":\"float64\",\"order\":\"little\",\"shape\":[18]},\"source\":[\"VectorBase\",\"VectorBase\",\"VectorBase\",\"VectorBase\",\"VectorBase\",\"VectorBase\",\"VectorBase\",\"VectorBase\",\"VectorBase\",\"VectorBase\",\"VectorBase\",\"VectorBase\",\"VectorBase\",\"VectorBase\",\"VectorBase\",\"VectorBase\",\"VectorBase\",\"VectorBase\"],\"start\":[28518055,28524225,28526558,28528758,28534732,28540651,28545396,28548433,28550814,28552352,28563646,28565893,28567535,28569164,28573531,28574680,28576341,28579834],\"strand\":[\"+\",\"+\",\"+\",\"+\",\"+\",\"+\",\"-\",\"+\",\"+\",\"+\",\"-\",\"+\",\"+\",\"-\",\"-\",\"-\",\"+\",\"+\"],\"top\":{\"__ndarray__\":\"zczMzMzM/D/NzMzMzMz8P83MzMzMzPw/zczMzMzM/D/NzMzMzMz8P83MzMzMzPw/mpmZmZmZ6T/NzMzMzMz8P83MzMzMzPw/zczMzMzM/D+amZmZmZnpP83MzMzMzPw/zczMzMzM/D+amZmZmZnpP5qZmZmZmek/mpmZmZmZ6T/NzMzMzMz8P83MzMzMzPw/\",\"dtype\":\"float64\",\"order\":\"little\",\"shape\":[18]},\"type\":[\"gene\",\"gene\",\"gene\",\"gene\",\"gene\",\"gene\",\"gene\",\"gene\",\"gene\",\"gene\",\"gene\",\"gene\",\"gene\",\"gene\",\"gene\",\"gene\",\"gene\",\"gene\"]},\"selected\":{\"id\":\"1643\"},\"selection_policy\":{\"id\":\"1642\"}},\"id\":\"1615\",\"type\":\"ColumnDataSource\"},{\"attributes\":{\"dimensions\":\"width\",\"maintain_focus\":false},\"id\":\"1574\",\"type\":\"WheelZoomTool\"},{\"attributes\":{\"callback\":null,\"tooltips\":[[\"ID\",\"@ID\"],[\"Name\",\"@Name\"],[\"Description\",\"@description\"],[\"Location\",\"@contig:@start{,}-@end{,}\"]]},\"id\":\"1598\",\"type\":\"HoverTool\"},{\"attributes\":{\"fill_alpha\":{\"value\":0.1},\"fill_color\":{\"value\":null},\"hatch_alpha\":{\"value\":0.1},\"line_alpha\":{\"value\":0.1},\"line_width\":{\"value\":0.5},\"size\":{\"value\":3},\"x\":{\"field\":\"variant_midpoint\"},\"y\":{\"field\":\"call_NormCov\"}},\"id\":\"1536\",\"type\":\"Circle\"},{\"attributes\":{\"url\":\"https://vectorbase.org/vectorbase/app/record/gene/@ID\"},\"id\":\"1614\",\"type\":\"OpenURL\"},{\"attributes\":{\"bottom\":{\"field\":\"bottom\"},\"fill_alpha\":{\"value\":0.1},\"fill_color\":{\"value\":\"#1f77b4\"},\"hatch_alpha\":{\"value\":0.1},\"left\":{\"field\":\"start\"},\"line_alpha\":{\"value\":0.1},\"line_color\":{\"value\":\"#1f77b4\"},\"line_width\":{\"value\":0.5},\"right\":{\"field\":\"end\"},\"top\":{\"field\":\"top\"}},\"id\":\"1618\",\"type\":\"Quad\"},{\"attributes\":{\"toolbar\":{\"id\":\"1646\"},\"toolbar_location\":\"above\"},\"id\":\"1647\",\"type\":\"ToolbarBox\"},{\"attributes\":{},\"id\":\"1643\",\"type\":\"Selection\"},{\"attributes\":{},\"id\":\"1642\",\"type\":\"UnionRenderers\"},{\"attributes\":{\"dimensions\":\"width\"},\"id\":\"1595\",\"type\":\"ZoomOutTool\"},{\"attributes\":{\"axis\":{\"id\":\"1589\"},\"coordinates\":null,\"dimension\":1,\"group\":null,\"ticker\":null,\"visible\":false},\"id\":\"1592\",\"type\":\"Grid\"}],\"root_ids\":[\"1648\"]},\"title\":\"Bokeh Application\",\"version\":\"2.4.2\"}};\n  const render_items = [{\"docid\":\"e08802fd-4cec-4619-a05f-c5c092e96d50\",\"root_ids\":[\"1648\"],\"roots\":{\"1648\":\"339e78cf-bbfe-4d95-b4be-e01c5c720744\"}}];\n  root.Bokeh.embed.embed_items_notebook(docs_json, render_items);\n\n  }\n  if (root.Bokeh !== undefined) {\n    embed_document(root);\n  } else {\n    let attempts = 0;\n    const timer = setInterval(function(root) {\n      if (root.Bokeh !== undefined) {\n        clearInterval(timer);\n        embed_document(root);\n      } else {\n        attempts++;\n        if (attempts > 100) {\n          clearInterval(timer);\n          console.log(\"Bokeh: ERROR: Unable to run BokehJS code because BokehJS library is missing\");\n        }\n      }\n    }, 10, root)\n  }\n})(window);",
      "application/vnd.bokehjs_exec.v0+json": ""
     },
     "metadata": {
      "application/vnd.bokehjs_exec.v0+json": {
       "id": "1648"
      }
     },
     "output_type": "display_data"
    },
    {
     "data": {
      "text/html": [
       "\n",
       "\n",
       "\n",
       "\n",
       "\n",
       "\n",
       "  <div class=\"bk-root\" id=\"cad09746-ee6c-413f-9229-dc89ad8cd1f8\" data-root-id=\"1922\"></div>\n"
      ]
     },
     "metadata": {},
     "output_type": "display_data"
    },
    {
     "data": {
      "application/javascript": "(function(root) {\n  function embed_document(root) {\n    \n  const docs_json = {\"9a4f5520-fa6f-4d67-a5cb-1eb2987f5eb0\":{\"defs\":[],\"roots\":{\"references\":[{\"attributes\":{\"children\":[{\"id\":\"1921\"},{\"id\":\"1919\"}]},\"id\":\"1922\",\"type\":\"Column\"},{\"attributes\":{\"label\":{\"value\":\"Coverage\"},\"renderers\":[{\"id\":\"1812\"}]},\"id\":\"1824\",\"type\":\"LegendItem\"},{\"attributes\":{\"axis_label\":\"Contig 2L position (bp)\",\"coordinates\":null,\"formatter\":{\"id\":\"1899\"},\"group\":null,\"major_label_policy\":{\"id\":\"1887\"},\"ticker\":{\"id\":\"1860\"}},\"id\":\"1859\",\"type\":\"LinearAxis\"},{\"attributes\":{},\"id\":\"1817\",\"type\":\"AllLabels\"},{\"attributes\":{\"data\":{\"call_CN\":{\"__ndarray__\":\"AgICAgICAgICAgICAgICAgICAgICAQEBAQEBAQICAgICAgICAgICAgICAgICAgICAgICAgMDAwMDAwMDAwMDAwMDAwMDAwMDAwMDAwMDAwMDAwMDAwMDAwMDAwMDAwMDAwMDAwMDAwMDAwMDAwMDAwMDAwMDAwMDAwMDAwMDAwMDAwMDAwMDAwMDAwMDAwMDAwMDAwMDAwMDAwMDAwMDAwMDAwMDAwMHAwMDAwMCAgICAgICAgICAgICAgICAgICAgICAgICAgIC\",\"dtype\":\"int8\",\"order\":\"little\",\"shape\":[201]},\"call_NormCov\":{\"__ndarray__\":\"ukm8P6rxwj9WDv0/VOMFQAwCyz8AABBAVg79P3E92j/jpes/HVoEQAAAEEBU4wVAx0uXP6rxAkBoka0/DALLPz0K9z8EVu4//tQIQKjGC0DhesQ/rByKP8dLhz8v3ZQ/c2iBPycxSD/fT40+L90kP39qBEBWDv0/fT8NQFYO/T9zaLE/XrrZP6jGC0BYOfQ/rkfxP9EiE0BI4TpA8tIVQG3n6z/jpUtA1XgRQPCn5j+6Sbw/9igsQKRwHUB/agRAtvPNP9V4AUB56Q5Aukm8Pzm0WEDy0kVAexQWQA4twj9OYiBAIbAqQNV4IUC0yE5ANV4yQJHtREA5tFhAke1EQARWRkCoxjNAd74nQDEIZEA5tEBARrYTQMl2NkA3iUlAAABAQIGVQ0CLbE9AoBovQEJgTUBeulFAAitXQBkEPkBMNzFAKVwnQMdLP0Dy0lVADi1aQDeJOUBg5VBADAJLQLgeRUB1kzBANV5SQAisXEAlBhlAarwcQPypOUDJdjZA+n4aQAwCQ0AOLTpAke0sQDm0QEBI4VJAHVpEQDm0QEAv3WxAx0t3QAAAgEBcj2JAokUmQNNNEkCe7zdAAAAgQKwcekDdJF5AN4lJQC/dbEArh05ADAJLQGIQSECwcmhAsp1fQFyPYkCynV9AbeeLQOOlS0AOLUpADi1CQE5iIEBI4TpA46WDQArXa0CynV9AtMhWQEw3KUCgGi9AXrpZQPT9PEAhsCpAMQhkQJ7vN0CJQVhAtvNNQHe+J0AK11NAtMhWQEoMOkBiEEhAHVoUQDVeUkDy0j1ADi0aQPp++j+cxCBAN4lJQCGwKkBKDDJAgZVDQHNoOUDy0gVAf2oEQB+FM0Bg5VBA4XpMQKAaL0Dy0hVAtMhWQKAaT0BaZOtAexQOQKAaL0BU4z1ADi1KQG8SO0A5tBhASOECQE5i4D9YOfQ/ukm8PwaB5T+TGCxAObQgQHNo8T9WDv0/AAAQQLbzJUDTTRJAUrgOQFg59D9MNylA9igUQDm0CEB7FBZADi3CP7TI1j/D9eg/9P00QNEiE0BaZOs/c2g5QNEiE0AnMRBA\",\"dtype\":\"float32\",\"order\":\"little\",\"shape\":[201]},\"samples\":[\"BL0267-C\",\"BL0267-C\",\"BL0267-C\",\"BL0267-C\",\"BL0267-C\",\"BL0267-C\",\"BL0267-C\",\"BL0267-C\",\"BL0267-C\",\"BL0267-C\",\"BL0267-C\",\"BL0267-C\",\"BL0267-C\",\"BL0267-C\",\"BL0267-C\",\"BL0267-C\",\"BL0267-C\",\"BL0267-C\",\"BL0267-C\",\"BL0267-C\",\"BL0267-C\",\"BL0267-C\",\"BL0267-C\",\"BL0267-C\",\"BL0267-C\",\"BL0267-C\",\"BL0267-C\",\"BL0267-C\",\"BL0267-C\",\"BL0267-C\",\"BL0267-C\",\"BL0267-C\",\"BL0267-C\",\"BL0267-C\",\"BL0267-C\",\"BL0267-C\",\"BL0267-C\",\"BL0267-C\",\"BL0267-C\",\"BL0267-C\",\"BL0267-C\",\"BL0267-C\",\"BL0267-C\",\"BL0267-C\",\"BL0267-C\",\"BL0267-C\",\"BL0267-C\",\"BL0267-C\",\"BL0267-C\",\"BL0267-C\",\"BL0267-C\",\"BL0267-C\",\"BL0267-C\",\"BL0267-C\",\"BL0267-C\",\"BL0267-C\",\"BL0267-C\",\"BL0267-C\",\"BL0267-C\",\"BL0267-C\",\"BL0267-C\",\"BL0267-C\",\"BL0267-C\",\"BL0267-C\",\"BL0267-C\",\"BL0267-C\",\"BL0267-C\",\"BL0267-C\",\"BL0267-C\",\"BL0267-C\",\"BL0267-C\",\"BL0267-C\",\"BL0267-C\",\"BL0267-C\",\"BL0267-C\",\"BL0267-C\",\"BL0267-C\",\"BL0267-C\",\"BL0267-C\",\"BL0267-C\",\"BL0267-C\",\"BL0267-C\",\"BL0267-C\",\"BL0267-C\",\"BL0267-C\",\"BL0267-C\",\"BL0267-C\",\"BL0267-C\",\"BL0267-C\",\"BL0267-C\",\"BL0267-C\",\"BL0267-C\",\"BL0267-C\",\"BL0267-C\",\"BL0267-C\",\"BL0267-C\",\"BL0267-C\",\"BL0267-C\",\"BL0267-C\",\"BL0267-C\",\"BL0267-C\",\"BL0267-C\",\"BL0267-C\",\"BL0267-C\",\"BL0267-C\",\"BL0267-C\",\"BL0267-C\",\"BL0267-C\",\"BL0267-C\",\"BL0267-C\",\"BL0267-C\",\"BL0267-C\",\"BL0267-C\",\"BL0267-C\",\"BL0267-C\",\"BL0267-C\",\"BL0267-C\",\"BL0267-C\",\"BL0267-C\",\"BL0267-C\",\"BL0267-C\",\"BL0267-C\",\"BL0267-C\",\"BL0267-C\",\"BL0267-C\",\"BL0267-C\",\"BL0267-C\",\"BL0267-C\",\"BL0267-C\",\"BL0267-C\",\"BL0267-C\",\"BL0267-C\",\"BL0267-C\",\"BL0267-C\",\"BL0267-C\",\"BL0267-C\",\"BL0267-C\",\"BL0267-C\",\"BL0267-C\",\"BL0267-C\",\"BL0267-C\",\"BL0267-C\",\"BL0267-C\",\"BL0267-C\",\"BL0267-C\",\"BL0267-C\",\"BL0267-C\",\"BL0267-C\",\"BL0267-C\",\"BL0267-C\",\"BL0267-C\",\"BL0267-C\",\"BL0267-C\",\"BL0267-C\",\"BL0267-C\",\"BL0267-C\",\"BL0267-C\",\"BL0267-C\",\"BL0267-C\",\"BL0267-C\",\"BL0267-C\",\"BL0267-C\",\"BL0267-C\",\"BL0267-C\",\"BL0267-C\",\"BL0267-C\",\"BL0267-C\",\"BL0267-C\",\"BL0267-C\",\"BL0267-C\",\"BL0267-C\",\"BL0267-C\",\"BL0267-C\",\"BL0267-C\",\"BL0267-C\",\"BL0267-C\",\"BL0267-C\",\"BL0267-C\",\"BL0267-C\",\"BL0267-C\",\"BL0267-C\",\"BL0267-C\",\"BL0267-C\",\"BL0267-C\",\"BL0267-C\",\"BL0267-C\",\"BL0267-C\",\"BL0267-C\",\"BL0267-C\",\"BL0267-C\",\"BL0267-C\",\"BL0267-C\",\"BL0267-C\",\"BL0267-C\",\"BL0267-C\",\"BL0267-C\",\"BL0267-C\",\"BL0267-C\",\"BL0267-C\",\"BL0267-C\",\"BL0267-C\"],\"variant_contig\":{\"__ndarray__\":\"AQEBAQEBAQEBAQEBAQEBAQEBAQEBAQEBAQEBAQEBAQEBAQEBAQEBAQEBAQEBAQEBAQEBAQEBAQEBAQEBAQEBAQEBAQEBAQEBAQEBAQEBAQEBAQEBAQEBAQEBAQEBAQEBAQEBAQEBAQEBAQEBAQEBAQEBAQEBAQEBAQEBAQEBAQEBAQEBAQEBAQEBAQEBAQEBAQEBAQEBAQEBAQEBAQEBAQEBAQEBAQEBAQEBAQEBAQEBAQEBAQEBAQEBAQEBAQEBAQEBAQEBAQEB\",\"dtype\":\"uint8\",\"order\":\"little\",\"shape\":[201]},\"variant_end\":{\"__ndarray__\":\"pC6zAdAvswH8MLMBKDKzAVQzswGANLMBrDWzAdg2swEEOLMBMDmzAVw6swGIO7MBtDyzAeA9swEMP7MBOECzAWRBswGQQrMBvEOzAehEswEURrMBQEezAWxIswGYSbMBxEqzAfBLswEcTbMBSE6zAXRPswGgULMBzFGzAfhSswEkVLMBUFWzAXxWswGoV7MB1FizAQBaswEsW7MBWFyzAYRdswGwXrMB3F+zAQhhswE0YrMBYGOzAYxkswG4ZbMB5GazARBoswE8abMBaGqzAZRrswHAbLMB7G2zARhvswFEcLMBcHGzAZxyswHIc7MB9HSzASB2swFMd7MBeHizAaR5swHQerMB/HuzASh9swFUfrMBgH+zAayAswHYgbMBBIOzATCEswFchbMBiIazAbSHswHgiLMBDIqzATiLswFkjLMBkI2zAbyOswHoj7MBFJGzAUCSswFsk7MBmJSzAcSVswHwlrMBHJizAUiZswF0mrMBoJuzAcycswH4nbMBJJ+zAVCgswF8obMBqKKzAdSjswEApbMBLKazAVinswGEqLMBsKmzAdyqswEIrLMBNK2zAWCuswGMr7MBuLCzAeSxswEQs7MBPLSzAWi1swGUtrMBwLezAey4swEYurMBRLuzAXC8swGcvbMByL6zAfS/swEgwbMBTMKzAXjDswGkxLMB0MWzAfzGswEoyLMBVMmzAYDKswGsy7MB2MyzAQTOswEwz7MBXNCzAYjRswG00rMB4NOzAQzVswE41rMBZNezAZDYswG82bMB6NqzARTcswFA3bMBbN6zAZjfswHE4LMB8OGzARzjswFI5LMBdOWzAaDmswHM57MB+OizASTqswFQ67MBfOyzAajtswHU7rMBAPCzASzxswFY8rMBhPOzAbD0swHc9bMBCPezATT4swFg+bMBjPqzAbj7swHk/LMBEP6zATz/swFoALQBlAG0AcACtAHsA7QBGAW0AUQGtAFwB7QBnAi0AcgJtAH0CrQBIAy0AUwNtAF4DrQBpA+0AdAQtAH8EbQBKBO0AVQUtAGAFbQBrBa0AdgXtAEEGbQB\",\"dtype\":\"int32\",\"order\":\"little\",\"shape\":[201]},\"variant_midpoint\":{\"__ndarray__\":\"Dy6zATsvswFnMLMBkzGzAb8yswHrM7MBFzWzAUM2swFvN7MBmzizAcc5swHzOrMBHzyzAUs9swF3PrMBoz+zAc9AswH7QbMBJ0OzAVNEswF/RbMBq0azAddHswEDSbMBL0qzAVtLswGHTLMBs02zAd9OswELULMBN1GzAWNSswGPU7MBu1SzAedVswETV7MBP1izAWtZswGXWrMBw1uzAe9cswEbXrMBR1+zAXNgswGfYbMBy2KzAfdjswEjZbMBT2azAXtnswGnaLMB02mzAf9qswErbLMBV22zAYNuswGvb7MB23CzAQdyswEzc7MBX3SzAYt1swG3drMB43ezAQ95swE7erMBZ3uzAZN8swG/fbMB636zAReAswFDgbMBb4KzAZuDswHHhLMB84WzAR+HswFLiLMBd4mzAaOKswHPi7MB+4yzASeOswFTj7MBf5CzAauRswHXkrMBA5SzAS+VswFblrMBh5ezAbOYswHfmbMBC5uzATecswFjnbMBj56zAbufswHnoLMBE6KzAT+jswFrpLMBl6WzAcOmswHvp7MBG6mzAUeqswFzq7MBn6yzAcutswH3rrMBI7CzAU+xswF7srMBp7OzAdO0swH/tbMBK7ezAVe4swGDubMBr7qzAdu7swEHvbMBM76zAV+/swGLwLMBt8GzAePCswEPxLMBO8WzAWfGswGTx7MBv8izAevJswEXy7MBQ8yzAW/NswGbzrMBx8+zAfPQswEf0rMBS9OzAXfUswGj1bMBz9azAfvXswEn2bMBU9qzAX/bswGr3LMB192zAQPfswEv4LMBW+GzAYfiswGz47MB3+SzAQvmswE357MBY+izAY/pswG76rMB5+uzARPtswE/7rMBa++zAZfwswHD8bMB7/KzARv0swFH9bMBc/azAZ/3swHL+LMB9/mzASP7swFP/LMBe/2zAaf+swHT/7MB/wC0ASsCtAFXA7QBgwS0Aa8FtAHbBrQBBwi0ATMJtAFfCrQBiwu0AbcMtAHjDbQBDw+0ATsQtAFnEbQBkxK0Ab8TtAHrFLQBFxa0AUMXtAFvGLQB\",\"dtype\":\"int32\",\"order\":\"little\",\"shape\":[201]},\"variant_position\":{\"__ndarray__\":\"eS2zAaUuswHRL7MB/TCzASkyswFVM7MBgTSzAa01swHZNrMBBTizATE5swFdOrMBiTuzAbU8swHhPbMBDT+zATlAswFlQbMBkUKzAb1DswHpRLMBFUazAUFHswFtSLMBmUmzAcVKswHxS7MBHU2zAUlOswF1T7MBoVCzAc1RswH5UrMBJVSzAVFVswF9VrMBqVezAdVYswEBWrMBLVuzAVlcswGFXbMBsV6zAd1fswEJYbMBNWKzAWFjswGNZLMBuWWzAeVmswERaLMBPWmzAWlqswGVa7MBwWyzAe1tswEZb7MBRXCzAXFxswGdcrMByXOzAfV0swEhdrMBTXezAXl4swGlebMB0XqzAf17swEpfbMBVX6zAYF/swGtgLMB2YGzAQWDswExhLMBXYWzAYmGswG1h7MB4YizAQ2KswE5i7MBZYyzAZGNswG9jrMB6Y+zARWRswFBkrMBbZOzAZmUswHFlbMB8ZazAR2YswFJmbMBdZqzAaGbswHNnLMB+Z2zASWfswFRoLMBfaGzAamiswHVo7MBAaWzAS2mswFZp7MBhaizAbGpswHdqrMBCayzATWtswFhrrMBja+zAbmwswHlsbMBEbOzAT20swFptbMBlbazAcG3swHtuLMBGbqzAUW7swFxvLMBnb2zAcm+swH1v7MBIcGzAU3CswF5w7MBpcSzAdHFswH9xrMBKcizAVXJswGByrMBrcuzAdnMswEFzrMBMc+zAV3QswGJ0bMBtdKzAeHTswEN1bMBOdazAWXXswGR2LMBvdmzAenaswEV3LMBQd2zAW3eswGZ37MBxeCzAfHhswEd47MBSeSzAXXlswGh5rMBzeezAfnoswEl6rMBUeuzAX3sswGp7bMB1e6zAQHwswEt8bMBWfKzAYXzswGx9LMB3fWzAQn3swE1+LMBYfmzAY36swG5+7MB5fyzARH+swE9/7MBaQC0AZUBtAHBArQB7QO0ARkFtAFFBrQBcQe0AZ0ItAHJCbQB9Qq0ASEMtAFNDbQBeQ60AaUPtAHRELQB/RG0ASkTtAFVFLQBgRW0Aa0WtAHZF7QB\",\"dtype\":\"int32\",\"order\":\"little\",\"shape\":[201]},\"variants\":[0,1,2,3,4,5,6,7,8,9,10,11,12,13,14,15,16,17,18,19,20,21,22,23,24,25,26,27,28,29,30,31,32,33,34,35,36,37,38,39,40,41,42,43,44,45,46,47,48,49,50,51,52,53,54,55,56,57,58,59,60,61,62,63,64,65,66,67,68,69,70,71,72,73,74,75,76,77,78,79,80,81,82,83,84,85,86,87,88,89,90,91,92,93,94,95,96,97,98,99,100,101,102,103,104,105,106,107,108,109,110,111,112,113,114,115,116,117,118,119,120,121,122,123,124,125,126,127,128,129,130,131,132,133,134,135,136,137,138,139,140,141,142,143,144,145,146,147,148,149,150,151,152,153,154,155,156,157,158,159,160,161,162,163,164,165,166,167,168,169,170,171,172,173,174,175,176,177,178,179,180,181,182,183,184,185,186,187,188,189,190,191,192,193,194,195,196,197,198,199,200]},\"selected\":{\"id\":\"1842\"},\"selection_policy\":{\"id\":\"1841\"}},\"id\":\"1825\",\"type\":\"ColumnDataSource\"},{\"attributes\":{},\"id\":\"1860\",\"type\":\"BasicTicker\"},{\"attributes\":{},\"id\":\"1821\",\"type\":\"UnionRenderers\"},{\"attributes\":{},\"id\":\"1855\",\"type\":\"LinearScale\"},{\"attributes\":{\"fill_alpha\":{\"value\":0.2},\"fill_color\":{\"value\":null},\"hatch_alpha\":{\"value\":0.2},\"line_alpha\":{\"value\":0.2},\"line_width\":{\"value\":0.5},\"size\":{\"value\":3},\"x\":{\"field\":\"variant_midpoint\"},\"y\":{\"field\":\"call_NormCov\"}},\"id\":\"1811\",\"type\":\"Circle\"},{\"attributes\":{\"active_drag\":{\"id\":\"1797\"},\"active_scroll\":{\"id\":\"1778\"},\"tools\":[{\"id\":\"1778\"},{\"id\":\"1797\"},{\"id\":\"1798\"},{\"id\":\"1799\"},{\"id\":\"1800\"}]},\"id\":\"1801\",\"type\":\"Toolbar\"},{\"attributes\":{\"bottom\":{\"field\":\"bottom\"},\"fill_alpha\":{\"value\":0.2},\"fill_color\":{\"value\":\"#1f77b4\"},\"hatch_alpha\":{\"value\":0.2},\"left\":{\"field\":\"start\"},\"line_alpha\":{\"value\":0.2},\"line_color\":{\"value\":\"#1f77b4\"},\"line_width\":{\"value\":0.5},\"right\":{\"field\":\"end\"},\"top\":{\"field\":\"top\"}},\"id\":\"1893\",\"type\":\"Quad\"},{\"attributes\":{\"axis\":{\"id\":\"1863\"},\"coordinates\":null,\"dimension\":1,\"group\":null,\"ticker\":null,\"visible\":false},\"id\":\"1866\",\"type\":\"Grid\"},{\"attributes\":{},\"id\":\"1842\",\"type\":\"Selection\"},{\"attributes\":{\"below\":[{\"id\":\"1859\"}],\"center\":[{\"id\":\"1862\"},{\"id\":\"1866\"}],\"height\":120,\"left\":[{\"id\":\"1863\"}],\"renderers\":[{\"id\":\"1894\"}],\"title\":{\"id\":\"1850\"},\"toolbar\":{\"id\":\"1873\"},\"toolbar_location\":null,\"width\":800,\"x_range\":{\"id\":\"1777\"},\"x_scale\":{\"id\":\"1855\"},\"y_range\":{\"id\":\"1896\"},\"y_scale\":{\"id\":\"1857\"}},\"id\":\"1849\",\"subtype\":\"Figure\",\"type\":\"Plot\"},{\"attributes\":{},\"id\":\"1870\",\"type\":\"ResetTool\"},{\"attributes\":{},\"id\":\"1899\",\"type\":\"NumeralTickFormatter\"},{\"attributes\":{\"data\":{\"call_CN\":{\"__ndarray__\":\"AgICAgICAgICAgICAgICAgICAgICAQEBAQEBAQICAgICAgICAgICAgICAgICAgICAgICAgMDAwMDAwMDAwMDAwMDAwMDAwMDAwMDAwMDAwMDAwMDAwMDAwMDAwMDAwMDAwMDAwMDAwMDAwMDAwMDAwMDAwMDAwMDAwMDAwMDAwMDAwMDAwMDAwMDAwMDAwMDAwMDAwMDAwMDAwMDAwMDAwMDAwMDAwMHAwMDAwMCAgICAgICAgICAgICAgICAgICAgICAgICAgIC\",\"dtype\":\"int8\",\"order\":\"little\",\"shape\":[201]},\"call_NormCov\":{\"__ndarray__\":\"ukm8P6rxwj9WDv0/VOMFQAwCyz8AABBAVg79P3E92j/jpes/HVoEQAAAEEBU4wVAx0uXP6rxAkBoka0/DALLPz0K9z8EVu4//tQIQKjGC0DhesQ/rByKP8dLhz8v3ZQ/c2iBPycxSD/fT40+L90kP39qBEBWDv0/fT8NQFYO/T9zaLE/XrrZP6jGC0BYOfQ/rkfxP9EiE0BI4TpA8tIVQG3n6z/jpUtA1XgRQPCn5j+6Sbw/9igsQKRwHUB/agRAtvPNP9V4AUB56Q5Aukm8Pzm0WEDy0kVAexQWQA4twj9OYiBAIbAqQNV4IUC0yE5ANV4yQJHtREA5tFhAke1EQARWRkCoxjNAd74nQDEIZEA5tEBARrYTQMl2NkA3iUlAAABAQIGVQ0CLbE9AoBovQEJgTUBeulFAAitXQBkEPkBMNzFAKVwnQMdLP0Dy0lVADi1aQDeJOUBg5VBADAJLQLgeRUB1kzBANV5SQAisXEAlBhlAarwcQPypOUDJdjZA+n4aQAwCQ0AOLTpAke0sQDm0QEBI4VJAHVpEQDm0QEAv3WxAx0t3QAAAgEBcj2JAokUmQNNNEkCe7zdAAAAgQKwcekDdJF5AN4lJQC/dbEArh05ADAJLQGIQSECwcmhAsp1fQFyPYkCynV9AbeeLQOOlS0AOLUpADi1CQE5iIEBI4TpA46WDQArXa0CynV9AtMhWQEw3KUCgGi9AXrpZQPT9PEAhsCpAMQhkQJ7vN0CJQVhAtvNNQHe+J0AK11NAtMhWQEoMOkBiEEhAHVoUQDVeUkDy0j1ADi0aQPp++j+cxCBAN4lJQCGwKkBKDDJAgZVDQHNoOUDy0gVAf2oEQB+FM0Bg5VBA4XpMQKAaL0Dy0hVAtMhWQKAaT0BaZOtAexQOQKAaL0BU4z1ADi1KQG8SO0A5tBhASOECQE5i4D9YOfQ/ukm8PwaB5T+TGCxAObQgQHNo8T9WDv0/AAAQQLbzJUDTTRJAUrgOQFg59D9MNylA9igUQDm0CEB7FBZADi3CP7TI1j/D9eg/9P00QNEiE0BaZOs/c2g5QNEiE0AnMRBA\",\"dtype\":\"float32\",\"order\":\"little\",\"shape\":[201]},\"samples\":[\"BL0267-C\",\"BL0267-C\",\"BL0267-C\",\"BL0267-C\",\"BL0267-C\",\"BL0267-C\",\"BL0267-C\",\"BL0267-C\",\"BL0267-C\",\"BL0267-C\",\"BL0267-C\",\"BL0267-C\",\"BL0267-C\",\"BL0267-C\",\"BL0267-C\",\"BL0267-C\",\"BL0267-C\",\"BL0267-C\",\"BL0267-C\",\"BL0267-C\",\"BL0267-C\",\"BL0267-C\",\"BL0267-C\",\"BL0267-C\",\"BL0267-C\",\"BL0267-C\",\"BL0267-C\",\"BL0267-C\",\"BL0267-C\",\"BL0267-C\",\"BL0267-C\",\"BL0267-C\",\"BL0267-C\",\"BL0267-C\",\"BL0267-C\",\"BL0267-C\",\"BL0267-C\",\"BL0267-C\",\"BL0267-C\",\"BL0267-C\",\"BL0267-C\",\"BL0267-C\",\"BL0267-C\",\"BL0267-C\",\"BL0267-C\",\"BL0267-C\",\"BL0267-C\",\"BL0267-C\",\"BL0267-C\",\"BL0267-C\",\"BL0267-C\",\"BL0267-C\",\"BL0267-C\",\"BL0267-C\",\"BL0267-C\",\"BL0267-C\",\"BL0267-C\",\"BL0267-C\",\"BL0267-C\",\"BL0267-C\",\"BL0267-C\",\"BL0267-C\",\"BL0267-C\",\"BL0267-C\",\"BL0267-C\",\"BL0267-C\",\"BL0267-C\",\"BL0267-C\",\"BL0267-C\",\"BL0267-C\",\"BL0267-C\",\"BL0267-C\",\"BL0267-C\",\"BL0267-C\",\"BL0267-C\",\"BL0267-C\",\"BL0267-C\",\"BL0267-C\",\"BL0267-C\",\"BL0267-C\",\"BL0267-C\",\"BL0267-C\",\"BL0267-C\",\"BL0267-C\",\"BL0267-C\",\"BL0267-C\",\"BL0267-C\",\"BL0267-C\",\"BL0267-C\",\"BL0267-C\",\"BL0267-C\",\"BL0267-C\",\"BL0267-C\",\"BL0267-C\",\"BL0267-C\",\"BL0267-C\",\"BL0267-C\",\"BL0267-C\",\"BL0267-C\",\"BL0267-C\",\"BL0267-C\",\"BL0267-C\",\"BL0267-C\",\"BL0267-C\",\"BL0267-C\",\"BL0267-C\",\"BL0267-C\",\"BL0267-C\",\"BL0267-C\",\"BL0267-C\",\"BL0267-C\",\"BL0267-C\",\"BL0267-C\",\"BL0267-C\",\"BL0267-C\",\"BL0267-C\",\"BL0267-C\",\"BL0267-C\",\"BL0267-C\",\"BL0267-C\",\"BL0267-C\",\"BL0267-C\",\"BL0267-C\",\"BL0267-C\",\"BL0267-C\",\"BL0267-C\",\"BL0267-C\",\"BL0267-C\",\"BL0267-C\",\"BL0267-C\",\"BL0267-C\",\"BL0267-C\",\"BL0267-C\",\"BL0267-C\",\"BL0267-C\",\"BL0267-C\",\"BL0267-C\",\"BL0267-C\",\"BL0267-C\",\"BL0267-C\",\"BL0267-C\",\"BL0267-C\",\"BL0267-C\",\"BL0267-C\",\"BL0267-C\",\"BL0267-C\",\"BL0267-C\",\"BL0267-C\",\"BL0267-C\",\"BL0267-C\",\"BL0267-C\",\"BL0267-C\",\"BL0267-C\",\"BL0267-C\",\"BL0267-C\",\"BL0267-C\",\"BL0267-C\",\"BL0267-C\",\"BL0267-C\",\"BL0267-C\",\"BL0267-C\",\"BL0267-C\",\"BL0267-C\",\"BL0267-C\",\"BL0267-C\",\"BL0267-C\",\"BL0267-C\",\"BL0267-C\",\"BL0267-C\",\"BL0267-C\",\"BL0267-C\",\"BL0267-C\",\"BL0267-C\",\"BL0267-C\",\"BL0267-C\",\"BL0267-C\",\"BL0267-C\",\"BL0267-C\",\"BL0267-C\",\"BL0267-C\",\"BL0267-C\",\"BL0267-C\",\"BL0267-C\",\"BL0267-C\",\"BL0267-C\",\"BL0267-C\",\"BL0267-C\",\"BL0267-C\",\"BL0267-C\",\"BL0267-C\",\"BL0267-C\",\"BL0267-C\",\"BL0267-C\",\"BL0267-C\",\"BL0267-C\",\"BL0267-C\",\"BL0267-C\",\"BL0267-C\",\"BL0267-C\",\"BL0267-C\",\"BL0267-C\"],\"variant_contig\":{\"__ndarray__\":\"AQEBAQEBAQEBAQEBAQEBAQEBAQEBAQEBAQEBAQEBAQEBAQEBAQEBAQEBAQEBAQEBAQEBAQEBAQEBAQEBAQEBAQEBAQEBAQEBAQEBAQEBAQEBAQEBAQEBAQEBAQEBAQEBAQEBAQEBAQEBAQEBAQEBAQEBAQEBAQEBAQEBAQEBAQEBAQEBAQEBAQEBAQEBAQEBAQEBAQEBAQEBAQEBAQEBAQEBAQEBAQEBAQEBAQEBAQEBAQEBAQEBAQEBAQEBAQEBAQEBAQEBAQEB\",\"dtype\":\"uint8\",\"order\":\"little\",\"shape\":[201]},\"variant_end\":{\"__ndarray__\":\"pC6zAdAvswH8MLMBKDKzAVQzswGANLMBrDWzAdg2swEEOLMBMDmzAVw6swGIO7MBtDyzAeA9swEMP7MBOECzAWRBswGQQrMBvEOzAehEswEURrMBQEezAWxIswGYSbMBxEqzAfBLswEcTbMBSE6zAXRPswGgULMBzFGzAfhSswEkVLMBUFWzAXxWswGoV7MB1FizAQBaswEsW7MBWFyzAYRdswGwXrMB3F+zAQhhswE0YrMBYGOzAYxkswG4ZbMB5GazARBoswE8abMBaGqzAZRrswHAbLMB7G2zARhvswFEcLMBcHGzAZxyswHIc7MB9HSzASB2swFMd7MBeHizAaR5swHQerMB/HuzASh9swFUfrMBgH+zAayAswHYgbMBBIOzATCEswFchbMBiIazAbSHswHgiLMBDIqzATiLswFkjLMBkI2zAbyOswHoj7MBFJGzAUCSswFsk7MBmJSzAcSVswHwlrMBHJizAUiZswF0mrMBoJuzAcycswH4nbMBJJ+zAVCgswF8obMBqKKzAdSjswEApbMBLKazAVinswGEqLMBsKmzAdyqswEIrLMBNK2zAWCuswGMr7MBuLCzAeSxswEQs7MBPLSzAWi1swGUtrMBwLezAey4swEYurMBRLuzAXC8swGcvbMByL6zAfS/swEgwbMBTMKzAXjDswGkxLMB0MWzAfzGswEoyLMBVMmzAYDKswGsy7MB2MyzAQTOswEwz7MBXNCzAYjRswG00rMB4NOzAQzVswE41rMBZNezAZDYswG82bMB6NqzARTcswFA3bMBbN6zAZjfswHE4LMB8OGzARzjswFI5LMBdOWzAaDmswHM57MB+OizASTqswFQ67MBfOyzAajtswHU7rMBAPCzASzxswFY8rMBhPOzAbD0swHc9bMBCPezATT4swFg+bMBjPqzAbj7swHk/LMBEP6zATz/swFoALQBlAG0AcACtAHsA7QBGAW0AUQGtAFwB7QBnAi0AcgJtAH0CrQBIAy0AUwNtAF4DrQBpA+0AdAQtAH8EbQBKBO0AVQUtAGAFbQBrBa0AdgXtAEEGbQB\",\"dtype\":\"int32\",\"order\":\"little\",\"shape\":[201]},\"variant_midpoint\":{\"__ndarray__\":\"Dy6zATsvswFnMLMBkzGzAb8yswHrM7MBFzWzAUM2swFvN7MBmzizAcc5swHzOrMBHzyzAUs9swF3PrMBoz+zAc9AswH7QbMBJ0OzAVNEswF/RbMBq0azAddHswEDSbMBL0qzAVtLswGHTLMBs02zAd9OswELULMBN1GzAWNSswGPU7MBu1SzAedVswETV7MBP1izAWtZswGXWrMBw1uzAe9cswEbXrMBR1+zAXNgswGfYbMBy2KzAfdjswEjZbMBT2azAXtnswGnaLMB02mzAf9qswErbLMBV22zAYNuswGvb7MB23CzAQdyswEzc7MBX3SzAYt1swG3drMB43ezAQ95swE7erMBZ3uzAZN8swG/fbMB636zAReAswFDgbMBb4KzAZuDswHHhLMB84WzAR+HswFLiLMBd4mzAaOKswHPi7MB+4yzASeOswFTj7MBf5CzAauRswHXkrMBA5SzAS+VswFblrMBh5ezAbOYswHfmbMBC5uzATecswFjnbMBj56zAbufswHnoLMBE6KzAT+jswFrpLMBl6WzAcOmswHvp7MBG6mzAUeqswFzq7MBn6yzAcutswH3rrMBI7CzAU+xswF7srMBp7OzAdO0swH/tbMBK7ezAVe4swGDubMBr7qzAdu7swEHvbMBM76zAV+/swGLwLMBt8GzAePCswEPxLMBO8WzAWfGswGTx7MBv8izAevJswEXy7MBQ8yzAW/NswGbzrMBx8+zAfPQswEf0rMBS9OzAXfUswGj1bMBz9azAfvXswEn2bMBU9qzAX/bswGr3LMB192zAQPfswEv4LMBW+GzAYfiswGz47MB3+SzAQvmswE357MBY+izAY/pswG76rMB5+uzARPtswE/7rMBa++zAZfwswHD8bMB7/KzARv0swFH9bMBc/azAZ/3swHL+LMB9/mzASP7swFP/LMBe/2zAaf+swHT/7MB/wC0ASsCtAFXA7QBgwS0Aa8FtAHbBrQBBwi0ATMJtAFfCrQBiwu0AbcMtAHjDbQBDw+0ATsQtAFnEbQBkxK0Ab8TtAHrFLQBFxa0AUMXtAFvGLQB\",\"dtype\":\"int32\",\"order\":\"little\",\"shape\":[201]},\"variant_position\":{\"__ndarray__\":\"eS2zAaUuswHRL7MB/TCzASkyswFVM7MBgTSzAa01swHZNrMBBTizATE5swFdOrMBiTuzAbU8swHhPbMBDT+zATlAswFlQbMBkUKzAb1DswHpRLMBFUazAUFHswFtSLMBmUmzAcVKswHxS7MBHU2zAUlOswF1T7MBoVCzAc1RswH5UrMBJVSzAVFVswF9VrMBqVezAdVYswEBWrMBLVuzAVlcswGFXbMBsV6zAd1fswEJYbMBNWKzAWFjswGNZLMBuWWzAeVmswERaLMBPWmzAWlqswGVa7MBwWyzAe1tswEZb7MBRXCzAXFxswGdcrMByXOzAfV0swEhdrMBTXezAXl4swGlebMB0XqzAf17swEpfbMBVX6zAYF/swGtgLMB2YGzAQWDswExhLMBXYWzAYmGswG1h7MB4YizAQ2KswE5i7MBZYyzAZGNswG9jrMB6Y+zARWRswFBkrMBbZOzAZmUswHFlbMB8ZazAR2YswFJmbMBdZqzAaGbswHNnLMB+Z2zASWfswFRoLMBfaGzAamiswHVo7MBAaWzAS2mswFZp7MBhaizAbGpswHdqrMBCayzATWtswFhrrMBja+zAbmwswHlsbMBEbOzAT20swFptbMBlbazAcG3swHtuLMBGbqzAUW7swFxvLMBnb2zAcm+swH1v7MBIcGzAU3CswF5w7MBpcSzAdHFswH9xrMBKcizAVXJswGByrMBrcuzAdnMswEFzrMBMc+zAV3QswGJ0bMBtdKzAeHTswEN1bMBOdazAWXXswGR2LMBvdmzAenaswEV3LMBQd2zAW3eswGZ37MBxeCzAfHhswEd47MBSeSzAXXlswGh5rMBzeezAfnoswEl6rMBUeuzAX3sswGp7bMB1e6zAQHwswEt8bMBWfKzAYXzswGx9LMB3fWzAQn3swE1+LMBYfmzAY36swG5+7MB5fyzARH+swE9/7MBaQC0AZUBtAHBArQB7QO0ARkFtAFFBrQBcQe0AZ0ItAHJCbQB9Qq0ASEMtAFNDbQBeQ60AaUPtAHRELQB/RG0ASkTtAFVFLQBgRW0Aa0WtAHZF7QB\",\"dtype\":\"int32\",\"order\":\"little\",\"shape\":[201]},\"variants\":[0,1,2,3,4,5,6,7,8,9,10,11,12,13,14,15,16,17,18,19,20,21,22,23,24,25,26,27,28,29,30,31,32,33,34,35,36,37,38,39,40,41,42,43,44,45,46,47,48,49,50,51,52,53,54,55,56,57,58,59,60,61,62,63,64,65,66,67,68,69,70,71,72,73,74,75,76,77,78,79,80,81,82,83,84,85,86,87,88,89,90,91,92,93,94,95,96,97,98,99,100,101,102,103,104,105,106,107,108,109,110,111,112,113,114,115,116,117,118,119,120,121,122,123,124,125,126,127,128,129,130,131,132,133,134,135,136,137,138,139,140,141,142,143,144,145,146,147,148,149,150,151,152,153,154,155,156,157,158,159,160,161,162,163,164,165,166,167,168,169,170,171,172,173,174,175,176,177,178,179,180,181,182,183,184,185,186,187,188,189,190,191,192,193,194,195,196,197,198,199,200]},\"selected\":{\"id\":\"1822\"},\"selection_policy\":{\"id\":\"1821\"}},\"id\":\"1807\",\"type\":\"ColumnDataSource\"},{\"attributes\":{\"coordinates\":null,\"formatter\":{\"id\":\"1883\"},\"group\":null,\"major_label_overrides\":{\"0.4\":\"-\",\"1.4\":\"+\"},\"major_label_policy\":{\"id\":\"1884\"},\"ticker\":{\"id\":\"1897\"}},\"id\":\"1863\",\"type\":\"LinearAxis\"},{\"attributes\":{\"active_drag\":{\"id\":\"1867\"},\"active_scroll\":{\"id\":\"1848\"},\"tools\":[{\"id\":\"1848\"},{\"id\":\"1867\"},{\"id\":\"1868\"},{\"id\":\"1869\"},{\"id\":\"1870\"},{\"id\":\"1871\"},{\"id\":\"1872\"}]},\"id\":\"1873\",\"type\":\"Toolbar\"},{\"attributes\":{},\"id\":\"1846\",\"type\":\"NumeralTickFormatter\"},{\"attributes\":{\"dimensions\":\"width\"},\"id\":\"1799\",\"type\":\"ZoomOutTool\"},{\"attributes\":{\"data\":{\"ID\":[\"AGAP006221\",\"AGAP006222\",\"AGAP006223\",\"AGAP006224\",\"AGAP006225\",\"AGAP006226\",\"AGAP006227\",\"AGAP006228\",\"AGAP006229\",\"AGAP006231\",\"AGAP006232\",\"AGAP006233\",\"AGAP006234\",\"AGAP006235\",\"AGAP006236\",\"AGAP006237\",\"AGAP006238\",\"AGAP006239\"],\"Name\":[\"\",\"\",\"\",\"\",\"\",\"Aldehyde_oxidase\",\"\",\"COEAE2F\",\"Vps20\",\"\",\"Pex14\",\"\",\"\",\"\",\"\",\"\",\"\",\"\"],\"Parent\":[\"NaN\",\"NaN\",\"NaN\",\"NaN\",\"NaN\",\"NaN\",\"NaN\",\"NaN\",\"NaN\",\"NaN\",\"NaN\",\"NaN\",\"NaN\",\"NaN\",\"NaN\",\"NaN\",\"NaN\",\"NaN\"],\"bottom\":[1,1,1,1,1,1,0,1,1,1,0,1,1,0,0,0,1,1],\"contig\":[\"2L\",\"2L\",\"2L\",\"2L\",\"2L\",\"2L\",\"2L\",\"2L\",\"2L\",\"2L\",\"2L\",\"2L\",\"2L\",\"2L\",\"2L\",\"2L\",\"2L\",\"2L\"],\"description\":[\"aldehyde oxidase [Source:VB Community Annotation]\",\"glucosyl/glucuronosyl transferases [Source:VB Community Annotation]\",\"glucosyl/glucuronosyl transferases [Source:VB Community Annotation]\",\"aldehyde oxidase [Source:VB Community Annotation]\",\"aldehyde oxidase [Source:VB Community Annotation]\",\"\",\"alpha esterase [Source:VB Community Annotation]\",\"carboxylesterase [Source:VB Community Annotation]\",\"vacuolar protein sorting 20 [Source:VB Community Annotation]\",\"serine/threonine-protein phosphatase dullard homolog [Source:VB Community Annotation]\",\"peroxin-14 [Source:VB Community Annotation]\",\"\",\"protein SHQ1 [Source:VB Community Annotation]\",\"\",\"\",\"Negative elongation factor E [Source:VB Community Annotation]\",\"ubiquitin-conjugating enzyme E2 C [Source:VB Community Annotation]\",\"Protein TSSC1 [Source:VB Community Annotation]\"],\"end\":[28523900,28526317,28528641,28533199,28539416,28545294,28547938,28550748,28552032,28560186,28565368,28567186,28569087,28572971,28574496,28575725,28579600,28581250],\"index\":[24735,24757,24771,24785,24801,24817,24832,24850,24862,24874,24890,24904,24912,24924,24940,24947,24953,24961],\"phase\":{\"__ndarray__\":\"AAAAAAAA+H8AAAAAAAD4fwAAAAAAAPh/AAAAAAAA+H8AAAAAAAD4fwAAAAAAAPh/AAAAAAAA+H8AAAAAAAD4fwAAAAAAAPh/AAAAAAAA+H8AAAAAAAD4fwAAAAAAAPh/AAAAAAAA+H8AAAAAAAD4fwAAAAAAAPh/AAAAAAAA+H8AAAAAAAD4fwAAAAAAAPh/\",\"dtype\":\"float64\",\"order\":\"little\",\"shape\":[18]},\"score\":{\"__ndarray__\":\"AAAAAAAA+H8AAAAAAAD4fwAAAAAAAPh/AAAAAAAA+H8AAAAAAAD4fwAAAAAAAPh/AAAAAAAA+H8AAAAAAAD4fwAAAAAAAPh/AAAAAAAA+H8AAAAAAAD4fwAAAAAAAPh/AAAAAAAA+H8AAAAAAAD4fwAAAAAAAPh/AAAAAAAA+H8AAAAAAAD4fwAAAAAAAPh/\",\"dtype\":\"float64\",\"order\":\"little\",\"shape\":[18]},\"source\":[\"VectorBase\",\"VectorBase\",\"VectorBase\",\"VectorBase\",\"VectorBase\",\"VectorBase\",\"VectorBase\",\"VectorBase\",\"VectorBase\",\"VectorBase\",\"VectorBase\",\"VectorBase\",\"VectorBase\",\"VectorBase\",\"VectorBase\",\"VectorBase\",\"VectorBase\",\"VectorBase\"],\"start\":[28518055,28524225,28526558,28528758,28534732,28540651,28545396,28548433,28550814,28552352,28563646,28565893,28567535,28569164,28573531,28574680,28576341,28579834],\"strand\":[\"+\",\"+\",\"+\",\"+\",\"+\",\"+\",\"-\",\"+\",\"+\",\"+\",\"-\",\"+\",\"+\",\"-\",\"-\",\"-\",\"+\",\"+\"],\"top\":{\"__ndarray__\":\"zczMzMzM/D/NzMzMzMz8P83MzMzMzPw/zczMzMzM/D/NzMzMzMz8P83MzMzMzPw/mpmZmZmZ6T/NzMzMzMz8P83MzMzMzPw/zczMzMzM/D+amZmZmZnpP83MzMzMzPw/zczMzMzM/D+amZmZmZnpP5qZmZmZmek/mpmZmZmZ6T/NzMzMzMz8P83MzMzMzPw/\",\"dtype\":\"float64\",\"order\":\"little\",\"shape\":[18]},\"type\":[\"gene\",\"gene\",\"gene\",\"gene\",\"gene\",\"gene\",\"gene\",\"gene\",\"gene\",\"gene\",\"gene\",\"gene\",\"gene\",\"gene\",\"gene\",\"gene\",\"gene\",\"gene\"]},\"selected\":{\"id\":\"1917\"},\"selection_policy\":{\"id\":\"1916\"}},\"id\":\"1889\",\"type\":\"ColumnDataSource\"},{\"attributes\":{\"coordinates\":null,\"group\":null,\"text\":\"CNV HMM - BL0267-C (AG1000G-TZ)\"},\"id\":\"1780\",\"type\":\"Title\"},{\"attributes\":{},\"id\":\"1822\",\"type\":\"Selection\"},{\"attributes\":{\"line_alpha\":0.2,\"line_color\":\"#1f77b4\",\"line_width\":2,\"x\":{\"field\":\"variant_midpoint\"},\"y\":{\"field\":\"call_CN\"}},\"id\":\"1829\",\"type\":\"Line\"},{\"attributes\":{},\"id\":\"1787\",\"type\":\"LinearScale\"},{\"attributes\":{},\"id\":\"1800\",\"type\":\"ResetTool\"},{\"attributes\":{},\"id\":\"1816\",\"type\":\"BasicTickFormatter\"},{\"attributes\":{\"toolbar\":{\"id\":\"1920\"},\"toolbar_location\":\"above\"},\"id\":\"1921\",\"type\":\"ToolbarBox\"},{\"attributes\":{\"dimensions\":\"width\"},\"id\":\"1868\",\"type\":\"ZoomInTool\"},{\"attributes\":{},\"id\":\"1790\",\"type\":\"BasicTicker\"},{\"attributes\":{\"fill_alpha\":{\"value\":0.1},\"fill_color\":{\"value\":null},\"hatch_alpha\":{\"value\":0.1},\"line_alpha\":{\"value\":0.1},\"line_width\":{\"value\":0.5},\"size\":{\"value\":3},\"x\":{\"field\":\"variant_midpoint\"},\"y\":{\"field\":\"call_NormCov\"}},\"id\":\"1810\",\"type\":\"Circle\"},{\"attributes\":{\"dimensions\":\"width\"},\"id\":\"1797\",\"type\":\"PanTool\"},{\"attributes\":{\"axis_label\":\"Copy number\",\"coordinates\":null,\"formatter\":{\"id\":\"1816\"},\"group\":null,\"major_label_policy\":{\"id\":\"1817\"},\"ticker\":{\"id\":\"1844\"}},\"id\":\"1793\",\"type\":\"LinearAxis\"},{\"attributes\":{\"dimensions\":\"width\"},\"id\":\"1798\",\"type\":\"ZoomInTool\"},{\"attributes\":{\"dimensions\":\"width\"},\"id\":\"1869\",\"type\":\"ZoomOutTool\"},{\"attributes\":{\"axis_label\":\"Contig 2L position (bp)\",\"coordinates\":null,\"formatter\":{\"id\":\"1846\"},\"group\":null,\"major_label_policy\":{\"id\":\"1820\"},\"ticker\":{\"id\":\"1790\"},\"visible\":false},\"id\":\"1789\",\"type\":\"LinearAxis\"},{\"attributes\":{\"axis\":{\"id\":\"1789\"},\"coordinates\":null,\"group\":null,\"ticker\":null},\"id\":\"1792\",\"type\":\"Grid\"},{\"attributes\":{\"bounds\":\"auto\",\"end\":28580100,\"start\":28519801},\"id\":\"1777\",\"type\":\"Range1d\"},{\"attributes\":{},\"id\":\"1820\",\"type\":\"AllLabels\"},{\"attributes\":{\"end\":9},\"id\":\"1783\",\"type\":\"Range1d\"},{\"attributes\":{\"axis\":{\"id\":\"1859\"},\"coordinates\":null,\"group\":null,\"ticker\":null},\"id\":\"1862\",\"type\":\"Grid\"},{\"attributes\":{\"ticks\":[0,1,2,3,4,5,6,7,8,9]},\"id\":\"1844\",\"type\":\"FixedTicker\"},{\"attributes\":{\"dimensions\":\"width\",\"maintain_focus\":false},\"id\":\"1778\",\"type\":\"WheelZoomTool\"},{\"attributes\":{\"coordinates\":null,\"group\":null,\"items\":[{\"id\":\"1824\"},{\"id\":\"1843\"}]},\"id\":\"1823\",\"type\":\"Legend\"},{\"attributes\":{\"source\":{\"id\":\"1825\"}},\"id\":\"1831\",\"type\":\"CDSView\"},{\"attributes\":{\"below\":[{\"id\":\"1789\"}],\"center\":[{\"id\":\"1792\"},{\"id\":\"1796\"},{\"id\":\"1823\"}],\"height\":170,\"left\":[{\"id\":\"1793\"}],\"renderers\":[{\"id\":\"1812\"},{\"id\":\"1830\"}],\"right\":[{\"id\":\"1823\"}],\"title\":{\"id\":\"1780\"},\"toolbar\":{\"id\":\"1801\"},\"toolbar_location\":null,\"width\":800,\"x_range\":{\"id\":\"1777\"},\"x_scale\":{\"id\":\"1785\"},\"y_range\":{\"id\":\"1783\"},\"y_scale\":{\"id\":\"1787\"}},\"id\":\"1779\",\"subtype\":\"Figure\",\"type\":\"Plot\"},{\"attributes\":{\"line_alpha\":0.1,\"line_color\":\"#1f77b4\",\"line_width\":2,\"x\":{\"field\":\"variant_midpoint\"},\"y\":{\"field\":\"call_CN\"}},\"id\":\"1828\",\"type\":\"Line\"},{\"attributes\":{\"label\":{\"value\":\"HMM\"},\"renderers\":[{\"id\":\"1830\"}]},\"id\":\"1843\",\"type\":\"LegendItem\"},{\"attributes\":{},\"id\":\"1841\",\"type\":\"UnionRenderers\"},{\"attributes\":{\"coordinates\":null,\"data_source\":{\"id\":\"1807\"},\"glyph\":{\"id\":\"1809\"},\"group\":null,\"hover_glyph\":null,\"muted_glyph\":{\"id\":\"1811\"},\"nonselection_glyph\":{\"id\":\"1810\"},\"view\":{\"id\":\"1813\"}},\"id\":\"1812\",\"type\":\"GlyphRenderer\"},{\"attributes\":{\"dimensions\":\"width\"},\"id\":\"1867\",\"type\":\"PanTool\"},{\"attributes\":{},\"id\":\"1785\",\"type\":\"LinearScale\"},{\"attributes\":{\"source\":{\"id\":\"1807\"}},\"id\":\"1813\",\"type\":\"CDSView\"},{\"attributes\":{\"toolbars\":[{\"id\":\"1801\"},{\"id\":\"1873\"}],\"tools\":[{\"id\":\"1778\"},{\"id\":\"1797\"},{\"id\":\"1798\"},{\"id\":\"1799\"},{\"id\":\"1800\"},{\"id\":\"1848\"},{\"id\":\"1867\"},{\"id\":\"1868\"},{\"id\":\"1869\"},{\"id\":\"1870\"},{\"id\":\"1871\"},{\"id\":\"1872\"}]},\"id\":\"1920\",\"type\":\"ProxyToolbar\"},{\"attributes\":{\"callback\":null,\"tooltips\":[[\"ID\",\"@ID\"],[\"Name\",\"@Name\"],[\"Description\",\"@description\"],[\"Location\",\"@contig:@start{,}-@end{,}\"]]},\"id\":\"1872\",\"type\":\"HoverTool\"},{\"attributes\":{\"coordinates\":null,\"data_source\":{\"id\":\"1889\"},\"glyph\":{\"id\":\"1891\"},\"group\":null,\"hover_glyph\":null,\"muted_glyph\":{\"id\":\"1893\"},\"nonselection_glyph\":{\"id\":\"1892\"},\"view\":{\"id\":\"1895\"}},\"id\":\"1894\",\"type\":\"GlyphRenderer\"},{\"attributes\":{},\"id\":\"1917\",\"type\":\"Selection\"},{\"attributes\":{\"dimensions\":\"width\",\"maintain_focus\":false},\"id\":\"1848\",\"type\":\"WheelZoomTool\"},{\"attributes\":{\"ticks\":[0.4,1.4]},\"id\":\"1897\",\"type\":\"FixedTicker\"},{\"attributes\":{\"source\":{\"id\":\"1889\"}},\"id\":\"1895\",\"type\":\"CDSView\"},{\"attributes\":{\"url\":\"https://vectorbase.org/vectorbase/app/record/gene/@ID\"},\"id\":\"1888\",\"type\":\"OpenURL\"},{\"attributes\":{\"callback\":{\"id\":\"1888\"}},\"id\":\"1871\",\"type\":\"TapTool\"},{\"attributes\":{\"fill_color\":{\"value\":null},\"line_width\":{\"value\":0.5},\"size\":{\"value\":3},\"x\":{\"field\":\"variant_midpoint\"},\"y\":{\"field\":\"call_NormCov\"}},\"id\":\"1809\",\"type\":\"Circle\"},{\"attributes\":{\"coordinates\":null,\"data_source\":{\"id\":\"1825\"},\"glyph\":{\"id\":\"1827\"},\"group\":null,\"hover_glyph\":null,\"muted_glyph\":{\"id\":\"1829\"},\"nonselection_glyph\":{\"id\":\"1828\"},\"view\":{\"id\":\"1831\"}},\"id\":\"1830\",\"type\":\"GlyphRenderer\"},{\"attributes\":{\"coordinates\":null,\"group\":null,\"text\":\"Genes\"},\"id\":\"1850\",\"type\":\"Title\"},{\"attributes\":{},\"id\":\"1883\",\"type\":\"BasicTickFormatter\"},{\"attributes\":{\"axis\":{\"id\":\"1793\"},\"coordinates\":null,\"dimension\":1,\"group\":null,\"ticker\":null},\"id\":\"1796\",\"type\":\"Grid\"},{\"attributes\":{},\"id\":\"1916\",\"type\":\"UnionRenderers\"},{\"attributes\":{},\"id\":\"1857\",\"type\":\"LinearScale\"},{\"attributes\":{\"children\":[[{\"id\":\"1779\"},0,0],[{\"id\":\"1849\"},1,0]]},\"id\":\"1919\",\"type\":\"GridBox\"},{\"attributes\":{\"line_color\":\"#1f77b4\",\"line_width\":2,\"x\":{\"field\":\"variant_midpoint\"},\"y\":{\"field\":\"call_CN\"}},\"id\":\"1827\",\"type\":\"Line\"},{\"attributes\":{\"bottom\":{\"field\":\"bottom\"},\"fill_alpha\":{\"value\":0.5},\"fill_color\":{\"value\":\"#1f77b4\"},\"left\":{\"field\":\"start\"},\"line_color\":{\"value\":\"#1f77b4\"},\"line_width\":{\"value\":0.5},\"right\":{\"field\":\"end\"},\"top\":{\"field\":\"top\"}},\"id\":\"1891\",\"type\":\"Quad\"},{\"attributes\":{\"bottom\":{\"field\":\"bottom\"},\"fill_alpha\":{\"value\":0.1},\"fill_color\":{\"value\":\"#1f77b4\"},\"hatch_alpha\":{\"value\":0.1},\"left\":{\"field\":\"start\"},\"line_alpha\":{\"value\":0.1},\"line_color\":{\"value\":\"#1f77b4\"},\"line_width\":{\"value\":0.5},\"right\":{\"field\":\"end\"},\"top\":{\"field\":\"top\"}},\"id\":\"1892\",\"type\":\"Quad\"},{\"attributes\":{\"end\":2.2,\"start\":-0.4},\"id\":\"1896\",\"type\":\"Range1d\"},{\"attributes\":{},\"id\":\"1887\",\"type\":\"AllLabels\"},{\"attributes\":{},\"id\":\"1884\",\"type\":\"AllLabels\"}],\"root_ids\":[\"1922\"]},\"title\":\"Bokeh Application\",\"version\":\"2.4.2\"}};\n  const render_items = [{\"docid\":\"9a4f5520-fa6f-4d67-a5cb-1eb2987f5eb0\",\"root_ids\":[\"1922\"],\"roots\":{\"1922\":\"cad09746-ee6c-413f-9229-dc89ad8cd1f8\"}}];\n  root.Bokeh.embed.embed_items_notebook(docs_json, render_items);\n\n  }\n  if (root.Bokeh !== undefined) {\n    embed_document(root);\n  } else {\n    let attempts = 0;\n    const timer = setInterval(function(root) {\n      if (root.Bokeh !== undefined) {\n        clearInterval(timer);\n        embed_document(root);\n      } else {\n        attempts++;\n        if (attempts > 100) {\n          clearInterval(timer);\n          console.log(\"Bokeh: ERROR: Unable to run BokehJS code because BokehJS library is missing\");\n        }\n      }\n    }, 10, root)\n  }\n})(window);",
      "application/vnd.bokehjs_exec.v0+json": ""
     },
     "metadata": {
      "application/vnd.bokehjs_exec.v0+json": {
       "id": "1922"
      }
     },
     "output_type": "display_data"
    },
    {
     "data": {
      "text/html": [
       "\n",
       "\n",
       "\n",
       "\n",
       "\n",
       "\n",
       "  <div class=\"bk-root\" id=\"a8d5f7c2-a07f-4e3c-8961-767704c311c9\" data-root-id=\"2212\"></div>\n"
      ]
     },
     "metadata": {},
     "output_type": "display_data"
    },
    {
     "data": {
      "application/javascript": "(function(root) {\n  function embed_document(root) {\n    \n  const docs_json = {\"c44bbcc2-8fdf-41b9-9b64-e4b8c8bd110b\":{\"defs\":[],\"roots\":{\"references\":[{\"attributes\":{\"children\":[{\"id\":\"2211\"},{\"id\":\"2209\"}]},\"id\":\"2212\",\"type\":\"Column\"},{\"attributes\":{\"fill_alpha\":{\"value\":0.2},\"fill_color\":{\"value\":null},\"hatch_alpha\":{\"value\":0.2},\"line_alpha\":{\"value\":0.2},\"line_width\":{\"value\":0.5},\"size\":{\"value\":3},\"x\":{\"field\":\"variant_midpoint\"},\"y\":{\"field\":\"call_NormCov\"}},\"id\":\"2101\",\"type\":\"Circle\"},{\"attributes\":{\"children\":[[{\"id\":\"2069\"},0,0],[{\"id\":\"2139\"},1,0]]},\"id\":\"2209\",\"type\":\"GridBox\"},{\"attributes\":{},\"id\":\"2150\",\"type\":\"BasicTicker\"},{\"attributes\":{},\"id\":\"2131\",\"type\":\"UnionRenderers\"},{\"attributes\":{},\"id\":\"2177\",\"type\":\"AllLabels\"},{\"attributes\":{\"axis\":{\"id\":\"2153\"},\"coordinates\":null,\"dimension\":1,\"group\":null,\"ticker\":null,\"visible\":false},\"id\":\"2156\",\"type\":\"Grid\"},{\"attributes\":{\"label\":{\"value\":\"HMM\"},\"renderers\":[{\"id\":\"2120\"}]},\"id\":\"2133\",\"type\":\"LegendItem\"},{\"attributes\":{\"fill_alpha\":{\"value\":0.1},\"fill_color\":{\"value\":null},\"hatch_alpha\":{\"value\":0.1},\"line_alpha\":{\"value\":0.1},\"line_width\":{\"value\":0.5},\"size\":{\"value\":3},\"x\":{\"field\":\"variant_midpoint\"},\"y\":{\"field\":\"call_NormCov\"}},\"id\":\"2100\",\"type\":\"Circle\"},{\"attributes\":{\"source\":{\"id\":\"2115\"}},\"id\":\"2121\",\"type\":\"CDSView\"},{\"attributes\":{\"dimensions\":\"width\"},\"id\":\"2088\",\"type\":\"ZoomInTool\"},{\"attributes\":{\"line_alpha\":0.2,\"line_color\":\"#1f77b4\",\"line_width\":2,\"x\":{\"field\":\"variant_midpoint\"},\"y\":{\"field\":\"call_CN\"}},\"id\":\"2119\",\"type\":\"Line\"},{\"attributes\":{\"coordinates\":null,\"data_source\":{\"id\":\"2115\"},\"glyph\":{\"id\":\"2117\"},\"group\":null,\"hover_glyph\":null,\"muted_glyph\":{\"id\":\"2119\"},\"nonselection_glyph\":{\"id\":\"2118\"},\"view\":{\"id\":\"2121\"}},\"id\":\"2120\",\"type\":\"GlyphRenderer\"},{\"attributes\":{\"coordinates\":null,\"group\":null,\"items\":[{\"id\":\"2114\"},{\"id\":\"2133\"}]},\"id\":\"2113\",\"type\":\"Legend\"},{\"attributes\":{\"data\":{\"ID\":[\"AGAP006221\",\"AGAP006222\",\"AGAP006223\",\"AGAP006224\",\"AGAP006225\",\"AGAP006226\",\"AGAP006227\",\"AGAP006228\",\"AGAP006229\",\"AGAP006231\",\"AGAP006232\",\"AGAP006233\",\"AGAP006234\",\"AGAP006235\",\"AGAP006236\",\"AGAP006237\",\"AGAP006238\",\"AGAP006239\"],\"Name\":[\"\",\"\",\"\",\"\",\"\",\"Aldehyde_oxidase\",\"\",\"COEAE2F\",\"Vps20\",\"\",\"Pex14\",\"\",\"\",\"\",\"\",\"\",\"\",\"\"],\"Parent\":[\"NaN\",\"NaN\",\"NaN\",\"NaN\",\"NaN\",\"NaN\",\"NaN\",\"NaN\",\"NaN\",\"NaN\",\"NaN\",\"NaN\",\"NaN\",\"NaN\",\"NaN\",\"NaN\",\"NaN\",\"NaN\"],\"bottom\":[1,1,1,1,1,1,0,1,1,1,0,1,1,0,0,0,1,1],\"contig\":[\"2L\",\"2L\",\"2L\",\"2L\",\"2L\",\"2L\",\"2L\",\"2L\",\"2L\",\"2L\",\"2L\",\"2L\",\"2L\",\"2L\",\"2L\",\"2L\",\"2L\",\"2L\"],\"description\":[\"aldehyde oxidase [Source:VB Community Annotation]\",\"glucosyl/glucuronosyl transferases [Source:VB Community Annotation]\",\"glucosyl/glucuronosyl transferases [Source:VB Community Annotation]\",\"aldehyde oxidase [Source:VB Community Annotation]\",\"aldehyde oxidase [Source:VB Community Annotation]\",\"\",\"alpha esterase [Source:VB Community Annotation]\",\"carboxylesterase [Source:VB Community Annotation]\",\"vacuolar protein sorting 20 [Source:VB Community Annotation]\",\"serine/threonine-protein phosphatase dullard homolog [Source:VB Community Annotation]\",\"peroxin-14 [Source:VB Community Annotation]\",\"\",\"protein SHQ1 [Source:VB Community Annotation]\",\"\",\"\",\"Negative elongation factor E [Source:VB Community Annotation]\",\"ubiquitin-conjugating enzyme E2 C [Source:VB Community Annotation]\",\"Protein TSSC1 [Source:VB Community Annotation]\"],\"end\":[28523900,28526317,28528641,28533199,28539416,28545294,28547938,28550748,28552032,28560186,28565368,28567186,28569087,28572971,28574496,28575725,28579600,28581250],\"index\":[24735,24757,24771,24785,24801,24817,24832,24850,24862,24874,24890,24904,24912,24924,24940,24947,24953,24961],\"phase\":{\"__ndarray__\":\"AAAAAAAA+H8AAAAAAAD4fwAAAAAAAPh/AAAAAAAA+H8AAAAAAAD4fwAAAAAAAPh/AAAAAAAA+H8AAAAAAAD4fwAAAAAAAPh/AAAAAAAA+H8AAAAAAAD4fwAAAAAAAPh/AAAAAAAA+H8AAAAAAAD4fwAAAAAAAPh/AAAAAAAA+H8AAAAAAAD4fwAAAAAAAPh/\",\"dtype\":\"float64\",\"order\":\"little\",\"shape\":[18]},\"score\":{\"__ndarray__\":\"AAAAAAAA+H8AAAAAAAD4fwAAAAAAAPh/AAAAAAAA+H8AAAAAAAD4fwAAAAAAAPh/AAAAAAAA+H8AAAAAAAD4fwAAAAAAAPh/AAAAAAAA+H8AAAAAAAD4fwAAAAAAAPh/AAAAAAAA+H8AAAAAAAD4fwAAAAAAAPh/AAAAAAAA+H8AAAAAAAD4fwAAAAAAAPh/\",\"dtype\":\"float64\",\"order\":\"little\",\"shape\":[18]},\"source\":[\"VectorBase\",\"VectorBase\",\"VectorBase\",\"VectorBase\",\"VectorBase\",\"VectorBase\",\"VectorBase\",\"VectorBase\",\"VectorBase\",\"VectorBase\",\"VectorBase\",\"VectorBase\",\"VectorBase\",\"VectorBase\",\"VectorBase\",\"VectorBase\",\"VectorBase\",\"VectorBase\"],\"start\":[28518055,28524225,28526558,28528758,28534732,28540651,28545396,28548433,28550814,28552352,28563646,28565893,28567535,28569164,28573531,28574680,28576341,28579834],\"strand\":[\"+\",\"+\",\"+\",\"+\",\"+\",\"+\",\"-\",\"+\",\"+\",\"+\",\"-\",\"+\",\"+\",\"-\",\"-\",\"-\",\"+\",\"+\"],\"top\":{\"__ndarray__\":\"zczMzMzM/D/NzMzMzMz8P83MzMzMzPw/zczMzMzM/D/NzMzMzMz8P83MzMzMzPw/mpmZmZmZ6T/NzMzMzMz8P83MzMzMzPw/zczMzMzM/D+amZmZmZnpP83MzMzMzPw/zczMzMzM/D+amZmZmZnpP5qZmZmZmek/mpmZmZmZ6T/NzMzMzMz8P83MzMzMzPw/\",\"dtype\":\"float64\",\"order\":\"little\",\"shape\":[18]},\"type\":[\"gene\",\"gene\",\"gene\",\"gene\",\"gene\",\"gene\",\"gene\",\"gene\",\"gene\",\"gene\",\"gene\",\"gene\",\"gene\",\"gene\",\"gene\",\"gene\",\"gene\",\"gene\"]},\"selected\":{\"id\":\"2207\"},\"selection_policy\":{\"id\":\"2206\"}},\"id\":\"2179\",\"type\":\"ColumnDataSource\"},{\"attributes\":{\"toolbars\":[{\"id\":\"2091\"},{\"id\":\"2163\"}],\"tools\":[{\"id\":\"2068\"},{\"id\":\"2087\"},{\"id\":\"2088\"},{\"id\":\"2089\"},{\"id\":\"2090\"},{\"id\":\"2138\"},{\"id\":\"2157\"},{\"id\":\"2158\"},{\"id\":\"2159\"},{\"id\":\"2160\"},{\"id\":\"2161\"},{\"id\":\"2162\"}]},\"id\":\"2210\",\"type\":\"ProxyToolbar\"},{\"attributes\":{\"toolbar\":{\"id\":\"2210\"},\"toolbar_location\":\"above\"},\"id\":\"2211\",\"type\":\"ToolbarBox\"},{\"attributes\":{\"dimensions\":\"width\"},\"id\":\"2159\",\"type\":\"ZoomOutTool\"},{\"attributes\":{\"dimensions\":\"width\"},\"id\":\"2089\",\"type\":\"ZoomOutTool\"},{\"attributes\":{},\"id\":\"2145\",\"type\":\"LinearScale\"},{\"attributes\":{},\"id\":\"2090\",\"type\":\"ResetTool\"},{\"attributes\":{\"axis_label\":\"Contig 2L position (bp)\",\"coordinates\":null,\"formatter\":{\"id\":\"2189\"},\"group\":null,\"major_label_policy\":{\"id\":\"2177\"},\"ticker\":{\"id\":\"2150\"}},\"id\":\"2149\",\"type\":\"LinearAxis\"},{\"attributes\":{\"ticks\":[0,1,2,3,4,5]},\"id\":\"2134\",\"type\":\"FixedTicker\"},{\"attributes\":{\"coordinates\":null,\"data_source\":{\"id\":\"2097\"},\"glyph\":{\"id\":\"2099\"},\"group\":null,\"hover_glyph\":null,\"muted_glyph\":{\"id\":\"2101\"},\"nonselection_glyph\":{\"id\":\"2100\"},\"view\":{\"id\":\"2103\"}},\"id\":\"2102\",\"type\":\"GlyphRenderer\"},{\"attributes\":{\"axis\":{\"id\":\"2149\"},\"coordinates\":null,\"group\":null,\"ticker\":null},\"id\":\"2152\",\"type\":\"Grid\"},{\"attributes\":{\"label\":{\"value\":\"Coverage\"},\"renderers\":[{\"id\":\"2102\"}]},\"id\":\"2114\",\"type\":\"LegendItem\"},{\"attributes\":{\"source\":{\"id\":\"2097\"}},\"id\":\"2103\",\"type\":\"CDSView\"},{\"attributes\":{\"data\":{\"call_CN\":{\"__ndarray__\":\"AgICAgICAgICAgICAgICAgICAgICAgICAgICAgICAgICAgICAgICAgICAgICAgICAgMDAwMDAwMDAwMDAwMDAwMDAwMDAwMDAwMDAwMDAwMDAwMDAwMDAwMDAwMDAwMDAwMDAwMDAwMDAwMDAwMDAwMDAwMDAwMDAwMDAwMDAwMDAwMDAwMDAwMDAwMDAwMDAwMDAwMDAwMDAwMDAwMDAwMDAwMDAwMDAwMDAwICAgICAgICAgICAgICAgICAgICAgICAgICAgIC\",\"dtype\":\"int8\",\"order\":\"little\",\"shape\":[201]},\"call_NormCov\":{\"__ndarray__\":\"qMYLQPypAUAxCOw/5/sJQFK4BkAGgW1AppscQP7UEEAAAMA/oBqvP6RwzT8IrLw/pHDNP+xRCEACKx9A7FEIQGiRvT/+1BBAMzMrQFg5NEDjpQtA2c4HQHsUzj/LoRVA16MQQLByqD/+1Bg//KmhP+XQ8j8j2wlAEFj5P/ypAUBQjZc/Vg4FQKwcKkAEVt4/g8DKP1yP8j/8qeE/CKz8P0w3+T/+1BBAWmQDQK5HsT+PwuU/pps8QFK4BkAzM/M/EFj5PwAAQEA/NSZAMQjsPwAAQECoxitArBwKQFYOJUD8qSFAUrgmQPypIUDfT1VAsHJIQESLNEBaZANA2c43QESLNECynQ9ARrZjQHNoOUCuRzlAj8JlQFpkQ0CsHCpA+n5SQAIrL0D6fjJApptcQLbzbUCynV9A46UjQMHKcUAEVj5AvHRLQLKdL0BI4TJABoFNQG8SQ0D6flJAVg5FQFg5dEBQjTdAWmRDQKrxOkBYOTRApps8QDVeWkBYOTRAUI0XQIPAnkCoxktASgwiQP7UMEBSuEZArBxqQAAAQEBSuEZApps8QK5HOUDNzCRAsHJIQCGwKkBU41VArkc5QOOli0BmZi5ARIskQFYORUBQjTdAAis/QLpJLEDheoxAjZdGQOXQSkBQjVdACKx8QP7UUEAAAGBAvHRbQCUGKUCgGjdAVOM1QK5HOUAAAEBAN4kpQKwcKkCoxitAQmAtQC/dLEBU4zVAQmBlQLgeTUDl0EpA8tJFQNV4UUBzaHlAAABoQDeJKUBSuCZABoEtQCGwckCq8VpABFY+QLKdL0Aj2zFABoE9QKrxOkD6fjJABoFNQGiRXUA1XkJAx0sXQNNNEkCoxktAAAAgQEw3IUC0yF5ADi06QAIrL0CDwLZAAABAQKwcSkCTGCRABFY+QG3nG0D0/eQ/UrgGQFg51D8MAts/AADwP3E9GkAOLTpACKz8PwAAAEC0yA5AqMYLQLpJ7D/8qQFA+FMLQI/CJUBzaNE/CKy8P7By6D/6flJAsHLoP1CN1z/0/eQ/AisvQE5iEED2KMw/SOEiQLTIHkBaZCNA\",\"dtype\":\"float32\",\"order\":\"little\",\"shape\":[201]},\"samples\":[\"BL0273-C\",\"BL0273-C\",\"BL0273-C\",\"BL0273-C\",\"BL0273-C\",\"BL0273-C\",\"BL0273-C\",\"BL0273-C\",\"BL0273-C\",\"BL0273-C\",\"BL0273-C\",\"BL0273-C\",\"BL0273-C\",\"BL0273-C\",\"BL0273-C\",\"BL0273-C\",\"BL0273-C\",\"BL0273-C\",\"BL0273-C\",\"BL0273-C\",\"BL0273-C\",\"BL0273-C\",\"BL0273-C\",\"BL0273-C\",\"BL0273-C\",\"BL0273-C\",\"BL0273-C\",\"BL0273-C\",\"BL0273-C\",\"BL0273-C\",\"BL0273-C\",\"BL0273-C\",\"BL0273-C\",\"BL0273-C\",\"BL0273-C\",\"BL0273-C\",\"BL0273-C\",\"BL0273-C\",\"BL0273-C\",\"BL0273-C\",\"BL0273-C\",\"BL0273-C\",\"BL0273-C\",\"BL0273-C\",\"BL0273-C\",\"BL0273-C\",\"BL0273-C\",\"BL0273-C\",\"BL0273-C\",\"BL0273-C\",\"BL0273-C\",\"BL0273-C\",\"BL0273-C\",\"BL0273-C\",\"BL0273-C\",\"BL0273-C\",\"BL0273-C\",\"BL0273-C\",\"BL0273-C\",\"BL0273-C\",\"BL0273-C\",\"BL0273-C\",\"BL0273-C\",\"BL0273-C\",\"BL0273-C\",\"BL0273-C\",\"BL0273-C\",\"BL0273-C\",\"BL0273-C\",\"BL0273-C\",\"BL0273-C\",\"BL0273-C\",\"BL0273-C\",\"BL0273-C\",\"BL0273-C\",\"BL0273-C\",\"BL0273-C\",\"BL0273-C\",\"BL0273-C\",\"BL0273-C\",\"BL0273-C\",\"BL0273-C\",\"BL0273-C\",\"BL0273-C\",\"BL0273-C\",\"BL0273-C\",\"BL0273-C\",\"BL0273-C\",\"BL0273-C\",\"BL0273-C\",\"BL0273-C\",\"BL0273-C\",\"BL0273-C\",\"BL0273-C\",\"BL0273-C\",\"BL0273-C\",\"BL0273-C\",\"BL0273-C\",\"BL0273-C\",\"BL0273-C\",\"BL0273-C\",\"BL0273-C\",\"BL0273-C\",\"BL0273-C\",\"BL0273-C\",\"BL0273-C\",\"BL0273-C\",\"BL0273-C\",\"BL0273-C\",\"BL0273-C\",\"BL0273-C\",\"BL0273-C\",\"BL0273-C\",\"BL0273-C\",\"BL0273-C\",\"BL0273-C\",\"BL0273-C\",\"BL0273-C\",\"BL0273-C\",\"BL0273-C\",\"BL0273-C\",\"BL0273-C\",\"BL0273-C\",\"BL0273-C\",\"BL0273-C\",\"BL0273-C\",\"BL0273-C\",\"BL0273-C\",\"BL0273-C\",\"BL0273-C\",\"BL0273-C\",\"BL0273-C\",\"BL0273-C\",\"BL0273-C\",\"BL0273-C\",\"BL0273-C\",\"BL0273-C\",\"BL0273-C\",\"BL0273-C\",\"BL0273-C\",\"BL0273-C\",\"BL0273-C\",\"BL0273-C\",\"BL0273-C\",\"BL0273-C\",\"BL0273-C\",\"BL0273-C\",\"BL0273-C\",\"BL0273-C\",\"BL0273-C\",\"BL0273-C\",\"BL0273-C\",\"BL0273-C\",\"BL0273-C\",\"BL0273-C\",\"BL0273-C\",\"BL0273-C\",\"BL0273-C\",\"BL0273-C\",\"BL0273-C\",\"BL0273-C\",\"BL0273-C\",\"BL0273-C\",\"BL0273-C\",\"BL0273-C\",\"BL0273-C\",\"BL0273-C\",\"BL0273-C\",\"BL0273-C\",\"BL0273-C\",\"BL0273-C\",\"BL0273-C\",\"BL0273-C\",\"BL0273-C\",\"BL0273-C\",\"BL0273-C\",\"BL0273-C\",\"BL0273-C\",\"BL0273-C\",\"BL0273-C\",\"BL0273-C\",\"BL0273-C\",\"BL0273-C\",\"BL0273-C\",\"BL0273-C\",\"BL0273-C\",\"BL0273-C\",\"BL0273-C\",\"BL0273-C\",\"BL0273-C\",\"BL0273-C\",\"BL0273-C\",\"BL0273-C\",\"BL0273-C\",\"BL0273-C\",\"BL0273-C\",\"BL0273-C\",\"BL0273-C\",\"BL0273-C\",\"BL0273-C\",\"BL0273-C\"],\"variant_contig\":{\"__ndarray__\":\"AQEBAQEBAQEBAQEBAQEBAQEBAQEBAQEBAQEBAQEBAQEBAQEBAQEBAQEBAQEBAQEBAQEBAQEBAQEBAQEBAQEBAQEBAQEBAQEBAQEBAQEBAQEBAQEBAQEBAQEBAQEBAQEBAQEBAQEBAQEBAQEBAQEBAQEBAQEBAQEBAQEBAQEBAQEBAQEBAQEBAQEBAQEBAQEBAQEBAQEBAQEBAQEBAQEBAQEBAQEBAQEBAQEBAQEBAQEBAQEBAQEBAQEBAQEBAQEBAQEBAQEBAQEB\",\"dtype\":\"uint8\",\"order\":\"little\",\"shape\":[201]},\"variant_end\":{\"__ndarray__\":\"pC6zAdAvswH8MLMBKDKzAVQzswGANLMBrDWzAdg2swEEOLMBMDmzAVw6swGIO7MBtDyzAeA9swEMP7MBOECzAWRBswGQQrMBvEOzAehEswEURrMBQEezAWxIswGYSbMBxEqzAfBLswEcTbMBSE6zAXRPswGgULMBzFGzAfhSswEkVLMBUFWzAXxWswGoV7MB1FizAQBaswEsW7MBWFyzAYRdswGwXrMB3F+zAQhhswE0YrMBYGOzAYxkswG4ZbMB5GazARBoswE8abMBaGqzAZRrswHAbLMB7G2zARhvswFEcLMBcHGzAZxyswHIc7MB9HSzASB2swFMd7MBeHizAaR5swHQerMB/HuzASh9swFUfrMBgH+zAayAswHYgbMBBIOzATCEswFchbMBiIazAbSHswHgiLMBDIqzATiLswFkjLMBkI2zAbyOswHoj7MBFJGzAUCSswFsk7MBmJSzAcSVswHwlrMBHJizAUiZswF0mrMBoJuzAcycswH4nbMBJJ+zAVCgswF8obMBqKKzAdSjswEApbMBLKazAVinswGEqLMBsKmzAdyqswEIrLMBNK2zAWCuswGMr7MBuLCzAeSxswEQs7MBPLSzAWi1swGUtrMBwLezAey4swEYurMBRLuzAXC8swGcvbMByL6zAfS/swEgwbMBTMKzAXjDswGkxLMB0MWzAfzGswEoyLMBVMmzAYDKswGsy7MB2MyzAQTOswEwz7MBXNCzAYjRswG00rMB4NOzAQzVswE41rMBZNezAZDYswG82bMB6NqzARTcswFA3bMBbN6zAZjfswHE4LMB8OGzARzjswFI5LMBdOWzAaDmswHM57MB+OizASTqswFQ67MBfOyzAajtswHU7rMBAPCzASzxswFY8rMBhPOzAbD0swHc9bMBCPezATT4swFg+bMBjPqzAbj7swHk/LMBEP6zATz/swFoALQBlAG0AcACtAHsA7QBGAW0AUQGtAFwB7QBnAi0AcgJtAH0CrQBIAy0AUwNtAF4DrQBpA+0AdAQtAH8EbQBKBO0AVQUtAGAFbQBrBa0AdgXtAEEGbQB\",\"dtype\":\"int32\",\"order\":\"little\",\"shape\":[201]},\"variant_midpoint\":{\"__ndarray__\":\"Dy6zATsvswFnMLMBkzGzAb8yswHrM7MBFzWzAUM2swFvN7MBmzizAcc5swHzOrMBHzyzAUs9swF3PrMBoz+zAc9AswH7QbMBJ0OzAVNEswF/RbMBq0azAddHswEDSbMBL0qzAVtLswGHTLMBs02zAd9OswELULMBN1GzAWNSswGPU7MBu1SzAedVswETV7MBP1izAWtZswGXWrMBw1uzAe9cswEbXrMBR1+zAXNgswGfYbMBy2KzAfdjswEjZbMBT2azAXtnswGnaLMB02mzAf9qswErbLMBV22zAYNuswGvb7MB23CzAQdyswEzc7MBX3SzAYt1swG3drMB43ezAQ95swE7erMBZ3uzAZN8swG/fbMB636zAReAswFDgbMBb4KzAZuDswHHhLMB84WzAR+HswFLiLMBd4mzAaOKswHPi7MB+4yzASeOswFTj7MBf5CzAauRswHXkrMBA5SzAS+VswFblrMBh5ezAbOYswHfmbMBC5uzATecswFjnbMBj56zAbufswHnoLMBE6KzAT+jswFrpLMBl6WzAcOmswHvp7MBG6mzAUeqswFzq7MBn6yzAcutswH3rrMBI7CzAU+xswF7srMBp7OzAdO0swH/tbMBK7ezAVe4swGDubMBr7qzAdu7swEHvbMBM76zAV+/swGLwLMBt8GzAePCswEPxLMBO8WzAWfGswGTx7MBv8izAevJswEXy7MBQ8yzAW/NswGbzrMBx8+zAfPQswEf0rMBS9OzAXfUswGj1bMBz9azAfvXswEn2bMBU9qzAX/bswGr3LMB192zAQPfswEv4LMBW+GzAYfiswGz47MB3+SzAQvmswE357MBY+izAY/pswG76rMB5+uzARPtswE/7rMBa++zAZfwswHD8bMB7/KzARv0swFH9bMBc/azAZ/3swHL+LMB9/mzASP7swFP/LMBe/2zAaf+swHT/7MB/wC0ASsCtAFXA7QBgwS0Aa8FtAHbBrQBBwi0ATMJtAFfCrQBiwu0AbcMtAHjDbQBDw+0ATsQtAFnEbQBkxK0Ab8TtAHrFLQBFxa0AUMXtAFvGLQB\",\"dtype\":\"int32\",\"order\":\"little\",\"shape\":[201]},\"variant_position\":{\"__ndarray__\":\"eS2zAaUuswHRL7MB/TCzASkyswFVM7MBgTSzAa01swHZNrMBBTizATE5swFdOrMBiTuzAbU8swHhPbMBDT+zATlAswFlQbMBkUKzAb1DswHpRLMBFUazAUFHswFtSLMBmUmzAcVKswHxS7MBHU2zAUlOswF1T7MBoVCzAc1RswH5UrMBJVSzAVFVswF9VrMBqVezAdVYswEBWrMBLVuzAVlcswGFXbMBsV6zAd1fswEJYbMBNWKzAWFjswGNZLMBuWWzAeVmswERaLMBPWmzAWlqswGVa7MBwWyzAe1tswEZb7MBRXCzAXFxswGdcrMByXOzAfV0swEhdrMBTXezAXl4swGlebMB0XqzAf17swEpfbMBVX6zAYF/swGtgLMB2YGzAQWDswExhLMBXYWzAYmGswG1h7MB4YizAQ2KswE5i7MBZYyzAZGNswG9jrMB6Y+zARWRswFBkrMBbZOzAZmUswHFlbMB8ZazAR2YswFJmbMBdZqzAaGbswHNnLMB+Z2zASWfswFRoLMBfaGzAamiswHVo7MBAaWzAS2mswFZp7MBhaizAbGpswHdqrMBCayzATWtswFhrrMBja+zAbmwswHlsbMBEbOzAT20swFptbMBlbazAcG3swHtuLMBGbqzAUW7swFxvLMBnb2zAcm+swH1v7MBIcGzAU3CswF5w7MBpcSzAdHFswH9xrMBKcizAVXJswGByrMBrcuzAdnMswEFzrMBMc+zAV3QswGJ0bMBtdKzAeHTswEN1bMBOdazAWXXswGR2LMBvdmzAenaswEV3LMBQd2zAW3eswGZ37MBxeCzAfHhswEd47MBSeSzAXXlswGh5rMBzeezAfnoswEl6rMBUeuzAX3sswGp7bMB1e6zAQHwswEt8bMBWfKzAYXzswGx9LMB3fWzAQn3swE1+LMBYfmzAY36swG5+7MB5fyzARH+swE9/7MBaQC0AZUBtAHBArQB7QO0ARkFtAFFBrQBcQe0AZ0ItAHJCbQB9Qq0ASEMtAFNDbQBeQ60AaUPtAHRELQB/RG0ASkTtAFVFLQBgRW0Aa0WtAHZF7QB\",\"dtype\":\"int32\",\"order\":\"little\",\"shape\":[201]},\"variants\":[0,1,2,3,4,5,6,7,8,9,10,11,12,13,14,15,16,17,18,19,20,21,22,23,24,25,26,27,28,29,30,31,32,33,34,35,36,37,38,39,40,41,42,43,44,45,46,47,48,49,50,51,52,53,54,55,56,57,58,59,60,61,62,63,64,65,66,67,68,69,70,71,72,73,74,75,76,77,78,79,80,81,82,83,84,85,86,87,88,89,90,91,92,93,94,95,96,97,98,99,100,101,102,103,104,105,106,107,108,109,110,111,112,113,114,115,116,117,118,119,120,121,122,123,124,125,126,127,128,129,130,131,132,133,134,135,136,137,138,139,140,141,142,143,144,145,146,147,148,149,150,151,152,153,154,155,156,157,158,159,160,161,162,163,164,165,166,167,168,169,170,171,172,173,174,175,176,177,178,179,180,181,182,183,184,185,186,187,188,189,190,191,192,193,194,195,196,197,198,199,200]},\"selected\":{\"id\":\"2132\"},\"selection_policy\":{\"id\":\"2131\"}},\"id\":\"2115\",\"type\":\"ColumnDataSource\"},{\"attributes\":{},\"id\":\"2173\",\"type\":\"BasicTickFormatter\"},{\"attributes\":{\"axis_label\":\"Copy number\",\"coordinates\":null,\"formatter\":{\"id\":\"2106\"},\"group\":null,\"major_label_policy\":{\"id\":\"2107\"},\"ticker\":{\"id\":\"2134\"}},\"id\":\"2083\",\"type\":\"LinearAxis\"},{\"attributes\":{\"coordinates\":null,\"data_source\":{\"id\":\"2179\"},\"glyph\":{\"id\":\"2181\"},\"group\":null,\"hover_glyph\":null,\"muted_glyph\":{\"id\":\"2183\"},\"nonselection_glyph\":{\"id\":\"2182\"},\"view\":{\"id\":\"2185\"}},\"id\":\"2184\",\"type\":\"GlyphRenderer\"},{\"attributes\":{},\"id\":\"2077\",\"type\":\"LinearScale\"},{\"attributes\":{\"coordinates\":null,\"group\":null,\"text\":\"Genes\"},\"id\":\"2140\",\"type\":\"Title\"},{\"attributes\":{},\"id\":\"2206\",\"type\":\"UnionRenderers\"},{\"attributes\":{\"bottom\":{\"field\":\"bottom\"},\"fill_alpha\":{\"value\":0.1},\"fill_color\":{\"value\":\"#1f77b4\"},\"hatch_alpha\":{\"value\":0.1},\"left\":{\"field\":\"start\"},\"line_alpha\":{\"value\":0.1},\"line_color\":{\"value\":\"#1f77b4\"},\"line_width\":{\"value\":0.5},\"right\":{\"field\":\"end\"},\"top\":{\"field\":\"top\"}},\"id\":\"2182\",\"type\":\"Quad\"},{\"attributes\":{},\"id\":\"2080\",\"type\":\"BasicTicker\"},{\"attributes\":{},\"id\":\"2075\",\"type\":\"LinearScale\"},{\"attributes\":{\"fill_color\":{\"value\":null},\"line_width\":{\"value\":0.5},\"size\":{\"value\":3},\"x\":{\"field\":\"variant_midpoint\"},\"y\":{\"field\":\"call_NormCov\"}},\"id\":\"2099\",\"type\":\"Circle\"},{\"attributes\":{\"axis_label\":\"Contig 2L position (bp)\",\"coordinates\":null,\"formatter\":{\"id\":\"2136\"},\"group\":null,\"major_label_policy\":{\"id\":\"2110\"},\"ticker\":{\"id\":\"2080\"},\"visible\":false},\"id\":\"2079\",\"type\":\"LinearAxis\"},{\"attributes\":{\"ticks\":[0.4,1.4]},\"id\":\"2187\",\"type\":\"FixedTicker\"},{\"attributes\":{\"callback\":null,\"tooltips\":[[\"ID\",\"@ID\"],[\"Name\",\"@Name\"],[\"Description\",\"@description\"],[\"Location\",\"@contig:@start{,}-@end{,}\"]]},\"id\":\"2162\",\"type\":\"HoverTool\"},{\"attributes\":{},\"id\":\"2147\",\"type\":\"LinearScale\"},{\"attributes\":{},\"id\":\"2107\",\"type\":\"AllLabels\"},{\"attributes\":{\"coordinates\":null,\"group\":null,\"text\":\"CNV HMM - BL0273-C (AG1000G-TZ)\"},\"id\":\"2070\",\"type\":\"Title\"},{\"attributes\":{},\"id\":\"2189\",\"type\":\"NumeralTickFormatter\"},{\"attributes\":{\"axis\":{\"id\":\"2079\"},\"coordinates\":null,\"group\":null,\"ticker\":null},\"id\":\"2082\",\"type\":\"Grid\"},{\"attributes\":{\"below\":[{\"id\":\"2079\"}],\"center\":[{\"id\":\"2082\"},{\"id\":\"2086\"},{\"id\":\"2113\"}],\"height\":170,\"left\":[{\"id\":\"2083\"}],\"renderers\":[{\"id\":\"2102\"},{\"id\":\"2120\"}],\"right\":[{\"id\":\"2113\"}],\"title\":{\"id\":\"2070\"},\"toolbar\":{\"id\":\"2091\"},\"toolbar_location\":null,\"width\":800,\"x_range\":{\"id\":\"2067\"},\"x_scale\":{\"id\":\"2075\"},\"y_range\":{\"id\":\"2073\"},\"y_scale\":{\"id\":\"2077\"}},\"id\":\"2069\",\"subtype\":\"Figure\",\"type\":\"Plot\"},{\"attributes\":{\"callback\":{\"id\":\"2178\"}},\"id\":\"2161\",\"type\":\"TapTool\"},{\"attributes\":{},\"id\":\"2111\",\"type\":\"UnionRenderers\"},{\"attributes\":{\"end\":5},\"id\":\"2073\",\"type\":\"Range1d\"},{\"attributes\":{},\"id\":\"2136\",\"type\":\"NumeralTickFormatter\"},{\"attributes\":{\"bottom\":{\"field\":\"bottom\"},\"fill_alpha\":{\"value\":0.2},\"fill_color\":{\"value\":\"#1f77b4\"},\"hatch_alpha\":{\"value\":0.2},\"left\":{\"field\":\"start\"},\"line_alpha\":{\"value\":0.2},\"line_color\":{\"value\":\"#1f77b4\"},\"line_width\":{\"value\":0.5},\"right\":{\"field\":\"end\"},\"top\":{\"field\":\"top\"}},\"id\":\"2183\",\"type\":\"Quad\"},{\"attributes\":{\"coordinates\":null,\"formatter\":{\"id\":\"2173\"},\"group\":null,\"major_label_overrides\":{\"0.4\":\"-\",\"1.4\":\"+\"},\"major_label_policy\":{\"id\":\"2174\"},\"ticker\":{\"id\":\"2187\"}},\"id\":\"2153\",\"type\":\"LinearAxis\"},{\"attributes\":{\"dimensions\":\"width\",\"maintain_focus\":false},\"id\":\"2138\",\"type\":\"WheelZoomTool\"},{\"attributes\":{\"dimensions\":\"width\"},\"id\":\"2157\",\"type\":\"PanTool\"},{\"attributes\":{\"bounds\":\"auto\",\"end\":28580100,\"start\":28519801},\"id\":\"2067\",\"type\":\"Range1d\"},{\"attributes\":{\"bottom\":{\"field\":\"bottom\"},\"fill_alpha\":{\"value\":0.5},\"fill_color\":{\"value\":\"#1f77b4\"},\"left\":{\"field\":\"start\"},\"line_color\":{\"value\":\"#1f77b4\"},\"line_width\":{\"value\":0.5},\"right\":{\"field\":\"end\"},\"top\":{\"field\":\"top\"}},\"id\":\"2181\",\"type\":\"Quad\"},{\"attributes\":{},\"id\":\"2207\",\"type\":\"Selection\"},{\"attributes\":{\"dimensions\":\"width\",\"maintain_focus\":false},\"id\":\"2068\",\"type\":\"WheelZoomTool\"},{\"attributes\":{},\"id\":\"2110\",\"type\":\"AllLabels\"},{\"attributes\":{\"dimensions\":\"width\"},\"id\":\"2158\",\"type\":\"ZoomInTool\"},{\"attributes\":{\"url\":\"https://vectorbase.org/vectorbase/app/record/gene/@ID\"},\"id\":\"2178\",\"type\":\"OpenURL\"},{\"attributes\":{},\"id\":\"2106\",\"type\":\"BasicTickFormatter\"},{\"attributes\":{\"end\":2.2,\"start\":-0.4},\"id\":\"2186\",\"type\":\"Range1d\"},{\"attributes\":{},\"id\":\"2132\",\"type\":\"Selection\"},{\"attributes\":{\"below\":[{\"id\":\"2149\"}],\"center\":[{\"id\":\"2152\"},{\"id\":\"2156\"}],\"height\":120,\"left\":[{\"id\":\"2153\"}],\"renderers\":[{\"id\":\"2184\"}],\"title\":{\"id\":\"2140\"},\"toolbar\":{\"id\":\"2163\"},\"toolbar_location\":null,\"width\":800,\"x_range\":{\"id\":\"2067\"},\"x_scale\":{\"id\":\"2145\"},\"y_range\":{\"id\":\"2186\"},\"y_scale\":{\"id\":\"2147\"}},\"id\":\"2139\",\"subtype\":\"Figure\",\"type\":\"Plot\"},{\"attributes\":{\"source\":{\"id\":\"2179\"}},\"id\":\"2185\",\"type\":\"CDSView\"},{\"attributes\":{},\"id\":\"2112\",\"type\":\"Selection\"},{\"attributes\":{\"line_color\":\"#1f77b4\",\"line_width\":2,\"x\":{\"field\":\"variant_midpoint\"},\"y\":{\"field\":\"call_CN\"}},\"id\":\"2117\",\"type\":\"Line\"},{\"attributes\":{\"line_alpha\":0.1,\"line_color\":\"#1f77b4\",\"line_width\":2,\"x\":{\"field\":\"variant_midpoint\"},\"y\":{\"field\":\"call_CN\"}},\"id\":\"2118\",\"type\":\"Line\"},{\"attributes\":{\"axis\":{\"id\":\"2083\"},\"coordinates\":null,\"dimension\":1,\"group\":null,\"ticker\":null},\"id\":\"2086\",\"type\":\"Grid\"},{\"attributes\":{},\"id\":\"2174\",\"type\":\"AllLabels\"},{\"attributes\":{\"active_drag\":{\"id\":\"2087\"},\"active_scroll\":{\"id\":\"2068\"},\"tools\":[{\"id\":\"2068\"},{\"id\":\"2087\"},{\"id\":\"2088\"},{\"id\":\"2089\"},{\"id\":\"2090\"}]},\"id\":\"2091\",\"type\":\"Toolbar\"},{\"attributes\":{\"active_drag\":{\"id\":\"2157\"},\"active_scroll\":{\"id\":\"2138\"},\"tools\":[{\"id\":\"2138\"},{\"id\":\"2157\"},{\"id\":\"2158\"},{\"id\":\"2159\"},{\"id\":\"2160\"},{\"id\":\"2161\"},{\"id\":\"2162\"}]},\"id\":\"2163\",\"type\":\"Toolbar\"},{\"attributes\":{\"dimensions\":\"width\"},\"id\":\"2087\",\"type\":\"PanTool\"},{\"attributes\":{\"data\":{\"call_CN\":{\"__ndarray__\":\"AgICAgICAgICAgICAgICAgICAgICAgICAgICAgICAgICAgICAgICAgICAgICAgICAgMDAwMDAwMDAwMDAwMDAwMDAwMDAwMDAwMDAwMDAwMDAwMDAwMDAwMDAwMDAwMDAwMDAwMDAwMDAwMDAwMDAwMDAwMDAwMDAwMDAwMDAwMDAwMDAwMDAwMDAwMDAwMDAwMDAwMDAwMDAwMDAwMDAwMDAwMDAwMDAwMDAwICAgICAgICAgICAgICAgICAgICAgICAgICAgIC\",\"dtype\":\"int8\",\"order\":\"little\",\"shape\":[201]},\"call_NormCov\":{\"__ndarray__\":\"qMYLQPypAUAxCOw/5/sJQFK4BkAGgW1AppscQP7UEEAAAMA/oBqvP6RwzT8IrLw/pHDNP+xRCEACKx9A7FEIQGiRvT/+1BBAMzMrQFg5NEDjpQtA2c4HQHsUzj/LoRVA16MQQLByqD/+1Bg//KmhP+XQ8j8j2wlAEFj5P/ypAUBQjZc/Vg4FQKwcKkAEVt4/g8DKP1yP8j/8qeE/CKz8P0w3+T/+1BBAWmQDQK5HsT+PwuU/pps8QFK4BkAzM/M/EFj5PwAAQEA/NSZAMQjsPwAAQECoxitArBwKQFYOJUD8qSFAUrgmQPypIUDfT1VAsHJIQESLNEBaZANA2c43QESLNECynQ9ARrZjQHNoOUCuRzlAj8JlQFpkQ0CsHCpA+n5SQAIrL0D6fjJApptcQLbzbUCynV9A46UjQMHKcUAEVj5AvHRLQLKdL0BI4TJABoFNQG8SQ0D6flJAVg5FQFg5dEBQjTdAWmRDQKrxOkBYOTRApps8QDVeWkBYOTRAUI0XQIPAnkCoxktASgwiQP7UMEBSuEZArBxqQAAAQEBSuEZApps8QK5HOUDNzCRAsHJIQCGwKkBU41VArkc5QOOli0BmZi5ARIskQFYORUBQjTdAAis/QLpJLEDheoxAjZdGQOXQSkBQjVdACKx8QP7UUEAAAGBAvHRbQCUGKUCgGjdAVOM1QK5HOUAAAEBAN4kpQKwcKkCoxitAQmAtQC/dLEBU4zVAQmBlQLgeTUDl0EpA8tJFQNV4UUBzaHlAAABoQDeJKUBSuCZABoEtQCGwckCq8VpABFY+QLKdL0Aj2zFABoE9QKrxOkD6fjJABoFNQGiRXUA1XkJAx0sXQNNNEkCoxktAAAAgQEw3IUC0yF5ADi06QAIrL0CDwLZAAABAQKwcSkCTGCRABFY+QG3nG0D0/eQ/UrgGQFg51D8MAts/AADwP3E9GkAOLTpACKz8PwAAAEC0yA5AqMYLQLpJ7D/8qQFA+FMLQI/CJUBzaNE/CKy8P7By6D/6flJAsHLoP1CN1z/0/eQ/AisvQE5iEED2KMw/SOEiQLTIHkBaZCNA\",\"dtype\":\"float32\",\"order\":\"little\",\"shape\":[201]},\"samples\":[\"BL0273-C\",\"BL0273-C\",\"BL0273-C\",\"BL0273-C\",\"BL0273-C\",\"BL0273-C\",\"BL0273-C\",\"BL0273-C\",\"BL0273-C\",\"BL0273-C\",\"BL0273-C\",\"BL0273-C\",\"BL0273-C\",\"BL0273-C\",\"BL0273-C\",\"BL0273-C\",\"BL0273-C\",\"BL0273-C\",\"BL0273-C\",\"BL0273-C\",\"BL0273-C\",\"BL0273-C\",\"BL0273-C\",\"BL0273-C\",\"BL0273-C\",\"BL0273-C\",\"BL0273-C\",\"BL0273-C\",\"BL0273-C\",\"BL0273-C\",\"BL0273-C\",\"BL0273-C\",\"BL0273-C\",\"BL0273-C\",\"BL0273-C\",\"BL0273-C\",\"BL0273-C\",\"BL0273-C\",\"BL0273-C\",\"BL0273-C\",\"BL0273-C\",\"BL0273-C\",\"BL0273-C\",\"BL0273-C\",\"BL0273-C\",\"BL0273-C\",\"BL0273-C\",\"BL0273-C\",\"BL0273-C\",\"BL0273-C\",\"BL0273-C\",\"BL0273-C\",\"BL0273-C\",\"BL0273-C\",\"BL0273-C\",\"BL0273-C\",\"BL0273-C\",\"BL0273-C\",\"BL0273-C\",\"BL0273-C\",\"BL0273-C\",\"BL0273-C\",\"BL0273-C\",\"BL0273-C\",\"BL0273-C\",\"BL0273-C\",\"BL0273-C\",\"BL0273-C\",\"BL0273-C\",\"BL0273-C\",\"BL0273-C\",\"BL0273-C\",\"BL0273-C\",\"BL0273-C\",\"BL0273-C\",\"BL0273-C\",\"BL0273-C\",\"BL0273-C\",\"BL0273-C\",\"BL0273-C\",\"BL0273-C\",\"BL0273-C\",\"BL0273-C\",\"BL0273-C\",\"BL0273-C\",\"BL0273-C\",\"BL0273-C\",\"BL0273-C\",\"BL0273-C\",\"BL0273-C\",\"BL0273-C\",\"BL0273-C\",\"BL0273-C\",\"BL0273-C\",\"BL0273-C\",\"BL0273-C\",\"BL0273-C\",\"BL0273-C\",\"BL0273-C\",\"BL0273-C\",\"BL0273-C\",\"BL0273-C\",\"BL0273-C\",\"BL0273-C\",\"BL0273-C\",\"BL0273-C\",\"BL0273-C\",\"BL0273-C\",\"BL0273-C\",\"BL0273-C\",\"BL0273-C\",\"BL0273-C\",\"BL0273-C\",\"BL0273-C\",\"BL0273-C\",\"BL0273-C\",\"BL0273-C\",\"BL0273-C\",\"BL0273-C\",\"BL0273-C\",\"BL0273-C\",\"BL0273-C\",\"BL0273-C\",\"BL0273-C\",\"BL0273-C\",\"BL0273-C\",\"BL0273-C\",\"BL0273-C\",\"BL0273-C\",\"BL0273-C\",\"BL0273-C\",\"BL0273-C\",\"BL0273-C\",\"BL0273-C\",\"BL0273-C\",\"BL0273-C\",\"BL0273-C\",\"BL0273-C\",\"BL0273-C\",\"BL0273-C\",\"BL0273-C\",\"BL0273-C\",\"BL0273-C\",\"BL0273-C\",\"BL0273-C\",\"BL0273-C\",\"BL0273-C\",\"BL0273-C\",\"BL0273-C\",\"BL0273-C\",\"BL0273-C\",\"BL0273-C\",\"BL0273-C\",\"BL0273-C\",\"BL0273-C\",\"BL0273-C\",\"BL0273-C\",\"BL0273-C\",\"BL0273-C\",\"BL0273-C\",\"BL0273-C\",\"BL0273-C\",\"BL0273-C\",\"BL0273-C\",\"BL0273-C\",\"BL0273-C\",\"BL0273-C\",\"BL0273-C\",\"BL0273-C\",\"BL0273-C\",\"BL0273-C\",\"BL0273-C\",\"BL0273-C\",\"BL0273-C\",\"BL0273-C\",\"BL0273-C\",\"BL0273-C\",\"BL0273-C\",\"BL0273-C\",\"BL0273-C\",\"BL0273-C\",\"BL0273-C\",\"BL0273-C\",\"BL0273-C\",\"BL0273-C\",\"BL0273-C\",\"BL0273-C\",\"BL0273-C\",\"BL0273-C\",\"BL0273-C\",\"BL0273-C\",\"BL0273-C\",\"BL0273-C\",\"BL0273-C\",\"BL0273-C\",\"BL0273-C\",\"BL0273-C\",\"BL0273-C\",\"BL0273-C\",\"BL0273-C\",\"BL0273-C\"],\"variant_contig\":{\"__ndarray__\":\"AQEBAQEBAQEBAQEBAQEBAQEBAQEBAQEBAQEBAQEBAQEBAQEBAQEBAQEBAQEBAQEBAQEBAQEBAQEBAQEBAQEBAQEBAQEBAQEBAQEBAQEBAQEBAQEBAQEBAQEBAQEBAQEBAQEBAQEBAQEBAQEBAQEBAQEBAQEBAQEBAQEBAQEBAQEBAQEBAQEBAQEBAQEBAQEBAQEBAQEBAQEBAQEBAQEBAQEBAQEBAQEBAQEBAQEBAQEBAQEBAQEBAQEBAQEBAQEBAQEBAQEBAQEB\",\"dtype\":\"uint8\",\"order\":\"little\",\"shape\":[201]},\"variant_end\":{\"__ndarray__\":\"pC6zAdAvswH8MLMBKDKzAVQzswGANLMBrDWzAdg2swEEOLMBMDmzAVw6swGIO7MBtDyzAeA9swEMP7MBOECzAWRBswGQQrMBvEOzAehEswEURrMBQEezAWxIswGYSbMBxEqzAfBLswEcTbMBSE6zAXRPswGgULMBzFGzAfhSswEkVLMBUFWzAXxWswGoV7MB1FizAQBaswEsW7MBWFyzAYRdswGwXrMB3F+zAQhhswE0YrMBYGOzAYxkswG4ZbMB5GazARBoswE8abMBaGqzAZRrswHAbLMB7G2zARhvswFEcLMBcHGzAZxyswHIc7MB9HSzASB2swFMd7MBeHizAaR5swHQerMB/HuzASh9swFUfrMBgH+zAayAswHYgbMBBIOzATCEswFchbMBiIazAbSHswHgiLMBDIqzATiLswFkjLMBkI2zAbyOswHoj7MBFJGzAUCSswFsk7MBmJSzAcSVswHwlrMBHJizAUiZswF0mrMBoJuzAcycswH4nbMBJJ+zAVCgswF8obMBqKKzAdSjswEApbMBLKazAVinswGEqLMBsKmzAdyqswEIrLMBNK2zAWCuswGMr7MBuLCzAeSxswEQs7MBPLSzAWi1swGUtrMBwLezAey4swEYurMBRLuzAXC8swGcvbMByL6zAfS/swEgwbMBTMKzAXjDswGkxLMB0MWzAfzGswEoyLMBVMmzAYDKswGsy7MB2MyzAQTOswEwz7MBXNCzAYjRswG00rMB4NOzAQzVswE41rMBZNezAZDYswG82bMB6NqzARTcswFA3bMBbN6zAZjfswHE4LMB8OGzARzjswFI5LMBdOWzAaDmswHM57MB+OizASTqswFQ67MBfOyzAajtswHU7rMBAPCzASzxswFY8rMBhPOzAbD0swHc9bMBCPezATT4swFg+bMBjPqzAbj7swHk/LMBEP6zATz/swFoALQBlAG0AcACtAHsA7QBGAW0AUQGtAFwB7QBnAi0AcgJtAH0CrQBIAy0AUwNtAF4DrQBpA+0AdAQtAH8EbQBKBO0AVQUtAGAFbQBrBa0AdgXtAEEGbQB\",\"dtype\":\"int32\",\"order\":\"little\",\"shape\":[201]},\"variant_midpoint\":{\"__ndarray__\":\"Dy6zATsvswFnMLMBkzGzAb8yswHrM7MBFzWzAUM2swFvN7MBmzizAcc5swHzOrMBHzyzAUs9swF3PrMBoz+zAc9AswH7QbMBJ0OzAVNEswF/RbMBq0azAddHswEDSbMBL0qzAVtLswGHTLMBs02zAd9OswELULMBN1GzAWNSswGPU7MBu1SzAedVswETV7MBP1izAWtZswGXWrMBw1uzAe9cswEbXrMBR1+zAXNgswGfYbMBy2KzAfdjswEjZbMBT2azAXtnswGnaLMB02mzAf9qswErbLMBV22zAYNuswGvb7MB23CzAQdyswEzc7MBX3SzAYt1swG3drMB43ezAQ95swE7erMBZ3uzAZN8swG/fbMB636zAReAswFDgbMBb4KzAZuDswHHhLMB84WzAR+HswFLiLMBd4mzAaOKswHPi7MB+4yzASeOswFTj7MBf5CzAauRswHXkrMBA5SzAS+VswFblrMBh5ezAbOYswHfmbMBC5uzATecswFjnbMBj56zAbufswHnoLMBE6KzAT+jswFrpLMBl6WzAcOmswHvp7MBG6mzAUeqswFzq7MBn6yzAcutswH3rrMBI7CzAU+xswF7srMBp7OzAdO0swH/tbMBK7ezAVe4swGDubMBr7qzAdu7swEHvbMBM76zAV+/swGLwLMBt8GzAePCswEPxLMBO8WzAWfGswGTx7MBv8izAevJswEXy7MBQ8yzAW/NswGbzrMBx8+zAfPQswEf0rMBS9OzAXfUswGj1bMBz9azAfvXswEn2bMBU9qzAX/bswGr3LMB192zAQPfswEv4LMBW+GzAYfiswGz47MB3+SzAQvmswE357MBY+izAY/pswG76rMB5+uzARPtswE/7rMBa++zAZfwswHD8bMB7/KzARv0swFH9bMBc/azAZ/3swHL+LMB9/mzASP7swFP/LMBe/2zAaf+swHT/7MB/wC0ASsCtAFXA7QBgwS0Aa8FtAHbBrQBBwi0ATMJtAFfCrQBiwu0AbcMtAHjDbQBDw+0ATsQtAFnEbQBkxK0Ab8TtAHrFLQBFxa0AUMXtAFvGLQB\",\"dtype\":\"int32\",\"order\":\"little\",\"shape\":[201]},\"variant_position\":{\"__ndarray__\":\"eS2zAaUuswHRL7MB/TCzASkyswFVM7MBgTSzAa01swHZNrMBBTizATE5swFdOrMBiTuzAbU8swHhPbMBDT+zATlAswFlQbMBkUKzAb1DswHpRLMBFUazAUFHswFtSLMBmUmzAcVKswHxS7MBHU2zAUlOswF1T7MBoVCzAc1RswH5UrMBJVSzAVFVswF9VrMBqVezAdVYswEBWrMBLVuzAVlcswGFXbMBsV6zAd1fswEJYbMBNWKzAWFjswGNZLMBuWWzAeVmswERaLMBPWmzAWlqswGVa7MBwWyzAe1tswEZb7MBRXCzAXFxswGdcrMByXOzAfV0swEhdrMBTXezAXl4swGlebMB0XqzAf17swEpfbMBVX6zAYF/swGtgLMB2YGzAQWDswExhLMBXYWzAYmGswG1h7MB4YizAQ2KswE5i7MBZYyzAZGNswG9jrMB6Y+zARWRswFBkrMBbZOzAZmUswHFlbMB8ZazAR2YswFJmbMBdZqzAaGbswHNnLMB+Z2zASWfswFRoLMBfaGzAamiswHVo7MBAaWzAS2mswFZp7MBhaizAbGpswHdqrMBCayzATWtswFhrrMBja+zAbmwswHlsbMBEbOzAT20swFptbMBlbazAcG3swHtuLMBGbqzAUW7swFxvLMBnb2zAcm+swH1v7MBIcGzAU3CswF5w7MBpcSzAdHFswH9xrMBKcizAVXJswGByrMBrcuzAdnMswEFzrMBMc+zAV3QswGJ0bMBtdKzAeHTswEN1bMBOdazAWXXswGR2LMBvdmzAenaswEV3LMBQd2zAW3eswGZ37MBxeCzAfHhswEd47MBSeSzAXXlswGh5rMBzeezAfnoswEl6rMBUeuzAX3sswGp7bMB1e6zAQHwswEt8bMBWfKzAYXzswGx9LMB3fWzAQn3swE1+LMBYfmzAY36swG5+7MB5fyzARH+swE9/7MBaQC0AZUBtAHBArQB7QO0ARkFtAFFBrQBcQe0AZ0ItAHJCbQB9Qq0ASEMtAFNDbQBeQ60AaUPtAHRELQB/RG0ASkTtAFVFLQBgRW0Aa0WtAHZF7QB\",\"dtype\":\"int32\",\"order\":\"little\",\"shape\":[201]},\"variants\":[0,1,2,3,4,5,6,7,8,9,10,11,12,13,14,15,16,17,18,19,20,21,22,23,24,25,26,27,28,29,30,31,32,33,34,35,36,37,38,39,40,41,42,43,44,45,46,47,48,49,50,51,52,53,54,55,56,57,58,59,60,61,62,63,64,65,66,67,68,69,70,71,72,73,74,75,76,77,78,79,80,81,82,83,84,85,86,87,88,89,90,91,92,93,94,95,96,97,98,99,100,101,102,103,104,105,106,107,108,109,110,111,112,113,114,115,116,117,118,119,120,121,122,123,124,125,126,127,128,129,130,131,132,133,134,135,136,137,138,139,140,141,142,143,144,145,146,147,148,149,150,151,152,153,154,155,156,157,158,159,160,161,162,163,164,165,166,167,168,169,170,171,172,173,174,175,176,177,178,179,180,181,182,183,184,185,186,187,188,189,190,191,192,193,194,195,196,197,198,199,200]},\"selected\":{\"id\":\"2112\"},\"selection_policy\":{\"id\":\"2111\"}},\"id\":\"2097\",\"type\":\"ColumnDataSource\"},{\"attributes\":{},\"id\":\"2160\",\"type\":\"ResetTool\"}],\"root_ids\":[\"2212\"]},\"title\":\"Bokeh Application\",\"version\":\"2.4.2\"}};\n  const render_items = [{\"docid\":\"c44bbcc2-8fdf-41b9-9b64-e4b8c8bd110b\",\"root_ids\":[\"2212\"],\"roots\":{\"2212\":\"a8d5f7c2-a07f-4e3c-8961-767704c311c9\"}}];\n  root.Bokeh.embed.embed_items_notebook(docs_json, render_items);\n\n  }\n  if (root.Bokeh !== undefined) {\n    embed_document(root);\n  } else {\n    let attempts = 0;\n    const timer = setInterval(function(root) {\n      if (root.Bokeh !== undefined) {\n        clearInterval(timer);\n        embed_document(root);\n      } else {\n        attempts++;\n        if (attempts > 100) {\n          clearInterval(timer);\n          console.log(\"Bokeh: ERROR: Unable to run BokehJS code because BokehJS library is missing\");\n        }\n      }\n    }, 10, root)\n  }\n})(window);",
      "application/vnd.bokehjs_exec.v0+json": ""
     },
     "metadata": {
      "application/vnd.bokehjs_exec.v0+json": {
       "id": "2212"
      }
     },
     "output_type": "display_data"
    },
    {
     "data": {
      "text/html": [
       "\n",
       "\n",
       "\n",
       "\n",
       "\n",
       "\n",
       "  <div class=\"bk-root\" id=\"4c6b3900-1f18-4099-aaa4-91ffae079e44\" data-root-id=\"2518\"></div>\n"
      ]
     },
     "metadata": {},
     "output_type": "display_data"
    },
    {
     "data": {
      "application/javascript": "(function(root) {\n  function embed_document(root) {\n    \n  const docs_json = {\"f799b1ad-357e-430b-900c-bcf1682debd0\":{\"defs\":[],\"roots\":{\"references\":[{\"attributes\":{\"children\":[{\"id\":\"2517\"},{\"id\":\"2515\"}]},\"id\":\"2518\",\"type\":\"Column\"},{\"attributes\":{\"dimensions\":\"width\"},\"id\":\"2394\",\"type\":\"ZoomInTool\"},{\"attributes\":{},\"id\":\"2451\",\"type\":\"LinearScale\"},{\"attributes\":{\"label\":{\"value\":\"Coverage\"},\"renderers\":[{\"id\":\"2408\"}]},\"id\":\"2420\",\"type\":\"LegendItem\"},{\"attributes\":{},\"id\":\"2412\",\"type\":\"BasicTickFormatter\"},{\"attributes\":{\"bottom\":{\"field\":\"bottom\"},\"fill_alpha\":{\"value\":0.2},\"fill_color\":{\"value\":\"#1f77b4\"},\"hatch_alpha\":{\"value\":0.2},\"left\":{\"field\":\"start\"},\"line_alpha\":{\"value\":0.2},\"line_color\":{\"value\":\"#1f77b4\"},\"line_width\":{\"value\":0.5},\"right\":{\"field\":\"end\"},\"top\":{\"field\":\"top\"}},\"id\":\"2489\",\"type\":\"Quad\"},{\"attributes\":{\"dimensions\":\"width\"},\"id\":\"2395\",\"type\":\"ZoomOutTool\"},{\"attributes\":{\"source\":{\"id\":\"2403\"}},\"id\":\"2409\",\"type\":\"CDSView\"},{\"attributes\":{\"fill_color\":{\"value\":null},\"line_width\":{\"value\":0.5},\"size\":{\"value\":3},\"x\":{\"field\":\"variant_midpoint\"},\"y\":{\"field\":\"call_NormCov\"}},\"id\":\"2405\",\"type\":\"Circle\"},{\"attributes\":{\"dimensions\":\"width\"},\"id\":\"2393\",\"type\":\"PanTool\"},{\"attributes\":{},\"id\":\"2453\",\"type\":\"LinearScale\"},{\"attributes\":{\"fill_alpha\":{\"value\":0.1},\"fill_color\":{\"value\":null},\"hatch_alpha\":{\"value\":0.1},\"line_alpha\":{\"value\":0.1},\"line_width\":{\"value\":0.5},\"size\":{\"value\":3},\"x\":{\"field\":\"variant_midpoint\"},\"y\":{\"field\":\"call_NormCov\"}},\"id\":\"2406\",\"type\":\"Circle\"},{\"attributes\":{},\"id\":\"2396\",\"type\":\"ResetTool\"},{\"attributes\":{\"bottom\":{\"field\":\"bottom\"},\"fill_alpha\":{\"value\":0.1},\"fill_color\":{\"value\":\"#1f77b4\"},\"hatch_alpha\":{\"value\":0.1},\"left\":{\"field\":\"start\"},\"line_alpha\":{\"value\":0.1},\"line_color\":{\"value\":\"#1f77b4\"},\"line_width\":{\"value\":0.5},\"right\":{\"field\":\"end\"},\"top\":{\"field\":\"top\"}},\"id\":\"2488\",\"type\":\"Quad\"},{\"attributes\":{},\"id\":\"2513\",\"type\":\"Selection\"},{\"attributes\":{\"toolbars\":[{\"id\":\"2397\"},{\"id\":\"2469\"}],\"tools\":[{\"id\":\"2374\"},{\"id\":\"2393\"},{\"id\":\"2394\"},{\"id\":\"2395\"},{\"id\":\"2396\"},{\"id\":\"2444\"},{\"id\":\"2463\"},{\"id\":\"2464\"},{\"id\":\"2465\"},{\"id\":\"2466\"},{\"id\":\"2467\"},{\"id\":\"2468\"}]},\"id\":\"2516\",\"type\":\"ProxyToolbar\"},{\"attributes\":{\"bottom\":{\"field\":\"bottom\"},\"fill_alpha\":{\"value\":0.5},\"fill_color\":{\"value\":\"#1f77b4\"},\"left\":{\"field\":\"start\"},\"line_color\":{\"value\":\"#1f77b4\"},\"line_width\":{\"value\":0.5},\"right\":{\"field\":\"end\"},\"top\":{\"field\":\"top\"}},\"id\":\"2487\",\"type\":\"Quad\"},{\"attributes\":{\"coordinates\":null,\"data_source\":{\"id\":\"2403\"},\"glyph\":{\"id\":\"2405\"},\"group\":null,\"hover_glyph\":null,\"muted_glyph\":{\"id\":\"2407\"},\"nonselection_glyph\":{\"id\":\"2406\"},\"view\":{\"id\":\"2409\"}},\"id\":\"2408\",\"type\":\"GlyphRenderer\"},{\"attributes\":{\"coordinates\":null,\"group\":null,\"items\":[{\"id\":\"2420\"},{\"id\":\"2439\"}]},\"id\":\"2419\",\"type\":\"Legend\"},{\"attributes\":{},\"id\":\"2383\",\"type\":\"LinearScale\"},{\"attributes\":{\"axis_label\":\"Copy number\",\"coordinates\":null,\"formatter\":{\"id\":\"2412\"},\"group\":null,\"major_label_policy\":{\"id\":\"2413\"},\"ticker\":{\"id\":\"2440\"}},\"id\":\"2389\",\"type\":\"LinearAxis\"},{\"attributes\":{\"axis\":{\"id\":\"2389\"},\"coordinates\":null,\"dimension\":1,\"group\":null,\"ticker\":null},\"id\":\"2392\",\"type\":\"Grid\"},{\"attributes\":{},\"id\":\"2386\",\"type\":\"BasicTicker\"},{\"attributes\":{\"axis\":{\"id\":\"2385\"},\"coordinates\":null,\"group\":null,\"ticker\":null},\"id\":\"2388\",\"type\":\"Grid\"},{\"attributes\":{},\"id\":\"2512\",\"type\":\"UnionRenderers\"},{\"attributes\":{\"below\":[{\"id\":\"2455\"}],\"center\":[{\"id\":\"2458\"},{\"id\":\"2462\"}],\"height\":120,\"left\":[{\"id\":\"2459\"}],\"renderers\":[{\"id\":\"2490\"}],\"title\":{\"id\":\"2446\"},\"toolbar\":{\"id\":\"2469\"},\"toolbar_location\":null,\"width\":800,\"x_range\":{\"id\":\"2373\"},\"x_scale\":{\"id\":\"2451\"},\"y_range\":{\"id\":\"2492\"},\"y_scale\":{\"id\":\"2453\"}},\"id\":\"2445\",\"subtype\":\"Figure\",\"type\":\"Plot\"},{\"attributes\":{\"axis_label\":\"Contig 2L position (bp)\",\"coordinates\":null,\"formatter\":{\"id\":\"2442\"},\"group\":null,\"major_label_policy\":{\"id\":\"2416\"},\"ticker\":{\"id\":\"2386\"},\"visible\":false},\"id\":\"2385\",\"type\":\"LinearAxis\"},{\"attributes\":{\"below\":[{\"id\":\"2385\"}],\"center\":[{\"id\":\"2388\"},{\"id\":\"2392\"},{\"id\":\"2419\"}],\"height\":170,\"left\":[{\"id\":\"2389\"}],\"renderers\":[{\"id\":\"2408\"},{\"id\":\"2426\"}],\"right\":[{\"id\":\"2419\"}],\"title\":{\"id\":\"2376\"},\"toolbar\":{\"id\":\"2397\"},\"toolbar_location\":null,\"width\":800,\"x_range\":{\"id\":\"2373\"},\"x_scale\":{\"id\":\"2381\"},\"y_range\":{\"id\":\"2379\"},\"y_scale\":{\"id\":\"2383\"}},\"id\":\"2375\",\"subtype\":\"Figure\",\"type\":\"Plot\"},{\"attributes\":{\"coordinates\":null,\"data_source\":{\"id\":\"2485\"},\"glyph\":{\"id\":\"2487\"},\"group\":null,\"hover_glyph\":null,\"muted_glyph\":{\"id\":\"2489\"},\"nonselection_glyph\":{\"id\":\"2488\"},\"view\":{\"id\":\"2491\"}},\"id\":\"2490\",\"type\":\"GlyphRenderer\"},{\"attributes\":{\"active_drag\":{\"id\":\"2393\"},\"active_scroll\":{\"id\":\"2374\"},\"tools\":[{\"id\":\"2374\"},{\"id\":\"2393\"},{\"id\":\"2394\"},{\"id\":\"2395\"},{\"id\":\"2396\"}]},\"id\":\"2397\",\"type\":\"Toolbar\"},{\"attributes\":{\"dimensions\":\"width\",\"maintain_focus\":false},\"id\":\"2444\",\"type\":\"WheelZoomTool\"},{\"attributes\":{\"source\":{\"id\":\"2421\"}},\"id\":\"2427\",\"type\":\"CDSView\"},{\"attributes\":{\"coordinates\":null,\"group\":null,\"text\":\"Genes\"},\"id\":\"2446\",\"type\":\"Title\"},{\"attributes\":{\"data\":{\"call_CN\":{\"__ndarray__\":\"AgICAgICAgICAgICAgICAgICAgICAgICAgICAgICAgICAgICAgICAgICAgICAgICAgICAgMDAwMDAwMDAwMDAwMDAwMDAwMDAwMDAwMDAwMDAwMDAwMDAwMDAwMDAwMDAwMDAwMDAwMDAwMDAwMDAwMDAwMDAwMDAwMDAwMDAwMDAwMDAwMDAwMDAwMDAwMDAwMDAwMDAwMDAwMDAwMDAwMDAwMDAwMDAwMDAwMCAgICAgICAgICAgICAgICAgICAgICAgICAgIC\",\"dtype\":\"int8\",\"order\":\"little\",\"shape\":[201]},\"call_NormCov\":{\"__ndarray__\":\"AAAAQAAAAEBokd0/sp0HQB1a9D9t5wNAXrrJP/Yo/D8AAABAJQbhPx1a9D8dWvQ/SOEiQNEiE0ACK2dAc2jhP3No4T8Sg/A/jZceQO58T0CPwgVAtMjmPwRWzj/HSw9AvHQLQGiRzT/VeAk/hxZZP+XQwj/LoSVAx0sPQOOlC0BEi+w/AABAQOOlC0ASg/A/8KfGPx1a9D+F6wFA8tIFQJzE8D/fTxVAJQbhP6Aazz9okd0/d75HQBKD8D+HFsk/XrrZP3sUPkAAAABAbeerPzm0aEAv3SRAx0sXQLTIJkDD9SBA8tJFQJMYPECwcnhA/KkxQFg5PEAOLTpAAAAgQLByGEDBygFAWmRTQAAAIECiRTZA3SQ+QEjhIkBMNxlAhetBQItsN0AhsCpAHVo0QFg5XEDdJD5ASgwqQMUgOEBzaGlA3SReQD0KT0A1XlpA309VQEjhMkAdWjRAbedDQKJFNkBokU1A46VLQIlBOECTGDxAsHIgQCuHokAAAEBASOEiQIlBUECTGDxAEFgxQLgeHUBeuklAkxg8QD0KP0AhsCpAIbAqQLgePUBWDjVAeemCQD0Kb0DfT1VAmG4yQH9qjEDfT1VA+n5KQIXrQUAdWnRAPQpvQN0kXkBeuoVAqMZDQCuHbkB7FH5AhxZpQHsUPkAhsCpA+n5KQD0KD0A1XhpAtMgmQM/3K0DRIhtAzcxEQOOlS0BI4SJADi1KQAwCa0DjpUtAfT9lQMP1cEDZzoNADAJrQEjhgkBQjSdAfT89QIGVM0B7FD5AexQ+QEjhYkB7FD5AhetBQLgeJUD6fkpANV4iQC/dJEB7FD5AMQhUQM3MRECTGBRAgZUzQDVeIkBeuglAtMgmQNEiE0Bt5ytAfT9lQFg5kEDRIrtANV4aQBKDMECoxkNAWmRTQCPbIUBCYNU/JzH4P+xR+D/jpQtApHDtP8P1EEAGgTVAd74vQD0KH0DdJD5AEoPwP3sU3j9Qjcc/jZfeP4PAGkBokQ1A4Xr0P4XrAUBeuglAcT26P0w32T+BlbM/becDQNV46T+F6+E/N4kJQLpJ/D9Ei+w/\",\"dtype\":\"float32\",\"order\":\"little\",\"shape\":[201]},\"samples\":[\"BL0276-C\",\"BL0276-C\",\"BL0276-C\",\"BL0276-C\",\"BL0276-C\",\"BL0276-C\",\"BL0276-C\",\"BL0276-C\",\"BL0276-C\",\"BL0276-C\",\"BL0276-C\",\"BL0276-C\",\"BL0276-C\",\"BL0276-C\",\"BL0276-C\",\"BL0276-C\",\"BL0276-C\",\"BL0276-C\",\"BL0276-C\",\"BL0276-C\",\"BL0276-C\",\"BL0276-C\",\"BL0276-C\",\"BL0276-C\",\"BL0276-C\",\"BL0276-C\",\"BL0276-C\",\"BL0276-C\",\"BL0276-C\",\"BL0276-C\",\"BL0276-C\",\"BL0276-C\",\"BL0276-C\",\"BL0276-C\",\"BL0276-C\",\"BL0276-C\",\"BL0276-C\",\"BL0276-C\",\"BL0276-C\",\"BL0276-C\",\"BL0276-C\",\"BL0276-C\",\"BL0276-C\",\"BL0276-C\",\"BL0276-C\",\"BL0276-C\",\"BL0276-C\",\"BL0276-C\",\"BL0276-C\",\"BL0276-C\",\"BL0276-C\",\"BL0276-C\",\"BL0276-C\",\"BL0276-C\",\"BL0276-C\",\"BL0276-C\",\"BL0276-C\",\"BL0276-C\",\"BL0276-C\",\"BL0276-C\",\"BL0276-C\",\"BL0276-C\",\"BL0276-C\",\"BL0276-C\",\"BL0276-C\",\"BL0276-C\",\"BL0276-C\",\"BL0276-C\",\"BL0276-C\",\"BL0276-C\",\"BL0276-C\",\"BL0276-C\",\"BL0276-C\",\"BL0276-C\",\"BL0276-C\",\"BL0276-C\",\"BL0276-C\",\"BL0276-C\",\"BL0276-C\",\"BL0276-C\",\"BL0276-C\",\"BL0276-C\",\"BL0276-C\",\"BL0276-C\",\"BL0276-C\",\"BL0276-C\",\"BL0276-C\",\"BL0276-C\",\"BL0276-C\",\"BL0276-C\",\"BL0276-C\",\"BL0276-C\",\"BL0276-C\",\"BL0276-C\",\"BL0276-C\",\"BL0276-C\",\"BL0276-C\",\"BL0276-C\",\"BL0276-C\",\"BL0276-C\",\"BL0276-C\",\"BL0276-C\",\"BL0276-C\",\"BL0276-C\",\"BL0276-C\",\"BL0276-C\",\"BL0276-C\",\"BL0276-C\",\"BL0276-C\",\"BL0276-C\",\"BL0276-C\",\"BL0276-C\",\"BL0276-C\",\"BL0276-C\",\"BL0276-C\",\"BL0276-C\",\"BL0276-C\",\"BL0276-C\",\"BL0276-C\",\"BL0276-C\",\"BL0276-C\",\"BL0276-C\",\"BL0276-C\",\"BL0276-C\",\"BL0276-C\",\"BL0276-C\",\"BL0276-C\",\"BL0276-C\",\"BL0276-C\",\"BL0276-C\",\"BL0276-C\",\"BL0276-C\",\"BL0276-C\",\"BL0276-C\",\"BL0276-C\",\"BL0276-C\",\"BL0276-C\",\"BL0276-C\",\"BL0276-C\",\"BL0276-C\",\"BL0276-C\",\"BL0276-C\",\"BL0276-C\",\"BL0276-C\",\"BL0276-C\",\"BL0276-C\",\"BL0276-C\",\"BL0276-C\",\"BL0276-C\",\"BL0276-C\",\"BL0276-C\",\"BL0276-C\",\"BL0276-C\",\"BL0276-C\",\"BL0276-C\",\"BL0276-C\",\"BL0276-C\",\"BL0276-C\",\"BL0276-C\",\"BL0276-C\",\"BL0276-C\",\"BL0276-C\",\"BL0276-C\",\"BL0276-C\",\"BL0276-C\",\"BL0276-C\",\"BL0276-C\",\"BL0276-C\",\"BL0276-C\",\"BL0276-C\",\"BL0276-C\",\"BL0276-C\",\"BL0276-C\",\"BL0276-C\",\"BL0276-C\",\"BL0276-C\",\"BL0276-C\",\"BL0276-C\",\"BL0276-C\",\"BL0276-C\",\"BL0276-C\",\"BL0276-C\",\"BL0276-C\",\"BL0276-C\",\"BL0276-C\",\"BL0276-C\",\"BL0276-C\",\"BL0276-C\",\"BL0276-C\",\"BL0276-C\",\"BL0276-C\",\"BL0276-C\",\"BL0276-C\",\"BL0276-C\",\"BL0276-C\",\"BL0276-C\",\"BL0276-C\",\"BL0276-C\",\"BL0276-C\",\"BL0276-C\",\"BL0276-C\"],\"variant_contig\":{\"__ndarray__\":\"AQEBAQEBAQEBAQEBAQEBAQEBAQEBAQEBAQEBAQEBAQEBAQEBAQEBAQEBAQEBAQEBAQEBAQEBAQEBAQEBAQEBAQEBAQEBAQEBAQEBAQEBAQEBAQEBAQEBAQEBAQEBAQEBAQEBAQEBAQEBAQEBAQEBAQEBAQEBAQEBAQEBAQEBAQEBAQEBAQEBAQEBAQEBAQEBAQEBAQEBAQEBAQEBAQEBAQEBAQEBAQEBAQEBAQEBAQEBAQEBAQEBAQEBAQEBAQEBAQEBAQEBAQEB\",\"dtype\":\"uint8\",\"order\":\"little\",\"shape\":[201]},\"variant_end\":{\"__ndarray__\":\"pC6zAdAvswH8MLMBKDKzAVQzswGANLMBrDWzAdg2swEEOLMBMDmzAVw6swGIO7MBtDyzAeA9swEMP7MBOECzAWRBswGQQrMBvEOzAehEswEURrMBQEezAWxIswGYSbMBxEqzAfBLswEcTbMBSE6zAXRPswGgULMBzFGzAfhSswEkVLMBUFWzAXxWswGoV7MB1FizAQBaswEsW7MBWFyzAYRdswGwXrMB3F+zAQhhswE0YrMBYGOzAYxkswG4ZbMB5GazARBoswE8abMBaGqzAZRrswHAbLMB7G2zARhvswFEcLMBcHGzAZxyswHIc7MB9HSzASB2swFMd7MBeHizAaR5swHQerMB/HuzASh9swFUfrMBgH+zAayAswHYgbMBBIOzATCEswFchbMBiIazAbSHswHgiLMBDIqzATiLswFkjLMBkI2zAbyOswHoj7MBFJGzAUCSswFsk7MBmJSzAcSVswHwlrMBHJizAUiZswF0mrMBoJuzAcycswH4nbMBJJ+zAVCgswF8obMBqKKzAdSjswEApbMBLKazAVinswGEqLMBsKmzAdyqswEIrLMBNK2zAWCuswGMr7MBuLCzAeSxswEQs7MBPLSzAWi1swGUtrMBwLezAey4swEYurMBRLuzAXC8swGcvbMByL6zAfS/swEgwbMBTMKzAXjDswGkxLMB0MWzAfzGswEoyLMBVMmzAYDKswGsy7MB2MyzAQTOswEwz7MBXNCzAYjRswG00rMB4NOzAQzVswE41rMBZNezAZDYswG82bMB6NqzARTcswFA3bMBbN6zAZjfswHE4LMB8OGzARzjswFI5LMBdOWzAaDmswHM57MB+OizASTqswFQ67MBfOyzAajtswHU7rMBAPCzASzxswFY8rMBhPOzAbD0swHc9bMBCPezATT4swFg+bMBjPqzAbj7swHk/LMBEP6zATz/swFoALQBlAG0AcACtAHsA7QBGAW0AUQGtAFwB7QBnAi0AcgJtAH0CrQBIAy0AUwNtAF4DrQBpA+0AdAQtAH8EbQBKBO0AVQUtAGAFbQBrBa0AdgXtAEEGbQB\",\"dtype\":\"int32\",\"order\":\"little\",\"shape\":[201]},\"variant_midpoint\":{\"__ndarray__\":\"Dy6zATsvswFnMLMBkzGzAb8yswHrM7MBFzWzAUM2swFvN7MBmzizAcc5swHzOrMBHzyzAUs9swF3PrMBoz+zAc9AswH7QbMBJ0OzAVNEswF/RbMBq0azAddHswEDSbMBL0qzAVtLswGHTLMBs02zAd9OswELULMBN1GzAWNSswGPU7MBu1SzAedVswETV7MBP1izAWtZswGXWrMBw1uzAe9cswEbXrMBR1+zAXNgswGfYbMBy2KzAfdjswEjZbMBT2azAXtnswGnaLMB02mzAf9qswErbLMBV22zAYNuswGvb7MB23CzAQdyswEzc7MBX3SzAYt1swG3drMB43ezAQ95swE7erMBZ3uzAZN8swG/fbMB636zAReAswFDgbMBb4KzAZuDswHHhLMB84WzAR+HswFLiLMBd4mzAaOKswHPi7MB+4yzASeOswFTj7MBf5CzAauRswHXkrMBA5SzAS+VswFblrMBh5ezAbOYswHfmbMBC5uzATecswFjnbMBj56zAbufswHnoLMBE6KzAT+jswFrpLMBl6WzAcOmswHvp7MBG6mzAUeqswFzq7MBn6yzAcutswH3rrMBI7CzAU+xswF7srMBp7OzAdO0swH/tbMBK7ezAVe4swGDubMBr7qzAdu7swEHvbMBM76zAV+/swGLwLMBt8GzAePCswEPxLMBO8WzAWfGswGTx7MBv8izAevJswEXy7MBQ8yzAW/NswGbzrMBx8+zAfPQswEf0rMBS9OzAXfUswGj1bMBz9azAfvXswEn2bMBU9qzAX/bswGr3LMB192zAQPfswEv4LMBW+GzAYfiswGz47MB3+SzAQvmswE357MBY+izAY/pswG76rMB5+uzARPtswE/7rMBa++zAZfwswHD8bMB7/KzARv0swFH9bMBc/azAZ/3swHL+LMB9/mzASP7swFP/LMBe/2zAaf+swHT/7MB/wC0ASsCtAFXA7QBgwS0Aa8FtAHbBrQBBwi0ATMJtAFfCrQBiwu0AbcMtAHjDbQBDw+0ATsQtAFnEbQBkxK0Ab8TtAHrFLQBFxa0AUMXtAFvGLQB\",\"dtype\":\"int32\",\"order\":\"little\",\"shape\":[201]},\"variant_position\":{\"__ndarray__\":\"eS2zAaUuswHRL7MB/TCzASkyswFVM7MBgTSzAa01swHZNrMBBTizATE5swFdOrMBiTuzAbU8swHhPbMBDT+zATlAswFlQbMBkUKzAb1DswHpRLMBFUazAUFHswFtSLMBmUmzAcVKswHxS7MBHU2zAUlOswF1T7MBoVCzAc1RswH5UrMBJVSzAVFVswF9VrMBqVezAdVYswEBWrMBLVuzAVlcswGFXbMBsV6zAd1fswEJYbMBNWKzAWFjswGNZLMBuWWzAeVmswERaLMBPWmzAWlqswGVa7MBwWyzAe1tswEZb7MBRXCzAXFxswGdcrMByXOzAfV0swEhdrMBTXezAXl4swGlebMB0XqzAf17swEpfbMBVX6zAYF/swGtgLMB2YGzAQWDswExhLMBXYWzAYmGswG1h7MB4YizAQ2KswE5i7MBZYyzAZGNswG9jrMB6Y+zARWRswFBkrMBbZOzAZmUswHFlbMB8ZazAR2YswFJmbMBdZqzAaGbswHNnLMB+Z2zASWfswFRoLMBfaGzAamiswHVo7MBAaWzAS2mswFZp7MBhaizAbGpswHdqrMBCayzATWtswFhrrMBja+zAbmwswHlsbMBEbOzAT20swFptbMBlbazAcG3swHtuLMBGbqzAUW7swFxvLMBnb2zAcm+swH1v7MBIcGzAU3CswF5w7MBpcSzAdHFswH9xrMBKcizAVXJswGByrMBrcuzAdnMswEFzrMBMc+zAV3QswGJ0bMBtdKzAeHTswEN1bMBOdazAWXXswGR2LMBvdmzAenaswEV3LMBQd2zAW3eswGZ37MBxeCzAfHhswEd47MBSeSzAXXlswGh5rMBzeezAfnoswEl6rMBUeuzAX3sswGp7bMB1e6zAQHwswEt8bMBWfKzAYXzswGx9LMB3fWzAQn3swE1+LMBYfmzAY36swG5+7MB5fyzARH+swE9/7MBaQC0AZUBtAHBArQB7QO0ARkFtAFFBrQBcQe0AZ0ItAHJCbQB9Qq0ASEMtAFNDbQBeQ60AaUPtAHRELQB/RG0ASkTtAFVFLQBgRW0Aa0WtAHZF7QB\",\"dtype\":\"int32\",\"order\":\"little\",\"shape\":[201]},\"variants\":[0,1,2,3,4,5,6,7,8,9,10,11,12,13,14,15,16,17,18,19,20,21,22,23,24,25,26,27,28,29,30,31,32,33,34,35,36,37,38,39,40,41,42,43,44,45,46,47,48,49,50,51,52,53,54,55,56,57,58,59,60,61,62,63,64,65,66,67,68,69,70,71,72,73,74,75,76,77,78,79,80,81,82,83,84,85,86,87,88,89,90,91,92,93,94,95,96,97,98,99,100,101,102,103,104,105,106,107,108,109,110,111,112,113,114,115,116,117,118,119,120,121,122,123,124,125,126,127,128,129,130,131,132,133,134,135,136,137,138,139,140,141,142,143,144,145,146,147,148,149,150,151,152,153,154,155,156,157,158,159,160,161,162,163,164,165,166,167,168,169,170,171,172,173,174,175,176,177,178,179,180,181,182,183,184,185,186,187,188,189,190,191,192,193,194,195,196,197,198,199,200]},\"selected\":{\"id\":\"2418\"},\"selection_policy\":{\"id\":\"2417\"}},\"id\":\"2403\",\"type\":\"ColumnDataSource\"},{\"attributes\":{\"coordinates\":null,\"group\":null,\"text\":\"CNV HMM - BL0276-C (AG1000G-TZ)\"},\"id\":\"2376\",\"type\":\"Title\"},{\"attributes\":{\"end\":5},\"id\":\"2379\",\"type\":\"Range1d\"},{\"attributes\":{\"ticks\":[0.4,1.4]},\"id\":\"2493\",\"type\":\"FixedTicker\"},{\"attributes\":{},\"id\":\"2495\",\"type\":\"NumeralTickFormatter\"},{\"attributes\":{\"fill_alpha\":{\"value\":0.2},\"fill_color\":{\"value\":null},\"hatch_alpha\":{\"value\":0.2},\"line_alpha\":{\"value\":0.2},\"line_width\":{\"value\":0.5},\"size\":{\"value\":3},\"x\":{\"field\":\"variant_midpoint\"},\"y\":{\"field\":\"call_NormCov\"}},\"id\":\"2407\",\"type\":\"Circle\"},{\"attributes\":{},\"id\":\"2381\",\"type\":\"LinearScale\"},{\"attributes\":{\"axis\":{\"id\":\"2459\"},\"coordinates\":null,\"dimension\":1,\"group\":null,\"ticker\":null,\"visible\":false},\"id\":\"2462\",\"type\":\"Grid\"},{\"attributes\":{\"line_alpha\":0.1,\"line_color\":\"#1f77b4\",\"line_width\":2,\"x\":{\"field\":\"variant_midpoint\"},\"y\":{\"field\":\"call_CN\"}},\"id\":\"2424\",\"type\":\"Line\"},{\"attributes\":{\"bounds\":\"auto\",\"end\":28580100,\"start\":28519801},\"id\":\"2373\",\"type\":\"Range1d\"},{\"attributes\":{\"data\":{\"call_CN\":{\"__ndarray__\":\"AgICAgICAgICAgICAgICAgICAgICAgICAgICAgICAgICAgICAgICAgICAgICAgICAgICAgMDAwMDAwMDAwMDAwMDAwMDAwMDAwMDAwMDAwMDAwMDAwMDAwMDAwMDAwMDAwMDAwMDAwMDAwMDAwMDAwMDAwMDAwMDAwMDAwMDAwMDAwMDAwMDAwMDAwMDAwMDAwMDAwMDAwMDAwMDAwMDAwMDAwMDAwMDAwMDAwMCAgICAgICAgICAgICAgICAgICAgICAgICAgIC\",\"dtype\":\"int8\",\"order\":\"little\",\"shape\":[201]},\"call_NormCov\":{\"__ndarray__\":\"AAAAQAAAAEBokd0/sp0HQB1a9D9t5wNAXrrJP/Yo/D8AAABAJQbhPx1a9D8dWvQ/SOEiQNEiE0ACK2dAc2jhP3No4T8Sg/A/jZceQO58T0CPwgVAtMjmPwRWzj/HSw9AvHQLQGiRzT/VeAk/hxZZP+XQwj/LoSVAx0sPQOOlC0BEi+w/AABAQOOlC0ASg/A/8KfGPx1a9D+F6wFA8tIFQJzE8D/fTxVAJQbhP6Aazz9okd0/d75HQBKD8D+HFsk/XrrZP3sUPkAAAABAbeerPzm0aEAv3SRAx0sXQLTIJkDD9SBA8tJFQJMYPECwcnhA/KkxQFg5PEAOLTpAAAAgQLByGEDBygFAWmRTQAAAIECiRTZA3SQ+QEjhIkBMNxlAhetBQItsN0AhsCpAHVo0QFg5XEDdJD5ASgwqQMUgOEBzaGlA3SReQD0KT0A1XlpA309VQEjhMkAdWjRAbedDQKJFNkBokU1A46VLQIlBOECTGDxAsHIgQCuHokAAAEBASOEiQIlBUECTGDxAEFgxQLgeHUBeuklAkxg8QD0KP0AhsCpAIbAqQLgePUBWDjVAeemCQD0Kb0DfT1VAmG4yQH9qjEDfT1VA+n5KQIXrQUAdWnRAPQpvQN0kXkBeuoVAqMZDQCuHbkB7FH5AhxZpQHsUPkAhsCpA+n5KQD0KD0A1XhpAtMgmQM/3K0DRIhtAzcxEQOOlS0BI4SJADi1KQAwCa0DjpUtAfT9lQMP1cEDZzoNADAJrQEjhgkBQjSdAfT89QIGVM0B7FD5AexQ+QEjhYkB7FD5AhetBQLgeJUD6fkpANV4iQC/dJEB7FD5AMQhUQM3MRECTGBRAgZUzQDVeIkBeuglAtMgmQNEiE0Bt5ytAfT9lQFg5kEDRIrtANV4aQBKDMECoxkNAWmRTQCPbIUBCYNU/JzH4P+xR+D/jpQtApHDtP8P1EEAGgTVAd74vQD0KH0DdJD5AEoPwP3sU3j9Qjcc/jZfeP4PAGkBokQ1A4Xr0P4XrAUBeuglAcT26P0w32T+BlbM/becDQNV46T+F6+E/N4kJQLpJ/D9Ei+w/\",\"dtype\":\"float32\",\"order\":\"little\",\"shape\":[201]},\"samples\":[\"BL0276-C\",\"BL0276-C\",\"BL0276-C\",\"BL0276-C\",\"BL0276-C\",\"BL0276-C\",\"BL0276-C\",\"BL0276-C\",\"BL0276-C\",\"BL0276-C\",\"BL0276-C\",\"BL0276-C\",\"BL0276-C\",\"BL0276-C\",\"BL0276-C\",\"BL0276-C\",\"BL0276-C\",\"BL0276-C\",\"BL0276-C\",\"BL0276-C\",\"BL0276-C\",\"BL0276-C\",\"BL0276-C\",\"BL0276-C\",\"BL0276-C\",\"BL0276-C\",\"BL0276-C\",\"BL0276-C\",\"BL0276-C\",\"BL0276-C\",\"BL0276-C\",\"BL0276-C\",\"BL0276-C\",\"BL0276-C\",\"BL0276-C\",\"BL0276-C\",\"BL0276-C\",\"BL0276-C\",\"BL0276-C\",\"BL0276-C\",\"BL0276-C\",\"BL0276-C\",\"BL0276-C\",\"BL0276-C\",\"BL0276-C\",\"BL0276-C\",\"BL0276-C\",\"BL0276-C\",\"BL0276-C\",\"BL0276-C\",\"BL0276-C\",\"BL0276-C\",\"BL0276-C\",\"BL0276-C\",\"BL0276-C\",\"BL0276-C\",\"BL0276-C\",\"BL0276-C\",\"BL0276-C\",\"BL0276-C\",\"BL0276-C\",\"BL0276-C\",\"BL0276-C\",\"BL0276-C\",\"BL0276-C\",\"BL0276-C\",\"BL0276-C\",\"BL0276-C\",\"BL0276-C\",\"BL0276-C\",\"BL0276-C\",\"BL0276-C\",\"BL0276-C\",\"BL0276-C\",\"BL0276-C\",\"BL0276-C\",\"BL0276-C\",\"BL0276-C\",\"BL0276-C\",\"BL0276-C\",\"BL0276-C\",\"BL0276-C\",\"BL0276-C\",\"BL0276-C\",\"BL0276-C\",\"BL0276-C\",\"BL0276-C\",\"BL0276-C\",\"BL0276-C\",\"BL0276-C\",\"BL0276-C\",\"BL0276-C\",\"BL0276-C\",\"BL0276-C\",\"BL0276-C\",\"BL0276-C\",\"BL0276-C\",\"BL0276-C\",\"BL0276-C\",\"BL0276-C\",\"BL0276-C\",\"BL0276-C\",\"BL0276-C\",\"BL0276-C\",\"BL0276-C\",\"BL0276-C\",\"BL0276-C\",\"BL0276-C\",\"BL0276-C\",\"BL0276-C\",\"BL0276-C\",\"BL0276-C\",\"BL0276-C\",\"BL0276-C\",\"BL0276-C\",\"BL0276-C\",\"BL0276-C\",\"BL0276-C\",\"BL0276-C\",\"BL0276-C\",\"BL0276-C\",\"BL0276-C\",\"BL0276-C\",\"BL0276-C\",\"BL0276-C\",\"BL0276-C\",\"BL0276-C\",\"BL0276-C\",\"BL0276-C\",\"BL0276-C\",\"BL0276-C\",\"BL0276-C\",\"BL0276-C\",\"BL0276-C\",\"BL0276-C\",\"BL0276-C\",\"BL0276-C\",\"BL0276-C\",\"BL0276-C\",\"BL0276-C\",\"BL0276-C\",\"BL0276-C\",\"BL0276-C\",\"BL0276-C\",\"BL0276-C\",\"BL0276-C\",\"BL0276-C\",\"BL0276-C\",\"BL0276-C\",\"BL0276-C\",\"BL0276-C\",\"BL0276-C\",\"BL0276-C\",\"BL0276-C\",\"BL0276-C\",\"BL0276-C\",\"BL0276-C\",\"BL0276-C\",\"BL0276-C\",\"BL0276-C\",\"BL0276-C\",\"BL0276-C\",\"BL0276-C\",\"BL0276-C\",\"BL0276-C\",\"BL0276-C\",\"BL0276-C\",\"BL0276-C\",\"BL0276-C\",\"BL0276-C\",\"BL0276-C\",\"BL0276-C\",\"BL0276-C\",\"BL0276-C\",\"BL0276-C\",\"BL0276-C\",\"BL0276-C\",\"BL0276-C\",\"BL0276-C\",\"BL0276-C\",\"BL0276-C\",\"BL0276-C\",\"BL0276-C\",\"BL0276-C\",\"BL0276-C\",\"BL0276-C\",\"BL0276-C\",\"BL0276-C\",\"BL0276-C\",\"BL0276-C\",\"BL0276-C\",\"BL0276-C\",\"BL0276-C\",\"BL0276-C\",\"BL0276-C\",\"BL0276-C\",\"BL0276-C\",\"BL0276-C\",\"BL0276-C\",\"BL0276-C\",\"BL0276-C\"],\"variant_contig\":{\"__ndarray__\":\"AQEBAQEBAQEBAQEBAQEBAQEBAQEBAQEBAQEBAQEBAQEBAQEBAQEBAQEBAQEBAQEBAQEBAQEBAQEBAQEBAQEBAQEBAQEBAQEBAQEBAQEBAQEBAQEBAQEBAQEBAQEBAQEBAQEBAQEBAQEBAQEBAQEBAQEBAQEBAQEBAQEBAQEBAQEBAQEBAQEBAQEBAQEBAQEBAQEBAQEBAQEBAQEBAQEBAQEBAQEBAQEBAQEBAQEBAQEBAQEBAQEBAQEBAQEBAQEBAQEBAQEBAQEB\",\"dtype\":\"uint8\",\"order\":\"little\",\"shape\":[201]},\"variant_end\":{\"__ndarray__\":\"pC6zAdAvswH8MLMBKDKzAVQzswGANLMBrDWzAdg2swEEOLMBMDmzAVw6swGIO7MBtDyzAeA9swEMP7MBOECzAWRBswGQQrMBvEOzAehEswEURrMBQEezAWxIswGYSbMBxEqzAfBLswEcTbMBSE6zAXRPswGgULMBzFGzAfhSswEkVLMBUFWzAXxWswGoV7MB1FizAQBaswEsW7MBWFyzAYRdswGwXrMB3F+zAQhhswE0YrMBYGOzAYxkswG4ZbMB5GazARBoswE8abMBaGqzAZRrswHAbLMB7G2zARhvswFEcLMBcHGzAZxyswHIc7MB9HSzASB2swFMd7MBeHizAaR5swHQerMB/HuzASh9swFUfrMBgH+zAayAswHYgbMBBIOzATCEswFchbMBiIazAbSHswHgiLMBDIqzATiLswFkjLMBkI2zAbyOswHoj7MBFJGzAUCSswFsk7MBmJSzAcSVswHwlrMBHJizAUiZswF0mrMBoJuzAcycswH4nbMBJJ+zAVCgswF8obMBqKKzAdSjswEApbMBLKazAVinswGEqLMBsKmzAdyqswEIrLMBNK2zAWCuswGMr7MBuLCzAeSxswEQs7MBPLSzAWi1swGUtrMBwLezAey4swEYurMBRLuzAXC8swGcvbMByL6zAfS/swEgwbMBTMKzAXjDswGkxLMB0MWzAfzGswEoyLMBVMmzAYDKswGsy7MB2MyzAQTOswEwz7MBXNCzAYjRswG00rMB4NOzAQzVswE41rMBZNezAZDYswG82bMB6NqzARTcswFA3bMBbN6zAZjfswHE4LMB8OGzARzjswFI5LMBdOWzAaDmswHM57MB+OizASTqswFQ67MBfOyzAajtswHU7rMBAPCzASzxswFY8rMBhPOzAbD0swHc9bMBCPezATT4swFg+bMBjPqzAbj7swHk/LMBEP6zATz/swFoALQBlAG0AcACtAHsA7QBGAW0AUQGtAFwB7QBnAi0AcgJtAH0CrQBIAy0AUwNtAF4DrQBpA+0AdAQtAH8EbQBKBO0AVQUtAGAFbQBrBa0AdgXtAEEGbQB\",\"dtype\":\"int32\",\"order\":\"little\",\"shape\":[201]},\"variant_midpoint\":{\"__ndarray__\":\"Dy6zATsvswFnMLMBkzGzAb8yswHrM7MBFzWzAUM2swFvN7MBmzizAcc5swHzOrMBHzyzAUs9swF3PrMBoz+zAc9AswH7QbMBJ0OzAVNEswF/RbMBq0azAddHswEDSbMBL0qzAVtLswGHTLMBs02zAd9OswELULMBN1GzAWNSswGPU7MBu1SzAedVswETV7MBP1izAWtZswGXWrMBw1uzAe9cswEbXrMBR1+zAXNgswGfYbMBy2KzAfdjswEjZbMBT2azAXtnswGnaLMB02mzAf9qswErbLMBV22zAYNuswGvb7MB23CzAQdyswEzc7MBX3SzAYt1swG3drMB43ezAQ95swE7erMBZ3uzAZN8swG/fbMB636zAReAswFDgbMBb4KzAZuDswHHhLMB84WzAR+HswFLiLMBd4mzAaOKswHPi7MB+4yzASeOswFTj7MBf5CzAauRswHXkrMBA5SzAS+VswFblrMBh5ezAbOYswHfmbMBC5uzATecswFjnbMBj56zAbufswHnoLMBE6KzAT+jswFrpLMBl6WzAcOmswHvp7MBG6mzAUeqswFzq7MBn6yzAcutswH3rrMBI7CzAU+xswF7srMBp7OzAdO0swH/tbMBK7ezAVe4swGDubMBr7qzAdu7swEHvbMBM76zAV+/swGLwLMBt8GzAePCswEPxLMBO8WzAWfGswGTx7MBv8izAevJswEXy7MBQ8yzAW/NswGbzrMBx8+zAfPQswEf0rMBS9OzAXfUswGj1bMBz9azAfvXswEn2bMBU9qzAX/bswGr3LMB192zAQPfswEv4LMBW+GzAYfiswGz47MB3+SzAQvmswE357MBY+izAY/pswG76rMB5+uzARPtswE/7rMBa++zAZfwswHD8bMB7/KzARv0swFH9bMBc/azAZ/3swHL+LMB9/mzASP7swFP/LMBe/2zAaf+swHT/7MB/wC0ASsCtAFXA7QBgwS0Aa8FtAHbBrQBBwi0ATMJtAFfCrQBiwu0AbcMtAHjDbQBDw+0ATsQtAFnEbQBkxK0Ab8TtAHrFLQBFxa0AUMXtAFvGLQB\",\"dtype\":\"int32\",\"order\":\"little\",\"shape\":[201]},\"variant_position\":{\"__ndarray__\":\"eS2zAaUuswHRL7MB/TCzASkyswFVM7MBgTSzAa01swHZNrMBBTizATE5swFdOrMBiTuzAbU8swHhPbMBDT+zATlAswFlQbMBkUKzAb1DswHpRLMBFUazAUFHswFtSLMBmUmzAcVKswHxS7MBHU2zAUlOswF1T7MBoVCzAc1RswH5UrMBJVSzAVFVswF9VrMBqVezAdVYswEBWrMBLVuzAVlcswGFXbMBsV6zAd1fswEJYbMBNWKzAWFjswGNZLMBuWWzAeVmswERaLMBPWmzAWlqswGVa7MBwWyzAe1tswEZb7MBRXCzAXFxswGdcrMByXOzAfV0swEhdrMBTXezAXl4swGlebMB0XqzAf17swEpfbMBVX6zAYF/swGtgLMB2YGzAQWDswExhLMBXYWzAYmGswG1h7MB4YizAQ2KswE5i7MBZYyzAZGNswG9jrMB6Y+zARWRswFBkrMBbZOzAZmUswHFlbMB8ZazAR2YswFJmbMBdZqzAaGbswHNnLMB+Z2zASWfswFRoLMBfaGzAamiswHVo7MBAaWzAS2mswFZp7MBhaizAbGpswHdqrMBCayzATWtswFhrrMBja+zAbmwswHlsbMBEbOzAT20swFptbMBlbazAcG3swHtuLMBGbqzAUW7swFxvLMBnb2zAcm+swH1v7MBIcGzAU3CswF5w7MBpcSzAdHFswH9xrMBKcizAVXJswGByrMBrcuzAdnMswEFzrMBMc+zAV3QswGJ0bMBtdKzAeHTswEN1bMBOdazAWXXswGR2LMBvdmzAenaswEV3LMBQd2zAW3eswGZ37MBxeCzAfHhswEd47MBSeSzAXXlswGh5rMBzeezAfnoswEl6rMBUeuzAX3sswGp7bMB1e6zAQHwswEt8bMBWfKzAYXzswGx9LMB3fWzAQn3swE1+LMBYfmzAY36swG5+7MB5fyzARH+swE9/7MBaQC0AZUBtAHBArQB7QO0ARkFtAFFBrQBcQe0AZ0ItAHJCbQB9Qq0ASEMtAFNDbQBeQ60AaUPtAHRELQB/RG0ASkTtAFVFLQBgRW0Aa0WtAHZF7QB\",\"dtype\":\"int32\",\"order\":\"little\",\"shape\":[201]},\"variants\":[0,1,2,3,4,5,6,7,8,9,10,11,12,13,14,15,16,17,18,19,20,21,22,23,24,25,26,27,28,29,30,31,32,33,34,35,36,37,38,39,40,41,42,43,44,45,46,47,48,49,50,51,52,53,54,55,56,57,58,59,60,61,62,63,64,65,66,67,68,69,70,71,72,73,74,75,76,77,78,79,80,81,82,83,84,85,86,87,88,89,90,91,92,93,94,95,96,97,98,99,100,101,102,103,104,105,106,107,108,109,110,111,112,113,114,115,116,117,118,119,120,121,122,123,124,125,126,127,128,129,130,131,132,133,134,135,136,137,138,139,140,141,142,143,144,145,146,147,148,149,150,151,152,153,154,155,156,157,158,159,160,161,162,163,164,165,166,167,168,169,170,171,172,173,174,175,176,177,178,179,180,181,182,183,184,185,186,187,188,189,190,191,192,193,194,195,196,197,198,199,200]},\"selected\":{\"id\":\"2438\"},\"selection_policy\":{\"id\":\"2437\"}},\"id\":\"2421\",\"type\":\"ColumnDataSource\"},{\"attributes\":{\"coordinates\":null,\"data_source\":{\"id\":\"2421\"},\"glyph\":{\"id\":\"2423\"},\"group\":null,\"hover_glyph\":null,\"muted_glyph\":{\"id\":\"2425\"},\"nonselection_glyph\":{\"id\":\"2424\"},\"view\":{\"id\":\"2427\"}},\"id\":\"2426\",\"type\":\"GlyphRenderer\"},{\"attributes\":{},\"id\":\"2418\",\"type\":\"Selection\"},{\"attributes\":{},\"id\":\"2417\",\"type\":\"UnionRenderers\"},{\"attributes\":{},\"id\":\"2413\",\"type\":\"AllLabels\"},{\"attributes\":{},\"id\":\"2437\",\"type\":\"UnionRenderers\"},{\"attributes\":{\"line_color\":\"#1f77b4\",\"line_width\":2,\"x\":{\"field\":\"variant_midpoint\"},\"y\":{\"field\":\"call_CN\"}},\"id\":\"2423\",\"type\":\"Line\"},{\"attributes\":{},\"id\":\"2442\",\"type\":\"NumeralTickFormatter\"},{\"attributes\":{\"ticks\":[0,1,2,3,4,5]},\"id\":\"2440\",\"type\":\"FixedTicker\"},{\"attributes\":{\"toolbar\":{\"id\":\"2516\"},\"toolbar_location\":\"above\"},\"id\":\"2517\",\"type\":\"ToolbarBox\"},{\"attributes\":{},\"id\":\"2480\",\"type\":\"AllLabels\"},{\"attributes\":{\"end\":2.2,\"start\":-0.4},\"id\":\"2492\",\"type\":\"Range1d\"},{\"attributes\":{\"coordinates\":null,\"formatter\":{\"id\":\"2479\"},\"group\":null,\"major_label_overrides\":{\"0.4\":\"-\",\"1.4\":\"+\"},\"major_label_policy\":{\"id\":\"2480\"},\"ticker\":{\"id\":\"2493\"}},\"id\":\"2459\",\"type\":\"LinearAxis\"},{\"attributes\":{},\"id\":\"2416\",\"type\":\"AllLabels\"},{\"attributes\":{\"data\":{\"ID\":[\"AGAP006221\",\"AGAP006222\",\"AGAP006223\",\"AGAP006224\",\"AGAP006225\",\"AGAP006226\",\"AGAP006227\",\"AGAP006228\",\"AGAP006229\",\"AGAP006231\",\"AGAP006232\",\"AGAP006233\",\"AGAP006234\",\"AGAP006235\",\"AGAP006236\",\"AGAP006237\",\"AGAP006238\",\"AGAP006239\"],\"Name\":[\"\",\"\",\"\",\"\",\"\",\"Aldehyde_oxidase\",\"\",\"COEAE2F\",\"Vps20\",\"\",\"Pex14\",\"\",\"\",\"\",\"\",\"\",\"\",\"\"],\"Parent\":[\"NaN\",\"NaN\",\"NaN\",\"NaN\",\"NaN\",\"NaN\",\"NaN\",\"NaN\",\"NaN\",\"NaN\",\"NaN\",\"NaN\",\"NaN\",\"NaN\",\"NaN\",\"NaN\",\"NaN\",\"NaN\"],\"bottom\":[1,1,1,1,1,1,0,1,1,1,0,1,1,0,0,0,1,1],\"contig\":[\"2L\",\"2L\",\"2L\",\"2L\",\"2L\",\"2L\",\"2L\",\"2L\",\"2L\",\"2L\",\"2L\",\"2L\",\"2L\",\"2L\",\"2L\",\"2L\",\"2L\",\"2L\"],\"description\":[\"aldehyde oxidase [Source:VB Community Annotation]\",\"glucosyl/glucuronosyl transferases [Source:VB Community Annotation]\",\"glucosyl/glucuronosyl transferases [Source:VB Community Annotation]\",\"aldehyde oxidase [Source:VB Community Annotation]\",\"aldehyde oxidase [Source:VB Community Annotation]\",\"\",\"alpha esterase [Source:VB Community Annotation]\",\"carboxylesterase [Source:VB Community Annotation]\",\"vacuolar protein sorting 20 [Source:VB Community Annotation]\",\"serine/threonine-protein phosphatase dullard homolog [Source:VB Community Annotation]\",\"peroxin-14 [Source:VB Community Annotation]\",\"\",\"protein SHQ1 [Source:VB Community Annotation]\",\"\",\"\",\"Negative elongation factor E [Source:VB Community Annotation]\",\"ubiquitin-conjugating enzyme E2 C [Source:VB Community Annotation]\",\"Protein TSSC1 [Source:VB Community Annotation]\"],\"end\":[28523900,28526317,28528641,28533199,28539416,28545294,28547938,28550748,28552032,28560186,28565368,28567186,28569087,28572971,28574496,28575725,28579600,28581250],\"index\":[24735,24757,24771,24785,24801,24817,24832,24850,24862,24874,24890,24904,24912,24924,24940,24947,24953,24961],\"phase\":{\"__ndarray__\":\"AAAAAAAA+H8AAAAAAAD4fwAAAAAAAPh/AAAAAAAA+H8AAAAAAAD4fwAAAAAAAPh/AAAAAAAA+H8AAAAAAAD4fwAAAAAAAPh/AAAAAAAA+H8AAAAAAAD4fwAAAAAAAPh/AAAAAAAA+H8AAAAAAAD4fwAAAAAAAPh/AAAAAAAA+H8AAAAAAAD4fwAAAAAAAPh/\",\"dtype\":\"float64\",\"order\":\"little\",\"shape\":[18]},\"score\":{\"__ndarray__\":\"AAAAAAAA+H8AAAAAAAD4fwAAAAAAAPh/AAAAAAAA+H8AAAAAAAD4fwAAAAAAAPh/AAAAAAAA+H8AAAAAAAD4fwAAAAAAAPh/AAAAAAAA+H8AAAAAAAD4fwAAAAAAAPh/AAAAAAAA+H8AAAAAAAD4fwAAAAAAAPh/AAAAAAAA+H8AAAAAAAD4fwAAAAAAAPh/\",\"dtype\":\"float64\",\"order\":\"little\",\"shape\":[18]},\"source\":[\"VectorBase\",\"VectorBase\",\"VectorBase\",\"VectorBase\",\"VectorBase\",\"VectorBase\",\"VectorBase\",\"VectorBase\",\"VectorBase\",\"VectorBase\",\"VectorBase\",\"VectorBase\",\"VectorBase\",\"VectorBase\",\"VectorBase\",\"VectorBase\",\"VectorBase\",\"VectorBase\"],\"start\":[28518055,28524225,28526558,28528758,28534732,28540651,28545396,28548433,28550814,28552352,28563646,28565893,28567535,28569164,28573531,28574680,28576341,28579834],\"strand\":[\"+\",\"+\",\"+\",\"+\",\"+\",\"+\",\"-\",\"+\",\"+\",\"+\",\"-\",\"+\",\"+\",\"-\",\"-\",\"-\",\"+\",\"+\"],\"top\":{\"__ndarray__\":\"zczMzMzM/D/NzMzMzMz8P83MzMzMzPw/zczMzMzM/D/NzMzMzMz8P83MzMzMzPw/mpmZmZmZ6T/NzMzMzMz8P83MzMzMzPw/zczMzMzM/D+amZmZmZnpP83MzMzMzPw/zczMzMzM/D+amZmZmZnpP5qZmZmZmek/mpmZmZmZ6T/NzMzMzMz8P83MzMzMzPw/\",\"dtype\":\"float64\",\"order\":\"little\",\"shape\":[18]},\"type\":[\"gene\",\"gene\",\"gene\",\"gene\",\"gene\",\"gene\",\"gene\",\"gene\",\"gene\",\"gene\",\"gene\",\"gene\",\"gene\",\"gene\",\"gene\",\"gene\",\"gene\",\"gene\"]},\"selected\":{\"id\":\"2513\"},\"selection_policy\":{\"id\":\"2512\"}},\"id\":\"2485\",\"type\":\"ColumnDataSource\"},{\"attributes\":{\"dimensions\":\"width\"},\"id\":\"2464\",\"type\":\"ZoomInTool\"},{\"attributes\":{\"url\":\"https://vectorbase.org/vectorbase/app/record/gene/@ID\"},\"id\":\"2484\",\"type\":\"OpenURL\"},{\"attributes\":{\"source\":{\"id\":\"2485\"}},\"id\":\"2491\",\"type\":\"CDSView\"},{\"attributes\":{},\"id\":\"2483\",\"type\":\"AllLabels\"},{\"attributes\":{\"callback\":null,\"tooltips\":[[\"ID\",\"@ID\"],[\"Name\",\"@Name\"],[\"Description\",\"@description\"],[\"Location\",\"@contig:@start{,}-@end{,}\"]]},\"id\":\"2468\",\"type\":\"HoverTool\"},{\"attributes\":{\"callback\":{\"id\":\"2484\"}},\"id\":\"2467\",\"type\":\"TapTool\"},{\"attributes\":{\"dimensions\":\"width\"},\"id\":\"2465\",\"type\":\"ZoomOutTool\"},{\"attributes\":{},\"id\":\"2466\",\"type\":\"ResetTool\"},{\"attributes\":{},\"id\":\"2438\",\"type\":\"Selection\"},{\"attributes\":{\"children\":[[{\"id\":\"2375\"},0,0],[{\"id\":\"2445\"},1,0]]},\"id\":\"2515\",\"type\":\"GridBox\"},{\"attributes\":{\"line_alpha\":0.2,\"line_color\":\"#1f77b4\",\"line_width\":2,\"x\":{\"field\":\"variant_midpoint\"},\"y\":{\"field\":\"call_CN\"}},\"id\":\"2425\",\"type\":\"Line\"},{\"attributes\":{\"dimensions\":\"width\"},\"id\":\"2463\",\"type\":\"PanTool\"},{\"attributes\":{},\"id\":\"2479\",\"type\":\"BasicTickFormatter\"},{\"attributes\":{\"label\":{\"value\":\"HMM\"},\"renderers\":[{\"id\":\"2426\"}]},\"id\":\"2439\",\"type\":\"LegendItem\"},{\"attributes\":{},\"id\":\"2456\",\"type\":\"BasicTicker\"},{\"attributes\":{\"active_drag\":{\"id\":\"2463\"},\"active_scroll\":{\"id\":\"2444\"},\"tools\":[{\"id\":\"2444\"},{\"id\":\"2463\"},{\"id\":\"2464\"},{\"id\":\"2465\"},{\"id\":\"2466\"},{\"id\":\"2467\"},{\"id\":\"2468\"}]},\"id\":\"2469\",\"type\":\"Toolbar\"},{\"attributes\":{\"dimensions\":\"width\",\"maintain_focus\":false},\"id\":\"2374\",\"type\":\"WheelZoomTool\"},{\"attributes\":{\"axis\":{\"id\":\"2455\"},\"coordinates\":null,\"group\":null,\"ticker\":null},\"id\":\"2458\",\"type\":\"Grid\"},{\"attributes\":{\"axis_label\":\"Contig 2L position (bp)\",\"coordinates\":null,\"formatter\":{\"id\":\"2495\"},\"group\":null,\"major_label_policy\":{\"id\":\"2483\"},\"ticker\":{\"id\":\"2456\"}},\"id\":\"2455\",\"type\":\"LinearAxis\"}],\"root_ids\":[\"2518\"]},\"title\":\"Bokeh Application\",\"version\":\"2.4.2\"}};\n  const render_items = [{\"docid\":\"f799b1ad-357e-430b-900c-bcf1682debd0\",\"root_ids\":[\"2518\"],\"roots\":{\"2518\":\"4c6b3900-1f18-4099-aaa4-91ffae079e44\"}}];\n  root.Bokeh.embed.embed_items_notebook(docs_json, render_items);\n\n  }\n  if (root.Bokeh !== undefined) {\n    embed_document(root);\n  } else {\n    let attempts = 0;\n    const timer = setInterval(function(root) {\n      if (root.Bokeh !== undefined) {\n        clearInterval(timer);\n        embed_document(root);\n      } else {\n        attempts++;\n        if (attempts > 100) {\n          clearInterval(timer);\n          console.log(\"Bokeh: ERROR: Unable to run BokehJS code because BokehJS library is missing\");\n        }\n      }\n    }, 10, root)\n  }\n})(window);",
      "application/vnd.bokehjs_exec.v0+json": ""
     },
     "metadata": {
      "application/vnd.bokehjs_exec.v0+json": {
       "id": "2518"
      }
     },
     "output_type": "display_data"
    },
    {
     "data": {
      "text/html": [
       "\n",
       "\n",
       "\n",
       "\n",
       "\n",
       "\n",
       "  <div class=\"bk-root\" id=\"216caa90-6ce5-4fe6-a6da-36efc4a1f087\" data-root-id=\"2840\"></div>\n"
      ]
     },
     "metadata": {},
     "output_type": "display_data"
    },
    {
     "data": {
      "application/javascript": "(function(root) {\n  function embed_document(root) {\n    \n  const docs_json = {\"b4cb56e4-d485-4e94-8a17-b1f84057c677\":{\"defs\":[],\"roots\":{\"references\":[{\"attributes\":{\"children\":[{\"id\":\"2839\"},{\"id\":\"2837\"}]},\"id\":\"2840\",\"type\":\"Column\"},{\"attributes\":{},\"id\":\"2775\",\"type\":\"LinearScale\"},{\"attributes\":{\"ticks\":[0.4,1.4]},\"id\":\"2815\",\"type\":\"FixedTicker\"},{\"attributes\":{},\"id\":\"2802\",\"type\":\"AllLabels\"},{\"attributes\":{\"dimensions\":\"width\",\"maintain_focus\":false},\"id\":\"2696\",\"type\":\"WheelZoomTool\"},{\"attributes\":{},\"id\":\"2740\",\"type\":\"Selection\"},{\"attributes\":{},\"id\":\"2778\",\"type\":\"BasicTicker\"},{\"attributes\":{\"below\":[{\"id\":\"2777\"}],\"center\":[{\"id\":\"2780\"},{\"id\":\"2784\"}],\"height\":120,\"left\":[{\"id\":\"2781\"}],\"renderers\":[{\"id\":\"2812\"}],\"title\":{\"id\":\"2768\"},\"toolbar\":{\"id\":\"2791\"},\"toolbar_location\":null,\"width\":800,\"x_range\":{\"id\":\"2695\"},\"x_scale\":{\"id\":\"2773\"},\"y_range\":{\"id\":\"2814\"},\"y_scale\":{\"id\":\"2775\"}},\"id\":\"2767\",\"subtype\":\"Figure\",\"type\":\"Plot\"},{\"attributes\":{\"coordinates\":null,\"data_source\":{\"id\":\"2807\"},\"glyph\":{\"id\":\"2809\"},\"group\":null,\"hover_glyph\":null,\"muted_glyph\":{\"id\":\"2811\"},\"nonselection_glyph\":{\"id\":\"2810\"},\"view\":{\"id\":\"2813\"}},\"id\":\"2812\",\"type\":\"GlyphRenderer\"},{\"attributes\":{\"coordinates\":null,\"data_source\":{\"id\":\"2743\"},\"glyph\":{\"id\":\"2745\"},\"group\":null,\"hover_glyph\":null,\"muted_glyph\":{\"id\":\"2747\"},\"nonselection_glyph\":{\"id\":\"2746\"},\"view\":{\"id\":\"2749\"}},\"id\":\"2748\",\"type\":\"GlyphRenderer\"},{\"attributes\":{\"callback\":{\"id\":\"2806\"}},\"id\":\"2789\",\"type\":\"TapTool\"},{\"attributes\":{\"callback\":null,\"tooltips\":[[\"ID\",\"@ID\"],[\"Name\",\"@Name\"],[\"Description\",\"@description\"],[\"Location\",\"@contig:@start{,}-@end{,}\"]]},\"id\":\"2790\",\"type\":\"HoverTool\"},{\"attributes\":{\"bottom\":{\"field\":\"bottom\"},\"fill_alpha\":{\"value\":0.2},\"fill_color\":{\"value\":\"#1f77b4\"},\"hatch_alpha\":{\"value\":0.2},\"left\":{\"field\":\"start\"},\"line_alpha\":{\"value\":0.2},\"line_color\":{\"value\":\"#1f77b4\"},\"line_width\":{\"value\":0.5},\"right\":{\"field\":\"end\"},\"top\":{\"field\":\"top\"}},\"id\":\"2811\",\"type\":\"Quad\"},{\"attributes\":{\"coordinates\":null,\"group\":null,\"text\":\"Genes\"},\"id\":\"2768\",\"type\":\"Title\"},{\"attributes\":{\"ticks\":[0,1,2,3,4,5,6,7,8,9]},\"id\":\"2762\",\"type\":\"FixedTicker\"},{\"attributes\":{\"axis\":{\"id\":\"2777\"},\"coordinates\":null,\"group\":null,\"ticker\":null},\"id\":\"2780\",\"type\":\"Grid\"},{\"attributes\":{\"bottom\":{\"field\":\"bottom\"},\"fill_alpha\":{\"value\":0.1},\"fill_color\":{\"value\":\"#1f77b4\"},\"hatch_alpha\":{\"value\":0.1},\"left\":{\"field\":\"start\"},\"line_alpha\":{\"value\":0.1},\"line_color\":{\"value\":\"#1f77b4\"},\"line_width\":{\"value\":0.5},\"right\":{\"field\":\"end\"},\"top\":{\"field\":\"top\"}},\"id\":\"2810\",\"type\":\"Quad\"},{\"attributes\":{\"axis_label\":\"Contig 2L position (bp)\",\"coordinates\":null,\"formatter\":{\"id\":\"2817\"},\"group\":null,\"major_label_policy\":{\"id\":\"2805\"},\"ticker\":{\"id\":\"2778\"}},\"id\":\"2777\",\"type\":\"LinearAxis\"},{\"attributes\":{},\"id\":\"2738\",\"type\":\"AllLabels\"},{\"attributes\":{\"fill_alpha\":{\"value\":0.1},\"fill_color\":{\"value\":null},\"hatch_alpha\":{\"value\":0.1},\"line_alpha\":{\"value\":0.1},\"line_width\":{\"value\":0.5},\"size\":{\"value\":3},\"x\":{\"field\":\"variant_midpoint\"},\"y\":{\"field\":\"call_NormCov\"}},\"id\":\"2728\",\"type\":\"Circle\"},{\"attributes\":{\"end\":2.2,\"start\":-0.4},\"id\":\"2814\",\"type\":\"Range1d\"},{\"attributes\":{},\"id\":\"2735\",\"type\":\"AllLabels\"},{\"attributes\":{},\"id\":\"2835\",\"type\":\"Selection\"},{\"attributes\":{\"data\":{\"call_CN\":{\"__ndarray__\":\"AgICAgICAgICAgICAgICAgICAgICAgICAgICAgICAgICAgICAgICAgICAgICAwMDAwMDAwMDAwMDAwMDAwMDAwMDAwMDAwMDAwMDAwMDAwMDAwMDAwMDAwMDAwMDAwMDAwMDAwMDAwMDAwMDAwMDAwMDAwMDAwMDAwMDAwMDAwMDAwMDAwMDAwMDAwMDAwMDAwMDAwMDAwMDAwMDAwMDAwMDAwMDAwMHAwMDAwICAgICAgICAgICAgICAgICAgICAgICAgICAgIC\",\"dtype\":\"int8\",\"order\":\"little\",\"shape\":[201]},\"call_NormCov\":{\"__ndarray__\":\"5/sJQM/3A0AZBCZAGQQeQM/34z8AANA/AADQPwAA8D8AAPA/AAAIQJ7v5z9iELg/nu/HP2IQ+D/fTy1AMQj8P7pJ7D/P9/M/5/sZQOf7GUDNzMw/eemmPwAA8D+Pwg1AYhDYP8/3oz+e72c/z/eDPxKD4D/y0gVAAAAIQBkEDkDn+wlA5/shQOf7KUAAAABAYhC4P8/3wz/P9/M/AAAQQOf7AUAxCAxAAAAAQIXrAUBqvNQ/z/dTQAAACECDwBpAz/cDQAAAYEA73wdAMQisPwwCg0Dn+zlAMQgcQOf7EUDn+wFAAAAwQOf7MUA9Cl9AMQg8QLx0I0AZBB5AhxY5QKrxQkD0/QxA5/tJQB1aNEAZBC5ApHAlQAAAOEAxCBxA5/sxQAAAQEAZBD5Az/czQN9PLUC6SSRAsp0HQM/3M0AdWjRAbxI7QFYOPUB56UZA5/shQLx0G0Dn+zlAGQReQDEIPEAZBC5A5/tBQAAAWEAAAFhAGQQuQCGwekDn+zlAAAAwQN0kdkDP90NANV4iQBkEFkAAACBA5/tJQEw3MUAZBEZAGQQmQM/3I0BI4UJA9P2UQFYOPUAxCFxA5/tBQOf7kUBI4UJAAAA4QDEIXEAZBE5APQpfQG3nQ0AxCGxAK4cuQAAAaEDn+0FAZmZmQDEIPEAZBEZAz/dzQEjhYkCmmyxAz/czQOf7QUDP91NAMQhMQM/3U0AxCDxAEoMwQD0KP0Dn+0FA5/tRQHe+R0AZBEZAAABgQBkELkASgzBAMzM7QEa2E0AxCCxAGQQ+QBkEfkAZBFZA5/tpQDm0KED+1EhAGQQ+QBkELkDn+0FA5/tBQPhTK0AbLw1A5/sZQBkELkDn+zlAMQgcQAAAIEAbLy1Az/dDQAAAQEAAANhAHVo0QBkETkAQWClAGQQ+QJqZGUAAABBAGQQGQAAA8D/n+wFAsp0HQN9PFUAzMzNAj8INQAAAAEBEi+w/MQj8Pzm06D+F6wFAEoPwP8uhFUDP9xNAGQQWQAAA0D/P98M/AAAIQAAAEEDP9/M/AADwPycx+D9CYNU/AAAoQCUG4T9iEPg/\",\"dtype\":\"float32\",\"order\":\"little\",\"shape\":[201]},\"samples\":[\"BL0291-C\",\"BL0291-C\",\"BL0291-C\",\"BL0291-C\",\"BL0291-C\",\"BL0291-C\",\"BL0291-C\",\"BL0291-C\",\"BL0291-C\",\"BL0291-C\",\"BL0291-C\",\"BL0291-C\",\"BL0291-C\",\"BL0291-C\",\"BL0291-C\",\"BL0291-C\",\"BL0291-C\",\"BL0291-C\",\"BL0291-C\",\"BL0291-C\",\"BL0291-C\",\"BL0291-C\",\"BL0291-C\",\"BL0291-C\",\"BL0291-C\",\"BL0291-C\",\"BL0291-C\",\"BL0291-C\",\"BL0291-C\",\"BL0291-C\",\"BL0291-C\",\"BL0291-C\",\"BL0291-C\",\"BL0291-C\",\"BL0291-C\",\"BL0291-C\",\"BL0291-C\",\"BL0291-C\",\"BL0291-C\",\"BL0291-C\",\"BL0291-C\",\"BL0291-C\",\"BL0291-C\",\"BL0291-C\",\"BL0291-C\",\"BL0291-C\",\"BL0291-C\",\"BL0291-C\",\"BL0291-C\",\"BL0291-C\",\"BL0291-C\",\"BL0291-C\",\"BL0291-C\",\"BL0291-C\",\"BL0291-C\",\"BL0291-C\",\"BL0291-C\",\"BL0291-C\",\"BL0291-C\",\"BL0291-C\",\"BL0291-C\",\"BL0291-C\",\"BL0291-C\",\"BL0291-C\",\"BL0291-C\",\"BL0291-C\",\"BL0291-C\",\"BL0291-C\",\"BL0291-C\",\"BL0291-C\",\"BL0291-C\",\"BL0291-C\",\"BL0291-C\",\"BL0291-C\",\"BL0291-C\",\"BL0291-C\",\"BL0291-C\",\"BL0291-C\",\"BL0291-C\",\"BL0291-C\",\"BL0291-C\",\"BL0291-C\",\"BL0291-C\",\"BL0291-C\",\"BL0291-C\",\"BL0291-C\",\"BL0291-C\",\"BL0291-C\",\"BL0291-C\",\"BL0291-C\",\"BL0291-C\",\"BL0291-C\",\"BL0291-C\",\"BL0291-C\",\"BL0291-C\",\"BL0291-C\",\"BL0291-C\",\"BL0291-C\",\"BL0291-C\",\"BL0291-C\",\"BL0291-C\",\"BL0291-C\",\"BL0291-C\",\"BL0291-C\",\"BL0291-C\",\"BL0291-C\",\"BL0291-C\",\"BL0291-C\",\"BL0291-C\",\"BL0291-C\",\"BL0291-C\",\"BL0291-C\",\"BL0291-C\",\"BL0291-C\",\"BL0291-C\",\"BL0291-C\",\"BL0291-C\",\"BL0291-C\",\"BL0291-C\",\"BL0291-C\",\"BL0291-C\",\"BL0291-C\",\"BL0291-C\",\"BL0291-C\",\"BL0291-C\",\"BL0291-C\",\"BL0291-C\",\"BL0291-C\",\"BL0291-C\",\"BL0291-C\",\"BL0291-C\",\"BL0291-C\",\"BL0291-C\",\"BL0291-C\",\"BL0291-C\",\"BL0291-C\",\"BL0291-C\",\"BL0291-C\",\"BL0291-C\",\"BL0291-C\",\"BL0291-C\",\"BL0291-C\",\"BL0291-C\",\"BL0291-C\",\"BL0291-C\",\"BL0291-C\",\"BL0291-C\",\"BL0291-C\",\"BL0291-C\",\"BL0291-C\",\"BL0291-C\",\"BL0291-C\",\"BL0291-C\",\"BL0291-C\",\"BL0291-C\",\"BL0291-C\",\"BL0291-C\",\"BL0291-C\",\"BL0291-C\",\"BL0291-C\",\"BL0291-C\",\"BL0291-C\",\"BL0291-C\",\"BL0291-C\",\"BL0291-C\",\"BL0291-C\",\"BL0291-C\",\"BL0291-C\",\"BL0291-C\",\"BL0291-C\",\"BL0291-C\",\"BL0291-C\",\"BL0291-C\",\"BL0291-C\",\"BL0291-C\",\"BL0291-C\",\"BL0291-C\",\"BL0291-C\",\"BL0291-C\",\"BL0291-C\",\"BL0291-C\",\"BL0291-C\",\"BL0291-C\",\"BL0291-C\",\"BL0291-C\",\"BL0291-C\",\"BL0291-C\",\"BL0291-C\",\"BL0291-C\",\"BL0291-C\",\"BL0291-C\",\"BL0291-C\",\"BL0291-C\",\"BL0291-C\",\"BL0291-C\",\"BL0291-C\",\"BL0291-C\",\"BL0291-C\",\"BL0291-C\",\"BL0291-C\",\"BL0291-C\"],\"variant_contig\":{\"__ndarray__\":\"AQEBAQEBAQEBAQEBAQEBAQEBAQEBAQEBAQEBAQEBAQEBAQEBAQEBAQEBAQEBAQEBAQEBAQEBAQEBAQEBAQEBAQEBAQEBAQEBAQEBAQEBAQEBAQEBAQEBAQEBAQEBAQEBAQEBAQEBAQEBAQEBAQEBAQEBAQEBAQEBAQEBAQEBAQEBAQEBAQEBAQEBAQEBAQEBAQEBAQEBAQEBAQEBAQEBAQEBAQEBAQEBAQEBAQEBAQEBAQEBAQEBAQEBAQEBAQEBAQEBAQEBAQEB\",\"dtype\":\"uint8\",\"order\":\"little\",\"shape\":[201]},\"variant_end\":{\"__ndarray__\":\"pC6zAdAvswH8MLMBKDKzAVQzswGANLMBrDWzAdg2swEEOLMBMDmzAVw6swGIO7MBtDyzAeA9swEMP7MBOECzAWRBswGQQrMBvEOzAehEswEURrMBQEezAWxIswGYSbMBxEqzAfBLswEcTbMBSE6zAXRPswGgULMBzFGzAfhSswEkVLMBUFWzAXxWswGoV7MB1FizAQBaswEsW7MBWFyzAYRdswGwXrMB3F+zAQhhswE0YrMBYGOzAYxkswG4ZbMB5GazARBoswE8abMBaGqzAZRrswHAbLMB7G2zARhvswFEcLMBcHGzAZxyswHIc7MB9HSzASB2swFMd7MBeHizAaR5swHQerMB/HuzASh9swFUfrMBgH+zAayAswHYgbMBBIOzATCEswFchbMBiIazAbSHswHgiLMBDIqzATiLswFkjLMBkI2zAbyOswHoj7MBFJGzAUCSswFsk7MBmJSzAcSVswHwlrMBHJizAUiZswF0mrMBoJuzAcycswH4nbMBJJ+zAVCgswF8obMBqKKzAdSjswEApbMBLKazAVinswGEqLMBsKmzAdyqswEIrLMBNK2zAWCuswGMr7MBuLCzAeSxswEQs7MBPLSzAWi1swGUtrMBwLezAey4swEYurMBRLuzAXC8swGcvbMByL6zAfS/swEgwbMBTMKzAXjDswGkxLMB0MWzAfzGswEoyLMBVMmzAYDKswGsy7MB2MyzAQTOswEwz7MBXNCzAYjRswG00rMB4NOzAQzVswE41rMBZNezAZDYswG82bMB6NqzARTcswFA3bMBbN6zAZjfswHE4LMB8OGzARzjswFI5LMBdOWzAaDmswHM57MB+OizASTqswFQ67MBfOyzAajtswHU7rMBAPCzASzxswFY8rMBhPOzAbD0swHc9bMBCPezATT4swFg+bMBjPqzAbj7swHk/LMBEP6zATz/swFoALQBlAG0AcACtAHsA7QBGAW0AUQGtAFwB7QBnAi0AcgJtAH0CrQBIAy0AUwNtAF4DrQBpA+0AdAQtAH8EbQBKBO0AVQUtAGAFbQBrBa0AdgXtAEEGbQB\",\"dtype\":\"int32\",\"order\":\"little\",\"shape\":[201]},\"variant_midpoint\":{\"__ndarray__\":\"Dy6zATsvswFnMLMBkzGzAb8yswHrM7MBFzWzAUM2swFvN7MBmzizAcc5swHzOrMBHzyzAUs9swF3PrMBoz+zAc9AswH7QbMBJ0OzAVNEswF/RbMBq0azAddHswEDSbMBL0qzAVtLswGHTLMBs02zAd9OswELULMBN1GzAWNSswGPU7MBu1SzAedVswETV7MBP1izAWtZswGXWrMBw1uzAe9cswEbXrMBR1+zAXNgswGfYbMBy2KzAfdjswEjZbMBT2azAXtnswGnaLMB02mzAf9qswErbLMBV22zAYNuswGvb7MB23CzAQdyswEzc7MBX3SzAYt1swG3drMB43ezAQ95swE7erMBZ3uzAZN8swG/fbMB636zAReAswFDgbMBb4KzAZuDswHHhLMB84WzAR+HswFLiLMBd4mzAaOKswHPi7MB+4yzASeOswFTj7MBf5CzAauRswHXkrMBA5SzAS+VswFblrMBh5ezAbOYswHfmbMBC5uzATecswFjnbMBj56zAbufswHnoLMBE6KzAT+jswFrpLMBl6WzAcOmswHvp7MBG6mzAUeqswFzq7MBn6yzAcutswH3rrMBI7CzAU+xswF7srMBp7OzAdO0swH/tbMBK7ezAVe4swGDubMBr7qzAdu7swEHvbMBM76zAV+/swGLwLMBt8GzAePCswEPxLMBO8WzAWfGswGTx7MBv8izAevJswEXy7MBQ8yzAW/NswGbzrMBx8+zAfPQswEf0rMBS9OzAXfUswGj1bMBz9azAfvXswEn2bMBU9qzAX/bswGr3LMB192zAQPfswEv4LMBW+GzAYfiswGz47MB3+SzAQvmswE357MBY+izAY/pswG76rMB5+uzARPtswE/7rMBa++zAZfwswHD8bMB7/KzARv0swFH9bMBc/azAZ/3swHL+LMB9/mzASP7swFP/LMBe/2zAaf+swHT/7MB/wC0ASsCtAFXA7QBgwS0Aa8FtAHbBrQBBwi0ATMJtAFfCrQBiwu0AbcMtAHjDbQBDw+0ATsQtAFnEbQBkxK0Ab8TtAHrFLQBFxa0AUMXtAFvGLQB\",\"dtype\":\"int32\",\"order\":\"little\",\"shape\":[201]},\"variant_position\":{\"__ndarray__\":\"eS2zAaUuswHRL7MB/TCzASkyswFVM7MBgTSzAa01swHZNrMBBTizATE5swFdOrMBiTuzAbU8swHhPbMBDT+zATlAswFlQbMBkUKzAb1DswHpRLMBFUazAUFHswFtSLMBmUmzAcVKswHxS7MBHU2zAUlOswF1T7MBoVCzAc1RswH5UrMBJVSzAVFVswF9VrMBqVezAdVYswEBWrMBLVuzAVlcswGFXbMBsV6zAd1fswEJYbMBNWKzAWFjswGNZLMBuWWzAeVmswERaLMBPWmzAWlqswGVa7MBwWyzAe1tswEZb7MBRXCzAXFxswGdcrMByXOzAfV0swEhdrMBTXezAXl4swGlebMB0XqzAf17swEpfbMBVX6zAYF/swGtgLMB2YGzAQWDswExhLMBXYWzAYmGswG1h7MB4YizAQ2KswE5i7MBZYyzAZGNswG9jrMB6Y+zARWRswFBkrMBbZOzAZmUswHFlbMB8ZazAR2YswFJmbMBdZqzAaGbswHNnLMB+Z2zASWfswFRoLMBfaGzAamiswHVo7MBAaWzAS2mswFZp7MBhaizAbGpswHdqrMBCayzATWtswFhrrMBja+zAbmwswHlsbMBEbOzAT20swFptbMBlbazAcG3swHtuLMBGbqzAUW7swFxvLMBnb2zAcm+swH1v7MBIcGzAU3CswF5w7MBpcSzAdHFswH9xrMBKcizAVXJswGByrMBrcuzAdnMswEFzrMBMc+zAV3QswGJ0bMBtdKzAeHTswEN1bMBOdazAWXXswGR2LMBvdmzAenaswEV3LMBQd2zAW3eswGZ37MBxeCzAfHhswEd47MBSeSzAXXlswGh5rMBzeezAfnoswEl6rMBUeuzAX3sswGp7bMB1e6zAQHwswEt8bMBWfKzAYXzswGx9LMB3fWzAQn3swE1+LMBYfmzAY36swG5+7MB5fyzARH+swE9/7MBaQC0AZUBtAHBArQB7QO0ARkFtAFFBrQBcQe0AZ0ItAHJCbQB9Qq0ASEMtAFNDbQBeQ60AaUPtAHRELQB/RG0ASkTtAFVFLQBgRW0Aa0WtAHZF7QB\",\"dtype\":\"int32\",\"order\":\"little\",\"shape\":[201]},\"variants\":[0,1,2,3,4,5,6,7,8,9,10,11,12,13,14,15,16,17,18,19,20,21,22,23,24,25,26,27,28,29,30,31,32,33,34,35,36,37,38,39,40,41,42,43,44,45,46,47,48,49,50,51,52,53,54,55,56,57,58,59,60,61,62,63,64,65,66,67,68,69,70,71,72,73,74,75,76,77,78,79,80,81,82,83,84,85,86,87,88,89,90,91,92,93,94,95,96,97,98,99,100,101,102,103,104,105,106,107,108,109,110,111,112,113,114,115,116,117,118,119,120,121,122,123,124,125,126,127,128,129,130,131,132,133,134,135,136,137,138,139,140,141,142,143,144,145,146,147,148,149,150,151,152,153,154,155,156,157,158,159,160,161,162,163,164,165,166,167,168,169,170,171,172,173,174,175,176,177,178,179,180,181,182,183,184,185,186,187,188,189,190,191,192,193,194,195,196,197,198,199,200]},\"selected\":{\"id\":\"2760\"},\"selection_policy\":{\"id\":\"2759\"}},\"id\":\"2743\",\"type\":\"ColumnDataSource\"},{\"attributes\":{\"source\":{\"id\":\"2743\"}},\"id\":\"2749\",\"type\":\"CDSView\"},{\"attributes\":{\"fill_alpha\":{\"value\":0.2},\"fill_color\":{\"value\":null},\"hatch_alpha\":{\"value\":0.2},\"line_alpha\":{\"value\":0.2},\"line_width\":{\"value\":0.5},\"size\":{\"value\":3},\"x\":{\"field\":\"variant_midpoint\"},\"y\":{\"field\":\"call_NormCov\"}},\"id\":\"2729\",\"type\":\"Circle\"},{\"attributes\":{\"line_alpha\":0.1,\"line_color\":\"#1f77b4\",\"line_width\":2,\"x\":{\"field\":\"variant_midpoint\"},\"y\":{\"field\":\"call_CN\"}},\"id\":\"2746\",\"type\":\"Line\"},{\"attributes\":{},\"id\":\"2805\",\"type\":\"AllLabels\"},{\"attributes\":{\"coordinates\":null,\"data_source\":{\"id\":\"2725\"},\"glyph\":{\"id\":\"2727\"},\"group\":null,\"hover_glyph\":null,\"muted_glyph\":{\"id\":\"2729\"},\"nonselection_glyph\":{\"id\":\"2728\"},\"view\":{\"id\":\"2731\"}},\"id\":\"2730\",\"type\":\"GlyphRenderer\"},{\"attributes\":{},\"id\":\"2739\",\"type\":\"UnionRenderers\"},{\"attributes\":{\"source\":{\"id\":\"2725\"}},\"id\":\"2731\",\"type\":\"CDSView\"},{\"attributes\":{\"label\":{\"value\":\"Coverage\"},\"renderers\":[{\"id\":\"2730\"}]},\"id\":\"2742\",\"type\":\"LegendItem\"},{\"attributes\":{},\"id\":\"2734\",\"type\":\"BasicTickFormatter\"},{\"attributes\":{\"source\":{\"id\":\"2807\"}},\"id\":\"2813\",\"type\":\"CDSView\"},{\"attributes\":{},\"id\":\"2759\",\"type\":\"UnionRenderers\"},{\"attributes\":{},\"id\":\"2764\",\"type\":\"NumeralTickFormatter\"},{\"attributes\":{\"coordinates\":null,\"group\":null,\"items\":[{\"id\":\"2742\"},{\"id\":\"2761\"}]},\"id\":\"2741\",\"type\":\"Legend\"},{\"attributes\":{\"dimensions\":\"width\"},\"id\":\"2717\",\"type\":\"ZoomOutTool\"},{\"attributes\":{\"line_color\":\"#1f77b4\",\"line_width\":2,\"x\":{\"field\":\"variant_midpoint\"},\"y\":{\"field\":\"call_CN\"}},\"id\":\"2745\",\"type\":\"Line\"},{\"attributes\":{\"dimensions\":\"width\",\"maintain_focus\":false},\"id\":\"2766\",\"type\":\"WheelZoomTool\"},{\"attributes\":{\"label\":{\"value\":\"HMM\"},\"renderers\":[{\"id\":\"2748\"}]},\"id\":\"2761\",\"type\":\"LegendItem\"},{\"attributes\":{\"dimensions\":\"width\"},\"id\":\"2716\",\"type\":\"ZoomInTool\"},{\"attributes\":{\"dimensions\":\"width\"},\"id\":\"2786\",\"type\":\"ZoomInTool\"},{\"attributes\":{\"dimensions\":\"width\"},\"id\":\"2715\",\"type\":\"PanTool\"},{\"attributes\":{\"children\":[[{\"id\":\"2697\"},0,0],[{\"id\":\"2767\"},1,0]]},\"id\":\"2837\",\"type\":\"GridBox\"},{\"attributes\":{},\"id\":\"2708\",\"type\":\"BasicTicker\"},{\"attributes\":{\"axis_label\":\"Contig 2L position (bp)\",\"coordinates\":null,\"formatter\":{\"id\":\"2764\"},\"group\":null,\"major_label_policy\":{\"id\":\"2738\"},\"ticker\":{\"id\":\"2708\"},\"visible\":false},\"id\":\"2707\",\"type\":\"LinearAxis\"},{\"attributes\":{\"active_drag\":{\"id\":\"2715\"},\"active_scroll\":{\"id\":\"2696\"},\"tools\":[{\"id\":\"2696\"},{\"id\":\"2715\"},{\"id\":\"2716\"},{\"id\":\"2717\"},{\"id\":\"2718\"}]},\"id\":\"2719\",\"type\":\"Toolbar\"},{\"attributes\":{},\"id\":\"2703\",\"type\":\"LinearScale\"},{\"attributes\":{},\"id\":\"2834\",\"type\":\"UnionRenderers\"},{\"attributes\":{\"axis_label\":\"Copy number\",\"coordinates\":null,\"formatter\":{\"id\":\"2734\"},\"group\":null,\"major_label_policy\":{\"id\":\"2735\"},\"ticker\":{\"id\":\"2762\"}},\"id\":\"2711\",\"type\":\"LinearAxis\"},{\"attributes\":{\"dimensions\":\"width\"},\"id\":\"2787\",\"type\":\"ZoomOutTool\"},{\"attributes\":{},\"id\":\"2705\",\"type\":\"LinearScale\"},{\"attributes\":{\"axis\":{\"id\":\"2711\"},\"coordinates\":null,\"dimension\":1,\"group\":null,\"ticker\":null},\"id\":\"2714\",\"type\":\"Grid\"},{\"attributes\":{\"coordinates\":null,\"group\":null,\"text\":\"CNV HMM - BL0291-C (AG1000G-TZ)\"},\"id\":\"2698\",\"type\":\"Title\"},{\"attributes\":{\"below\":[{\"id\":\"2707\"}],\"center\":[{\"id\":\"2710\"},{\"id\":\"2714\"},{\"id\":\"2741\"}],\"height\":170,\"left\":[{\"id\":\"2711\"}],\"renderers\":[{\"id\":\"2730\"},{\"id\":\"2748\"}],\"right\":[{\"id\":\"2741\"}],\"title\":{\"id\":\"2698\"},\"toolbar\":{\"id\":\"2719\"},\"toolbar_location\":null,\"width\":800,\"x_range\":{\"id\":\"2695\"},\"x_scale\":{\"id\":\"2703\"},\"y_range\":{\"id\":\"2701\"},\"y_scale\":{\"id\":\"2705\"}},\"id\":\"2697\",\"subtype\":\"Figure\",\"type\":\"Plot\"},{\"attributes\":{\"end\":9},\"id\":\"2701\",\"type\":\"Range1d\"},{\"attributes\":{},\"id\":\"2817\",\"type\":\"NumeralTickFormatter\"},{\"attributes\":{\"axis\":{\"id\":\"2707\"},\"coordinates\":null,\"group\":null,\"ticker\":null},\"id\":\"2710\",\"type\":\"Grid\"},{\"attributes\":{\"data\":{\"call_CN\":{\"__ndarray__\":\"AgICAgICAgICAgICAgICAgICAgICAgICAgICAgICAgICAgICAgICAgICAgICAwMDAwMDAwMDAwMDAwMDAwMDAwMDAwMDAwMDAwMDAwMDAwMDAwMDAwMDAwMDAwMDAwMDAwMDAwMDAwMDAwMDAwMDAwMDAwMDAwMDAwMDAwMDAwMDAwMDAwMDAwMDAwMDAwMDAwMDAwMDAwMDAwMDAwMDAwMDAwMDAwMHAwMDAwICAgICAgICAgICAgICAgICAgICAgICAgICAgIC\",\"dtype\":\"int8\",\"order\":\"little\",\"shape\":[201]},\"call_NormCov\":{\"__ndarray__\":\"5/sJQM/3A0AZBCZAGQQeQM/34z8AANA/AADQPwAA8D8AAPA/AAAIQJ7v5z9iELg/nu/HP2IQ+D/fTy1AMQj8P7pJ7D/P9/M/5/sZQOf7GUDNzMw/eemmPwAA8D+Pwg1AYhDYP8/3oz+e72c/z/eDPxKD4D/y0gVAAAAIQBkEDkDn+wlA5/shQOf7KUAAAABAYhC4P8/3wz/P9/M/AAAQQOf7AUAxCAxAAAAAQIXrAUBqvNQ/z/dTQAAACECDwBpAz/cDQAAAYEA73wdAMQisPwwCg0Dn+zlAMQgcQOf7EUDn+wFAAAAwQOf7MUA9Cl9AMQg8QLx0I0AZBB5AhxY5QKrxQkD0/QxA5/tJQB1aNEAZBC5ApHAlQAAAOEAxCBxA5/sxQAAAQEAZBD5Az/czQN9PLUC6SSRAsp0HQM/3M0AdWjRAbxI7QFYOPUB56UZA5/shQLx0G0Dn+zlAGQReQDEIPEAZBC5A5/tBQAAAWEAAAFhAGQQuQCGwekDn+zlAAAAwQN0kdkDP90NANV4iQBkEFkAAACBA5/tJQEw3MUAZBEZAGQQmQM/3I0BI4UJA9P2UQFYOPUAxCFxA5/tBQOf7kUBI4UJAAAA4QDEIXEAZBE5APQpfQG3nQ0AxCGxAK4cuQAAAaEDn+0FAZmZmQDEIPEAZBEZAz/dzQEjhYkCmmyxAz/czQOf7QUDP91NAMQhMQM/3U0AxCDxAEoMwQD0KP0Dn+0FA5/tRQHe+R0AZBEZAAABgQBkELkASgzBAMzM7QEa2E0AxCCxAGQQ+QBkEfkAZBFZA5/tpQDm0KED+1EhAGQQ+QBkELkDn+0FA5/tBQPhTK0AbLw1A5/sZQBkELkDn+zlAMQgcQAAAIEAbLy1Az/dDQAAAQEAAANhAHVo0QBkETkAQWClAGQQ+QJqZGUAAABBAGQQGQAAA8D/n+wFAsp0HQN9PFUAzMzNAj8INQAAAAEBEi+w/MQj8Pzm06D+F6wFAEoPwP8uhFUDP9xNAGQQWQAAA0D/P98M/AAAIQAAAEEDP9/M/AADwPycx+D9CYNU/AAAoQCUG4T9iEPg/\",\"dtype\":\"float32\",\"order\":\"little\",\"shape\":[201]},\"samples\":[\"BL0291-C\",\"BL0291-C\",\"BL0291-C\",\"BL0291-C\",\"BL0291-C\",\"BL0291-C\",\"BL0291-C\",\"BL0291-C\",\"BL0291-C\",\"BL0291-C\",\"BL0291-C\",\"BL0291-C\",\"BL0291-C\",\"BL0291-C\",\"BL0291-C\",\"BL0291-C\",\"BL0291-C\",\"BL0291-C\",\"BL0291-C\",\"BL0291-C\",\"BL0291-C\",\"BL0291-C\",\"BL0291-C\",\"BL0291-C\",\"BL0291-C\",\"BL0291-C\",\"BL0291-C\",\"BL0291-C\",\"BL0291-C\",\"BL0291-C\",\"BL0291-C\",\"BL0291-C\",\"BL0291-C\",\"BL0291-C\",\"BL0291-C\",\"BL0291-C\",\"BL0291-C\",\"BL0291-C\",\"BL0291-C\",\"BL0291-C\",\"BL0291-C\",\"BL0291-C\",\"BL0291-C\",\"BL0291-C\",\"BL0291-C\",\"BL0291-C\",\"BL0291-C\",\"BL0291-C\",\"BL0291-C\",\"BL0291-C\",\"BL0291-C\",\"BL0291-C\",\"BL0291-C\",\"BL0291-C\",\"BL0291-C\",\"BL0291-C\",\"BL0291-C\",\"BL0291-C\",\"BL0291-C\",\"BL0291-C\",\"BL0291-C\",\"BL0291-C\",\"BL0291-C\",\"BL0291-C\",\"BL0291-C\",\"BL0291-C\",\"BL0291-C\",\"BL0291-C\",\"BL0291-C\",\"BL0291-C\",\"BL0291-C\",\"BL0291-C\",\"BL0291-C\",\"BL0291-C\",\"BL0291-C\",\"BL0291-C\",\"BL0291-C\",\"BL0291-C\",\"BL0291-C\",\"BL0291-C\",\"BL0291-C\",\"BL0291-C\",\"BL0291-C\",\"BL0291-C\",\"BL0291-C\",\"BL0291-C\",\"BL0291-C\",\"BL0291-C\",\"BL0291-C\",\"BL0291-C\",\"BL0291-C\",\"BL0291-C\",\"BL0291-C\",\"BL0291-C\",\"BL0291-C\",\"BL0291-C\",\"BL0291-C\",\"BL0291-C\",\"BL0291-C\",\"BL0291-C\",\"BL0291-C\",\"BL0291-C\",\"BL0291-C\",\"BL0291-C\",\"BL0291-C\",\"BL0291-C\",\"BL0291-C\",\"BL0291-C\",\"BL0291-C\",\"BL0291-C\",\"BL0291-C\",\"BL0291-C\",\"BL0291-C\",\"BL0291-C\",\"BL0291-C\",\"BL0291-C\",\"BL0291-C\",\"BL0291-C\",\"BL0291-C\",\"BL0291-C\",\"BL0291-C\",\"BL0291-C\",\"BL0291-C\",\"BL0291-C\",\"BL0291-C\",\"BL0291-C\",\"BL0291-C\",\"BL0291-C\",\"BL0291-C\",\"BL0291-C\",\"BL0291-C\",\"BL0291-C\",\"BL0291-C\",\"BL0291-C\",\"BL0291-C\",\"BL0291-C\",\"BL0291-C\",\"BL0291-C\",\"BL0291-C\",\"BL0291-C\",\"BL0291-C\",\"BL0291-C\",\"BL0291-C\",\"BL0291-C\",\"BL0291-C\",\"BL0291-C\",\"BL0291-C\",\"BL0291-C\",\"BL0291-C\",\"BL0291-C\",\"BL0291-C\",\"BL0291-C\",\"BL0291-C\",\"BL0291-C\",\"BL0291-C\",\"BL0291-C\",\"BL0291-C\",\"BL0291-C\",\"BL0291-C\",\"BL0291-C\",\"BL0291-C\",\"BL0291-C\",\"BL0291-C\",\"BL0291-C\",\"BL0291-C\",\"BL0291-C\",\"BL0291-C\",\"BL0291-C\",\"BL0291-C\",\"BL0291-C\",\"BL0291-C\",\"BL0291-C\",\"BL0291-C\",\"BL0291-C\",\"BL0291-C\",\"BL0291-C\",\"BL0291-C\",\"BL0291-C\",\"BL0291-C\",\"BL0291-C\",\"BL0291-C\",\"BL0291-C\",\"BL0291-C\",\"BL0291-C\",\"BL0291-C\",\"BL0291-C\",\"BL0291-C\",\"BL0291-C\",\"BL0291-C\",\"BL0291-C\",\"BL0291-C\",\"BL0291-C\",\"BL0291-C\",\"BL0291-C\",\"BL0291-C\",\"BL0291-C\",\"BL0291-C\",\"BL0291-C\",\"BL0291-C\",\"BL0291-C\",\"BL0291-C\"],\"variant_contig\":{\"__ndarray__\":\"AQEBAQEBAQEBAQEBAQEBAQEBAQEBAQEBAQEBAQEBAQEBAQEBAQEBAQEBAQEBAQEBAQEBAQEBAQEBAQEBAQEBAQEBAQEBAQEBAQEBAQEBAQEBAQEBAQEBAQEBAQEBAQEBAQEBAQEBAQEBAQEBAQEBAQEBAQEBAQEBAQEBAQEBAQEBAQEBAQEBAQEBAQEBAQEBAQEBAQEBAQEBAQEBAQEBAQEBAQEBAQEBAQEBAQEBAQEBAQEBAQEBAQEBAQEBAQEBAQEBAQEBAQEB\",\"dtype\":\"uint8\",\"order\":\"little\",\"shape\":[201]},\"variant_end\":{\"__ndarray__\":\"pC6zAdAvswH8MLMBKDKzAVQzswGANLMBrDWzAdg2swEEOLMBMDmzAVw6swGIO7MBtDyzAeA9swEMP7MBOECzAWRBswGQQrMBvEOzAehEswEURrMBQEezAWxIswGYSbMBxEqzAfBLswEcTbMBSE6zAXRPswGgULMBzFGzAfhSswEkVLMBUFWzAXxWswGoV7MB1FizAQBaswEsW7MBWFyzAYRdswGwXrMB3F+zAQhhswE0YrMBYGOzAYxkswG4ZbMB5GazARBoswE8abMBaGqzAZRrswHAbLMB7G2zARhvswFEcLMBcHGzAZxyswHIc7MB9HSzASB2swFMd7MBeHizAaR5swHQerMB/HuzASh9swFUfrMBgH+zAayAswHYgbMBBIOzATCEswFchbMBiIazAbSHswHgiLMBDIqzATiLswFkjLMBkI2zAbyOswHoj7MBFJGzAUCSswFsk7MBmJSzAcSVswHwlrMBHJizAUiZswF0mrMBoJuzAcycswH4nbMBJJ+zAVCgswF8obMBqKKzAdSjswEApbMBLKazAVinswGEqLMBsKmzAdyqswEIrLMBNK2zAWCuswGMr7MBuLCzAeSxswEQs7MBPLSzAWi1swGUtrMBwLezAey4swEYurMBRLuzAXC8swGcvbMByL6zAfS/swEgwbMBTMKzAXjDswGkxLMB0MWzAfzGswEoyLMBVMmzAYDKswGsy7MB2MyzAQTOswEwz7MBXNCzAYjRswG00rMB4NOzAQzVswE41rMBZNezAZDYswG82bMB6NqzARTcswFA3bMBbN6zAZjfswHE4LMB8OGzARzjswFI5LMBdOWzAaDmswHM57MB+OizASTqswFQ67MBfOyzAajtswHU7rMBAPCzASzxswFY8rMBhPOzAbD0swHc9bMBCPezATT4swFg+bMBjPqzAbj7swHk/LMBEP6zATz/swFoALQBlAG0AcACtAHsA7QBGAW0AUQGtAFwB7QBnAi0AcgJtAH0CrQBIAy0AUwNtAF4DrQBpA+0AdAQtAH8EbQBKBO0AVQUtAGAFbQBrBa0AdgXtAEEGbQB\",\"dtype\":\"int32\",\"order\":\"little\",\"shape\":[201]},\"variant_midpoint\":{\"__ndarray__\":\"Dy6zATsvswFnMLMBkzGzAb8yswHrM7MBFzWzAUM2swFvN7MBmzizAcc5swHzOrMBHzyzAUs9swF3PrMBoz+zAc9AswH7QbMBJ0OzAVNEswF/RbMBq0azAddHswEDSbMBL0qzAVtLswGHTLMBs02zAd9OswELULMBN1GzAWNSswGPU7MBu1SzAedVswETV7MBP1izAWtZswGXWrMBw1uzAe9cswEbXrMBR1+zAXNgswGfYbMBy2KzAfdjswEjZbMBT2azAXtnswGnaLMB02mzAf9qswErbLMBV22zAYNuswGvb7MB23CzAQdyswEzc7MBX3SzAYt1swG3drMB43ezAQ95swE7erMBZ3uzAZN8swG/fbMB636zAReAswFDgbMBb4KzAZuDswHHhLMB84WzAR+HswFLiLMBd4mzAaOKswHPi7MB+4yzASeOswFTj7MBf5CzAauRswHXkrMBA5SzAS+VswFblrMBh5ezAbOYswHfmbMBC5uzATecswFjnbMBj56zAbufswHnoLMBE6KzAT+jswFrpLMBl6WzAcOmswHvp7MBG6mzAUeqswFzq7MBn6yzAcutswH3rrMBI7CzAU+xswF7srMBp7OzAdO0swH/tbMBK7ezAVe4swGDubMBr7qzAdu7swEHvbMBM76zAV+/swGLwLMBt8GzAePCswEPxLMBO8WzAWfGswGTx7MBv8izAevJswEXy7MBQ8yzAW/NswGbzrMBx8+zAfPQswEf0rMBS9OzAXfUswGj1bMBz9azAfvXswEn2bMBU9qzAX/bswGr3LMB192zAQPfswEv4LMBW+GzAYfiswGz47MB3+SzAQvmswE357MBY+izAY/pswG76rMB5+uzARPtswE/7rMBa++zAZfwswHD8bMB7/KzARv0swFH9bMBc/azAZ/3swHL+LMB9/mzASP7swFP/LMBe/2zAaf+swHT/7MB/wC0ASsCtAFXA7QBgwS0Aa8FtAHbBrQBBwi0ATMJtAFfCrQBiwu0AbcMtAHjDbQBDw+0ATsQtAFnEbQBkxK0Ab8TtAHrFLQBFxa0AUMXtAFvGLQB\",\"dtype\":\"int32\",\"order\":\"little\",\"shape\":[201]},\"variant_position\":{\"__ndarray__\":\"eS2zAaUuswHRL7MB/TCzASkyswFVM7MBgTSzAa01swHZNrMBBTizATE5swFdOrMBiTuzAbU8swHhPbMBDT+zATlAswFlQbMBkUKzAb1DswHpRLMBFUazAUFHswFtSLMBmUmzAcVKswHxS7MBHU2zAUlOswF1T7MBoVCzAc1RswH5UrMBJVSzAVFVswF9VrMBqVezAdVYswEBWrMBLVuzAVlcswGFXbMBsV6zAd1fswEJYbMBNWKzAWFjswGNZLMBuWWzAeVmswERaLMBPWmzAWlqswGVa7MBwWyzAe1tswEZb7MBRXCzAXFxswGdcrMByXOzAfV0swEhdrMBTXezAXl4swGlebMB0XqzAf17swEpfbMBVX6zAYF/swGtgLMB2YGzAQWDswExhLMBXYWzAYmGswG1h7MB4YizAQ2KswE5i7MBZYyzAZGNswG9jrMB6Y+zARWRswFBkrMBbZOzAZmUswHFlbMB8ZazAR2YswFJmbMBdZqzAaGbswHNnLMB+Z2zASWfswFRoLMBfaGzAamiswHVo7MBAaWzAS2mswFZp7MBhaizAbGpswHdqrMBCayzATWtswFhrrMBja+zAbmwswHlsbMBEbOzAT20swFptbMBlbazAcG3swHtuLMBGbqzAUW7swFxvLMBnb2zAcm+swH1v7MBIcGzAU3CswF5w7MBpcSzAdHFswH9xrMBKcizAVXJswGByrMBrcuzAdnMswEFzrMBMc+zAV3QswGJ0bMBtdKzAeHTswEN1bMBOdazAWXXswGR2LMBvdmzAenaswEV3LMBQd2zAW3eswGZ37MBxeCzAfHhswEd47MBSeSzAXXlswGh5rMBzeezAfnoswEl6rMBUeuzAX3sswGp7bMB1e6zAQHwswEt8bMBWfKzAYXzswGx9LMB3fWzAQn3swE1+LMBYfmzAY36swG5+7MB5fyzARH+swE9/7MBaQC0AZUBtAHBArQB7QO0ARkFtAFFBrQBcQe0AZ0ItAHJCbQB9Qq0ASEMtAFNDbQBeQ60AaUPtAHRELQB/RG0ASkTtAFVFLQBgRW0Aa0WtAHZF7QB\",\"dtype\":\"int32\",\"order\":\"little\",\"shape\":[201]},\"variants\":[0,1,2,3,4,5,6,7,8,9,10,11,12,13,14,15,16,17,18,19,20,21,22,23,24,25,26,27,28,29,30,31,32,33,34,35,36,37,38,39,40,41,42,43,44,45,46,47,48,49,50,51,52,53,54,55,56,57,58,59,60,61,62,63,64,65,66,67,68,69,70,71,72,73,74,75,76,77,78,79,80,81,82,83,84,85,86,87,88,89,90,91,92,93,94,95,96,97,98,99,100,101,102,103,104,105,106,107,108,109,110,111,112,113,114,115,116,117,118,119,120,121,122,123,124,125,126,127,128,129,130,131,132,133,134,135,136,137,138,139,140,141,142,143,144,145,146,147,148,149,150,151,152,153,154,155,156,157,158,159,160,161,162,163,164,165,166,167,168,169,170,171,172,173,174,175,176,177,178,179,180,181,182,183,184,185,186,187,188,189,190,191,192,193,194,195,196,197,198,199,200]},\"selected\":{\"id\":\"2740\"},\"selection_policy\":{\"id\":\"2739\"}},\"id\":\"2725\",\"type\":\"ColumnDataSource\"},{\"attributes\":{\"axis\":{\"id\":\"2781\"},\"coordinates\":null,\"dimension\":1,\"group\":null,\"ticker\":null,\"visible\":false},\"id\":\"2784\",\"type\":\"Grid\"},{\"attributes\":{\"bounds\":\"auto\",\"end\":28580100,\"start\":28519801},\"id\":\"2695\",\"type\":\"Range1d\"},{\"attributes\":{\"toolbars\":[{\"id\":\"2719\"},{\"id\":\"2791\"}],\"tools\":[{\"id\":\"2696\"},{\"id\":\"2715\"},{\"id\":\"2716\"},{\"id\":\"2717\"},{\"id\":\"2718\"},{\"id\":\"2766\"},{\"id\":\"2785\"},{\"id\":\"2786\"},{\"id\":\"2787\"},{\"id\":\"2788\"},{\"id\":\"2789\"},{\"id\":\"2790\"}]},\"id\":\"2838\",\"type\":\"ProxyToolbar\"},{\"attributes\":{\"toolbar\":{\"id\":\"2838\"},\"toolbar_location\":\"above\"},\"id\":\"2839\",\"type\":\"ToolbarBox\"},{\"attributes\":{},\"id\":\"2788\",\"type\":\"ResetTool\"},{\"attributes\":{},\"id\":\"2718\",\"type\":\"ResetTool\"},{\"attributes\":{\"coordinates\":null,\"formatter\":{\"id\":\"2801\"},\"group\":null,\"major_label_overrides\":{\"0.4\":\"-\",\"1.4\":\"+\"},\"major_label_policy\":{\"id\":\"2802\"},\"ticker\":{\"id\":\"2815\"}},\"id\":\"2781\",\"type\":\"LinearAxis\"},{\"attributes\":{\"dimensions\":\"width\"},\"id\":\"2785\",\"type\":\"PanTool\"},{\"attributes\":{\"line_alpha\":0.2,\"line_color\":\"#1f77b4\",\"line_width\":2,\"x\":{\"field\":\"variant_midpoint\"},\"y\":{\"field\":\"call_CN\"}},\"id\":\"2747\",\"type\":\"Line\"},{\"attributes\":{},\"id\":\"2801\",\"type\":\"BasicTickFormatter\"},{\"attributes\":{\"active_drag\":{\"id\":\"2785\"},\"active_scroll\":{\"id\":\"2766\"},\"tools\":[{\"id\":\"2766\"},{\"id\":\"2785\"},{\"id\":\"2786\"},{\"id\":\"2787\"},{\"id\":\"2788\"},{\"id\":\"2789\"},{\"id\":\"2790\"}]},\"id\":\"2791\",\"type\":\"Toolbar\"},{\"attributes\":{\"fill_color\":{\"value\":null},\"line_width\":{\"value\":0.5},\"size\":{\"value\":3},\"x\":{\"field\":\"variant_midpoint\"},\"y\":{\"field\":\"call_NormCov\"}},\"id\":\"2727\",\"type\":\"Circle\"},{\"attributes\":{\"data\":{\"ID\":[\"AGAP006221\",\"AGAP006222\",\"AGAP006223\",\"AGAP006224\",\"AGAP006225\",\"AGAP006226\",\"AGAP006227\",\"AGAP006228\",\"AGAP006229\",\"AGAP006231\",\"AGAP006232\",\"AGAP006233\",\"AGAP006234\",\"AGAP006235\",\"AGAP006236\",\"AGAP006237\",\"AGAP006238\",\"AGAP006239\"],\"Name\":[\"\",\"\",\"\",\"\",\"\",\"Aldehyde_oxidase\",\"\",\"COEAE2F\",\"Vps20\",\"\",\"Pex14\",\"\",\"\",\"\",\"\",\"\",\"\",\"\"],\"Parent\":[\"NaN\",\"NaN\",\"NaN\",\"NaN\",\"NaN\",\"NaN\",\"NaN\",\"NaN\",\"NaN\",\"NaN\",\"NaN\",\"NaN\",\"NaN\",\"NaN\",\"NaN\",\"NaN\",\"NaN\",\"NaN\"],\"bottom\":[1,1,1,1,1,1,0,1,1,1,0,1,1,0,0,0,1,1],\"contig\":[\"2L\",\"2L\",\"2L\",\"2L\",\"2L\",\"2L\",\"2L\",\"2L\",\"2L\",\"2L\",\"2L\",\"2L\",\"2L\",\"2L\",\"2L\",\"2L\",\"2L\",\"2L\"],\"description\":[\"aldehyde oxidase [Source:VB Community Annotation]\",\"glucosyl/glucuronosyl transferases [Source:VB Community Annotation]\",\"glucosyl/glucuronosyl transferases [Source:VB Community Annotation]\",\"aldehyde oxidase [Source:VB Community Annotation]\",\"aldehyde oxidase [Source:VB Community Annotation]\",\"\",\"alpha esterase [Source:VB Community Annotation]\",\"carboxylesterase [Source:VB Community Annotation]\",\"vacuolar protein sorting 20 [Source:VB Community Annotation]\",\"serine/threonine-protein phosphatase dullard homolog [Source:VB Community Annotation]\",\"peroxin-14 [Source:VB Community Annotation]\",\"\",\"protein SHQ1 [Source:VB Community Annotation]\",\"\",\"\",\"Negative elongation factor E [Source:VB Community Annotation]\",\"ubiquitin-conjugating enzyme E2 C [Source:VB Community Annotation]\",\"Protein TSSC1 [Source:VB Community Annotation]\"],\"end\":[28523900,28526317,28528641,28533199,28539416,28545294,28547938,28550748,28552032,28560186,28565368,28567186,28569087,28572971,28574496,28575725,28579600,28581250],\"index\":[24735,24757,24771,24785,24801,24817,24832,24850,24862,24874,24890,24904,24912,24924,24940,24947,24953,24961],\"phase\":{\"__ndarray__\":\"AAAAAAAA+H8AAAAAAAD4fwAAAAAAAPh/AAAAAAAA+H8AAAAAAAD4fwAAAAAAAPh/AAAAAAAA+H8AAAAAAAD4fwAAAAAAAPh/AAAAAAAA+H8AAAAAAAD4fwAAAAAAAPh/AAAAAAAA+H8AAAAAAAD4fwAAAAAAAPh/AAAAAAAA+H8AAAAAAAD4fwAAAAAAAPh/\",\"dtype\":\"float64\",\"order\":\"little\",\"shape\":[18]},\"score\":{\"__ndarray__\":\"AAAAAAAA+H8AAAAAAAD4fwAAAAAAAPh/AAAAAAAA+H8AAAAAAAD4fwAAAAAAAPh/AAAAAAAA+H8AAAAAAAD4fwAAAAAAAPh/AAAAAAAA+H8AAAAAAAD4fwAAAAAAAPh/AAAAAAAA+H8AAAAAAAD4fwAAAAAAAPh/AAAAAAAA+H8AAAAAAAD4fwAAAAAAAPh/\",\"dtype\":\"float64\",\"order\":\"little\",\"shape\":[18]},\"source\":[\"VectorBase\",\"VectorBase\",\"VectorBase\",\"VectorBase\",\"VectorBase\",\"VectorBase\",\"VectorBase\",\"VectorBase\",\"VectorBase\",\"VectorBase\",\"VectorBase\",\"VectorBase\",\"VectorBase\",\"VectorBase\",\"VectorBase\",\"VectorBase\",\"VectorBase\",\"VectorBase\"],\"start\":[28518055,28524225,28526558,28528758,28534732,28540651,28545396,28548433,28550814,28552352,28563646,28565893,28567535,28569164,28573531,28574680,28576341,28579834],\"strand\":[\"+\",\"+\",\"+\",\"+\",\"+\",\"+\",\"-\",\"+\",\"+\",\"+\",\"-\",\"+\",\"+\",\"-\",\"-\",\"-\",\"+\",\"+\"],\"top\":{\"__ndarray__\":\"zczMzMzM/D/NzMzMzMz8P83MzMzMzPw/zczMzMzM/D/NzMzMzMz8P83MzMzMzPw/mpmZmZmZ6T/NzMzMzMz8P83MzMzMzPw/zczMzMzM/D+amZmZmZnpP83MzMzMzPw/zczMzMzM/D+amZmZmZnpP5qZmZmZmek/mpmZmZmZ6T/NzMzMzMz8P83MzMzMzPw/\",\"dtype\":\"float64\",\"order\":\"little\",\"shape\":[18]},\"type\":[\"gene\",\"gene\",\"gene\",\"gene\",\"gene\",\"gene\",\"gene\",\"gene\",\"gene\",\"gene\",\"gene\",\"gene\",\"gene\",\"gene\",\"gene\",\"gene\",\"gene\",\"gene\"]},\"selected\":{\"id\":\"2835\"},\"selection_policy\":{\"id\":\"2834\"}},\"id\":\"2807\",\"type\":\"ColumnDataSource\"},{\"attributes\":{},\"id\":\"2773\",\"type\":\"LinearScale\"},{\"attributes\":{},\"id\":\"2760\",\"type\":\"Selection\"},{\"attributes\":{\"url\":\"https://vectorbase.org/vectorbase/app/record/gene/@ID\"},\"id\":\"2806\",\"type\":\"OpenURL\"},{\"attributes\":{\"bottom\":{\"field\":\"bottom\"},\"fill_alpha\":{\"value\":0.5},\"fill_color\":{\"value\":\"#1f77b4\"},\"left\":{\"field\":\"start\"},\"line_color\":{\"value\":\"#1f77b4\"},\"line_width\":{\"value\":0.5},\"right\":{\"field\":\"end\"},\"top\":{\"field\":\"top\"}},\"id\":\"2809\",\"type\":\"Quad\"}],\"root_ids\":[\"2840\"]},\"title\":\"Bokeh Application\",\"version\":\"2.4.2\"}};\n  const render_items = [{\"docid\":\"b4cb56e4-d485-4e94-8a17-b1f84057c677\",\"root_ids\":[\"2840\"],\"roots\":{\"2840\":\"216caa90-6ce5-4fe6-a6da-36efc4a1f087\"}}];\n  root.Bokeh.embed.embed_items_notebook(docs_json, render_items);\n\n  }\n  if (root.Bokeh !== undefined) {\n    embed_document(root);\n  } else {\n    let attempts = 0;\n    const timer = setInterval(function(root) {\n      if (root.Bokeh !== undefined) {\n        clearInterval(timer);\n        embed_document(root);\n      } else {\n        attempts++;\n        if (attempts > 100) {\n          clearInterval(timer);\n          console.log(\"Bokeh: ERROR: Unable to run BokehJS code because BokehJS library is missing\");\n        }\n      }\n    }, 10, root)\n  }\n})(window);",
      "application/vnd.bokehjs_exec.v0+json": ""
     },
     "metadata": {
      "application/vnd.bokehjs_exec.v0+json": {
       "id": "2840"
      }
     },
     "output_type": "display_data"
    },
    {
     "data": {
      "text/html": [
       "\n",
       "\n",
       "\n",
       "\n",
       "\n",
       "\n",
       "  <div class=\"bk-root\" id=\"ad666806-1dba-4900-bf9e-95a4854191b4\" data-root-id=\"3178\"></div>\n"
      ]
     },
     "metadata": {},
     "output_type": "display_data"
    },
    {
     "data": {
      "application/javascript": "(function(root) {\n  function embed_document(root) {\n    \n  const docs_json = {\"0a86c47a-9016-40ec-8dbf-bcf838df5033\":{\"defs\":[],\"roots\":{\"references\":[{\"attributes\":{\"children\":[{\"id\":\"3177\"},{\"id\":\"3175\"}]},\"id\":\"3178\",\"type\":\"Column\"},{\"attributes\":{\"bottom\":{\"field\":\"bottom\"},\"fill_alpha\":{\"value\":0.2},\"fill_color\":{\"value\":\"#1f77b4\"},\"hatch_alpha\":{\"value\":0.2},\"left\":{\"field\":\"start\"},\"line_alpha\":{\"value\":0.2},\"line_color\":{\"value\":\"#1f77b4\"},\"line_width\":{\"value\":0.5},\"right\":{\"field\":\"end\"},\"top\":{\"field\":\"top\"}},\"id\":\"3149\",\"type\":\"Quad\"},{\"attributes\":{\"coordinates\":null,\"group\":null,\"items\":[{\"id\":\"3080\"},{\"id\":\"3099\"}]},\"id\":\"3079\",\"type\":\"Legend\"},{\"attributes\":{\"callback\":null,\"tooltips\":[[\"ID\",\"@ID\"],[\"Name\",\"@Name\"],[\"Description\",\"@description\"],[\"Location\",\"@contig:@start{,}-@end{,}\"]]},\"id\":\"3128\",\"type\":\"HoverTool\"},{\"attributes\":{\"coordinates\":null,\"data_source\":{\"id\":\"3145\"},\"glyph\":{\"id\":\"3147\"},\"group\":null,\"hover_glyph\":null,\"muted_glyph\":{\"id\":\"3149\"},\"nonselection_glyph\":{\"id\":\"3148\"},\"view\":{\"id\":\"3151\"}},\"id\":\"3150\",\"type\":\"GlyphRenderer\"},{\"attributes\":{\"children\":[[{\"id\":\"3035\"},0,0],[{\"id\":\"3105\"},1,0]]},\"id\":\"3175\",\"type\":\"GridBox\"},{\"attributes\":{},\"id\":\"3126\",\"type\":\"ResetTool\"},{\"attributes\":{\"end\":2.2,\"start\":-0.4},\"id\":\"3152\",\"type\":\"Range1d\"},{\"attributes\":{\"fill_color\":{\"value\":null},\"line_width\":{\"value\":0.5},\"size\":{\"value\":3},\"x\":{\"field\":\"variant_midpoint\"},\"y\":{\"field\":\"call_NormCov\"}},\"id\":\"3065\",\"type\":\"Circle\"},{\"attributes\":{\"bottom\":{\"field\":\"bottom\"},\"fill_alpha\":{\"value\":0.1},\"fill_color\":{\"value\":\"#1f77b4\"},\"hatch_alpha\":{\"value\":0.1},\"left\":{\"field\":\"start\"},\"line_alpha\":{\"value\":0.1},\"line_color\":{\"value\":\"#1f77b4\"},\"line_width\":{\"value\":0.5},\"right\":{\"field\":\"end\"},\"top\":{\"field\":\"top\"}},\"id\":\"3148\",\"type\":\"Quad\"},{\"attributes\":{\"fill_alpha\":{\"value\":0.1},\"fill_color\":{\"value\":null},\"hatch_alpha\":{\"value\":0.1},\"line_alpha\":{\"value\":0.1},\"line_width\":{\"value\":0.5},\"size\":{\"value\":3},\"x\":{\"field\":\"variant_midpoint\"},\"y\":{\"field\":\"call_NormCov\"}},\"id\":\"3066\",\"type\":\"Circle\"},{\"attributes\":{\"ticks\":[0,1,2,3,4,5,6,7,8,9,10]},\"id\":\"3100\",\"type\":\"FixedTicker\"},{\"attributes\":{},\"id\":\"3098\",\"type\":\"Selection\"},{\"attributes\":{\"source\":{\"id\":\"3081\"}},\"id\":\"3087\",\"type\":\"CDSView\"},{\"attributes\":{\"dimensions\":\"width\"},\"id\":\"3124\",\"type\":\"ZoomInTool\"},{\"attributes\":{\"dimensions\":\"width\",\"maintain_focus\":false},\"id\":\"3034\",\"type\":\"WheelZoomTool\"},{\"attributes\":{\"dimensions\":\"width\"},\"id\":\"3123\",\"type\":\"PanTool\"},{\"attributes\":{\"label\":{\"value\":\"HMM\"},\"renderers\":[{\"id\":\"3086\"}]},\"id\":\"3099\",\"type\":\"LegendItem\"},{\"attributes\":{\"line_color\":\"#1f77b4\",\"line_width\":2,\"x\":{\"field\":\"variant_midpoint\"},\"y\":{\"field\":\"call_CN\"}},\"id\":\"3083\",\"type\":\"Line\"},{\"attributes\":{},\"id\":\"3102\",\"type\":\"NumeralTickFormatter\"},{\"attributes\":{\"callback\":{\"id\":\"3144\"}},\"id\":\"3127\",\"type\":\"TapTool\"},{\"attributes\":{\"coordinates\":null,\"data_source\":{\"id\":\"3063\"},\"glyph\":{\"id\":\"3065\"},\"group\":null,\"hover_glyph\":null,\"muted_glyph\":{\"id\":\"3067\"},\"nonselection_glyph\":{\"id\":\"3066\"},\"view\":{\"id\":\"3069\"}},\"id\":\"3068\",\"type\":\"GlyphRenderer\"},{\"attributes\":{\"line_alpha\":0.1,\"line_color\":\"#1f77b4\",\"line_width\":2,\"x\":{\"field\":\"variant_midpoint\"},\"y\":{\"field\":\"call_CN\"}},\"id\":\"3084\",\"type\":\"Line\"},{\"attributes\":{\"source\":{\"id\":\"3145\"}},\"id\":\"3151\",\"type\":\"CDSView\"},{\"attributes\":{\"coordinates\":null,\"data_source\":{\"id\":\"3081\"},\"glyph\":{\"id\":\"3083\"},\"group\":null,\"hover_glyph\":null,\"muted_glyph\":{\"id\":\"3085\"},\"nonselection_glyph\":{\"id\":\"3084\"},\"view\":{\"id\":\"3087\"}},\"id\":\"3086\",\"type\":\"GlyphRenderer\"},{\"attributes\":{\"axis_label\":\"Contig 2L position (bp)\",\"coordinates\":null,\"formatter\":{\"id\":\"3155\"},\"group\":null,\"major_label_policy\":{\"id\":\"3143\"},\"ticker\":{\"id\":\"3116\"}},\"id\":\"3115\",\"type\":\"LinearAxis\"},{\"attributes\":{\"dimensions\":\"width\",\"maintain_focus\":false},\"id\":\"3104\",\"type\":\"WheelZoomTool\"},{\"attributes\":{\"active_drag\":{\"id\":\"3123\"},\"active_scroll\":{\"id\":\"3104\"},\"tools\":[{\"id\":\"3104\"},{\"id\":\"3123\"},{\"id\":\"3124\"},{\"id\":\"3125\"},{\"id\":\"3126\"},{\"id\":\"3127\"},{\"id\":\"3128\"}]},\"id\":\"3129\",\"type\":\"Toolbar\"},{\"attributes\":{\"dimensions\":\"width\"},\"id\":\"3125\",\"type\":\"ZoomOutTool\"},{\"attributes\":{},\"id\":\"3113\",\"type\":\"LinearScale\"},{\"attributes\":{\"line_alpha\":0.2,\"line_color\":\"#1f77b4\",\"line_width\":2,\"x\":{\"field\":\"variant_midpoint\"},\"y\":{\"field\":\"call_CN\"}},\"id\":\"3085\",\"type\":\"Line\"},{\"attributes\":{},\"id\":\"3140\",\"type\":\"AllLabels\"},{\"attributes\":{\"toolbars\":[{\"id\":\"3057\"},{\"id\":\"3129\"}],\"tools\":[{\"id\":\"3034\"},{\"id\":\"3053\"},{\"id\":\"3054\"},{\"id\":\"3055\"},{\"id\":\"3056\"},{\"id\":\"3104\"},{\"id\":\"3123\"},{\"id\":\"3124\"},{\"id\":\"3125\"},{\"id\":\"3126\"},{\"id\":\"3127\"},{\"id\":\"3128\"}]},\"id\":\"3176\",\"type\":\"ProxyToolbar\"},{\"attributes\":{\"toolbar\":{\"id\":\"3176\"},\"toolbar_location\":\"above\"},\"id\":\"3177\",\"type\":\"ToolbarBox\"},{\"attributes\":{\"dimensions\":\"width\"},\"id\":\"3054\",\"type\":\"ZoomInTool\"},{\"attributes\":{\"coordinates\":null,\"formatter\":{\"id\":\"3139\"},\"group\":null,\"major_label_overrides\":{\"0.4\":\"-\",\"1.4\":\"+\"},\"major_label_policy\":{\"id\":\"3140\"},\"ticker\":{\"id\":\"3153\"}},\"id\":\"3119\",\"type\":\"LinearAxis\"},{\"attributes\":{\"label\":{\"value\":\"Coverage\"},\"renderers\":[{\"id\":\"3068\"}]},\"id\":\"3080\",\"type\":\"LegendItem\"},{\"attributes\":{},\"id\":\"3072\",\"type\":\"BasicTickFormatter\"},{\"attributes\":{},\"id\":\"3041\",\"type\":\"LinearScale\"},{\"attributes\":{},\"id\":\"3155\",\"type\":\"NumeralTickFormatter\"},{\"attributes\":{\"axis\":{\"id\":\"3045\"},\"coordinates\":null,\"group\":null,\"ticker\":null},\"id\":\"3048\",\"type\":\"Grid\"},{\"attributes\":{\"axis_label\":\"Copy number\",\"coordinates\":null,\"formatter\":{\"id\":\"3072\"},\"group\":null,\"major_label_policy\":{\"id\":\"3073\"},\"ticker\":{\"id\":\"3100\"}},\"id\":\"3049\",\"type\":\"LinearAxis\"},{\"attributes\":{\"source\":{\"id\":\"3063\"}},\"id\":\"3069\",\"type\":\"CDSView\"},{\"attributes\":{},\"id\":\"3077\",\"type\":\"UnionRenderers\"},{\"attributes\":{\"below\":[{\"id\":\"3115\"}],\"center\":[{\"id\":\"3118\"},{\"id\":\"3122\"}],\"height\":120,\"left\":[{\"id\":\"3119\"}],\"renderers\":[{\"id\":\"3150\"}],\"title\":{\"id\":\"3106\"},\"toolbar\":{\"id\":\"3129\"},\"toolbar_location\":null,\"width\":800,\"x_range\":{\"id\":\"3033\"},\"x_scale\":{\"id\":\"3111\"},\"y_range\":{\"id\":\"3152\"},\"y_scale\":{\"id\":\"3113\"}},\"id\":\"3105\",\"subtype\":\"Figure\",\"type\":\"Plot\"},{\"attributes\":{\"bottom\":{\"field\":\"bottom\"},\"fill_alpha\":{\"value\":0.5},\"fill_color\":{\"value\":\"#1f77b4\"},\"left\":{\"field\":\"start\"},\"line_color\":{\"value\":\"#1f77b4\"},\"line_width\":{\"value\":0.5},\"right\":{\"field\":\"end\"},\"top\":{\"field\":\"top\"}},\"id\":\"3147\",\"type\":\"Quad\"},{\"attributes\":{\"data\":{\"call_CN\":{\"__ndarray__\":\"AgICAgICAgICAgICAgICAgICAgICAgICAgICAgICAgICAgICAgICAgICAgICAgICAgICAgQEBAQEBAQEBAQEBAQEBAQEBAQEBAQEBAQEBAQEBAQEBAQEBAQEBAQEBAMDAwMDAwMDAwMDAwMDAwMDAwMDAwMDAwMDAwMDAwMDAwMDAwMDAwMDAwMDAwMDAwMDAwMDAwMDAwMDBAQEBAQEBAQEBAQEBAQIBAQEBAQCAgICAgICAgICAgICAgICAgICAgICAgICAgIC\",\"dtype\":\"int8\",\"order\":\"little\",\"shape\":[201]},\"call_NormCov\":{\"__ndarray__\":\"AAAAQG8S0z81XgpAg8ASQCcxGEBqvOQ/Gy8FQF66AUC+nyJAHVrkPzm0yD+8dANAXroBQIcWEUBqvOQ/AAAAQB+F6z/XowhArBwiQG3nM0CuR+E/xSAIQMuhDUA/NRZAEFjJP6Aanz+DwCo/Vg4tP/LS3T/8qeE/XroBQJMYDEC8dANAbeczQOXQOkA1XgpAL920P7Kdzz9Ei/w/EoMIQBfZBkBokSVAgZXTP1pk2z8fhes/Di1yQJMYDEDsUQhAH4XrP2q8FEBeugFAPzW+P3nphkA3iSlAvp8iQJZDK0DJdlZABoGJQMl2VkCiRZJANV5yQD0KZ0B56YZAGQR2QNnOT0BEi2xAJQadQIPAhkBEi5xAj8KZQLx0g0AdWmRAXrqBQEJgiUBeuoFAHVpkQAAAgEDZzpdASgySQJqZWUDl0EpAKVxvQC2ybUAxCGxAbedzQJqZWUAdWmRAexRmQGq8VEDjpVtASgyGQKJFfkBKDIZAZmZmQArXQ0C+n2JAhxY5QFCNX0BCYF1AtvMtQG3nM0Bcj0JAbeczQAIrP0CuR1FAarxUQD81FkC28x1AGy+FQOXQSkBEi3xAUI1PQO58d0DByllAbxJLQFCNT0CTGExABFY+QAAAIECYblpArBwqQD0KV0DXo0hA7nx3QFCNT0C+n2JAbxJLQKabHED6flJAy6F1QCGwKkAOLTJAeelGQIXrWUCiRT5A/tQwQGZmZkCgGl9ANV5yQFYOZUBCYF1ADAJjQK5HYUACK09ANV5qQP7UQEAAAEBApHA9QOxROEBQjU9A1XgxQAwC2z/hehRA7nx3QHnphkAbL4VA5/uFQItsg0C6SWxAnMRYQDEIdEDl0HpADAJTQHsULkACK19ADAJjQHnpbkBzaP1APQpnQKjGh0D2KIRA/KmNQBKDOEASgwhA46UbQNNN8j9eugFA7FEIQKjG6z8AACBABFYeQMl2FkCgGu8/bxLTPyGw8j9CYOU/AAAAQClcD0DNzMw/AAAAQIcWEUAbLwVA16MIQLx0A0CuR+E/y6H1P/T95D8CKw9AH4XrP6wcyj+HFvk/\",\"dtype\":\"float32\",\"order\":\"little\",\"shape\":[201]},\"samples\":[\"BL0292-C\",\"BL0292-C\",\"BL0292-C\",\"BL0292-C\",\"BL0292-C\",\"BL0292-C\",\"BL0292-C\",\"BL0292-C\",\"BL0292-C\",\"BL0292-C\",\"BL0292-C\",\"BL0292-C\",\"BL0292-C\",\"BL0292-C\",\"BL0292-C\",\"BL0292-C\",\"BL0292-C\",\"BL0292-C\",\"BL0292-C\",\"BL0292-C\",\"BL0292-C\",\"BL0292-C\",\"BL0292-C\",\"BL0292-C\",\"BL0292-C\",\"BL0292-C\",\"BL0292-C\",\"BL0292-C\",\"BL0292-C\",\"BL0292-C\",\"BL0292-C\",\"BL0292-C\",\"BL0292-C\",\"BL0292-C\",\"BL0292-C\",\"BL0292-C\",\"BL0292-C\",\"BL0292-C\",\"BL0292-C\",\"BL0292-C\",\"BL0292-C\",\"BL0292-C\",\"BL0292-C\",\"BL0292-C\",\"BL0292-C\",\"BL0292-C\",\"BL0292-C\",\"BL0292-C\",\"BL0292-C\",\"BL0292-C\",\"BL0292-C\",\"BL0292-C\",\"BL0292-C\",\"BL0292-C\",\"BL0292-C\",\"BL0292-C\",\"BL0292-C\",\"BL0292-C\",\"BL0292-C\",\"BL0292-C\",\"BL0292-C\",\"BL0292-C\",\"BL0292-C\",\"BL0292-C\",\"BL0292-C\",\"BL0292-C\",\"BL0292-C\",\"BL0292-C\",\"BL0292-C\",\"BL0292-C\",\"BL0292-C\",\"BL0292-C\",\"BL0292-C\",\"BL0292-C\",\"BL0292-C\",\"BL0292-C\",\"BL0292-C\",\"BL0292-C\",\"BL0292-C\",\"BL0292-C\",\"BL0292-C\",\"BL0292-C\",\"BL0292-C\",\"BL0292-C\",\"BL0292-C\",\"BL0292-C\",\"BL0292-C\",\"BL0292-C\",\"BL0292-C\",\"BL0292-C\",\"BL0292-C\",\"BL0292-C\",\"BL0292-C\",\"BL0292-C\",\"BL0292-C\",\"BL0292-C\",\"BL0292-C\",\"BL0292-C\",\"BL0292-C\",\"BL0292-C\",\"BL0292-C\",\"BL0292-C\",\"BL0292-C\",\"BL0292-C\",\"BL0292-C\",\"BL0292-C\",\"BL0292-C\",\"BL0292-C\",\"BL0292-C\",\"BL0292-C\",\"BL0292-C\",\"BL0292-C\",\"BL0292-C\",\"BL0292-C\",\"BL0292-C\",\"BL0292-C\",\"BL0292-C\",\"BL0292-C\",\"BL0292-C\",\"BL0292-C\",\"BL0292-C\",\"BL0292-C\",\"BL0292-C\",\"BL0292-C\",\"BL0292-C\",\"BL0292-C\",\"BL0292-C\",\"BL0292-C\",\"BL0292-C\",\"BL0292-C\",\"BL0292-C\",\"BL0292-C\",\"BL0292-C\",\"BL0292-C\",\"BL0292-C\",\"BL0292-C\",\"BL0292-C\",\"BL0292-C\",\"BL0292-C\",\"BL0292-C\",\"BL0292-C\",\"BL0292-C\",\"BL0292-C\",\"BL0292-C\",\"BL0292-C\",\"BL0292-C\",\"BL0292-C\",\"BL0292-C\",\"BL0292-C\",\"BL0292-C\",\"BL0292-C\",\"BL0292-C\",\"BL0292-C\",\"BL0292-C\",\"BL0292-C\",\"BL0292-C\",\"BL0292-C\",\"BL0292-C\",\"BL0292-C\",\"BL0292-C\",\"BL0292-C\",\"BL0292-C\",\"BL0292-C\",\"BL0292-C\",\"BL0292-C\",\"BL0292-C\",\"BL0292-C\",\"BL0292-C\",\"BL0292-C\",\"BL0292-C\",\"BL0292-C\",\"BL0292-C\",\"BL0292-C\",\"BL0292-C\",\"BL0292-C\",\"BL0292-C\",\"BL0292-C\",\"BL0292-C\",\"BL0292-C\",\"BL0292-C\",\"BL0292-C\",\"BL0292-C\",\"BL0292-C\",\"BL0292-C\",\"BL0292-C\",\"BL0292-C\",\"BL0292-C\",\"BL0292-C\",\"BL0292-C\",\"BL0292-C\",\"BL0292-C\",\"BL0292-C\",\"BL0292-C\",\"BL0292-C\",\"BL0292-C\",\"BL0292-C\",\"BL0292-C\",\"BL0292-C\",\"BL0292-C\",\"BL0292-C\",\"BL0292-C\"],\"variant_contig\":{\"__ndarray__\":\"AQEBAQEBAQEBAQEBAQEBAQEBAQEBAQEBAQEBAQEBAQEBAQEBAQEBAQEBAQEBAQEBAQEBAQEBAQEBAQEBAQEBAQEBAQEBAQEBAQEBAQEBAQEBAQEBAQEBAQEBAQEBAQEBAQEBAQEBAQEBAQEBAQEBAQEBAQEBAQEBAQEBAQEBAQEBAQEBAQEBAQEBAQEBAQEBAQEBAQEBAQEBAQEBAQEBAQEBAQEBAQEBAQEBAQEBAQEBAQEBAQEBAQEBAQEBAQEBAQEBAQEBAQEB\",\"dtype\":\"uint8\",\"order\":\"little\",\"shape\":[201]},\"variant_end\":{\"__ndarray__\":\"pC6zAdAvswH8MLMBKDKzAVQzswGANLMBrDWzAdg2swEEOLMBMDmzAVw6swGIO7MBtDyzAeA9swEMP7MBOECzAWRBswGQQrMBvEOzAehEswEURrMBQEezAWxIswGYSbMBxEqzAfBLswEcTbMBSE6zAXRPswGgULMBzFGzAfhSswEkVLMBUFWzAXxWswGoV7MB1FizAQBaswEsW7MBWFyzAYRdswGwXrMB3F+zAQhhswE0YrMBYGOzAYxkswG4ZbMB5GazARBoswE8abMBaGqzAZRrswHAbLMB7G2zARhvswFEcLMBcHGzAZxyswHIc7MB9HSzASB2swFMd7MBeHizAaR5swHQerMB/HuzASh9swFUfrMBgH+zAayAswHYgbMBBIOzATCEswFchbMBiIazAbSHswHgiLMBDIqzATiLswFkjLMBkI2zAbyOswHoj7MBFJGzAUCSswFsk7MBmJSzAcSVswHwlrMBHJizAUiZswF0mrMBoJuzAcycswH4nbMBJJ+zAVCgswF8obMBqKKzAdSjswEApbMBLKazAVinswGEqLMBsKmzAdyqswEIrLMBNK2zAWCuswGMr7MBuLCzAeSxswEQs7MBPLSzAWi1swGUtrMBwLezAey4swEYurMBRLuzAXC8swGcvbMByL6zAfS/swEgwbMBTMKzAXjDswGkxLMB0MWzAfzGswEoyLMBVMmzAYDKswGsy7MB2MyzAQTOswEwz7MBXNCzAYjRswG00rMB4NOzAQzVswE41rMBZNezAZDYswG82bMB6NqzARTcswFA3bMBbN6zAZjfswHE4LMB8OGzARzjswFI5LMBdOWzAaDmswHM57MB+OizASTqswFQ67MBfOyzAajtswHU7rMBAPCzASzxswFY8rMBhPOzAbD0swHc9bMBCPezATT4swFg+bMBjPqzAbj7swHk/LMBEP6zATz/swFoALQBlAG0AcACtAHsA7QBGAW0AUQGtAFwB7QBnAi0AcgJtAH0CrQBIAy0AUwNtAF4DrQBpA+0AdAQtAH8EbQBKBO0AVQUtAGAFbQBrBa0AdgXtAEEGbQB\",\"dtype\":\"int32\",\"order\":\"little\",\"shape\":[201]},\"variant_midpoint\":{\"__ndarray__\":\"Dy6zATsvswFnMLMBkzGzAb8yswHrM7MBFzWzAUM2swFvN7MBmzizAcc5swHzOrMBHzyzAUs9swF3PrMBoz+zAc9AswH7QbMBJ0OzAVNEswF/RbMBq0azAddHswEDSbMBL0qzAVtLswGHTLMBs02zAd9OswELULMBN1GzAWNSswGPU7MBu1SzAedVswETV7MBP1izAWtZswGXWrMBw1uzAe9cswEbXrMBR1+zAXNgswGfYbMBy2KzAfdjswEjZbMBT2azAXtnswGnaLMB02mzAf9qswErbLMBV22zAYNuswGvb7MB23CzAQdyswEzc7MBX3SzAYt1swG3drMB43ezAQ95swE7erMBZ3uzAZN8swG/fbMB636zAReAswFDgbMBb4KzAZuDswHHhLMB84WzAR+HswFLiLMBd4mzAaOKswHPi7MB+4yzASeOswFTj7MBf5CzAauRswHXkrMBA5SzAS+VswFblrMBh5ezAbOYswHfmbMBC5uzATecswFjnbMBj56zAbufswHnoLMBE6KzAT+jswFrpLMBl6WzAcOmswHvp7MBG6mzAUeqswFzq7MBn6yzAcutswH3rrMBI7CzAU+xswF7srMBp7OzAdO0swH/tbMBK7ezAVe4swGDubMBr7qzAdu7swEHvbMBM76zAV+/swGLwLMBt8GzAePCswEPxLMBO8WzAWfGswGTx7MBv8izAevJswEXy7MBQ8yzAW/NswGbzrMBx8+zAfPQswEf0rMBS9OzAXfUswGj1bMBz9azAfvXswEn2bMBU9qzAX/bswGr3LMB192zAQPfswEv4LMBW+GzAYfiswGz47MB3+SzAQvmswE357MBY+izAY/pswG76rMB5+uzARPtswE/7rMBa++zAZfwswHD8bMB7/KzARv0swFH9bMBc/azAZ/3swHL+LMB9/mzASP7swFP/LMBe/2zAaf+swHT/7MB/wC0ASsCtAFXA7QBgwS0Aa8FtAHbBrQBBwi0ATMJtAFfCrQBiwu0AbcMtAHjDbQBDw+0ATsQtAFnEbQBkxK0Ab8TtAHrFLQBFxa0AUMXtAFvGLQB\",\"dtype\":\"int32\",\"order\":\"little\",\"shape\":[201]},\"variant_position\":{\"__ndarray__\":\"eS2zAaUuswHRL7MB/TCzASkyswFVM7MBgTSzAa01swHZNrMBBTizATE5swFdOrMBiTuzAbU8swHhPbMBDT+zATlAswFlQbMBkUKzAb1DswHpRLMBFUazAUFHswFtSLMBmUmzAcVKswHxS7MBHU2zAUlOswF1T7MBoVCzAc1RswH5UrMBJVSzAVFVswF9VrMBqVezAdVYswEBWrMBLVuzAVlcswGFXbMBsV6zAd1fswEJYbMBNWKzAWFjswGNZLMBuWWzAeVmswERaLMBPWmzAWlqswGVa7MBwWyzAe1tswEZb7MBRXCzAXFxswGdcrMByXOzAfV0swEhdrMBTXezAXl4swGlebMB0XqzAf17swEpfbMBVX6zAYF/swGtgLMB2YGzAQWDswExhLMBXYWzAYmGswG1h7MB4YizAQ2KswE5i7MBZYyzAZGNswG9jrMB6Y+zARWRswFBkrMBbZOzAZmUswHFlbMB8ZazAR2YswFJmbMBdZqzAaGbswHNnLMB+Z2zASWfswFRoLMBfaGzAamiswHVo7MBAaWzAS2mswFZp7MBhaizAbGpswHdqrMBCayzATWtswFhrrMBja+zAbmwswHlsbMBEbOzAT20swFptbMBlbazAcG3swHtuLMBGbqzAUW7swFxvLMBnb2zAcm+swH1v7MBIcGzAU3CswF5w7MBpcSzAdHFswH9xrMBKcizAVXJswGByrMBrcuzAdnMswEFzrMBMc+zAV3QswGJ0bMBtdKzAeHTswEN1bMBOdazAWXXswGR2LMBvdmzAenaswEV3LMBQd2zAW3eswGZ37MBxeCzAfHhswEd47MBSeSzAXXlswGh5rMBzeezAfnoswEl6rMBUeuzAX3sswGp7bMB1e6zAQHwswEt8bMBWfKzAYXzswGx9LMB3fWzAQn3swE1+LMBYfmzAY36swG5+7MB5fyzARH+swE9/7MBaQC0AZUBtAHBArQB7QO0ARkFtAFFBrQBcQe0AZ0ItAHJCbQB9Qq0ASEMtAFNDbQBeQ60AaUPtAHRELQB/RG0ASkTtAFVFLQBgRW0Aa0WtAHZF7QB\",\"dtype\":\"int32\",\"order\":\"little\",\"shape\":[201]},\"variants\":[0,1,2,3,4,5,6,7,8,9,10,11,12,13,14,15,16,17,18,19,20,21,22,23,24,25,26,27,28,29,30,31,32,33,34,35,36,37,38,39,40,41,42,43,44,45,46,47,48,49,50,51,52,53,54,55,56,57,58,59,60,61,62,63,64,65,66,67,68,69,70,71,72,73,74,75,76,77,78,79,80,81,82,83,84,85,86,87,88,89,90,91,92,93,94,95,96,97,98,99,100,101,102,103,104,105,106,107,108,109,110,111,112,113,114,115,116,117,118,119,120,121,122,123,124,125,126,127,128,129,130,131,132,133,134,135,136,137,138,139,140,141,142,143,144,145,146,147,148,149,150,151,152,153,154,155,156,157,158,159,160,161,162,163,164,165,166,167,168,169,170,171,172,173,174,175,176,177,178,179,180,181,182,183,184,185,186,187,188,189,190,191,192,193,194,195,196,197,198,199,200]},\"selected\":{\"id\":\"3078\"},\"selection_policy\":{\"id\":\"3077\"}},\"id\":\"3063\",\"type\":\"ColumnDataSource\"},{\"attributes\":{\"dimensions\":\"width\"},\"id\":\"3053\",\"type\":\"PanTool\"},{\"attributes\":{\"axis\":{\"id\":\"3119\"},\"coordinates\":null,\"dimension\":1,\"group\":null,\"ticker\":null,\"visible\":false},\"id\":\"3122\",\"type\":\"Grid\"},{\"attributes\":{},\"id\":\"3073\",\"type\":\"AllLabels\"},{\"attributes\":{},\"id\":\"3173\",\"type\":\"Selection\"},{\"attributes\":{\"axis\":{\"id\":\"3049\"},\"coordinates\":null,\"dimension\":1,\"group\":null,\"ticker\":null},\"id\":\"3052\",\"type\":\"Grid\"},{\"attributes\":{\"coordinates\":null,\"group\":null,\"text\":\"CNV HMM - BL0292-C (AG1000G-TZ)\"},\"id\":\"3036\",\"type\":\"Title\"},{\"attributes\":{},\"id\":\"3043\",\"type\":\"LinearScale\"},{\"attributes\":{\"below\":[{\"id\":\"3045\"}],\"center\":[{\"id\":\"3048\"},{\"id\":\"3052\"},{\"id\":\"3079\"}],\"height\":170,\"left\":[{\"id\":\"3049\"}],\"renderers\":[{\"id\":\"3068\"},{\"id\":\"3086\"}],\"right\":[{\"id\":\"3079\"}],\"title\":{\"id\":\"3036\"},\"toolbar\":{\"id\":\"3057\"},\"toolbar_location\":null,\"width\":800,\"x_range\":{\"id\":\"3033\"},\"x_scale\":{\"id\":\"3041\"},\"y_range\":{\"id\":\"3039\"},\"y_scale\":{\"id\":\"3043\"}},\"id\":\"3035\",\"subtype\":\"Figure\",\"type\":\"Plot\"},{\"attributes\":{\"url\":\"https://vectorbase.org/vectorbase/app/record/gene/@ID\"},\"id\":\"3144\",\"type\":\"OpenURL\"},{\"attributes\":{},\"id\":\"3116\",\"type\":\"BasicTicker\"},{\"attributes\":{\"axis\":{\"id\":\"3115\"},\"coordinates\":null,\"group\":null,\"ticker\":null},\"id\":\"3118\",\"type\":\"Grid\"},{\"attributes\":{\"fill_alpha\":{\"value\":0.2},\"fill_color\":{\"value\":null},\"hatch_alpha\":{\"value\":0.2},\"line_alpha\":{\"value\":0.2},\"line_width\":{\"value\":0.5},\"size\":{\"value\":3},\"x\":{\"field\":\"variant_midpoint\"},\"y\":{\"field\":\"call_NormCov\"}},\"id\":\"3067\",\"type\":\"Circle\"},{\"attributes\":{\"axis_label\":\"Contig 2L position (bp)\",\"coordinates\":null,\"formatter\":{\"id\":\"3102\"},\"group\":null,\"major_label_policy\":{\"id\":\"3076\"},\"ticker\":{\"id\":\"3046\"},\"visible\":false},\"id\":\"3045\",\"type\":\"LinearAxis\"},{\"attributes\":{},\"id\":\"3097\",\"type\":\"UnionRenderers\"},{\"attributes\":{\"end\":10},\"id\":\"3039\",\"type\":\"Range1d\"},{\"attributes\":{\"data\":{\"call_CN\":{\"__ndarray__\":\"AgICAgICAgICAgICAgICAgICAgICAgICAgICAgICAgICAgICAgICAgICAgICAgICAgICAgQEBAQEBAQEBAQEBAQEBAQEBAQEBAQEBAQEBAQEBAQEBAQEBAQEBAQEBAMDAwMDAwMDAwMDAwMDAwMDAwMDAwMDAwMDAwMDAwMDAwMDAwMDAwMDAwMDAwMDAwMDAwMDAwMDAwMDBAQEBAQEBAQEBAQEBAQIBAQEBAQCAgICAgICAgICAgICAgICAgICAgICAgICAgIC\",\"dtype\":\"int8\",\"order\":\"little\",\"shape\":[201]},\"call_NormCov\":{\"__ndarray__\":\"AAAAQG8S0z81XgpAg8ASQCcxGEBqvOQ/Gy8FQF66AUC+nyJAHVrkPzm0yD+8dANAXroBQIcWEUBqvOQ/AAAAQB+F6z/XowhArBwiQG3nM0CuR+E/xSAIQMuhDUA/NRZAEFjJP6Aanz+DwCo/Vg4tP/LS3T/8qeE/XroBQJMYDEC8dANAbeczQOXQOkA1XgpAL920P7Kdzz9Ei/w/EoMIQBfZBkBokSVAgZXTP1pk2z8fhes/Di1yQJMYDEDsUQhAH4XrP2q8FEBeugFAPzW+P3nphkA3iSlAvp8iQJZDK0DJdlZABoGJQMl2VkCiRZJANV5yQD0KZ0B56YZAGQR2QNnOT0BEi2xAJQadQIPAhkBEi5xAj8KZQLx0g0AdWmRAXrqBQEJgiUBeuoFAHVpkQAAAgEDZzpdASgySQJqZWUDl0EpAKVxvQC2ybUAxCGxAbedzQJqZWUAdWmRAexRmQGq8VEDjpVtASgyGQKJFfkBKDIZAZmZmQArXQ0C+n2JAhxY5QFCNX0BCYF1AtvMtQG3nM0Bcj0JAbeczQAIrP0CuR1FAarxUQD81FkC28x1AGy+FQOXQSkBEi3xAUI1PQO58d0DByllAbxJLQFCNT0CTGExABFY+QAAAIECYblpArBwqQD0KV0DXo0hA7nx3QFCNT0C+n2JAbxJLQKabHED6flJAy6F1QCGwKkAOLTJAeelGQIXrWUCiRT5A/tQwQGZmZkCgGl9ANV5yQFYOZUBCYF1ADAJjQK5HYUACK09ANV5qQP7UQEAAAEBApHA9QOxROEBQjU9A1XgxQAwC2z/hehRA7nx3QHnphkAbL4VA5/uFQItsg0C6SWxAnMRYQDEIdEDl0HpADAJTQHsULkACK19ADAJjQHnpbkBzaP1APQpnQKjGh0D2KIRA/KmNQBKDOEASgwhA46UbQNNN8j9eugFA7FEIQKjG6z8AACBABFYeQMl2FkCgGu8/bxLTPyGw8j9CYOU/AAAAQClcD0DNzMw/AAAAQIcWEUAbLwVA16MIQLx0A0CuR+E/y6H1P/T95D8CKw9AH4XrP6wcyj+HFvk/\",\"dtype\":\"float32\",\"order\":\"little\",\"shape\":[201]},\"samples\":[\"BL0292-C\",\"BL0292-C\",\"BL0292-C\",\"BL0292-C\",\"BL0292-C\",\"BL0292-C\",\"BL0292-C\",\"BL0292-C\",\"BL0292-C\",\"BL0292-C\",\"BL0292-C\",\"BL0292-C\",\"BL0292-C\",\"BL0292-C\",\"BL0292-C\",\"BL0292-C\",\"BL0292-C\",\"BL0292-C\",\"BL0292-C\",\"BL0292-C\",\"BL0292-C\",\"BL0292-C\",\"BL0292-C\",\"BL0292-C\",\"BL0292-C\",\"BL0292-C\",\"BL0292-C\",\"BL0292-C\",\"BL0292-C\",\"BL0292-C\",\"BL0292-C\",\"BL0292-C\",\"BL0292-C\",\"BL0292-C\",\"BL0292-C\",\"BL0292-C\",\"BL0292-C\",\"BL0292-C\",\"BL0292-C\",\"BL0292-C\",\"BL0292-C\",\"BL0292-C\",\"BL0292-C\",\"BL0292-C\",\"BL0292-C\",\"BL0292-C\",\"BL0292-C\",\"BL0292-C\",\"BL0292-C\",\"BL0292-C\",\"BL0292-C\",\"BL0292-C\",\"BL0292-C\",\"BL0292-C\",\"BL0292-C\",\"BL0292-C\",\"BL0292-C\",\"BL0292-C\",\"BL0292-C\",\"BL0292-C\",\"BL0292-C\",\"BL0292-C\",\"BL0292-C\",\"BL0292-C\",\"BL0292-C\",\"BL0292-C\",\"BL0292-C\",\"BL0292-C\",\"BL0292-C\",\"BL0292-C\",\"BL0292-C\",\"BL0292-C\",\"BL0292-C\",\"BL0292-C\",\"BL0292-C\",\"BL0292-C\",\"BL0292-C\",\"BL0292-C\",\"BL0292-C\",\"BL0292-C\",\"BL0292-C\",\"BL0292-C\",\"BL0292-C\",\"BL0292-C\",\"BL0292-C\",\"BL0292-C\",\"BL0292-C\",\"BL0292-C\",\"BL0292-C\",\"BL0292-C\",\"BL0292-C\",\"BL0292-C\",\"BL0292-C\",\"BL0292-C\",\"BL0292-C\",\"BL0292-C\",\"BL0292-C\",\"BL0292-C\",\"BL0292-C\",\"BL0292-C\",\"BL0292-C\",\"BL0292-C\",\"BL0292-C\",\"BL0292-C\",\"BL0292-C\",\"BL0292-C\",\"BL0292-C\",\"BL0292-C\",\"BL0292-C\",\"BL0292-C\",\"BL0292-C\",\"BL0292-C\",\"BL0292-C\",\"BL0292-C\",\"BL0292-C\",\"BL0292-C\",\"BL0292-C\",\"BL0292-C\",\"BL0292-C\",\"BL0292-C\",\"BL0292-C\",\"BL0292-C\",\"BL0292-C\",\"BL0292-C\",\"BL0292-C\",\"BL0292-C\",\"BL0292-C\",\"BL0292-C\",\"BL0292-C\",\"BL0292-C\",\"BL0292-C\",\"BL0292-C\",\"BL0292-C\",\"BL0292-C\",\"BL0292-C\",\"BL0292-C\",\"BL0292-C\",\"BL0292-C\",\"BL0292-C\",\"BL0292-C\",\"BL0292-C\",\"BL0292-C\",\"BL0292-C\",\"BL0292-C\",\"BL0292-C\",\"BL0292-C\",\"BL0292-C\",\"BL0292-C\",\"BL0292-C\",\"BL0292-C\",\"BL0292-C\",\"BL0292-C\",\"BL0292-C\",\"BL0292-C\",\"BL0292-C\",\"BL0292-C\",\"BL0292-C\",\"BL0292-C\",\"BL0292-C\",\"BL0292-C\",\"BL0292-C\",\"BL0292-C\",\"BL0292-C\",\"BL0292-C\",\"BL0292-C\",\"BL0292-C\",\"BL0292-C\",\"BL0292-C\",\"BL0292-C\",\"BL0292-C\",\"BL0292-C\",\"BL0292-C\",\"BL0292-C\",\"BL0292-C\",\"BL0292-C\",\"BL0292-C\",\"BL0292-C\",\"BL0292-C\",\"BL0292-C\",\"BL0292-C\",\"BL0292-C\",\"BL0292-C\",\"BL0292-C\",\"BL0292-C\",\"BL0292-C\",\"BL0292-C\",\"BL0292-C\",\"BL0292-C\",\"BL0292-C\",\"BL0292-C\",\"BL0292-C\",\"BL0292-C\",\"BL0292-C\",\"BL0292-C\",\"BL0292-C\",\"BL0292-C\",\"BL0292-C\",\"BL0292-C\",\"BL0292-C\",\"BL0292-C\",\"BL0292-C\"],\"variant_contig\":{\"__ndarray__\":\"AQEBAQEBAQEBAQEBAQEBAQEBAQEBAQEBAQEBAQEBAQEBAQEBAQEBAQEBAQEBAQEBAQEBAQEBAQEBAQEBAQEBAQEBAQEBAQEBAQEBAQEBAQEBAQEBAQEBAQEBAQEBAQEBAQEBAQEBAQEBAQEBAQEBAQEBAQEBAQEBAQEBAQEBAQEBAQEBAQEBAQEBAQEBAQEBAQEBAQEBAQEBAQEBAQEBAQEBAQEBAQEBAQEBAQEBAQEBAQEBAQEBAQEBAQEBAQEBAQEBAQEBAQEB\",\"dtype\":\"uint8\",\"order\":\"little\",\"shape\":[201]},\"variant_end\":{\"__ndarray__\":\"pC6zAdAvswH8MLMBKDKzAVQzswGANLMBrDWzAdg2swEEOLMBMDmzAVw6swGIO7MBtDyzAeA9swEMP7MBOECzAWRBswGQQrMBvEOzAehEswEURrMBQEezAWxIswGYSbMBxEqzAfBLswEcTbMBSE6zAXRPswGgULMBzFGzAfhSswEkVLMBUFWzAXxWswGoV7MB1FizAQBaswEsW7MBWFyzAYRdswGwXrMB3F+zAQhhswE0YrMBYGOzAYxkswG4ZbMB5GazARBoswE8abMBaGqzAZRrswHAbLMB7G2zARhvswFEcLMBcHGzAZxyswHIc7MB9HSzASB2swFMd7MBeHizAaR5swHQerMB/HuzASh9swFUfrMBgH+zAayAswHYgbMBBIOzATCEswFchbMBiIazAbSHswHgiLMBDIqzATiLswFkjLMBkI2zAbyOswHoj7MBFJGzAUCSswFsk7MBmJSzAcSVswHwlrMBHJizAUiZswF0mrMBoJuzAcycswH4nbMBJJ+zAVCgswF8obMBqKKzAdSjswEApbMBLKazAVinswGEqLMBsKmzAdyqswEIrLMBNK2zAWCuswGMr7MBuLCzAeSxswEQs7MBPLSzAWi1swGUtrMBwLezAey4swEYurMBRLuzAXC8swGcvbMByL6zAfS/swEgwbMBTMKzAXjDswGkxLMB0MWzAfzGswEoyLMBVMmzAYDKswGsy7MB2MyzAQTOswEwz7MBXNCzAYjRswG00rMB4NOzAQzVswE41rMBZNezAZDYswG82bMB6NqzARTcswFA3bMBbN6zAZjfswHE4LMB8OGzARzjswFI5LMBdOWzAaDmswHM57MB+OizASTqswFQ67MBfOyzAajtswHU7rMBAPCzASzxswFY8rMBhPOzAbD0swHc9bMBCPezATT4swFg+bMBjPqzAbj7swHk/LMBEP6zATz/swFoALQBlAG0AcACtAHsA7QBGAW0AUQGtAFwB7QBnAi0AcgJtAH0CrQBIAy0AUwNtAF4DrQBpA+0AdAQtAH8EbQBKBO0AVQUtAGAFbQBrBa0AdgXtAEEGbQB\",\"dtype\":\"int32\",\"order\":\"little\",\"shape\":[201]},\"variant_midpoint\":{\"__ndarray__\":\"Dy6zATsvswFnMLMBkzGzAb8yswHrM7MBFzWzAUM2swFvN7MBmzizAcc5swHzOrMBHzyzAUs9swF3PrMBoz+zAc9AswH7QbMBJ0OzAVNEswF/RbMBq0azAddHswEDSbMBL0qzAVtLswGHTLMBs02zAd9OswELULMBN1GzAWNSswGPU7MBu1SzAedVswETV7MBP1izAWtZswGXWrMBw1uzAe9cswEbXrMBR1+zAXNgswGfYbMBy2KzAfdjswEjZbMBT2azAXtnswGnaLMB02mzAf9qswErbLMBV22zAYNuswGvb7MB23CzAQdyswEzc7MBX3SzAYt1swG3drMB43ezAQ95swE7erMBZ3uzAZN8swG/fbMB636zAReAswFDgbMBb4KzAZuDswHHhLMB84WzAR+HswFLiLMBd4mzAaOKswHPi7MB+4yzASeOswFTj7MBf5CzAauRswHXkrMBA5SzAS+VswFblrMBh5ezAbOYswHfmbMBC5uzATecswFjnbMBj56zAbufswHnoLMBE6KzAT+jswFrpLMBl6WzAcOmswHvp7MBG6mzAUeqswFzq7MBn6yzAcutswH3rrMBI7CzAU+xswF7srMBp7OzAdO0swH/tbMBK7ezAVe4swGDubMBr7qzAdu7swEHvbMBM76zAV+/swGLwLMBt8GzAePCswEPxLMBO8WzAWfGswGTx7MBv8izAevJswEXy7MBQ8yzAW/NswGbzrMBx8+zAfPQswEf0rMBS9OzAXfUswGj1bMBz9azAfvXswEn2bMBU9qzAX/bswGr3LMB192zAQPfswEv4LMBW+GzAYfiswGz47MB3+SzAQvmswE357MBY+izAY/pswG76rMB5+uzARPtswE/7rMBa++zAZfwswHD8bMB7/KzARv0swFH9bMBc/azAZ/3swHL+LMB9/mzASP7swFP/LMBe/2zAaf+swHT/7MB/wC0ASsCtAFXA7QBgwS0Aa8FtAHbBrQBBwi0ATMJtAFfCrQBiwu0AbcMtAHjDbQBDw+0ATsQtAFnEbQBkxK0Ab8TtAHrFLQBFxa0AUMXtAFvGLQB\",\"dtype\":\"int32\",\"order\":\"little\",\"shape\":[201]},\"variant_position\":{\"__ndarray__\":\"eS2zAaUuswHRL7MB/TCzASkyswFVM7MBgTSzAa01swHZNrMBBTizATE5swFdOrMBiTuzAbU8swHhPbMBDT+zATlAswFlQbMBkUKzAb1DswHpRLMBFUazAUFHswFtSLMBmUmzAcVKswHxS7MBHU2zAUlOswF1T7MBoVCzAc1RswH5UrMBJVSzAVFVswF9VrMBqVezAdVYswEBWrMBLVuzAVlcswGFXbMBsV6zAd1fswEJYbMBNWKzAWFjswGNZLMBuWWzAeVmswERaLMBPWmzAWlqswGVa7MBwWyzAe1tswEZb7MBRXCzAXFxswGdcrMByXOzAfV0swEhdrMBTXezAXl4swGlebMB0XqzAf17swEpfbMBVX6zAYF/swGtgLMB2YGzAQWDswExhLMBXYWzAYmGswG1h7MB4YizAQ2KswE5i7MBZYyzAZGNswG9jrMB6Y+zARWRswFBkrMBbZOzAZmUswHFlbMB8ZazAR2YswFJmbMBdZqzAaGbswHNnLMB+Z2zASWfswFRoLMBfaGzAamiswHVo7MBAaWzAS2mswFZp7MBhaizAbGpswHdqrMBCayzATWtswFhrrMBja+zAbmwswHlsbMBEbOzAT20swFptbMBlbazAcG3swHtuLMBGbqzAUW7swFxvLMBnb2zAcm+swH1v7MBIcGzAU3CswF5w7MBpcSzAdHFswH9xrMBKcizAVXJswGByrMBrcuzAdnMswEFzrMBMc+zAV3QswGJ0bMBtdKzAeHTswEN1bMBOdazAWXXswGR2LMBvdmzAenaswEV3LMBQd2zAW3eswGZ37MBxeCzAfHhswEd47MBSeSzAXXlswGh5rMBzeezAfnoswEl6rMBUeuzAX3sswGp7bMB1e6zAQHwswEt8bMBWfKzAYXzswGx9LMB3fWzAQn3swE1+LMBYfmzAY36swG5+7MB5fyzARH+swE9/7MBaQC0AZUBtAHBArQB7QO0ARkFtAFFBrQBcQe0AZ0ItAHJCbQB9Qq0ASEMtAFNDbQBeQ60AaUPtAHRELQB/RG0ASkTtAFVFLQBgRW0Aa0WtAHZF7QB\",\"dtype\":\"int32\",\"order\":\"little\",\"shape\":[201]},\"variants\":[0,1,2,3,4,5,6,7,8,9,10,11,12,13,14,15,16,17,18,19,20,21,22,23,24,25,26,27,28,29,30,31,32,33,34,35,36,37,38,39,40,41,42,43,44,45,46,47,48,49,50,51,52,53,54,55,56,57,58,59,60,61,62,63,64,65,66,67,68,69,70,71,72,73,74,75,76,77,78,79,80,81,82,83,84,85,86,87,88,89,90,91,92,93,94,95,96,97,98,99,100,101,102,103,104,105,106,107,108,109,110,111,112,113,114,115,116,117,118,119,120,121,122,123,124,125,126,127,128,129,130,131,132,133,134,135,136,137,138,139,140,141,142,143,144,145,146,147,148,149,150,151,152,153,154,155,156,157,158,159,160,161,162,163,164,165,166,167,168,169,170,171,172,173,174,175,176,177,178,179,180,181,182,183,184,185,186,187,188,189,190,191,192,193,194,195,196,197,198,199,200]},\"selected\":{\"id\":\"3098\"},\"selection_policy\":{\"id\":\"3097\"}},\"id\":\"3081\",\"type\":\"ColumnDataSource\"},{\"attributes\":{\"dimensions\":\"width\"},\"id\":\"3055\",\"type\":\"ZoomOutTool\"},{\"attributes\":{},\"id\":\"3046\",\"type\":\"BasicTicker\"},{\"attributes\":{\"bounds\":\"auto\",\"end\":28580100,\"start\":28519801},\"id\":\"3033\",\"type\":\"Range1d\"},{\"attributes\":{},\"id\":\"3111\",\"type\":\"LinearScale\"},{\"attributes\":{},\"id\":\"3076\",\"type\":\"AllLabels\"},{\"attributes\":{\"coordinates\":null,\"group\":null,\"text\":\"Genes\"},\"id\":\"3106\",\"type\":\"Title\"},{\"attributes\":{},\"id\":\"3172\",\"type\":\"UnionRenderers\"},{\"attributes\":{\"active_drag\":{\"id\":\"3053\"},\"active_scroll\":{\"id\":\"3034\"},\"tools\":[{\"id\":\"3034\"},{\"id\":\"3053\"},{\"id\":\"3054\"},{\"id\":\"3055\"},{\"id\":\"3056\"}]},\"id\":\"3057\",\"type\":\"Toolbar\"},{\"attributes\":{\"data\":{\"ID\":[\"AGAP006221\",\"AGAP006222\",\"AGAP006223\",\"AGAP006224\",\"AGAP006225\",\"AGAP006226\",\"AGAP006227\",\"AGAP006228\",\"AGAP006229\",\"AGAP006231\",\"AGAP006232\",\"AGAP006233\",\"AGAP006234\",\"AGAP006235\",\"AGAP006236\",\"AGAP006237\",\"AGAP006238\",\"AGAP006239\"],\"Name\":[\"\",\"\",\"\",\"\",\"\",\"Aldehyde_oxidase\",\"\",\"COEAE2F\",\"Vps20\",\"\",\"Pex14\",\"\",\"\",\"\",\"\",\"\",\"\",\"\"],\"Parent\":[\"NaN\",\"NaN\",\"NaN\",\"NaN\",\"NaN\",\"NaN\",\"NaN\",\"NaN\",\"NaN\",\"NaN\",\"NaN\",\"NaN\",\"NaN\",\"NaN\",\"NaN\",\"NaN\",\"NaN\",\"NaN\"],\"bottom\":[1,1,1,1,1,1,0,1,1,1,0,1,1,0,0,0,1,1],\"contig\":[\"2L\",\"2L\",\"2L\",\"2L\",\"2L\",\"2L\",\"2L\",\"2L\",\"2L\",\"2L\",\"2L\",\"2L\",\"2L\",\"2L\",\"2L\",\"2L\",\"2L\",\"2L\"],\"description\":[\"aldehyde oxidase [Source:VB Community Annotation]\",\"glucosyl/glucuronosyl transferases [Source:VB Community Annotation]\",\"glucosyl/glucuronosyl transferases [Source:VB Community Annotation]\",\"aldehyde oxidase [Source:VB Community Annotation]\",\"aldehyde oxidase [Source:VB Community Annotation]\",\"\",\"alpha esterase [Source:VB Community Annotation]\",\"carboxylesterase [Source:VB Community Annotation]\",\"vacuolar protein sorting 20 [Source:VB Community Annotation]\",\"serine/threonine-protein phosphatase dullard homolog [Source:VB Community Annotation]\",\"peroxin-14 [Source:VB Community Annotation]\",\"\",\"protein SHQ1 [Source:VB Community Annotation]\",\"\",\"\",\"Negative elongation factor E [Source:VB Community Annotation]\",\"ubiquitin-conjugating enzyme E2 C [Source:VB Community Annotation]\",\"Protein TSSC1 [Source:VB Community Annotation]\"],\"end\":[28523900,28526317,28528641,28533199,28539416,28545294,28547938,28550748,28552032,28560186,28565368,28567186,28569087,28572971,28574496,28575725,28579600,28581250],\"index\":[24735,24757,24771,24785,24801,24817,24832,24850,24862,24874,24890,24904,24912,24924,24940,24947,24953,24961],\"phase\":{\"__ndarray__\":\"AAAAAAAA+H8AAAAAAAD4fwAAAAAAAPh/AAAAAAAA+H8AAAAAAAD4fwAAAAAAAPh/AAAAAAAA+H8AAAAAAAD4fwAAAAAAAPh/AAAAAAAA+H8AAAAAAAD4fwAAAAAAAPh/AAAAAAAA+H8AAAAAAAD4fwAAAAAAAPh/AAAAAAAA+H8AAAAAAAD4fwAAAAAAAPh/\",\"dtype\":\"float64\",\"order\":\"little\",\"shape\":[18]},\"score\":{\"__ndarray__\":\"AAAAAAAA+H8AAAAAAAD4fwAAAAAAAPh/AAAAAAAA+H8AAAAAAAD4fwAAAAAAAPh/AAAAAAAA+H8AAAAAAAD4fwAAAAAAAPh/AAAAAAAA+H8AAAAAAAD4fwAAAAAAAPh/AAAAAAAA+H8AAAAAAAD4fwAAAAAAAPh/AAAAAAAA+H8AAAAAAAD4fwAAAAAAAPh/\",\"dtype\":\"float64\",\"order\":\"little\",\"shape\":[18]},\"source\":[\"VectorBase\",\"VectorBase\",\"VectorBase\",\"VectorBase\",\"VectorBase\",\"VectorBase\",\"VectorBase\",\"VectorBase\",\"VectorBase\",\"VectorBase\",\"VectorBase\",\"VectorBase\",\"VectorBase\",\"VectorBase\",\"VectorBase\",\"VectorBase\",\"VectorBase\",\"VectorBase\"],\"start\":[28518055,28524225,28526558,28528758,28534732,28540651,28545396,28548433,28550814,28552352,28563646,28565893,28567535,28569164,28573531,28574680,28576341,28579834],\"strand\":[\"+\",\"+\",\"+\",\"+\",\"+\",\"+\",\"-\",\"+\",\"+\",\"+\",\"-\",\"+\",\"+\",\"-\",\"-\",\"-\",\"+\",\"+\"],\"top\":{\"__ndarray__\":\"zczMzMzM/D/NzMzMzMz8P83MzMzMzPw/zczMzMzM/D/NzMzMzMz8P83MzMzMzPw/mpmZmZmZ6T/NzMzMzMz8P83MzMzMzPw/zczMzMzM/D+amZmZmZnpP83MzMzMzPw/zczMzMzM/D+amZmZmZnpP5qZmZmZmek/mpmZmZmZ6T/NzMzMzMz8P83MzMzMzPw/\",\"dtype\":\"float64\",\"order\":\"little\",\"shape\":[18]},\"type\":[\"gene\",\"gene\",\"gene\",\"gene\",\"gene\",\"gene\",\"gene\",\"gene\",\"gene\",\"gene\",\"gene\",\"gene\",\"gene\",\"gene\",\"gene\",\"gene\",\"gene\",\"gene\"]},\"selected\":{\"id\":\"3173\"},\"selection_policy\":{\"id\":\"3172\"}},\"id\":\"3145\",\"type\":\"ColumnDataSource\"},{\"attributes\":{},\"id\":\"3056\",\"type\":\"ResetTool\"},{\"attributes\":{},\"id\":\"3078\",\"type\":\"Selection\"},{\"attributes\":{},\"id\":\"3143\",\"type\":\"AllLabels\"},{\"attributes\":{\"ticks\":[0.4,1.4]},\"id\":\"3153\",\"type\":\"FixedTicker\"},{\"attributes\":{},\"id\":\"3139\",\"type\":\"BasicTickFormatter\"}],\"root_ids\":[\"3178\"]},\"title\":\"Bokeh Application\",\"version\":\"2.4.2\"}};\n  const render_items = [{\"docid\":\"0a86c47a-9016-40ec-8dbf-bcf838df5033\",\"root_ids\":[\"3178\"],\"roots\":{\"3178\":\"ad666806-1dba-4900-bf9e-95a4854191b4\"}}];\n  root.Bokeh.embed.embed_items_notebook(docs_json, render_items);\n\n  }\n  if (root.Bokeh !== undefined) {\n    embed_document(root);\n  } else {\n    let attempts = 0;\n    const timer = setInterval(function(root) {\n      if (root.Bokeh !== undefined) {\n        clearInterval(timer);\n        embed_document(root);\n      } else {\n        attempts++;\n        if (attempts > 100) {\n          clearInterval(timer);\n          console.log(\"Bokeh: ERROR: Unable to run BokehJS code because BokehJS library is missing\");\n        }\n      }\n    }, 10, root)\n  }\n})(window);",
      "application/vnd.bokehjs_exec.v0+json": ""
     },
     "metadata": {
      "application/vnd.bokehjs_exec.v0+json": {
       "id": "3178"
      }
     },
     "output_type": "display_data"
    }
   ],
   "source": [
    "#set_ = \"1244-VO-GH-YAWSON-VMF00051\"\n",
    "set_ = \"AG1000G-TZ\"\n",
    "\n",
    "for s in sample_names[:8]:\n",
    "    ag3.plot_cnv_hmm_coverage(s, sample_set=set_, region=coe_region)"
   ]
  },
  {
   "cell_type": "markdown",
   "id": "7c0062e2",
   "metadata": {},
   "source": [
    "Looking legit!!"
   ]
  },
  {
   "cell_type": "markdown",
   "id": "b1c04f32",
   "metadata": {},
   "source": [
    "### Comparing CNV status, sweep status, and karyotype"
   ]
  },
  {
   "cell_type": "code",
   "execution_count": 227,
   "id": "78a75c2e",
   "metadata": {},
   "outputs": [],
   "source": [
    "cnv_ids = sample_names"
   ]
  },
  {
   "cell_type": "code",
   "execution_count": 251,
   "id": "d63ad621",
   "metadata": {
    "scrolled": true
   },
   "outputs": [
    {
     "data": {
      "text/html": [
       "<div>\n",
       "<style scoped>\n",
       "    .dataframe tbody tr th:only-of-type {\n",
       "        vertical-align: middle;\n",
       "    }\n",
       "\n",
       "    .dataframe tbody tr th {\n",
       "        vertical-align: top;\n",
       "    }\n",
       "\n",
       "    .dataframe thead th {\n",
       "        text-align: right;\n",
       "    }\n",
       "</style>\n",
       "<table border=\"1\" class=\"dataframe\">\n",
       "  <thead>\n",
       "    <tr style=\"text-align: right;\">\n",
       "      <th>cnv_status</th>\n",
       "      <th>0</th>\n",
       "      <th>1</th>\n",
       "    </tr>\n",
       "    <tr>\n",
       "      <th>mean_genotype</th>\n",
       "      <th></th>\n",
       "      <th></th>\n",
       "    </tr>\n",
       "  </thead>\n",
       "  <tbody>\n",
       "    <tr>\n",
       "      <th>0.0</th>\n",
       "      <td>223</td>\n",
       "      <td>56</td>\n",
       "    </tr>\n",
       "    <tr>\n",
       "      <th>1.0</th>\n",
       "      <td>152</td>\n",
       "      <td>18</td>\n",
       "    </tr>\n",
       "    <tr>\n",
       "      <th>2.0</th>\n",
       "      <td>28</td>\n",
       "      <td>0</td>\n",
       "    </tr>\n",
       "  </tbody>\n",
       "</table>\n",
       "</div>"
      ],
      "text/plain": [
       "cnv_status       0   1\n",
       "mean_genotype         \n",
       "0.0            223  56\n",
       "1.0            152  18\n",
       "2.0             28   0"
      ]
     },
     "execution_count": 251,
     "metadata": {},
     "output_type": "execute_result"
    }
   ],
   "source": [
    "import warnings\n",
    "warnings.filterwarnings('ignore')\n",
    "\n",
    "karyotypes = pd.read_csv(\"/home/sanj/projects/gaard/results/gaard_karyotypes.tsv\", sep=\"\\t\")\n",
    "karyo2 = pd.read_csv(\"/home/sanj/projects/gaardian/results/karyotypes/gaardian_karyotypes.tsv\", sep=\"\\t\", index_col=0)\n",
    "karyo2 = karyo2.rename(columns={'location2':'location'})\n",
    "karyotypes = pd.concat([karyotypes, karyo2])\n",
    "\n",
    "karyo_2la = karyotypes.query(\"inversion == '2La'\")\n",
    "\n",
    "karyo_2la.loc[:, 'mean_genotype'] = karyo_2la.loc[:,'mean_genotype'].round(0)\n",
    "\n",
    "df_samples = karyo_2la.merge(df_samples)\n",
    "\n",
    "gamb_samples = df_samples.query(\"aim_species == 'gambiae'\")\n",
    "\n",
    "gamb_samples.loc[:, 'cnv_status'] = pd.factorize(np.isin(gamb_samples['sample_id'], cnv_ids))[0]\n",
    "\n",
    "pd.crosstab(gamb_samples['mean_genotype'], gamb_samples['cnv_status'])"
   ]
  },
  {
   "cell_type": "markdown",
   "id": "84e1e2cd",
   "metadata": {},
   "source": [
    "So the CNVs are found on the 2l+a haplotypic background. Interesting. We probably have multiple sweeps on different karyotypes at the same locus, one spreading from togo area and one from Burkina."
   ]
  },
  {
   "cell_type": "markdown",
   "id": "c846019b",
   "metadata": {},
   "source": [
    "Next, we need the IDs of each individual in each sweep"
   ]
  },
  {
   "cell_type": "code",
   "execution_count": null,
   "id": "f23e3f8c",
   "metadata": {},
   "outputs": [],
   "source": []
  }
 ],
 "metadata": {
  "interpreter": {
   "hash": "710100144729ec1057471750b60f3250df4296be7eb29e7e87fec32ed718ec4b"
  },
  "kernelspec": {
   "display_name": "Python 3.7.12 ('base')",
   "language": "python",
   "name": "python3"
  },
  "language_info": {
   "codemirror_mode": {
    "name": "ipython",
    "version": 3
   },
   "file_extension": ".py",
   "mimetype": "text/x-python",
   "name": "python",
   "nbconvert_exporter": "python",
   "pygments_lexer": "ipython3",
   "version": "3.7.12"
  }
 },
 "nbformat": 4,
 "nbformat_minor": 5
}
