{
 "cells": [
  {
   "cell_type": "code",
   "execution_count": 1,
   "id": "ea1d5106",
   "metadata": {},
   "outputs": [
    {
     "data": {
      "text/html": [
       "\n",
       "    <div class=\"bk-root\">\n",
       "        <a href=\"https://bokeh.org\" target=\"_blank\" class=\"bk-logo bk-logo-small bk-logo-notebook\"></a>\n",
       "        <span id=\"1002\">Loading BokehJS ...</span>\n",
       "    </div>"
      ]
     },
     "metadata": {},
     "output_type": "display_data"
    },
    {
     "data": {
      "application/javascript": [
       "\n",
       "(function(root) {\n",
       "  function now() {\n",
       "    return new Date();\n",
       "  }\n",
       "\n",
       "  const force = true;\n",
       "\n",
       "  if (typeof root._bokeh_onload_callbacks === \"undefined\" || force === true) {\n",
       "    root._bokeh_onload_callbacks = [];\n",
       "    root._bokeh_is_loading = undefined;\n",
       "  }\n",
       "\n",
       "  const JS_MIME_TYPE = 'application/javascript';\n",
       "  const HTML_MIME_TYPE = 'text/html';\n",
       "  const EXEC_MIME_TYPE = 'application/vnd.bokehjs_exec.v0+json';\n",
       "  const CLASS_NAME = 'output_bokeh rendered_html';\n",
       "\n",
       "  /**\n",
       "   * Render data to the DOM node\n",
       "   */\n",
       "  function render(props, node) {\n",
       "    const script = document.createElement(\"script\");\n",
       "    node.appendChild(script);\n",
       "  }\n",
       "\n",
       "  /**\n",
       "   * Handle when an output is cleared or removed\n",
       "   */\n",
       "  function handleClearOutput(event, handle) {\n",
       "    const cell = handle.cell;\n",
       "\n",
       "    const id = cell.output_area._bokeh_element_id;\n",
       "    const server_id = cell.output_area._bokeh_server_id;\n",
       "    // Clean up Bokeh references\n",
       "    if (id != null && id in Bokeh.index) {\n",
       "      Bokeh.index[id].model.document.clear();\n",
       "      delete Bokeh.index[id];\n",
       "    }\n",
       "\n",
       "    if (server_id !== undefined) {\n",
       "      // Clean up Bokeh references\n",
       "      const cmd_clean = \"from bokeh.io.state import curstate; print(curstate().uuid_to_server['\" + server_id + \"'].get_sessions()[0].document.roots[0]._id)\";\n",
       "      cell.notebook.kernel.execute(cmd_clean, {\n",
       "        iopub: {\n",
       "          output: function(msg) {\n",
       "            const id = msg.content.text.trim();\n",
       "            if (id in Bokeh.index) {\n",
       "              Bokeh.index[id].model.document.clear();\n",
       "              delete Bokeh.index[id];\n",
       "            }\n",
       "          }\n",
       "        }\n",
       "      });\n",
       "      // Destroy server and session\n",
       "      const cmd_destroy = \"import bokeh.io.notebook as ion; ion.destroy_server('\" + server_id + \"')\";\n",
       "      cell.notebook.kernel.execute(cmd_destroy);\n",
       "    }\n",
       "  }\n",
       "\n",
       "  /**\n",
       "   * Handle when a new output is added\n",
       "   */\n",
       "  function handleAddOutput(event, handle) {\n",
       "    const output_area = handle.output_area;\n",
       "    const output = handle.output;\n",
       "\n",
       "    // limit handleAddOutput to display_data with EXEC_MIME_TYPE content only\n",
       "    if ((output.output_type != \"display_data\") || (!Object.prototype.hasOwnProperty.call(output.data, EXEC_MIME_TYPE))) {\n",
       "      return\n",
       "    }\n",
       "\n",
       "    const toinsert = output_area.element.find(\".\" + CLASS_NAME.split(' ')[0]);\n",
       "\n",
       "    if (output.metadata[EXEC_MIME_TYPE][\"id\"] !== undefined) {\n",
       "      toinsert[toinsert.length - 1].firstChild.textContent = output.data[JS_MIME_TYPE];\n",
       "      // store reference to embed id on output_area\n",
       "      output_area._bokeh_element_id = output.metadata[EXEC_MIME_TYPE][\"id\"];\n",
       "    }\n",
       "    if (output.metadata[EXEC_MIME_TYPE][\"server_id\"] !== undefined) {\n",
       "      const bk_div = document.createElement(\"div\");\n",
       "      bk_div.innerHTML = output.data[HTML_MIME_TYPE];\n",
       "      const script_attrs = bk_div.children[0].attributes;\n",
       "      for (let i = 0; i < script_attrs.length; i++) {\n",
       "        toinsert[toinsert.length - 1].firstChild.setAttribute(script_attrs[i].name, script_attrs[i].value);\n",
       "        toinsert[toinsert.length - 1].firstChild.textContent = bk_div.children[0].textContent\n",
       "      }\n",
       "      // store reference to server id on output_area\n",
       "      output_area._bokeh_server_id = output.metadata[EXEC_MIME_TYPE][\"server_id\"];\n",
       "    }\n",
       "  }\n",
       "\n",
       "  function register_renderer(events, OutputArea) {\n",
       "\n",
       "    function append_mime(data, metadata, element) {\n",
       "      // create a DOM node to render to\n",
       "      const toinsert = this.create_output_subarea(\n",
       "        metadata,\n",
       "        CLASS_NAME,\n",
       "        EXEC_MIME_TYPE\n",
       "      );\n",
       "      this.keyboard_manager.register_events(toinsert);\n",
       "      // Render to node\n",
       "      const props = {data: data, metadata: metadata[EXEC_MIME_TYPE]};\n",
       "      render(props, toinsert[toinsert.length - 1]);\n",
       "      element.append(toinsert);\n",
       "      return toinsert\n",
       "    }\n",
       "\n",
       "    /* Handle when an output is cleared or removed */\n",
       "    events.on('clear_output.CodeCell', handleClearOutput);\n",
       "    events.on('delete.Cell', handleClearOutput);\n",
       "\n",
       "    /* Handle when a new output is added */\n",
       "    events.on('output_added.OutputArea', handleAddOutput);\n",
       "\n",
       "    /**\n",
       "     * Register the mime type and append_mime function with output_area\n",
       "     */\n",
       "    OutputArea.prototype.register_mime_type(EXEC_MIME_TYPE, append_mime, {\n",
       "      /* Is output safe? */\n",
       "      safe: true,\n",
       "      /* Index of renderer in `output_area.display_order` */\n",
       "      index: 0\n",
       "    });\n",
       "  }\n",
       "\n",
       "  // register the mime type if in Jupyter Notebook environment and previously unregistered\n",
       "  if (root.Jupyter !== undefined) {\n",
       "    const events = require('base/js/events');\n",
       "    const OutputArea = require('notebook/js/outputarea').OutputArea;\n",
       "\n",
       "    if (OutputArea.prototype.mime_types().indexOf(EXEC_MIME_TYPE) == -1) {\n",
       "      register_renderer(events, OutputArea);\n",
       "    }\n",
       "  }\n",
       "\n",
       "  \n",
       "  if (typeof (root._bokeh_timeout) === \"undefined\" || force === true) {\n",
       "    root._bokeh_timeout = Date.now() + 5000;\n",
       "    root._bokeh_failed_load = false;\n",
       "  }\n",
       "\n",
       "  const NB_LOAD_WARNING = {'data': {'text/html':\n",
       "     \"<div style='background-color: #fdd'>\\n\"+\n",
       "     \"<p>\\n\"+\n",
       "     \"BokehJS does not appear to have successfully loaded. If loading BokehJS from CDN, this \\n\"+\n",
       "     \"may be due to a slow or bad network connection. Possible fixes:\\n\"+\n",
       "     \"</p>\\n\"+\n",
       "     \"<ul>\\n\"+\n",
       "     \"<li>re-rerun `output_notebook()` to attempt to load from CDN again, or</li>\\n\"+\n",
       "     \"<li>use INLINE resources instead, as so:</li>\\n\"+\n",
       "     \"</ul>\\n\"+\n",
       "     \"<code>\\n\"+\n",
       "     \"from bokeh.resources import INLINE\\n\"+\n",
       "     \"output_notebook(resources=INLINE)\\n\"+\n",
       "     \"</code>\\n\"+\n",
       "     \"</div>\"}};\n",
       "\n",
       "  function display_loaded() {\n",
       "    const el = document.getElementById(\"1002\");\n",
       "    if (el != null) {\n",
       "      el.textContent = \"BokehJS is loading...\";\n",
       "    }\n",
       "    if (root.Bokeh !== undefined) {\n",
       "      if (el != null) {\n",
       "        el.textContent = \"BokehJS \" + root.Bokeh.version + \" successfully loaded.\";\n",
       "      }\n",
       "    } else if (Date.now() < root._bokeh_timeout) {\n",
       "      setTimeout(display_loaded, 100)\n",
       "    }\n",
       "  }\n",
       "\n",
       "\n",
       "  function run_callbacks() {\n",
       "    try {\n",
       "      root._bokeh_onload_callbacks.forEach(function(callback) {\n",
       "        if (callback != null)\n",
       "          callback();\n",
       "      });\n",
       "    } finally {\n",
       "      delete root._bokeh_onload_callbacks\n",
       "    }\n",
       "    console.debug(\"Bokeh: all callbacks have finished\");\n",
       "  }\n",
       "\n",
       "  function load_libs(css_urls, js_urls, callback) {\n",
       "    if (css_urls == null) css_urls = [];\n",
       "    if (js_urls == null) js_urls = [];\n",
       "\n",
       "    root._bokeh_onload_callbacks.push(callback);\n",
       "    if (root._bokeh_is_loading > 0) {\n",
       "      console.debug(\"Bokeh: BokehJS is being loaded, scheduling callback at\", now());\n",
       "      return null;\n",
       "    }\n",
       "    if (js_urls == null || js_urls.length === 0) {\n",
       "      run_callbacks();\n",
       "      return null;\n",
       "    }\n",
       "    console.debug(\"Bokeh: BokehJS not loaded, scheduling load and callback at\", now());\n",
       "    root._bokeh_is_loading = css_urls.length + js_urls.length;\n",
       "\n",
       "    function on_load() {\n",
       "      root._bokeh_is_loading--;\n",
       "      if (root._bokeh_is_loading === 0) {\n",
       "        console.debug(\"Bokeh: all BokehJS libraries/stylesheets loaded\");\n",
       "        run_callbacks()\n",
       "      }\n",
       "    }\n",
       "\n",
       "    function on_error(url) {\n",
       "      console.error(\"failed to load \" + url);\n",
       "    }\n",
       "\n",
       "    for (let i = 0; i < css_urls.length; i++) {\n",
       "      const url = css_urls[i];\n",
       "      const element = document.createElement(\"link\");\n",
       "      element.onload = on_load;\n",
       "      element.onerror = on_error.bind(null, url);\n",
       "      element.rel = \"stylesheet\";\n",
       "      element.type = \"text/css\";\n",
       "      element.href = url;\n",
       "      console.debug(\"Bokeh: injecting link tag for BokehJS stylesheet: \", url);\n",
       "      document.body.appendChild(element);\n",
       "    }\n",
       "\n",
       "    for (let i = 0; i < js_urls.length; i++) {\n",
       "      const url = js_urls[i];\n",
       "      const element = document.createElement('script');\n",
       "      element.onload = on_load;\n",
       "      element.onerror = on_error.bind(null, url);\n",
       "      element.async = false;\n",
       "      element.src = url;\n",
       "      console.debug(\"Bokeh: injecting script tag for BokehJS library: \", url);\n",
       "      document.head.appendChild(element);\n",
       "    }\n",
       "  };\n",
       "\n",
       "  function inject_raw_css(css) {\n",
       "    const element = document.createElement(\"style\");\n",
       "    element.appendChild(document.createTextNode(css));\n",
       "    document.body.appendChild(element);\n",
       "  }\n",
       "\n",
       "  \n",
       "  const js_urls = [\"https://cdn.bokeh.org/bokeh/release/bokeh-2.4.2.min.js\", \"https://cdn.bokeh.org/bokeh/release/bokeh-gl-2.4.2.min.js\", \"https://cdn.bokeh.org/bokeh/release/bokeh-widgets-2.4.2.min.js\", \"https://cdn.bokeh.org/bokeh/release/bokeh-tables-2.4.2.min.js\", \"https://cdn.bokeh.org/bokeh/release/bokeh-mathjax-2.4.2.min.js\"];\n",
       "  const css_urls = [];\n",
       "  \n",
       "\n",
       "  const inline_js = [\n",
       "    function(Bokeh) {\n",
       "      Bokeh.set_log_level(\"info\");\n",
       "    },\n",
       "    function(Bokeh) {\n",
       "    \n",
       "    \n",
       "    }\n",
       "  ];\n",
       "\n",
       "  function run_inline_js() {\n",
       "    \n",
       "    if (root.Bokeh !== undefined || force === true) {\n",
       "      \n",
       "    for (let i = 0; i < inline_js.length; i++) {\n",
       "      inline_js[i].call(root, root.Bokeh);\n",
       "    }\n",
       "    if (force === true) {\n",
       "        display_loaded();\n",
       "      }} else if (Date.now() < root._bokeh_timeout) {\n",
       "      setTimeout(run_inline_js, 100);\n",
       "    } else if (!root._bokeh_failed_load) {\n",
       "      console.log(\"Bokeh: BokehJS failed to load within specified timeout.\");\n",
       "      root._bokeh_failed_load = true;\n",
       "    } else if (force !== true) {\n",
       "      const cell = $(document.getElementById(\"1002\")).parents('.cell').data().cell;\n",
       "      cell.output_area.append_execute_result(NB_LOAD_WARNING)\n",
       "    }\n",
       "\n",
       "  }\n",
       "\n",
       "  if (root._bokeh_is_loading === 0) {\n",
       "    console.debug(\"Bokeh: BokehJS loaded, going straight to plotting\");\n",
       "    run_inline_js();\n",
       "  } else {\n",
       "    load_libs(css_urls, js_urls, function() {\n",
       "      console.debug(\"Bokeh: BokehJS plotting callback run at\", now());\n",
       "      run_inline_js();\n",
       "    });\n",
       "  }\n",
       "}(window));"
      ],
      "application/vnd.bokehjs_load.v0+json": "\n(function(root) {\n  function now() {\n    return new Date();\n  }\n\n  const force = true;\n\n  if (typeof root._bokeh_onload_callbacks === \"undefined\" || force === true) {\n    root._bokeh_onload_callbacks = [];\n    root._bokeh_is_loading = undefined;\n  }\n\n  \n\n  \n  if (typeof (root._bokeh_timeout) === \"undefined\" || force === true) {\n    root._bokeh_timeout = Date.now() + 5000;\n    root._bokeh_failed_load = false;\n  }\n\n  const NB_LOAD_WARNING = {'data': {'text/html':\n     \"<div style='background-color: #fdd'>\\n\"+\n     \"<p>\\n\"+\n     \"BokehJS does not appear to have successfully loaded. If loading BokehJS from CDN, this \\n\"+\n     \"may be due to a slow or bad network connection. Possible fixes:\\n\"+\n     \"</p>\\n\"+\n     \"<ul>\\n\"+\n     \"<li>re-rerun `output_notebook()` to attempt to load from CDN again, or</li>\\n\"+\n     \"<li>use INLINE resources instead, as so:</li>\\n\"+\n     \"</ul>\\n\"+\n     \"<code>\\n\"+\n     \"from bokeh.resources import INLINE\\n\"+\n     \"output_notebook(resources=INLINE)\\n\"+\n     \"</code>\\n\"+\n     \"</div>\"}};\n\n  function display_loaded() {\n    const el = document.getElementById(\"1002\");\n    if (el != null) {\n      el.textContent = \"BokehJS is loading...\";\n    }\n    if (root.Bokeh !== undefined) {\n      if (el != null) {\n        el.textContent = \"BokehJS \" + root.Bokeh.version + \" successfully loaded.\";\n      }\n    } else if (Date.now() < root._bokeh_timeout) {\n      setTimeout(display_loaded, 100)\n    }\n  }\n\n\n  function run_callbacks() {\n    try {\n      root._bokeh_onload_callbacks.forEach(function(callback) {\n        if (callback != null)\n          callback();\n      });\n    } finally {\n      delete root._bokeh_onload_callbacks\n    }\n    console.debug(\"Bokeh: all callbacks have finished\");\n  }\n\n  function load_libs(css_urls, js_urls, callback) {\n    if (css_urls == null) css_urls = [];\n    if (js_urls == null) js_urls = [];\n\n    root._bokeh_onload_callbacks.push(callback);\n    if (root._bokeh_is_loading > 0) {\n      console.debug(\"Bokeh: BokehJS is being loaded, scheduling callback at\", now());\n      return null;\n    }\n    if (js_urls == null || js_urls.length === 0) {\n      run_callbacks();\n      return null;\n    }\n    console.debug(\"Bokeh: BokehJS not loaded, scheduling load and callback at\", now());\n    root._bokeh_is_loading = css_urls.length + js_urls.length;\n\n    function on_load() {\n      root._bokeh_is_loading--;\n      if (root._bokeh_is_loading === 0) {\n        console.debug(\"Bokeh: all BokehJS libraries/stylesheets loaded\");\n        run_callbacks()\n      }\n    }\n\n    function on_error(url) {\n      console.error(\"failed to load \" + url);\n    }\n\n    for (let i = 0; i < css_urls.length; i++) {\n      const url = css_urls[i];\n      const element = document.createElement(\"link\");\n      element.onload = on_load;\n      element.onerror = on_error.bind(null, url);\n      element.rel = \"stylesheet\";\n      element.type = \"text/css\";\n      element.href = url;\n      console.debug(\"Bokeh: injecting link tag for BokehJS stylesheet: \", url);\n      document.body.appendChild(element);\n    }\n\n    for (let i = 0; i < js_urls.length; i++) {\n      const url = js_urls[i];\n      const element = document.createElement('script');\n      element.onload = on_load;\n      element.onerror = on_error.bind(null, url);\n      element.async = false;\n      element.src = url;\n      console.debug(\"Bokeh: injecting script tag for BokehJS library: \", url);\n      document.head.appendChild(element);\n    }\n  };\n\n  function inject_raw_css(css) {\n    const element = document.createElement(\"style\");\n    element.appendChild(document.createTextNode(css));\n    document.body.appendChild(element);\n  }\n\n  \n  const js_urls = [\"https://cdn.bokeh.org/bokeh/release/bokeh-2.4.2.min.js\", \"https://cdn.bokeh.org/bokeh/release/bokeh-gl-2.4.2.min.js\", \"https://cdn.bokeh.org/bokeh/release/bokeh-widgets-2.4.2.min.js\", \"https://cdn.bokeh.org/bokeh/release/bokeh-tables-2.4.2.min.js\", \"https://cdn.bokeh.org/bokeh/release/bokeh-mathjax-2.4.2.min.js\"];\n  const css_urls = [];\n  \n\n  const inline_js = [\n    function(Bokeh) {\n      Bokeh.set_log_level(\"info\");\n    },\n    function(Bokeh) {\n    \n    \n    }\n  ];\n\n  function run_inline_js() {\n    \n    if (root.Bokeh !== undefined || force === true) {\n      \n    for (let i = 0; i < inline_js.length; i++) {\n      inline_js[i].call(root, root.Bokeh);\n    }\n    if (force === true) {\n        display_loaded();\n      }} else if (Date.now() < root._bokeh_timeout) {\n      setTimeout(run_inline_js, 100);\n    } else if (!root._bokeh_failed_load) {\n      console.log(\"Bokeh: BokehJS failed to load within specified timeout.\");\n      root._bokeh_failed_load = true;\n    } else if (force !== true) {\n      const cell = $(document.getElementById(\"1002\")).parents('.cell').data().cell;\n      cell.output_area.append_execute_result(NB_LOAD_WARNING)\n    }\n\n  }\n\n  if (root._bokeh_is_loading === 0) {\n    console.debug(\"Bokeh: BokehJS loaded, going straight to plotting\");\n    run_inline_js();\n  } else {\n    load_libs(css_urls, js_urls, function() {\n      console.debug(\"Bokeh: BokehJS plotting callback run at\", now());\n      run_inline_js();\n    });\n  }\n}(window));"
     },
     "metadata": {},
     "output_type": "display_data"
    }
   ],
   "source": [
    "import sys\n",
    "# adding Folder_2 to the system path\n",
    "sys.path.insert(0, '/home/sanj/projects/gaardian/workflow/scripts/')\n",
    "import probetools as probe\n",
    "\n",
    "%run hapclust.py\n",
    "import numpy as np \n",
    "import allel\n",
    "import pandas as pd\n",
    "import bokeh\n",
    "import bokeh.plotting\n",
    "import malariagen_data\n",
    "%matplotlib inline\n",
    "\n",
    "import bokeh.io as bkio\n",
    "bkio.output_notebook()"
   ]
  },
  {
   "cell_type": "markdown",
   "id": "59dfd496",
   "metadata": {},
   "source": [
    "### CNVs and the coeae1f region"
   ]
  },
  {
   "cell_type": "code",
   "execution_count": 2,
   "id": "d1583bd2",
   "metadata": {},
   "outputs": [
    {
     "data": {
      "application/javascript": [
       "\n",
       "(function(root) {\n",
       "  function now() {\n",
       "    return new Date();\n",
       "  }\n",
       "\n",
       "  const force = true;\n",
       "\n",
       "  if (typeof root._bokeh_onload_callbacks === \"undefined\" || force === true) {\n",
       "    root._bokeh_onload_callbacks = [];\n",
       "    root._bokeh_is_loading = undefined;\n",
       "  }\n",
       "\n",
       "  const JS_MIME_TYPE = 'application/javascript';\n",
       "  const HTML_MIME_TYPE = 'text/html';\n",
       "  const EXEC_MIME_TYPE = 'application/vnd.bokehjs_exec.v0+json';\n",
       "  const CLASS_NAME = 'output_bokeh rendered_html';\n",
       "\n",
       "  /**\n",
       "   * Render data to the DOM node\n",
       "   */\n",
       "  function render(props, node) {\n",
       "    const script = document.createElement(\"script\");\n",
       "    node.appendChild(script);\n",
       "  }\n",
       "\n",
       "  /**\n",
       "   * Handle when an output is cleared or removed\n",
       "   */\n",
       "  function handleClearOutput(event, handle) {\n",
       "    const cell = handle.cell;\n",
       "\n",
       "    const id = cell.output_area._bokeh_element_id;\n",
       "    const server_id = cell.output_area._bokeh_server_id;\n",
       "    // Clean up Bokeh references\n",
       "    if (id != null && id in Bokeh.index) {\n",
       "      Bokeh.index[id].model.document.clear();\n",
       "      delete Bokeh.index[id];\n",
       "    }\n",
       "\n",
       "    if (server_id !== undefined) {\n",
       "      // Clean up Bokeh references\n",
       "      const cmd_clean = \"from bokeh.io.state import curstate; print(curstate().uuid_to_server['\" + server_id + \"'].get_sessions()[0].document.roots[0]._id)\";\n",
       "      cell.notebook.kernel.execute(cmd_clean, {\n",
       "        iopub: {\n",
       "          output: function(msg) {\n",
       "            const id = msg.content.text.trim();\n",
       "            if (id in Bokeh.index) {\n",
       "              Bokeh.index[id].model.document.clear();\n",
       "              delete Bokeh.index[id];\n",
       "            }\n",
       "          }\n",
       "        }\n",
       "      });\n",
       "      // Destroy server and session\n",
       "      const cmd_destroy = \"import bokeh.io.notebook as ion; ion.destroy_server('\" + server_id + \"')\";\n",
       "      cell.notebook.kernel.execute(cmd_destroy);\n",
       "    }\n",
       "  }\n",
       "\n",
       "  /**\n",
       "   * Handle when a new output is added\n",
       "   */\n",
       "  function handleAddOutput(event, handle) {\n",
       "    const output_area = handle.output_area;\n",
       "    const output = handle.output;\n",
       "\n",
       "    // limit handleAddOutput to display_data with EXEC_MIME_TYPE content only\n",
       "    if ((output.output_type != \"display_data\") || (!Object.prototype.hasOwnProperty.call(output.data, EXEC_MIME_TYPE))) {\n",
       "      return\n",
       "    }\n",
       "\n",
       "    const toinsert = output_area.element.find(\".\" + CLASS_NAME.split(' ')[0]);\n",
       "\n",
       "    if (output.metadata[EXEC_MIME_TYPE][\"id\"] !== undefined) {\n",
       "      toinsert[toinsert.length - 1].firstChild.textContent = output.data[JS_MIME_TYPE];\n",
       "      // store reference to embed id on output_area\n",
       "      output_area._bokeh_element_id = output.metadata[EXEC_MIME_TYPE][\"id\"];\n",
       "    }\n",
       "    if (output.metadata[EXEC_MIME_TYPE][\"server_id\"] !== undefined) {\n",
       "      const bk_div = document.createElement(\"div\");\n",
       "      bk_div.innerHTML = output.data[HTML_MIME_TYPE];\n",
       "      const script_attrs = bk_div.children[0].attributes;\n",
       "      for (let i = 0; i < script_attrs.length; i++) {\n",
       "        toinsert[toinsert.length - 1].firstChild.setAttribute(script_attrs[i].name, script_attrs[i].value);\n",
       "        toinsert[toinsert.length - 1].firstChild.textContent = bk_div.children[0].textContent\n",
       "      }\n",
       "      // store reference to server id on output_area\n",
       "      output_area._bokeh_server_id = output.metadata[EXEC_MIME_TYPE][\"server_id\"];\n",
       "    }\n",
       "  }\n",
       "\n",
       "  function register_renderer(events, OutputArea) {\n",
       "\n",
       "    function append_mime(data, metadata, element) {\n",
       "      // create a DOM node to render to\n",
       "      const toinsert = this.create_output_subarea(\n",
       "        metadata,\n",
       "        CLASS_NAME,\n",
       "        EXEC_MIME_TYPE\n",
       "      );\n",
       "      this.keyboard_manager.register_events(toinsert);\n",
       "      // Render to node\n",
       "      const props = {data: data, metadata: metadata[EXEC_MIME_TYPE]};\n",
       "      render(props, toinsert[toinsert.length - 1]);\n",
       "      element.append(toinsert);\n",
       "      return toinsert\n",
       "    }\n",
       "\n",
       "    /* Handle when an output is cleared or removed */\n",
       "    events.on('clear_output.CodeCell', handleClearOutput);\n",
       "    events.on('delete.Cell', handleClearOutput);\n",
       "\n",
       "    /* Handle when a new output is added */\n",
       "    events.on('output_added.OutputArea', handleAddOutput);\n",
       "\n",
       "    /**\n",
       "     * Register the mime type and append_mime function with output_area\n",
       "     */\n",
       "    OutputArea.prototype.register_mime_type(EXEC_MIME_TYPE, append_mime, {\n",
       "      /* Is output safe? */\n",
       "      safe: true,\n",
       "      /* Index of renderer in `output_area.display_order` */\n",
       "      index: 0\n",
       "    });\n",
       "  }\n",
       "\n",
       "  // register the mime type if in Jupyter Notebook environment and previously unregistered\n",
       "  if (root.Jupyter !== undefined) {\n",
       "    const events = require('base/js/events');\n",
       "    const OutputArea = require('notebook/js/outputarea').OutputArea;\n",
       "\n",
       "    if (OutputArea.prototype.mime_types().indexOf(EXEC_MIME_TYPE) == -1) {\n",
       "      register_renderer(events, OutputArea);\n",
       "    }\n",
       "  }\n",
       "\n",
       "  \n",
       "  if (typeof (root._bokeh_timeout) === \"undefined\" || force === true) {\n",
       "    root._bokeh_timeout = Date.now() + 5000;\n",
       "    root._bokeh_failed_load = false;\n",
       "  }\n",
       "\n",
       "  const NB_LOAD_WARNING = {'data': {'text/html':\n",
       "     \"<div style='background-color: #fdd'>\\n\"+\n",
       "     \"<p>\\n\"+\n",
       "     \"BokehJS does not appear to have successfully loaded. If loading BokehJS from CDN, this \\n\"+\n",
       "     \"may be due to a slow or bad network connection. Possible fixes:\\n\"+\n",
       "     \"</p>\\n\"+\n",
       "     \"<ul>\\n\"+\n",
       "     \"<li>re-rerun `output_notebook()` to attempt to load from CDN again, or</li>\\n\"+\n",
       "     \"<li>use INLINE resources instead, as so:</li>\\n\"+\n",
       "     \"</ul>\\n\"+\n",
       "     \"<code>\\n\"+\n",
       "     \"from bokeh.resources import INLINE\\n\"+\n",
       "     \"output_notebook(resources=INLINE)\\n\"+\n",
       "     \"</code>\\n\"+\n",
       "     \"</div>\"}};\n",
       "\n",
       "  function display_loaded() {\n",
       "    const el = document.getElementById(null);\n",
       "    if (el != null) {\n",
       "      el.textContent = \"BokehJS is loading...\";\n",
       "    }\n",
       "    if (root.Bokeh !== undefined) {\n",
       "      if (el != null) {\n",
       "        el.textContent = \"BokehJS \" + root.Bokeh.version + \" successfully loaded.\";\n",
       "      }\n",
       "    } else if (Date.now() < root._bokeh_timeout) {\n",
       "      setTimeout(display_loaded, 100)\n",
       "    }\n",
       "  }\n",
       "\n",
       "\n",
       "  function run_callbacks() {\n",
       "    try {\n",
       "      root._bokeh_onload_callbacks.forEach(function(callback) {\n",
       "        if (callback != null)\n",
       "          callback();\n",
       "      });\n",
       "    } finally {\n",
       "      delete root._bokeh_onload_callbacks\n",
       "    }\n",
       "    console.debug(\"Bokeh: all callbacks have finished\");\n",
       "  }\n",
       "\n",
       "  function load_libs(css_urls, js_urls, callback) {\n",
       "    if (css_urls == null) css_urls = [];\n",
       "    if (js_urls == null) js_urls = [];\n",
       "\n",
       "    root._bokeh_onload_callbacks.push(callback);\n",
       "    if (root._bokeh_is_loading > 0) {\n",
       "      console.debug(\"Bokeh: BokehJS is being loaded, scheduling callback at\", now());\n",
       "      return null;\n",
       "    }\n",
       "    if (js_urls == null || js_urls.length === 0) {\n",
       "      run_callbacks();\n",
       "      return null;\n",
       "    }\n",
       "    console.debug(\"Bokeh: BokehJS not loaded, scheduling load and callback at\", now());\n",
       "    root._bokeh_is_loading = css_urls.length + js_urls.length;\n",
       "\n",
       "    function on_load() {\n",
       "      root._bokeh_is_loading--;\n",
       "      if (root._bokeh_is_loading === 0) {\n",
       "        console.debug(\"Bokeh: all BokehJS libraries/stylesheets loaded\");\n",
       "        run_callbacks()\n",
       "      }\n",
       "    }\n",
       "\n",
       "    function on_error(url) {\n",
       "      console.error(\"failed to load \" + url);\n",
       "    }\n",
       "\n",
       "    for (let i = 0; i < css_urls.length; i++) {\n",
       "      const url = css_urls[i];\n",
       "      const element = document.createElement(\"link\");\n",
       "      element.onload = on_load;\n",
       "      element.onerror = on_error.bind(null, url);\n",
       "      element.rel = \"stylesheet\";\n",
       "      element.type = \"text/css\";\n",
       "      element.href = url;\n",
       "      console.debug(\"Bokeh: injecting link tag for BokehJS stylesheet: \", url);\n",
       "      document.body.appendChild(element);\n",
       "    }\n",
       "\n",
       "    for (let i = 0; i < js_urls.length; i++) {\n",
       "      const url = js_urls[i];\n",
       "      const element = document.createElement('script');\n",
       "      element.onload = on_load;\n",
       "      element.onerror = on_error.bind(null, url);\n",
       "      element.async = false;\n",
       "      element.src = url;\n",
       "      console.debug(\"Bokeh: injecting script tag for BokehJS library: \", url);\n",
       "      document.head.appendChild(element);\n",
       "    }\n",
       "  };\n",
       "\n",
       "  function inject_raw_css(css) {\n",
       "    const element = document.createElement(\"style\");\n",
       "    element.appendChild(document.createTextNode(css));\n",
       "    document.body.appendChild(element);\n",
       "  }\n",
       "\n",
       "  \n",
       "  const js_urls = [\"https://cdn.bokeh.org/bokeh/release/bokeh-2.4.2.min.js\", \"https://cdn.bokeh.org/bokeh/release/bokeh-gl-2.4.2.min.js\", \"https://cdn.bokeh.org/bokeh/release/bokeh-widgets-2.4.2.min.js\", \"https://cdn.bokeh.org/bokeh/release/bokeh-tables-2.4.2.min.js\", \"https://cdn.bokeh.org/bokeh/release/bokeh-mathjax-2.4.2.min.js\"];\n",
       "  const css_urls = [];\n",
       "  \n",
       "\n",
       "  const inline_js = [\n",
       "    function(Bokeh) {\n",
       "      Bokeh.set_log_level(\"info\");\n",
       "    },\n",
       "    function(Bokeh) {\n",
       "    \n",
       "    \n",
       "    }\n",
       "  ];\n",
       "\n",
       "  function run_inline_js() {\n",
       "    \n",
       "    if (root.Bokeh !== undefined || force === true) {\n",
       "      \n",
       "    for (let i = 0; i < inline_js.length; i++) {\n",
       "      inline_js[i].call(root, root.Bokeh);\n",
       "    }\n",
       "    } else if (Date.now() < root._bokeh_timeout) {\n",
       "      setTimeout(run_inline_js, 100);\n",
       "    } else if (!root._bokeh_failed_load) {\n",
       "      console.log(\"Bokeh: BokehJS failed to load within specified timeout.\");\n",
       "      root._bokeh_failed_load = true;\n",
       "    } else if (force !== true) {\n",
       "      const cell = $(document.getElementById(null)).parents('.cell').data().cell;\n",
       "      cell.output_area.append_execute_result(NB_LOAD_WARNING)\n",
       "    }\n",
       "\n",
       "  }\n",
       "\n",
       "  if (root._bokeh_is_loading === 0) {\n",
       "    console.debug(\"Bokeh: BokehJS loaded, going straight to plotting\");\n",
       "    run_inline_js();\n",
       "  } else {\n",
       "    load_libs(css_urls, js_urls, function() {\n",
       "      console.debug(\"Bokeh: BokehJS plotting callback run at\", now());\n",
       "      run_inline_js();\n",
       "    });\n",
       "  }\n",
       "}(window));"
      ],
      "application/vnd.bokehjs_load.v0+json": "\n(function(root) {\n  function now() {\n    return new Date();\n  }\n\n  const force = true;\n\n  if (typeof root._bokeh_onload_callbacks === \"undefined\" || force === true) {\n    root._bokeh_onload_callbacks = [];\n    root._bokeh_is_loading = undefined;\n  }\n\n  \n\n  \n  if (typeof (root._bokeh_timeout) === \"undefined\" || force === true) {\n    root._bokeh_timeout = Date.now() + 5000;\n    root._bokeh_failed_load = false;\n  }\n\n  const NB_LOAD_WARNING = {'data': {'text/html':\n     \"<div style='background-color: #fdd'>\\n\"+\n     \"<p>\\n\"+\n     \"BokehJS does not appear to have successfully loaded. If loading BokehJS from CDN, this \\n\"+\n     \"may be due to a slow or bad network connection. Possible fixes:\\n\"+\n     \"</p>\\n\"+\n     \"<ul>\\n\"+\n     \"<li>re-rerun `output_notebook()` to attempt to load from CDN again, or</li>\\n\"+\n     \"<li>use INLINE resources instead, as so:</li>\\n\"+\n     \"</ul>\\n\"+\n     \"<code>\\n\"+\n     \"from bokeh.resources import INLINE\\n\"+\n     \"output_notebook(resources=INLINE)\\n\"+\n     \"</code>\\n\"+\n     \"</div>\"}};\n\n  function display_loaded() {\n    const el = document.getElementById(null);\n    if (el != null) {\n      el.textContent = \"BokehJS is loading...\";\n    }\n    if (root.Bokeh !== undefined) {\n      if (el != null) {\n        el.textContent = \"BokehJS \" + root.Bokeh.version + \" successfully loaded.\";\n      }\n    } else if (Date.now() < root._bokeh_timeout) {\n      setTimeout(display_loaded, 100)\n    }\n  }\n\n\n  function run_callbacks() {\n    try {\n      root._bokeh_onload_callbacks.forEach(function(callback) {\n        if (callback != null)\n          callback();\n      });\n    } finally {\n      delete root._bokeh_onload_callbacks\n    }\n    console.debug(\"Bokeh: all callbacks have finished\");\n  }\n\n  function load_libs(css_urls, js_urls, callback) {\n    if (css_urls == null) css_urls = [];\n    if (js_urls == null) js_urls = [];\n\n    root._bokeh_onload_callbacks.push(callback);\n    if (root._bokeh_is_loading > 0) {\n      console.debug(\"Bokeh: BokehJS is being loaded, scheduling callback at\", now());\n      return null;\n    }\n    if (js_urls == null || js_urls.length === 0) {\n      run_callbacks();\n      return null;\n    }\n    console.debug(\"Bokeh: BokehJS not loaded, scheduling load and callback at\", now());\n    root._bokeh_is_loading = css_urls.length + js_urls.length;\n\n    function on_load() {\n      root._bokeh_is_loading--;\n      if (root._bokeh_is_loading === 0) {\n        console.debug(\"Bokeh: all BokehJS libraries/stylesheets loaded\");\n        run_callbacks()\n      }\n    }\n\n    function on_error(url) {\n      console.error(\"failed to load \" + url);\n    }\n\n    for (let i = 0; i < css_urls.length; i++) {\n      const url = css_urls[i];\n      const element = document.createElement(\"link\");\n      element.onload = on_load;\n      element.onerror = on_error.bind(null, url);\n      element.rel = \"stylesheet\";\n      element.type = \"text/css\";\n      element.href = url;\n      console.debug(\"Bokeh: injecting link tag for BokehJS stylesheet: \", url);\n      document.body.appendChild(element);\n    }\n\n    for (let i = 0; i < js_urls.length; i++) {\n      const url = js_urls[i];\n      const element = document.createElement('script');\n      element.onload = on_load;\n      element.onerror = on_error.bind(null, url);\n      element.async = false;\n      element.src = url;\n      console.debug(\"Bokeh: injecting script tag for BokehJS library: \", url);\n      document.head.appendChild(element);\n    }\n  };\n\n  function inject_raw_css(css) {\n    const element = document.createElement(\"style\");\n    element.appendChild(document.createTextNode(css));\n    document.body.appendChild(element);\n  }\n\n  \n  const js_urls = [\"https://cdn.bokeh.org/bokeh/release/bokeh-2.4.2.min.js\", \"https://cdn.bokeh.org/bokeh/release/bokeh-gl-2.4.2.min.js\", \"https://cdn.bokeh.org/bokeh/release/bokeh-widgets-2.4.2.min.js\", \"https://cdn.bokeh.org/bokeh/release/bokeh-tables-2.4.2.min.js\", \"https://cdn.bokeh.org/bokeh/release/bokeh-mathjax-2.4.2.min.js\"];\n  const css_urls = [];\n  \n\n  const inline_js = [\n    function(Bokeh) {\n      Bokeh.set_log_level(\"info\");\n    },\n    function(Bokeh) {\n    \n    \n    }\n  ];\n\n  function run_inline_js() {\n    \n    if (root.Bokeh !== undefined || force === true) {\n      \n    for (let i = 0; i < inline_js.length; i++) {\n      inline_js[i].call(root, root.Bokeh);\n    }\n    } else if (Date.now() < root._bokeh_timeout) {\n      setTimeout(run_inline_js, 100);\n    } else if (!root._bokeh_failed_load) {\n      console.log(\"Bokeh: BokehJS failed to load within specified timeout.\");\n      root._bokeh_failed_load = true;\n    } else if (force !== true) {\n      const cell = $(document.getElementById(null)).parents('.cell').data().cell;\n      cell.output_area.append_execute_result(NB_LOAD_WARNING)\n    }\n\n  }\n\n  if (root._bokeh_is_loading === 0) {\n    console.debug(\"Bokeh: BokehJS loaded, going straight to plotting\");\n    run_inline_js();\n  } else {\n    load_libs(css_urls, js_urls, function() {\n      console.debug(\"Bokeh: BokehJS plotting callback run at\", now());\n      run_inline_js();\n    });\n  }\n}(window));"
     },
     "metadata": {},
     "output_type": "display_data"
    }
   ],
   "source": [
    "ag3 = malariagen_data.Ag3(pre=True)\n",
    "\n",
    "moshi_dup_start, moshi_dup_end = 28535653, 28571586\n",
    "gaard_dup_start, gaard_dup_end = 28542695, 28551033\n",
    "\n",
    "gamb_cnv_breakpoints = [gaard_dup_start, gaard_dup_end] # baguida and obuasi CNV\n",
    "moshi_cnv_breakpoints = [moshi_dup_start, moshi_dup_end]"
   ]
  },
  {
   "cell_type": "code",
   "execution_count": 3,
   "id": "423b59bf",
   "metadata": {},
   "outputs": [],
   "source": [
    "cohorts = [\n",
    "    # Ag1000G phase 3 sample sets in Ag3.0\n",
    "    \"AG1000G-GH\", \n",
    "    'AG1000G-ML-A',\n",
    "     'AG1000G-BF-A',\n",
    "     'AG1000G-BF-B',\n",
    "     'AG1000G-GN-A',\n",
    "     'AG1000G-GN-B',\n",
    "    'AG1000G-TZ',\n",
    "    # Amenta-Etego sample sets in Ag3.3\n",
    "    # GAARDIAN sample set in Ag3.4\n",
    "    '1244-VO-GH-YAWSON-VMF00149',\n",
    "    # GAARD Ghana sample set in Ag3.2\n",
    "     \"1244-VO-GH-YAWSON-VMF00051\",\n",
    "     '1245-VO-CI-CONSTANT-VMF00054',\n",
    "     '1253-VO-TG-DJOGBENOU-VMF00052',\n",
    "     '1237-VO-BJ-DJOGBENOU-VMF00050'\n",
    "]\n",
    "\n",
    "\n",
    "contig = '2L'\n",
    "start = 28_520_000\n",
    "end = 28_580_000"
   ]
  },
  {
   "cell_type": "code",
   "execution_count": 4,
   "id": "029455d0",
   "metadata": {},
   "outputs": [
    {
     "data": {
      "application/vnd.jupyter.widget-view+json": {
       "model_id": "d86d527a606d4e1891390dc44c67b008",
       "version_major": 2,
       "version_minor": 0
      },
      "text/plain": [
       "Load sample metadata:   0%|          | 0/12 [00:00<?, ?it/s]"
      ]
     },
     "metadata": {},
     "output_type": "display_data"
    }
   ],
   "source": [
    "# inspect all samples available from Ghana\n",
    "df_samples = ag3.sample_metadata(sample_sets=cohorts)\n",
    "pivot_samples = (\n",
    "    df_samples\n",
    "    .pivot_table(\n",
    "        index=[\"country\", \"admin1_iso\", \"admin1_name\", \"admin2_name\", \"year\"], \n",
    "        columns=\"taxon\", \n",
    "        values=\"sample_id\",\n",
    "        aggfunc=\"count\",\n",
    "        fill_value=0\n",
    "    )\n",
    ")"
   ]
  },
  {
   "cell_type": "code",
   "execution_count": 5,
   "id": "1c4f3cc1",
   "metadata": {},
   "outputs": [
    {
     "data": {
      "text/html": [
       "<div>\n",
       "<style scoped>\n",
       "    .dataframe tbody tr th:only-of-type {\n",
       "        vertical-align: middle;\n",
       "    }\n",
       "\n",
       "    .dataframe tbody tr th {\n",
       "        vertical-align: top;\n",
       "    }\n",
       "\n",
       "    .dataframe thead th {\n",
       "        text-align: right;\n",
       "    }\n",
       "</style>\n",
       "<table border=\"1\" class=\"dataframe\">\n",
       "  <thead>\n",
       "    <tr style=\"text-align: right;\">\n",
       "      <th></th>\n",
       "      <th></th>\n",
       "      <th></th>\n",
       "      <th></th>\n",
       "      <th>taxon</th>\n",
       "      <th>arabiensis</th>\n",
       "      <th>coluzzii</th>\n",
       "      <th>gambiae</th>\n",
       "      <th>gcx3</th>\n",
       "      <th>intermediate_gambiae_coluzzii</th>\n",
       "    </tr>\n",
       "    <tr>\n",
       "      <th>country</th>\n",
       "      <th>admin1_iso</th>\n",
       "      <th>admin1_name</th>\n",
       "      <th>admin2_name</th>\n",
       "      <th>year</th>\n",
       "      <th></th>\n",
       "      <th></th>\n",
       "      <th></th>\n",
       "      <th></th>\n",
       "      <th></th>\n",
       "    </tr>\n",
       "  </thead>\n",
       "  <tbody>\n",
       "    <tr>\n",
       "      <th>Benin</th>\n",
       "      <th>BJ-OU</th>\n",
       "      <th>Ouémé</th>\n",
       "      <th>Avrankou</th>\n",
       "      <th>2017</th>\n",
       "      <td>0</td>\n",
       "      <td>90</td>\n",
       "      <td>0</td>\n",
       "      <td>0</td>\n",
       "      <td>0</td>\n",
       "    </tr>\n",
       "    <tr>\n",
       "      <th rowspan=\"2\" valign=\"top\">Burkina Faso</th>\n",
       "      <th rowspan=\"2\" valign=\"top\">BF-09</th>\n",
       "      <th rowspan=\"2\" valign=\"top\">Hauts-Bassins</th>\n",
       "      <th rowspan=\"2\" valign=\"top\">Houet</th>\n",
       "      <th>2012</th>\n",
       "      <td>0</td>\n",
       "      <td>82</td>\n",
       "      <td>98</td>\n",
       "      <td>0</td>\n",
       "      <td>1</td>\n",
       "    </tr>\n",
       "    <tr>\n",
       "      <th>2014</th>\n",
       "      <td>3</td>\n",
       "      <td>53</td>\n",
       "      <td>46</td>\n",
       "      <td>0</td>\n",
       "      <td>0</td>\n",
       "    </tr>\n",
       "    <tr>\n",
       "      <th>Cote d'Ivoire</th>\n",
       "      <th>CI-CM</th>\n",
       "      <th>Comoe</th>\n",
       "      <th>Sud-Comoe</th>\n",
       "      <th>2017</th>\n",
       "      <td>0</td>\n",
       "      <td>0</td>\n",
       "      <td>37</td>\n",
       "      <td>0</td>\n",
       "      <td>1</td>\n",
       "    </tr>\n",
       "    <tr>\n",
       "      <th>Ghana</th>\n",
       "      <th>GH-AA</th>\n",
       "      <th>Greater Accra</th>\n",
       "      <th>Accra</th>\n",
       "      <th>2018</th>\n",
       "      <td>0</td>\n",
       "      <td>264</td>\n",
       "      <td>0</td>\n",
       "      <td>0</td>\n",
       "      <td>4</td>\n",
       "    </tr>\n",
       "  </tbody>\n",
       "</table>\n",
       "</div>"
      ],
      "text/plain": [
       "taxon                                                    arabiensis  coluzzii  \\\n",
       "country       admin1_iso admin1_name   admin2_name year                         \n",
       "Benin         BJ-OU      Ouémé         Avrankou    2017           0        90   \n",
       "Burkina Faso  BF-09      Hauts-Bassins Houet       2012           0        82   \n",
       "                                                   2014           3        53   \n",
       "Cote d'Ivoire CI-CM      Comoe         Sud-Comoe   2017           0         0   \n",
       "Ghana         GH-AA      Greater Accra Accra       2018           0       264   \n",
       "\n",
       "taxon                                                    gambiae  gcx3  \\\n",
       "country       admin1_iso admin1_name   admin2_name year                  \n",
       "Benin         BJ-OU      Ouémé         Avrankou    2017        0     0   \n",
       "Burkina Faso  BF-09      Hauts-Bassins Houet       2012       98     0   \n",
       "                                                   2014       46     0   \n",
       "Cote d'Ivoire CI-CM      Comoe         Sud-Comoe   2017       37     0   \n",
       "Ghana         GH-AA      Greater Accra Accra       2018        0     0   \n",
       "\n",
       "taxon                                                    intermediate_gambiae_coluzzii  \n",
       "country       admin1_iso admin1_name   admin2_name year                                 \n",
       "Benin         BJ-OU      Ouémé         Avrankou    2017                              0  \n",
       "Burkina Faso  BF-09      Hauts-Bassins Houet       2012                              1  \n",
       "                                                   2014                              0  \n",
       "Cote d'Ivoire CI-CM      Comoe         Sud-Comoe   2017                              1  \n",
       "Ghana         GH-AA      Greater Accra Accra       2018                              4  "
      ]
     },
     "execution_count": 5,
     "metadata": {},
     "output_type": "execute_result"
    }
   ],
   "source": [
    "pivot_samples.head(5)"
   ]
  },
  {
   "cell_type": "code",
   "execution_count": 20,
   "id": "403fa3c4",
   "metadata": {},
   "outputs": [
    {
     "data": {
      "text/plain": [
       "['AG1000G-GH',\n",
       " 'AG1000G-ML-A',\n",
       " 'AG1000G-BF-A',\n",
       " 'AG1000G-BF-B',\n",
       " 'AG1000G-GN-A',\n",
       " 'AG1000G-GN-B',\n",
       " 'AG1000G-TZ',\n",
       " '1244-VO-GH-YAWSON-VMF00149',\n",
       " '1244-VO-GH-YAWSON-VMF00051',\n",
       " '1245-VO-CI-CONSTANT-VMF00054',\n",
       " '1253-VO-TG-DJOGBENOU-VMF00052',\n",
       " '1237-VO-BJ-DJOGBENOU-VMF00050']"
      ]
     },
     "execution_count": 20,
     "metadata": {},
     "output_type": "execute_result"
    }
   ],
   "source": [
    "cohorts"
   ]
  },
  {
   "cell_type": "code",
   "execution_count": 15,
   "id": "cc757a33",
   "metadata": {
    "scrolled": false
   },
   "outputs": [
    {
     "data": {
      "application/vnd.jupyter.widget-view+json": {
       "model_id": "f6aba23c78464021baa15b3f2a7261b7",
       "version_major": 2,
       "version_minor": 0
      },
      "text/plain": [
       "Load CNV HMM data:   0%|          | 0/258 [00:00<?, ?it/s]"
      ]
     },
     "metadata": {},
     "output_type": "display_data"
    },
    {
     "data": {
      "application/vnd.jupyter.widget-view+json": {
       "model_id": "97e7ae013ee9495cbb305b73c3799200",
       "version_major": 2,
       "version_minor": 0
      },
      "text/plain": [
       "Compute modal gene copy number:   0%|          | 0/15 [00:00<?, ?it/s]"
      ]
     },
     "metadata": {},
     "output_type": "display_data"
    },
    {
     "data": {
      "application/vnd.plotly.v1+json": {
       "config": {
        "plotlyServerURL": "https://plot.ly"
       },
       "data": [
        {
         "coloraxis": "coloraxis",
         "hovertemplate": "x: %{x}<br>label: %{y}<br>color: %{z}<extra></extra>",
         "name": "0",
         "texttemplate": "%{z:.0%}",
         "type": "heatmap",
         "x": [
          "BF-09_colu_2012",
          "BF-09_colu_2014",
          "BF-09_gamb_2012",
          "BF-09_gamb_2014",
          "BJ-OU_colu_2017",
          "CI-CM_gamb_2017",
          "GH-AA_colu_2012",
          "GH-AA_colu_2018",
          "GH-AA_gamb_2012",
          "GH-AA_gamb_2017",
          "GH-AH_colu_2018",
          "GH-AH_gamb_2017",
          "GH-AH_gamb_2018",
          "GH-CP_colu_2012",
          "GH-CP_colu_2018",
          "GH-EP_gamb_2012",
          "GH-WP_colu_2012",
          "GN-F_gamb_2012",
          "GN-N_colu_2012",
          "GN-N_gamb_2012",
          "ML-2_colu_2014",
          "ML-2_gamb_2014",
          "ML-3_colu_2012",
          "ML-3_gamb_2012",
          "TG-M_gamb_2017",
          "TZ-05_arab_2015",
          "TZ-05_gamb_2015",
          "TZ-13_arab_2012",
          "TZ-25_gamb_2013",
          "TZ-26_arab_2012"
         ],
         "xaxis": "x",
         "y": [
          "AGAP006225 amp",
          "AGAP006226 (Aldehyde_oxidase) amp",
          "AGAP006227 amp",
          "AGAP006228 (COEAE2F) amp",
          "AGAP006229 (Vps20) amp",
          "AGAP006231 amp",
          "AGAP006232 (Pex14) amp",
          "AGAP006233 amp",
          "AGAP006234 amp",
          "AGAP006235 amp"
         ],
         "yaxis": "y",
         "z": [
          [
           0,
           0,
           0,
           0,
           0,
           0,
           0,
           0,
           0,
           0,
           0.003663003663003663,
           0,
           0,
           0,
           0.006944444444444444,
           0,
           0,
           0,
           0,
           0,
           0,
           0,
           0,
           0,
           0,
           0,
           0,
           0,
           0,
           0.23684210526315788
          ],
          [
           0,
           0,
           0,
           0,
           0,
           0,
           0,
           0.004672897196261682,
           0,
           0,
           0,
           0.15028901734104047,
           0.07936507936507936,
           0,
           0,
           0,
           0,
           0,
           0,
           0,
           0,
           0,
           0,
           0,
           0.18235294117647058,
           0,
           0,
           0,
           0,
           0.2631578947368421
          ],
          [
           0,
           0,
           0,
           0,
           0,
           0,
           0,
           0,
           0,
           0,
           0,
           0.15028901734104047,
           0.07936507936507936,
           0,
           0.006944444444444444,
           0,
           0,
           0.01694915254237288,
           0,
           0.016666666666666666,
           0,
           0,
           0,
           0,
           0.18823529411764706,
           0,
           0,
           0,
           0,
           0.2631578947368421
          ],
          [
           0,
           0,
           0,
           0,
           0,
           0,
           0,
           0,
           0,
           0.02054794520547945,
           0,
           0.16184971098265896,
           0.07936507936507936,
           0,
           0.006944444444444444,
           0,
           0,
           0.01694915254237288,
           0,
           0.016666666666666666,
           0,
           0.0625,
           0,
           0,
           0.18823529411764706,
           0,
           0,
           0,
           0,
           0.2631578947368421
          ],
          [
           0,
           0.03773584905660377,
           0,
           0,
           0,
           0,
           0,
           0,
           0,
           0.00684931506849315,
           0,
           0,
           0.015873015873015872,
           0,
           0.006944444444444444,
           0,
           0,
           0.05084745762711865,
           0,
           0.03333333333333333,
           0,
           0.03125,
           0,
           0,
           0,
           0,
           0,
           0,
           0,
           0.2631578947368421
          ],
          [
           0.0125,
           0.03773584905660377,
           0,
           0.021739130434782608,
           0,
           0,
           0,
           0,
           0,
           0,
           0,
           0,
           0,
           0,
           0,
           0,
           0,
           0.01694915254237288,
           0,
           0.03333333333333333,
           0.05263157894736842,
           0.03125,
           0,
           0,
           0,
           0,
           0,
           0,
           0,
           0.2631578947368421
          ],
          [
           0.0125,
           0.018867924528301886,
           0,
           0,
           0,
           0,
           0,
           0,
           0,
           0,
           0.003663003663003663,
           0,
           0,
           0,
           0.006944444444444444,
           0,
           0,
           0,
           0,
           0.016666666666666666,
           0,
           0.03125,
           0,
           0,
           0,
           0,
           0,
           0,
           0,
           0.2631578947368421
          ],
          [
           0,
           0.018867924528301886,
           0,
           0,
           0,
           0,
           0,
           0,
           0,
           0,
           0.003663003663003663,
           0,
           0,
           0.04,
           0.006944444444444444,
           0,
           0,
           0.01694915254237288,
           0,
           0.016666666666666666,
           0,
           0,
           0,
           0,
           0.047058823529411764,
           0,
           0,
           0,
           0,
           0.2631578947368421
          ],
          [
           0,
           0.018867924528301886,
           0,
           0,
           0,
           0,
           0,
           0,
           0,
           0,
           0.003663003663003663,
           0,
           0,
           0,
           0.006944444444444444,
           0,
           0,
           0.03389830508474576,
           0,
           0.016666666666666666,
           0,
           0,
           0,
           0,
           0.047058823529411764,
           0,
           0,
           0,
           0,
           0.2631578947368421
          ],
          [
           0,
           0.05660377358490566,
           0,
           0.021739130434782608,
           0,
           0,
           0,
           0,
           0,
           0,
           0.01098901098901099,
           0.005780346820809248,
           0.031746031746031744,
           0,
           0,
           0,
           0,
           0.05084745762711865,
           0,
           0.03333333333333333,
           0,
           0.03125,
           0,
           0,
           0.0058823529411764705,
           0.007352941176470588,
           0,
           0,
           0,
           0.2631578947368421
          ]
         ]
        }
       ],
       "layout": {
        "coloraxis": {
         "cmax": 1,
         "cmin": 0,
         "colorbar": {
          "ticktext": [
           "0%",
           "20%",
           "40%",
           "60%",
           "80%",
           "100%"
          ],
          "tickvals": [
           0,
           0.2,
           0.4,
           0.6,
           0.8,
           1
          ],
          "title": {
           "text": "Frequency"
          }
         },
         "colorscale": [
          [
           0,
           "rgb(255,245,240)"
          ],
          [
           0.125,
           "rgb(254,224,210)"
          ],
          [
           0.25,
           "rgb(252,187,161)"
          ],
          [
           0.375,
           "rgb(252,146,114)"
          ],
          [
           0.5,
           "rgb(251,106,74)"
          ],
          [
           0.625,
           "rgb(239,59,44)"
          ],
          [
           0.75,
           "rgb(203,24,29)"
          ],
          [
           0.875,
           "rgb(165,15,21)"
          ],
          [
           1,
           "rgb(103,0,13)"
          ]
         ]
        },
        "height": 440,
        "template": {
         "data": {
          "bar": [
           {
            "error_x": {
             "color": "#2a3f5f"
            },
            "error_y": {
             "color": "#2a3f5f"
            },
            "marker": {
             "line": {
              "color": "#E5ECF6",
              "width": 0.5
             },
             "pattern": {
              "fillmode": "overlay",
              "size": 10,
              "solidity": 0.2
             }
            },
            "type": "bar"
           }
          ],
          "barpolar": [
           {
            "marker": {
             "line": {
              "color": "#E5ECF6",
              "width": 0.5
             },
             "pattern": {
              "fillmode": "overlay",
              "size": 10,
              "solidity": 0.2
             }
            },
            "type": "barpolar"
           }
          ],
          "carpet": [
           {
            "aaxis": {
             "endlinecolor": "#2a3f5f",
             "gridcolor": "white",
             "linecolor": "white",
             "minorgridcolor": "white",
             "startlinecolor": "#2a3f5f"
            },
            "baxis": {
             "endlinecolor": "#2a3f5f",
             "gridcolor": "white",
             "linecolor": "white",
             "minorgridcolor": "white",
             "startlinecolor": "#2a3f5f"
            },
            "type": "carpet"
           }
          ],
          "choropleth": [
           {
            "colorbar": {
             "outlinewidth": 0,
             "ticks": ""
            },
            "type": "choropleth"
           }
          ],
          "contour": [
           {
            "colorbar": {
             "outlinewidth": 0,
             "ticks": ""
            },
            "colorscale": [
             [
              0,
              "#0d0887"
             ],
             [
              0.1111111111111111,
              "#46039f"
             ],
             [
              0.2222222222222222,
              "#7201a8"
             ],
             [
              0.3333333333333333,
              "#9c179e"
             ],
             [
              0.4444444444444444,
              "#bd3786"
             ],
             [
              0.5555555555555556,
              "#d8576b"
             ],
             [
              0.6666666666666666,
              "#ed7953"
             ],
             [
              0.7777777777777778,
              "#fb9f3a"
             ],
             [
              0.8888888888888888,
              "#fdca26"
             ],
             [
              1,
              "#f0f921"
             ]
            ],
            "type": "contour"
           }
          ],
          "contourcarpet": [
           {
            "colorbar": {
             "outlinewidth": 0,
             "ticks": ""
            },
            "type": "contourcarpet"
           }
          ],
          "heatmap": [
           {
            "colorbar": {
             "outlinewidth": 0,
             "ticks": ""
            },
            "colorscale": [
             [
              0,
              "#0d0887"
             ],
             [
              0.1111111111111111,
              "#46039f"
             ],
             [
              0.2222222222222222,
              "#7201a8"
             ],
             [
              0.3333333333333333,
              "#9c179e"
             ],
             [
              0.4444444444444444,
              "#bd3786"
             ],
             [
              0.5555555555555556,
              "#d8576b"
             ],
             [
              0.6666666666666666,
              "#ed7953"
             ],
             [
              0.7777777777777778,
              "#fb9f3a"
             ],
             [
              0.8888888888888888,
              "#fdca26"
             ],
             [
              1,
              "#f0f921"
             ]
            ],
            "type": "heatmap"
           }
          ],
          "heatmapgl": [
           {
            "colorbar": {
             "outlinewidth": 0,
             "ticks": ""
            },
            "colorscale": [
             [
              0,
              "#0d0887"
             ],
             [
              0.1111111111111111,
              "#46039f"
             ],
             [
              0.2222222222222222,
              "#7201a8"
             ],
             [
              0.3333333333333333,
              "#9c179e"
             ],
             [
              0.4444444444444444,
              "#bd3786"
             ],
             [
              0.5555555555555556,
              "#d8576b"
             ],
             [
              0.6666666666666666,
              "#ed7953"
             ],
             [
              0.7777777777777778,
              "#fb9f3a"
             ],
             [
              0.8888888888888888,
              "#fdca26"
             ],
             [
              1,
              "#f0f921"
             ]
            ],
            "type": "heatmapgl"
           }
          ],
          "histogram": [
           {
            "marker": {
             "pattern": {
              "fillmode": "overlay",
              "size": 10,
              "solidity": 0.2
             }
            },
            "type": "histogram"
           }
          ],
          "histogram2d": [
           {
            "colorbar": {
             "outlinewidth": 0,
             "ticks": ""
            },
            "colorscale": [
             [
              0,
              "#0d0887"
             ],
             [
              0.1111111111111111,
              "#46039f"
             ],
             [
              0.2222222222222222,
              "#7201a8"
             ],
             [
              0.3333333333333333,
              "#9c179e"
             ],
             [
              0.4444444444444444,
              "#bd3786"
             ],
             [
              0.5555555555555556,
              "#d8576b"
             ],
             [
              0.6666666666666666,
              "#ed7953"
             ],
             [
              0.7777777777777778,
              "#fb9f3a"
             ],
             [
              0.8888888888888888,
              "#fdca26"
             ],
             [
              1,
              "#f0f921"
             ]
            ],
            "type": "histogram2d"
           }
          ],
          "histogram2dcontour": [
           {
            "colorbar": {
             "outlinewidth": 0,
             "ticks": ""
            },
            "colorscale": [
             [
              0,
              "#0d0887"
             ],
             [
              0.1111111111111111,
              "#46039f"
             ],
             [
              0.2222222222222222,
              "#7201a8"
             ],
             [
              0.3333333333333333,
              "#9c179e"
             ],
             [
              0.4444444444444444,
              "#bd3786"
             ],
             [
              0.5555555555555556,
              "#d8576b"
             ],
             [
              0.6666666666666666,
              "#ed7953"
             ],
             [
              0.7777777777777778,
              "#fb9f3a"
             ],
             [
              0.8888888888888888,
              "#fdca26"
             ],
             [
              1,
              "#f0f921"
             ]
            ],
            "type": "histogram2dcontour"
           }
          ],
          "mesh3d": [
           {
            "colorbar": {
             "outlinewidth": 0,
             "ticks": ""
            },
            "type": "mesh3d"
           }
          ],
          "parcoords": [
           {
            "line": {
             "colorbar": {
              "outlinewidth": 0,
              "ticks": ""
             }
            },
            "type": "parcoords"
           }
          ],
          "pie": [
           {
            "automargin": true,
            "type": "pie"
           }
          ],
          "scatter": [
           {
            "marker": {
             "colorbar": {
              "outlinewidth": 0,
              "ticks": ""
             }
            },
            "type": "scatter"
           }
          ],
          "scatter3d": [
           {
            "line": {
             "colorbar": {
              "outlinewidth": 0,
              "ticks": ""
             }
            },
            "marker": {
             "colorbar": {
              "outlinewidth": 0,
              "ticks": ""
             }
            },
            "type": "scatter3d"
           }
          ],
          "scattercarpet": [
           {
            "marker": {
             "colorbar": {
              "outlinewidth": 0,
              "ticks": ""
             }
            },
            "type": "scattercarpet"
           }
          ],
          "scattergeo": [
           {
            "marker": {
             "colorbar": {
              "outlinewidth": 0,
              "ticks": ""
             }
            },
            "type": "scattergeo"
           }
          ],
          "scattergl": [
           {
            "marker": {
             "colorbar": {
              "outlinewidth": 0,
              "ticks": ""
             }
            },
            "type": "scattergl"
           }
          ],
          "scattermapbox": [
           {
            "marker": {
             "colorbar": {
              "outlinewidth": 0,
              "ticks": ""
             }
            },
            "type": "scattermapbox"
           }
          ],
          "scatterpolar": [
           {
            "marker": {
             "colorbar": {
              "outlinewidth": 0,
              "ticks": ""
             }
            },
            "type": "scatterpolar"
           }
          ],
          "scatterpolargl": [
           {
            "marker": {
             "colorbar": {
              "outlinewidth": 0,
              "ticks": ""
             }
            },
            "type": "scatterpolargl"
           }
          ],
          "scatterternary": [
           {
            "marker": {
             "colorbar": {
              "outlinewidth": 0,
              "ticks": ""
             }
            },
            "type": "scatterternary"
           }
          ],
          "surface": [
           {
            "colorbar": {
             "outlinewidth": 0,
             "ticks": ""
            },
            "colorscale": [
             [
              0,
              "#0d0887"
             ],
             [
              0.1111111111111111,
              "#46039f"
             ],
             [
              0.2222222222222222,
              "#7201a8"
             ],
             [
              0.3333333333333333,
              "#9c179e"
             ],
             [
              0.4444444444444444,
              "#bd3786"
             ],
             [
              0.5555555555555556,
              "#d8576b"
             ],
             [
              0.6666666666666666,
              "#ed7953"
             ],
             [
              0.7777777777777778,
              "#fb9f3a"
             ],
             [
              0.8888888888888888,
              "#fdca26"
             ],
             [
              1,
              "#f0f921"
             ]
            ],
            "type": "surface"
           }
          ],
          "table": [
           {
            "cells": {
             "fill": {
              "color": "#EBF0F8"
             },
             "line": {
              "color": "white"
             }
            },
            "header": {
             "fill": {
              "color": "#C8D4E3"
             },
             "line": {
              "color": "white"
             }
            },
            "type": "table"
           }
          ]
         },
         "layout": {
          "annotationdefaults": {
           "arrowcolor": "#2a3f5f",
           "arrowhead": 0,
           "arrowwidth": 1
          },
          "autotypenumbers": "strict",
          "coloraxis": {
           "colorbar": {
            "outlinewidth": 0,
            "ticks": ""
           }
          },
          "colorscale": {
           "diverging": [
            [
             0,
             "#8e0152"
            ],
            [
             0.1,
             "#c51b7d"
            ],
            [
             0.2,
             "#de77ae"
            ],
            [
             0.3,
             "#f1b6da"
            ],
            [
             0.4,
             "#fde0ef"
            ],
            [
             0.5,
             "#f7f7f7"
            ],
            [
             0.6,
             "#e6f5d0"
            ],
            [
             0.7,
             "#b8e186"
            ],
            [
             0.8,
             "#7fbc41"
            ],
            [
             0.9,
             "#4d9221"
            ],
            [
             1,
             "#276419"
            ]
           ],
           "sequential": [
            [
             0,
             "#0d0887"
            ],
            [
             0.1111111111111111,
             "#46039f"
            ],
            [
             0.2222222222222222,
             "#7201a8"
            ],
            [
             0.3333333333333333,
             "#9c179e"
            ],
            [
             0.4444444444444444,
             "#bd3786"
            ],
            [
             0.5555555555555556,
             "#d8576b"
            ],
            [
             0.6666666666666666,
             "#ed7953"
            ],
            [
             0.7777777777777778,
             "#fb9f3a"
            ],
            [
             0.8888888888888888,
             "#fdca26"
            ],
            [
             1,
             "#f0f921"
            ]
           ],
           "sequentialminus": [
            [
             0,
             "#0d0887"
            ],
            [
             0.1111111111111111,
             "#46039f"
            ],
            [
             0.2222222222222222,
             "#7201a8"
            ],
            [
             0.3333333333333333,
             "#9c179e"
            ],
            [
             0.4444444444444444,
             "#bd3786"
            ],
            [
             0.5555555555555556,
             "#d8576b"
            ],
            [
             0.6666666666666666,
             "#ed7953"
            ],
            [
             0.7777777777777778,
             "#fb9f3a"
            ],
            [
             0.8888888888888888,
             "#fdca26"
            ],
            [
             1,
             "#f0f921"
            ]
           ]
          },
          "colorway": [
           "#636efa",
           "#EF553B",
           "#00cc96",
           "#ab63fa",
           "#FFA15A",
           "#19d3f3",
           "#FF6692",
           "#B6E880",
           "#FF97FF",
           "#FECB52"
          ],
          "font": {
           "color": "#2a3f5f"
          },
          "geo": {
           "bgcolor": "white",
           "lakecolor": "white",
           "landcolor": "#E5ECF6",
           "showlakes": true,
           "showland": true,
           "subunitcolor": "white"
          },
          "hoverlabel": {
           "align": "left"
          },
          "hovermode": "closest",
          "mapbox": {
           "style": "light"
          },
          "paper_bgcolor": "white",
          "plot_bgcolor": "#E5ECF6",
          "polar": {
           "angularaxis": {
            "gridcolor": "white",
            "linecolor": "white",
            "ticks": ""
           },
           "bgcolor": "#E5ECF6",
           "radialaxis": {
            "gridcolor": "white",
            "linecolor": "white",
            "ticks": ""
           }
          },
          "scene": {
           "xaxis": {
            "backgroundcolor": "#E5ECF6",
            "gridcolor": "white",
            "gridwidth": 2,
            "linecolor": "white",
            "showbackground": true,
            "ticks": "",
            "zerolinecolor": "white"
           },
           "yaxis": {
            "backgroundcolor": "#E5ECF6",
            "gridcolor": "white",
            "gridwidth": 2,
            "linecolor": "white",
            "showbackground": true,
            "ticks": "",
            "zerolinecolor": "white"
           },
           "zaxis": {
            "backgroundcolor": "#E5ECF6",
            "gridcolor": "white",
            "gridwidth": 2,
            "linecolor": "white",
            "showbackground": true,
            "ticks": "",
            "zerolinecolor": "white"
           }
          },
          "shapedefaults": {
           "line": {
            "color": "#2a3f5f"
           }
          },
          "ternary": {
           "aaxis": {
            "gridcolor": "white",
            "linecolor": "white",
            "ticks": ""
           },
           "baxis": {
            "gridcolor": "white",
            "linecolor": "white",
            "ticks": ""
           },
           "bgcolor": "#E5ECF6",
           "caxis": {
            "gridcolor": "white",
            "linecolor": "white",
            "ticks": ""
           }
          },
          "title": {
           "x": 0.05
          },
          "xaxis": {
           "automargin": true,
           "gridcolor": "white",
           "linecolor": "white",
           "ticks": "",
           "title": {
            "standoff": 15
           },
           "zerolinecolor": "white",
           "zerolinewidth": 2
          },
          "yaxis": {
           "automargin": true,
           "gridcolor": "white",
           "linecolor": "white",
           "ticks": "",
           "title": {
            "standoff": 15
           },
           "zerolinecolor": "white",
           "zerolinewidth": 2
          }
         }
        },
        "title": {
         "text": "Gene CNV frequencies, coeae1f/2f locus"
        },
        "width": 1640,
        "xaxis": {
         "anchor": "y",
         "domain": [
          0,
          1
         ],
         "side": "bottom",
         "tickangle": 30,
         "title": {
          "text": "Cohorts"
         }
        },
        "yaxis": {
         "anchor": "x",
         "autorange": "reversed",
         "domain": [
          0,
          1
         ],
         "title": {
          "text": "Variants"
         }
        }
       }
      },
      "text/html": [
       "<div>                            <div id=\"51cdeb10-cb55-4df9-b4b6-ecb7270611b4\" class=\"plotly-graph-div\" style=\"height:440px; width:1640px;\"></div>            <script type=\"text/javascript\">                require([\"plotly\"], function(Plotly) {                    window.PLOTLYENV=window.PLOTLYENV || {};                                    if (document.getElementById(\"51cdeb10-cb55-4df9-b4b6-ecb7270611b4\")) {                    Plotly.newPlot(                        \"51cdeb10-cb55-4df9-b4b6-ecb7270611b4\",                        [{\"coloraxis\":\"coloraxis\",\"name\":\"0\",\"texttemplate\":\"%{z:.0%}\",\"x\":[\"BF-09_colu_2012\",\"BF-09_colu_2014\",\"BF-09_gamb_2012\",\"BF-09_gamb_2014\",\"BJ-OU_colu_2017\",\"CI-CM_gamb_2017\",\"GH-AA_colu_2012\",\"GH-AA_colu_2018\",\"GH-AA_gamb_2012\",\"GH-AA_gamb_2017\",\"GH-AH_colu_2018\",\"GH-AH_gamb_2017\",\"GH-AH_gamb_2018\",\"GH-CP_colu_2012\",\"GH-CP_colu_2018\",\"GH-EP_gamb_2012\",\"GH-WP_colu_2012\",\"GN-F_gamb_2012\",\"GN-N_colu_2012\",\"GN-N_gamb_2012\",\"ML-2_colu_2014\",\"ML-2_gamb_2014\",\"ML-3_colu_2012\",\"ML-3_gamb_2012\",\"TG-M_gamb_2017\",\"TZ-05_arab_2015\",\"TZ-05_gamb_2015\",\"TZ-13_arab_2012\",\"TZ-25_gamb_2013\",\"TZ-26_arab_2012\"],\"y\":[\"AGAP006225 amp\",\"AGAP006226 (Aldehyde_oxidase) amp\",\"AGAP006227 amp\",\"AGAP006228 (COEAE2F) amp\",\"AGAP006229 (Vps20) amp\",\"AGAP006231 amp\",\"AGAP006232 (Pex14) amp\",\"AGAP006233 amp\",\"AGAP006234 amp\",\"AGAP006235 amp\"],\"z\":[[0.0,0.0,0.0,0.0,0.0,0.0,0.0,0.0,0.0,0.0,0.003663003663003663,0.0,0.0,0.0,0.006944444444444444,0.0,0.0,0.0,0.0,0.0,0.0,0.0,0.0,0.0,0.0,0.0,0.0,0.0,0.0,0.23684210526315788],[0.0,0.0,0.0,0.0,0.0,0.0,0.0,0.004672897196261682,0.0,0.0,0.0,0.15028901734104047,0.07936507936507936,0.0,0.0,0.0,0.0,0.0,0.0,0.0,0.0,0.0,0.0,0.0,0.18235294117647058,0.0,0.0,0.0,0.0,0.2631578947368421],[0.0,0.0,0.0,0.0,0.0,0.0,0.0,0.0,0.0,0.0,0.0,0.15028901734104047,0.07936507936507936,0.0,0.006944444444444444,0.0,0.0,0.01694915254237288,0.0,0.016666666666666666,0.0,0.0,0.0,0.0,0.18823529411764706,0.0,0.0,0.0,0.0,0.2631578947368421],[0.0,0.0,0.0,0.0,0.0,0.0,0.0,0.0,0.0,0.02054794520547945,0.0,0.16184971098265896,0.07936507936507936,0.0,0.006944444444444444,0.0,0.0,0.01694915254237288,0.0,0.016666666666666666,0.0,0.0625,0.0,0.0,0.18823529411764706,0.0,0.0,0.0,0.0,0.2631578947368421],[0.0,0.03773584905660377,0.0,0.0,0.0,0.0,0.0,0.0,0.0,0.00684931506849315,0.0,0.0,0.015873015873015872,0.0,0.006944444444444444,0.0,0.0,0.05084745762711865,0.0,0.03333333333333333,0.0,0.03125,0.0,0.0,0.0,0.0,0.0,0.0,0.0,0.2631578947368421],[0.0125,0.03773584905660377,0.0,0.021739130434782608,0.0,0.0,0.0,0.0,0.0,0.0,0.0,0.0,0.0,0.0,0.0,0.0,0.0,0.01694915254237288,0.0,0.03333333333333333,0.05263157894736842,0.03125,0.0,0.0,0.0,0.0,0.0,0.0,0.0,0.2631578947368421],[0.0125,0.018867924528301886,0.0,0.0,0.0,0.0,0.0,0.0,0.0,0.0,0.003663003663003663,0.0,0.0,0.0,0.006944444444444444,0.0,0.0,0.0,0.0,0.016666666666666666,0.0,0.03125,0.0,0.0,0.0,0.0,0.0,0.0,0.0,0.2631578947368421],[0.0,0.018867924528301886,0.0,0.0,0.0,0.0,0.0,0.0,0.0,0.0,0.003663003663003663,0.0,0.0,0.04,0.006944444444444444,0.0,0.0,0.01694915254237288,0.0,0.016666666666666666,0.0,0.0,0.0,0.0,0.047058823529411764,0.0,0.0,0.0,0.0,0.2631578947368421],[0.0,0.018867924528301886,0.0,0.0,0.0,0.0,0.0,0.0,0.0,0.0,0.003663003663003663,0.0,0.0,0.0,0.006944444444444444,0.0,0.0,0.03389830508474576,0.0,0.016666666666666666,0.0,0.0,0.0,0.0,0.047058823529411764,0.0,0.0,0.0,0.0,0.2631578947368421],[0.0,0.05660377358490566,0.0,0.021739130434782608,0.0,0.0,0.0,0.0,0.0,0.0,0.01098901098901099,0.005780346820809248,0.031746031746031744,0.0,0.0,0.0,0.0,0.05084745762711865,0.0,0.03333333333333333,0.0,0.03125,0.0,0.0,0.0058823529411764705,0.007352941176470588,0.0,0.0,0.0,0.2631578947368421]],\"type\":\"heatmap\",\"xaxis\":\"x\",\"yaxis\":\"y\",\"hovertemplate\":\"x: %{x}<br>label: %{y}<br>color: %{z}<extra></extra>\"}],                        {\"template\":{\"data\":{\"bar\":[{\"error_x\":{\"color\":\"#2a3f5f\"},\"error_y\":{\"color\":\"#2a3f5f\"},\"marker\":{\"line\":{\"color\":\"#E5ECF6\",\"width\":0.5},\"pattern\":{\"fillmode\":\"overlay\",\"size\":10,\"solidity\":0.2}},\"type\":\"bar\"}],\"barpolar\":[{\"marker\":{\"line\":{\"color\":\"#E5ECF6\",\"width\":0.5},\"pattern\":{\"fillmode\":\"overlay\",\"size\":10,\"solidity\":0.2}},\"type\":\"barpolar\"}],\"carpet\":[{\"aaxis\":{\"endlinecolor\":\"#2a3f5f\",\"gridcolor\":\"white\",\"linecolor\":\"white\",\"minorgridcolor\":\"white\",\"startlinecolor\":\"#2a3f5f\"},\"baxis\":{\"endlinecolor\":\"#2a3f5f\",\"gridcolor\":\"white\",\"linecolor\":\"white\",\"minorgridcolor\":\"white\",\"startlinecolor\":\"#2a3f5f\"},\"type\":\"carpet\"}],\"choropleth\":[{\"colorbar\":{\"outlinewidth\":0,\"ticks\":\"\"},\"type\":\"choropleth\"}],\"contour\":[{\"colorbar\":{\"outlinewidth\":0,\"ticks\":\"\"},\"colorscale\":[[0.0,\"#0d0887\"],[0.1111111111111111,\"#46039f\"],[0.2222222222222222,\"#7201a8\"],[0.3333333333333333,\"#9c179e\"],[0.4444444444444444,\"#bd3786\"],[0.5555555555555556,\"#d8576b\"],[0.6666666666666666,\"#ed7953\"],[0.7777777777777778,\"#fb9f3a\"],[0.8888888888888888,\"#fdca26\"],[1.0,\"#f0f921\"]],\"type\":\"contour\"}],\"contourcarpet\":[{\"colorbar\":{\"outlinewidth\":0,\"ticks\":\"\"},\"type\":\"contourcarpet\"}],\"heatmap\":[{\"colorbar\":{\"outlinewidth\":0,\"ticks\":\"\"},\"colorscale\":[[0.0,\"#0d0887\"],[0.1111111111111111,\"#46039f\"],[0.2222222222222222,\"#7201a8\"],[0.3333333333333333,\"#9c179e\"],[0.4444444444444444,\"#bd3786\"],[0.5555555555555556,\"#d8576b\"],[0.6666666666666666,\"#ed7953\"],[0.7777777777777778,\"#fb9f3a\"],[0.8888888888888888,\"#fdca26\"],[1.0,\"#f0f921\"]],\"type\":\"heatmap\"}],\"heatmapgl\":[{\"colorbar\":{\"outlinewidth\":0,\"ticks\":\"\"},\"colorscale\":[[0.0,\"#0d0887\"],[0.1111111111111111,\"#46039f\"],[0.2222222222222222,\"#7201a8\"],[0.3333333333333333,\"#9c179e\"],[0.4444444444444444,\"#bd3786\"],[0.5555555555555556,\"#d8576b\"],[0.6666666666666666,\"#ed7953\"],[0.7777777777777778,\"#fb9f3a\"],[0.8888888888888888,\"#fdca26\"],[1.0,\"#f0f921\"]],\"type\":\"heatmapgl\"}],\"histogram\":[{\"marker\":{\"pattern\":{\"fillmode\":\"overlay\",\"size\":10,\"solidity\":0.2}},\"type\":\"histogram\"}],\"histogram2d\":[{\"colorbar\":{\"outlinewidth\":0,\"ticks\":\"\"},\"colorscale\":[[0.0,\"#0d0887\"],[0.1111111111111111,\"#46039f\"],[0.2222222222222222,\"#7201a8\"],[0.3333333333333333,\"#9c179e\"],[0.4444444444444444,\"#bd3786\"],[0.5555555555555556,\"#d8576b\"],[0.6666666666666666,\"#ed7953\"],[0.7777777777777778,\"#fb9f3a\"],[0.8888888888888888,\"#fdca26\"],[1.0,\"#f0f921\"]],\"type\":\"histogram2d\"}],\"histogram2dcontour\":[{\"colorbar\":{\"outlinewidth\":0,\"ticks\":\"\"},\"colorscale\":[[0.0,\"#0d0887\"],[0.1111111111111111,\"#46039f\"],[0.2222222222222222,\"#7201a8\"],[0.3333333333333333,\"#9c179e\"],[0.4444444444444444,\"#bd3786\"],[0.5555555555555556,\"#d8576b\"],[0.6666666666666666,\"#ed7953\"],[0.7777777777777778,\"#fb9f3a\"],[0.8888888888888888,\"#fdca26\"],[1.0,\"#f0f921\"]],\"type\":\"histogram2dcontour\"}],\"mesh3d\":[{\"colorbar\":{\"outlinewidth\":0,\"ticks\":\"\"},\"type\":\"mesh3d\"}],\"parcoords\":[{\"line\":{\"colorbar\":{\"outlinewidth\":0,\"ticks\":\"\"}},\"type\":\"parcoords\"}],\"pie\":[{\"automargin\":true,\"type\":\"pie\"}],\"scatter\":[{\"marker\":{\"colorbar\":{\"outlinewidth\":0,\"ticks\":\"\"}},\"type\":\"scatter\"}],\"scatter3d\":[{\"line\":{\"colorbar\":{\"outlinewidth\":0,\"ticks\":\"\"}},\"marker\":{\"colorbar\":{\"outlinewidth\":0,\"ticks\":\"\"}},\"type\":\"scatter3d\"}],\"scattercarpet\":[{\"marker\":{\"colorbar\":{\"outlinewidth\":0,\"ticks\":\"\"}},\"type\":\"scattercarpet\"}],\"scattergeo\":[{\"marker\":{\"colorbar\":{\"outlinewidth\":0,\"ticks\":\"\"}},\"type\":\"scattergeo\"}],\"scattergl\":[{\"marker\":{\"colorbar\":{\"outlinewidth\":0,\"ticks\":\"\"}},\"type\":\"scattergl\"}],\"scattermapbox\":[{\"marker\":{\"colorbar\":{\"outlinewidth\":0,\"ticks\":\"\"}},\"type\":\"scattermapbox\"}],\"scatterpolar\":[{\"marker\":{\"colorbar\":{\"outlinewidth\":0,\"ticks\":\"\"}},\"type\":\"scatterpolar\"}],\"scatterpolargl\":[{\"marker\":{\"colorbar\":{\"outlinewidth\":0,\"ticks\":\"\"}},\"type\":\"scatterpolargl\"}],\"scatterternary\":[{\"marker\":{\"colorbar\":{\"outlinewidth\":0,\"ticks\":\"\"}},\"type\":\"scatterternary\"}],\"surface\":[{\"colorbar\":{\"outlinewidth\":0,\"ticks\":\"\"},\"colorscale\":[[0.0,\"#0d0887\"],[0.1111111111111111,\"#46039f\"],[0.2222222222222222,\"#7201a8\"],[0.3333333333333333,\"#9c179e\"],[0.4444444444444444,\"#bd3786\"],[0.5555555555555556,\"#d8576b\"],[0.6666666666666666,\"#ed7953\"],[0.7777777777777778,\"#fb9f3a\"],[0.8888888888888888,\"#fdca26\"],[1.0,\"#f0f921\"]],\"type\":\"surface\"}],\"table\":[{\"cells\":{\"fill\":{\"color\":\"#EBF0F8\"},\"line\":{\"color\":\"white\"}},\"header\":{\"fill\":{\"color\":\"#C8D4E3\"},\"line\":{\"color\":\"white\"}},\"type\":\"table\"}]},\"layout\":{\"annotationdefaults\":{\"arrowcolor\":\"#2a3f5f\",\"arrowhead\":0,\"arrowwidth\":1},\"autotypenumbers\":\"strict\",\"coloraxis\":{\"colorbar\":{\"outlinewidth\":0,\"ticks\":\"\"}},\"colorscale\":{\"diverging\":[[0,\"#8e0152\"],[0.1,\"#c51b7d\"],[0.2,\"#de77ae\"],[0.3,\"#f1b6da\"],[0.4,\"#fde0ef\"],[0.5,\"#f7f7f7\"],[0.6,\"#e6f5d0\"],[0.7,\"#b8e186\"],[0.8,\"#7fbc41\"],[0.9,\"#4d9221\"],[1,\"#276419\"]],\"sequential\":[[0.0,\"#0d0887\"],[0.1111111111111111,\"#46039f\"],[0.2222222222222222,\"#7201a8\"],[0.3333333333333333,\"#9c179e\"],[0.4444444444444444,\"#bd3786\"],[0.5555555555555556,\"#d8576b\"],[0.6666666666666666,\"#ed7953\"],[0.7777777777777778,\"#fb9f3a\"],[0.8888888888888888,\"#fdca26\"],[1.0,\"#f0f921\"]],\"sequentialminus\":[[0.0,\"#0d0887\"],[0.1111111111111111,\"#46039f\"],[0.2222222222222222,\"#7201a8\"],[0.3333333333333333,\"#9c179e\"],[0.4444444444444444,\"#bd3786\"],[0.5555555555555556,\"#d8576b\"],[0.6666666666666666,\"#ed7953\"],[0.7777777777777778,\"#fb9f3a\"],[0.8888888888888888,\"#fdca26\"],[1.0,\"#f0f921\"]]},\"colorway\":[\"#636efa\",\"#EF553B\",\"#00cc96\",\"#ab63fa\",\"#FFA15A\",\"#19d3f3\",\"#FF6692\",\"#B6E880\",\"#FF97FF\",\"#FECB52\"],\"font\":{\"color\":\"#2a3f5f\"},\"geo\":{\"bgcolor\":\"white\",\"lakecolor\":\"white\",\"landcolor\":\"#E5ECF6\",\"showlakes\":true,\"showland\":true,\"subunitcolor\":\"white\"},\"hoverlabel\":{\"align\":\"left\"},\"hovermode\":\"closest\",\"mapbox\":{\"style\":\"light\"},\"paper_bgcolor\":\"white\",\"plot_bgcolor\":\"#E5ECF6\",\"polar\":{\"angularaxis\":{\"gridcolor\":\"white\",\"linecolor\":\"white\",\"ticks\":\"\"},\"bgcolor\":\"#E5ECF6\",\"radialaxis\":{\"gridcolor\":\"white\",\"linecolor\":\"white\",\"ticks\":\"\"}},\"scene\":{\"xaxis\":{\"backgroundcolor\":\"#E5ECF6\",\"gridcolor\":\"white\",\"gridwidth\":2,\"linecolor\":\"white\",\"showbackground\":true,\"ticks\":\"\",\"zerolinecolor\":\"white\"},\"yaxis\":{\"backgroundcolor\":\"#E5ECF6\",\"gridcolor\":\"white\",\"gridwidth\":2,\"linecolor\":\"white\",\"showbackground\":true,\"ticks\":\"\",\"zerolinecolor\":\"white\"},\"zaxis\":{\"backgroundcolor\":\"#E5ECF6\",\"gridcolor\":\"white\",\"gridwidth\":2,\"linecolor\":\"white\",\"showbackground\":true,\"ticks\":\"\",\"zerolinecolor\":\"white\"}},\"shapedefaults\":{\"line\":{\"color\":\"#2a3f5f\"}},\"ternary\":{\"aaxis\":{\"gridcolor\":\"white\",\"linecolor\":\"white\",\"ticks\":\"\"},\"baxis\":{\"gridcolor\":\"white\",\"linecolor\":\"white\",\"ticks\":\"\"},\"bgcolor\":\"#E5ECF6\",\"caxis\":{\"gridcolor\":\"white\",\"linecolor\":\"white\",\"ticks\":\"\"}},\"title\":{\"x\":0.05},\"xaxis\":{\"automargin\":true,\"gridcolor\":\"white\",\"linecolor\":\"white\",\"ticks\":\"\",\"title\":{\"standoff\":15},\"zerolinecolor\":\"white\",\"zerolinewidth\":2},\"yaxis\":{\"automargin\":true,\"gridcolor\":\"white\",\"linecolor\":\"white\",\"ticks\":\"\",\"title\":{\"standoff\":15},\"zerolinecolor\":\"white\",\"zerolinewidth\":2}}},\"xaxis\":{\"anchor\":\"y\",\"domain\":[0.0,1.0],\"side\":\"bottom\",\"tickangle\":30,\"title\":{\"text\":\"Cohorts\"}},\"yaxis\":{\"anchor\":\"x\",\"domain\":[0.0,1.0],\"autorange\":\"reversed\",\"title\":{\"text\":\"Variants\"}},\"coloraxis\":{\"colorscale\":[[0.0,\"rgb(255,245,240)\"],[0.125,\"rgb(254,224,210)\"],[0.25,\"rgb(252,187,161)\"],[0.375,\"rgb(252,146,114)\"],[0.5,\"rgb(251,106,74)\"],[0.625,\"rgb(239,59,44)\"],[0.75,\"rgb(203,24,29)\"],[0.875,\"rgb(165,15,21)\"],[1.0,\"rgb(103,0,13)\"]],\"cmin\":0,\"cmax\":1,\"colorbar\":{\"title\":{\"text\":\"Frequency\"},\"tickvals\":[0,0.2,0.4,0.6,0.8,1.0],\"ticktext\":[\"0%\",\"20%\",\"40%\",\"60%\",\"80%\",\"100%\"]}},\"title\":{\"text\":\"Gene CNV frequencies, coeae1f/2f locus\"},\"height\":440,\"width\":1640},                        {\"responsive\": true}                    ).then(function(){\n",
       "                            \n",
       "var gd = document.getElementById('51cdeb10-cb55-4df9-b4b6-ecb7270611b4');\n",
       "var x = new MutationObserver(function (mutations, observer) {{\n",
       "        var display = window.getComputedStyle(gd).display;\n",
       "        if (!display || display === 'none') {{\n",
       "            console.log([gd, 'removed!']);\n",
       "            Plotly.purge(gd);\n",
       "            observer.disconnect();\n",
       "        }}\n",
       "}});\n",
       "\n",
       "// Listen for the removal of the full notebook cells\n",
       "var notebookContainer = gd.closest('#notebook-container');\n",
       "if (notebookContainer) {{\n",
       "    x.observe(notebookContainer, {childList: true});\n",
       "}}\n",
       "\n",
       "// Listen for the clearing of the current output cell\n",
       "var outputEl = gd.closest('.output');\n",
       "if (outputEl) {{\n",
       "    x.observe(outputEl, {childList: true});\n",
       "}}\n",
       "\n",
       "                        })                };                });            </script>        </div>"
      ]
     },
     "metadata": {},
     "output_type": "display_data"
    }
   ],
   "source": [
    "coe_region = \"2L:28,530,000-28,580,000\"\n",
    "\n",
    "cnv_freqs_df = ag3.gene_cnv_frequencies(\n",
    "    region=coe_region,\n",
    "    cohorts=\"admin1_year\",\n",
    "    sample_sets=cohorts,\n",
    ")\n",
    "\n",
    "ag3.plot_frequencies_heatmap(\n",
    "    cnv_freqs_df.query(\"max_af > 0.1\"), \n",
    "    title=\"Gene CNV frequencies, coeae1f/2f locus\"\n",
    ")"
   ]
  },
  {
   "cell_type": "code",
   "execution_count": 12,
   "id": "85b5ae7f",
   "metadata": {},
   "outputs": [],
   "source": [
    "def get_copy_number(myregion, cohorts):\n",
    "    \n",
    "    cnv_data = ag3.gene_cnv(region=myregion, sample_sets=cohorts)\n",
    "    cnv_data = cnv_data.to_dataframe()\n",
    "    coe_dups = cnv_data.query(\"CN_mode > 2.9\")\n",
    "    sample_names = coe_dups['sample_id'].to_numpy()\n",
    "    \n",
    "    return(cnv_data, sample_names)"
   ]
  },
  {
   "cell_type": "code",
   "execution_count": 23,
   "id": "27c651dd",
   "metadata": {},
   "outputs": [
    {
     "data": {
      "application/vnd.jupyter.widget-view+json": {
       "model_id": "4db0eff74e87448082c0c163f8f594df",
       "version_major": 2,
       "version_minor": 0
      },
      "text/plain": [
       "Load CNV HMM data:   0%|          | 0/12 [00:00<?, ?it/s]"
      ]
     },
     "metadata": {},
     "output_type": "display_data"
    },
    {
     "data": {
      "application/vnd.jupyter.widget-view+json": {
       "model_id": "b7cd0a3296404f8eab4b3cf72e815c2b",
       "version_major": 2,
       "version_minor": 0
      },
      "text/plain": [
       "Compute modal gene copy number:   0%|          | 0/1 [00:00<?, ?it/s]"
      ]
     },
     "metadata": {},
     "output_type": "display_data"
    }
   ],
   "source": [
    "cnv_df, names = get_copy_number('AGAP006227', ['AG1000G-TZ'])"
   ]
  },
  {
   "cell_type": "code",
   "execution_count": 11,
   "id": "80c30ac0",
   "metadata": {},
   "outputs": [],
   "source": [
    "pd.Series(names).to_csv(\"../../results/cnv_tz_ids.tsv\", sep=\"\\t\")"
   ]
  },
  {
   "cell_type": "code",
   "execution_count": 65,
   "id": "da26adda",
   "metadata": {},
   "outputs": [],
   "source": [
    "cnv_df = df_samples.merge(cnv_df)"
   ]
  },
  {
   "cell_type": "code",
   "execution_count": 17,
   "id": "b3fe2e40",
   "metadata": {},
   "outputs": [],
   "source": [
    "#pd.crosstab(cnv_df['sample_set'], cnv_df['CN_mode'])"
   ]
  },
  {
   "cell_type": "markdown",
   "id": "5f68c27a",
   "metadata": {},
   "source": [
    "### Looking at coverage (HMM)"
   ]
  },
  {
   "cell_type": "markdown",
   "id": "fc2e7c1a",
   "metadata": {},
   "source": [
    "Lets check how legitimate the CNV looks by investigating the HMM"
   ]
  },
  {
   "cell_type": "code",
   "execution_count": 31,
   "id": "e48dded9",
   "metadata": {
    "scrolled": false
   },
   "outputs": [
    {
     "data": {
      "application/vnd.jupyter.widget-view+json": {
       "model_id": "418b329cae63407988562c59f73c99fb",
       "version_major": 2,
       "version_minor": 0
      },
      "text/plain": [
       "Load CNV HMM data:   0%|          | 0/12 [00:00<?, ?it/s]"
      ]
     },
     "metadata": {},
     "output_type": "display_data"
    },
    {
     "data": {
      "application/vnd.jupyter.widget-view+json": {
       "model_id": "64e0b137e24349e88a7501b13dee30d0",
       "version_major": 2,
       "version_minor": 0
      },
      "text/plain": [
       "Compute modal gene copy number:   0%|          | 0/1 [00:00<?, ?it/s]"
      ]
     },
     "metadata": {},
     "output_type": "display_data"
    },
    {
     "data": {
      "text/html": [
       "\n",
       "\n",
       "\n",
       "\n",
       "\n",
       "\n",
       "  <div class=\"bk-root\" id=\"4f3f7c56-94b0-4514-bb42-a51c85a417f7\" data-root-id=\"10028\"></div>\n"
      ]
     },
     "metadata": {},
     "output_type": "display_data"
    },
    {
     "data": {
      "application/javascript": [
       "(function(root) {\n",
       "  function embed_document(root) {\n",
       "    \n",
       "  const docs_json = {\"46859689-cb1e-415d-be56-980ef754fd6c\":{\"defs\":[],\"roots\":{\"references\":[{\"attributes\":{\"children\":[{\"id\":\"10027\"},{\"id\":\"10025\"}]},\"id\":\"10028\",\"type\":\"Column\"},{\"attributes\":{\"source\":{\"id\":\"9995\"}},\"id\":\"10001\",\"type\":\"CDSView\"},{\"attributes\":{},\"id\":\"9993\",\"type\":\"AllLabels\"},{\"attributes\":{\"min_interval\":1},\"id\":\"10005\",\"type\":\"AdaptiveTicker\"},{\"attributes\":{},\"id\":\"9990\",\"type\":\"AllLabels\"},{\"attributes\":{\"dimensions\":\"width\"},\"id\":\"9973\",\"type\":\"PanTool\"},{\"attributes\":{\"callback\":{\"id\":\"9994\"}},\"id\":\"9977\",\"type\":\"TapTool\"},{\"attributes\":{\"coordinates\":null,\"group\":null,\"text\":\"Genes\"},\"id\":\"9956\",\"type\":\"Title\"},{\"attributes\":{},\"id\":\"9963\",\"type\":\"LinearScale\"},{\"attributes\":{\"coordinates\":null,\"data_source\":{\"id\":\"9995\"},\"glyph\":{\"id\":\"9997\"},\"group\":null,\"hover_glyph\":null,\"muted_glyph\":{\"id\":\"9999\"},\"nonselection_glyph\":{\"id\":\"9998\"},\"view\":{\"id\":\"10001\"}},\"id\":\"10000\",\"type\":\"GlyphRenderer\"},{\"attributes\":{\"fill_alpha\":{\"value\":0.1},\"fill_color\":{\"value\":null},\"hatch_alpha\":{\"value\":0.1},\"line_alpha\":{\"value\":0.1},\"line_width\":{\"value\":0.5},\"size\":{\"value\":3},\"x\":{\"field\":\"variant_midpoint\"},\"y\":{\"field\":\"call_NormCov\"}},\"id\":\"9914\",\"type\":\"Circle\"},{\"attributes\":{\"bottom\":{\"field\":\"bottom\"},\"fill_alpha\":{\"value\":0.5},\"fill_color\":{\"value\":\"#1f77b4\"},\"left\":{\"field\":\"start\"},\"line_color\":{\"value\":\"#1f77b4\"},\"line_width\":{\"value\":0.5},\"right\":{\"field\":\"end\"},\"top\":{\"field\":\"top\"}},\"id\":\"9997\",\"type\":\"Quad\"},{\"attributes\":{},\"id\":\"9961\",\"type\":\"LinearScale\"},{\"attributes\":{\"data\":{\"ID\":[\"AGAP028453\",\"AGAP006214\",\"AGAP006215\",\"AGAP006216\",\"AGAP029478\",\"AGAP006219\",\"AGAP006220\",\"AGAP006221\",\"AGAP006222\",\"AGAP006223\",\"AGAP006224\",\"AGAP006225\",\"AGAP006226\",\"AGAP006227\",\"AGAP006228\",\"AGAP006229\",\"AGAP006231\",\"AGAP006232\",\"AGAP006233\",\"AGAP006234\",\"AGAP006235\",\"AGAP006236\",\"AGAP006237\",\"AGAP006238\",\"AGAP006239\",\"AGAP006240\",\"AGAP006241\",\"AGAP006242\",\"AGAP006243\",\"AGAP029069\",\"AGAP006244\",\"AGAP006245\",\"AGAP006246\",\"AGAP006247\",\"AGAP006248\",\"AGAP006249\",\"AGAP006250\",\"AGAP006251\",\"AGAP006252\",\"AGAP006253\",\"AGAP006254\",\"AGAP006255\",\"AGAP006256\",\"AGAP028399\",\"AGAP028454\",\"AGAP006257\"],\"Name\":[\"\",\"\",\"GPRMTH1\",\"GPRMTH2\",\"GPRMTH4\",\"\",\"\",\"\",\"\",\"\",\"\",\"\",\"Aldehyde_oxidase\",\"\",\"COEAE2F\",\"Vps20\",\"\",\"Pex14\",\"\",\"\",\"\",\"\",\"\",\"\",\"\",\"\",\"\",\"\",\"\",\"\",\"\",\"\",\"\",\"\",\"Med10\",\"\",\"\",\"Syx6\",\"\",\"\",\"\",\"\",\"\",\"\",\"\",\"\"],\"Parent\":[\"NaN\",\"NaN\",\"NaN\",\"NaN\",\"NaN\",\"NaN\",\"NaN\",\"NaN\",\"NaN\",\"NaN\",\"NaN\",\"NaN\",\"NaN\",\"NaN\",\"NaN\",\"NaN\",\"NaN\",\"NaN\",\"NaN\",\"NaN\",\"NaN\",\"NaN\",\"NaN\",\"NaN\",\"NaN\",\"NaN\",\"NaN\",\"NaN\",\"NaN\",\"NaN\",\"NaN\",\"NaN\",\"NaN\",\"NaN\",\"NaN\",\"NaN\",\"NaN\",\"NaN\",\"NaN\",\"NaN\",\"NaN\",\"NaN\",\"NaN\",\"NaN\",\"NaN\",\"NaN\"],\"bottom\":[0,0,0,0,0,1,1,1,1,1,1,1,1,0,1,1,1,0,1,1,0,0,0,1,1,0,1,1,0,0,1,0,0,1,1,0,1,0,1,1,0,1,0,0,1,0],\"contig\":[\"2L\",\"2L\",\"2L\",\"2L\",\"2L\",\"2L\",\"2L\",\"2L\",\"2L\",\"2L\",\"2L\",\"2L\",\"2L\",\"2L\",\"2L\",\"2L\",\"2L\",\"2L\",\"2L\",\"2L\",\"2L\",\"2L\",\"2L\",\"2L\",\"2L\",\"2L\",\"2L\",\"2L\",\"2L\",\"2L\",\"2L\",\"2L\",\"2L\",\"2L\",\"2L\",\"2L\",\"2L\",\"2L\",\"2L\",\"2L\",\"2L\",\"2L\",\"2L\",\"2L\",\"2L\",\"2L\"],\"description\":[\"\",\"\",\"methuselah receptor 1 [Source:VB Community Annotation]\",\"methuselah receptor 2 [Source:VB Community Annotation]\",\"methuselah receptor 4 [Source:VB Community Annotation]\",\"receptor tyrosine kinase-like orphan receptor 1 [Source:VB Community Annotation]\",\"aldehyde oxidase [Source:VB Community Annotation]\",\"aldehyde oxidase [Source:VB Community Annotation]\",\"glucosyl/glucuronosyl transferases [Source:VB Community Annotation]\",\"glucosyl/glucuronosyl transferases [Source:VB Community Annotation]\",\"aldehyde oxidase [Source:VB Community Annotation]\",\"aldehyde oxidase [Source:VB Community Annotation]\",\"\",\"alpha esterase [Source:VB Community Annotation]\",\"carboxylesterase [Source:VB Community Annotation]\",\"vacuolar protein sorting 20 [Source:VB Community Annotation]\",\"serine/threonine-protein phosphatase dullard homolog [Source:VB Community Annotation]\",\"peroxin-14 [Source:VB Community Annotation]\",\"\",\"protein SHQ1 [Source:VB Community Annotation]\",\"\",\"\",\"Negative elongation factor E [Source:VB Community Annotation]\",\"ubiquitin-conjugating enzyme E2 C [Source:VB Community Annotation]\",\"Protein TSSC1 [Source:VB Community Annotation]\",\"splicing factor 3B subunit 2 [Source:VB Community Annotation]\",\"Innexin inx2 [Source:VB Community Annotation]\",\"\",\"Phosphatidylinositol-4,5-bisphosphate 4-phosphatase [Source:UniProtKB/TrEMBL;Acc:Q7Q5R8]\",\"\",\"CTL-like protein 1 [Source:UniProtKB/Swiss-Prot;Acc:Q7Q5R7]\",\"zinc finger matrin-type protein 2 [Source:VB Community Annotation]\",\"Sorcin [Source:VB Community Annotation]\",\"Survival of motor neuron-related-splicing factor 30 [Source:VB Community Annotation]\",\"Mediator of RNA polymerase II transcription subunit 10 [Source:UniProtKB/Swiss-Prot;Acc:Q7Q5R5]\",\"solute carrier family 12 (potassium/chloride transporters), member 8 [Source:VB Community Annotation]\",\"eukaryotic elongation factor, selenocysteine-tRNA-specific [Source:VB Community Annotation]\",\"syntaxin 6 [Source:VB Community Annotation]\",\"Cysteine-rich venom protein [Source:VB Community Annotation]\",\"Cysteine-rich venom protein [Source:VB Community Annotation]\",\"polypeptide N-acetylglucosaminyltransferase [Source:VB Community Annotation]\",\"\",\"Cad74A [Source:VB Community Annotation]\",\"\",\"\",\"\"],\"end\":[28454181,28460276,28466912,28472721,28490868,28510200,28517680,28523900,28526317,28528641,28533199,28539416,28545294,28547938,28550748,28552032,28560186,28565368,28567186,28569087,28572971,28574496,28575725,28579600,28581250,28584662,28586748,28588453,28594635,28597162,28601266,28602615,28605603,28609169,28610052,28614271,28616576,28622296,28620098,28621149,28643664,28647388,28663145,28670646,28682791,28695990],\"index\":[24630,24642,24646,24660,24676,24698,24712,24735,24757,24771,24785,24801,24817,24832,24850,24862,24874,24890,24904,24912,24924,24940,24947,24953,24961,24971,24979,24989,24995,25009,25023,25039,25046,25056,25066,25072,25085,25089,25103,25109,25117,25165,25175,25191,25199,25207],\"phase\":{\"__ndarray__\":\"AAAAAAAA+H8AAAAAAAD4fwAAAAAAAPh/AAAAAAAA+H8AAAAAAAD4fwAAAAAAAPh/AAAAAAAA+H8AAAAAAAD4fwAAAAAAAPh/AAAAAAAA+H8AAAAAAAD4fwAAAAAAAPh/AAAAAAAA+H8AAAAAAAD4fwAAAAAAAPh/AAAAAAAA+H8AAAAAAAD4fwAAAAAAAPh/AAAAAAAA+H8AAAAAAAD4fwAAAAAAAPh/AAAAAAAA+H8AAAAAAAD4fwAAAAAAAPh/AAAAAAAA+H8AAAAAAAD4fwAAAAAAAPh/AAAAAAAA+H8AAAAAAAD4fwAAAAAAAPh/AAAAAAAA+H8AAAAAAAD4fwAAAAAAAPh/AAAAAAAA+H8AAAAAAAD4fwAAAAAAAPh/AAAAAAAA+H8AAAAAAAD4fwAAAAAAAPh/AAAAAAAA+H8AAAAAAAD4fwAAAAAAAPh/AAAAAAAA+H8AAAAAAAD4fwAAAAAAAPh/AAAAAAAA+H8=\",\"dtype\":\"float64\",\"order\":\"little\",\"shape\":[46]},\"score\":{\"__ndarray__\":\"AAAAAAAA+H8AAAAAAAD4fwAAAAAAAPh/AAAAAAAA+H8AAAAAAAD4fwAAAAAAAPh/AAAAAAAA+H8AAAAAAAD4fwAAAAAAAPh/AAAAAAAA+H8AAAAAAAD4fwAAAAAAAPh/AAAAAAAA+H8AAAAAAAD4fwAAAAAAAPh/AAAAAAAA+H8AAAAAAAD4fwAAAAAAAPh/AAAAAAAA+H8AAAAAAAD4fwAAAAAAAPh/AAAAAAAA+H8AAAAAAAD4fwAAAAAAAPh/AAAAAAAA+H8AAAAAAAD4fwAAAAAAAPh/AAAAAAAA+H8AAAAAAAD4fwAAAAAAAPh/AAAAAAAA+H8AAAAAAAD4fwAAAAAAAPh/AAAAAAAA+H8AAAAAAAD4fwAAAAAAAPh/AAAAAAAA+H8AAAAAAAD4fwAAAAAAAPh/AAAAAAAA+H8AAAAAAAD4fwAAAAAAAPh/AAAAAAAA+H8AAAAAAAD4fwAAAAAAAPh/AAAAAAAA+H8=\",\"dtype\":\"float64\",\"order\":\"little\",\"shape\":[46]},\"source\":[\"VectorBase\",\"VectorBase\",\"VectorBase\",\"VectorBase\",\"VectorBase\",\"VectorBase\",\"VectorBase\",\"VectorBase\",\"VectorBase\",\"VectorBase\",\"VectorBase\",\"VectorBase\",\"VectorBase\",\"VectorBase\",\"VectorBase\",\"VectorBase\",\"VectorBase\",\"VectorBase\",\"VectorBase\",\"VectorBase\",\"VectorBase\",\"VectorBase\",\"VectorBase\",\"VectorBase\",\"VectorBase\",\"VectorBase\",\"VectorBase\",\"VectorBase\",\"VectorBase\",\"VectorBase\",\"VectorBase\",\"VectorBase\",\"VectorBase\",\"VectorBase\",\"VectorBase\",\"VectorBase\",\"VectorBase\",\"VectorBase\",\"VectorBase\",\"VectorBase\",\"VectorBase\",\"VectorBase\",\"VectorBase\",\"VectorBase\",\"VectorBase\",\"VectorBase\"],\"start\":[28452653,28459338,28464790,28467709,28473885,28504854,28512602,28518055,28524225,28526558,28528758,28534732,28540651,28545396,28548433,28550814,28552352,28563646,28565893,28567535,28569164,28573531,28574680,28576341,28579834,28581266,28585064,28587919,28588629,28595190,28597433,28601810,28604122,28607828,28609342,28611340,28614984,28617304,28619719,28620618,28624363,28644377,28650212,28667700,28681545,28683960],\"strand\":[\"-\",\"-\",\"-\",\"-\",\"-\",\"+\",\"+\",\"+\",\"+\",\"+\",\"+\",\"+\",\"+\",\"-\",\"+\",\"+\",\"+\",\"-\",\"+\",\"+\",\"-\",\"-\",\"-\",\"+\",\"+\",\"-\",\"+\",\"+\",\"-\",\"-\",\"+\",\"-\",\"-\",\"+\",\"+\",\"-\",\"+\",\"-\",\"+\",\"+\",\"-\",\"+\",\"-\",\"-\",\"+\",\"-\"],\"top\":{\"__ndarray__\":\"mpmZmZmZ6T+amZmZmZnpP5qZmZmZmek/mpmZmZmZ6T+amZmZmZnpP83MzMzMzPw/zczMzMzM/D/NzMzMzMz8P83MzMzMzPw/zczMzMzM/D/NzMzMzMz8P83MzMzMzPw/zczMzMzM/D+amZmZmZnpP83MzMzMzPw/zczMzMzM/D/NzMzMzMz8P5qZmZmZmek/zczMzMzM/D/NzMzMzMz8P5qZmZmZmek/mpmZmZmZ6T+amZmZmZnpP83MzMzMzPw/zczMzMzM/D+amZmZmZnpP83MzMzMzPw/zczMzMzM/D+amZmZmZnpP5qZmZmZmek/zczMzMzM/D+amZmZmZnpP5qZmZmZmek/zczMzMzM/D/NzMzMzMz8P5qZmZmZmek/zczMzMzM/D+amZmZmZnpP83MzMzMzPw/zczMzMzM/D+amZmZmZnpP83MzMzMzPw/mpmZmZmZ6T+amZmZmZnpP83MzMzMzPw/mpmZmZmZ6T8=\",\"dtype\":\"float64\",\"order\":\"little\",\"shape\":[46]},\"type\":[\"gene\",\"gene\",\"gene\",\"gene\",\"gene\",\"gene\",\"gene\",\"gene\",\"gene\",\"gene\",\"gene\",\"gene\",\"gene\",\"gene\",\"gene\",\"gene\",\"gene\",\"gene\",\"gene\",\"gene\",\"gene\",\"gene\",\"gene\",\"gene\",\"gene\",\"gene\",\"gene\",\"gene\",\"gene\",\"gene\",\"gene\",\"gene\",\"gene\",\"gene\",\"gene\",\"gene\",\"gene\",\"gene\",\"gene\",\"gene\",\"gene\",\"gene\",\"gene\",\"gene\",\"gene\",\"gene\"]},\"selected\":{\"id\":\"10023\"},\"selection_policy\":{\"id\":\"10022\"}},\"id\":\"9995\",\"type\":\"ColumnDataSource\"},{\"attributes\":{},\"id\":\"9989\",\"type\":\"BasicTickFormatter\"},{\"attributes\":{\"toolbars\":[{\"id\":\"9905\"},{\"id\":\"9979\"}],\"tools\":[{\"id\":\"9882\"},{\"id\":\"9901\"},{\"id\":\"9902\"},{\"id\":\"9903\"},{\"id\":\"9904\"},{\"id\":\"9954\"},{\"id\":\"9973\"},{\"id\":\"9974\"},{\"id\":\"9975\"},{\"id\":\"9976\"},{\"id\":\"9977\"},{\"id\":\"9978\"}]},\"id\":\"10026\",\"type\":\"ProxyToolbar\"},{\"attributes\":{},\"id\":\"9925\",\"type\":\"UnionRenderers\"},{\"attributes\":{\"fill_color\":{\"value\":null},\"line_width\":{\"value\":0.5},\"size\":{\"value\":3},\"x\":{\"field\":\"variant_midpoint\"},\"y\":{\"field\":\"call_NormCov\"}},\"id\":\"9913\",\"type\":\"Circle\"},{\"attributes\":{\"children\":[[{\"id\":\"9883\"},0,0],[{\"id\":\"9955\"},1,0]]},\"id\":\"10025\",\"type\":\"GridBox\"},{\"attributes\":{},\"id\":\"9921\",\"type\":\"AllLabels\"},{\"attributes\":{},\"id\":\"10023\",\"type\":\"Selection\"},{\"attributes\":{\"callback\":null,\"tooltips\":[[\"ID\",\"@ID\"],[\"Name\",\"@Name\"],[\"Description\",\"@description\"],[\"Location\",\"@contig:@start{,}-@end{,}\"]]},\"id\":\"9978\",\"type\":\"HoverTool\"},{\"attributes\":{\"below\":[{\"id\":\"9965\"}],\"center\":[{\"id\":\"9968\"},{\"id\":\"9972\"}],\"height\":100,\"left\":[{\"id\":\"9969\"}],\"renderers\":[{\"id\":\"10000\"}],\"title\":{\"id\":\"9956\"},\"toolbar\":{\"id\":\"9979\"},\"toolbar_location\":null,\"width\":800,\"x_range\":{\"id\":\"9881\"},\"x_scale\":{\"id\":\"9961\"},\"y_range\":{\"id\":\"10002\"},\"y_scale\":{\"id\":\"9963\"}},\"id\":\"9955\",\"subtype\":\"Figure\",\"type\":\"Plot\"},{\"attributes\":{\"dimensions\":\"width\",\"maintain_focus\":false},\"id\":\"9882\",\"type\":\"WheelZoomTool\"},{\"attributes\":{\"bottom\":{\"field\":\"bottom\"},\"fill_alpha\":{\"value\":0.1},\"fill_color\":{\"value\":\"#1f77b4\"},\"hatch_alpha\":{\"value\":0.1},\"left\":{\"field\":\"start\"},\"line_alpha\":{\"value\":0.1},\"line_color\":{\"value\":\"#1f77b4\"},\"line_width\":{\"value\":0.5},\"right\":{\"field\":\"end\"},\"top\":{\"field\":\"top\"}},\"id\":\"9998\",\"type\":\"Quad\"},{\"attributes\":{},\"id\":\"9920\",\"type\":\"BasicTickFormatter\"},{\"attributes\":{\"url\":\"https://vectorbase.org/vectorbase/app/record/gene/@ID\"},\"id\":\"9994\",\"type\":\"OpenURL\"},{\"attributes\":{\"coordinates\":null,\"group\":null,\"items\":[{\"id\":\"9928\"},{\"id\":\"9947\"}]},\"id\":\"9927\",\"type\":\"Legend\"},{\"attributes\":{\"active_drag\":{\"id\":\"9973\"},\"active_scroll\":{\"id\":\"9954\"},\"tools\":[{\"id\":\"9954\"},{\"id\":\"9973\"},{\"id\":\"9974\"},{\"id\":\"9975\"},{\"id\":\"9976\"},{\"id\":\"9977\"},{\"id\":\"9978\"}]},\"id\":\"9979\",\"type\":\"Toolbar\"},{\"attributes\":{},\"id\":\"10022\",\"type\":\"UnionRenderers\"},{\"attributes\":{\"line_alpha\":0.2,\"line_color\":\"#1f77b4\",\"line_width\":2,\"x\":{\"field\":\"variant_midpoint\"},\"y\":{\"field\":\"call_CN\"}},\"id\":\"9933\",\"type\":\"Line\"},{\"attributes\":{\"data\":{\"call_CN\":{\"__ndarray__\":\"AgICAgICAgICAgICAgICAgICAgICAgICAgICAgICAgICAgICAgICAgICAgICAgICAgICAgICAgICAgICAgICAgICAgICAgICAgICAgICAgICAgICAQEBAQEBAQEBAQICAgICAgICAgICAgICAgICAgICAgICAgICAgICAgICAgICAgIBAQEBAQECAgICAgICAgICAgICAgICAgICAgICAgICAgICAgICAgICAgICAgICAgICAgICAgICAgICAgICAgICAgICAgICAgICAgICAgICAgIFBQUFBQUFBQUFBQUFBQUFBQUFBQICAgICAgICAgICAgICAgICAgICAgICAgICAgICAgICAgICAgICAgICAgICAgICAgICAgICAgICAgICAgICAgICAgICAgICAgICAgICAgICAgICAgICAgICAgICAgICAgICAgICAgICAgICAgICAgICAgICAgICAgICAgICAgICAgICAgICAgICAgICAgICAgICAgICAgICAgICAgICAgICAgICAgICAgICAgICAgICAgICAgICAgICAgICAgICAgICAgICAgICAgICAgICAgICAgICAgICAgICAgICAgICAgICAgICAgICAgICAgMDAwMDAwMDAwMDAwMDAwMDAwMDAwMDAwMDAwMDAwMDAwMDAwMDAwMDAwMDAwMDAwMDAwMDAwMDAwMDAwMDAwMDAwMDAwMDAwMDAwMDAwMDAwMDAwMDAwMDAwMDAwMDAwMDAwMDAwMDAwMDAwMDAwMDAwMDAwMDAwMDAwMDAwMDAwMDAwMDAwMDAwMDAwMDAwMDAwMDAwMDAwMDAwMDAwMDAwMDAwMDAwMDAwMDAwMDAwMDAwMDAwMDAwMDAwMDAwMDAwMDAwMDAwMDAwMDAwMDAwMDAwMDAwMDAwMDAwMDAwMDAwMDAwMDAwMDAwMDAwMDAwMDAwMDAwMDAwMDAwMDAwMDAwMDAwMDAwMDAwMDAwMDAwMDAwMDAwMDAwMDAwMDAwMDAwMDAwMDAwMDAwMDAwMDAwMDAwMDAwMDAwMDAwMDAwMDAwMDAwMDAwMDAwMDAwMDAgICAgICAgICAgICAgICAgICAgICAgICAgICAgICAgICAgICAgICAgICAgICAgICAgICAgICAgICAgICAgICAgICAgICAgICAgICAgICAgICAgICAgICAgICAgICAgICAgICAgICAgICAgICAgICAgICAgICAgICAgICAgICAgICAgICAgICAgICAgICAgICAgICAgICAgICAgICAgICAgICAgICAgIC\",\"dtype\":\"int8\",\"order\":\"little\",\"shape\":[978]},\"call_NormCov\":{\"__ndarray__\":\"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\",\"dtype\":\"float32\",\"order\":\"little\",\"shape\":[978]},\"samples\":[\"AV0030-Cx\",\"AV0030-Cx\",\"AV0030-Cx\",\"AV0030-Cx\",\"AV0030-Cx\",\"AV0030-Cx\",\"AV0030-Cx\",\"AV0030-Cx\",\"AV0030-Cx\",\"AV0030-Cx\",\"AV0030-Cx\",\"AV0030-Cx\",\"AV0030-Cx\",\"AV0030-Cx\",\"AV0030-Cx\",\"AV0030-Cx\",\"AV0030-Cx\",\"AV0030-Cx\",\"AV0030-Cx\",\"AV0030-Cx\",\"AV0030-Cx\",\"AV0030-Cx\",\"AV0030-Cx\",\"AV0030-Cx\",\"AV0030-Cx\",\"AV0030-Cx\",\"AV0030-Cx\",\"AV0030-Cx\",\"AV0030-Cx\",\"AV0030-Cx\",\"AV0030-Cx\",\"AV0030-Cx\",\"AV0030-Cx\",\"AV0030-Cx\",\"AV0030-Cx\",\"AV0030-Cx\",\"AV0030-Cx\",\"AV0030-Cx\",\"AV0030-Cx\",\"AV0030-Cx\",\"AV0030-Cx\",\"AV0030-Cx\",\"AV0030-Cx\",\"AV0030-Cx\",\"AV0030-Cx\",\"AV0030-Cx\",\"AV0030-Cx\",\"AV0030-Cx\",\"AV0030-Cx\",\"AV0030-Cx\",\"AV0030-Cx\",\"AV0030-Cx\",\"AV0030-Cx\",\"AV0030-Cx\",\"AV0030-Cx\",\"AV0030-Cx\",\"AV0030-Cx\",\"AV0030-Cx\",\"AV0030-Cx\",\"AV0030-Cx\",\"AV0030-Cx\",\"AV0030-Cx\",\"AV0030-Cx\",\"AV0030-Cx\",\"AV0030-Cx\",\"AV0030-Cx\",\"AV0030-Cx\",\"AV0030-Cx\",\"AV0030-Cx\",\"AV0030-Cx\",\"AV0030-Cx\",\"AV0030-Cx\",\"AV0030-Cx\",\"AV0030-Cx\",\"AV0030-Cx\",\"AV0030-Cx\",\"AV0030-Cx\",\"AV0030-Cx\",\"AV0030-Cx\",\"AV0030-Cx\",\"AV0030-Cx\",\"AV0030-Cx\",\"AV0030-Cx\",\"AV0030-Cx\",\"AV0030-Cx\",\"AV0030-Cx\",\"AV0030-Cx\",\"AV0030-Cx\",\"AV0030-Cx\",\"AV0030-Cx\",\"AV0030-Cx\",\"AV0030-Cx\",\"AV0030-Cx\",\"AV0030-Cx\",\"AV0030-Cx\",\"AV0030-Cx\",\"AV0030-Cx\",\"AV0030-Cx\",\"AV0030-Cx\",\"AV0030-Cx\",\"AV0030-Cx\",\"AV0030-Cx\",\"AV0030-Cx\",\"AV0030-Cx\",\"AV0030-Cx\",\"AV0030-Cx\",\"AV0030-Cx\",\"AV0030-Cx\",\"AV0030-Cx\",\"AV0030-Cx\",\"AV0030-Cx\",\"AV0030-Cx\",\"AV0030-Cx\",\"AV0030-Cx\",\"AV0030-Cx\",\"AV0030-Cx\",\"AV0030-Cx\",\"AV0030-Cx\",\"AV0030-Cx\",\"AV0030-Cx\",\"AV0030-Cx\",\"AV0030-Cx\",\"AV0030-Cx\",\"AV0030-Cx\",\"AV0030-Cx\",\"AV0030-Cx\",\"AV0030-Cx\",\"AV0030-Cx\",\"AV0030-Cx\",\"AV0030-Cx\",\"AV0030-Cx\",\"AV0030-Cx\",\"AV0030-Cx\",\"AV0030-Cx\",\"AV0030-Cx\",\"AV0030-Cx\",\"AV0030-Cx\",\"AV0030-Cx\",\"AV0030-Cx\",\"AV0030-Cx\",\"AV0030-Cx\",\"AV0030-Cx\",\"AV0030-Cx\",\"AV0030-Cx\",\"AV0030-Cx\",\"AV0030-Cx\",\"AV0030-Cx\",\"AV0030-Cx\",\"AV0030-Cx\",\"AV0030-Cx\",\"AV0030-Cx\",\"AV0030-Cx\",\"AV0030-Cx\",\"AV0030-Cx\",\"AV0030-Cx\",\"AV0030-Cx\",\"AV0030-Cx\",\"AV0030-Cx\",\"AV0030-Cx\",\"AV0030-Cx\",\"AV0030-Cx\",\"AV0030-Cx\",\"AV0030-Cx\",\"AV0030-Cx\",\"AV0030-Cx\",\"AV0030-Cx\",\"AV0030-Cx\",\"AV0030-Cx\",\"AV0030-Cx\",\"AV0030-Cx\",\"AV0030-Cx\",\"AV0030-Cx\",\"AV0030-Cx\",\"AV0030-Cx\",\"AV0030-Cx\",\"AV0030-Cx\",\"AV0030-Cx\",\"AV0030-Cx\",\"AV0030-Cx\",\"AV0030-Cx\",\"AV0030-Cx\",\"AV0030-Cx\",\"AV0030-Cx\",\"AV0030-Cx\",\"AV0030-Cx\",\"AV0030-Cx\",\"AV0030-Cx\",\"AV0030-Cx\",\"AV0030-Cx\",\"AV0030-Cx\",\"AV0030-Cx\",\"AV0030-Cx\",\"AV0030-Cx\",\"AV0030-Cx\",\"AV0030-Cx\",\"AV0030-Cx\",\"AV0030-Cx\",\"AV0030-Cx\",\"AV0030-Cx\",\"AV0030-Cx\",\"AV0030-Cx\",\"AV0030-Cx\",\"AV0030-Cx\",\"AV0030-Cx\",\"AV0030-Cx\",\"AV0030-Cx\",\"AV0030-Cx\",\"AV0030-Cx\",\"AV0030-Cx\",\"AV0030-Cx\",\"AV0030-Cx\",\"AV0030-Cx\",\"AV0030-Cx\",\"AV0030-Cx\",\"AV0030-Cx\",\"AV0030-Cx\",\"AV0030-Cx\",\"AV0030-Cx\",\"AV0030-Cx\",\"AV0030-Cx\",\"AV0030-Cx\",\"AV0030-Cx\",\"AV0030-Cx\",\"AV0030-Cx\",\"AV0030-Cx\",\"AV0030-Cx\",\"AV0030-Cx\",\"AV0030-Cx\",\"AV0030-Cx\",\"AV0030-Cx\",\"AV0030-Cx\",\"AV0030-Cx\",\"AV0030-Cx\",\"AV0030-Cx\",\"AV0030-Cx\",\"AV0030-Cx\",\"AV0030-Cx\",\"AV0030-Cx\",\"AV0030-Cx\",\"AV0030-Cx\",\"AV0030-Cx\",\"AV0030-Cx\",\"AV0030-Cx\",\"AV0030-Cx\",\"AV0030-Cx\",\"AV0030-Cx\",\"AV0030-Cx\",\"AV0030-Cx\",\"AV0030-Cx\",\"AV0030-Cx\",\"AV0030-Cx\",\"AV0030-Cx\",\"AV0030-Cx\",\"AV0030-Cx\",\"AV0030-Cx\",\"AV0030-Cx\",\"AV0030-Cx\",\"AV0030-Cx\",\"AV0030-Cx\",\"AV0030-Cx\",\"AV0030-Cx\",\"AV0030-Cx\",\"AV0030-Cx\",\"AV0030-Cx\",\"AV0030-Cx\",\"AV0030-Cx\",\"AV0030-Cx\",\"AV0030-Cx\",\"AV0030-Cx\",\"AV0030-Cx\",\"AV0030-Cx\",\"AV0030-Cx\",\"AV0030-Cx\",\"AV0030-Cx\",\"AV0030-Cx\",\"AV0030-Cx\",\"AV0030-Cx\",\"AV0030-Cx\",\"AV0030-Cx\",\"AV0030-Cx\",\"AV0030-Cx\",\"AV0030-Cx\",\"AV0030-Cx\",\"AV0030-Cx\",\"AV0030-Cx\",\"AV0030-Cx\",\"AV0030-Cx\",\"AV0030-Cx\",\"AV0030-Cx\",\"AV0030-Cx\",\"AV0030-Cx\",\"AV0030-Cx\",\"AV0030-Cx\",\"AV0030-Cx\",\"AV0030-Cx\",\"AV0030-Cx\",\"AV0030-Cx\",\"AV0030-Cx\",\"AV0030-Cx\",\"AV0030-Cx\",\"AV0030-Cx\",\"AV0030-Cx\",\"AV0030-Cx\",\"AV0030-Cx\",\"AV0030-Cx\",\"AV0030-Cx\",\"AV0030-Cx\",\"AV0030-Cx\",\"AV0030-Cx\",\"AV0030-Cx\",\"AV0030-Cx\",\"AV0030-Cx\",\"AV0030-Cx\",\"AV0030-Cx\",\"AV0030-Cx\",\"AV0030-Cx\",\"AV0030-Cx\",\"AV0030-Cx\",\"AV0030-Cx\",\"AV0030-Cx\",\"AV0030-Cx\",\"AV0030-Cx\",\"AV0030-Cx\",\"AV0030-Cx\",\"AV0030-Cx\",\"AV0030-Cx\",\"AV0030-Cx\",\"AV0030-Cx\",\"AV0030-Cx\",\"AV0030-Cx\",\"AV0030-Cx\",\"AV0030-Cx\",\"AV0030-Cx\",\"AV0030-Cx\",\"AV0030-Cx\",\"AV0030-Cx\",\"AV0030-Cx\",\"AV0030-Cx\",\"AV0030-Cx\",\"AV0030-Cx\",\"AV0030-Cx\",\"AV0030-Cx\",\"AV0030-Cx\",\"AV0030-Cx\",\"AV0030-Cx\",\"AV0030-Cx\",\"AV0030-Cx\",\"AV0030-Cx\",\"AV0030-Cx\",\"AV0030-Cx\",\"AV0030-Cx\",\"AV0030-Cx\",\"AV0030-Cx\",\"AV0030-Cx\",\"AV0030-Cx\",\"AV0030-Cx\",\"AV0030-Cx\",\"AV0030-Cx\",\"AV0030-Cx\",\"AV0030-Cx\",\"AV0030-Cx\",\"AV0030-Cx\",\"AV0030-Cx\",\"AV0030-Cx\",\"AV0030-Cx\",\"AV0030-Cx\",\"AV0030-Cx\",\"AV0030-Cx\",\"AV0030-Cx\",\"AV0030-Cx\",\"AV0030-Cx\",\"AV0030-Cx\",\"AV0030-Cx\",\"AV0030-Cx\",\"AV0030-Cx\",\"AV0030-Cx\",\"AV0030-Cx\",\"AV0030-Cx\",\"AV0030-Cx\",\"AV0030-Cx\",\"AV0030-Cx\",\"AV0030-Cx\",\"AV0030-Cx\",\"AV0030-Cx\",\"AV0030-Cx\",\"AV0030-Cx\",\"AV0030-Cx\",\"AV0030-Cx\",\"AV0030-Cx\",\"AV0030-Cx\",\"AV0030-Cx\",\"AV0030-Cx\",\"AV0030-Cx\",\"AV0030-Cx\",\"AV0030-Cx\",\"AV0030-Cx\",\"AV0030-Cx\",\"AV0030-Cx\",\"AV0030-Cx\",\"AV0030-Cx\",\"AV0030-Cx\",\"AV0030-Cx\",\"AV0030-Cx\",\"AV0030-Cx\",\"AV0030-Cx\",\"AV0030-Cx\",\"AV0030-Cx\",\"AV0030-Cx\",\"AV0030-Cx\",\"AV0030-Cx\",\"AV0030-Cx\",\"AV0030-Cx\",\"AV0030-Cx\",\"AV0030-Cx\",\"AV0030-Cx\",\"AV0030-Cx\",\"AV0030-Cx\",\"AV0030-Cx\",\"AV0030-Cx\",\"AV0030-Cx\",\"AV0030-Cx\",\"AV0030-Cx\",\"AV0030-Cx\",\"AV0030-Cx\",\"AV0030-Cx\",\"AV0030-Cx\",\"AV0030-Cx\",\"AV0030-Cx\",\"AV0030-Cx\",\"AV0030-Cx\",\"AV0030-Cx\",\"AV0030-Cx\",\"AV0030-Cx\",\"AV0030-Cx\",\"AV0030-Cx\",\"AV0030-Cx\",\"AV0030-Cx\",\"AV0030-Cx\",\"AV0030-Cx\",\"AV0030-Cx\",\"AV0030-Cx\",\"AV0030-Cx\",\"AV0030-Cx\",\"AV0030-Cx\",\"AV0030-Cx\",\"AV0030-Cx\",\"AV0030-Cx\",\"AV0030-Cx\",\"AV0030-Cx\",\"AV0030-Cx\",\"AV0030-Cx\",\"AV0030-Cx\",\"AV0030-Cx\",\"AV0030-Cx\",\"AV0030-Cx\",\"AV0030-Cx\",\"AV0030-Cx\",\"AV0030-Cx\",\"AV0030-Cx\",\"AV0030-Cx\",\"AV0030-Cx\",\"AV0030-Cx\",\"AV0030-Cx\",\"AV0030-Cx\",\"AV0030-Cx\",\"AV0030-Cx\",\"AV0030-Cx\",\"AV0030-Cx\",\"AV0030-Cx\",\"AV0030-Cx\",\"AV0030-Cx\",\"AV0030-Cx\",\"AV0030-Cx\",\"AV0030-Cx\",\"AV0030-Cx\",\"AV0030-Cx\",\"AV0030-Cx\",\"AV0030-Cx\",\"AV0030-Cx\",\"AV0030-Cx\",\"AV0030-Cx\",\"AV0030-Cx\",\"AV0030-Cx\",\"AV0030-Cx\",\"AV0030-Cx\",\"AV0030-Cx\",\"AV0030-Cx\",\"AV0030-Cx\",\"AV0030-Cx\",\"AV0030-Cx\",\"AV0030-Cx\",\"AV0030-Cx\",\"AV0030-Cx\",\"AV0030-Cx\",\"AV0030-Cx\",\"AV0030-Cx\",\"AV0030-Cx\",\"AV0030-Cx\",\"AV0030-Cx\",\"AV0030-Cx\",\"AV0030-Cx\",\"AV0030-Cx\",\"AV0030-Cx\",\"AV0030-Cx\",\"AV0030-Cx\",\"AV0030-Cx\",\"AV0030-Cx\",\"AV0030-Cx\",\"AV0030-Cx\",\"AV0030-Cx\",\"AV0030-Cx\",\"AV0030-Cx\",\"AV0030-Cx\",\"AV0030-Cx\",\"AV0030-Cx\",\"AV0030-Cx\",\"AV0030-Cx\",\"AV0030-Cx\",\"AV0030-Cx\",\"AV0030-Cx\",\"AV0030-Cx\",\"AV0030-Cx\",\"AV0030-Cx\",\"AV0030-Cx\",\"AV0030-Cx\",\"AV0030-Cx\",\"AV0030-Cx\",\"AV0030-Cx\",\"AV0030-Cx\",\"AV0030-Cx\",\"AV0030-Cx\",\"AV0030-Cx\",\"AV0030-Cx\",\"AV0030-Cx\",\"AV0030-Cx\",\"AV0030-Cx\",\"AV0030-Cx\",\"AV0030-Cx\",\"AV0030-Cx\",\"AV0030-Cx\",\"AV0030-Cx\",\"AV0030-Cx\",\"AV0030-Cx\",\"AV0030-Cx\",\"AV0030-Cx\",\"AV0030-Cx\",\"AV0030-Cx\",\"AV0030-Cx\",\"AV0030-Cx\",\"AV0030-Cx\",\"AV0030-Cx\",\"AV0030-Cx\",\"AV0030-Cx\",\"AV0030-Cx\",\"AV0030-Cx\",\"AV0030-Cx\",\"AV0030-Cx\",\"AV0030-Cx\",\"AV0030-Cx\",\"AV0030-Cx\",\"AV0030-Cx\",\"AV0030-Cx\",\"AV0030-Cx\",\"AV0030-Cx\",\"AV0030-Cx\",\"AV0030-Cx\",\"AV0030-Cx\",\"AV0030-Cx\",\"AV0030-Cx\",\"AV0030-Cx\",\"AV0030-Cx\",\"AV0030-Cx\",\"AV0030-Cx\",\"AV0030-Cx\",\"AV0030-Cx\",\"AV0030-Cx\",\"AV0030-Cx\",\"AV0030-Cx\",\"AV0030-Cx\",\"AV0030-Cx\",\"AV0030-Cx\",\"AV0030-Cx\",\"AV0030-Cx\",\"AV0030-Cx\",\"AV0030-Cx\",\"AV0030-Cx\",\"AV0030-Cx\",\"AV0030-Cx\",\"AV0030-Cx\",\"AV0030-Cx\",\"AV0030-Cx\",\"AV0030-Cx\",\"AV0030-Cx\",\"AV0030-Cx\",\"AV0030-Cx\",\"AV0030-Cx\",\"AV0030-Cx\",\"AV0030-Cx\",\"AV0030-Cx\",\"AV0030-Cx\",\"AV0030-Cx\",\"AV0030-Cx\",\"AV0030-Cx\",\"AV0030-Cx\",\"AV0030-Cx\",\"AV0030-Cx\",\"AV0030-Cx\",\"AV0030-Cx\",\"AV0030-Cx\",\"AV0030-Cx\",\"AV0030-Cx\",\"AV0030-Cx\",\"AV0030-Cx\",\"AV0030-Cx\",\"AV0030-Cx\",\"AV0030-Cx\",\"AV0030-Cx\",\"AV0030-Cx\",\"AV0030-Cx\",\"AV0030-Cx\",\"AV0030-Cx\",\"AV0030-Cx\",\"AV0030-Cx\",\"AV0030-Cx\",\"AV0030-Cx\",\"AV0030-Cx\",\"AV0030-Cx\",\"AV0030-Cx\",\"AV0030-Cx\",\"AV0030-Cx\",\"AV0030-Cx\",\"AV0030-Cx\",\"AV0030-Cx\",\"AV0030-Cx\",\"AV0030-Cx\",\"AV0030-Cx\",\"AV0030-Cx\",\"AV0030-Cx\",\"AV0030-Cx\",\"AV0030-Cx\",\"AV0030-Cx\",\"AV0030-Cx\",\"AV0030-Cx\",\"AV0030-Cx\",\"AV0030-Cx\",\"AV0030-Cx\",\"AV0030-Cx\",\"AV0030-Cx\",\"AV0030-Cx\",\"AV0030-Cx\",\"AV0030-Cx\",\"AV0030-Cx\",\"AV0030-Cx\",\"AV0030-Cx\",\"AV0030-Cx\",\"AV0030-Cx\",\"AV0030-Cx\",\"AV0030-Cx\",\"AV0030-Cx\",\"AV0030-Cx\",\"AV0030-Cx\",\"AV0030-Cx\",\"AV0030-Cx\",\"AV0030-Cx\",\"AV0030-Cx\",\"AV0030-Cx\",\"AV0030-Cx\",\"AV0030-Cx\",\"AV0030-Cx\",\"AV0030-Cx\",\"AV0030-Cx\",\"AV0030-Cx\",\"AV0030-Cx\",\"AV0030-Cx\",\"AV0030-Cx\",\"AV0030-Cx\",\"AV0030-Cx\",\"AV0030-Cx\",\"AV0030-Cx\",\"AV0030-Cx\",\"AV0030-Cx\",\"AV0030-Cx\",\"AV0030-Cx\",\"AV0030-Cx\",\"AV0030-Cx\",\"AV0030-Cx\",\"AV0030-Cx\",\"AV0030-Cx\",\"AV0030-Cx\",\"AV0030-Cx\",\"AV0030-Cx\",\"AV0030-Cx\",\"AV0030-Cx\",\"AV0030-Cx\",\"AV0030-Cx\",\"AV0030-Cx\",\"AV0030-Cx\",\"AV0030-Cx\",\"AV0030-Cx\",\"AV0030-Cx\",\"AV0030-Cx\",\"AV0030-Cx\",\"AV0030-Cx\",\"AV0030-Cx\",\"AV0030-Cx\",\"AV0030-Cx\",\"AV0030-Cx\",\"AV0030-Cx\",\"AV0030-Cx\",\"AV0030-Cx\",\"AV0030-Cx\",\"AV0030-Cx\",\"AV0030-Cx\",\"AV0030-Cx\",\"AV0030-Cx\",\"AV0030-Cx\",\"AV0030-Cx\",\"AV0030-Cx\",\"AV0030-Cx\",\"AV0030-Cx\",\"AV0030-Cx\",\"AV0030-Cx\",\"AV0030-Cx\",\"AV0030-Cx\",\"AV0030-Cx\",\"AV0030-Cx\",\"AV0030-Cx\",\"AV0030-Cx\",\"AV0030-Cx\",\"AV0030-Cx\",\"AV0030-Cx\",\"AV0030-Cx\",\"AV0030-Cx\",\"AV0030-Cx\",\"AV0030-Cx\",\"AV0030-Cx\",\"AV0030-Cx\",\"AV0030-Cx\",\"AV0030-Cx\",\"AV0030-Cx\",\"AV0030-Cx\",\"AV0030-Cx\",\"AV0030-Cx\",\"AV0030-Cx\",\"AV0030-Cx\",\"AV0030-Cx\",\"AV0030-Cx\",\"AV0030-Cx\",\"AV0030-Cx\",\"AV0030-Cx\",\"AV0030-Cx\",\"AV0030-Cx\",\"AV0030-Cx\",\"AV0030-Cx\",\"AV0030-Cx\",\"AV0030-Cx\",\"AV0030-Cx\",\"AV0030-Cx\",\"AV0030-Cx\",\"AV0030-Cx\",\"AV0030-Cx\",\"AV0030-Cx\",\"AV0030-Cx\",\"AV0030-Cx\",\"AV0030-Cx\",\"AV0030-Cx\",\"AV0030-Cx\",\"AV0030-Cx\",\"AV0030-Cx\",\"AV0030-Cx\",\"AV0030-Cx\",\"AV0030-Cx\",\"AV0030-Cx\",\"AV0030-Cx\",\"AV0030-Cx\",\"AV0030-Cx\",\"AV0030-Cx\",\"AV0030-Cx\",\"AV0030-Cx\",\"AV0030-Cx\",\"AV0030-Cx\",\"AV0030-Cx\",\"AV0030-Cx\",\"AV0030-Cx\",\"AV0030-Cx\",\"AV0030-Cx\",\"AV0030-Cx\",\"AV0030-Cx\",\"AV0030-Cx\",\"AV0030-Cx\",\"AV0030-Cx\",\"AV0030-Cx\",\"AV0030-Cx\",\"AV0030-Cx\",\"AV0030-Cx\",\"AV0030-Cx\",\"AV0030-Cx\",\"AV0030-Cx\",\"AV0030-Cx\",\"AV0030-Cx\",\"AV0030-Cx\",\"AV0030-Cx\",\"AV0030-Cx\",\"AV0030-Cx\",\"AV0030-Cx\",\"AV0030-Cx\",\"AV0030-Cx\",\"AV0030-Cx\",\"AV0030-Cx\",\"AV0030-Cx\",\"AV0030-Cx\",\"AV0030-Cx\",\"AV0030-Cx\",\"AV0030-Cx\",\"AV0030-Cx\",\"AV0030-Cx\",\"AV0030-Cx\",\"AV0030-Cx\",\"AV0030-Cx\",\"AV0030-Cx\",\"AV0030-Cx\",\"AV0030-Cx\",\"AV0030-Cx\",\"AV0030-Cx\",\"AV0030-Cx\",\"AV0030-Cx\",\"AV0030-Cx\",\"AV0030-Cx\",\"AV0030-Cx\",\"AV0030-Cx\",\"AV0030-Cx\",\"AV0030-Cx\",\"AV0030-Cx\",\"AV0030-Cx\",\"AV0030-Cx\",\"AV0030-Cx\",\"AV0030-Cx\",\"AV0030-Cx\",\"AV0030-Cx\",\"AV0030-Cx\",\"AV0030-Cx\",\"AV0030-Cx\",\"AV0030-Cx\",\"AV0030-Cx\",\"AV0030-Cx\",\"AV0030-Cx\",\"AV0030-Cx\",\"AV0030-Cx\",\"AV0030-Cx\",\"AV0030-Cx\",\"AV0030-Cx\",\"AV0030-Cx\",\"AV0030-Cx\",\"AV0030-Cx\",\"AV0030-Cx\",\"AV0030-Cx\",\"AV0030-Cx\",\"AV0030-Cx\",\"AV0030-Cx\",\"AV0030-Cx\",\"AV0030-Cx\",\"AV0030-Cx\",\"AV0030-Cx\",\"AV0030-Cx\",\"AV0030-Cx\",\"AV0030-Cx\",\"AV0030-Cx\",\"AV0030-Cx\",\"AV0030-Cx\",\"AV0030-Cx\",\"AV0030-Cx\",\"AV0030-Cx\",\"AV0030-Cx\",\"AV0030-Cx\",\"AV0030-Cx\",\"AV0030-Cx\",\"AV0030-Cx\",\"AV0030-Cx\",\"AV0030-Cx\",\"AV0030-Cx\",\"AV0030-Cx\",\"AV0030-Cx\",\"AV0030-Cx\",\"AV0030-Cx\",\"AV0030-Cx\",\"AV0030-Cx\",\"AV0030-Cx\",\"AV0030-Cx\",\"AV0030-Cx\",\"AV0030-Cx\",\"AV0030-Cx\",\"AV0030-Cx\",\"AV0030-Cx\",\"AV0030-Cx\",\"AV0030-Cx\",\"AV0030-Cx\",\"AV0030-Cx\",\"AV0030-Cx\",\"AV0030-Cx\",\"AV0030-Cx\",\"AV0030-Cx\",\"AV0030-Cx\",\"AV0030-Cx\",\"AV0030-Cx\",\"AV0030-Cx\",\"AV0030-Cx\",\"AV0030-Cx\",\"AV0030-Cx\",\"AV0030-Cx\",\"AV0030-Cx\",\"AV0030-Cx\",\"AV0030-Cx\",\"AV0030-Cx\",\"AV0030-Cx\",\"AV0030-Cx\",\"AV0030-Cx\",\"AV0030-Cx\",\"AV0030-Cx\",\"AV0030-Cx\",\"AV0030-Cx\",\"AV0030-Cx\",\"AV0030-Cx\",\"AV0030-Cx\",\"AV0030-Cx\",\"AV0030-Cx\",\"AV0030-Cx\",\"AV0030-Cx\",\"AV0030-Cx\",\"AV0030-Cx\",\"AV0030-Cx\",\"AV0030-Cx\",\"AV0030-Cx\",\"AV0030-Cx\",\"AV0030-Cx\",\"AV0030-Cx\",\"AV0030-Cx\",\"AV0030-Cx\",\"AV0030-Cx\",\"AV0030-Cx\",\"AV0030-Cx\",\"AV0030-Cx\",\"AV0030-Cx\",\"AV0030-Cx\",\"AV0030-Cx\",\"AV0030-Cx\",\"AV0030-Cx\",\"AV0030-Cx\",\"AV0030-Cx\",\"AV0030-Cx\",\"AV0030-Cx\",\"AV0030-Cx\",\"AV0030-Cx\",\"AV0030-Cx\",\"AV0030-Cx\",\"AV0030-Cx\",\"AV0030-Cx\",\"AV0030-Cx\",\"AV0030-Cx\",\"AV0030-Cx\",\"AV0030-Cx\",\"AV0030-Cx\",\"AV0030-Cx\",\"AV0030-Cx\",\"AV0030-Cx\",\"AV0030-Cx\",\"AV0030-Cx\",\"AV0030-Cx\",\"AV0030-Cx\",\"AV0030-Cx\",\"AV0030-Cx\",\"AV0030-Cx\",\"AV0030-Cx\",\"AV0030-Cx\",\"AV0030-Cx\",\"AV0030-Cx\",\"AV0030-Cx\",\"AV0030-Cx\",\"AV0030-Cx\"],\"variant_contig\":{\"__ndarray__\":\"AQEBAQEBAQEBAQEBAQEBAQEBAQEBAQEBAQEBAQEBAQEBAQEBAQEBAQEBAQEBAQEBAQEBAQEBAQEBAQEBAQEBAQEBAQEBAQEBAQEBAQEBAQEBAQEBAQEBAQEBAQEBAQEBAQEBAQEBAQEBAQEBAQEBAQEBAQEBAQEBAQEBAQEBAQEBAQEBAQEBAQEBAQEBAQEBAQEBAQEBAQEBAQEBAQEBAQEBAQEBAQEBAQEBAQEBAQEBAQEBAQEBAQEBAQEBAQEBAQEBAQEBAQEBAQEBAQEBAQEBAQEBAQEBAQEBAQEBAQEBAQEBAQEBAQEBAQEBAQEBAQEBAQEBAQEBAQEBAQEBAQEBAQEBAQEBAQEBAQEBAQEBAQEBAQEBAQEBAQEBAQEBAQEBAQEBAQEBAQEBAQEBAQEBAQEBAQEBAQEBAQEBAQEBAQEBAQEBAQEBAQEBAQEBAQEBAQEBAQEBAQEBAQEBAQEBAQEBAQEBAQEBAQEBAQEBAQEBAQEBAQEBAQEBAQEBAQEBAQEBAQEBAQEBAQEBAQEBAQEBAQEBAQEBAQEBAQEBAQEBAQEBAQEBAQEBAQEBAQEBAQEBAQEBAQEBAQEBAQEBAQEBAQEBAQEBAQEBAQEBAQEBAQEBAQEBAQEBAQEBAQEBAQEBAQEBAQEBAQEBAQEBAQEBAQEBAQEBAQEBAQEBAQEBAQEBAQEBAQEBAQEBAQEBAQEBAQEBAQEBAQEBAQEBAQEBAQEBAQEBAQEBAQEBAQEBAQEBAQEBAQEBAQEBAQEBAQEBAQEBAQEBAQEBAQEBAQEBAQEBAQEBAQEBAQEBAQEBAQEBAQEBAQEBAQEBAQEBAQEBAQEBAQEBAQEBAQEBAQEBAQEBAQEBAQEBAQEBAQEBAQEBAQEBAQEBAQEBAQEBAQEBAQEBAQEBAQEBAQEBAQEBAQEBAQEBAQEBAQEBAQEBAQEBAQEBAQEBAQEBAQEBAQEBAQEBAQEBAQEBAQEBAQEBAQEBAQEBAQEBAQEBAQEBAQEBAQEBAQEBAQEBAQEBAQEBAQEBAQEBAQEBAQEBAQEBAQEBAQEBAQEBAQEBAQEBAQEBAQEBAQEBAQEBAQEBAQEBAQEBAQEBAQEBAQEBAQEBAQEBAQEBAQEBAQEBAQEBAQEBAQEBAQEBAQEBAQEBAQEBAQEBAQEBAQEBAQEBAQEBAQEBAQEBAQEBAQEBAQEBAQEBAQEBAQEBAQEBAQEBAQEBAQEBAQEBAQEBAQEBAQEBAQEBAQEBAQEBAQEBAQEBAQEBAQEBAQEBAQEBAQEBAQEBAQEBAQEBAQEBAQEB\",\"dtype\":\"uint8\",\"order\":\"little\",\"shape\":[978]},\"variant_end\":{\"__ndarray__\":\"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\",\"dtype\":\"int32\",\"order\":\"little\",\"shape\":[978]},\"variant_midpoint\":{\"__ndarray__\":\"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\",\"dtype\":\"int32\",\"order\":\"little\",\"shape\":[978]},\"variant_position\":{\"__ndarray__\":\"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\",\"dtype\":\"int32\",\"order\":\"little\",\"shape\":[978]},\"variants\":[0,1,2,3,4,5,6,7,8,9,10,11,12,13,14,15,16,17,18,19,20,21,22,23,24,25,26,29,30,31,32,33,34,35,36,37,38,39,40,41,42,43,44,45,46,47,48,49,50,51,52,53,54,55,56,57,58,59,60,61,62,63,64,65,66,67,68,69,70,71,72,73,74,75,76,77,78,79,80,81,82,83,84,85,86,87,88,89,94,95,96,98,101,102,103,104,105,106,107,108,109,110,111,112,113,114,115,116,117,118,119,120,121,122,123,124,125,126,127,128,129,132,133,134,135,136,137,138,139,140,141,142,143,144,145,146,147,148,149,150,151,152,153,154,155,156,157,158,159,160,161,162,163,164,165,166,167,168,169,170,171,172,173,174,175,176,177,178,179,180,181,182,183,184,185,186,187,188,189,190,191,192,193,194,195,196,197,198,199,200,201,202,203,204,205,206,207,208,209,210,211,212,213,214,215,216,217,218,219,220,221,222,223,224,225,226,227,228,229,230,231,232,233,234,235,236,237,238,239,240,241,242,243,244,245,246,247,248,249,250,251,252,253,254,255,256,257,258,259,260,261,262,263,264,265,266,267,268,269,270,271,272,273,274,275,276,277,278,279,280,281,282,283,284,285,286,287,288,289,290,291,292,293,294,295,296,297,298,299,300,301,302,303,304,305,306,307,308,309,310,311,312,313,314,315,316,317,318,319,320,321,322,323,324,325,326,327,328,329,330,331,332,333,334,335,336,337,338,339,340,341,342,343,344,345,346,347,348,349,350,351,352,353,354,355,356,357,358,359,360,361,362,363,364,365,366,367,368,369,370,371,372,375,376,377,378,379,380,381,382,383,384,385,386,387,388,389,390,391,392,393,394,395,396,397,398,399,400,401,402,403,404,405,406,407,408,409,410,411,412,413,414,415,416,417,418,419,420,421,422,423,424,425,426,427,428,429,430,431,432,433,434,435,436,437,438,439,440,441,442,443,444,445,446,447,448,449,450,451,452,453,454,455,456,457,458,459,460,461,462,463,464,465,466,467,468,469,470,471,472,473,474,475,476,477,478,479,480,481,482,483,484,485,486,487,488,489,490,491,492,493,494,495,496,497,498,499,500,501,502,503,504,505,506,507,508,509,510,511,512,513,514,515,516,517,518,519,520,521,522,523,524,525,526,527,528,529,530,531,532,533,534,535,536,537,538,540,541,542,543,544,545,546,547,548,549,550,551,552,553,554,555,556,557,558,559,560,561,562,563,564,565,566,567,568,569,570,571,572,573,574,575,576,577,578,579,580,581,582,583,584,585,586,587,588,589,590,591,592,593,594,595,596,597,598,599,600,601,602,603,604,605,606,607,608,609,610,611,612,613,614,615,616,617,618,619,620,621,622,623,624,625,626,627,628,629,630,631,632,633,634,635,636,637,638,639,640,641,642,643,644,645,646,647,648,649,650,651,652,653,654,655,656,657,658,659,660,661,662,663,664,665,666,667,668,669,670,671,672,673,674,675,676,677,678,679,680,681,682,683,684,685,686,687,688,689,690,693,694,695,696,697,698,699,700,701,702,703,704,705,706,707,708,709,710,711,712,713,714,715,716,717,718,719,720,721,722,723,724,725,726,727,728,729,730,731,732,733,734,735,736,737,740,741,742,743,744,745,746,747,748,749,750,751,752,753,754,755,756,757,758,759,760,761,762,763,764,765,766,767,768,769,770,771,772,773,774,775,776,777,778,779,780,781,782,783,784,785,786,787,788,789,791,792,793,794,795,796,797,798,799,800,801,802,803,804,805,806,807,808,809,810,811,812,813,814,815,816,817,818,819,820,821,822,823,824,825,826,827,828,829,830,831,832,833,834,835,836,837,838,839,840,841,842,843,844,845,846,847,848,849,850,851,852,853,854,855,856,857,858,859,860,861,862,863,864,865,866,867,868,869,870,871,872,873,874,875,876,877,878,879,880,881,882,883,884,885,886,887,888,889,890,891,892,893,894,895,896,897,898,899,900,901,902,903,904,905,906,907,908,909,910,911,912,913,914,915,916,917,918,919,922,923,926,927,928,929,930,931,932,933,934,935,936,937,938,939,940,941,942,943,944,945,946,947,948,949,950,951,952,953,954,955,956,957,958,959,960,961,962,963,964,965,966,967,968,969,970,971,972,973,974,975,976,977,978,979,980,981,982,983,984,985,986,987,988,989,990,991,992,993,994,995,996,997,998,999,1000]},\"selected\":{\"id\":\"9926\"},\"selection_policy\":{\"id\":\"9925\"}},\"id\":\"9911\",\"type\":\"ColumnDataSource\"},{\"attributes\":{\"axis\":{\"id\":\"9897\"},\"coordinates\":null,\"dimension\":1,\"group\":null,\"ticker\":null},\"id\":\"9900\",\"type\":\"Grid\"},{\"attributes\":{\"label\":{\"value\":\"HMM\"},\"renderers\":[{\"id\":\"9934\"}]},\"id\":\"9947\",\"type\":\"LegendItem\"},{\"attributes\":{\"coordinates\":null,\"data_source\":{\"id\":\"9929\"},\"glyph\":{\"id\":\"9931\"},\"group\":null,\"hover_glyph\":null,\"muted_glyph\":{\"id\":\"9933\"},\"nonselection_glyph\":{\"id\":\"9932\"},\"view\":{\"id\":\"9935\"}},\"id\":\"9934\",\"type\":\"GlyphRenderer\"},{\"attributes\":{\"axis_label\":\"Contig 2L position (bp)\",\"coordinates\":null,\"formatter\":{\"id\":\"9952\"},\"group\":null,\"major_label_policy\":{\"id\":\"9924\"},\"minor_tick_line_color\":null,\"ticker\":{\"id\":\"9950\"},\"visible\":false},\"id\":\"9893\",\"type\":\"LinearAxis\"},{\"attributes\":{\"line_color\":\"#1f77b4\",\"line_width\":2,\"x\":{\"field\":\"variant_midpoint\"},\"y\":{\"field\":\"call_CN\"}},\"id\":\"9931\",\"type\":\"Line\"},{\"attributes\":{},\"id\":\"9926\",\"type\":\"Selection\"},{\"attributes\":{},\"id\":\"9946\",\"type\":\"Selection\"},{\"attributes\":{\"coordinates\":null,\"formatter\":{\"id\":\"9989\"},\"group\":null,\"major_label_overrides\":{\"0.4\":\"-\",\"1.4\":\"+\"},\"major_label_policy\":{\"id\":\"9990\"},\"ticker\":{\"id\":\"10003\"}},\"id\":\"9969\",\"type\":\"LinearAxis\"},{\"attributes\":{\"axis_label\":\"Copy number\",\"coordinates\":null,\"formatter\":{\"id\":\"9920\"},\"group\":null,\"major_label_policy\":{\"id\":\"9921\"},\"ticker\":{\"id\":\"9948\"}},\"id\":\"9897\",\"type\":\"LinearAxis\"},{\"attributes\":{\"ticks\":[0.4,1.4]},\"id\":\"10003\",\"type\":\"FixedTicker\"},{\"attributes\":{\"ticks\":[0,1,2,3,4,5,6,7]},\"id\":\"9948\",\"type\":\"FixedTicker\"},{\"attributes\":{\"dimensions\":\"width\"},\"id\":\"9901\",\"type\":\"PanTool\"},{\"attributes\":{\"source\":{\"id\":\"9911\"}},\"id\":\"9917\",\"type\":\"CDSView\"},{\"attributes\":{},\"id\":\"9945\",\"type\":\"UnionRenderers\"},{\"attributes\":{\"axis\":{\"id\":\"9969\"},\"coordinates\":null,\"dimension\":1,\"group\":null,\"ticker\":null,\"visible\":false},\"id\":\"9972\",\"type\":\"Grid\"},{\"attributes\":{\"line_alpha\":0.1,\"line_color\":\"#1f77b4\",\"line_width\":2,\"x\":{\"field\":\"variant_midpoint\"},\"y\":{\"field\":\"call_CN\"}},\"id\":\"9932\",\"type\":\"Line\"},{\"attributes\":{},\"id\":\"9924\",\"type\":\"AllLabels\"},{\"attributes\":{\"dimensions\":\"width\"},\"id\":\"9902\",\"type\":\"ZoomInTool\"},{\"attributes\":{\"bottom\":{\"field\":\"bottom\"},\"fill_alpha\":{\"value\":0.2},\"fill_color\":{\"value\":\"#1f77b4\"},\"hatch_alpha\":{\"value\":0.2},\"left\":{\"field\":\"start\"},\"line_alpha\":{\"value\":0.2},\"line_color\":{\"value\":\"#1f77b4\"},\"line_width\":{\"value\":0.5},\"right\":{\"field\":\"end\"},\"top\":{\"field\":\"top\"}},\"id\":\"9999\",\"type\":\"Quad\"},{\"attributes\":{\"axis\":{\"id\":\"9965\"},\"coordinates\":null,\"group\":null,\"ticker\":null},\"id\":\"9968\",\"type\":\"Grid\"},{\"attributes\":{\"min_interval\":1},\"id\":\"9950\",\"type\":\"AdaptiveTicker\"},{\"attributes\":{},\"id\":\"9889\",\"type\":\"LinearScale\"},{\"attributes\":{},\"id\":\"9891\",\"type\":\"LinearScale\"},{\"attributes\":{\"axis\":{\"id\":\"9893\"},\"coordinates\":null,\"group\":null,\"ticker\":null},\"id\":\"9896\",\"type\":\"Grid\"},{\"attributes\":{\"coordinates\":null,\"group\":null,\"text\":\"CNV HMM - AV0030-Cx (AG1000G-GN-A)\"},\"id\":\"9884\",\"type\":\"Title\"},{\"attributes\":{\"end\":2.2,\"start\":-0.4},\"id\":\"10002\",\"type\":\"Range1d\"},{\"attributes\":{\"fill_alpha\":{\"value\":0.2},\"fill_color\":{\"value\":null},\"hatch_alpha\":{\"value\":0.2},\"line_alpha\":{\"value\":0.2},\"line_width\":{\"value\":0.5},\"size\":{\"value\":3},\"x\":{\"field\":\"variant_midpoint\"},\"y\":{\"field\":\"call_NormCov\"}},\"id\":\"9915\",\"type\":\"Circle\"},{\"attributes\":{\"label\":{\"value\":\"Coverage\"},\"renderers\":[{\"id\":\"9916\"}]},\"id\":\"9928\",\"type\":\"LegendItem\"},{\"attributes\":{\"dimensions\":\"width\",\"maintain_focus\":false},\"id\":\"9954\",\"type\":\"WheelZoomTool\"},{\"attributes\":{\"end\":7},\"id\":\"9887\",\"type\":\"Range1d\"},{\"attributes\":{\"data\":{\"call_CN\":{\"__ndarray__\":\"AgICAgICAgICAgICAgICAgICAgICAgICAgICAgICAgICAgICAgICAgICAgICAgICAgICAgICAgICAgICAgICAgICAgICAgICAgICAgICAgICAgICAQEBAQEBAQEBAQICAgICAgICAgICAgICAgICAgICAgICAgICAgICAgICAgICAgIBAQEBAQECAgICAgICAgICAgICAgICAgICAgICAgICAgICAgICAgICAgICAgICAgICAgICAgICAgICAgICAgICAgICAgICAgICAgICAgICAgIFBQUFBQUFBQUFBQUFBQUFBQUFBQICAgICAgICAgICAgICAgICAgICAgICAgICAgICAgICAgICAgICAgICAgICAgICAgICAgICAgICAgICAgICAgICAgICAgICAgICAgICAgICAgICAgICAgICAgICAgICAgICAgICAgICAgICAgICAgICAgICAgICAgICAgICAgICAgICAgICAgICAgICAgICAgICAgICAgICAgICAgICAgICAgICAgICAgICAgICAgICAgICAgICAgICAgICAgICAgICAgICAgICAgICAgICAgICAgICAgICAgICAgICAgICAgICAgICAgICAgICAgMDAwMDAwMDAwMDAwMDAwMDAwMDAwMDAwMDAwMDAwMDAwMDAwMDAwMDAwMDAwMDAwMDAwMDAwMDAwMDAwMDAwMDAwMDAwMDAwMDAwMDAwMDAwMDAwMDAwMDAwMDAwMDAwMDAwMDAwMDAwMDAwMDAwMDAwMDAwMDAwMDAwMDAwMDAwMDAwMDAwMDAwMDAwMDAwMDAwMDAwMDAwMDAwMDAwMDAwMDAwMDAwMDAwMDAwMDAwMDAwMDAwMDAwMDAwMDAwMDAwMDAwMDAwMDAwMDAwMDAwMDAwMDAwMDAwMDAwMDAwMDAwMDAwMDAwMDAwMDAwMDAwMDAwMDAwMDAwMDAwMDAwMDAwMDAwMDAwMDAwMDAwMDAwMDAwMDAwMDAwMDAwMDAwMDAwMDAwMDAwMDAwMDAwMDAwMDAwMDAwMDAwMDAwMDAwMDAwMDAwMDAwMDAwMDAwMDAgICAgICAgICAgICAgICAgICAgICAgICAgICAgICAgICAgICAgICAgICAgICAgICAgICAgICAgICAgICAgICAgICAgICAgICAgICAgICAgICAgICAgICAgICAgICAgICAgICAgICAgICAgICAgICAgICAgICAgICAgICAgICAgICAgICAgICAgICAgICAgICAgICAgICAgICAgICAgICAgICAgICAgIC\",\"dtype\":\"int8\",\"order\":\"little\",\"shape\":[978]},\"call_NormCov\":{\"__ndarray__\":\"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\",\"dtype\":\"float32\",\"order\":\"little\",\"shape\":[978]},\"samples\":[\"AV0030-Cx\",\"AV0030-Cx\",\"AV0030-Cx\",\"AV0030-Cx\",\"AV0030-Cx\",\"AV0030-Cx\",\"AV0030-Cx\",\"AV0030-Cx\",\"AV0030-Cx\",\"AV0030-Cx\",\"AV0030-Cx\",\"AV0030-Cx\",\"AV0030-Cx\",\"AV0030-Cx\",\"AV0030-Cx\",\"AV0030-Cx\",\"AV0030-Cx\",\"AV0030-Cx\",\"AV0030-Cx\",\"AV0030-Cx\",\"AV0030-Cx\",\"AV0030-Cx\",\"AV0030-Cx\",\"AV0030-Cx\",\"AV0030-Cx\",\"AV0030-Cx\",\"AV0030-Cx\",\"AV0030-Cx\",\"AV0030-Cx\",\"AV0030-Cx\",\"AV0030-Cx\",\"AV0030-Cx\",\"AV0030-Cx\",\"AV0030-Cx\",\"AV0030-Cx\",\"AV0030-Cx\",\"AV0030-Cx\",\"AV0030-Cx\",\"AV0030-Cx\",\"AV0030-Cx\",\"AV0030-Cx\",\"AV0030-Cx\",\"AV0030-Cx\",\"AV0030-Cx\",\"AV0030-Cx\",\"AV0030-Cx\",\"AV0030-Cx\",\"AV0030-Cx\",\"AV0030-Cx\",\"AV0030-Cx\",\"AV0030-Cx\",\"AV0030-Cx\",\"AV0030-Cx\",\"AV0030-Cx\",\"AV0030-Cx\",\"AV0030-Cx\",\"AV0030-Cx\",\"AV0030-Cx\",\"AV0030-Cx\",\"AV0030-Cx\",\"AV0030-Cx\",\"AV0030-Cx\",\"AV0030-Cx\",\"AV0030-Cx\",\"AV0030-Cx\",\"AV0030-Cx\",\"AV0030-Cx\",\"AV0030-Cx\",\"AV0030-Cx\",\"AV0030-Cx\",\"AV0030-Cx\",\"AV0030-Cx\",\"AV0030-Cx\",\"AV0030-Cx\",\"AV0030-Cx\",\"AV0030-Cx\",\"AV0030-Cx\",\"AV0030-Cx\",\"AV0030-Cx\",\"AV0030-Cx\",\"AV0030-Cx\",\"AV0030-Cx\",\"AV0030-Cx\",\"AV0030-Cx\",\"AV0030-Cx\",\"AV0030-Cx\",\"AV0030-Cx\",\"AV0030-Cx\",\"AV0030-Cx\",\"AV0030-Cx\",\"AV0030-Cx\",\"AV0030-Cx\",\"AV0030-Cx\",\"AV0030-Cx\",\"AV0030-Cx\",\"AV0030-Cx\",\"AV0030-Cx\",\"AV0030-Cx\",\"AV0030-Cx\",\"AV0030-Cx\",\"AV0030-Cx\",\"AV0030-Cx\",\"AV0030-Cx\",\"AV0030-Cx\",\"AV0030-Cx\",\"AV0030-Cx\",\"AV0030-Cx\",\"AV0030-Cx\",\"AV0030-Cx\",\"AV0030-Cx\",\"AV0030-Cx\",\"AV0030-Cx\",\"AV0030-Cx\",\"AV0030-Cx\",\"AV0030-Cx\",\"AV0030-Cx\",\"AV0030-Cx\",\"AV0030-Cx\",\"AV0030-Cx\",\"AV0030-Cx\",\"AV0030-Cx\",\"AV0030-Cx\",\"AV0030-Cx\",\"AV0030-Cx\",\"AV0030-Cx\",\"AV0030-Cx\",\"AV0030-Cx\",\"AV0030-Cx\",\"AV0030-Cx\",\"AV0030-Cx\",\"AV0030-Cx\",\"AV0030-Cx\",\"AV0030-Cx\",\"AV0030-Cx\",\"AV0030-Cx\",\"AV0030-Cx\",\"AV0030-Cx\",\"AV0030-Cx\",\"AV0030-Cx\",\"AV0030-Cx\",\"AV0030-Cx\",\"AV0030-Cx\",\"AV0030-Cx\",\"AV0030-Cx\",\"AV0030-Cx\",\"AV0030-Cx\",\"AV0030-Cx\",\"AV0030-Cx\",\"AV0030-Cx\",\"AV0030-Cx\",\"AV0030-Cx\",\"AV0030-Cx\",\"AV0030-Cx\",\"AV0030-Cx\",\"AV0030-Cx\",\"AV0030-Cx\",\"AV0030-Cx\",\"AV0030-Cx\",\"AV0030-Cx\",\"AV0030-Cx\",\"AV0030-Cx\",\"AV0030-Cx\",\"AV0030-Cx\",\"AV0030-Cx\",\"AV0030-Cx\",\"AV0030-Cx\",\"AV0030-Cx\",\"AV0030-Cx\",\"AV0030-Cx\",\"AV0030-Cx\",\"AV0030-Cx\",\"AV0030-Cx\",\"AV0030-Cx\",\"AV0030-Cx\",\"AV0030-Cx\",\"AV0030-Cx\",\"AV0030-Cx\",\"AV0030-Cx\",\"AV0030-Cx\",\"AV0030-Cx\",\"AV0030-Cx\",\"AV0030-Cx\",\"AV0030-Cx\",\"AV0030-Cx\",\"AV0030-Cx\",\"AV0030-Cx\",\"AV0030-Cx\",\"AV0030-Cx\",\"AV0030-Cx\",\"AV0030-Cx\",\"AV0030-Cx\",\"AV0030-Cx\",\"AV0030-Cx\",\"AV0030-Cx\",\"AV0030-Cx\",\"AV0030-Cx\",\"AV0030-Cx\",\"AV0030-Cx\",\"AV0030-Cx\",\"AV0030-Cx\",\"AV0030-Cx\",\"AV0030-Cx\",\"AV0030-Cx\",\"AV0030-Cx\",\"AV0030-Cx\",\"AV0030-Cx\",\"AV0030-Cx\",\"AV0030-Cx\",\"AV0030-Cx\",\"AV0030-Cx\",\"AV0030-Cx\",\"AV0030-Cx\",\"AV0030-Cx\",\"AV0030-Cx\",\"AV0030-Cx\",\"AV0030-Cx\",\"AV0030-Cx\",\"AV0030-Cx\",\"AV0030-Cx\",\"AV0030-Cx\",\"AV0030-Cx\",\"AV0030-Cx\",\"AV0030-Cx\",\"AV0030-Cx\",\"AV0030-Cx\",\"AV0030-Cx\",\"AV0030-Cx\",\"AV0030-Cx\",\"AV0030-Cx\",\"AV0030-Cx\",\"AV0030-Cx\",\"AV0030-Cx\",\"AV0030-Cx\",\"AV0030-Cx\",\"AV0030-Cx\",\"AV0030-Cx\",\"AV0030-Cx\",\"AV0030-Cx\",\"AV0030-Cx\",\"AV0030-Cx\",\"AV0030-Cx\",\"AV0030-Cx\",\"AV0030-Cx\",\"AV0030-Cx\",\"AV0030-Cx\",\"AV0030-Cx\",\"AV0030-Cx\",\"AV0030-Cx\",\"AV0030-Cx\",\"AV0030-Cx\",\"AV0030-Cx\",\"AV0030-Cx\",\"AV0030-Cx\",\"AV0030-Cx\",\"AV0030-Cx\",\"AV0030-Cx\",\"AV0030-Cx\",\"AV0030-Cx\",\"AV0030-Cx\",\"AV0030-Cx\",\"AV0030-Cx\",\"AV0030-Cx\",\"AV0030-Cx\",\"AV0030-Cx\",\"AV0030-Cx\",\"AV0030-Cx\",\"AV0030-Cx\",\"AV0030-Cx\",\"AV0030-Cx\",\"AV0030-Cx\",\"AV0030-Cx\",\"AV0030-Cx\",\"AV0030-Cx\",\"AV0030-Cx\",\"AV0030-Cx\",\"AV0030-Cx\",\"AV0030-Cx\",\"AV0030-Cx\",\"AV0030-Cx\",\"AV0030-Cx\",\"AV0030-Cx\",\"AV0030-Cx\",\"AV0030-Cx\",\"AV0030-Cx\",\"AV0030-Cx\",\"AV0030-Cx\",\"AV0030-Cx\",\"AV0030-Cx\",\"AV0030-Cx\",\"AV0030-Cx\",\"AV0030-Cx\",\"AV0030-Cx\",\"AV0030-Cx\",\"AV0030-Cx\",\"AV0030-Cx\",\"AV0030-Cx\",\"AV0030-Cx\",\"AV0030-Cx\",\"AV0030-Cx\",\"AV0030-Cx\",\"AV0030-Cx\",\"AV0030-Cx\",\"AV0030-Cx\",\"AV0030-Cx\",\"AV0030-Cx\",\"AV0030-Cx\",\"AV0030-Cx\",\"AV0030-Cx\",\"AV0030-Cx\",\"AV0030-Cx\",\"AV0030-Cx\",\"AV0030-Cx\",\"AV0030-Cx\",\"AV0030-Cx\",\"AV0030-Cx\",\"AV0030-Cx\",\"AV0030-Cx\",\"AV0030-Cx\",\"AV0030-Cx\",\"AV0030-Cx\",\"AV0030-Cx\",\"AV0030-Cx\",\"AV0030-Cx\",\"AV0030-Cx\",\"AV0030-Cx\",\"AV0030-Cx\",\"AV0030-Cx\",\"AV0030-Cx\",\"AV0030-Cx\",\"AV0030-Cx\",\"AV0030-Cx\",\"AV0030-Cx\",\"AV0030-Cx\",\"AV0030-Cx\",\"AV0030-Cx\",\"AV0030-Cx\",\"AV0030-Cx\",\"AV0030-Cx\",\"AV0030-Cx\",\"AV0030-Cx\",\"AV0030-Cx\",\"AV0030-Cx\",\"AV0030-Cx\",\"AV0030-Cx\",\"AV0030-Cx\",\"AV0030-Cx\",\"AV0030-Cx\",\"AV0030-Cx\",\"AV0030-Cx\",\"AV0030-Cx\",\"AV0030-Cx\",\"AV0030-Cx\",\"AV0030-Cx\",\"AV0030-Cx\",\"AV0030-Cx\",\"AV0030-Cx\",\"AV0030-Cx\",\"AV0030-Cx\",\"AV0030-Cx\",\"AV0030-Cx\",\"AV0030-Cx\",\"AV0030-Cx\",\"AV0030-Cx\",\"AV0030-Cx\",\"AV0030-Cx\",\"AV0030-Cx\",\"AV0030-Cx\",\"AV0030-Cx\",\"AV0030-Cx\",\"AV0030-Cx\",\"AV0030-Cx\",\"AV0030-Cx\",\"AV0030-Cx\",\"AV0030-Cx\",\"AV0030-Cx\",\"AV0030-Cx\",\"AV0030-Cx\",\"AV0030-Cx\",\"AV0030-Cx\",\"AV0030-Cx\",\"AV0030-Cx\",\"AV0030-Cx\",\"AV0030-Cx\",\"AV0030-Cx\",\"AV0030-Cx\",\"AV0030-Cx\",\"AV0030-Cx\",\"AV0030-Cx\",\"AV0030-Cx\",\"AV0030-Cx\",\"AV0030-Cx\",\"AV0030-Cx\",\"AV0030-Cx\",\"AV0030-Cx\",\"AV0030-Cx\",\"AV0030-Cx\",\"AV0030-Cx\",\"AV0030-Cx\",\"AV0030-Cx\",\"AV0030-Cx\",\"AV0030-Cx\",\"AV0030-Cx\",\"AV0030-Cx\",\"AV0030-Cx\",\"AV0030-Cx\",\"AV0030-Cx\",\"AV0030-Cx\",\"AV0030-Cx\",\"AV0030-Cx\",\"AV0030-Cx\",\"AV0030-Cx\",\"AV0030-Cx\",\"AV0030-Cx\",\"AV0030-Cx\",\"AV0030-Cx\",\"AV0030-Cx\",\"AV0030-Cx\",\"AV0030-Cx\",\"AV0030-Cx\",\"AV0030-Cx\",\"AV0030-Cx\",\"AV0030-Cx\",\"AV0030-Cx\",\"AV0030-Cx\",\"AV0030-Cx\",\"AV0030-Cx\",\"AV0030-Cx\",\"AV0030-Cx\",\"AV0030-Cx\",\"AV0030-Cx\",\"AV0030-Cx\",\"AV0030-Cx\",\"AV0030-Cx\",\"AV0030-Cx\",\"AV0030-Cx\",\"AV0030-Cx\",\"AV0030-Cx\",\"AV0030-Cx\",\"AV0030-Cx\",\"AV0030-Cx\",\"AV0030-Cx\",\"AV0030-Cx\",\"AV0030-Cx\",\"AV0030-Cx\",\"AV0030-Cx\",\"AV0030-Cx\",\"AV0030-Cx\",\"AV0030-Cx\",\"AV0030-Cx\",\"AV0030-Cx\",\"AV0030-Cx\",\"AV0030-Cx\",\"AV0030-Cx\",\"AV0030-Cx\",\"AV0030-Cx\",\"AV0030-Cx\",\"AV0030-Cx\",\"AV0030-Cx\",\"AV0030-Cx\",\"AV0030-Cx\",\"AV0030-Cx\",\"AV0030-Cx\",\"AV0030-Cx\",\"AV0030-Cx\",\"AV0030-Cx\",\"AV0030-Cx\",\"AV0030-Cx\",\"AV0030-Cx\",\"AV0030-Cx\",\"AV0030-Cx\",\"AV0030-Cx\",\"AV0030-Cx\",\"AV0030-Cx\",\"AV0030-Cx\",\"AV0030-Cx\",\"AV0030-Cx\",\"AV0030-Cx\",\"AV0030-Cx\",\"AV0030-Cx\",\"AV0030-Cx\",\"AV0030-Cx\",\"AV0030-Cx\",\"AV0030-Cx\",\"AV0030-Cx\",\"AV0030-Cx\",\"AV0030-Cx\",\"AV0030-Cx\",\"AV0030-Cx\",\"AV0030-Cx\",\"AV0030-Cx\",\"AV0030-Cx\",\"AV0030-Cx\",\"AV0030-Cx\",\"AV0030-Cx\",\"AV0030-Cx\",\"AV0030-Cx\",\"AV0030-Cx\",\"AV0030-Cx\",\"AV0030-Cx\",\"AV0030-Cx\",\"AV0030-Cx\",\"AV0030-Cx\",\"AV0030-Cx\",\"AV0030-Cx\",\"AV0030-Cx\",\"AV0030-Cx\",\"AV0030-Cx\",\"AV0030-Cx\",\"AV0030-Cx\",\"AV0030-Cx\",\"AV0030-Cx\",\"AV0030-Cx\",\"AV0030-Cx\",\"AV0030-Cx\",\"AV0030-Cx\",\"AV0030-Cx\",\"AV0030-Cx\",\"AV0030-Cx\",\"AV0030-Cx\",\"AV0030-Cx\",\"AV0030-Cx\",\"AV0030-Cx\",\"AV0030-Cx\",\"AV0030-Cx\",\"AV0030-Cx\",\"AV0030-Cx\",\"AV0030-Cx\",\"AV0030-Cx\",\"AV0030-Cx\",\"AV0030-Cx\",\"AV0030-Cx\",\"AV0030-Cx\",\"AV0030-Cx\",\"AV0030-Cx\",\"AV0030-Cx\",\"AV0030-Cx\",\"AV0030-Cx\",\"AV0030-Cx\",\"AV0030-Cx\",\"AV0030-Cx\",\"AV0030-Cx\",\"AV0030-Cx\",\"AV0030-Cx\",\"AV0030-Cx\",\"AV0030-Cx\",\"AV0030-Cx\",\"AV0030-Cx\",\"AV0030-Cx\",\"AV0030-Cx\",\"AV0030-Cx\",\"AV0030-Cx\",\"AV0030-Cx\",\"AV0030-Cx\",\"AV0030-Cx\",\"AV0030-Cx\",\"AV0030-Cx\",\"AV0030-Cx\",\"AV0030-Cx\",\"AV0030-Cx\",\"AV0030-Cx\",\"AV0030-Cx\",\"AV0030-Cx\",\"AV0030-Cx\",\"AV0030-Cx\",\"AV0030-Cx\",\"AV0030-Cx\",\"AV0030-Cx\",\"AV0030-Cx\",\"AV0030-Cx\",\"AV0030-Cx\",\"AV0030-Cx\",\"AV0030-Cx\",\"AV0030-Cx\",\"AV0030-Cx\",\"AV0030-Cx\",\"AV0030-Cx\",\"AV0030-Cx\",\"AV0030-Cx\",\"AV0030-Cx\",\"AV0030-Cx\",\"AV0030-Cx\",\"AV0030-Cx\",\"AV0030-Cx\",\"AV0030-Cx\",\"AV0030-Cx\",\"AV0030-Cx\",\"AV0030-Cx\",\"AV0030-Cx\",\"AV0030-Cx\",\"AV0030-Cx\",\"AV0030-Cx\",\"AV0030-Cx\",\"AV0030-Cx\",\"AV0030-Cx\",\"AV0030-Cx\",\"AV0030-Cx\",\"AV0030-Cx\",\"AV0030-Cx\",\"AV0030-Cx\",\"AV0030-Cx\",\"AV0030-Cx\",\"AV0030-Cx\",\"AV0030-Cx\",\"AV0030-Cx\",\"AV0030-Cx\",\"AV0030-Cx\",\"AV0030-Cx\",\"AV0030-Cx\",\"AV0030-Cx\",\"AV0030-Cx\",\"AV0030-Cx\",\"AV0030-Cx\",\"AV0030-Cx\",\"AV0030-Cx\",\"AV0030-Cx\",\"AV0030-Cx\",\"AV0030-Cx\",\"AV0030-Cx\",\"AV0030-Cx\",\"AV0030-Cx\",\"AV0030-Cx\",\"AV0030-Cx\",\"AV0030-Cx\",\"AV0030-Cx\",\"AV0030-Cx\",\"AV0030-Cx\",\"AV0030-Cx\",\"AV0030-Cx\",\"AV0030-Cx\",\"AV0030-Cx\",\"AV0030-Cx\",\"AV0030-Cx\",\"AV0030-Cx\",\"AV0030-Cx\",\"AV0030-Cx\",\"AV0030-Cx\",\"AV0030-Cx\",\"AV0030-Cx\",\"AV0030-Cx\",\"AV0030-Cx\",\"AV0030-Cx\",\"AV0030-Cx\",\"AV0030-Cx\",\"AV0030-Cx\",\"AV0030-Cx\",\"AV0030-Cx\",\"AV0030-Cx\",\"AV0030-Cx\",\"AV0030-Cx\",\"AV0030-Cx\",\"AV0030-Cx\",\"AV0030-Cx\",\"AV0030-Cx\",\"AV0030-Cx\",\"AV0030-Cx\",\"AV0030-Cx\",\"AV0030-Cx\",\"AV0030-Cx\",\"AV0030-Cx\",\"AV0030-Cx\",\"AV0030-Cx\",\"AV0030-Cx\",\"AV0030-Cx\",\"AV0030-Cx\",\"AV0030-Cx\",\"AV0030-Cx\",\"AV0030-Cx\",\"AV0030-Cx\",\"AV0030-Cx\",\"AV0030-Cx\",\"AV0030-Cx\",\"AV0030-Cx\",\"AV0030-Cx\",\"AV0030-Cx\",\"AV0030-Cx\",\"AV0030-Cx\",\"AV0030-Cx\",\"AV0030-Cx\",\"AV0030-Cx\",\"AV0030-Cx\",\"AV0030-Cx\",\"AV0030-Cx\",\"AV0030-Cx\",\"AV0030-Cx\",\"AV0030-Cx\",\"AV0030-Cx\",\"AV0030-Cx\",\"AV0030-Cx\",\"AV0030-Cx\",\"AV0030-Cx\",\"AV0030-Cx\",\"AV0030-Cx\",\"AV0030-Cx\",\"AV0030-Cx\",\"AV0030-Cx\",\"AV0030-Cx\",\"AV0030-Cx\",\"AV0030-Cx\",\"AV0030-Cx\",\"AV0030-Cx\",\"AV0030-Cx\",\"AV0030-Cx\",\"AV0030-Cx\",\"AV0030-Cx\",\"AV0030-Cx\",\"AV0030-Cx\",\"AV0030-Cx\",\"AV0030-Cx\",\"AV0030-Cx\",\"AV0030-Cx\",\"AV0030-Cx\",\"AV0030-Cx\",\"AV0030-Cx\",\"AV0030-Cx\",\"AV0030-Cx\",\"AV0030-Cx\",\"AV0030-Cx\",\"AV0030-Cx\",\"AV0030-Cx\",\"AV0030-Cx\",\"AV0030-Cx\",\"AV0030-Cx\",\"AV0030-Cx\",\"AV0030-Cx\",\"AV0030-Cx\",\"AV0030-Cx\",\"AV0030-Cx\",\"AV0030-Cx\",\"AV0030-Cx\",\"AV0030-Cx\",\"AV0030-Cx\",\"AV0030-Cx\",\"AV0030-Cx\",\"AV0030-Cx\",\"AV0030-Cx\",\"AV0030-Cx\",\"AV0030-Cx\",\"AV0030-Cx\",\"AV0030-Cx\",\"AV0030-Cx\",\"AV0030-Cx\",\"AV0030-Cx\",\"AV0030-Cx\",\"AV0030-Cx\",\"AV0030-Cx\",\"AV0030-Cx\",\"AV0030-Cx\",\"AV0030-Cx\",\"AV0030-Cx\",\"AV0030-Cx\",\"AV0030-Cx\",\"AV0030-Cx\",\"AV0030-Cx\",\"AV0030-Cx\",\"AV0030-Cx\",\"AV0030-Cx\",\"AV0030-Cx\",\"AV0030-Cx\",\"AV0030-Cx\",\"AV0030-Cx\",\"AV0030-Cx\",\"AV0030-Cx\",\"AV0030-Cx\",\"AV0030-Cx\",\"AV0030-Cx\",\"AV0030-Cx\",\"AV0030-Cx\",\"AV0030-Cx\",\"AV0030-Cx\",\"AV0030-Cx\",\"AV0030-Cx\",\"AV0030-Cx\",\"AV0030-Cx\",\"AV0030-Cx\",\"AV0030-Cx\",\"AV0030-Cx\",\"AV0030-Cx\",\"AV0030-Cx\",\"AV0030-Cx\",\"AV0030-Cx\",\"AV0030-Cx\",\"AV0030-Cx\",\"AV0030-Cx\",\"AV0030-Cx\",\"AV0030-Cx\",\"AV0030-Cx\",\"AV0030-Cx\",\"AV0030-Cx\",\"AV0030-Cx\",\"AV0030-Cx\",\"AV0030-Cx\",\"AV0030-Cx\",\"AV0030-Cx\",\"AV0030-Cx\",\"AV0030-Cx\",\"AV0030-Cx\",\"AV0030-Cx\",\"AV0030-Cx\",\"AV0030-Cx\",\"AV0030-Cx\",\"AV0030-Cx\",\"AV0030-Cx\",\"AV0030-Cx\",\"AV0030-Cx\",\"AV0030-Cx\",\"AV0030-Cx\",\"AV0030-Cx\",\"AV0030-Cx\",\"AV0030-Cx\",\"AV0030-Cx\",\"AV0030-Cx\",\"AV0030-Cx\",\"AV0030-Cx\",\"AV0030-Cx\",\"AV0030-Cx\",\"AV0030-Cx\",\"AV0030-Cx\",\"AV0030-Cx\",\"AV0030-Cx\",\"AV0030-Cx\",\"AV0030-Cx\",\"AV0030-Cx\",\"AV0030-Cx\",\"AV0030-Cx\",\"AV0030-Cx\",\"AV0030-Cx\",\"AV0030-Cx\",\"AV0030-Cx\",\"AV0030-Cx\",\"AV0030-Cx\",\"AV0030-Cx\",\"AV0030-Cx\",\"AV0030-Cx\",\"AV0030-Cx\",\"AV0030-Cx\",\"AV0030-Cx\",\"AV0030-Cx\",\"AV0030-Cx\",\"AV0030-Cx\",\"AV0030-Cx\",\"AV0030-Cx\",\"AV0030-Cx\",\"AV0030-Cx\",\"AV0030-Cx\",\"AV0030-Cx\",\"AV0030-Cx\",\"AV0030-Cx\",\"AV0030-Cx\",\"AV0030-Cx\",\"AV0030-Cx\",\"AV0030-Cx\",\"AV0030-Cx\",\"AV0030-Cx\",\"AV0030-Cx\",\"AV0030-Cx\",\"AV0030-Cx\",\"AV0030-Cx\",\"AV0030-Cx\",\"AV0030-Cx\",\"AV0030-Cx\",\"AV0030-Cx\",\"AV0030-Cx\",\"AV0030-Cx\",\"AV0030-Cx\",\"AV0030-Cx\",\"AV0030-Cx\",\"AV0030-Cx\",\"AV0030-Cx\",\"AV0030-Cx\",\"AV0030-Cx\",\"AV0030-Cx\",\"AV0030-Cx\",\"AV0030-Cx\",\"AV0030-Cx\",\"AV0030-Cx\",\"AV0030-Cx\",\"AV0030-Cx\",\"AV0030-Cx\",\"AV0030-Cx\",\"AV0030-Cx\",\"AV0030-Cx\",\"AV0030-Cx\",\"AV0030-Cx\",\"AV0030-Cx\",\"AV0030-Cx\",\"AV0030-Cx\",\"AV0030-Cx\",\"AV0030-Cx\",\"AV0030-Cx\",\"AV0030-Cx\",\"AV0030-Cx\",\"AV0030-Cx\",\"AV0030-Cx\",\"AV0030-Cx\",\"AV0030-Cx\",\"AV0030-Cx\",\"AV0030-Cx\",\"AV0030-Cx\",\"AV0030-Cx\",\"AV0030-Cx\",\"AV0030-Cx\",\"AV0030-Cx\",\"AV0030-Cx\",\"AV0030-Cx\",\"AV0030-Cx\",\"AV0030-Cx\",\"AV0030-Cx\",\"AV0030-Cx\",\"AV0030-Cx\",\"AV0030-Cx\",\"AV0030-Cx\",\"AV0030-Cx\",\"AV0030-Cx\",\"AV0030-Cx\",\"AV0030-Cx\",\"AV0030-Cx\",\"AV0030-Cx\",\"AV0030-Cx\",\"AV0030-Cx\",\"AV0030-Cx\",\"AV0030-Cx\",\"AV0030-Cx\",\"AV0030-Cx\",\"AV0030-Cx\",\"AV0030-Cx\",\"AV0030-Cx\",\"AV0030-Cx\",\"AV0030-Cx\",\"AV0030-Cx\",\"AV0030-Cx\",\"AV0030-Cx\",\"AV0030-Cx\",\"AV0030-Cx\",\"AV0030-Cx\",\"AV0030-Cx\",\"AV0030-Cx\",\"AV0030-Cx\",\"AV0030-Cx\",\"AV0030-Cx\",\"AV0030-Cx\",\"AV0030-Cx\",\"AV0030-Cx\",\"AV0030-Cx\",\"AV0030-Cx\",\"AV0030-Cx\",\"AV0030-Cx\",\"AV0030-Cx\",\"AV0030-Cx\",\"AV0030-Cx\",\"AV0030-Cx\",\"AV0030-Cx\",\"AV0030-Cx\",\"AV0030-Cx\",\"AV0030-Cx\",\"AV0030-Cx\",\"AV0030-Cx\",\"AV0030-Cx\",\"AV0030-Cx\",\"AV0030-Cx\",\"AV0030-Cx\",\"AV0030-Cx\",\"AV0030-Cx\",\"AV0030-Cx\",\"AV0030-Cx\",\"AV0030-Cx\",\"AV0030-Cx\",\"AV0030-Cx\",\"AV0030-Cx\",\"AV0030-Cx\",\"AV0030-Cx\",\"AV0030-Cx\",\"AV0030-Cx\",\"AV0030-Cx\",\"AV0030-Cx\",\"AV0030-Cx\",\"AV0030-Cx\",\"AV0030-Cx\",\"AV0030-Cx\"],\"variant_contig\":{\"__ndarray__\":\"AQEBAQEBAQEBAQEBAQEBAQEBAQEBAQEBAQEBAQEBAQEBAQEBAQEBAQEBAQEBAQEBAQEBAQEBAQEBAQEBAQEBAQEBAQEBAQEBAQEBAQEBAQEBAQEBAQEBAQEBAQEBAQEBAQEBAQEBAQEBAQEBAQEBAQEBAQEBAQEBAQEBAQEBAQEBAQEBAQEBAQEBAQEBAQEBAQEBAQEBAQEBAQEBAQEBAQEBAQEBAQEBAQEBAQEBAQEBAQEBAQEBAQEBAQEBAQEBAQEBAQEBAQEBAQEBAQEBAQEBAQEBAQEBAQEBAQEBAQEBAQEBAQEBAQEBAQEBAQEBAQEBAQEBAQEBAQEBAQEBAQEBAQEBAQEBAQEBAQEBAQEBAQEBAQEBAQEBAQEBAQEBAQEBAQEBAQEBAQEBAQEBAQEBAQEBAQEBAQEBAQEBAQEBAQEBAQEBAQEBAQEBAQEBAQEBAQEBAQEBAQEBAQEBAQEBAQEBAQEBAQEBAQEBAQEBAQEBAQEBAQEBAQEBAQEBAQEBAQEBAQEBAQEBAQEBAQEBAQEBAQEBAQEBAQEBAQEBAQEBAQEBAQEBAQEBAQEBAQEBAQEBAQEBAQEBAQEBAQEBAQEBAQEBAQEBAQEBAQEBAQEBAQEBAQEBAQEBAQEBAQEBAQEBAQEBAQEBAQEBAQEBAQEBAQEBAQEBAQEBAQEBAQEBAQEBAQEBAQEBAQEBAQEBAQEBAQEBAQEBAQEBAQEBAQEBAQEBAQEBAQEBAQEBAQEBAQEBAQEBAQEBAQEBAQEBAQEBAQEBAQEBAQEBAQEBAQEBAQEBAQEBAQEBAQEBAQEBAQEBAQEBAQEBAQEBAQEBAQEBAQEBAQEBAQEBAQEBAQEBAQEBAQEBAQEBAQEBAQEBAQEBAQEBAQEBAQEBAQEBAQEBAQEBAQEBAQEBAQEBAQEBAQEBAQEBAQEBAQEBAQEBAQEBAQEBAQEBAQEBAQEBAQEBAQEBAQEBAQEBAQEBAQEBAQEBAQEBAQEBAQEBAQEBAQEBAQEBAQEBAQEBAQEBAQEBAQEBAQEBAQEBAQEBAQEBAQEBAQEBAQEBAQEBAQEBAQEBAQEBAQEBAQEBAQEBAQEBAQEBAQEBAQEBAQEBAQEBAQEBAQEBAQEBAQEBAQEBAQEBAQEBAQEBAQEBAQEBAQEBAQEBAQEBAQEBAQEBAQEBAQEBAQEBAQEBAQEBAQEBAQEBAQEBAQEBAQEBAQEBAQEBAQEBAQEBAQEBAQEBAQEBAQEBAQEBAQEBAQEBAQEBAQEBAQEBAQEBAQEBAQEBAQEBAQEBAQEBAQEBAQEB\",\"dtype\":\"uint8\",\"order\":\"little\",\"shape\":[978]},\"variant_end\":{\"__ndarray__\":\"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\",\"dtype\":\"int32\",\"order\":\"little\",\"shape\":[978]},\"variant_midpoint\":{\"__ndarray__\":\"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\",\"dtype\":\"int32\",\"order\":\"little\",\"shape\":[978]},\"variant_position\":{\"__ndarray__\":\"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\",\"dtype\":\"int32\",\"order\":\"little\",\"shape\":[978]},\"variants\":[0,1,2,3,4,5,6,7,8,9,10,11,12,13,14,15,16,17,18,19,20,21,22,23,24,25,26,29,30,31,32,33,34,35,36,37,38,39,40,41,42,43,44,45,46,47,48,49,50,51,52,53,54,55,56,57,58,59,60,61,62,63,64,65,66,67,68,69,70,71,72,73,74,75,76,77,78,79,80,81,82,83,84,85,86,87,88,89,94,95,96,98,101,102,103,104,105,106,107,108,109,110,111,112,113,114,115,116,117,118,119,120,121,122,123,124,125,126,127,128,129,132,133,134,135,136,137,138,139,140,141,142,143,144,145,146,147,148,149,150,151,152,153,154,155,156,157,158,159,160,161,162,163,164,165,166,167,168,169,170,171,172,173,174,175,176,177,178,179,180,181,182,183,184,185,186,187,188,189,190,191,192,193,194,195,196,197,198,199,200,201,202,203,204,205,206,207,208,209,210,211,212,213,214,215,216,217,218,219,220,221,222,223,224,225,226,227,228,229,230,231,232,233,234,235,236,237,238,239,240,241,242,243,244,245,246,247,248,249,250,251,252,253,254,255,256,257,258,259,260,261,262,263,264,265,266,267,268,269,270,271,272,273,274,275,276,277,278,279,280,281,282,283,284,285,286,287,288,289,290,291,292,293,294,295,296,297,298,299,300,301,302,303,304,305,306,307,308,309,310,311,312,313,314,315,316,317,318,319,320,321,322,323,324,325,326,327,328,329,330,331,332,333,334,335,336,337,338,339,340,341,342,343,344,345,346,347,348,349,350,351,352,353,354,355,356,357,358,359,360,361,362,363,364,365,366,367,368,369,370,371,372,375,376,377,378,379,380,381,382,383,384,385,386,387,388,389,390,391,392,393,394,395,396,397,398,399,400,401,402,403,404,405,406,407,408,409,410,411,412,413,414,415,416,417,418,419,420,421,422,423,424,425,426,427,428,429,430,431,432,433,434,435,436,437,438,439,440,441,442,443,444,445,446,447,448,449,450,451,452,453,454,455,456,457,458,459,460,461,462,463,464,465,466,467,468,469,470,471,472,473,474,475,476,477,478,479,480,481,482,483,484,485,486,487,488,489,490,491,492,493,494,495,496,497,498,499,500,501,502,503,504,505,506,507,508,509,510,511,512,513,514,515,516,517,518,519,520,521,522,523,524,525,526,527,528,529,530,531,532,533,534,535,536,537,538,540,541,542,543,544,545,546,547,548,549,550,551,552,553,554,555,556,557,558,559,560,561,562,563,564,565,566,567,568,569,570,571,572,573,574,575,576,577,578,579,580,581,582,583,584,585,586,587,588,589,590,591,592,593,594,595,596,597,598,599,600,601,602,603,604,605,606,607,608,609,610,611,612,613,614,615,616,617,618,619,620,621,622,623,624,625,626,627,628,629,630,631,632,633,634,635,636,637,638,639,640,641,642,643,644,645,646,647,648,649,650,651,652,653,654,655,656,657,658,659,660,661,662,663,664,665,666,667,668,669,670,671,672,673,674,675,676,677,678,679,680,681,682,683,684,685,686,687,688,689,690,693,694,695,696,697,698,699,700,701,702,703,704,705,706,707,708,709,710,711,712,713,714,715,716,717,718,719,720,721,722,723,724,725,726,727,728,729,730,731,732,733,734,735,736,737,740,741,742,743,744,745,746,747,748,749,750,751,752,753,754,755,756,757,758,759,760,761,762,763,764,765,766,767,768,769,770,771,772,773,774,775,776,777,778,779,780,781,782,783,784,785,786,787,788,789,791,792,793,794,795,796,797,798,799,800,801,802,803,804,805,806,807,808,809,810,811,812,813,814,815,816,817,818,819,820,821,822,823,824,825,826,827,828,829,830,831,832,833,834,835,836,837,838,839,840,841,842,843,844,845,846,847,848,849,850,851,852,853,854,855,856,857,858,859,860,861,862,863,864,865,866,867,868,869,870,871,872,873,874,875,876,877,878,879,880,881,882,883,884,885,886,887,888,889,890,891,892,893,894,895,896,897,898,899,900,901,902,903,904,905,906,907,908,909,910,911,912,913,914,915,916,917,918,919,922,923,926,927,928,929,930,931,932,933,934,935,936,937,938,939,940,941,942,943,944,945,946,947,948,949,950,951,952,953,954,955,956,957,958,959,960,961,962,963,964,965,966,967,968,969,970,971,972,973,974,975,976,977,978,979,980,981,982,983,984,985,986,987,988,989,990,991,992,993,994,995,996,997,998,999,1000]},\"selected\":{\"id\":\"9946\"},\"selection_policy\":{\"id\":\"9945\"}},\"id\":\"9929\",\"type\":\"ColumnDataSource\"},{\"attributes\":{\"dimensions\":\"width\"},\"id\":\"9974\",\"type\":\"ZoomInTool\"},{\"attributes\":{\"bounds\":\"auto\",\"end\":28700100,\"start\":28399801},\"id\":\"9881\",\"type\":\"Range1d\"},{\"attributes\":{},\"id\":\"9952\",\"type\":\"NumeralTickFormatter\"},{\"attributes\":{\"coordinates\":null,\"data_source\":{\"id\":\"9911\"},\"glyph\":{\"id\":\"9913\"},\"group\":null,\"hover_glyph\":null,\"muted_glyph\":{\"id\":\"9915\"},\"nonselection_glyph\":{\"id\":\"9914\"},\"view\":{\"id\":\"9917\"}},\"id\":\"9916\",\"type\":\"GlyphRenderer\"},{\"attributes\":{},\"id\":\"9976\",\"type\":\"ResetTool\"},{\"attributes\":{\"toolbar\":{\"id\":\"10026\"},\"toolbar_location\":\"above\"},\"id\":\"10027\",\"type\":\"ToolbarBox\"},{\"attributes\":{},\"id\":\"10007\",\"type\":\"NumeralTickFormatter\"},{\"attributes\":{},\"id\":\"9904\",\"type\":\"ResetTool\"},{\"attributes\":{\"active_drag\":{\"id\":\"9901\"},\"active_scroll\":{\"id\":\"9882\"},\"tools\":[{\"id\":\"9882\"},{\"id\":\"9901\"},{\"id\":\"9902\"},{\"id\":\"9903\"},{\"id\":\"9904\"}]},\"id\":\"9905\",\"type\":\"Toolbar\"},{\"attributes\":{\"source\":{\"id\":\"9929\"}},\"id\":\"9935\",\"type\":\"CDSView\"},{\"attributes\":{\"dimensions\":\"width\"},\"id\":\"9975\",\"type\":\"ZoomOutTool\"},{\"attributes\":{\"below\":[{\"id\":\"9893\"}],\"center\":[{\"id\":\"9896\"},{\"id\":\"9900\"},{\"id\":\"9927\"}],\"height\":170,\"left\":[{\"id\":\"9897\"}],\"renderers\":[{\"id\":\"9916\"},{\"id\":\"9934\"}],\"right\":[{\"id\":\"9927\"}],\"title\":{\"id\":\"9884\"},\"toolbar\":{\"id\":\"9905\"},\"toolbar_location\":null,\"width\":800,\"x_range\":{\"id\":\"9881\"},\"x_scale\":{\"id\":\"9889\"},\"y_range\":{\"id\":\"9887\"},\"y_scale\":{\"id\":\"9891\"}},\"id\":\"9883\",\"subtype\":\"Figure\",\"type\":\"Plot\"},{\"attributes\":{\"axis_label\":\"Contig 2L position (bp)\",\"coordinates\":null,\"formatter\":{\"id\":\"10007\"},\"group\":null,\"major_label_policy\":{\"id\":\"9993\"},\"minor_tick_line_color\":null,\"ticker\":{\"id\":\"10005\"}},\"id\":\"9965\",\"type\":\"LinearAxis\"},{\"attributes\":{\"dimensions\":\"width\"},\"id\":\"9903\",\"type\":\"ZoomOutTool\"}],\"root_ids\":[\"10028\"]},\"title\":\"Bokeh Application\",\"version\":\"2.4.2\"}};\n",
       "  const render_items = [{\"docid\":\"46859689-cb1e-415d-be56-980ef754fd6c\",\"root_ids\":[\"10028\"],\"roots\":{\"10028\":\"4f3f7c56-94b0-4514-bb42-a51c85a417f7\"}}];\n",
       "  root.Bokeh.embed.embed_items_notebook(docs_json, render_items);\n",
       "\n",
       "  }\n",
       "  if (root.Bokeh !== undefined) {\n",
       "    embed_document(root);\n",
       "  } else {\n",
       "    let attempts = 0;\n",
       "    const timer = setInterval(function(root) {\n",
       "      if (root.Bokeh !== undefined) {\n",
       "        clearInterval(timer);\n",
       "        embed_document(root);\n",
       "      } else {\n",
       "        attempts++;\n",
       "        if (attempts > 100) {\n",
       "          clearInterval(timer);\n",
       "          console.log(\"Bokeh: ERROR: Unable to run BokehJS code because BokehJS library is missing\");\n",
       "        }\n",
       "      }\n",
       "    }, 10, root)\n",
       "  }\n",
       "})(window);"
      ],
      "application/vnd.bokehjs_exec.v0+json": ""
     },
     "metadata": {
      "application/vnd.bokehjs_exec.v0+json": {
       "id": "10028"
      }
     },
     "output_type": "display_data"
    }
   ],
   "source": [
    "#set_ = \"1244-VO-GH-YAWSON-VMF00051\"\n",
    "set_ = \"AG1000G-GN-A\"\n",
    "cnv_df, names = get_copy_number('AGAP006227', set_)\n",
    "coe_region = \"2L:28,400,000-28,700,000\"\n",
    "\n",
    "for s in names[:8]:\n",
    "    ag3.plot_cnv_hmm_coverage(s, sample_set=set_, region=coe_region)"
   ]
  },
  {
   "cell_type": "markdown",
   "id": "7c0062e2",
   "metadata": {},
   "source": [
    "Looking legit!!"
   ]
  },
  {
   "cell_type": "markdown",
   "id": "b1c04f32",
   "metadata": {},
   "source": [
    "### Comparing CNV status, sweep status, and karyotype"
   ]
  },
  {
   "cell_type": "code",
   "execution_count": 227,
   "id": "78a75c2e",
   "metadata": {},
   "outputs": [],
   "source": [
    "cnv_ids = sample_names"
   ]
  },
  {
   "cell_type": "code",
   "execution_count": 251,
   "id": "d63ad621",
   "metadata": {
    "scrolled": true
   },
   "outputs": [
    {
     "data": {
      "text/html": [
       "<div>\n",
       "<style scoped>\n",
       "    .dataframe tbody tr th:only-of-type {\n",
       "        vertical-align: middle;\n",
       "    }\n",
       "\n",
       "    .dataframe tbody tr th {\n",
       "        vertical-align: top;\n",
       "    }\n",
       "\n",
       "    .dataframe thead th {\n",
       "        text-align: right;\n",
       "    }\n",
       "</style>\n",
       "<table border=\"1\" class=\"dataframe\">\n",
       "  <thead>\n",
       "    <tr style=\"text-align: right;\">\n",
       "      <th>cnv_status</th>\n",
       "      <th>0</th>\n",
       "      <th>1</th>\n",
       "    </tr>\n",
       "    <tr>\n",
       "      <th>mean_genotype</th>\n",
       "      <th></th>\n",
       "      <th></th>\n",
       "    </tr>\n",
       "  </thead>\n",
       "  <tbody>\n",
       "    <tr>\n",
       "      <th>0.0</th>\n",
       "      <td>223</td>\n",
       "      <td>56</td>\n",
       "    </tr>\n",
       "    <tr>\n",
       "      <th>1.0</th>\n",
       "      <td>152</td>\n",
       "      <td>18</td>\n",
       "    </tr>\n",
       "    <tr>\n",
       "      <th>2.0</th>\n",
       "      <td>28</td>\n",
       "      <td>0</td>\n",
       "    </tr>\n",
       "  </tbody>\n",
       "</table>\n",
       "</div>"
      ],
      "text/plain": [
       "cnv_status       0   1\n",
       "mean_genotype         \n",
       "0.0            223  56\n",
       "1.0            152  18\n",
       "2.0             28   0"
      ]
     },
     "execution_count": 251,
     "metadata": {},
     "output_type": "execute_result"
    }
   ],
   "source": [
    "import warnings\n",
    "warnings.filterwarnings('ignore')\n",
    "\n",
    "karyotypes = pd.read_csv(\"/home/sanj/projects/gaard/results/gaard_karyotypes.tsv\", sep=\"\\t\")\n",
    "karyo2 = pd.read_csv(\"/home/sanj/projects/gaardian/results/karyotypes/gaardian_karyotypes.tsv\", sep=\"\\t\", index_col=0)\n",
    "karyo2 = karyo2.rename(columns={'location2':'location'})\n",
    "karyotypes = pd.concat([karyotypes, karyo2])\n",
    "\n",
    "karyo_2la = karyotypes.query(\"inversion == '2La'\")\n",
    "\n",
    "karyo_2la.loc[:, 'mean_genotype'] = karyo_2la.loc[:,'mean_genotype'].round(0)\n",
    "\n",
    "df_samples = karyo_2la.merge(df_samples)\n",
    "\n",
    "gamb_samples = df_samples.query(\"aim_species == 'gambiae'\")\n",
    "\n",
    "gamb_samples.loc[:, 'cnv_status'] = pd.factorize(np.isin(gamb_samples['sample_id'], cnv_ids))[0]\n",
    "\n",
    "pd.crosstab(gamb_samples['mean_genotype'], gamb_samples['cnv_status'])"
   ]
  },
  {
   "cell_type": "markdown",
   "id": "84e1e2cd",
   "metadata": {},
   "source": [
    "So the CNVs are found on the 2l+a haplotypic background. Interesting. We probably have multiple sweeps on different karyotypes at the same locus, one spreading from togo area and one from Burkina."
   ]
  },
  {
   "cell_type": "markdown",
   "id": "c846019b",
   "metadata": {},
   "source": [
    "Next, we need the IDs of each individual in each sweep"
   ]
  },
  {
   "cell_type": "code",
   "execution_count": null,
   "id": "f23e3f8c",
   "metadata": {},
   "outputs": [],
   "source": []
  }
 ],
 "metadata": {
  "interpreter": {
   "hash": "710100144729ec1057471750b60f3250df4296be7eb29e7e87fec32ed718ec4b"
  },
  "kernelspec": {
   "display_name": "Python 3 (ipykernel)",
   "language": "python",
   "name": "python3"
  },
  "language_info": {
   "codemirror_mode": {
    "name": "ipython",
    "version": 3
   },
   "file_extension": ".py",
   "mimetype": "text/x-python",
   "name": "python",
   "nbconvert_exporter": "python",
   "pygments_lexer": "ipython3",
   "version": "3.7.12"
  }
 },
 "nbformat": 4,
 "nbformat_minor": 5
}
