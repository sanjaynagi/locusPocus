{
 "cells": [
  {
   "cell_type": "code",
   "execution_count": 59,
   "id": "ea1d5106",
   "metadata": {},
   "outputs": [
    {
     "data": {
      "text/html": [
       "\n",
       "    <div class=\"bk-root\">\n",
       "        <a href=\"https://bokeh.org\" target=\"_blank\" class=\"bk-logo bk-logo-small bk-logo-notebook\"></a>\n",
       "        <span id=\"8882\">Loading BokehJS ...</span>\n",
       "    </div>"
      ]
     },
     "metadata": {},
     "output_type": "display_data"
    },
    {
     "data": {
      "application/javascript": [
       "\n",
       "(function(root) {\n",
       "  function now() {\n",
       "    return new Date();\n",
       "  }\n",
       "\n",
       "  const force = true;\n",
       "\n",
       "  if (typeof root._bokeh_onload_callbacks === \"undefined\" || force === true) {\n",
       "    root._bokeh_onload_callbacks = [];\n",
       "    root._bokeh_is_loading = undefined;\n",
       "  }\n",
       "\n",
       "  const JS_MIME_TYPE = 'application/javascript';\n",
       "  const HTML_MIME_TYPE = 'text/html';\n",
       "  const EXEC_MIME_TYPE = 'application/vnd.bokehjs_exec.v0+json';\n",
       "  const CLASS_NAME = 'output_bokeh rendered_html';\n",
       "\n",
       "  /**\n",
       "   * Render data to the DOM node\n",
       "   */\n",
       "  function render(props, node) {\n",
       "    const script = document.createElement(\"script\");\n",
       "    node.appendChild(script);\n",
       "  }\n",
       "\n",
       "  /**\n",
       "   * Handle when an output is cleared or removed\n",
       "   */\n",
       "  function handleClearOutput(event, handle) {\n",
       "    const cell = handle.cell;\n",
       "\n",
       "    const id = cell.output_area._bokeh_element_id;\n",
       "    const server_id = cell.output_area._bokeh_server_id;\n",
       "    // Clean up Bokeh references\n",
       "    if (id != null && id in Bokeh.index) {\n",
       "      Bokeh.index[id].model.document.clear();\n",
       "      delete Bokeh.index[id];\n",
       "    }\n",
       "\n",
       "    if (server_id !== undefined) {\n",
       "      // Clean up Bokeh references\n",
       "      const cmd_clean = \"from bokeh.io.state import curstate; print(curstate().uuid_to_server['\" + server_id + \"'].get_sessions()[0].document.roots[0]._id)\";\n",
       "      cell.notebook.kernel.execute(cmd_clean, {\n",
       "        iopub: {\n",
       "          output: function(msg) {\n",
       "            const id = msg.content.text.trim();\n",
       "            if (id in Bokeh.index) {\n",
       "              Bokeh.index[id].model.document.clear();\n",
       "              delete Bokeh.index[id];\n",
       "            }\n",
       "          }\n",
       "        }\n",
       "      });\n",
       "      // Destroy server and session\n",
       "      const cmd_destroy = \"import bokeh.io.notebook as ion; ion.destroy_server('\" + server_id + \"')\";\n",
       "      cell.notebook.kernel.execute(cmd_destroy);\n",
       "    }\n",
       "  }\n",
       "\n",
       "  /**\n",
       "   * Handle when a new output is added\n",
       "   */\n",
       "  function handleAddOutput(event, handle) {\n",
       "    const output_area = handle.output_area;\n",
       "    const output = handle.output;\n",
       "\n",
       "    // limit handleAddOutput to display_data with EXEC_MIME_TYPE content only\n",
       "    if ((output.output_type != \"display_data\") || (!Object.prototype.hasOwnProperty.call(output.data, EXEC_MIME_TYPE))) {\n",
       "      return\n",
       "    }\n",
       "\n",
       "    const toinsert = output_area.element.find(\".\" + CLASS_NAME.split(' ')[0]);\n",
       "\n",
       "    if (output.metadata[EXEC_MIME_TYPE][\"id\"] !== undefined) {\n",
       "      toinsert[toinsert.length - 1].firstChild.textContent = output.data[JS_MIME_TYPE];\n",
       "      // store reference to embed id on output_area\n",
       "      output_area._bokeh_element_id = output.metadata[EXEC_MIME_TYPE][\"id\"];\n",
       "    }\n",
       "    if (output.metadata[EXEC_MIME_TYPE][\"server_id\"] !== undefined) {\n",
       "      const bk_div = document.createElement(\"div\");\n",
       "      bk_div.innerHTML = output.data[HTML_MIME_TYPE];\n",
       "      const script_attrs = bk_div.children[0].attributes;\n",
       "      for (let i = 0; i < script_attrs.length; i++) {\n",
       "        toinsert[toinsert.length - 1].firstChild.setAttribute(script_attrs[i].name, script_attrs[i].value);\n",
       "        toinsert[toinsert.length - 1].firstChild.textContent = bk_div.children[0].textContent\n",
       "      }\n",
       "      // store reference to server id on output_area\n",
       "      output_area._bokeh_server_id = output.metadata[EXEC_MIME_TYPE][\"server_id\"];\n",
       "    }\n",
       "  }\n",
       "\n",
       "  function register_renderer(events, OutputArea) {\n",
       "\n",
       "    function append_mime(data, metadata, element) {\n",
       "      // create a DOM node to render to\n",
       "      const toinsert = this.create_output_subarea(\n",
       "        metadata,\n",
       "        CLASS_NAME,\n",
       "        EXEC_MIME_TYPE\n",
       "      );\n",
       "      this.keyboard_manager.register_events(toinsert);\n",
       "      // Render to node\n",
       "      const props = {data: data, metadata: metadata[EXEC_MIME_TYPE]};\n",
       "      render(props, toinsert[toinsert.length - 1]);\n",
       "      element.append(toinsert);\n",
       "      return toinsert\n",
       "    }\n",
       "\n",
       "    /* Handle when an output is cleared or removed */\n",
       "    events.on('clear_output.CodeCell', handleClearOutput);\n",
       "    events.on('delete.Cell', handleClearOutput);\n",
       "\n",
       "    /* Handle when a new output is added */\n",
       "    events.on('output_added.OutputArea', handleAddOutput);\n",
       "\n",
       "    /**\n",
       "     * Register the mime type and append_mime function with output_area\n",
       "     */\n",
       "    OutputArea.prototype.register_mime_type(EXEC_MIME_TYPE, append_mime, {\n",
       "      /* Is output safe? */\n",
       "      safe: true,\n",
       "      /* Index of renderer in `output_area.display_order` */\n",
       "      index: 0\n",
       "    });\n",
       "  }\n",
       "\n",
       "  // register the mime type if in Jupyter Notebook environment and previously unregistered\n",
       "  if (root.Jupyter !== undefined) {\n",
       "    const events = require('base/js/events');\n",
       "    const OutputArea = require('notebook/js/outputarea').OutputArea;\n",
       "\n",
       "    if (OutputArea.prototype.mime_types().indexOf(EXEC_MIME_TYPE) == -1) {\n",
       "      register_renderer(events, OutputArea);\n",
       "    }\n",
       "  }\n",
       "\n",
       "  \n",
       "  if (typeof (root._bokeh_timeout) === \"undefined\" || force === true) {\n",
       "    root._bokeh_timeout = Date.now() + 5000;\n",
       "    root._bokeh_failed_load = false;\n",
       "  }\n",
       "\n",
       "  const NB_LOAD_WARNING = {'data': {'text/html':\n",
       "     \"<div style='background-color: #fdd'>\\n\"+\n",
       "     \"<p>\\n\"+\n",
       "     \"BokehJS does not appear to have successfully loaded. If loading BokehJS from CDN, this \\n\"+\n",
       "     \"may be due to a slow or bad network connection. Possible fixes:\\n\"+\n",
       "     \"</p>\\n\"+\n",
       "     \"<ul>\\n\"+\n",
       "     \"<li>re-rerun `output_notebook()` to attempt to load from CDN again, or</li>\\n\"+\n",
       "     \"<li>use INLINE resources instead, as so:</li>\\n\"+\n",
       "     \"</ul>\\n\"+\n",
       "     \"<code>\\n\"+\n",
       "     \"from bokeh.resources import INLINE\\n\"+\n",
       "     \"output_notebook(resources=INLINE)\\n\"+\n",
       "     \"</code>\\n\"+\n",
       "     \"</div>\"}};\n",
       "\n",
       "  function display_loaded() {\n",
       "    const el = document.getElementById(\"8882\");\n",
       "    if (el != null) {\n",
       "      el.textContent = \"BokehJS is loading...\";\n",
       "    }\n",
       "    if (root.Bokeh !== undefined) {\n",
       "      if (el != null) {\n",
       "        el.textContent = \"BokehJS \" + root.Bokeh.version + \" successfully loaded.\";\n",
       "      }\n",
       "    } else if (Date.now() < root._bokeh_timeout) {\n",
       "      setTimeout(display_loaded, 100)\n",
       "    }\n",
       "  }\n",
       "\n",
       "\n",
       "  function run_callbacks() {\n",
       "    try {\n",
       "      root._bokeh_onload_callbacks.forEach(function(callback) {\n",
       "        if (callback != null)\n",
       "          callback();\n",
       "      });\n",
       "    } finally {\n",
       "      delete root._bokeh_onload_callbacks\n",
       "    }\n",
       "    console.debug(\"Bokeh: all callbacks have finished\");\n",
       "  }\n",
       "\n",
       "  function load_libs(css_urls, js_urls, callback) {\n",
       "    if (css_urls == null) css_urls = [];\n",
       "    if (js_urls == null) js_urls = [];\n",
       "\n",
       "    root._bokeh_onload_callbacks.push(callback);\n",
       "    if (root._bokeh_is_loading > 0) {\n",
       "      console.debug(\"Bokeh: BokehJS is being loaded, scheduling callback at\", now());\n",
       "      return null;\n",
       "    }\n",
       "    if (js_urls == null || js_urls.length === 0) {\n",
       "      run_callbacks();\n",
       "      return null;\n",
       "    }\n",
       "    console.debug(\"Bokeh: BokehJS not loaded, scheduling load and callback at\", now());\n",
       "    root._bokeh_is_loading = css_urls.length + js_urls.length;\n",
       "\n",
       "    function on_load() {\n",
       "      root._bokeh_is_loading--;\n",
       "      if (root._bokeh_is_loading === 0) {\n",
       "        console.debug(\"Bokeh: all BokehJS libraries/stylesheets loaded\");\n",
       "        run_callbacks()\n",
       "      }\n",
       "    }\n",
       "\n",
       "    function on_error(url) {\n",
       "      console.error(\"failed to load \" + url);\n",
       "    }\n",
       "\n",
       "    for (let i = 0; i < css_urls.length; i++) {\n",
       "      const url = css_urls[i];\n",
       "      const element = document.createElement(\"link\");\n",
       "      element.onload = on_load;\n",
       "      element.onerror = on_error.bind(null, url);\n",
       "      element.rel = \"stylesheet\";\n",
       "      element.type = \"text/css\";\n",
       "      element.href = url;\n",
       "      console.debug(\"Bokeh: injecting link tag for BokehJS stylesheet: \", url);\n",
       "      document.body.appendChild(element);\n",
       "    }\n",
       "\n",
       "    for (let i = 0; i < js_urls.length; i++) {\n",
       "      const url = js_urls[i];\n",
       "      const element = document.createElement('script');\n",
       "      element.onload = on_load;\n",
       "      element.onerror = on_error.bind(null, url);\n",
       "      element.async = false;\n",
       "      element.src = url;\n",
       "      console.debug(\"Bokeh: injecting script tag for BokehJS library: \", url);\n",
       "      document.head.appendChild(element);\n",
       "    }\n",
       "  };\n",
       "\n",
       "  function inject_raw_css(css) {\n",
       "    const element = document.createElement(\"style\");\n",
       "    element.appendChild(document.createTextNode(css));\n",
       "    document.body.appendChild(element);\n",
       "  }\n",
       "\n",
       "  \n",
       "  const js_urls = [\"https://cdn.bokeh.org/bokeh/release/bokeh-2.4.2.min.js\", \"https://cdn.bokeh.org/bokeh/release/bokeh-gl-2.4.2.min.js\", \"https://cdn.bokeh.org/bokeh/release/bokeh-widgets-2.4.2.min.js\", \"https://cdn.bokeh.org/bokeh/release/bokeh-tables-2.4.2.min.js\", \"https://cdn.bokeh.org/bokeh/release/bokeh-mathjax-2.4.2.min.js\"];\n",
       "  const css_urls = [];\n",
       "  \n",
       "\n",
       "  const inline_js = [\n",
       "    function(Bokeh) {\n",
       "      Bokeh.set_log_level(\"info\");\n",
       "    },\n",
       "    function(Bokeh) {\n",
       "    \n",
       "    \n",
       "    }\n",
       "  ];\n",
       "\n",
       "  function run_inline_js() {\n",
       "    \n",
       "    if (root.Bokeh !== undefined || force === true) {\n",
       "      \n",
       "    for (let i = 0; i < inline_js.length; i++) {\n",
       "      inline_js[i].call(root, root.Bokeh);\n",
       "    }\n",
       "    if (force === true) {\n",
       "        display_loaded();\n",
       "      }} else if (Date.now() < root._bokeh_timeout) {\n",
       "      setTimeout(run_inline_js, 100);\n",
       "    } else if (!root._bokeh_failed_load) {\n",
       "      console.log(\"Bokeh: BokehJS failed to load within specified timeout.\");\n",
       "      root._bokeh_failed_load = true;\n",
       "    } else if (force !== true) {\n",
       "      const cell = $(document.getElementById(\"8882\")).parents('.cell').data().cell;\n",
       "      cell.output_area.append_execute_result(NB_LOAD_WARNING)\n",
       "    }\n",
       "\n",
       "  }\n",
       "\n",
       "  if (root._bokeh_is_loading === 0) {\n",
       "    console.debug(\"Bokeh: BokehJS loaded, going straight to plotting\");\n",
       "    run_inline_js();\n",
       "  } else {\n",
       "    load_libs(css_urls, js_urls, function() {\n",
       "      console.debug(\"Bokeh: BokehJS plotting callback run at\", now());\n",
       "      run_inline_js();\n",
       "    });\n",
       "  }\n",
       "}(window));"
      ],
      "application/vnd.bokehjs_load.v0+json": "\n(function(root) {\n  function now() {\n    return new Date();\n  }\n\n  const force = true;\n\n  if (typeof root._bokeh_onload_callbacks === \"undefined\" || force === true) {\n    root._bokeh_onload_callbacks = [];\n    root._bokeh_is_loading = undefined;\n  }\n\n  \n\n  \n  if (typeof (root._bokeh_timeout) === \"undefined\" || force === true) {\n    root._bokeh_timeout = Date.now() + 5000;\n    root._bokeh_failed_load = false;\n  }\n\n  const NB_LOAD_WARNING = {'data': {'text/html':\n     \"<div style='background-color: #fdd'>\\n\"+\n     \"<p>\\n\"+\n     \"BokehJS does not appear to have successfully loaded. If loading BokehJS from CDN, this \\n\"+\n     \"may be due to a slow or bad network connection. Possible fixes:\\n\"+\n     \"</p>\\n\"+\n     \"<ul>\\n\"+\n     \"<li>re-rerun `output_notebook()` to attempt to load from CDN again, or</li>\\n\"+\n     \"<li>use INLINE resources instead, as so:</li>\\n\"+\n     \"</ul>\\n\"+\n     \"<code>\\n\"+\n     \"from bokeh.resources import INLINE\\n\"+\n     \"output_notebook(resources=INLINE)\\n\"+\n     \"</code>\\n\"+\n     \"</div>\"}};\n\n  function display_loaded() {\n    const el = document.getElementById(\"8882\");\n    if (el != null) {\n      el.textContent = \"BokehJS is loading...\";\n    }\n    if (root.Bokeh !== undefined) {\n      if (el != null) {\n        el.textContent = \"BokehJS \" + root.Bokeh.version + \" successfully loaded.\";\n      }\n    } else if (Date.now() < root._bokeh_timeout) {\n      setTimeout(display_loaded, 100)\n    }\n  }\n\n\n  function run_callbacks() {\n    try {\n      root._bokeh_onload_callbacks.forEach(function(callback) {\n        if (callback != null)\n          callback();\n      });\n    } finally {\n      delete root._bokeh_onload_callbacks\n    }\n    console.debug(\"Bokeh: all callbacks have finished\");\n  }\n\n  function load_libs(css_urls, js_urls, callback) {\n    if (css_urls == null) css_urls = [];\n    if (js_urls == null) js_urls = [];\n\n    root._bokeh_onload_callbacks.push(callback);\n    if (root._bokeh_is_loading > 0) {\n      console.debug(\"Bokeh: BokehJS is being loaded, scheduling callback at\", now());\n      return null;\n    }\n    if (js_urls == null || js_urls.length === 0) {\n      run_callbacks();\n      return null;\n    }\n    console.debug(\"Bokeh: BokehJS not loaded, scheduling load and callback at\", now());\n    root._bokeh_is_loading = css_urls.length + js_urls.length;\n\n    function on_load() {\n      root._bokeh_is_loading--;\n      if (root._bokeh_is_loading === 0) {\n        console.debug(\"Bokeh: all BokehJS libraries/stylesheets loaded\");\n        run_callbacks()\n      }\n    }\n\n    function on_error(url) {\n      console.error(\"failed to load \" + url);\n    }\n\n    for (let i = 0; i < css_urls.length; i++) {\n      const url = css_urls[i];\n      const element = document.createElement(\"link\");\n      element.onload = on_load;\n      element.onerror = on_error.bind(null, url);\n      element.rel = \"stylesheet\";\n      element.type = \"text/css\";\n      element.href = url;\n      console.debug(\"Bokeh: injecting link tag for BokehJS stylesheet: \", url);\n      document.body.appendChild(element);\n    }\n\n    for (let i = 0; i < js_urls.length; i++) {\n      const url = js_urls[i];\n      const element = document.createElement('script');\n      element.onload = on_load;\n      element.onerror = on_error.bind(null, url);\n      element.async = false;\n      element.src = url;\n      console.debug(\"Bokeh: injecting script tag for BokehJS library: \", url);\n      document.head.appendChild(element);\n    }\n  };\n\n  function inject_raw_css(css) {\n    const element = document.createElement(\"style\");\n    element.appendChild(document.createTextNode(css));\n    document.body.appendChild(element);\n  }\n\n  \n  const js_urls = [\"https://cdn.bokeh.org/bokeh/release/bokeh-2.4.2.min.js\", \"https://cdn.bokeh.org/bokeh/release/bokeh-gl-2.4.2.min.js\", \"https://cdn.bokeh.org/bokeh/release/bokeh-widgets-2.4.2.min.js\", \"https://cdn.bokeh.org/bokeh/release/bokeh-tables-2.4.2.min.js\", \"https://cdn.bokeh.org/bokeh/release/bokeh-mathjax-2.4.2.min.js\"];\n  const css_urls = [];\n  \n\n  const inline_js = [\n    function(Bokeh) {\n      Bokeh.set_log_level(\"info\");\n    },\n    function(Bokeh) {\n    \n    \n    }\n  ];\n\n  function run_inline_js() {\n    \n    if (root.Bokeh !== undefined || force === true) {\n      \n    for (let i = 0; i < inline_js.length; i++) {\n      inline_js[i].call(root, root.Bokeh);\n    }\n    if (force === true) {\n        display_loaded();\n      }} else if (Date.now() < root._bokeh_timeout) {\n      setTimeout(run_inline_js, 100);\n    } else if (!root._bokeh_failed_load) {\n      console.log(\"Bokeh: BokehJS failed to load within specified timeout.\");\n      root._bokeh_failed_load = true;\n    } else if (force !== true) {\n      const cell = $(document.getElementById(\"8882\")).parents('.cell').data().cell;\n      cell.output_area.append_execute_result(NB_LOAD_WARNING)\n    }\n\n  }\n\n  if (root._bokeh_is_loading === 0) {\n    console.debug(\"Bokeh: BokehJS loaded, going straight to plotting\");\n    run_inline_js();\n  } else {\n    load_libs(css_urls, js_urls, function() {\n      console.debug(\"Bokeh: BokehJS plotting callback run at\", now());\n      run_inline_js();\n    });\n  }\n}(window));"
     },
     "metadata": {},
     "output_type": "display_data"
    }
   ],
   "source": [
    "import sys\n",
    "# adding Folder_2 to the system path\n",
    "sys.path.insert(0, '/home/sanj/projects/gaardian/workflow/scripts/')\n",
    "import probetools as probe\n",
    "\n",
    "%run hapclust.py\n",
    "\n",
    "import numpy as np \n",
    "import allel\n",
    "import bokeh\n",
    "import bokeh.plotting\n",
    "import malariagen_data\n",
    "%matplotlib inline\n",
    "\n",
    "import bokeh.io as bkio\n",
    "bkio.output_notebook()"
   ]
  },
  {
   "cell_type": "markdown",
   "id": "59dfd496",
   "metadata": {},
   "source": [
    "### CNVs and the coeae1f region"
   ]
  },
  {
   "cell_type": "code",
   "execution_count": 7,
   "id": "d1583bd2",
   "metadata": {},
   "outputs": [
    {
     "data": {
      "application/javascript": [
       "\n",
       "(function(root) {\n",
       "  function now() {\n",
       "    return new Date();\n",
       "  }\n",
       "\n",
       "  const force = true;\n",
       "\n",
       "  if (typeof root._bokeh_onload_callbacks === \"undefined\" || force === true) {\n",
       "    root._bokeh_onload_callbacks = [];\n",
       "    root._bokeh_is_loading = undefined;\n",
       "  }\n",
       "\n",
       "  const JS_MIME_TYPE = 'application/javascript';\n",
       "  const HTML_MIME_TYPE = 'text/html';\n",
       "  const EXEC_MIME_TYPE = 'application/vnd.bokehjs_exec.v0+json';\n",
       "  const CLASS_NAME = 'output_bokeh rendered_html';\n",
       "\n",
       "  /**\n",
       "   * Render data to the DOM node\n",
       "   */\n",
       "  function render(props, node) {\n",
       "    const script = document.createElement(\"script\");\n",
       "    node.appendChild(script);\n",
       "  }\n",
       "\n",
       "  /**\n",
       "   * Handle when an output is cleared or removed\n",
       "   */\n",
       "  function handleClearOutput(event, handle) {\n",
       "    const cell = handle.cell;\n",
       "\n",
       "    const id = cell.output_area._bokeh_element_id;\n",
       "    const server_id = cell.output_area._bokeh_server_id;\n",
       "    // Clean up Bokeh references\n",
       "    if (id != null && id in Bokeh.index) {\n",
       "      Bokeh.index[id].model.document.clear();\n",
       "      delete Bokeh.index[id];\n",
       "    }\n",
       "\n",
       "    if (server_id !== undefined) {\n",
       "      // Clean up Bokeh references\n",
       "      const cmd_clean = \"from bokeh.io.state import curstate; print(curstate().uuid_to_server['\" + server_id + \"'].get_sessions()[0].document.roots[0]._id)\";\n",
       "      cell.notebook.kernel.execute(cmd_clean, {\n",
       "        iopub: {\n",
       "          output: function(msg) {\n",
       "            const id = msg.content.text.trim();\n",
       "            if (id in Bokeh.index) {\n",
       "              Bokeh.index[id].model.document.clear();\n",
       "              delete Bokeh.index[id];\n",
       "            }\n",
       "          }\n",
       "        }\n",
       "      });\n",
       "      // Destroy server and session\n",
       "      const cmd_destroy = \"import bokeh.io.notebook as ion; ion.destroy_server('\" + server_id + \"')\";\n",
       "      cell.notebook.kernel.execute(cmd_destroy);\n",
       "    }\n",
       "  }\n",
       "\n",
       "  /**\n",
       "   * Handle when a new output is added\n",
       "   */\n",
       "  function handleAddOutput(event, handle) {\n",
       "    const output_area = handle.output_area;\n",
       "    const output = handle.output;\n",
       "\n",
       "    // limit handleAddOutput to display_data with EXEC_MIME_TYPE content only\n",
       "    if ((output.output_type != \"display_data\") || (!Object.prototype.hasOwnProperty.call(output.data, EXEC_MIME_TYPE))) {\n",
       "      return\n",
       "    }\n",
       "\n",
       "    const toinsert = output_area.element.find(\".\" + CLASS_NAME.split(' ')[0]);\n",
       "\n",
       "    if (output.metadata[EXEC_MIME_TYPE][\"id\"] !== undefined) {\n",
       "      toinsert[toinsert.length - 1].firstChild.textContent = output.data[JS_MIME_TYPE];\n",
       "      // store reference to embed id on output_area\n",
       "      output_area._bokeh_element_id = output.metadata[EXEC_MIME_TYPE][\"id\"];\n",
       "    }\n",
       "    if (output.metadata[EXEC_MIME_TYPE][\"server_id\"] !== undefined) {\n",
       "      const bk_div = document.createElement(\"div\");\n",
       "      bk_div.innerHTML = output.data[HTML_MIME_TYPE];\n",
       "      const script_attrs = bk_div.children[0].attributes;\n",
       "      for (let i = 0; i < script_attrs.length; i++) {\n",
       "        toinsert[toinsert.length - 1].firstChild.setAttribute(script_attrs[i].name, script_attrs[i].value);\n",
       "        toinsert[toinsert.length - 1].firstChild.textContent = bk_div.children[0].textContent\n",
       "      }\n",
       "      // store reference to server id on output_area\n",
       "      output_area._bokeh_server_id = output.metadata[EXEC_MIME_TYPE][\"server_id\"];\n",
       "    }\n",
       "  }\n",
       "\n",
       "  function register_renderer(events, OutputArea) {\n",
       "\n",
       "    function append_mime(data, metadata, element) {\n",
       "      // create a DOM node to render to\n",
       "      const toinsert = this.create_output_subarea(\n",
       "        metadata,\n",
       "        CLASS_NAME,\n",
       "        EXEC_MIME_TYPE\n",
       "      );\n",
       "      this.keyboard_manager.register_events(toinsert);\n",
       "      // Render to node\n",
       "      const props = {data: data, metadata: metadata[EXEC_MIME_TYPE]};\n",
       "      render(props, toinsert[toinsert.length - 1]);\n",
       "      element.append(toinsert);\n",
       "      return toinsert\n",
       "    }\n",
       "\n",
       "    /* Handle when an output is cleared or removed */\n",
       "    events.on('clear_output.CodeCell', handleClearOutput);\n",
       "    events.on('delete.Cell', handleClearOutput);\n",
       "\n",
       "    /* Handle when a new output is added */\n",
       "    events.on('output_added.OutputArea', handleAddOutput);\n",
       "\n",
       "    /**\n",
       "     * Register the mime type and append_mime function with output_area\n",
       "     */\n",
       "    OutputArea.prototype.register_mime_type(EXEC_MIME_TYPE, append_mime, {\n",
       "      /* Is output safe? */\n",
       "      safe: true,\n",
       "      /* Index of renderer in `output_area.display_order` */\n",
       "      index: 0\n",
       "    });\n",
       "  }\n",
       "\n",
       "  // register the mime type if in Jupyter Notebook environment and previously unregistered\n",
       "  if (root.Jupyter !== undefined) {\n",
       "    const events = require('base/js/events');\n",
       "    const OutputArea = require('notebook/js/outputarea').OutputArea;\n",
       "\n",
       "    if (OutputArea.prototype.mime_types().indexOf(EXEC_MIME_TYPE) == -1) {\n",
       "      register_renderer(events, OutputArea);\n",
       "    }\n",
       "  }\n",
       "\n",
       "  \n",
       "  if (typeof (root._bokeh_timeout) === \"undefined\" || force === true) {\n",
       "    root._bokeh_timeout = Date.now() + 5000;\n",
       "    root._bokeh_failed_load = false;\n",
       "  }\n",
       "\n",
       "  const NB_LOAD_WARNING = {'data': {'text/html':\n",
       "     \"<div style='background-color: #fdd'>\\n\"+\n",
       "     \"<p>\\n\"+\n",
       "     \"BokehJS does not appear to have successfully loaded. If loading BokehJS from CDN, this \\n\"+\n",
       "     \"may be due to a slow or bad network connection. Possible fixes:\\n\"+\n",
       "     \"</p>\\n\"+\n",
       "     \"<ul>\\n\"+\n",
       "     \"<li>re-rerun `output_notebook()` to attempt to load from CDN again, or</li>\\n\"+\n",
       "     \"<li>use INLINE resources instead, as so:</li>\\n\"+\n",
       "     \"</ul>\\n\"+\n",
       "     \"<code>\\n\"+\n",
       "     \"from bokeh.resources import INLINE\\n\"+\n",
       "     \"output_notebook(resources=INLINE)\\n\"+\n",
       "     \"</code>\\n\"+\n",
       "     \"</div>\"}};\n",
       "\n",
       "  function display_loaded() {\n",
       "    const el = document.getElementById(null);\n",
       "    if (el != null) {\n",
       "      el.textContent = \"BokehJS is loading...\";\n",
       "    }\n",
       "    if (root.Bokeh !== undefined) {\n",
       "      if (el != null) {\n",
       "        el.textContent = \"BokehJS \" + root.Bokeh.version + \" successfully loaded.\";\n",
       "      }\n",
       "    } else if (Date.now() < root._bokeh_timeout) {\n",
       "      setTimeout(display_loaded, 100)\n",
       "    }\n",
       "  }\n",
       "\n",
       "\n",
       "  function run_callbacks() {\n",
       "    try {\n",
       "      root._bokeh_onload_callbacks.forEach(function(callback) {\n",
       "        if (callback != null)\n",
       "          callback();\n",
       "      });\n",
       "    } finally {\n",
       "      delete root._bokeh_onload_callbacks\n",
       "    }\n",
       "    console.debug(\"Bokeh: all callbacks have finished\");\n",
       "  }\n",
       "\n",
       "  function load_libs(css_urls, js_urls, callback) {\n",
       "    if (css_urls == null) css_urls = [];\n",
       "    if (js_urls == null) js_urls = [];\n",
       "\n",
       "    root._bokeh_onload_callbacks.push(callback);\n",
       "    if (root._bokeh_is_loading > 0) {\n",
       "      console.debug(\"Bokeh: BokehJS is being loaded, scheduling callback at\", now());\n",
       "      return null;\n",
       "    }\n",
       "    if (js_urls == null || js_urls.length === 0) {\n",
       "      run_callbacks();\n",
       "      return null;\n",
       "    }\n",
       "    console.debug(\"Bokeh: BokehJS not loaded, scheduling load and callback at\", now());\n",
       "    root._bokeh_is_loading = css_urls.length + js_urls.length;\n",
       "\n",
       "    function on_load() {\n",
       "      root._bokeh_is_loading--;\n",
       "      if (root._bokeh_is_loading === 0) {\n",
       "        console.debug(\"Bokeh: all BokehJS libraries/stylesheets loaded\");\n",
       "        run_callbacks()\n",
       "      }\n",
       "    }\n",
       "\n",
       "    function on_error(url) {\n",
       "      console.error(\"failed to load \" + url);\n",
       "    }\n",
       "\n",
       "    for (let i = 0; i < css_urls.length; i++) {\n",
       "      const url = css_urls[i];\n",
       "      const element = document.createElement(\"link\");\n",
       "      element.onload = on_load;\n",
       "      element.onerror = on_error.bind(null, url);\n",
       "      element.rel = \"stylesheet\";\n",
       "      element.type = \"text/css\";\n",
       "      element.href = url;\n",
       "      console.debug(\"Bokeh: injecting link tag for BokehJS stylesheet: \", url);\n",
       "      document.body.appendChild(element);\n",
       "    }\n",
       "\n",
       "    for (let i = 0; i < js_urls.length; i++) {\n",
       "      const url = js_urls[i];\n",
       "      const element = document.createElement('script');\n",
       "      element.onload = on_load;\n",
       "      element.onerror = on_error.bind(null, url);\n",
       "      element.async = false;\n",
       "      element.src = url;\n",
       "      console.debug(\"Bokeh: injecting script tag for BokehJS library: \", url);\n",
       "      document.head.appendChild(element);\n",
       "    }\n",
       "  };\n",
       "\n",
       "  function inject_raw_css(css) {\n",
       "    const element = document.createElement(\"style\");\n",
       "    element.appendChild(document.createTextNode(css));\n",
       "    document.body.appendChild(element);\n",
       "  }\n",
       "\n",
       "  \n",
       "  const js_urls = [\"https://cdn.bokeh.org/bokeh/release/bokeh-2.4.2.min.js\", \"https://cdn.bokeh.org/bokeh/release/bokeh-gl-2.4.2.min.js\", \"https://cdn.bokeh.org/bokeh/release/bokeh-widgets-2.4.2.min.js\", \"https://cdn.bokeh.org/bokeh/release/bokeh-tables-2.4.2.min.js\", \"https://cdn.bokeh.org/bokeh/release/bokeh-mathjax-2.4.2.min.js\"];\n",
       "  const css_urls = [];\n",
       "  \n",
       "\n",
       "  const inline_js = [\n",
       "    function(Bokeh) {\n",
       "      Bokeh.set_log_level(\"info\");\n",
       "    },\n",
       "    function(Bokeh) {\n",
       "    \n",
       "    \n",
       "    }\n",
       "  ];\n",
       "\n",
       "  function run_inline_js() {\n",
       "    \n",
       "    if (root.Bokeh !== undefined || force === true) {\n",
       "      \n",
       "    for (let i = 0; i < inline_js.length; i++) {\n",
       "      inline_js[i].call(root, root.Bokeh);\n",
       "    }\n",
       "    } else if (Date.now() < root._bokeh_timeout) {\n",
       "      setTimeout(run_inline_js, 100);\n",
       "    } else if (!root._bokeh_failed_load) {\n",
       "      console.log(\"Bokeh: BokehJS failed to load within specified timeout.\");\n",
       "      root._bokeh_failed_load = true;\n",
       "    } else if (force !== true) {\n",
       "      const cell = $(document.getElementById(null)).parents('.cell').data().cell;\n",
       "      cell.output_area.append_execute_result(NB_LOAD_WARNING)\n",
       "    }\n",
       "\n",
       "  }\n",
       "\n",
       "  if (root._bokeh_is_loading === 0) {\n",
       "    console.debug(\"Bokeh: BokehJS loaded, going straight to plotting\");\n",
       "    run_inline_js();\n",
       "  } else {\n",
       "    load_libs(css_urls, js_urls, function() {\n",
       "      console.debug(\"Bokeh: BokehJS plotting callback run at\", now());\n",
       "      run_inline_js();\n",
       "    });\n",
       "  }\n",
       "}(window));"
      ],
      "application/vnd.bokehjs_load.v0+json": "\n(function(root) {\n  function now() {\n    return new Date();\n  }\n\n  const force = true;\n\n  if (typeof root._bokeh_onload_callbacks === \"undefined\" || force === true) {\n    root._bokeh_onload_callbacks = [];\n    root._bokeh_is_loading = undefined;\n  }\n\n  \n\n  \n  if (typeof (root._bokeh_timeout) === \"undefined\" || force === true) {\n    root._bokeh_timeout = Date.now() + 5000;\n    root._bokeh_failed_load = false;\n  }\n\n  const NB_LOAD_WARNING = {'data': {'text/html':\n     \"<div style='background-color: #fdd'>\\n\"+\n     \"<p>\\n\"+\n     \"BokehJS does not appear to have successfully loaded. If loading BokehJS from CDN, this \\n\"+\n     \"may be due to a slow or bad network connection. Possible fixes:\\n\"+\n     \"</p>\\n\"+\n     \"<ul>\\n\"+\n     \"<li>re-rerun `output_notebook()` to attempt to load from CDN again, or</li>\\n\"+\n     \"<li>use INLINE resources instead, as so:</li>\\n\"+\n     \"</ul>\\n\"+\n     \"<code>\\n\"+\n     \"from bokeh.resources import INLINE\\n\"+\n     \"output_notebook(resources=INLINE)\\n\"+\n     \"</code>\\n\"+\n     \"</div>\"}};\n\n  function display_loaded() {\n    const el = document.getElementById(null);\n    if (el != null) {\n      el.textContent = \"BokehJS is loading...\";\n    }\n    if (root.Bokeh !== undefined) {\n      if (el != null) {\n        el.textContent = \"BokehJS \" + root.Bokeh.version + \" successfully loaded.\";\n      }\n    } else if (Date.now() < root._bokeh_timeout) {\n      setTimeout(display_loaded, 100)\n    }\n  }\n\n\n  function run_callbacks() {\n    try {\n      root._bokeh_onload_callbacks.forEach(function(callback) {\n        if (callback != null)\n          callback();\n      });\n    } finally {\n      delete root._bokeh_onload_callbacks\n    }\n    console.debug(\"Bokeh: all callbacks have finished\");\n  }\n\n  function load_libs(css_urls, js_urls, callback) {\n    if (css_urls == null) css_urls = [];\n    if (js_urls == null) js_urls = [];\n\n    root._bokeh_onload_callbacks.push(callback);\n    if (root._bokeh_is_loading > 0) {\n      console.debug(\"Bokeh: BokehJS is being loaded, scheduling callback at\", now());\n      return null;\n    }\n    if (js_urls == null || js_urls.length === 0) {\n      run_callbacks();\n      return null;\n    }\n    console.debug(\"Bokeh: BokehJS not loaded, scheduling load and callback at\", now());\n    root._bokeh_is_loading = css_urls.length + js_urls.length;\n\n    function on_load() {\n      root._bokeh_is_loading--;\n      if (root._bokeh_is_loading === 0) {\n        console.debug(\"Bokeh: all BokehJS libraries/stylesheets loaded\");\n        run_callbacks()\n      }\n    }\n\n    function on_error(url) {\n      console.error(\"failed to load \" + url);\n    }\n\n    for (let i = 0; i < css_urls.length; i++) {\n      const url = css_urls[i];\n      const element = document.createElement(\"link\");\n      element.onload = on_load;\n      element.onerror = on_error.bind(null, url);\n      element.rel = \"stylesheet\";\n      element.type = \"text/css\";\n      element.href = url;\n      console.debug(\"Bokeh: injecting link tag for BokehJS stylesheet: \", url);\n      document.body.appendChild(element);\n    }\n\n    for (let i = 0; i < js_urls.length; i++) {\n      const url = js_urls[i];\n      const element = document.createElement('script');\n      element.onload = on_load;\n      element.onerror = on_error.bind(null, url);\n      element.async = false;\n      element.src = url;\n      console.debug(\"Bokeh: injecting script tag for BokehJS library: \", url);\n      document.head.appendChild(element);\n    }\n  };\n\n  function inject_raw_css(css) {\n    const element = document.createElement(\"style\");\n    element.appendChild(document.createTextNode(css));\n    document.body.appendChild(element);\n  }\n\n  \n  const js_urls = [\"https://cdn.bokeh.org/bokeh/release/bokeh-2.4.2.min.js\", \"https://cdn.bokeh.org/bokeh/release/bokeh-gl-2.4.2.min.js\", \"https://cdn.bokeh.org/bokeh/release/bokeh-widgets-2.4.2.min.js\", \"https://cdn.bokeh.org/bokeh/release/bokeh-tables-2.4.2.min.js\", \"https://cdn.bokeh.org/bokeh/release/bokeh-mathjax-2.4.2.min.js\"];\n  const css_urls = [];\n  \n\n  const inline_js = [\n    function(Bokeh) {\n      Bokeh.set_log_level(\"info\");\n    },\n    function(Bokeh) {\n    \n    \n    }\n  ];\n\n  function run_inline_js() {\n    \n    if (root.Bokeh !== undefined || force === true) {\n      \n    for (let i = 0; i < inline_js.length; i++) {\n      inline_js[i].call(root, root.Bokeh);\n    }\n    } else if (Date.now() < root._bokeh_timeout) {\n      setTimeout(run_inline_js, 100);\n    } else if (!root._bokeh_failed_load) {\n      console.log(\"Bokeh: BokehJS failed to load within specified timeout.\");\n      root._bokeh_failed_load = true;\n    } else if (force !== true) {\n      const cell = $(document.getElementById(null)).parents('.cell').data().cell;\n      cell.output_area.append_execute_result(NB_LOAD_WARNING)\n    }\n\n  }\n\n  if (root._bokeh_is_loading === 0) {\n    console.debug(\"Bokeh: BokehJS loaded, going straight to plotting\");\n    run_inline_js();\n  } else {\n    load_libs(css_urls, js_urls, function() {\n      console.debug(\"Bokeh: BokehJS plotting callback run at\", now());\n      run_inline_js();\n    });\n  }\n}(window));"
     },
     "metadata": {},
     "output_type": "display_data"
    }
   ],
   "source": [
    "ag3 = malariagen_data.Ag3(pre=True)"
   ]
  },
  {
   "cell_type": "code",
   "execution_count": 253,
   "id": "423b59bf",
   "metadata": {},
   "outputs": [],
   "source": [
    "sample_sets = [\n",
    "    # Ag1000G phase 3 Ghana sample set in Ag3.0\n",
    "    #\"AG1000G-GH\",\n",
    "    # GAARD Ghana sample set in Ag3.2\n",
    "    # Amenta-Etego sample sets in Ag3.3\n",
    "    #'1190-VO-GH-AMENGA-ETEGO-VMF00013',\n",
    "    #'1190-VO-GH-AMENGA-ETEGO-VMF00014',\n",
    "    #'1190-VO-GH-AMENGA-ETEGO-VMF00028',\n",
    "    #'1190-VO-GH-AMENGA-ETEGO-VMF00029',\n",
    "    #'1190-VO-GH-AMENGA-ETEGO-VMF00046',\n",
    "    #'1190-VO-GH-AMENGA-ETEGO-VMF00047',\n",
    "    # GAARDIAN sample set in Ag3.4\n",
    "    #'AG1000G-ML-A',\n",
    "    #'AG1000G-ML-B',\n",
    "    #'AG1000G-BF-A',\n",
    "    #'AG1000G-GN-A'    \n",
    "    \"1244-VO-GH-YAWSON-VMF00051\",\n",
    "    '1244-VO-GH-YAWSON-VMF00149',\n",
    "    '1245-VO-CI-CONSTANT-VMF00054',\n",
    "    '1253-VO-TG-DJOGBENOU-VMF00052',\n",
    "    '1237-VO-BJ-DJOGBENOU-VMF00050'\n",
    "]"
   ]
  },
  {
   "cell_type": "code",
   "execution_count": null,
   "id": "1da9c8d0",
   "metadata": {},
   "outputs": [],
   "source": []
  },
  {
   "cell_type": "code",
   "execution_count": 211,
   "id": "1c4f3cc1",
   "metadata": {},
   "outputs": [
    {
     "data": {
      "text/html": [
       "<div>\n",
       "<style scoped>\n",
       "    .dataframe tbody tr th:only-of-type {\n",
       "        vertical-align: middle;\n",
       "    }\n",
       "\n",
       "    .dataframe tbody tr th {\n",
       "        vertical-align: top;\n",
       "    }\n",
       "\n",
       "    .dataframe thead th {\n",
       "        text-align: right;\n",
       "    }\n",
       "</style>\n",
       "<table border=\"1\" class=\"dataframe\">\n",
       "  <thead>\n",
       "    <tr style=\"text-align: right;\">\n",
       "      <th></th>\n",
       "      <th></th>\n",
       "      <th></th>\n",
       "      <th></th>\n",
       "      <th>taxon</th>\n",
       "      <th>coluzzii</th>\n",
       "      <th>gambiae</th>\n",
       "      <th>intermediate_gambiae_coluzzii</th>\n",
       "    </tr>\n",
       "    <tr>\n",
       "      <th>country</th>\n",
       "      <th>admin1_iso</th>\n",
       "      <th>admin1_name</th>\n",
       "      <th>admin2_name</th>\n",
       "      <th>year</th>\n",
       "      <th></th>\n",
       "      <th></th>\n",
       "      <th></th>\n",
       "    </tr>\n",
       "  </thead>\n",
       "  <tbody>\n",
       "    <tr>\n",
       "      <th>Benin</th>\n",
       "      <th>BJ-OU</th>\n",
       "      <th>Ouémé</th>\n",
       "      <th>Avrankou</th>\n",
       "      <th>2017</th>\n",
       "      <td>90</td>\n",
       "      <td>0</td>\n",
       "      <td>0</td>\n",
       "    </tr>\n",
       "    <tr>\n",
       "      <th>Cote d'Ivoire</th>\n",
       "      <th>CI-CM</th>\n",
       "      <th>Comoe</th>\n",
       "      <th>Sud-Comoe</th>\n",
       "      <th>2017</th>\n",
       "      <td>0</td>\n",
       "      <td>37</td>\n",
       "      <td>1</td>\n",
       "    </tr>\n",
       "    <tr>\n",
       "      <th rowspan=\"10\" valign=\"top\">Ghana</th>\n",
       "      <th rowspan=\"2\" valign=\"top\">GH-AA</th>\n",
       "      <th rowspan=\"2\" valign=\"top\">Greater Accra</th>\n",
       "      <th>Accra</th>\n",
       "      <th>2018</th>\n",
       "      <td>264</td>\n",
       "      <td>0</td>\n",
       "      <td>4</td>\n",
       "    </tr>\n",
       "    <tr>\n",
       "      <th>Ga East</th>\n",
       "      <th>2017</th>\n",
       "      <td>0</td>\n",
       "      <td>200</td>\n",
       "      <td>0</td>\n",
       "    </tr>\n",
       "    <tr>\n",
       "      <th rowspan=\"7\" valign=\"top\">GH-AH</th>\n",
       "      <th rowspan=\"7\" valign=\"top\">Ashanti</th>\n",
       "      <th>Adansi East</th>\n",
       "      <th>2018</th>\n",
       "      <td>39</td>\n",
       "      <td>40</td>\n",
       "      <td>0</td>\n",
       "    </tr>\n",
       "    <tr>\n",
       "      <th rowspan=\"2\" valign=\"top\">Adansi North</th>\n",
       "      <th>2017</th>\n",
       "      <td>0</td>\n",
       "      <td>198</td>\n",
       "      <td>0</td>\n",
       "    </tr>\n",
       "    <tr>\n",
       "      <th>2018</th>\n",
       "      <td>1</td>\n",
       "      <td>4</td>\n",
       "      <td>0</td>\n",
       "    </tr>\n",
       "    <tr>\n",
       "      <th>Adansi West</th>\n",
       "      <th>2018</th>\n",
       "      <td>77</td>\n",
       "      <td>5</td>\n",
       "      <td>0</td>\n",
       "    </tr>\n",
       "    <tr>\n",
       "      <th>Amansie Central</th>\n",
       "      <th>2018</th>\n",
       "      <td>80</td>\n",
       "      <td>7</td>\n",
       "      <td>0</td>\n",
       "    </tr>\n",
       "    <tr>\n",
       "      <th>Amansie East</th>\n",
       "      <th>2018</th>\n",
       "      <td>58</td>\n",
       "      <td>7</td>\n",
       "      <td>0</td>\n",
       "    </tr>\n",
       "    <tr>\n",
       "      <th>Amansie West</th>\n",
       "      <th>2018</th>\n",
       "      <td>19</td>\n",
       "      <td>0</td>\n",
       "      <td>0</td>\n",
       "    </tr>\n",
       "    <tr>\n",
       "      <th>GH-CP</th>\n",
       "      <th>Central</th>\n",
       "      <th>Upper Denkyira</th>\n",
       "      <th>2018</th>\n",
       "      <td>148</td>\n",
       "      <td>0</td>\n",
       "      <td>0</td>\n",
       "    </tr>\n",
       "    <tr>\n",
       "      <th>Togo</th>\n",
       "      <th>TG-M</th>\n",
       "      <th>Maritime Region</th>\n",
       "      <th>Lome Commune</th>\n",
       "      <th>2017</th>\n",
       "      <td>0</td>\n",
       "      <td>179</td>\n",
       "      <td>0</td>\n",
       "    </tr>\n",
       "  </tbody>\n",
       "</table>\n",
       "</div>"
      ],
      "text/plain": [
       "taxon                                                          coluzzii  \\\n",
       "country       admin1_iso admin1_name     admin2_name     year             \n",
       "Benin         BJ-OU      Ouémé           Avrankou        2017        90   \n",
       "Cote d'Ivoire CI-CM      Comoe           Sud-Comoe       2017         0   \n",
       "Ghana         GH-AA      Greater Accra   Accra           2018       264   \n",
       "                                         Ga East         2017         0   \n",
       "              GH-AH      Ashanti         Adansi East     2018        39   \n",
       "                                         Adansi North    2017         0   \n",
       "                                                         2018         1   \n",
       "                                         Adansi West     2018        77   \n",
       "                                         Amansie Central 2018        80   \n",
       "                                         Amansie East    2018        58   \n",
       "                                         Amansie West    2018        19   \n",
       "              GH-CP      Central         Upper Denkyira  2018       148   \n",
       "Togo          TG-M       Maritime Region Lome Commune    2017         0   \n",
       "\n",
       "taxon                                                          gambiae  \\\n",
       "country       admin1_iso admin1_name     admin2_name     year            \n",
       "Benin         BJ-OU      Ouémé           Avrankou        2017        0   \n",
       "Cote d'Ivoire CI-CM      Comoe           Sud-Comoe       2017       37   \n",
       "Ghana         GH-AA      Greater Accra   Accra           2018        0   \n",
       "                                         Ga East         2017      200   \n",
       "              GH-AH      Ashanti         Adansi East     2018       40   \n",
       "                                         Adansi North    2017      198   \n",
       "                                                         2018        4   \n",
       "                                         Adansi West     2018        5   \n",
       "                                         Amansie Central 2018        7   \n",
       "                                         Amansie East    2018        7   \n",
       "                                         Amansie West    2018        0   \n",
       "              GH-CP      Central         Upper Denkyira  2018        0   \n",
       "Togo          TG-M       Maritime Region Lome Commune    2017      179   \n",
       "\n",
       "taxon                                                          intermediate_gambiae_coluzzii  \n",
       "country       admin1_iso admin1_name     admin2_name     year                                 \n",
       "Benin         BJ-OU      Ouémé           Avrankou        2017                              0  \n",
       "Cote d'Ivoire CI-CM      Comoe           Sud-Comoe       2017                              1  \n",
       "Ghana         GH-AA      Greater Accra   Accra           2018                              4  \n",
       "                                         Ga East         2017                              0  \n",
       "              GH-AH      Ashanti         Adansi East     2018                              0  \n",
       "                                         Adansi North    2017                              0  \n",
       "                                                         2018                              0  \n",
       "                                         Adansi West     2018                              0  \n",
       "                                         Amansie Central 2018                              0  \n",
       "                                         Amansie East    2018                              0  \n",
       "                                         Amansie West    2018                              0  \n",
       "              GH-CP      Central         Upper Denkyira  2018                              0  \n",
       "Togo          TG-M       Maritime Region Lome Commune    2017                              0  "
      ]
     },
     "execution_count": 211,
     "metadata": {},
     "output_type": "execute_result"
    }
   ],
   "source": [
    "# inspect all samples available from Ghana\n",
    "df_samples = ag3.sample_metadata(sample_sets=sample_sets)\n",
    "pivot_samples = (\n",
    "    df_samples\n",
    "    .pivot_table(\n",
    "        index=[\"country\", \"admin1_iso\", \"admin1_name\", \"admin2_name\", \"year\"], \n",
    "        columns=\"taxon\", \n",
    "        values=\"sample_id\",\n",
    "        aggfunc=\"count\",\n",
    "        fill_value=0\n",
    "    )\n",
    ")\n",
    "pivot_samples"
   ]
  },
  {
   "cell_type": "code",
   "execution_count": 212,
   "id": "cc757a33",
   "metadata": {
    "scrolled": false
   },
   "outputs": [
    {
     "data": {
      "application/vnd.plotly.v1+json": {
       "config": {
        "plotlyServerURL": "https://plot.ly"
       },
       "data": [
        {
         "coloraxis": "coloraxis",
         "hovertemplate": "x: %{x}<br>label: %{y}<br>color: %{z}<extra></extra>",
         "name": "0",
         "texttemplate": "%{z:.0%}",
         "type": "heatmap",
         "x": [
          "CI-CM_gamb_2017",
          "GH-AA_gamb_2017",
          "GH-AH_gamb_2017",
          "GH-AH_gamb_2018",
          "TG-M_gamb_2017"
         ],
         "xaxis": "x",
         "y": [
          "AGAP006222 amp",
          "AGAP006223 del",
          "AGAP006224 amp",
          "AGAP006226 (Aldehyde_oxidase) amp",
          "AGAP006227 amp",
          "AGAP006228 (COEAE2F) amp",
          "AGAP006233 amp",
          "AGAP006234 amp",
          "AGAP006235 amp"
         ],
         "yaxis": "y",
         "z": [
          [
           0.02702702702702703,
           0.0136986301369863,
           0.005780346820809248,
           0.031746031746031744,
           0.0058823529411764705
          ],
          [
           0.02702702702702703,
           0.08904109589041095,
           0.017341040462427744,
           0.047619047619047616,
           0.09411764705882353
          ],
          [
           0,
           0,
           0,
           0,
           0.08823529411764706
          ],
          [
           0,
           0,
           0.15028901734104047,
           0.07936507936507936,
           0.18235294117647058
          ],
          [
           0,
           0,
           0.15028901734104047,
           0.07936507936507936,
           0.18823529411764706
          ],
          [
           0,
           0.02054794520547945,
           0.16184971098265896,
           0.07936507936507936,
           0.18823529411764706
          ],
          [
           0,
           0,
           0,
           0,
           0.047058823529411764
          ],
          [
           0,
           0,
           0,
           0,
           0.047058823529411764
          ],
          [
           0,
           0,
           0.005780346820809248,
           0.031746031746031744,
           0.0058823529411764705
          ]
         ]
        }
       ],
       "layout": {
        "coloraxis": {
         "cmax": 1,
         "cmin": 0,
         "colorbar": {
          "ticktext": [
           "0%",
           "20%",
           "40%",
           "60%",
           "80%",
           "100%"
          ],
          "tickvals": [
           0,
           0.2,
           0.4,
           0.6,
           0.8,
           1
          ],
          "title": {
           "text": "Frequency"
          }
         },
         "colorscale": [
          [
           0,
           "rgb(255,245,240)"
          ],
          [
           0.125,
           "rgb(254,224,210)"
          ],
          [
           0.25,
           "rgb(252,187,161)"
          ],
          [
           0.375,
           "rgb(252,146,114)"
          ],
          [
           0.5,
           "rgb(251,106,74)"
          ],
          [
           0.625,
           "rgb(239,59,44)"
          ],
          [
           0.75,
           "rgb(203,24,29)"
          ],
          [
           0.875,
           "rgb(165,15,21)"
          ],
          [
           1,
           "rgb(103,0,13)"
          ]
         ]
        },
        "height": 420,
        "template": {
         "data": {
          "bar": [
           {
            "error_x": {
             "color": "#2a3f5f"
            },
            "error_y": {
             "color": "#2a3f5f"
            },
            "marker": {
             "line": {
              "color": "#E5ECF6",
              "width": 0.5
             },
             "pattern": {
              "fillmode": "overlay",
              "size": 10,
              "solidity": 0.2
             }
            },
            "type": "bar"
           }
          ],
          "barpolar": [
           {
            "marker": {
             "line": {
              "color": "#E5ECF6",
              "width": 0.5
             },
             "pattern": {
              "fillmode": "overlay",
              "size": 10,
              "solidity": 0.2
             }
            },
            "type": "barpolar"
           }
          ],
          "carpet": [
           {
            "aaxis": {
             "endlinecolor": "#2a3f5f",
             "gridcolor": "white",
             "linecolor": "white",
             "minorgridcolor": "white",
             "startlinecolor": "#2a3f5f"
            },
            "baxis": {
             "endlinecolor": "#2a3f5f",
             "gridcolor": "white",
             "linecolor": "white",
             "minorgridcolor": "white",
             "startlinecolor": "#2a3f5f"
            },
            "type": "carpet"
           }
          ],
          "choropleth": [
           {
            "colorbar": {
             "outlinewidth": 0,
             "ticks": ""
            },
            "type": "choropleth"
           }
          ],
          "contour": [
           {
            "colorbar": {
             "outlinewidth": 0,
             "ticks": ""
            },
            "colorscale": [
             [
              0,
              "#0d0887"
             ],
             [
              0.1111111111111111,
              "#46039f"
             ],
             [
              0.2222222222222222,
              "#7201a8"
             ],
             [
              0.3333333333333333,
              "#9c179e"
             ],
             [
              0.4444444444444444,
              "#bd3786"
             ],
             [
              0.5555555555555556,
              "#d8576b"
             ],
             [
              0.6666666666666666,
              "#ed7953"
             ],
             [
              0.7777777777777778,
              "#fb9f3a"
             ],
             [
              0.8888888888888888,
              "#fdca26"
             ],
             [
              1,
              "#f0f921"
             ]
            ],
            "type": "contour"
           }
          ],
          "contourcarpet": [
           {
            "colorbar": {
             "outlinewidth": 0,
             "ticks": ""
            },
            "type": "contourcarpet"
           }
          ],
          "heatmap": [
           {
            "colorbar": {
             "outlinewidth": 0,
             "ticks": ""
            },
            "colorscale": [
             [
              0,
              "#0d0887"
             ],
             [
              0.1111111111111111,
              "#46039f"
             ],
             [
              0.2222222222222222,
              "#7201a8"
             ],
             [
              0.3333333333333333,
              "#9c179e"
             ],
             [
              0.4444444444444444,
              "#bd3786"
             ],
             [
              0.5555555555555556,
              "#d8576b"
             ],
             [
              0.6666666666666666,
              "#ed7953"
             ],
             [
              0.7777777777777778,
              "#fb9f3a"
             ],
             [
              0.8888888888888888,
              "#fdca26"
             ],
             [
              1,
              "#f0f921"
             ]
            ],
            "type": "heatmap"
           }
          ],
          "heatmapgl": [
           {
            "colorbar": {
             "outlinewidth": 0,
             "ticks": ""
            },
            "colorscale": [
             [
              0,
              "#0d0887"
             ],
             [
              0.1111111111111111,
              "#46039f"
             ],
             [
              0.2222222222222222,
              "#7201a8"
             ],
             [
              0.3333333333333333,
              "#9c179e"
             ],
             [
              0.4444444444444444,
              "#bd3786"
             ],
             [
              0.5555555555555556,
              "#d8576b"
             ],
             [
              0.6666666666666666,
              "#ed7953"
             ],
             [
              0.7777777777777778,
              "#fb9f3a"
             ],
             [
              0.8888888888888888,
              "#fdca26"
             ],
             [
              1,
              "#f0f921"
             ]
            ],
            "type": "heatmapgl"
           }
          ],
          "histogram": [
           {
            "marker": {
             "pattern": {
              "fillmode": "overlay",
              "size": 10,
              "solidity": 0.2
             }
            },
            "type": "histogram"
           }
          ],
          "histogram2d": [
           {
            "colorbar": {
             "outlinewidth": 0,
             "ticks": ""
            },
            "colorscale": [
             [
              0,
              "#0d0887"
             ],
             [
              0.1111111111111111,
              "#46039f"
             ],
             [
              0.2222222222222222,
              "#7201a8"
             ],
             [
              0.3333333333333333,
              "#9c179e"
             ],
             [
              0.4444444444444444,
              "#bd3786"
             ],
             [
              0.5555555555555556,
              "#d8576b"
             ],
             [
              0.6666666666666666,
              "#ed7953"
             ],
             [
              0.7777777777777778,
              "#fb9f3a"
             ],
             [
              0.8888888888888888,
              "#fdca26"
             ],
             [
              1,
              "#f0f921"
             ]
            ],
            "type": "histogram2d"
           }
          ],
          "histogram2dcontour": [
           {
            "colorbar": {
             "outlinewidth": 0,
             "ticks": ""
            },
            "colorscale": [
             [
              0,
              "#0d0887"
             ],
             [
              0.1111111111111111,
              "#46039f"
             ],
             [
              0.2222222222222222,
              "#7201a8"
             ],
             [
              0.3333333333333333,
              "#9c179e"
             ],
             [
              0.4444444444444444,
              "#bd3786"
             ],
             [
              0.5555555555555556,
              "#d8576b"
             ],
             [
              0.6666666666666666,
              "#ed7953"
             ],
             [
              0.7777777777777778,
              "#fb9f3a"
             ],
             [
              0.8888888888888888,
              "#fdca26"
             ],
             [
              1,
              "#f0f921"
             ]
            ],
            "type": "histogram2dcontour"
           }
          ],
          "mesh3d": [
           {
            "colorbar": {
             "outlinewidth": 0,
             "ticks": ""
            },
            "type": "mesh3d"
           }
          ],
          "parcoords": [
           {
            "line": {
             "colorbar": {
              "outlinewidth": 0,
              "ticks": ""
             }
            },
            "type": "parcoords"
           }
          ],
          "pie": [
           {
            "automargin": true,
            "type": "pie"
           }
          ],
          "scatter": [
           {
            "marker": {
             "colorbar": {
              "outlinewidth": 0,
              "ticks": ""
             }
            },
            "type": "scatter"
           }
          ],
          "scatter3d": [
           {
            "line": {
             "colorbar": {
              "outlinewidth": 0,
              "ticks": ""
             }
            },
            "marker": {
             "colorbar": {
              "outlinewidth": 0,
              "ticks": ""
             }
            },
            "type": "scatter3d"
           }
          ],
          "scattercarpet": [
           {
            "marker": {
             "colorbar": {
              "outlinewidth": 0,
              "ticks": ""
             }
            },
            "type": "scattercarpet"
           }
          ],
          "scattergeo": [
           {
            "marker": {
             "colorbar": {
              "outlinewidth": 0,
              "ticks": ""
             }
            },
            "type": "scattergeo"
           }
          ],
          "scattergl": [
           {
            "marker": {
             "colorbar": {
              "outlinewidth": 0,
              "ticks": ""
             }
            },
            "type": "scattergl"
           }
          ],
          "scattermapbox": [
           {
            "marker": {
             "colorbar": {
              "outlinewidth": 0,
              "ticks": ""
             }
            },
            "type": "scattermapbox"
           }
          ],
          "scatterpolar": [
           {
            "marker": {
             "colorbar": {
              "outlinewidth": 0,
              "ticks": ""
             }
            },
            "type": "scatterpolar"
           }
          ],
          "scatterpolargl": [
           {
            "marker": {
             "colorbar": {
              "outlinewidth": 0,
              "ticks": ""
             }
            },
            "type": "scatterpolargl"
           }
          ],
          "scatterternary": [
           {
            "marker": {
             "colorbar": {
              "outlinewidth": 0,
              "ticks": ""
             }
            },
            "type": "scatterternary"
           }
          ],
          "surface": [
           {
            "colorbar": {
             "outlinewidth": 0,
             "ticks": ""
            },
            "colorscale": [
             [
              0,
              "#0d0887"
             ],
             [
              0.1111111111111111,
              "#46039f"
             ],
             [
              0.2222222222222222,
              "#7201a8"
             ],
             [
              0.3333333333333333,
              "#9c179e"
             ],
             [
              0.4444444444444444,
              "#bd3786"
             ],
             [
              0.5555555555555556,
              "#d8576b"
             ],
             [
              0.6666666666666666,
              "#ed7953"
             ],
             [
              0.7777777777777778,
              "#fb9f3a"
             ],
             [
              0.8888888888888888,
              "#fdca26"
             ],
             [
              1,
              "#f0f921"
             ]
            ],
            "type": "surface"
           }
          ],
          "table": [
           {
            "cells": {
             "fill": {
              "color": "#EBF0F8"
             },
             "line": {
              "color": "white"
             }
            },
            "header": {
             "fill": {
              "color": "#C8D4E3"
             },
             "line": {
              "color": "white"
             }
            },
            "type": "table"
           }
          ]
         },
         "layout": {
          "annotationdefaults": {
           "arrowcolor": "#2a3f5f",
           "arrowhead": 0,
           "arrowwidth": 1
          },
          "autotypenumbers": "strict",
          "coloraxis": {
           "colorbar": {
            "outlinewidth": 0,
            "ticks": ""
           }
          },
          "colorscale": {
           "diverging": [
            [
             0,
             "#8e0152"
            ],
            [
             0.1,
             "#c51b7d"
            ],
            [
             0.2,
             "#de77ae"
            ],
            [
             0.3,
             "#f1b6da"
            ],
            [
             0.4,
             "#fde0ef"
            ],
            [
             0.5,
             "#f7f7f7"
            ],
            [
             0.6,
             "#e6f5d0"
            ],
            [
             0.7,
             "#b8e186"
            ],
            [
             0.8,
             "#7fbc41"
            ],
            [
             0.9,
             "#4d9221"
            ],
            [
             1,
             "#276419"
            ]
           ],
           "sequential": [
            [
             0,
             "#0d0887"
            ],
            [
             0.1111111111111111,
             "#46039f"
            ],
            [
             0.2222222222222222,
             "#7201a8"
            ],
            [
             0.3333333333333333,
             "#9c179e"
            ],
            [
             0.4444444444444444,
             "#bd3786"
            ],
            [
             0.5555555555555556,
             "#d8576b"
            ],
            [
             0.6666666666666666,
             "#ed7953"
            ],
            [
             0.7777777777777778,
             "#fb9f3a"
            ],
            [
             0.8888888888888888,
             "#fdca26"
            ],
            [
             1,
             "#f0f921"
            ]
           ],
           "sequentialminus": [
            [
             0,
             "#0d0887"
            ],
            [
             0.1111111111111111,
             "#46039f"
            ],
            [
             0.2222222222222222,
             "#7201a8"
            ],
            [
             0.3333333333333333,
             "#9c179e"
            ],
            [
             0.4444444444444444,
             "#bd3786"
            ],
            [
             0.5555555555555556,
             "#d8576b"
            ],
            [
             0.6666666666666666,
             "#ed7953"
            ],
            [
             0.7777777777777778,
             "#fb9f3a"
            ],
            [
             0.8888888888888888,
             "#fdca26"
            ],
            [
             1,
             "#f0f921"
            ]
           ]
          },
          "colorway": [
           "#636efa",
           "#EF553B",
           "#00cc96",
           "#ab63fa",
           "#FFA15A",
           "#19d3f3",
           "#FF6692",
           "#B6E880",
           "#FF97FF",
           "#FECB52"
          ],
          "font": {
           "color": "#2a3f5f"
          },
          "geo": {
           "bgcolor": "white",
           "lakecolor": "white",
           "landcolor": "#E5ECF6",
           "showlakes": true,
           "showland": true,
           "subunitcolor": "white"
          },
          "hoverlabel": {
           "align": "left"
          },
          "hovermode": "closest",
          "mapbox": {
           "style": "light"
          },
          "paper_bgcolor": "white",
          "plot_bgcolor": "#E5ECF6",
          "polar": {
           "angularaxis": {
            "gridcolor": "white",
            "linecolor": "white",
            "ticks": ""
           },
           "bgcolor": "#E5ECF6",
           "radialaxis": {
            "gridcolor": "white",
            "linecolor": "white",
            "ticks": ""
           }
          },
          "scene": {
           "xaxis": {
            "backgroundcolor": "#E5ECF6",
            "gridcolor": "white",
            "gridwidth": 2,
            "linecolor": "white",
            "showbackground": true,
            "ticks": "",
            "zerolinecolor": "white"
           },
           "yaxis": {
            "backgroundcolor": "#E5ECF6",
            "gridcolor": "white",
            "gridwidth": 2,
            "linecolor": "white",
            "showbackground": true,
            "ticks": "",
            "zerolinecolor": "white"
           },
           "zaxis": {
            "backgroundcolor": "#E5ECF6",
            "gridcolor": "white",
            "gridwidth": 2,
            "linecolor": "white",
            "showbackground": true,
            "ticks": "",
            "zerolinecolor": "white"
           }
          },
          "shapedefaults": {
           "line": {
            "color": "#2a3f5f"
           }
          },
          "ternary": {
           "aaxis": {
            "gridcolor": "white",
            "linecolor": "white",
            "ticks": ""
           },
           "baxis": {
            "gridcolor": "white",
            "linecolor": "white",
            "ticks": ""
           },
           "bgcolor": "#E5ECF6",
           "caxis": {
            "gridcolor": "white",
            "linecolor": "white",
            "ticks": ""
           }
          },
          "title": {
           "x": 0.05
          },
          "xaxis": {
           "automargin": true,
           "gridcolor": "white",
           "linecolor": "white",
           "ticks": "",
           "title": {
            "standoff": 15
           },
           "zerolinecolor": "white",
           "zerolinewidth": 2
          },
          "yaxis": {
           "automargin": true,
           "gridcolor": "white",
           "linecolor": "white",
           "ticks": "",
           "title": {
            "standoff": 15
           },
           "zerolinecolor": "white",
           "zerolinewidth": 2
          }
         }
        },
        "title": {
         "text": "Gene CNV frequencies, Ghana An. coluzzii, coeae1f/2f locus"
        },
        "width": 640,
        "xaxis": {
         "anchor": "y",
         "domain": [
          0,
          1
         ],
         "side": "bottom",
         "tickangle": 30,
         "title": {
          "text": "Cohorts"
         }
        },
        "yaxis": {
         "anchor": "x",
         "autorange": "reversed",
         "domain": [
          0,
          1
         ],
         "title": {
          "text": "Variants"
         }
        }
       }
      },
      "text/html": [
       "<div>                            <div id=\"b2b5938d-427c-47a3-b537-7fd03a7a471b\" class=\"plotly-graph-div\" style=\"height:420px; width:640px;\"></div>            <script type=\"text/javascript\">                require([\"plotly\"], function(Plotly) {                    window.PLOTLYENV=window.PLOTLYENV || {};                                    if (document.getElementById(\"b2b5938d-427c-47a3-b537-7fd03a7a471b\")) {                    Plotly.newPlot(                        \"b2b5938d-427c-47a3-b537-7fd03a7a471b\",                        [{\"coloraxis\":\"coloraxis\",\"name\":\"0\",\"texttemplate\":\"%{z:.0%}\",\"x\":[\"CI-CM_gamb_2017\",\"GH-AA_gamb_2017\",\"GH-AH_gamb_2017\",\"GH-AH_gamb_2018\",\"TG-M_gamb_2017\"],\"y\":[\"AGAP006222 amp\",\"AGAP006223 del\",\"AGAP006224 amp\",\"AGAP006226 (Aldehyde_oxidase) amp\",\"AGAP006227 amp\",\"AGAP006228 (COEAE2F) amp\",\"AGAP006233 amp\",\"AGAP006234 amp\",\"AGAP006235 amp\"],\"z\":[[0.02702702702702703,0.0136986301369863,0.005780346820809248,0.031746031746031744,0.0058823529411764705],[0.02702702702702703,0.08904109589041095,0.017341040462427744,0.047619047619047616,0.09411764705882353],[0.0,0.0,0.0,0.0,0.08823529411764706],[0.0,0.0,0.15028901734104047,0.07936507936507936,0.18235294117647058],[0.0,0.0,0.15028901734104047,0.07936507936507936,0.18823529411764706],[0.0,0.02054794520547945,0.16184971098265896,0.07936507936507936,0.18823529411764706],[0.0,0.0,0.0,0.0,0.047058823529411764],[0.0,0.0,0.0,0.0,0.047058823529411764],[0.0,0.0,0.005780346820809248,0.031746031746031744,0.0058823529411764705]],\"type\":\"heatmap\",\"xaxis\":\"x\",\"yaxis\":\"y\",\"hovertemplate\":\"x: %{x}<br>label: %{y}<br>color: %{z}<extra></extra>\"}],                        {\"template\":{\"data\":{\"bar\":[{\"error_x\":{\"color\":\"#2a3f5f\"},\"error_y\":{\"color\":\"#2a3f5f\"},\"marker\":{\"line\":{\"color\":\"#E5ECF6\",\"width\":0.5},\"pattern\":{\"fillmode\":\"overlay\",\"size\":10,\"solidity\":0.2}},\"type\":\"bar\"}],\"barpolar\":[{\"marker\":{\"line\":{\"color\":\"#E5ECF6\",\"width\":0.5},\"pattern\":{\"fillmode\":\"overlay\",\"size\":10,\"solidity\":0.2}},\"type\":\"barpolar\"}],\"carpet\":[{\"aaxis\":{\"endlinecolor\":\"#2a3f5f\",\"gridcolor\":\"white\",\"linecolor\":\"white\",\"minorgridcolor\":\"white\",\"startlinecolor\":\"#2a3f5f\"},\"baxis\":{\"endlinecolor\":\"#2a3f5f\",\"gridcolor\":\"white\",\"linecolor\":\"white\",\"minorgridcolor\":\"white\",\"startlinecolor\":\"#2a3f5f\"},\"type\":\"carpet\"}],\"choropleth\":[{\"colorbar\":{\"outlinewidth\":0,\"ticks\":\"\"},\"type\":\"choropleth\"}],\"contour\":[{\"colorbar\":{\"outlinewidth\":0,\"ticks\":\"\"},\"colorscale\":[[0.0,\"#0d0887\"],[0.1111111111111111,\"#46039f\"],[0.2222222222222222,\"#7201a8\"],[0.3333333333333333,\"#9c179e\"],[0.4444444444444444,\"#bd3786\"],[0.5555555555555556,\"#d8576b\"],[0.6666666666666666,\"#ed7953\"],[0.7777777777777778,\"#fb9f3a\"],[0.8888888888888888,\"#fdca26\"],[1.0,\"#f0f921\"]],\"type\":\"contour\"}],\"contourcarpet\":[{\"colorbar\":{\"outlinewidth\":0,\"ticks\":\"\"},\"type\":\"contourcarpet\"}],\"heatmap\":[{\"colorbar\":{\"outlinewidth\":0,\"ticks\":\"\"},\"colorscale\":[[0.0,\"#0d0887\"],[0.1111111111111111,\"#46039f\"],[0.2222222222222222,\"#7201a8\"],[0.3333333333333333,\"#9c179e\"],[0.4444444444444444,\"#bd3786\"],[0.5555555555555556,\"#d8576b\"],[0.6666666666666666,\"#ed7953\"],[0.7777777777777778,\"#fb9f3a\"],[0.8888888888888888,\"#fdca26\"],[1.0,\"#f0f921\"]],\"type\":\"heatmap\"}],\"heatmapgl\":[{\"colorbar\":{\"outlinewidth\":0,\"ticks\":\"\"},\"colorscale\":[[0.0,\"#0d0887\"],[0.1111111111111111,\"#46039f\"],[0.2222222222222222,\"#7201a8\"],[0.3333333333333333,\"#9c179e\"],[0.4444444444444444,\"#bd3786\"],[0.5555555555555556,\"#d8576b\"],[0.6666666666666666,\"#ed7953\"],[0.7777777777777778,\"#fb9f3a\"],[0.8888888888888888,\"#fdca26\"],[1.0,\"#f0f921\"]],\"type\":\"heatmapgl\"}],\"histogram\":[{\"marker\":{\"pattern\":{\"fillmode\":\"overlay\",\"size\":10,\"solidity\":0.2}},\"type\":\"histogram\"}],\"histogram2d\":[{\"colorbar\":{\"outlinewidth\":0,\"ticks\":\"\"},\"colorscale\":[[0.0,\"#0d0887\"],[0.1111111111111111,\"#46039f\"],[0.2222222222222222,\"#7201a8\"],[0.3333333333333333,\"#9c179e\"],[0.4444444444444444,\"#bd3786\"],[0.5555555555555556,\"#d8576b\"],[0.6666666666666666,\"#ed7953\"],[0.7777777777777778,\"#fb9f3a\"],[0.8888888888888888,\"#fdca26\"],[1.0,\"#f0f921\"]],\"type\":\"histogram2d\"}],\"histogram2dcontour\":[{\"colorbar\":{\"outlinewidth\":0,\"ticks\":\"\"},\"colorscale\":[[0.0,\"#0d0887\"],[0.1111111111111111,\"#46039f\"],[0.2222222222222222,\"#7201a8\"],[0.3333333333333333,\"#9c179e\"],[0.4444444444444444,\"#bd3786\"],[0.5555555555555556,\"#d8576b\"],[0.6666666666666666,\"#ed7953\"],[0.7777777777777778,\"#fb9f3a\"],[0.8888888888888888,\"#fdca26\"],[1.0,\"#f0f921\"]],\"type\":\"histogram2dcontour\"}],\"mesh3d\":[{\"colorbar\":{\"outlinewidth\":0,\"ticks\":\"\"},\"type\":\"mesh3d\"}],\"parcoords\":[{\"line\":{\"colorbar\":{\"outlinewidth\":0,\"ticks\":\"\"}},\"type\":\"parcoords\"}],\"pie\":[{\"automargin\":true,\"type\":\"pie\"}],\"scatter\":[{\"marker\":{\"colorbar\":{\"outlinewidth\":0,\"ticks\":\"\"}},\"type\":\"scatter\"}],\"scatter3d\":[{\"line\":{\"colorbar\":{\"outlinewidth\":0,\"ticks\":\"\"}},\"marker\":{\"colorbar\":{\"outlinewidth\":0,\"ticks\":\"\"}},\"type\":\"scatter3d\"}],\"scattercarpet\":[{\"marker\":{\"colorbar\":{\"outlinewidth\":0,\"ticks\":\"\"}},\"type\":\"scattercarpet\"}],\"scattergeo\":[{\"marker\":{\"colorbar\":{\"outlinewidth\":0,\"ticks\":\"\"}},\"type\":\"scattergeo\"}],\"scattergl\":[{\"marker\":{\"colorbar\":{\"outlinewidth\":0,\"ticks\":\"\"}},\"type\":\"scattergl\"}],\"scattermapbox\":[{\"marker\":{\"colorbar\":{\"outlinewidth\":0,\"ticks\":\"\"}},\"type\":\"scattermapbox\"}],\"scatterpolar\":[{\"marker\":{\"colorbar\":{\"outlinewidth\":0,\"ticks\":\"\"}},\"type\":\"scatterpolar\"}],\"scatterpolargl\":[{\"marker\":{\"colorbar\":{\"outlinewidth\":0,\"ticks\":\"\"}},\"type\":\"scatterpolargl\"}],\"scatterternary\":[{\"marker\":{\"colorbar\":{\"outlinewidth\":0,\"ticks\":\"\"}},\"type\":\"scatterternary\"}],\"surface\":[{\"colorbar\":{\"outlinewidth\":0,\"ticks\":\"\"},\"colorscale\":[[0.0,\"#0d0887\"],[0.1111111111111111,\"#46039f\"],[0.2222222222222222,\"#7201a8\"],[0.3333333333333333,\"#9c179e\"],[0.4444444444444444,\"#bd3786\"],[0.5555555555555556,\"#d8576b\"],[0.6666666666666666,\"#ed7953\"],[0.7777777777777778,\"#fb9f3a\"],[0.8888888888888888,\"#fdca26\"],[1.0,\"#f0f921\"]],\"type\":\"surface\"}],\"table\":[{\"cells\":{\"fill\":{\"color\":\"#EBF0F8\"},\"line\":{\"color\":\"white\"}},\"header\":{\"fill\":{\"color\":\"#C8D4E3\"},\"line\":{\"color\":\"white\"}},\"type\":\"table\"}]},\"layout\":{\"annotationdefaults\":{\"arrowcolor\":\"#2a3f5f\",\"arrowhead\":0,\"arrowwidth\":1},\"autotypenumbers\":\"strict\",\"coloraxis\":{\"colorbar\":{\"outlinewidth\":0,\"ticks\":\"\"}},\"colorscale\":{\"diverging\":[[0,\"#8e0152\"],[0.1,\"#c51b7d\"],[0.2,\"#de77ae\"],[0.3,\"#f1b6da\"],[0.4,\"#fde0ef\"],[0.5,\"#f7f7f7\"],[0.6,\"#e6f5d0\"],[0.7,\"#b8e186\"],[0.8,\"#7fbc41\"],[0.9,\"#4d9221\"],[1,\"#276419\"]],\"sequential\":[[0.0,\"#0d0887\"],[0.1111111111111111,\"#46039f\"],[0.2222222222222222,\"#7201a8\"],[0.3333333333333333,\"#9c179e\"],[0.4444444444444444,\"#bd3786\"],[0.5555555555555556,\"#d8576b\"],[0.6666666666666666,\"#ed7953\"],[0.7777777777777778,\"#fb9f3a\"],[0.8888888888888888,\"#fdca26\"],[1.0,\"#f0f921\"]],\"sequentialminus\":[[0.0,\"#0d0887\"],[0.1111111111111111,\"#46039f\"],[0.2222222222222222,\"#7201a8\"],[0.3333333333333333,\"#9c179e\"],[0.4444444444444444,\"#bd3786\"],[0.5555555555555556,\"#d8576b\"],[0.6666666666666666,\"#ed7953\"],[0.7777777777777778,\"#fb9f3a\"],[0.8888888888888888,\"#fdca26\"],[1.0,\"#f0f921\"]]},\"colorway\":[\"#636efa\",\"#EF553B\",\"#00cc96\",\"#ab63fa\",\"#FFA15A\",\"#19d3f3\",\"#FF6692\",\"#B6E880\",\"#FF97FF\",\"#FECB52\"],\"font\":{\"color\":\"#2a3f5f\"},\"geo\":{\"bgcolor\":\"white\",\"lakecolor\":\"white\",\"landcolor\":\"#E5ECF6\",\"showlakes\":true,\"showland\":true,\"subunitcolor\":\"white\"},\"hoverlabel\":{\"align\":\"left\"},\"hovermode\":\"closest\",\"mapbox\":{\"style\":\"light\"},\"paper_bgcolor\":\"white\",\"plot_bgcolor\":\"#E5ECF6\",\"polar\":{\"angularaxis\":{\"gridcolor\":\"white\",\"linecolor\":\"white\",\"ticks\":\"\"},\"bgcolor\":\"#E5ECF6\",\"radialaxis\":{\"gridcolor\":\"white\",\"linecolor\":\"white\",\"ticks\":\"\"}},\"scene\":{\"xaxis\":{\"backgroundcolor\":\"#E5ECF6\",\"gridcolor\":\"white\",\"gridwidth\":2,\"linecolor\":\"white\",\"showbackground\":true,\"ticks\":\"\",\"zerolinecolor\":\"white\"},\"yaxis\":{\"backgroundcolor\":\"#E5ECF6\",\"gridcolor\":\"white\",\"gridwidth\":2,\"linecolor\":\"white\",\"showbackground\":true,\"ticks\":\"\",\"zerolinecolor\":\"white\"},\"zaxis\":{\"backgroundcolor\":\"#E5ECF6\",\"gridcolor\":\"white\",\"gridwidth\":2,\"linecolor\":\"white\",\"showbackground\":true,\"ticks\":\"\",\"zerolinecolor\":\"white\"}},\"shapedefaults\":{\"line\":{\"color\":\"#2a3f5f\"}},\"ternary\":{\"aaxis\":{\"gridcolor\":\"white\",\"linecolor\":\"white\",\"ticks\":\"\"},\"baxis\":{\"gridcolor\":\"white\",\"linecolor\":\"white\",\"ticks\":\"\"},\"bgcolor\":\"#E5ECF6\",\"caxis\":{\"gridcolor\":\"white\",\"linecolor\":\"white\",\"ticks\":\"\"}},\"title\":{\"x\":0.05},\"xaxis\":{\"automargin\":true,\"gridcolor\":\"white\",\"linecolor\":\"white\",\"ticks\":\"\",\"title\":{\"standoff\":15},\"zerolinecolor\":\"white\",\"zerolinewidth\":2},\"yaxis\":{\"automargin\":true,\"gridcolor\":\"white\",\"linecolor\":\"white\",\"ticks\":\"\",\"title\":{\"standoff\":15},\"zerolinecolor\":\"white\",\"zerolinewidth\":2}}},\"xaxis\":{\"anchor\":\"y\",\"domain\":[0.0,1.0],\"side\":\"bottom\",\"tickangle\":30,\"title\":{\"text\":\"Cohorts\"}},\"yaxis\":{\"anchor\":\"x\",\"domain\":[0.0,1.0],\"autorange\":\"reversed\",\"title\":{\"text\":\"Variants\"}},\"coloraxis\":{\"colorscale\":[[0.0,\"rgb(255,245,240)\"],[0.125,\"rgb(254,224,210)\"],[0.25,\"rgb(252,187,161)\"],[0.375,\"rgb(252,146,114)\"],[0.5,\"rgb(251,106,74)\"],[0.625,\"rgb(239,59,44)\"],[0.75,\"rgb(203,24,29)\"],[0.875,\"rgb(165,15,21)\"],[1.0,\"rgb(103,0,13)\"]],\"cmin\":0,\"cmax\":1,\"colorbar\":{\"title\":{\"text\":\"Frequency\"},\"tickvals\":[0,0.2,0.4,0.6,0.8,1.0],\"ticktext\":[\"0%\",\"20%\",\"40%\",\"60%\",\"80%\",\"100%\"]}},\"title\":{\"text\":\"Gene CNV frequencies, Ghana An. coluzzii, coeae1f/2f locus\"},\"height\":420,\"width\":640},                        {\"responsive\": true}                    ).then(function(){\n",
       "                            \n",
       "var gd = document.getElementById('b2b5938d-427c-47a3-b537-7fd03a7a471b');\n",
       "var x = new MutationObserver(function (mutations, observer) {{\n",
       "        var display = window.getComputedStyle(gd).display;\n",
       "        if (!display || display === 'none') {{\n",
       "            console.log([gd, 'removed!']);\n",
       "            Plotly.purge(gd);\n",
       "            observer.disconnect();\n",
       "        }}\n",
       "}});\n",
       "\n",
       "// Listen for the removal of the full notebook cells\n",
       "var notebookContainer = gd.closest('#notebook-container');\n",
       "if (notebookContainer) {{\n",
       "    x.observe(notebookContainer, {childList: true});\n",
       "}}\n",
       "\n",
       "// Listen for the clearing of the current output cell\n",
       "var outputEl = gd.closest('.output');\n",
       "if (outputEl) {{\n",
       "    x.observe(outputEl, {childList: true});\n",
       "}}\n",
       "\n",
       "                        })                };                });            </script>        </div>"
      ]
     },
     "metadata": {},
     "output_type": "display_data"
    }
   ],
   "source": [
    "coe_region = \"2L:28,520,000-28,580,000\"\n",
    "\n",
    "cnv_freqs_df = ag3.gene_cnv_frequencies(\n",
    "    region=coe_region,\n",
    "    cohorts=\"admin1_year\",\n",
    "    sample_sets=sample_sets,\n",
    "    sample_query=\"taxon == 'gambiae'\",\n",
    ")\n",
    "\n",
    "ag3.plot_frequencies_heatmap(\n",
    "    cnv_freqs_df.query(\"max_af > 0.03\"), \n",
    "    title=\"Gene CNV frequencies, Ghana An. coluzzii, coeae1f/2f locus\"\n",
    ")"
   ]
  },
  {
   "cell_type": "code",
   "execution_count": 224,
   "id": "74aa3f5a",
   "metadata": {},
   "outputs": [],
   "source": [
    "cnv_data = ag3.gene_cnv(region='2L:28520000-28580000', sample_sets=sample_sets)"
   ]
  },
  {
   "cell_type": "code",
   "execution_count": 225,
   "id": "b1b3b03c",
   "metadata": {},
   "outputs": [],
   "source": [
    "cnv_data = cnv_data.to_dataframe().query(\"gene_id == 'AGAP006227'\")\n",
    "coe_dups = cnv_data.query(\"CN_mode > 2.9\")\n",
    "df_samples['location'] = df_samples['location'].str.split(\".\").str.get(0)\n",
    "df_samples = df_samples.merge(cnv_data)\n",
    "sample_names = coe_dups['sample_id'].to_list()"
   ]
  },
  {
   "cell_type": "code",
   "execution_count": 226,
   "id": "5d3d1dc1",
   "metadata": {},
   "outputs": [
    {
     "data": {
      "text/html": [
       "<div>\n",
       "<style scoped>\n",
       "    .dataframe tbody tr th:only-of-type {\n",
       "        vertical-align: middle;\n",
       "    }\n",
       "\n",
       "    .dataframe tbody tr th {\n",
       "        vertical-align: top;\n",
       "    }\n",
       "\n",
       "    .dataframe thead th {\n",
       "        text-align: right;\n",
       "    }\n",
       "</style>\n",
       "<table border=\"1\" class=\"dataframe\">\n",
       "  <thead>\n",
       "    <tr style=\"text-align: right;\">\n",
       "      <th>CN_mode</th>\n",
       "      <th>1</th>\n",
       "      <th>2</th>\n",
       "      <th>3</th>\n",
       "      <th>4</th>\n",
       "      <th>5</th>\n",
       "      <th>6</th>\n",
       "      <th>8</th>\n",
       "      <th>10</th>\n",
       "      <th>12</th>\n",
       "    </tr>\n",
       "    <tr>\n",
       "      <th>location2</th>\n",
       "      <th></th>\n",
       "      <th></th>\n",
       "      <th></th>\n",
       "      <th></th>\n",
       "      <th></th>\n",
       "      <th></th>\n",
       "      <th></th>\n",
       "      <th></th>\n",
       "      <th></th>\n",
       "    </tr>\n",
       "  </thead>\n",
       "  <tbody>\n",
       "    <tr>\n",
       "      <th>Aboisso</th>\n",
       "      <td>0</td>\n",
       "      <td>38</td>\n",
       "      <td>0</td>\n",
       "      <td>0</td>\n",
       "      <td>0</td>\n",
       "      <td>0</td>\n",
       "      <td>0</td>\n",
       "      <td>0</td>\n",
       "      <td>0</td>\n",
       "    </tr>\n",
       "    <tr>\n",
       "      <th>Adansi Apagya</th>\n",
       "      <td>0</td>\n",
       "      <td>16</td>\n",
       "      <td>0</td>\n",
       "      <td>0</td>\n",
       "      <td>0</td>\n",
       "      <td>0</td>\n",
       "      <td>0</td>\n",
       "      <td>0</td>\n",
       "      <td>0</td>\n",
       "    </tr>\n",
       "    <tr>\n",
       "      <th>Adansi-Krom</th>\n",
       "      <td>0</td>\n",
       "      <td>6</td>\n",
       "      <td>0</td>\n",
       "      <td>0</td>\n",
       "      <td>0</td>\n",
       "      <td>0</td>\n",
       "      <td>0</td>\n",
       "      <td>0</td>\n",
       "      <td>0</td>\n",
       "    </tr>\n",
       "    <tr>\n",
       "      <th>Adumanu</th>\n",
       "      <td>0</td>\n",
       "      <td>6</td>\n",
       "      <td>0</td>\n",
       "      <td>0</td>\n",
       "      <td>0</td>\n",
       "      <td>0</td>\n",
       "      <td>0</td>\n",
       "      <td>0</td>\n",
       "      <td>0</td>\n",
       "    </tr>\n",
       "    <tr>\n",
       "      <th>Anhwiaso</th>\n",
       "      <td>0</td>\n",
       "      <td>2</td>\n",
       "      <td>0</td>\n",
       "      <td>0</td>\n",
       "      <td>0</td>\n",
       "      <td>0</td>\n",
       "      <td>0</td>\n",
       "      <td>0</td>\n",
       "      <td>0</td>\n",
       "    </tr>\n",
       "    <tr>\n",
       "      <th>Ankaako</th>\n",
       "      <td>0</td>\n",
       "      <td>12</td>\n",
       "      <td>0</td>\n",
       "      <td>0</td>\n",
       "      <td>0</td>\n",
       "      <td>0</td>\n",
       "      <td>0</td>\n",
       "      <td>0</td>\n",
       "      <td>0</td>\n",
       "    </tr>\n",
       "    <tr>\n",
       "      <th>Annorkrom</th>\n",
       "      <td>0</td>\n",
       "      <td>49</td>\n",
       "      <td>0</td>\n",
       "      <td>0</td>\n",
       "      <td>0</td>\n",
       "      <td>0</td>\n",
       "      <td>0</td>\n",
       "      <td>0</td>\n",
       "      <td>0</td>\n",
       "    </tr>\n",
       "    <tr>\n",
       "      <th>Anwona</th>\n",
       "      <td>0</td>\n",
       "      <td>7</td>\n",
       "      <td>0</td>\n",
       "      <td>0</td>\n",
       "      <td>1</td>\n",
       "      <td>0</td>\n",
       "      <td>0</td>\n",
       "      <td>0</td>\n",
       "      <td>0</td>\n",
       "    </tr>\n",
       "    <tr>\n",
       "      <th>Asonkore</th>\n",
       "      <td>0</td>\n",
       "      <td>5</td>\n",
       "      <td>0</td>\n",
       "      <td>0</td>\n",
       "      <td>0</td>\n",
       "      <td>0</td>\n",
       "      <td>0</td>\n",
       "      <td>0</td>\n",
       "      <td>0</td>\n",
       "    </tr>\n",
       "    <tr>\n",
       "      <th>Avrankou</th>\n",
       "      <td>1</td>\n",
       "      <td>89</td>\n",
       "      <td>0</td>\n",
       "      <td>0</td>\n",
       "      <td>0</td>\n",
       "      <td>0</td>\n",
       "      <td>0</td>\n",
       "      <td>0</td>\n",
       "      <td>0</td>\n",
       "    </tr>\n",
       "    <tr>\n",
       "      <th>Baguida</th>\n",
       "      <td>2</td>\n",
       "      <td>142</td>\n",
       "      <td>7</td>\n",
       "      <td>0</td>\n",
       "      <td>25</td>\n",
       "      <td>1</td>\n",
       "      <td>2</td>\n",
       "      <td>0</td>\n",
       "      <td>0</td>\n",
       "    </tr>\n",
       "    <tr>\n",
       "      <th>Bogobiri West</th>\n",
       "      <td>0</td>\n",
       "      <td>2</td>\n",
       "      <td>0</td>\n",
       "      <td>0</td>\n",
       "      <td>0</td>\n",
       "      <td>0</td>\n",
       "      <td>0</td>\n",
       "      <td>0</td>\n",
       "      <td>0</td>\n",
       "    </tr>\n",
       "    <tr>\n",
       "      <th>Bogyawe</th>\n",
       "      <td>0</td>\n",
       "      <td>5</td>\n",
       "      <td>0</td>\n",
       "      <td>0</td>\n",
       "      <td>0</td>\n",
       "      <td>0</td>\n",
       "      <td>0</td>\n",
       "      <td>0</td>\n",
       "      <td>0</td>\n",
       "    </tr>\n",
       "    <tr>\n",
       "      <th>Domenase</th>\n",
       "      <td>0</td>\n",
       "      <td>57</td>\n",
       "      <td>0</td>\n",
       "      <td>0</td>\n",
       "      <td>0</td>\n",
       "      <td>0</td>\n",
       "      <td>0</td>\n",
       "      <td>0</td>\n",
       "      <td>0</td>\n",
       "    </tr>\n",
       "    <tr>\n",
       "      <th>Dompoase</th>\n",
       "      <td>0</td>\n",
       "      <td>2</td>\n",
       "      <td>0</td>\n",
       "      <td>0</td>\n",
       "      <td>1</td>\n",
       "      <td>0</td>\n",
       "      <td>0</td>\n",
       "      <td>0</td>\n",
       "      <td>0</td>\n",
       "    </tr>\n",
       "    <tr>\n",
       "      <th>Fumso</th>\n",
       "      <td>0</td>\n",
       "      <td>4</td>\n",
       "      <td>0</td>\n",
       "      <td>0</td>\n",
       "      <td>0</td>\n",
       "      <td>0</td>\n",
       "      <td>0</td>\n",
       "      <td>0</td>\n",
       "      <td>0</td>\n",
       "    </tr>\n",
       "    <tr>\n",
       "      <th>Jacobu</th>\n",
       "      <td>0</td>\n",
       "      <td>5</td>\n",
       "      <td>0</td>\n",
       "      <td>0</td>\n",
       "      <td>0</td>\n",
       "      <td>0</td>\n",
       "      <td>0</td>\n",
       "      <td>0</td>\n",
       "      <td>0</td>\n",
       "    </tr>\n",
       "    <tr>\n",
       "      <th>Kente</th>\n",
       "      <td>0</td>\n",
       "      <td>23</td>\n",
       "      <td>1</td>\n",
       "      <td>0</td>\n",
       "      <td>0</td>\n",
       "      <td>0</td>\n",
       "      <td>0</td>\n",
       "      <td>0</td>\n",
       "      <td>0</td>\n",
       "    </tr>\n",
       "    <tr>\n",
       "      <th>Kokotro</th>\n",
       "      <td>0</td>\n",
       "      <td>28</td>\n",
       "      <td>0</td>\n",
       "      <td>0</td>\n",
       "      <td>0</td>\n",
       "      <td>0</td>\n",
       "      <td>0</td>\n",
       "      <td>0</td>\n",
       "      <td>0</td>\n",
       "    </tr>\n",
       "    <tr>\n",
       "      <th>Koniyaw</th>\n",
       "      <td>0</td>\n",
       "      <td>32</td>\n",
       "      <td>0</td>\n",
       "      <td>0</td>\n",
       "      <td>0</td>\n",
       "      <td>0</td>\n",
       "      <td>0</td>\n",
       "      <td>0</td>\n",
       "      <td>0</td>\n",
       "    </tr>\n",
       "    <tr>\n",
       "      <th>Korle-Bu</th>\n",
       "      <td>6</td>\n",
       "      <td>262</td>\n",
       "      <td>0</td>\n",
       "      <td>0</td>\n",
       "      <td>0</td>\n",
       "      <td>0</td>\n",
       "      <td>0</td>\n",
       "      <td>0</td>\n",
       "      <td>0</td>\n",
       "    </tr>\n",
       "    <tr>\n",
       "      <th>Madina_North</th>\n",
       "      <td>7</td>\n",
       "      <td>192</td>\n",
       "      <td>0</td>\n",
       "      <td>0</td>\n",
       "      <td>0</td>\n",
       "      <td>0</td>\n",
       "      <td>0</td>\n",
       "      <td>1</td>\n",
       "      <td>0</td>\n",
       "    </tr>\n",
       "    <tr>\n",
       "      <th>Mensonso</th>\n",
       "      <td>0</td>\n",
       "      <td>1</td>\n",
       "      <td>0</td>\n",
       "      <td>0</td>\n",
       "      <td>0</td>\n",
       "      <td>0</td>\n",
       "      <td>0</td>\n",
       "      <td>0</td>\n",
       "      <td>0</td>\n",
       "    </tr>\n",
       "    <tr>\n",
       "      <th>Mprakyire</th>\n",
       "      <td>0</td>\n",
       "      <td>10</td>\n",
       "      <td>0</td>\n",
       "      <td>0</td>\n",
       "      <td>0</td>\n",
       "      <td>0</td>\n",
       "      <td>0</td>\n",
       "      <td>0</td>\n",
       "      <td>0</td>\n",
       "    </tr>\n",
       "    <tr>\n",
       "      <th>New Edubiase</th>\n",
       "      <td>0</td>\n",
       "      <td>40</td>\n",
       "      <td>0</td>\n",
       "      <td>0</td>\n",
       "      <td>2</td>\n",
       "      <td>0</td>\n",
       "      <td>0</td>\n",
       "      <td>0</td>\n",
       "      <td>0</td>\n",
       "    </tr>\n",
       "    <tr>\n",
       "      <th>Nkotumso</th>\n",
       "      <td>0</td>\n",
       "      <td>29</td>\n",
       "      <td>0</td>\n",
       "      <td>1</td>\n",
       "      <td>0</td>\n",
       "      <td>0</td>\n",
       "      <td>0</td>\n",
       "      <td>0</td>\n",
       "      <td>0</td>\n",
       "    </tr>\n",
       "    <tr>\n",
       "      <th>Obuasi</th>\n",
       "      <td>1</td>\n",
       "      <td>163</td>\n",
       "      <td>1</td>\n",
       "      <td>1</td>\n",
       "      <td>26</td>\n",
       "      <td>4</td>\n",
       "      <td>1</td>\n",
       "      <td>0</td>\n",
       "      <td>1</td>\n",
       "    </tr>\n",
       "    <tr>\n",
       "      <th>Odumto</th>\n",
       "      <td>0</td>\n",
       "      <td>34</td>\n",
       "      <td>0</td>\n",
       "      <td>0</td>\n",
       "      <td>0</td>\n",
       "      <td>0</td>\n",
       "      <td>0</td>\n",
       "      <td>0</td>\n",
       "      <td>0</td>\n",
       "    </tr>\n",
       "    <tr>\n",
       "      <th>Pokukrom</th>\n",
       "      <td>0</td>\n",
       "      <td>36</td>\n",
       "      <td>1</td>\n",
       "      <td>0</td>\n",
       "      <td>0</td>\n",
       "      <td>0</td>\n",
       "      <td>0</td>\n",
       "      <td>0</td>\n",
       "      <td>0</td>\n",
       "    </tr>\n",
       "    <tr>\n",
       "      <th>Prisintease</th>\n",
       "      <td>0</td>\n",
       "      <td>24</td>\n",
       "      <td>0</td>\n",
       "      <td>0</td>\n",
       "      <td>0</td>\n",
       "      <td>0</td>\n",
       "      <td>0</td>\n",
       "      <td>0</td>\n",
       "      <td>0</td>\n",
       "    </tr>\n",
       "    <tr>\n",
       "      <th>Subin Camp</th>\n",
       "      <td>0</td>\n",
       "      <td>2</td>\n",
       "      <td>0</td>\n",
       "      <td>0</td>\n",
       "      <td>0</td>\n",
       "      <td>0</td>\n",
       "      <td>0</td>\n",
       "      <td>0</td>\n",
       "      <td>0</td>\n",
       "    </tr>\n",
       "    <tr>\n",
       "      <th>Wamase</th>\n",
       "      <td>0</td>\n",
       "      <td>16</td>\n",
       "      <td>0</td>\n",
       "      <td>0</td>\n",
       "      <td>0</td>\n",
       "      <td>0</td>\n",
       "      <td>0</td>\n",
       "      <td>0</td>\n",
       "      <td>0</td>\n",
       "    </tr>\n",
       "    <tr>\n",
       "      <th>Watreso</th>\n",
       "      <td>0</td>\n",
       "      <td>19</td>\n",
       "      <td>0</td>\n",
       "      <td>0</td>\n",
       "      <td>0</td>\n",
       "      <td>0</td>\n",
       "      <td>0</td>\n",
       "      <td>0</td>\n",
       "      <td>0</td>\n",
       "    </tr>\n",
       "    <tr>\n",
       "      <th>Yadome</th>\n",
       "      <td>0</td>\n",
       "      <td>6</td>\n",
       "      <td>0</td>\n",
       "      <td>0</td>\n",
       "      <td>0</td>\n",
       "      <td>0</td>\n",
       "      <td>0</td>\n",
       "      <td>0</td>\n",
       "      <td>0</td>\n",
       "    </tr>\n",
       "  </tbody>\n",
       "</table>\n",
       "</div>"
      ],
      "text/plain": [
       "CN_mode        1    2   3   4   5   6   8   10  12\n",
       "location2                                         \n",
       "Aboisso         0   38   0   0   0   0   0   0   0\n",
       "Adansi Apagya   0   16   0   0   0   0   0   0   0\n",
       "Adansi-Krom     0    6   0   0   0   0   0   0   0\n",
       "Adumanu         0    6   0   0   0   0   0   0   0\n",
       "Anhwiaso        0    2   0   0   0   0   0   0   0\n",
       "Ankaako         0   12   0   0   0   0   0   0   0\n",
       "Annorkrom       0   49   0   0   0   0   0   0   0\n",
       "Anwona          0    7   0   0   1   0   0   0   0\n",
       "Asonkore        0    5   0   0   0   0   0   0   0\n",
       "Avrankou        1   89   0   0   0   0   0   0   0\n",
       "Baguida         2  142   7   0  25   1   2   0   0\n",
       "Bogobiri West   0    2   0   0   0   0   0   0   0\n",
       "Bogyawe         0    5   0   0   0   0   0   0   0\n",
       "Domenase        0   57   0   0   0   0   0   0   0\n",
       "Dompoase        0    2   0   0   1   0   0   0   0\n",
       "Fumso           0    4   0   0   0   0   0   0   0\n",
       "Jacobu          0    5   0   0   0   0   0   0   0\n",
       "Kente           0   23   1   0   0   0   0   0   0\n",
       "Kokotro         0   28   0   0   0   0   0   0   0\n",
       "Koniyaw         0   32   0   0   0   0   0   0   0\n",
       "Korle-Bu        6  262   0   0   0   0   0   0   0\n",
       "Madina_North    7  192   0   0   0   0   0   1   0\n",
       "Mensonso        0    1   0   0   0   0   0   0   0\n",
       "Mprakyire       0   10   0   0   0   0   0   0   0\n",
       "New Edubiase    0   40   0   0   2   0   0   0   0\n",
       "Nkotumso        0   29   0   1   0   0   0   0   0\n",
       "Obuasi          1  163   1   1  26   4   1   0   1\n",
       "Odumto          0   34   0   0   0   0   0   0   0\n",
       "Pokukrom        0   36   1   0   0   0   0   0   0\n",
       "Prisintease     0   24   0   0   0   0   0   0   0\n",
       "Subin Camp      0    2   0   0   0   0   0   0   0\n",
       "Wamase          0   16   0   0   0   0   0   0   0\n",
       "Watreso         0   19   0   0   0   0   0   0   0\n",
       "Yadome          0    6   0   0   0   0   0   0   0"
      ]
     },
     "execution_count": 226,
     "metadata": {},
     "output_type": "execute_result"
    }
   ],
   "source": [
    "import pandas as pd\n",
    "pd.crosstab(df_samples['location2'], df_samples['CN_mode'])"
   ]
  },
  {
   "cell_type": "markdown",
   "id": "5f68c27a",
   "metadata": {},
   "source": [
    "### Looking at coverage (HMM)"
   ]
  },
  {
   "cell_type": "markdown",
   "id": "fc2e7c1a",
   "metadata": {},
   "source": [
    "Lets check how legitimate the CNV looks by investigating the HMM"
   ]
  },
  {
   "cell_type": "code",
   "execution_count": 180,
   "id": "e48dded9",
   "metadata": {
    "scrolled": false
   },
   "outputs": [
    {
     "data": {
      "text/html": [
       "\n",
       "\n",
       "\n",
       "\n",
       "\n",
       "\n",
       "  <div class=\"bk-root\" id=\"0314f5b1-10b5-40bc-bce9-9a4fa8f5bade\" data-root-id=\"115840\"></div>\n"
      ]
     },
     "metadata": {},
     "output_type": "display_data"
    },
    {
     "data": {
      "application/javascript": [
       "(function(root) {\n",
       "  function embed_document(root) {\n",
       "    \n",
       "  const docs_json = {\"bb690058-1073-447a-b16d-28c74719934b\":{\"defs\":[],\"roots\":{\"references\":[{\"attributes\":{\"children\":[{\"id\":\"115839\"},{\"id\":\"115837\"}]},\"id\":\"115840\",\"type\":\"Column\"},{\"attributes\":{\"bottom\":{\"field\":\"bottom\"},\"fill_alpha\":{\"value\":0.1},\"fill_color\":{\"value\":\"#1f77b4\"},\"hatch_alpha\":{\"value\":0.1},\"left\":{\"field\":\"start\"},\"line_alpha\":{\"value\":0.1},\"line_color\":{\"value\":\"#1f77b4\"},\"line_width\":{\"value\":0.5},\"right\":{\"field\":\"end\"},\"top\":{\"field\":\"top\"}},\"id\":\"115810\",\"type\":\"Quad\"},{\"attributes\":{},\"id\":\"115718\",\"type\":\"ResetTool\"},{\"attributes\":{\"axis\":{\"id\":\"115777\"},\"coordinates\":null,\"group\":null,\"ticker\":null},\"id\":\"115780\",\"type\":\"Grid\"},{\"attributes\":{},\"id\":\"115739\",\"type\":\"UnionRenderers\"},{\"attributes\":{\"label\":{\"value\":\"HMM\"},\"renderers\":[{\"id\":\"115748\"}]},\"id\":\"115761\",\"type\":\"LegendItem\"},{\"attributes\":{\"coordinates\":null,\"group\":null,\"text\":\"CNV HMM - VBS19245-5563STDY7800333 (1244-VO-GH-YAWSON-VMF00051)\"},\"id\":\"115698\",\"type\":\"Title\"},{\"attributes\":{\"toolbars\":[{\"id\":\"115719\"},{\"id\":\"115791\"}],\"tools\":[{\"id\":\"115696\"},{\"id\":\"115715\"},{\"id\":\"115716\"},{\"id\":\"115717\"},{\"id\":\"115718\"},{\"id\":\"115766\"},{\"id\":\"115785\"},{\"id\":\"115786\"},{\"id\":\"115787\"},{\"id\":\"115788\"},{\"id\":\"115789\"},{\"id\":\"115790\"}]},\"id\":\"115838\",\"type\":\"ProxyToolbar\"},{\"attributes\":{},\"id\":\"115705\",\"type\":\"LinearScale\"},{\"attributes\":{\"active_drag\":{\"id\":\"115785\"},\"active_scroll\":{\"id\":\"115766\"},\"tools\":[{\"id\":\"115766\"},{\"id\":\"115785\"},{\"id\":\"115786\"},{\"id\":\"115787\"},{\"id\":\"115788\"},{\"id\":\"115789\"},{\"id\":\"115790\"}]},\"id\":\"115791\",\"type\":\"Toolbar\"},{\"attributes\":{\"dimensions\":\"width\",\"maintain_focus\":false},\"id\":\"115766\",\"type\":\"WheelZoomTool\"},{\"attributes\":{\"end\":7},\"id\":\"115701\",\"type\":\"Range1d\"},{\"attributes\":{},\"id\":\"115703\",\"type\":\"LinearScale\"},{\"attributes\":{\"axis\":{\"id\":\"115707\"},\"coordinates\":null,\"group\":null,\"ticker\":null},\"id\":\"115710\",\"type\":\"Grid\"},{\"attributes\":{\"dimensions\":\"width\",\"maintain_focus\":false},\"id\":\"115696\",\"type\":\"WheelZoomTool\"},{\"attributes\":{\"below\":[{\"id\":\"115707\"}],\"center\":[{\"id\":\"115710\"},{\"id\":\"115714\"},{\"id\":\"115741\"}],\"height\":170,\"left\":[{\"id\":\"115711\"}],\"renderers\":[{\"id\":\"115730\"},{\"id\":\"115748\"}],\"right\":[{\"id\":\"115741\"}],\"title\":{\"id\":\"115698\"},\"toolbar\":{\"id\":\"115719\"},\"toolbar_location\":null,\"width\":800,\"x_range\":{\"id\":\"115695\"},\"x_scale\":{\"id\":\"115703\"},\"y_range\":{\"id\":\"115701\"},\"y_scale\":{\"id\":\"115705\"}},\"id\":\"115697\",\"subtype\":\"Figure\",\"type\":\"Plot\"},{\"attributes\":{\"line_alpha\":0.2,\"line_color\":\"#1f77b4\",\"line_width\":2,\"x\":{\"field\":\"variant_midpoint\"},\"y\":{\"field\":\"call_CN\"}},\"id\":\"115747\",\"type\":\"Line\"},{\"attributes\":{\"axis_label\":\"Contig 2L position (bp)\",\"coordinates\":null,\"formatter\":{\"id\":\"115764\"},\"group\":null,\"major_label_policy\":{\"id\":\"115738\"},\"ticker\":{\"id\":\"115708\"},\"visible\":false},\"id\":\"115707\",\"type\":\"LinearAxis\"},{\"attributes\":{\"data\":{\"call_CN\":{\"__ndarray__\":\"AgICAgICAgICAgICAgICAgICAgICAgICAgICAgICAgICAgICAgICAgICAgICAgICAgICAgICAgICAgICAgICAgICAgICAgICAgICAgUFBQUFBQUFBQUFBQUFBQUFBQUFBQUFBQUFBQUCAgICAgICAgICAgICAgICAgICAgICAgICAgICAgICAgICAgICAgICAgICAgICAgICAgICAgICAgICAgICAgICAgICAgICAgICAgICAgICAgICAgICAgICAgICAgICAgI=\",\"dtype\":\"int8\",\"order\":\"little\",\"shape\":[200]},\"call_NormCov\":{\"__ndarray__\":\"sp0HQGDl8D9qvPQ/AAAAQArXA0DhevQ/9ij8P+XQEkB7FN4/sHL4P42XFkAIrBxAUI0HQJZDC0DP9zNAGy8NQPT91D8ZBNY/RrbDP7KdB0ArhwZAy6EVQBsv7T/0/dQ/1XjpPwAAAEDVeOk/mpmJP76fqj91k/g/AAAgQIXr4T+F6+E/ke3sPwrXA0BzaOE/K4fWP7KdB0AK1wNA4Xr0P4Xr4T+PwgVAXrrZPzMz4z9GtgNADi3SP4cW6T8tsu0/y6EFQOXQMkBOYghAy6HlPz0KL0BYORxA7FH4Pw4t0j9eutk/jZceQCPbAUBGtktAc2gJQOOlA0BQjQdAIbDiPwaBxT+mmwxAYOXwP1yPEkA3iQlAObT4P23nqz8ZBNY/NV7aPyPbAUBI4UJAj8IFQMUgtECgGp9AAACYQNV4nUBOYrxAzcysQBfZtkCwcrBAPQq/QFK4wkCmm8hAukmkQLpJpECgGpNAnu+rQH0/pUB56ZZAGy+9QD81wkD+1JhARrabQFK4rkA5tLBAYOWwQBsv0UAGgbVA30+5QLByoEDsUfg/qMYDQAAAAEDHSwdAN4kJQNNNEkB9P+U/c2gJQFCNR0Aj2wFAhevhP7KdB0CoxgNACtcbQHWT+D+wchhAXI8SQN0kHkBokd0/I9vJP7KdB0BzaClA3SQ+QKwcMkB/ahRAqMYDQMuh5T8EVs4/I9sBQOF69D+HFuk/ZmYmQBkEDkA3iQlANV46QGq8FEAbL+0/y6HlPy/d9D8j2wFA9P3UP+F69D/HSw9APQoPQHnpFkD2KPw/wcrxPwisBEA9Cg9AnMTwPxkE1j9qvPQ/5/sZQNnO1z/LoQVAqMYDQI2XHkDsUfg/Gy/tPwaBBUBzaAlAhevhP3NoYUDpJtE//tQYQJqZGUAAAABAObT4PwAAAEDVeOk/lkMLQJzE8D85tPg/oBo/QDm0EEDTTeI/I9sBQNEiC0CoxgNAIbDCP+583z/jpQNAf2oUQGDl8D/l0BJAx0sPQJHt7D+F6wFAaJHdPyuH1j+wciBArkcJQOxRyD+wcvg/rkcJQLx0C0A=\",\"dtype\":\"float32\",\"order\":\"little\",\"shape\":[200]},\"samples\":[\"VBS19245-5563STDY7800333\",\"VBS19245-5563STDY7800333\",\"VBS19245-5563STDY7800333\",\"VBS19245-5563STDY7800333\",\"VBS19245-5563STDY7800333\",\"VBS19245-5563STDY7800333\",\"VBS19245-5563STDY7800333\",\"VBS19245-5563STDY7800333\",\"VBS19245-5563STDY7800333\",\"VBS19245-5563STDY7800333\",\"VBS19245-5563STDY7800333\",\"VBS19245-5563STDY7800333\",\"VBS19245-5563STDY7800333\",\"VBS19245-5563STDY7800333\",\"VBS19245-5563STDY7800333\",\"VBS19245-5563STDY7800333\",\"VBS19245-5563STDY7800333\",\"VBS19245-5563STDY7800333\",\"VBS19245-5563STDY7800333\",\"VBS19245-5563STDY7800333\",\"VBS19245-5563STDY7800333\",\"VBS19245-5563STDY7800333\",\"VBS19245-5563STDY7800333\",\"VBS19245-5563STDY7800333\",\"VBS19245-5563STDY7800333\",\"VBS19245-5563STDY7800333\",\"VBS19245-5563STDY7800333\",\"VBS19245-5563STDY7800333\",\"VBS19245-5563STDY7800333\",\"VBS19245-5563STDY7800333\",\"VBS19245-5563STDY7800333\",\"VBS19245-5563STDY7800333\",\"VBS19245-5563STDY7800333\",\"VBS19245-5563STDY7800333\",\"VBS19245-5563STDY7800333\",\"VBS19245-5563STDY7800333\",\"VBS19245-5563STDY7800333\",\"VBS19245-5563STDY7800333\",\"VBS19245-5563STDY7800333\",\"VBS19245-5563STDY7800333\",\"VBS19245-5563STDY7800333\",\"VBS19245-5563STDY7800333\",\"VBS19245-5563STDY7800333\",\"VBS19245-5563STDY7800333\",\"VBS19245-5563STDY7800333\",\"VBS19245-5563STDY7800333\",\"VBS19245-5563STDY7800333\",\"VBS19245-5563STDY7800333\",\"VBS19245-5563STDY7800333\",\"VBS19245-5563STDY7800333\",\"VBS19245-5563STDY7800333\",\"VBS19245-5563STDY7800333\",\"VBS19245-5563STDY7800333\",\"VBS19245-5563STDY7800333\",\"VBS19245-5563STDY7800333\",\"VBS19245-5563STDY7800333\",\"VBS19245-5563STDY7800333\",\"VBS19245-5563STDY7800333\",\"VBS19245-5563STDY7800333\",\"VBS19245-5563STDY7800333\",\"VBS19245-5563STDY7800333\",\"VBS19245-5563STDY7800333\",\"VBS19245-5563STDY7800333\",\"VBS19245-5563STDY7800333\",\"VBS19245-5563STDY7800333\",\"VBS19245-5563STDY7800333\",\"VBS19245-5563STDY7800333\",\"VBS19245-5563STDY7800333\",\"VBS19245-5563STDY7800333\",\"VBS19245-5563STDY7800333\",\"VBS19245-5563STDY7800333\",\"VBS19245-5563STDY7800333\",\"VBS19245-5563STDY7800333\",\"VBS19245-5563STDY7800333\",\"VBS19245-5563STDY7800333\",\"VBS19245-5563STDY7800333\",\"VBS19245-5563STDY7800333\",\"VBS19245-5563STDY7800333\",\"VBS19245-5563STDY7800333\",\"VBS19245-5563STDY7800333\",\"VBS19245-5563STDY7800333\",\"VBS19245-5563STDY7800333\",\"VBS19245-5563STDY7800333\",\"VBS19245-5563STDY7800333\",\"VBS19245-5563STDY7800333\",\"VBS19245-5563STDY7800333\",\"VBS19245-5563STDY7800333\",\"VBS19245-5563STDY7800333\",\"VBS19245-5563STDY7800333\",\"VBS19245-5563STDY7800333\",\"VBS19245-5563STDY7800333\",\"VBS19245-5563STDY7800333\",\"VBS19245-5563STDY7800333\",\"VBS19245-5563STDY7800333\",\"VBS19245-5563STDY7800333\",\"VBS19245-5563STDY7800333\",\"VBS19245-5563STDY7800333\",\"VBS19245-5563STDY7800333\",\"VBS19245-5563STDY7800333\",\"VBS19245-5563STDY7800333\",\"VBS19245-5563STDY7800333\",\"VBS19245-5563STDY7800333\",\"VBS19245-5563STDY7800333\",\"VBS19245-5563STDY7800333\",\"VBS19245-5563STDY7800333\",\"VBS19245-5563STDY7800333\",\"VBS19245-5563STDY7800333\",\"VBS19245-5563STDY7800333\",\"VBS19245-5563STDY7800333\",\"VBS19245-5563STDY7800333\",\"VBS19245-5563STDY7800333\",\"VBS19245-5563STDY7800333\",\"VBS19245-5563STDY7800333\",\"VBS19245-5563STDY7800333\",\"VBS19245-5563STDY7800333\",\"VBS19245-5563STDY7800333\",\"VBS19245-5563STDY7800333\",\"VBS19245-5563STDY7800333\",\"VBS19245-5563STDY7800333\",\"VBS19245-5563STDY7800333\",\"VBS19245-5563STDY7800333\",\"VBS19245-5563STDY7800333\",\"VBS19245-5563STDY7800333\",\"VBS19245-5563STDY7800333\",\"VBS19245-5563STDY7800333\",\"VBS19245-5563STDY7800333\",\"VBS19245-5563STDY7800333\",\"VBS19245-5563STDY7800333\",\"VBS19245-5563STDY7800333\",\"VBS19245-5563STDY7800333\",\"VBS19245-5563STDY7800333\",\"VBS19245-5563STDY7800333\",\"VBS19245-5563STDY7800333\",\"VBS19245-5563STDY7800333\",\"VBS19245-5563STDY7800333\",\"VBS19245-5563STDY7800333\",\"VBS19245-5563STDY7800333\",\"VBS19245-5563STDY7800333\",\"VBS19245-5563STDY7800333\",\"VBS19245-5563STDY7800333\",\"VBS19245-5563STDY7800333\",\"VBS19245-5563STDY7800333\",\"VBS19245-5563STDY7800333\",\"VBS19245-5563STDY7800333\",\"VBS19245-5563STDY7800333\",\"VBS19245-5563STDY7800333\",\"VBS19245-5563STDY7800333\",\"VBS19245-5563STDY7800333\",\"VBS19245-5563STDY7800333\",\"VBS19245-5563STDY7800333\",\"VBS19245-5563STDY7800333\",\"VBS19245-5563STDY7800333\",\"VBS19245-5563STDY7800333\",\"VBS19245-5563STDY7800333\",\"VBS19245-5563STDY7800333\",\"VBS19245-5563STDY7800333\",\"VBS19245-5563STDY7800333\",\"VBS19245-5563STDY7800333\",\"VBS19245-5563STDY7800333\",\"VBS19245-5563STDY7800333\",\"VBS19245-5563STDY7800333\",\"VBS19245-5563STDY7800333\",\"VBS19245-5563STDY7800333\",\"VBS19245-5563STDY7800333\",\"VBS19245-5563STDY7800333\",\"VBS19245-5563STDY7800333\",\"VBS19245-5563STDY7800333\",\"VBS19245-5563STDY7800333\",\"VBS19245-5563STDY7800333\",\"VBS19245-5563STDY7800333\",\"VBS19245-5563STDY7800333\",\"VBS19245-5563STDY7800333\",\"VBS19245-5563STDY7800333\",\"VBS19245-5563STDY7800333\",\"VBS19245-5563STDY7800333\",\"VBS19245-5563STDY7800333\",\"VBS19245-5563STDY7800333\",\"VBS19245-5563STDY7800333\",\"VBS19245-5563STDY7800333\",\"VBS19245-5563STDY7800333\",\"VBS19245-5563STDY7800333\",\"VBS19245-5563STDY7800333\",\"VBS19245-5563STDY7800333\",\"VBS19245-5563STDY7800333\",\"VBS19245-5563STDY7800333\",\"VBS19245-5563STDY7800333\",\"VBS19245-5563STDY7800333\",\"VBS19245-5563STDY7800333\",\"VBS19245-5563STDY7800333\",\"VBS19245-5563STDY7800333\",\"VBS19245-5563STDY7800333\",\"VBS19245-5563STDY7800333\",\"VBS19245-5563STDY7800333\",\"VBS19245-5563STDY7800333\",\"VBS19245-5563STDY7800333\",\"VBS19245-5563STDY7800333\",\"VBS19245-5563STDY7800333\",\"VBS19245-5563STDY7800333\",\"VBS19245-5563STDY7800333\",\"VBS19245-5563STDY7800333\"],\"variant_contig\":{\"__ndarray__\":\"AQEBAQEBAQEBAQEBAQEBAQEBAQEBAQEBAQEBAQEBAQEBAQEBAQEBAQEBAQEBAQEBAQEBAQEBAQEBAQEBAQEBAQEBAQEBAQEBAQEBAQEBAQEBAQEBAQEBAQEBAQEBAQEBAQEBAQEBAQEBAQEBAQEBAQEBAQEBAQEBAQEBAQEBAQEBAQEBAQEBAQEBAQEBAQEBAQEBAQEBAQEBAQEBAQEBAQEBAQEBAQEBAQEBAQEBAQEBAQEBAQEBAQEBAQEBAQEBAQEBAQEBAQE=\",\"dtype\":\"uint8\",\"order\":\"little\",\"shape\":[200]},\"variant_end\":{\"__ndarray__\":\"pC6zAdAvswH8MLMBKDKzAVQzswGANLMBrDWzAdg2swEEOLMBMDmzAVw6swGIO7MBtDyzAeA9swEMP7MBOECzAWRBswGQQrMBvEOzAehEswEURrMBQEezAWxIswGYSbMBxEqzAfBLswEcTbMBSE6zAXRPswGgULMBzFGzAfhSswEkVLMBUFWzAXxWswGoV7MB1FizAQBaswEsW7MBWFyzAYRdswGwXrMB3F+zAQhhswE0YrMBYGOzAYxkswG4ZbMB5GazARBoswE8abMBaGqzAZRrswHAbLMB7G2zARhvswFEcLMBcHGzAZxyswHIc7MB9HSzASB2swFMd7MBeHizAaR5swHQerMB/HuzASh9swFUfrMBgH+zAayAswHYgbMBBIOzATCEswFchbMBiIazAbSHswHgiLMBDIqzATiLswFkjLMBkI2zAbyOswHoj7MBFJGzAUCSswFsk7MBmJSzAcSVswHwlrMBHJizAUiZswF0mrMBoJuzAcycswH4nbMBJJ+zAVCgswF8obMBqKKzAdSjswEApbMBLKazAVinswGEqLMBsKmzAdyqswEIrLMBNK2zAWCuswGMr7MBuLCzAeSxswEQs7MBPLSzAWi1swGUtrMBwLezAey4swEYurMBRLuzAXC8swGcvbMByL6zAfS/swEgwbMBTMKzAXjDswGkxLMB0MWzAfzGswEoyLMBVMmzAYDKswGsy7MB2MyzAQTOswEwz7MBXNCzAbTSswHg07MBDNWzATjWswFk17MBkNizAbzZswHo2rMBFNyzAUDdswFs3rMBmN+zAcTgswHw4bMBHOOzAUjkswF05bMBoOazAcznswH46LMBJOqzAVDrswF87LMBqO2zAdTuswEA8LMBLPGzAVjyswGE87MBsPSzAdz1swEI97MBNPizAWD5swGM+rMBuPuzAeT8swEQ/rMBPP+zAWgAtAGUAbQBwAK0AewDtAEYBbQBRAa0AXAHtAGcCLQByAm0AfQKtAEgDLQBTA20AXgOtAGkD7QB0BC0AfwRtAEoE7QBVBS0AYAVtAGsFrQB2Be0AQQZtAE=\",\"dtype\":\"int32\",\"order\":\"little\",\"shape\":[200]},\"variant_midpoint\":{\"__ndarray__\":\"Dy6zATsvswFnMLMBkzGzAb8yswHrM7MBFzWzAUM2swFvN7MBmzizAcc5swHzOrMBHzyzAUs9swF3PrMBoz+zAc9AswH7QbMBJ0OzAVNEswF/RbMBq0azAddHswEDSbMBL0qzAVtLswGHTLMBs02zAd9OswELULMBN1GzAWNSswGPU7MBu1SzAedVswETV7MBP1izAWtZswGXWrMBw1uzAe9cswEbXrMBR1+zAXNgswGfYbMBy2KzAfdjswEjZbMBT2azAXtnswGnaLMB02mzAf9qswErbLMBV22zAYNuswGvb7MB23CzAQdyswEzc7MBX3SzAYt1swG3drMB43ezAQ95swE7erMBZ3uzAZN8swG/fbMB636zAReAswFDgbMBb4KzAZuDswHHhLMB84WzAR+HswFLiLMBd4mzAaOKswHPi7MB+4yzASeOswFTj7MBf5CzAauRswHXkrMBA5SzAS+VswFblrMBh5ezAbOYswHfmbMBC5uzATecswFjnbMBj56zAbufswHnoLMBE6KzAT+jswFrpLMBl6WzAcOmswHvp7MBG6mzAUeqswFzq7MBn6yzAcutswH3rrMBI7CzAU+xswF7srMBp7OzAdO0swH/tbMBK7ezAVe4swGDubMBr7qzAdu7swEHvbMBM76zAV+/swGLwLMBt8GzAePCswEPxLMBO8WzAWfGswGTx7MBv8izAevJswEXy7MBQ8yzAW/NswGbzrMBx8+zAR/SswFL07MBd9SzAaPVswHP1rMB+9ezASfZswFT2rMBf9uzAavcswHX3bMBA9+zAS/gswFb4bMBh+KzAbPjswHf5LMBC+azATfnswFj6LMBj+mzAbvqswHn67MBE+2zAT/uswFr77MBl/CzAcPxswHv8rMBG/SzAUf1swFz9rMBn/ezAcv4swH3+bMBI/uzAU/8swF7/bMBp/6zAdP/swH/ALQBKwK0AVcDtAGDBLQBrwW0AdsGtAEHCLQBMwm0AV8KtAGLC7QBtwy0AeMNtAEPD7QBOxC0AWcRtAGTErQBvxO0AesUtAEXFrQBQxe0AW8YtAE=\",\"dtype\":\"int32\",\"order\":\"little\",\"shape\":[200]},\"variant_position\":{\"__ndarray__\":\"eS2zAaUuswHRL7MB/TCzASkyswFVM7MBgTSzAa01swHZNrMBBTizATE5swFdOrMBiTuzAbU8swHhPbMBDT+zATlAswFlQbMBkUKzAb1DswHpRLMBFUazAUFHswFtSLMBmUmzAcVKswHxS7MBHU2zAUlOswF1T7MBoVCzAc1RswH5UrMBJVSzAVFVswF9VrMBqVezAdVYswEBWrMBLVuzAVlcswGFXbMBsV6zAd1fswEJYbMBNWKzAWFjswGNZLMBuWWzAeVmswERaLMBPWmzAWlqswGVa7MBwWyzAe1tswEZb7MBRXCzAXFxswGdcrMByXOzAfV0swEhdrMBTXezAXl4swGlebMB0XqzAf17swEpfbMBVX6zAYF/swGtgLMB2YGzAQWDswExhLMBXYWzAYmGswG1h7MB4YizAQ2KswE5i7MBZYyzAZGNswG9jrMB6Y+zARWRswFBkrMBbZOzAZmUswHFlbMB8ZazAR2YswFJmbMBdZqzAaGbswHNnLMB+Z2zASWfswFRoLMBfaGzAamiswHVo7MBAaWzAS2mswFZp7MBhaizAbGpswHdqrMBCayzATWtswFhrrMBja+zAbmwswHlsbMBEbOzAT20swFptbMBlbazAcG3swHtuLMBGbqzAUW7swFxvLMBnb2zAcm+swH1v7MBIcGzAU3CswF5w7MBpcSzAdHFswH9xrMBKcizAVXJswGByrMBrcuzAdnMswEFzrMBMc+zAYnRswG10rMB4dOzAQ3VswE51rMBZdezAZHYswG92bMB6dqzARXcswFB3bMBbd6zAZnfswHF4LMB8eGzAR3jswFJ5LMBdeWzAaHmswHN57MB+eizASXqswFR67MBfeyzAantswHV7rMBAfCzAS3xswFZ8rMBhfOzAbH0swHd9bMBCfezATX4swFh+bMBjfqzAbn7swHl/LMBEf6zAT3/swFpALQBlQG0AcECtAHtA7QBGQW0AUUGtAFxB7QBnQi0AckJtAH1CrQBIQy0AU0NtAF5DrQBpQ+0AdEQtAH9EbQBKRO0AVUUtAGBFbQBrRa0AdkXtAE=\",\"dtype\":\"int32\",\"order\":\"little\",\"shape\":[200]},\"variants\":[0,1,2,3,4,5,6,7,8,9,10,11,12,13,14,15,16,17,18,19,20,21,22,23,24,25,26,27,28,29,30,31,32,33,34,35,36,37,38,39,40,41,42,43,44,45,46,47,48,49,50,51,52,53,54,55,56,57,58,59,60,61,62,63,64,65,66,67,68,69,70,71,72,73,74,75,76,77,78,79,80,81,82,83,84,85,86,87,88,89,90,91,92,93,94,95,96,97,98,99,100,101,102,103,104,105,106,107,108,109,110,111,112,113,114,115,116,117,118,119,120,121,122,123,124,125,126,127,128,129,130,131,132,133,134,135,136,137,138,140,141,142,143,144,145,146,147,148,149,150,151,152,153,154,155,156,157,158,159,160,161,162,163,164,165,166,167,168,169,170,171,172,173,174,175,176,177,178,179,180,181,182,183,184,185,186,187,188,189,190,191,192,193,194,195,196,197,198,199,200]},\"selected\":{\"id\":\"115760\"},\"selection_policy\":{\"id\":\"115759\"}},\"id\":\"115743\",\"type\":\"ColumnDataSource\"},{\"attributes\":{\"bottom\":{\"field\":\"bottom\"},\"fill_alpha\":{\"value\":0.5},\"fill_color\":{\"value\":\"#1f77b4\"},\"left\":{\"field\":\"start\"},\"line_color\":{\"value\":\"#1f77b4\"},\"line_width\":{\"value\":0.5},\"right\":{\"field\":\"end\"},\"top\":{\"field\":\"top\"}},\"id\":\"115809\",\"type\":\"Quad\"},{\"attributes\":{\"line_color\":\"#1f77b4\",\"line_width\":2,\"x\":{\"field\":\"variant_midpoint\"},\"y\":{\"field\":\"call_CN\"}},\"id\":\"115745\",\"type\":\"Line\"},{\"attributes\":{\"coordinates\":null,\"data_source\":{\"id\":\"115743\"},\"glyph\":{\"id\":\"115745\"},\"group\":null,\"hover_glyph\":null,\"muted_glyph\":{\"id\":\"115747\"},\"nonselection_glyph\":{\"id\":\"115746\"},\"view\":{\"id\":\"115749\"}},\"id\":\"115748\",\"type\":\"GlyphRenderer\"},{\"attributes\":{\"coordinates\":null,\"formatter\":{\"id\":\"115801\"},\"group\":null,\"major_label_overrides\":{\"0.4\":\"-\",\"1.4\":\"+\"},\"major_label_policy\":{\"id\":\"115802\"},\"ticker\":{\"id\":\"115815\"}},\"id\":\"115781\",\"type\":\"LinearAxis\"},{\"attributes\":{\"data\":{\"call_CN\":{\"__ndarray__\":\"AgICAgICAgICAgICAgICAgICAgICAgICAgICAgICAgICAgICAgICAgICAgICAgICAgICAgICAgICAgICAgICAgICAgICAgICAgICAgUFBQUFBQUFBQUFBQUFBQUFBQUFBQUFBQUFBQUCAgICAgICAgICAgICAgICAgICAgICAgICAgICAgICAgICAgICAgICAgICAgICAgICAgICAgICAgICAgICAgICAgICAgICAgICAgICAgICAgICAgICAgICAgICAgICAgI=\",\"dtype\":\"int8\",\"order\":\"little\",\"shape\":[200]},\"call_NormCov\":{\"__ndarray__\":\"sp0HQGDl8D9qvPQ/AAAAQArXA0DhevQ/9ij8P+XQEkB7FN4/sHL4P42XFkAIrBxAUI0HQJZDC0DP9zNAGy8NQPT91D8ZBNY/RrbDP7KdB0ArhwZAy6EVQBsv7T/0/dQ/1XjpPwAAAEDVeOk/mpmJP76fqj91k/g/AAAgQIXr4T+F6+E/ke3sPwrXA0BzaOE/K4fWP7KdB0AK1wNA4Xr0P4Xr4T+PwgVAXrrZPzMz4z9GtgNADi3SP4cW6T8tsu0/y6EFQOXQMkBOYghAy6HlPz0KL0BYORxA7FH4Pw4t0j9eutk/jZceQCPbAUBGtktAc2gJQOOlA0BQjQdAIbDiPwaBxT+mmwxAYOXwP1yPEkA3iQlAObT4P23nqz8ZBNY/NV7aPyPbAUBI4UJAj8IFQMUgtECgGp9AAACYQNV4nUBOYrxAzcysQBfZtkCwcrBAPQq/QFK4wkCmm8hAukmkQLpJpECgGpNAnu+rQH0/pUB56ZZAGy+9QD81wkD+1JhARrabQFK4rkA5tLBAYOWwQBsv0UAGgbVA30+5QLByoEDsUfg/qMYDQAAAAEDHSwdAN4kJQNNNEkB9P+U/c2gJQFCNR0Aj2wFAhevhP7KdB0CoxgNACtcbQHWT+D+wchhAXI8SQN0kHkBokd0/I9vJP7KdB0BzaClA3SQ+QKwcMkB/ahRAqMYDQMuh5T8EVs4/I9sBQOF69D+HFuk/ZmYmQBkEDkA3iQlANV46QGq8FEAbL+0/y6HlPy/d9D8j2wFA9P3UP+F69D/HSw9APQoPQHnpFkD2KPw/wcrxPwisBEA9Cg9AnMTwPxkE1j9qvPQ/5/sZQNnO1z/LoQVAqMYDQI2XHkDsUfg/Gy/tPwaBBUBzaAlAhevhP3NoYUDpJtE//tQYQJqZGUAAAABAObT4PwAAAEDVeOk/lkMLQJzE8D85tPg/oBo/QDm0EEDTTeI/I9sBQNEiC0CoxgNAIbDCP+583z/jpQNAf2oUQGDl8D/l0BJAx0sPQJHt7D+F6wFAaJHdPyuH1j+wciBArkcJQOxRyD+wcvg/rkcJQLx0C0A=\",\"dtype\":\"float32\",\"order\":\"little\",\"shape\":[200]},\"samples\":[\"VBS19245-5563STDY7800333\",\"VBS19245-5563STDY7800333\",\"VBS19245-5563STDY7800333\",\"VBS19245-5563STDY7800333\",\"VBS19245-5563STDY7800333\",\"VBS19245-5563STDY7800333\",\"VBS19245-5563STDY7800333\",\"VBS19245-5563STDY7800333\",\"VBS19245-5563STDY7800333\",\"VBS19245-5563STDY7800333\",\"VBS19245-5563STDY7800333\",\"VBS19245-5563STDY7800333\",\"VBS19245-5563STDY7800333\",\"VBS19245-5563STDY7800333\",\"VBS19245-5563STDY7800333\",\"VBS19245-5563STDY7800333\",\"VBS19245-5563STDY7800333\",\"VBS19245-5563STDY7800333\",\"VBS19245-5563STDY7800333\",\"VBS19245-5563STDY7800333\",\"VBS19245-5563STDY7800333\",\"VBS19245-5563STDY7800333\",\"VBS19245-5563STDY7800333\",\"VBS19245-5563STDY7800333\",\"VBS19245-5563STDY7800333\",\"VBS19245-5563STDY7800333\",\"VBS19245-5563STDY7800333\",\"VBS19245-5563STDY7800333\",\"VBS19245-5563STDY7800333\",\"VBS19245-5563STDY7800333\",\"VBS19245-5563STDY7800333\",\"VBS19245-5563STDY7800333\",\"VBS19245-5563STDY7800333\",\"VBS19245-5563STDY7800333\",\"VBS19245-5563STDY7800333\",\"VBS19245-5563STDY7800333\",\"VBS19245-5563STDY7800333\",\"VBS19245-5563STDY7800333\",\"VBS19245-5563STDY7800333\",\"VBS19245-5563STDY7800333\",\"VBS19245-5563STDY7800333\",\"VBS19245-5563STDY7800333\",\"VBS19245-5563STDY7800333\",\"VBS19245-5563STDY7800333\",\"VBS19245-5563STDY7800333\",\"VBS19245-5563STDY7800333\",\"VBS19245-5563STDY7800333\",\"VBS19245-5563STDY7800333\",\"VBS19245-5563STDY7800333\",\"VBS19245-5563STDY7800333\",\"VBS19245-5563STDY7800333\",\"VBS19245-5563STDY7800333\",\"VBS19245-5563STDY7800333\",\"VBS19245-5563STDY7800333\",\"VBS19245-5563STDY7800333\",\"VBS19245-5563STDY7800333\",\"VBS19245-5563STDY7800333\",\"VBS19245-5563STDY7800333\",\"VBS19245-5563STDY7800333\",\"VBS19245-5563STDY7800333\",\"VBS19245-5563STDY7800333\",\"VBS19245-5563STDY7800333\",\"VBS19245-5563STDY7800333\",\"VBS19245-5563STDY7800333\",\"VBS19245-5563STDY7800333\",\"VBS19245-5563STDY7800333\",\"VBS19245-5563STDY7800333\",\"VBS19245-5563STDY7800333\",\"VBS19245-5563STDY7800333\",\"VBS19245-5563STDY7800333\",\"VBS19245-5563STDY7800333\",\"VBS19245-5563STDY7800333\",\"VBS19245-5563STDY7800333\",\"VBS19245-5563STDY7800333\",\"VBS19245-5563STDY7800333\",\"VBS19245-5563STDY7800333\",\"VBS19245-5563STDY7800333\",\"VBS19245-5563STDY7800333\",\"VBS19245-5563STDY7800333\",\"VBS19245-5563STDY7800333\",\"VBS19245-5563STDY7800333\",\"VBS19245-5563STDY7800333\",\"VBS19245-5563STDY7800333\",\"VBS19245-5563STDY7800333\",\"VBS19245-5563STDY7800333\",\"VBS19245-5563STDY7800333\",\"VBS19245-5563STDY7800333\",\"VBS19245-5563STDY7800333\",\"VBS19245-5563STDY7800333\",\"VBS19245-5563STDY7800333\",\"VBS19245-5563STDY7800333\",\"VBS19245-5563STDY7800333\",\"VBS19245-5563STDY7800333\",\"VBS19245-5563STDY7800333\",\"VBS19245-5563STDY7800333\",\"VBS19245-5563STDY7800333\",\"VBS19245-5563STDY7800333\",\"VBS19245-5563STDY7800333\",\"VBS19245-5563STDY7800333\",\"VBS19245-5563STDY7800333\",\"VBS19245-5563STDY7800333\",\"VBS19245-5563STDY7800333\",\"VBS19245-5563STDY7800333\",\"VBS19245-5563STDY7800333\",\"VBS19245-5563STDY7800333\",\"VBS19245-5563STDY7800333\",\"VBS19245-5563STDY7800333\",\"VBS19245-5563STDY7800333\",\"VBS19245-5563STDY7800333\",\"VBS19245-5563STDY7800333\",\"VBS19245-5563STDY7800333\",\"VBS19245-5563STDY7800333\",\"VBS19245-5563STDY7800333\",\"VBS19245-5563STDY7800333\",\"VBS19245-5563STDY7800333\",\"VBS19245-5563STDY7800333\",\"VBS19245-5563STDY7800333\",\"VBS19245-5563STDY7800333\",\"VBS19245-5563STDY7800333\",\"VBS19245-5563STDY7800333\",\"VBS19245-5563STDY7800333\",\"VBS19245-5563STDY7800333\",\"VBS19245-5563STDY7800333\",\"VBS19245-5563STDY7800333\",\"VBS19245-5563STDY7800333\",\"VBS19245-5563STDY7800333\",\"VBS19245-5563STDY7800333\",\"VBS19245-5563STDY7800333\",\"VBS19245-5563STDY7800333\",\"VBS19245-5563STDY7800333\",\"VBS19245-5563STDY7800333\",\"VBS19245-5563STDY7800333\",\"VBS19245-5563STDY7800333\",\"VBS19245-5563STDY7800333\",\"VBS19245-5563STDY7800333\",\"VBS19245-5563STDY7800333\",\"VBS19245-5563STDY7800333\",\"VBS19245-5563STDY7800333\",\"VBS19245-5563STDY7800333\",\"VBS19245-5563STDY7800333\",\"VBS19245-5563STDY7800333\",\"VBS19245-5563STDY7800333\",\"VBS19245-5563STDY7800333\",\"VBS19245-5563STDY7800333\",\"VBS19245-5563STDY7800333\",\"VBS19245-5563STDY7800333\",\"VBS19245-5563STDY7800333\",\"VBS19245-5563STDY7800333\",\"VBS19245-5563STDY7800333\",\"VBS19245-5563STDY7800333\",\"VBS19245-5563STDY7800333\",\"VBS19245-5563STDY7800333\",\"VBS19245-5563STDY7800333\",\"VBS19245-5563STDY7800333\",\"VBS19245-5563STDY7800333\",\"VBS19245-5563STDY7800333\",\"VBS19245-5563STDY7800333\",\"VBS19245-5563STDY7800333\",\"VBS19245-5563STDY7800333\",\"VBS19245-5563STDY7800333\",\"VBS19245-5563STDY7800333\",\"VBS19245-5563STDY7800333\",\"VBS19245-5563STDY7800333\",\"VBS19245-5563STDY7800333\",\"VBS19245-5563STDY7800333\",\"VBS19245-5563STDY7800333\",\"VBS19245-5563STDY7800333\",\"VBS19245-5563STDY7800333\",\"VBS19245-5563STDY7800333\",\"VBS19245-5563STDY7800333\",\"VBS19245-5563STDY7800333\",\"VBS19245-5563STDY7800333\",\"VBS19245-5563STDY7800333\",\"VBS19245-5563STDY7800333\",\"VBS19245-5563STDY7800333\",\"VBS19245-5563STDY7800333\",\"VBS19245-5563STDY7800333\",\"VBS19245-5563STDY7800333\",\"VBS19245-5563STDY7800333\",\"VBS19245-5563STDY7800333\",\"VBS19245-5563STDY7800333\",\"VBS19245-5563STDY7800333\",\"VBS19245-5563STDY7800333\",\"VBS19245-5563STDY7800333\",\"VBS19245-5563STDY7800333\",\"VBS19245-5563STDY7800333\",\"VBS19245-5563STDY7800333\",\"VBS19245-5563STDY7800333\",\"VBS19245-5563STDY7800333\",\"VBS19245-5563STDY7800333\",\"VBS19245-5563STDY7800333\",\"VBS19245-5563STDY7800333\",\"VBS19245-5563STDY7800333\",\"VBS19245-5563STDY7800333\",\"VBS19245-5563STDY7800333\",\"VBS19245-5563STDY7800333\",\"VBS19245-5563STDY7800333\",\"VBS19245-5563STDY7800333\",\"VBS19245-5563STDY7800333\",\"VBS19245-5563STDY7800333\"],\"variant_contig\":{\"__ndarray__\":\"AQEBAQEBAQEBAQEBAQEBAQEBAQEBAQEBAQEBAQEBAQEBAQEBAQEBAQEBAQEBAQEBAQEBAQEBAQEBAQEBAQEBAQEBAQEBAQEBAQEBAQEBAQEBAQEBAQEBAQEBAQEBAQEBAQEBAQEBAQEBAQEBAQEBAQEBAQEBAQEBAQEBAQEBAQEBAQEBAQEBAQEBAQEBAQEBAQEBAQEBAQEBAQEBAQEBAQEBAQEBAQEBAQEBAQEBAQEBAQEBAQEBAQEBAQEBAQEBAQEBAQEBAQE=\",\"dtype\":\"uint8\",\"order\":\"little\",\"shape\":[200]},\"variant_end\":{\"__ndarray__\":\"pC6zAdAvswH8MLMBKDKzAVQzswGANLMBrDWzAdg2swEEOLMBMDmzAVw6swGIO7MBtDyzAeA9swEMP7MBOECzAWRBswGQQrMBvEOzAehEswEURrMBQEezAWxIswGYSbMBxEqzAfBLswEcTbMBSE6zAXRPswGgULMBzFGzAfhSswEkVLMBUFWzAXxWswGoV7MB1FizAQBaswEsW7MBWFyzAYRdswGwXrMB3F+zAQhhswE0YrMBYGOzAYxkswG4ZbMB5GazARBoswE8abMBaGqzAZRrswHAbLMB7G2zARhvswFEcLMBcHGzAZxyswHIc7MB9HSzASB2swFMd7MBeHizAaR5swHQerMB/HuzASh9swFUfrMBgH+zAayAswHYgbMBBIOzATCEswFchbMBiIazAbSHswHgiLMBDIqzATiLswFkjLMBkI2zAbyOswHoj7MBFJGzAUCSswFsk7MBmJSzAcSVswHwlrMBHJizAUiZswF0mrMBoJuzAcycswH4nbMBJJ+zAVCgswF8obMBqKKzAdSjswEApbMBLKazAVinswGEqLMBsKmzAdyqswEIrLMBNK2zAWCuswGMr7MBuLCzAeSxswEQs7MBPLSzAWi1swGUtrMBwLezAey4swEYurMBRLuzAXC8swGcvbMByL6zAfS/swEgwbMBTMKzAXjDswGkxLMB0MWzAfzGswEoyLMBVMmzAYDKswGsy7MB2MyzAQTOswEwz7MBXNCzAbTSswHg07MBDNWzATjWswFk17MBkNizAbzZswHo2rMBFNyzAUDdswFs3rMBmN+zAcTgswHw4bMBHOOzAUjkswF05bMBoOazAcznswH46LMBJOqzAVDrswF87LMBqO2zAdTuswEA8LMBLPGzAVjyswGE87MBsPSzAdz1swEI97MBNPizAWD5swGM+rMBuPuzAeT8swEQ/rMBPP+zAWgAtAGUAbQBwAK0AewDtAEYBbQBRAa0AXAHtAGcCLQByAm0AfQKtAEgDLQBTA20AXgOtAGkD7QB0BC0AfwRtAEoE7QBVBS0AYAVtAGsFrQB2Be0AQQZtAE=\",\"dtype\":\"int32\",\"order\":\"little\",\"shape\":[200]},\"variant_midpoint\":{\"__ndarray__\":\"Dy6zATsvswFnMLMBkzGzAb8yswHrM7MBFzWzAUM2swFvN7MBmzizAcc5swHzOrMBHzyzAUs9swF3PrMBoz+zAc9AswH7QbMBJ0OzAVNEswF/RbMBq0azAddHswEDSbMBL0qzAVtLswGHTLMBs02zAd9OswELULMBN1GzAWNSswGPU7MBu1SzAedVswETV7MBP1izAWtZswGXWrMBw1uzAe9cswEbXrMBR1+zAXNgswGfYbMBy2KzAfdjswEjZbMBT2azAXtnswGnaLMB02mzAf9qswErbLMBV22zAYNuswGvb7MB23CzAQdyswEzc7MBX3SzAYt1swG3drMB43ezAQ95swE7erMBZ3uzAZN8swG/fbMB636zAReAswFDgbMBb4KzAZuDswHHhLMB84WzAR+HswFLiLMBd4mzAaOKswHPi7MB+4yzASeOswFTj7MBf5CzAauRswHXkrMBA5SzAS+VswFblrMBh5ezAbOYswHfmbMBC5uzATecswFjnbMBj56zAbufswHnoLMBE6KzAT+jswFrpLMBl6WzAcOmswHvp7MBG6mzAUeqswFzq7MBn6yzAcutswH3rrMBI7CzAU+xswF7srMBp7OzAdO0swH/tbMBK7ezAVe4swGDubMBr7qzAdu7swEHvbMBM76zAV+/swGLwLMBt8GzAePCswEPxLMBO8WzAWfGswGTx7MBv8izAevJswEXy7MBQ8yzAW/NswGbzrMBx8+zAR/SswFL07MBd9SzAaPVswHP1rMB+9ezASfZswFT2rMBf9uzAavcswHX3bMBA9+zAS/gswFb4bMBh+KzAbPjswHf5LMBC+azATfnswFj6LMBj+mzAbvqswHn67MBE+2zAT/uswFr77MBl/CzAcPxswHv8rMBG/SzAUf1swFz9rMBn/ezAcv4swH3+bMBI/uzAU/8swF7/bMBp/6zAdP/swH/ALQBKwK0AVcDtAGDBLQBrwW0AdsGtAEHCLQBMwm0AV8KtAGLC7QBtwy0AeMNtAEPD7QBOxC0AWcRtAGTErQBvxO0AesUtAEXFrQBQxe0AW8YtAE=\",\"dtype\":\"int32\",\"order\":\"little\",\"shape\":[200]},\"variant_position\":{\"__ndarray__\":\"eS2zAaUuswHRL7MB/TCzASkyswFVM7MBgTSzAa01swHZNrMBBTizATE5swFdOrMBiTuzAbU8swHhPbMBDT+zATlAswFlQbMBkUKzAb1DswHpRLMBFUazAUFHswFtSLMBmUmzAcVKswHxS7MBHU2zAUlOswF1T7MBoVCzAc1RswH5UrMBJVSzAVFVswF9VrMBqVezAdVYswEBWrMBLVuzAVlcswGFXbMBsV6zAd1fswEJYbMBNWKzAWFjswGNZLMBuWWzAeVmswERaLMBPWmzAWlqswGVa7MBwWyzAe1tswEZb7MBRXCzAXFxswGdcrMByXOzAfV0swEhdrMBTXezAXl4swGlebMB0XqzAf17swEpfbMBVX6zAYF/swGtgLMB2YGzAQWDswExhLMBXYWzAYmGswG1h7MB4YizAQ2KswE5i7MBZYyzAZGNswG9jrMB6Y+zARWRswFBkrMBbZOzAZmUswHFlbMB8ZazAR2YswFJmbMBdZqzAaGbswHNnLMB+Z2zASWfswFRoLMBfaGzAamiswHVo7MBAaWzAS2mswFZp7MBhaizAbGpswHdqrMBCayzATWtswFhrrMBja+zAbmwswHlsbMBEbOzAT20swFptbMBlbazAcG3swHtuLMBGbqzAUW7swFxvLMBnb2zAcm+swH1v7MBIcGzAU3CswF5w7MBpcSzAdHFswH9xrMBKcizAVXJswGByrMBrcuzAdnMswEFzrMBMc+zAYnRswG10rMB4dOzAQ3VswE51rMBZdezAZHYswG92bMB6dqzARXcswFB3bMBbd6zAZnfswHF4LMB8eGzAR3jswFJ5LMBdeWzAaHmswHN57MB+eizASXqswFR67MBfeyzAantswHV7rMBAfCzAS3xswFZ8rMBhfOzAbH0swHd9bMBCfezATX4swFh+bMBjfqzAbn7swHl/LMBEf6zAT3/swFpALQBlQG0AcECtAHtA7QBGQW0AUUGtAFxB7QBnQi0AckJtAH1CrQBIQy0AU0NtAF5DrQBpQ+0AdEQtAH9EbQBKRO0AVUUtAGBFbQBrRa0AdkXtAE=\",\"dtype\":\"int32\",\"order\":\"little\",\"shape\":[200]},\"variants\":[0,1,2,3,4,5,6,7,8,9,10,11,12,13,14,15,16,17,18,19,20,21,22,23,24,25,26,27,28,29,30,31,32,33,34,35,36,37,38,39,40,41,42,43,44,45,46,47,48,49,50,51,52,53,54,55,56,57,58,59,60,61,62,63,64,65,66,67,68,69,70,71,72,73,74,75,76,77,78,79,80,81,82,83,84,85,86,87,88,89,90,91,92,93,94,95,96,97,98,99,100,101,102,103,104,105,106,107,108,109,110,111,112,113,114,115,116,117,118,119,120,121,122,123,124,125,126,127,128,129,130,131,132,133,134,135,136,137,138,140,141,142,143,144,145,146,147,148,149,150,151,152,153,154,155,156,157,158,159,160,161,162,163,164,165,166,167,168,169,170,171,172,173,174,175,176,177,178,179,180,181,182,183,184,185,186,187,188,189,190,191,192,193,194,195,196,197,198,199,200]},\"selected\":{\"id\":\"115740\"},\"selection_policy\":{\"id\":\"115739\"}},\"id\":\"115725\",\"type\":\"ColumnDataSource\"},{\"attributes\":{\"axis\":{\"id\":\"115781\"},\"coordinates\":null,\"dimension\":1,\"group\":null,\"ticker\":null,\"visible\":false},\"id\":\"115784\",\"type\":\"Grid\"},{\"attributes\":{},\"id\":\"115835\",\"type\":\"Selection\"},{\"attributes\":{\"ticks\":[0.4,1.4]},\"id\":\"115815\",\"type\":\"FixedTicker\"},{\"attributes\":{\"callback\":null,\"tooltips\":[[\"ID\",\"@ID\"],[\"Name\",\"@Name\"],[\"Description\",\"@description\"],[\"Location\",\"@contig:@start{,}-@end{,}\"]]},\"id\":\"115790\",\"type\":\"HoverTool\"},{\"attributes\":{},\"id\":\"115759\",\"type\":\"UnionRenderers\"},{\"attributes\":{\"children\":[[{\"id\":\"115697\"},0,0],[{\"id\":\"115767\"},1,0]]},\"id\":\"115837\",\"type\":\"GridBox\"},{\"attributes\":{\"axis_label\":\"Copy number\",\"coordinates\":null,\"formatter\":{\"id\":\"115734\"},\"group\":null,\"major_label_policy\":{\"id\":\"115735\"},\"ticker\":{\"id\":\"115762\"}},\"id\":\"115711\",\"type\":\"LinearAxis\"},{\"attributes\":{},\"id\":\"115708\",\"type\":\"BasicTicker\"},{\"attributes\":{\"source\":{\"id\":\"115807\"}},\"id\":\"115813\",\"type\":\"CDSView\"},{\"attributes\":{},\"id\":\"115740\",\"type\":\"Selection\"},{\"attributes\":{\"bounds\":\"auto\",\"end\":28580100,\"start\":28519801},\"id\":\"115695\",\"type\":\"Range1d\"},{\"attributes\":{\"coordinates\":null,\"group\":null,\"text\":\"Genes\"},\"id\":\"115768\",\"type\":\"Title\"},{\"attributes\":{\"coordinates\":null,\"data_source\":{\"id\":\"115807\"},\"glyph\":{\"id\":\"115809\"},\"group\":null,\"hover_glyph\":null,\"muted_glyph\":{\"id\":\"115811\"},\"nonselection_glyph\":{\"id\":\"115810\"},\"view\":{\"id\":\"115813\"}},\"id\":\"115812\",\"type\":\"GlyphRenderer\"},{\"attributes\":{},\"id\":\"115760\",\"type\":\"Selection\"},{\"attributes\":{\"toolbar\":{\"id\":\"115838\"},\"toolbar_location\":\"above\"},\"id\":\"115839\",\"type\":\"ToolbarBox\"},{\"attributes\":{\"data\":{\"ID\":[\"AGAP006221\",\"AGAP006222\",\"AGAP006223\",\"AGAP006224\",\"AGAP006225\",\"AGAP006226\",\"AGAP006227\",\"AGAP006228\",\"AGAP006229\",\"AGAP006231\",\"AGAP006232\",\"AGAP006233\",\"AGAP006234\",\"AGAP006235\",\"AGAP006236\",\"AGAP006237\",\"AGAP006238\",\"AGAP006239\"],\"Name\":[\"\",\"\",\"\",\"\",\"\",\"Aldehyde_oxidase\",\"\",\"COEAE2F\",\"Vps20\",\"\",\"Pex14\",\"\",\"\",\"\",\"\",\"\",\"\",\"\"],\"Parent\":[\"NaN\",\"NaN\",\"NaN\",\"NaN\",\"NaN\",\"NaN\",\"NaN\",\"NaN\",\"NaN\",\"NaN\",\"NaN\",\"NaN\",\"NaN\",\"NaN\",\"NaN\",\"NaN\",\"NaN\",\"NaN\"],\"bottom\":[1,1,1,1,1,1,0,1,1,1,0,1,1,0,0,0,1,1],\"contig\":[\"2L\",\"2L\",\"2L\",\"2L\",\"2L\",\"2L\",\"2L\",\"2L\",\"2L\",\"2L\",\"2L\",\"2L\",\"2L\",\"2L\",\"2L\",\"2L\",\"2L\",\"2L\"],\"description\":[\"aldehyde oxidase [Source:VB Community Annotation]\",\"glucosyl/glucuronosyl transferases [Source:VB Community Annotation]\",\"glucosyl/glucuronosyl transferases [Source:VB Community Annotation]\",\"aldehyde oxidase [Source:VB Community Annotation]\",\"aldehyde oxidase [Source:VB Community Annotation]\",\"\",\"alpha esterase [Source:VB Community Annotation]\",\"carboxylesterase [Source:VB Community Annotation]\",\"vacuolar protein sorting 20 [Source:VB Community Annotation]\",\"serine/threonine-protein phosphatase dullard homolog [Source:VB Community Annotation]\",\"peroxin-14 [Source:VB Community Annotation]\",\"\",\"protein SHQ1 [Source:VB Community Annotation]\",\"\",\"\",\"Negative elongation factor E [Source:VB Community Annotation]\",\"ubiquitin-conjugating enzyme E2 C [Source:VB Community Annotation]\",\"Protein TSSC1 [Source:VB Community Annotation]\"],\"end\":[28523900,28526317,28528641,28533199,28539416,28545294,28547938,28550748,28552032,28560186,28565368,28567186,28569087,28572971,28574496,28575725,28579600,28581250],\"index\":[24735,24757,24771,24785,24801,24817,24832,24850,24862,24874,24890,24904,24912,24924,24940,24947,24953,24961],\"phase\":{\"__ndarray__\":\"AAAAAAAA+H8AAAAAAAD4fwAAAAAAAPh/AAAAAAAA+H8AAAAAAAD4fwAAAAAAAPh/AAAAAAAA+H8AAAAAAAD4fwAAAAAAAPh/AAAAAAAA+H8AAAAAAAD4fwAAAAAAAPh/AAAAAAAA+H8AAAAAAAD4fwAAAAAAAPh/AAAAAAAA+H8AAAAAAAD4fwAAAAAAAPh/\",\"dtype\":\"float64\",\"order\":\"little\",\"shape\":[18]},\"score\":{\"__ndarray__\":\"AAAAAAAA+H8AAAAAAAD4fwAAAAAAAPh/AAAAAAAA+H8AAAAAAAD4fwAAAAAAAPh/AAAAAAAA+H8AAAAAAAD4fwAAAAAAAPh/AAAAAAAA+H8AAAAAAAD4fwAAAAAAAPh/AAAAAAAA+H8AAAAAAAD4fwAAAAAAAPh/AAAAAAAA+H8AAAAAAAD4fwAAAAAAAPh/\",\"dtype\":\"float64\",\"order\":\"little\",\"shape\":[18]},\"source\":[\"VectorBase\",\"VectorBase\",\"VectorBase\",\"VectorBase\",\"VectorBase\",\"VectorBase\",\"VectorBase\",\"VectorBase\",\"VectorBase\",\"VectorBase\",\"VectorBase\",\"VectorBase\",\"VectorBase\",\"VectorBase\",\"VectorBase\",\"VectorBase\",\"VectorBase\",\"VectorBase\"],\"start\":[28518055,28524225,28526558,28528758,28534732,28540651,28545396,28548433,28550814,28552352,28563646,28565893,28567535,28569164,28573531,28574680,28576341,28579834],\"strand\":[\"+\",\"+\",\"+\",\"+\",\"+\",\"+\",\"-\",\"+\",\"+\",\"+\",\"-\",\"+\",\"+\",\"-\",\"-\",\"-\",\"+\",\"+\"],\"top\":{\"__ndarray__\":\"zczMzMzM/D/NzMzMzMz8P83MzMzMzPw/zczMzMzM/D/NzMzMzMz8P83MzMzMzPw/mpmZmZmZ6T/NzMzMzMz8P83MzMzMzPw/zczMzMzM/D+amZmZmZnpP83MzMzMzPw/zczMzMzM/D+amZmZmZnpP5qZmZmZmek/mpmZmZmZ6T/NzMzMzMz8P83MzMzMzPw/\",\"dtype\":\"float64\",\"order\":\"little\",\"shape\":[18]},\"type\":[\"gene\",\"gene\",\"gene\",\"gene\",\"gene\",\"gene\",\"gene\",\"gene\",\"gene\",\"gene\",\"gene\",\"gene\",\"gene\",\"gene\",\"gene\",\"gene\",\"gene\",\"gene\"]},\"selected\":{\"id\":\"115835\"},\"selection_policy\":{\"id\":\"115834\"}},\"id\":\"115807\",\"type\":\"ColumnDataSource\"},{\"attributes\":{},\"id\":\"115817\",\"type\":\"NumeralTickFormatter\"},{\"attributes\":{\"fill_alpha\":{\"value\":0.1},\"fill_color\":{\"value\":null},\"hatch_alpha\":{\"value\":0.1},\"line_alpha\":{\"value\":0.1},\"line_width\":{\"value\":0.5},\"size\":{\"value\":3},\"x\":{\"field\":\"variant_midpoint\"},\"y\":{\"field\":\"call_NormCov\"}},\"id\":\"115728\",\"type\":\"Circle\"},{\"attributes\":{},\"id\":\"115788\",\"type\":\"ResetTool\"},{\"attributes\":{\"dimensions\":\"width\"},\"id\":\"115787\",\"type\":\"ZoomOutTool\"},{\"attributes\":{\"end\":2.2,\"start\":-0.4},\"id\":\"115814\",\"type\":\"Range1d\"},{\"attributes\":{\"url\":\"https://vectorbase.org/vectorbase/app/record/gene/@ID\"},\"id\":\"115806\",\"type\":\"OpenURL\"},{\"attributes\":{\"active_drag\":{\"id\":\"115715\"},\"active_scroll\":{\"id\":\"115696\"},\"tools\":[{\"id\":\"115696\"},{\"id\":\"115715\"},{\"id\":\"115716\"},{\"id\":\"115717\"},{\"id\":\"115718\"}]},\"id\":\"115719\",\"type\":\"Toolbar\"},{\"attributes\":{},\"id\":\"115735\",\"type\":\"AllLabels\"},{\"attributes\":{\"source\":{\"id\":\"115743\"}},\"id\":\"115749\",\"type\":\"CDSView\"},{\"attributes\":{\"dimensions\":\"width\"},\"id\":\"115715\",\"type\":\"PanTool\"},{\"attributes\":{\"label\":{\"value\":\"Coverage\"},\"renderers\":[{\"id\":\"115730\"}]},\"id\":\"115742\",\"type\":\"LegendItem\"},{\"attributes\":{\"dimensions\":\"width\"},\"id\":\"115717\",\"type\":\"ZoomOutTool\"},{\"attributes\":{},\"id\":\"115802\",\"type\":\"AllLabels\"},{\"attributes\":{\"bottom\":{\"field\":\"bottom\"},\"fill_alpha\":{\"value\":0.2},\"fill_color\":{\"value\":\"#1f77b4\"},\"hatch_alpha\":{\"value\":0.2},\"left\":{\"field\":\"start\"},\"line_alpha\":{\"value\":0.2},\"line_color\":{\"value\":\"#1f77b4\"},\"line_width\":{\"value\":0.5},\"right\":{\"field\":\"end\"},\"top\":{\"field\":\"top\"}},\"id\":\"115811\",\"type\":\"Quad\"},{\"attributes\":{},\"id\":\"115734\",\"type\":\"BasicTickFormatter\"},{\"attributes\":{\"coordinates\":null,\"group\":null,\"items\":[{\"id\":\"115742\"},{\"id\":\"115761\"}]},\"id\":\"115741\",\"type\":\"Legend\"},{\"attributes\":{},\"id\":\"115834\",\"type\":\"UnionRenderers\"},{\"attributes\":{\"axis_label\":\"Contig 2L position (bp)\",\"coordinates\":null,\"formatter\":{\"id\":\"115817\"},\"group\":null,\"major_label_policy\":{\"id\":\"115805\"},\"ticker\":{\"id\":\"115778\"}},\"id\":\"115777\",\"type\":\"LinearAxis\"},{\"attributes\":{},\"id\":\"115738\",\"type\":\"AllLabels\"},{\"attributes\":{\"ticks\":[0,1,2,3,4,5,6,7]},\"id\":\"115762\",\"type\":\"FixedTicker\"},{\"attributes\":{\"below\":[{\"id\":\"115777\"}],\"center\":[{\"id\":\"115780\"},{\"id\":\"115784\"}],\"height\":120,\"left\":[{\"id\":\"115781\"}],\"renderers\":[{\"id\":\"115812\"}],\"title\":{\"id\":\"115768\"},\"toolbar\":{\"id\":\"115791\"},\"toolbar_location\":null,\"width\":800,\"x_range\":{\"id\":\"115695\"},\"x_scale\":{\"id\":\"115773\"},\"y_range\":{\"id\":\"115814\"},\"y_scale\":{\"id\":\"115775\"}},\"id\":\"115767\",\"subtype\":\"Figure\",\"type\":\"Plot\"},{\"attributes\":{\"callback\":{\"id\":\"115806\"}},\"id\":\"115789\",\"type\":\"TapTool\"},{\"attributes\":{},\"id\":\"115805\",\"type\":\"AllLabels\"},{\"attributes\":{},\"id\":\"115764\",\"type\":\"NumeralTickFormatter\"},{\"attributes\":{},\"id\":\"115778\",\"type\":\"BasicTicker\"},{\"attributes\":{\"fill_alpha\":{\"value\":0.2},\"fill_color\":{\"value\":null},\"hatch_alpha\":{\"value\":0.2},\"line_alpha\":{\"value\":0.2},\"line_width\":{\"value\":0.5},\"size\":{\"value\":3},\"x\":{\"field\":\"variant_midpoint\"},\"y\":{\"field\":\"call_NormCov\"}},\"id\":\"115729\",\"type\":\"Circle\"},{\"attributes\":{\"dimensions\":\"width\"},\"id\":\"115786\",\"type\":\"ZoomInTool\"},{\"attributes\":{\"fill_color\":{\"value\":null},\"line_width\":{\"value\":0.5},\"size\":{\"value\":3},\"x\":{\"field\":\"variant_midpoint\"},\"y\":{\"field\":\"call_NormCov\"}},\"id\":\"115727\",\"type\":\"Circle\"},{\"attributes\":{\"dimensions\":\"width\"},\"id\":\"115716\",\"type\":\"ZoomInTool\"},{\"attributes\":{\"axis\":{\"id\":\"115711\"},\"coordinates\":null,\"dimension\":1,\"group\":null,\"ticker\":null},\"id\":\"115714\",\"type\":\"Grid\"},{\"attributes\":{},\"id\":\"115773\",\"type\":\"LinearScale\"},{\"attributes\":{\"source\":{\"id\":\"115725\"}},\"id\":\"115731\",\"type\":\"CDSView\"},{\"attributes\":{\"dimensions\":\"width\"},\"id\":\"115785\",\"type\":\"PanTool\"},{\"attributes\":{},\"id\":\"115775\",\"type\":\"LinearScale\"},{\"attributes\":{\"coordinates\":null,\"data_source\":{\"id\":\"115725\"},\"glyph\":{\"id\":\"115727\"},\"group\":null,\"hover_glyph\":null,\"muted_glyph\":{\"id\":\"115729\"},\"nonselection_glyph\":{\"id\":\"115728\"},\"view\":{\"id\":\"115731\"}},\"id\":\"115730\",\"type\":\"GlyphRenderer\"},{\"attributes\":{},\"id\":\"115801\",\"type\":\"BasicTickFormatter\"},{\"attributes\":{\"line_alpha\":0.1,\"line_color\":\"#1f77b4\",\"line_width\":2,\"x\":{\"field\":\"variant_midpoint\"},\"y\":{\"field\":\"call_CN\"}},\"id\":\"115746\",\"type\":\"Line\"}],\"root_ids\":[\"115840\"]},\"title\":\"Bokeh Application\",\"version\":\"2.4.2\"}};\n",
       "  const render_items = [{\"docid\":\"bb690058-1073-447a-b16d-28c74719934b\",\"root_ids\":[\"115840\"],\"roots\":{\"115840\":\"0314f5b1-10b5-40bc-bce9-9a4fa8f5bade\"}}];\n",
       "  root.Bokeh.embed.embed_items_notebook(docs_json, render_items);\n",
       "\n",
       "  }\n",
       "  if (root.Bokeh !== undefined) {\n",
       "    embed_document(root);\n",
       "  } else {\n",
       "    let attempts = 0;\n",
       "    const timer = setInterval(function(root) {\n",
       "      if (root.Bokeh !== undefined) {\n",
       "        clearInterval(timer);\n",
       "        embed_document(root);\n",
       "      } else {\n",
       "        attempts++;\n",
       "        if (attempts > 100) {\n",
       "          clearInterval(timer);\n",
       "          console.log(\"Bokeh: ERROR: Unable to run BokehJS code because BokehJS library is missing\");\n",
       "        }\n",
       "      }\n",
       "    }, 10, root)\n",
       "  }\n",
       "})(window);"
      ],
      "application/vnd.bokehjs_exec.v0+json": ""
     },
     "metadata": {
      "application/vnd.bokehjs_exec.v0+json": {
       "id": "115840"
      }
     },
     "output_type": "display_data"
    },
    {
     "data": {
      "text/html": [
       "\n",
       "\n",
       "\n",
       "\n",
       "\n",
       "\n",
       "  <div class=\"bk-root\" id=\"cadb160e-8fbc-4351-af04-85572613d4df\" data-root-id=\"117778\"></div>\n"
      ]
     },
     "metadata": {},
     "output_type": "display_data"
    },
    {
     "data": {
      "application/javascript": [
       "(function(root) {\n",
       "  function embed_document(root) {\n",
       "    \n",
       "  const docs_json = {\"d823f9d5-3ad9-4701-8dd3-3716cbdbfe01\":{\"defs\":[],\"roots\":{\"references\":[{\"attributes\":{\"children\":[{\"id\":\"117777\"},{\"id\":\"117775\"}]},\"id\":\"117778\",\"type\":\"Column\"},{\"attributes\":{\"ticks\":[0.4,1.4]},\"id\":\"117753\",\"type\":\"FixedTicker\"},{\"attributes\":{\"dimensions\":\"width\"},\"id\":\"117654\",\"type\":\"ZoomInTool\"},{\"attributes\":{},\"id\":\"117713\",\"type\":\"LinearScale\"},{\"attributes\":{\"axis_label\":\"Contig 2L position (bp)\",\"coordinates\":null,\"formatter\":{\"id\":\"117755\"},\"group\":null,\"major_label_policy\":{\"id\":\"117743\"},\"ticker\":{\"id\":\"117716\"}},\"id\":\"117715\",\"type\":\"LinearAxis\"},{\"attributes\":{},\"id\":\"117643\",\"type\":\"LinearScale\"},{\"attributes\":{\"bottom\":{\"field\":\"bottom\"},\"fill_alpha\":{\"value\":0.5},\"fill_color\":{\"value\":\"#1f77b4\"},\"left\":{\"field\":\"start\"},\"line_color\":{\"value\":\"#1f77b4\"},\"line_width\":{\"value\":0.5},\"right\":{\"field\":\"end\"},\"top\":{\"field\":\"top\"}},\"id\":\"117747\",\"type\":\"Quad\"},{\"attributes\":{\"below\":[{\"id\":\"117645\"}],\"center\":[{\"id\":\"117648\"},{\"id\":\"117652\"},{\"id\":\"117679\"}],\"height\":170,\"left\":[{\"id\":\"117649\"}],\"renderers\":[{\"id\":\"117668\"},{\"id\":\"117686\"}],\"right\":[{\"id\":\"117679\"}],\"title\":{\"id\":\"117636\"},\"toolbar\":{\"id\":\"117657\"},\"toolbar_location\":null,\"width\":800,\"x_range\":{\"id\":\"117633\"},\"x_scale\":{\"id\":\"117641\"},\"y_range\":{\"id\":\"117639\"},\"y_scale\":{\"id\":\"117643\"}},\"id\":\"117635\",\"subtype\":\"Figure\",\"type\":\"Plot\"},{\"attributes\":{},\"id\":\"117716\",\"type\":\"BasicTicker\"},{\"attributes\":{\"axis\":{\"id\":\"117649\"},\"coordinates\":null,\"dimension\":1,\"group\":null,\"ticker\":null},\"id\":\"117652\",\"type\":\"Grid\"},{\"attributes\":{},\"id\":\"117739\",\"type\":\"BasicTickFormatter\"},{\"attributes\":{\"below\":[{\"id\":\"117715\"}],\"center\":[{\"id\":\"117718\"},{\"id\":\"117722\"}],\"height\":120,\"left\":[{\"id\":\"117719\"}],\"renderers\":[{\"id\":\"117750\"}],\"title\":{\"id\":\"117706\"},\"toolbar\":{\"id\":\"117729\"},\"toolbar_location\":null,\"width\":800,\"x_range\":{\"id\":\"117633\"},\"x_scale\":{\"id\":\"117711\"},\"y_range\":{\"id\":\"117752\"},\"y_scale\":{\"id\":\"117713\"}},\"id\":\"117705\",\"subtype\":\"Figure\",\"type\":\"Plot\"},{\"attributes\":{},\"id\":\"117711\",\"type\":\"LinearScale\"},{\"attributes\":{},\"id\":\"117740\",\"type\":\"AllLabels\"},{\"attributes\":{\"line_alpha\":0.1,\"line_color\":\"#1f77b4\",\"line_width\":2,\"x\":{\"field\":\"variant_midpoint\"},\"y\":{\"field\":\"call_CN\"}},\"id\":\"117684\",\"type\":\"Line\"},{\"attributes\":{\"callback\":{\"id\":\"117744\"}},\"id\":\"117727\",\"type\":\"TapTool\"},{\"attributes\":{\"coordinates\":null,\"group\":null,\"text\":\"CNV HMM - VBS19253-5563STDY7800341 (1244-VO-GH-YAWSON-VMF00051)\"},\"id\":\"117636\",\"type\":\"Title\"},{\"attributes\":{\"data\":{\"ID\":[\"AGAP006221\",\"AGAP006222\",\"AGAP006223\",\"AGAP006224\",\"AGAP006225\",\"AGAP006226\",\"AGAP006227\",\"AGAP006228\",\"AGAP006229\",\"AGAP006231\",\"AGAP006232\",\"AGAP006233\",\"AGAP006234\",\"AGAP006235\",\"AGAP006236\",\"AGAP006237\",\"AGAP006238\",\"AGAP006239\"],\"Name\":[\"\",\"\",\"\",\"\",\"\",\"Aldehyde_oxidase\",\"\",\"COEAE2F\",\"Vps20\",\"\",\"Pex14\",\"\",\"\",\"\",\"\",\"\",\"\",\"\"],\"Parent\":[\"NaN\",\"NaN\",\"NaN\",\"NaN\",\"NaN\",\"NaN\",\"NaN\",\"NaN\",\"NaN\",\"NaN\",\"NaN\",\"NaN\",\"NaN\",\"NaN\",\"NaN\",\"NaN\",\"NaN\",\"NaN\"],\"bottom\":[1,1,1,1,1,1,0,1,1,1,0,1,1,0,0,0,1,1],\"contig\":[\"2L\",\"2L\",\"2L\",\"2L\",\"2L\",\"2L\",\"2L\",\"2L\",\"2L\",\"2L\",\"2L\",\"2L\",\"2L\",\"2L\",\"2L\",\"2L\",\"2L\",\"2L\"],\"description\":[\"aldehyde oxidase [Source:VB Community Annotation]\",\"glucosyl/glucuronosyl transferases [Source:VB Community Annotation]\",\"glucosyl/glucuronosyl transferases [Source:VB Community Annotation]\",\"aldehyde oxidase [Source:VB Community Annotation]\",\"aldehyde oxidase [Source:VB Community Annotation]\",\"\",\"alpha esterase [Source:VB Community Annotation]\",\"carboxylesterase [Source:VB Community Annotation]\",\"vacuolar protein sorting 20 [Source:VB Community Annotation]\",\"serine/threonine-protein phosphatase dullard homolog [Source:VB Community Annotation]\",\"peroxin-14 [Source:VB Community Annotation]\",\"\",\"protein SHQ1 [Source:VB Community Annotation]\",\"\",\"\",\"Negative elongation factor E [Source:VB Community Annotation]\",\"ubiquitin-conjugating enzyme E2 C [Source:VB Community Annotation]\",\"Protein TSSC1 [Source:VB Community Annotation]\"],\"end\":[28523900,28526317,28528641,28533199,28539416,28545294,28547938,28550748,28552032,28560186,28565368,28567186,28569087,28572971,28574496,28575725,28579600,28581250],\"index\":[24735,24757,24771,24785,24801,24817,24832,24850,24862,24874,24890,24904,24912,24924,24940,24947,24953,24961],\"phase\":{\"__ndarray__\":\"AAAAAAAA+H8AAAAAAAD4fwAAAAAAAPh/AAAAAAAA+H8AAAAAAAD4fwAAAAAAAPh/AAAAAAAA+H8AAAAAAAD4fwAAAAAAAPh/AAAAAAAA+H8AAAAAAAD4fwAAAAAAAPh/AAAAAAAA+H8AAAAAAAD4fwAAAAAAAPh/AAAAAAAA+H8AAAAAAAD4fwAAAAAAAPh/\",\"dtype\":\"float64\",\"order\":\"little\",\"shape\":[18]},\"score\":{\"__ndarray__\":\"AAAAAAAA+H8AAAAAAAD4fwAAAAAAAPh/AAAAAAAA+H8AAAAAAAD4fwAAAAAAAPh/AAAAAAAA+H8AAAAAAAD4fwAAAAAAAPh/AAAAAAAA+H8AAAAAAAD4fwAAAAAAAPh/AAAAAAAA+H8AAAAAAAD4fwAAAAAAAPh/AAAAAAAA+H8AAAAAAAD4fwAAAAAAAPh/\",\"dtype\":\"float64\",\"order\":\"little\",\"shape\":[18]},\"source\":[\"VectorBase\",\"VectorBase\",\"VectorBase\",\"VectorBase\",\"VectorBase\",\"VectorBase\",\"VectorBase\",\"VectorBase\",\"VectorBase\",\"VectorBase\",\"VectorBase\",\"VectorBase\",\"VectorBase\",\"VectorBase\",\"VectorBase\",\"VectorBase\",\"VectorBase\",\"VectorBase\"],\"start\":[28518055,28524225,28526558,28528758,28534732,28540651,28545396,28548433,28550814,28552352,28563646,28565893,28567535,28569164,28573531,28574680,28576341,28579834],\"strand\":[\"+\",\"+\",\"+\",\"+\",\"+\",\"+\",\"-\",\"+\",\"+\",\"+\",\"-\",\"+\",\"+\",\"-\",\"-\",\"-\",\"+\",\"+\"],\"top\":{\"__ndarray__\":\"zczMzMzM/D/NzMzMzMz8P83MzMzMzPw/zczMzMzM/D/NzMzMzMz8P83MzMzMzPw/mpmZmZmZ6T/NzMzMzMz8P83MzMzMzPw/zczMzMzM/D+amZmZmZnpP83MzMzMzPw/zczMzMzM/D+amZmZmZnpP5qZmZmZmek/mpmZmZmZ6T/NzMzMzMz8P83MzMzMzPw/\",\"dtype\":\"float64\",\"order\":\"little\",\"shape\":[18]},\"type\":[\"gene\",\"gene\",\"gene\",\"gene\",\"gene\",\"gene\",\"gene\",\"gene\",\"gene\",\"gene\",\"gene\",\"gene\",\"gene\",\"gene\",\"gene\",\"gene\",\"gene\",\"gene\"]},\"selected\":{\"id\":\"117773\"},\"selection_policy\":{\"id\":\"117772\"}},\"id\":\"117745\",\"type\":\"ColumnDataSource\"},{\"attributes\":{\"end\":8},\"id\":\"117639\",\"type\":\"Range1d\"},{\"attributes\":{\"fill_alpha\":{\"value\":0.2},\"fill_color\":{\"value\":null},\"hatch_alpha\":{\"value\":0.2},\"line_alpha\":{\"value\":0.2},\"line_width\":{\"value\":0.5},\"size\":{\"value\":3},\"x\":{\"field\":\"variant_midpoint\"},\"y\":{\"field\":\"call_NormCov\"}},\"id\":\"117667\",\"type\":\"Circle\"},{\"attributes\":{},\"id\":\"117646\",\"type\":\"BasicTicker\"},{\"attributes\":{\"axis\":{\"id\":\"117719\"},\"coordinates\":null,\"dimension\":1,\"group\":null,\"ticker\":null,\"visible\":false},\"id\":\"117722\",\"type\":\"Grid\"},{\"attributes\":{},\"id\":\"117656\",\"type\":\"ResetTool\"},{\"attributes\":{\"axis_label\":\"Copy number\",\"coordinates\":null,\"formatter\":{\"id\":\"117672\"},\"group\":null,\"major_label_policy\":{\"id\":\"117673\"},\"ticker\":{\"id\":\"117700\"}},\"id\":\"117649\",\"type\":\"LinearAxis\"},{\"attributes\":{\"coordinates\":null,\"formatter\":{\"id\":\"117739\"},\"group\":null,\"major_label_overrides\":{\"0.4\":\"-\",\"1.4\":\"+\"},\"major_label_policy\":{\"id\":\"117740\"},\"ticker\":{\"id\":\"117753\"}},\"id\":\"117719\",\"type\":\"LinearAxis\"},{\"attributes\":{\"line_color\":\"#1f77b4\",\"line_width\":2,\"x\":{\"field\":\"variant_midpoint\"},\"y\":{\"field\":\"call_CN\"}},\"id\":\"117683\",\"type\":\"Line\"},{\"attributes\":{},\"id\":\"117743\",\"type\":\"AllLabels\"},{\"attributes\":{\"axis\":{\"id\":\"117645\"},\"coordinates\":null,\"group\":null,\"ticker\":null},\"id\":\"117648\",\"type\":\"Grid\"},{\"attributes\":{\"data\":{\"call_CN\":{\"__ndarray__\":\"AgICAgIGAgICAgICAgICAgICAgICAgICAgYCAgICAgICAgICAgICAgICAgICAgICAgICAgICAgICAgICAgICAgICAgICAgICAgICAgYGBgYGBgYGBgYGBgYGBgYGBgYGBgYGBgYGBgYCAgICAgICAgICAgICAgICAgICAgICAgICAgICAgICAgICAgICAgICAgICAgICAgICAgICAgICAgICAgICAgICAgICAgICAgICAgICAgICAgICAgICAgYCAgICAgICAgI=\",\"dtype\":\"int8\",\"order\":\"little\",\"shape\":[200]},\"call_NormCov\":{\"__ndarray__\":\"lkO7P1g55D+R7fw/okUGQN9P7T+Nl7pATmLwPzeJAUA1Xuo/DALbP9nOL0Cq8QpArkcJQMP1GEAAAABACtfjPwisBEBkO58/JzG4PwisBEB7FA5ALbINQArX4z/fT+0/PQrnP1K4skAfhTNACtfjPzeJAUAAAABArBzqP4cWuT8CK5c/N4nBP9nOB0C8dPM/30/tP9EiA0A3iQFAMQgUQJHtHED6fhJAi2wPQA4tGkA1XiJANV4iQPLSFUBxPRpAukkUQDEIFEDLoR1A6SbRP/CnTkBOYiBAhesxQLx08z+q8QpAexQOQAAAAEAdWjRAN4kBQFyP4j9YOeQ/JQYZQAaB5T8X2TZA2c4HQDVe6j+cxCBAqvECQKrxCkA3iQFA5dAKQAAAAEBeuvk/ZDsfQDm0nEAIrIxAy6GFQAAA7ECHFq1AnMSkQMP1tEAdWqBAj8K5QNnOs0CcxMBAUriyQHWTqEBt58NAL92cQPhTu0Cync9AexSmQCGwrkDZzqdAsp2PQAAAEEEv3bxAyXaiQEoMrkAQWLFATmKwQL6flkAIrARARrbzPyGwKkCiRS5A6SYRQNEiE0DfT+0/nu/XPxBYCUDdJAZAhesxQEa2K0CmmwRAw/UQQKAaF0DZzkdAAAAAQIts1z+F67E/CKwEQKJFRkD0/SRAy6EdQNej8D+gGhdA/KkpQGQ7D0AAAABAdZMoQPp+2j/pJhFA2c4vQOF6DEBeuvk/ZDsfQAAAAEDZzsc/AAAAQB1aDEA3iQFAHVrUPzeJAUCe79c/okUGQJzEIED0/SRASOECQIPAEkDRIgNACKwEQBBYCUC+n+o/AAAAQAAAIECynQ9AokUGQOF6DECR7fw/qvEKQJzE8D9WDjVA308VQPhTO0AdWvQ/F9kuQFYO/T83iQFAtMjWPzVe6j+oxhtAnMTwPwisBECe79c/QmBFQIGVE0BEiwRAF9keQHE9GkBGtvM/AAAQQKrx4j+uRwlAqvEKQIPAEkAtsg1Ake38P5huvkA3iQFAN4kBQEJg1T/pJhFA+n4SQFTjDUBkOx9AMzMrQAAAAEA=\",\"dtype\":\"float32\",\"order\":\"little\",\"shape\":[200]},\"samples\":[\"VBS19253-5563STDY7800341\",\"VBS19253-5563STDY7800341\",\"VBS19253-5563STDY7800341\",\"VBS19253-5563STDY7800341\",\"VBS19253-5563STDY7800341\",\"VBS19253-5563STDY7800341\",\"VBS19253-5563STDY7800341\",\"VBS19253-5563STDY7800341\",\"VBS19253-5563STDY7800341\",\"VBS19253-5563STDY7800341\",\"VBS19253-5563STDY7800341\",\"VBS19253-5563STDY7800341\",\"VBS19253-5563STDY7800341\",\"VBS19253-5563STDY7800341\",\"VBS19253-5563STDY7800341\",\"VBS19253-5563STDY7800341\",\"VBS19253-5563STDY7800341\",\"VBS19253-5563STDY7800341\",\"VBS19253-5563STDY7800341\",\"VBS19253-5563STDY7800341\",\"VBS19253-5563STDY7800341\",\"VBS19253-5563STDY7800341\",\"VBS19253-5563STDY7800341\",\"VBS19253-5563STDY7800341\",\"VBS19253-5563STDY7800341\",\"VBS19253-5563STDY7800341\",\"VBS19253-5563STDY7800341\",\"VBS19253-5563STDY7800341\",\"VBS19253-5563STDY7800341\",\"VBS19253-5563STDY7800341\",\"VBS19253-5563STDY7800341\",\"VBS19253-5563STDY7800341\",\"VBS19253-5563STDY7800341\",\"VBS19253-5563STDY7800341\",\"VBS19253-5563STDY7800341\",\"VBS19253-5563STDY7800341\",\"VBS19253-5563STDY7800341\",\"VBS19253-5563STDY7800341\",\"VBS19253-5563STDY7800341\",\"VBS19253-5563STDY7800341\",\"VBS19253-5563STDY7800341\",\"VBS19253-5563STDY7800341\",\"VBS19253-5563STDY7800341\",\"VBS19253-5563STDY7800341\",\"VBS19253-5563STDY7800341\",\"VBS19253-5563STDY7800341\",\"VBS19253-5563STDY7800341\",\"VBS19253-5563STDY7800341\",\"VBS19253-5563STDY7800341\",\"VBS19253-5563STDY7800341\",\"VBS19253-5563STDY7800341\",\"VBS19253-5563STDY7800341\",\"VBS19253-5563STDY7800341\",\"VBS19253-5563STDY7800341\",\"VBS19253-5563STDY7800341\",\"VBS19253-5563STDY7800341\",\"VBS19253-5563STDY7800341\",\"VBS19253-5563STDY7800341\",\"VBS19253-5563STDY7800341\",\"VBS19253-5563STDY7800341\",\"VBS19253-5563STDY7800341\",\"VBS19253-5563STDY7800341\",\"VBS19253-5563STDY7800341\",\"VBS19253-5563STDY7800341\",\"VBS19253-5563STDY7800341\",\"VBS19253-5563STDY7800341\",\"VBS19253-5563STDY7800341\",\"VBS19253-5563STDY7800341\",\"VBS19253-5563STDY7800341\",\"VBS19253-5563STDY7800341\",\"VBS19253-5563STDY7800341\",\"VBS19253-5563STDY7800341\",\"VBS19253-5563STDY7800341\",\"VBS19253-5563STDY7800341\",\"VBS19253-5563STDY7800341\",\"VBS19253-5563STDY7800341\",\"VBS19253-5563STDY7800341\",\"VBS19253-5563STDY7800341\",\"VBS19253-5563STDY7800341\",\"VBS19253-5563STDY7800341\",\"VBS19253-5563STDY7800341\",\"VBS19253-5563STDY7800341\",\"VBS19253-5563STDY7800341\",\"VBS19253-5563STDY7800341\",\"VBS19253-5563STDY7800341\",\"VBS19253-5563STDY7800341\",\"VBS19253-5563STDY7800341\",\"VBS19253-5563STDY7800341\",\"VBS19253-5563STDY7800341\",\"VBS19253-5563STDY7800341\",\"VBS19253-5563STDY7800341\",\"VBS19253-5563STDY7800341\",\"VBS19253-5563STDY7800341\",\"VBS19253-5563STDY7800341\",\"VBS19253-5563STDY7800341\",\"VBS19253-5563STDY7800341\",\"VBS19253-5563STDY7800341\",\"VBS19253-5563STDY7800341\",\"VBS19253-5563STDY7800341\",\"VBS19253-5563STDY7800341\",\"VBS19253-5563STDY7800341\",\"VBS19253-5563STDY7800341\",\"VBS19253-5563STDY7800341\",\"VBS19253-5563STDY7800341\",\"VBS19253-5563STDY7800341\",\"VBS19253-5563STDY7800341\",\"VBS19253-5563STDY7800341\",\"VBS19253-5563STDY7800341\",\"VBS19253-5563STDY7800341\",\"VBS19253-5563STDY7800341\",\"VBS19253-5563STDY7800341\",\"VBS19253-5563STDY7800341\",\"VBS19253-5563STDY7800341\",\"VBS19253-5563STDY7800341\",\"VBS19253-5563STDY7800341\",\"VBS19253-5563STDY7800341\",\"VBS19253-5563STDY7800341\",\"VBS19253-5563STDY7800341\",\"VBS19253-5563STDY7800341\",\"VBS19253-5563STDY7800341\",\"VBS19253-5563STDY7800341\",\"VBS19253-5563STDY7800341\",\"VBS19253-5563STDY7800341\",\"VBS19253-5563STDY7800341\",\"VBS19253-5563STDY7800341\",\"VBS19253-5563STDY7800341\",\"VBS19253-5563STDY7800341\",\"VBS19253-5563STDY7800341\",\"VBS19253-5563STDY7800341\",\"VBS19253-5563STDY7800341\",\"VBS19253-5563STDY7800341\",\"VBS19253-5563STDY7800341\",\"VBS19253-5563STDY7800341\",\"VBS19253-5563STDY7800341\",\"VBS19253-5563STDY7800341\",\"VBS19253-5563STDY7800341\",\"VBS19253-5563STDY7800341\",\"VBS19253-5563STDY7800341\",\"VBS19253-5563STDY7800341\",\"VBS19253-5563STDY7800341\",\"VBS19253-5563STDY7800341\",\"VBS19253-5563STDY7800341\",\"VBS19253-5563STDY7800341\",\"VBS19253-5563STDY7800341\",\"VBS19253-5563STDY7800341\",\"VBS19253-5563STDY7800341\",\"VBS19253-5563STDY7800341\",\"VBS19253-5563STDY7800341\",\"VBS19253-5563STDY7800341\",\"VBS19253-5563STDY7800341\",\"VBS19253-5563STDY7800341\",\"VBS19253-5563STDY7800341\",\"VBS19253-5563STDY7800341\",\"VBS19253-5563STDY7800341\",\"VBS19253-5563STDY7800341\",\"VBS19253-5563STDY7800341\",\"VBS19253-5563STDY7800341\",\"VBS19253-5563STDY7800341\",\"VBS19253-5563STDY7800341\",\"VBS19253-5563STDY7800341\",\"VBS19253-5563STDY7800341\",\"VBS19253-5563STDY7800341\",\"VBS19253-5563STDY7800341\",\"VBS19253-5563STDY7800341\",\"VBS19253-5563STDY7800341\",\"VBS19253-5563STDY7800341\",\"VBS19253-5563STDY7800341\",\"VBS19253-5563STDY7800341\",\"VBS19253-5563STDY7800341\",\"VBS19253-5563STDY7800341\",\"VBS19253-5563STDY7800341\",\"VBS19253-5563STDY7800341\",\"VBS19253-5563STDY7800341\",\"VBS19253-5563STDY7800341\",\"VBS19253-5563STDY7800341\",\"VBS19253-5563STDY7800341\",\"VBS19253-5563STDY7800341\",\"VBS19253-5563STDY7800341\",\"VBS19253-5563STDY7800341\",\"VBS19253-5563STDY7800341\",\"VBS19253-5563STDY7800341\",\"VBS19253-5563STDY7800341\",\"VBS19253-5563STDY7800341\",\"VBS19253-5563STDY7800341\",\"VBS19253-5563STDY7800341\",\"VBS19253-5563STDY7800341\",\"VBS19253-5563STDY7800341\",\"VBS19253-5563STDY7800341\",\"VBS19253-5563STDY7800341\",\"VBS19253-5563STDY7800341\",\"VBS19253-5563STDY7800341\",\"VBS19253-5563STDY7800341\",\"VBS19253-5563STDY7800341\",\"VBS19253-5563STDY7800341\",\"VBS19253-5563STDY7800341\",\"VBS19253-5563STDY7800341\",\"VBS19253-5563STDY7800341\",\"VBS19253-5563STDY7800341\",\"VBS19253-5563STDY7800341\",\"VBS19253-5563STDY7800341\"],\"variant_contig\":{\"__ndarray__\":\"AQEBAQEBAQEBAQEBAQEBAQEBAQEBAQEBAQEBAQEBAQEBAQEBAQEBAQEBAQEBAQEBAQEBAQEBAQEBAQEBAQEBAQEBAQEBAQEBAQEBAQEBAQEBAQEBAQEBAQEBAQEBAQEBAQEBAQEBAQEBAQEBAQEBAQEBAQEBAQEBAQEBAQEBAQEBAQEBAQEBAQEBAQEBAQEBAQEBAQEBAQEBAQEBAQEBAQEBAQEBAQEBAQEBAQEBAQEBAQEBAQEBAQEBAQEBAQEBAQEBAQEBAQE=\",\"dtype\":\"uint8\",\"order\":\"little\",\"shape\":[200]},\"variant_end\":{\"__ndarray__\":\"pC6zAdAvswH8MLMBKDKzAVQzswGANLMBrDWzAdg2swEEOLMBMDmzAVw6swGIO7MBtDyzAeA9swEMP7MBOECzAWRBswGQQrMBvEOzAehEswEURrMBQEezAWxIswGYSbMBxEqzAfBLswEcTbMBSE6zAXRPswGgULMBzFGzAfhSswEkVLMBUFWzAXxWswGoV7MB1FizAQBaswEsW7MBWFyzAYRdswGwXrMB3F+zAQhhswE0YrMBYGOzAYxkswG4ZbMB5GazARBoswE8abMBaGqzAZRrswHAbLMB7G2zARhvswFEcLMBcHGzAZxyswHIc7MB9HSzASB2swFMd7MBeHizAaR5swHQerMB/HuzASh9swFUfrMBgH+zAayAswHYgbMBBIOzATCEswFchbMBiIazAbSHswHgiLMBDIqzATiLswFkjLMBkI2zAbyOswHoj7MBFJGzAUCSswFsk7MBmJSzAcSVswHwlrMBHJizAUiZswF0mrMBoJuzAcycswH4nbMBJJ+zAVCgswF8obMBqKKzAdSjswEApbMBLKazAVinswGEqLMBsKmzAdyqswEIrLMBNK2zAWCuswGMr7MBuLCzAeSxswEQs7MBPLSzAWi1swGUtrMBwLezAey4swEYurMBRLuzAXC8swGcvbMByL6zAfS/swEgwbMBTMKzAXjDswGkxLMB0MWzAfzGswEoyLMBVMmzAYDKswGsy7MB2MyzAQTOswEwz7MBXNCzAbTSswHg07MBDNWzATjWswFk17MBkNizAbzZswHo2rMBFNyzAUDdswFs3rMBmN+zAcTgswHw4bMBHOOzAUjkswF05bMBoOazAcznswH46LMBJOqzAVDrswF87LMBqO2zAdTuswEA8LMBLPGzAVjyswGE87MBsPSzAdz1swEI97MBNPizAWD5swGM+rMBuPuzAeT8swEQ/rMBPP+zAWgAtAGUAbQBwAK0AewDtAEYBbQBRAa0AXAHtAGcCLQByAm0AfQKtAEgDLQBTA20AXgOtAGkD7QB0BC0AfwRtAEoE7QBVBS0AYAVtAGsFrQB2Be0AQQZtAE=\",\"dtype\":\"int32\",\"order\":\"little\",\"shape\":[200]},\"variant_midpoint\":{\"__ndarray__\":\"Dy6zATsvswFnMLMBkzGzAb8yswHrM7MBFzWzAUM2swFvN7MBmzizAcc5swHzOrMBHzyzAUs9swF3PrMBoz+zAc9AswH7QbMBJ0OzAVNEswF/RbMBq0azAddHswEDSbMBL0qzAVtLswGHTLMBs02zAd9OswELULMBN1GzAWNSswGPU7MBu1SzAedVswETV7MBP1izAWtZswGXWrMBw1uzAe9cswEbXrMBR1+zAXNgswGfYbMBy2KzAfdjswEjZbMBT2azAXtnswGnaLMB02mzAf9qswErbLMBV22zAYNuswGvb7MB23CzAQdyswEzc7MBX3SzAYt1swG3drMB43ezAQ95swE7erMBZ3uzAZN8swG/fbMB636zAReAswFDgbMBb4KzAZuDswHHhLMB84WzAR+HswFLiLMBd4mzAaOKswHPi7MB+4yzASeOswFTj7MBf5CzAauRswHXkrMBA5SzAS+VswFblrMBh5ezAbOYswHfmbMBC5uzATecswFjnbMBj56zAbufswHnoLMBE6KzAT+jswFrpLMBl6WzAcOmswHvp7MBG6mzAUeqswFzq7MBn6yzAcutswH3rrMBI7CzAU+xswF7srMBp7OzAdO0swH/tbMBK7ezAVe4swGDubMBr7qzAdu7swEHvbMBM76zAV+/swGLwLMBt8GzAePCswEPxLMBO8WzAWfGswGTx7MBv8izAevJswEXy7MBQ8yzAW/NswGbzrMBx8+zAR/SswFL07MBd9SzAaPVswHP1rMB+9ezASfZswFT2rMBf9uzAavcswHX3bMBA9+zAS/gswFb4bMBh+KzAbPjswHf5LMBC+azATfnswFj6LMBj+mzAbvqswHn67MBE+2zAT/uswFr77MBl/CzAcPxswHv8rMBG/SzAUf1swFz9rMBn/ezAcv4swH3+bMBI/uzAU/8swF7/bMBp/6zAdP/swH/ALQBKwK0AVcDtAGDBLQBrwW0AdsGtAEHCLQBMwm0AV8KtAGLC7QBtwy0AeMNtAEPD7QBOxC0AWcRtAGTErQBvxO0AesUtAEXFrQBQxe0AW8YtAE=\",\"dtype\":\"int32\",\"order\":\"little\",\"shape\":[200]},\"variant_position\":{\"__ndarray__\":\"eS2zAaUuswHRL7MB/TCzASkyswFVM7MBgTSzAa01swHZNrMBBTizATE5swFdOrMBiTuzAbU8swHhPbMBDT+zATlAswFlQbMBkUKzAb1DswHpRLMBFUazAUFHswFtSLMBmUmzAcVKswHxS7MBHU2zAUlOswF1T7MBoVCzAc1RswH5UrMBJVSzAVFVswF9VrMBqVezAdVYswEBWrMBLVuzAVlcswGFXbMBsV6zAd1fswEJYbMBNWKzAWFjswGNZLMBuWWzAeVmswERaLMBPWmzAWlqswGVa7MBwWyzAe1tswEZb7MBRXCzAXFxswGdcrMByXOzAfV0swEhdrMBTXezAXl4swGlebMB0XqzAf17swEpfbMBVX6zAYF/swGtgLMB2YGzAQWDswExhLMBXYWzAYmGswG1h7MB4YizAQ2KswE5i7MBZYyzAZGNswG9jrMB6Y+zARWRswFBkrMBbZOzAZmUswHFlbMB8ZazAR2YswFJmbMBdZqzAaGbswHNnLMB+Z2zASWfswFRoLMBfaGzAamiswHVo7MBAaWzAS2mswFZp7MBhaizAbGpswHdqrMBCayzATWtswFhrrMBja+zAbmwswHlsbMBEbOzAT20swFptbMBlbazAcG3swHtuLMBGbqzAUW7swFxvLMBnb2zAcm+swH1v7MBIcGzAU3CswF5w7MBpcSzAdHFswH9xrMBKcizAVXJswGByrMBrcuzAdnMswEFzrMBMc+zAYnRswG10rMB4dOzAQ3VswE51rMBZdezAZHYswG92bMB6dqzARXcswFB3bMBbd6zAZnfswHF4LMB8eGzAR3jswFJ5LMBdeWzAaHmswHN57MB+eizASXqswFR67MBfeyzAantswHV7rMBAfCzAS3xswFZ8rMBhfOzAbH0swHd9bMBCfezATX4swFh+bMBjfqzAbn7swHl/LMBEf6zAT3/swFpALQBlQG0AcECtAHtA7QBGQW0AUUGtAFxB7QBnQi0AckJtAH1CrQBIQy0AU0NtAF5DrQBpQ+0AdEQtAH9EbQBKRO0AVUUtAGBFbQBrRa0AdkXtAE=\",\"dtype\":\"int32\",\"order\":\"little\",\"shape\":[200]},\"variants\":[0,1,2,3,4,5,6,7,8,9,10,11,12,13,14,15,16,17,18,19,20,21,22,23,24,25,26,27,28,29,30,31,32,33,34,35,36,37,38,39,40,41,42,43,44,45,46,47,48,49,50,51,52,53,54,55,56,57,58,59,60,61,62,63,64,65,66,67,68,69,70,71,72,73,74,75,76,77,78,79,80,81,82,83,84,85,86,87,88,89,90,91,92,93,94,95,96,97,98,99,100,101,102,103,104,105,106,107,108,109,110,111,112,113,114,115,116,117,118,119,120,121,122,123,124,125,126,127,128,129,130,131,132,133,134,135,136,137,138,140,141,142,143,144,145,146,147,148,149,150,151,152,153,154,155,156,157,158,159,160,161,162,163,164,165,166,167,168,169,170,171,172,173,174,175,176,177,178,179,180,181,182,183,184,185,186,187,188,189,190,191,192,193,194,195,196,197,198,199,200]},\"selected\":{\"id\":\"117678\"},\"selection_policy\":{\"id\":\"117677\"}},\"id\":\"117663\",\"type\":\"ColumnDataSource\"},{\"attributes\":{\"active_drag\":{\"id\":\"117653\"},\"active_scroll\":{\"id\":\"117634\"},\"tools\":[{\"id\":\"117634\"},{\"id\":\"117653\"},{\"id\":\"117654\"},{\"id\":\"117655\"},{\"id\":\"117656\"}]},\"id\":\"117657\",\"type\":\"Toolbar\"},{\"attributes\":{\"dimensions\":\"width\",\"maintain_focus\":false},\"id\":\"117634\",\"type\":\"WheelZoomTool\"},{\"attributes\":{\"callback\":null,\"tooltips\":[[\"ID\",\"@ID\"],[\"Name\",\"@Name\"],[\"Description\",\"@description\"],[\"Location\",\"@contig:@start{,}-@end{,}\"]]},\"id\":\"117728\",\"type\":\"HoverTool\"},{\"attributes\":{},\"id\":\"117677\",\"type\":\"UnionRenderers\"},{\"attributes\":{\"source\":{\"id\":\"117663\"}},\"id\":\"117669\",\"type\":\"CDSView\"},{\"attributes\":{},\"id\":\"117672\",\"type\":\"BasicTickFormatter\"},{\"attributes\":{\"bounds\":\"auto\",\"end\":28580100,\"start\":28519801},\"id\":\"117633\",\"type\":\"Range1d\"},{\"attributes\":{},\"id\":\"117678\",\"type\":\"Selection\"},{\"attributes\":{},\"id\":\"117773\",\"type\":\"Selection\"},{\"attributes\":{},\"id\":\"117641\",\"type\":\"LinearScale\"},{\"attributes\":{},\"id\":\"117673\",\"type\":\"AllLabels\"},{\"attributes\":{\"dimensions\":\"width\"},\"id\":\"117653\",\"type\":\"PanTool\"},{\"attributes\":{\"coordinates\":null,\"data_source\":{\"id\":\"117663\"},\"glyph\":{\"id\":\"117665\"},\"group\":null,\"hover_glyph\":null,\"muted_glyph\":{\"id\":\"117667\"},\"nonselection_glyph\":{\"id\":\"117666\"},\"view\":{\"id\":\"117669\"}},\"id\":\"117668\",\"type\":\"GlyphRenderer\"},{\"attributes\":{},\"id\":\"117676\",\"type\":\"AllLabels\"},{\"attributes\":{\"toolbars\":[{\"id\":\"117657\"},{\"id\":\"117729\"}],\"tools\":[{\"id\":\"117634\"},{\"id\":\"117653\"},{\"id\":\"117654\"},{\"id\":\"117655\"},{\"id\":\"117656\"},{\"id\":\"117704\"},{\"id\":\"117723\"},{\"id\":\"117724\"},{\"id\":\"117725\"},{\"id\":\"117726\"},{\"id\":\"117727\"},{\"id\":\"117728\"}]},\"id\":\"117776\",\"type\":\"ProxyToolbar\"},{\"attributes\":{\"axis\":{\"id\":\"117715\"},\"coordinates\":null,\"group\":null,\"ticker\":null},\"id\":\"117718\",\"type\":\"Grid\"},{\"attributes\":{},\"id\":\"117772\",\"type\":\"UnionRenderers\"},{\"attributes\":{},\"id\":\"117698\",\"type\":\"Selection\"},{\"attributes\":{\"active_drag\":{\"id\":\"117723\"},\"active_scroll\":{\"id\":\"117704\"},\"tools\":[{\"id\":\"117704\"},{\"id\":\"117723\"},{\"id\":\"117724\"},{\"id\":\"117725\"},{\"id\":\"117726\"},{\"id\":\"117727\"},{\"id\":\"117728\"}]},\"id\":\"117729\",\"type\":\"Toolbar\"},{\"attributes\":{\"dimensions\":\"width\"},\"id\":\"117655\",\"type\":\"ZoomOutTool\"},{\"attributes\":{\"url\":\"https://vectorbase.org/vectorbase/app/record/gene/@ID\"},\"id\":\"117744\",\"type\":\"OpenURL\"},{\"attributes\":{\"label\":{\"value\":\"Coverage\"},\"renderers\":[{\"id\":\"117668\"}]},\"id\":\"117680\",\"type\":\"LegendItem\"},{\"attributes\":{\"dimensions\":\"width\",\"maintain_focus\":false},\"id\":\"117704\",\"type\":\"WheelZoomTool\"},{\"attributes\":{\"dimensions\":\"width\"},\"id\":\"117724\",\"type\":\"ZoomInTool\"},{\"attributes\":{\"source\":{\"id\":\"117745\"}},\"id\":\"117751\",\"type\":\"CDSView\"},{\"attributes\":{\"coordinates\":null,\"group\":null,\"text\":\"Genes\"},\"id\":\"117706\",\"type\":\"Title\"},{\"attributes\":{\"line_alpha\":0.2,\"line_color\":\"#1f77b4\",\"line_width\":2,\"x\":{\"field\":\"variant_midpoint\"},\"y\":{\"field\":\"call_CN\"}},\"id\":\"117685\",\"type\":\"Line\"},{\"attributes\":{\"axis_label\":\"Contig 2L position (bp)\",\"coordinates\":null,\"formatter\":{\"id\":\"117702\"},\"group\":null,\"major_label_policy\":{\"id\":\"117676\"},\"ticker\":{\"id\":\"117646\"},\"visible\":false},\"id\":\"117645\",\"type\":\"LinearAxis\"},{\"attributes\":{\"dimensions\":\"width\"},\"id\":\"117725\",\"type\":\"ZoomOutTool\"},{\"attributes\":{\"end\":2.2,\"start\":-0.4},\"id\":\"117752\",\"type\":\"Range1d\"},{\"attributes\":{\"dimensions\":\"width\"},\"id\":\"117723\",\"type\":\"PanTool\"},{\"attributes\":{},\"id\":\"117697\",\"type\":\"UnionRenderers\"},{\"attributes\":{\"coordinates\":null,\"data_source\":{\"id\":\"117745\"},\"glyph\":{\"id\":\"117747\"},\"group\":null,\"hover_glyph\":null,\"muted_glyph\":{\"id\":\"117749\"},\"nonselection_glyph\":{\"id\":\"117748\"},\"view\":{\"id\":\"117751\"}},\"id\":\"117750\",\"type\":\"GlyphRenderer\"},{\"attributes\":{},\"id\":\"117702\",\"type\":\"NumeralTickFormatter\"},{\"attributes\":{\"children\":[[{\"id\":\"117635\"},0,0],[{\"id\":\"117705\"},1,0]]},\"id\":\"117775\",\"type\":\"GridBox\"},{\"attributes\":{\"ticks\":[0,1,2,3,4,5,6,7,8]},\"id\":\"117700\",\"type\":\"FixedTicker\"},{\"attributes\":{\"bottom\":{\"field\":\"bottom\"},\"fill_alpha\":{\"value\":0.2},\"fill_color\":{\"value\":\"#1f77b4\"},\"hatch_alpha\":{\"value\":0.2},\"left\":{\"field\":\"start\"},\"line_alpha\":{\"value\":0.2},\"line_color\":{\"value\":\"#1f77b4\"},\"line_width\":{\"value\":0.5},\"right\":{\"field\":\"end\"},\"top\":{\"field\":\"top\"}},\"id\":\"117749\",\"type\":\"Quad\"},{\"attributes\":{\"fill_alpha\":{\"value\":0.1},\"fill_color\":{\"value\":null},\"hatch_alpha\":{\"value\":0.1},\"line_alpha\":{\"value\":0.1},\"line_width\":{\"value\":0.5},\"size\":{\"value\":3},\"x\":{\"field\":\"variant_midpoint\"},\"y\":{\"field\":\"call_NormCov\"}},\"id\":\"117666\",\"type\":\"Circle\"},{\"attributes\":{\"data\":{\"call_CN\":{\"__ndarray__\":\"AgICAgIGAgICAgICAgICAgICAgICAgICAgYCAgICAgICAgICAgICAgICAgICAgICAgICAgICAgICAgICAgICAgICAgICAgICAgICAgYGBgYGBgYGBgYGBgYGBgYGBgYGBgYGBgYGBgYCAgICAgICAgICAgICAgICAgICAgICAgICAgICAgICAgICAgICAgICAgICAgICAgICAgICAgICAgICAgICAgICAgICAgICAgICAgICAgICAgICAgICAgYCAgICAgICAgI=\",\"dtype\":\"int8\",\"order\":\"little\",\"shape\":[200]},\"call_NormCov\":{\"__ndarray__\":\"lkO7P1g55D+R7fw/okUGQN9P7T+Nl7pATmLwPzeJAUA1Xuo/DALbP9nOL0Cq8QpArkcJQMP1GEAAAABACtfjPwisBEBkO58/JzG4PwisBEB7FA5ALbINQArX4z/fT+0/PQrnP1K4skAfhTNACtfjPzeJAUAAAABArBzqP4cWuT8CK5c/N4nBP9nOB0C8dPM/30/tP9EiA0A3iQFAMQgUQJHtHED6fhJAi2wPQA4tGkA1XiJANV4iQPLSFUBxPRpAukkUQDEIFEDLoR1A6SbRP/CnTkBOYiBAhesxQLx08z+q8QpAexQOQAAAAEAdWjRAN4kBQFyP4j9YOeQ/JQYZQAaB5T8X2TZA2c4HQDVe6j+cxCBAqvECQKrxCkA3iQFA5dAKQAAAAEBeuvk/ZDsfQDm0nEAIrIxAy6GFQAAA7ECHFq1AnMSkQMP1tEAdWqBAj8K5QNnOs0CcxMBAUriyQHWTqEBt58NAL92cQPhTu0Cync9AexSmQCGwrkDZzqdAsp2PQAAAEEEv3bxAyXaiQEoMrkAQWLFATmKwQL6flkAIrARARrbzPyGwKkCiRS5A6SYRQNEiE0DfT+0/nu/XPxBYCUDdJAZAhesxQEa2K0CmmwRAw/UQQKAaF0DZzkdAAAAAQIts1z+F67E/CKwEQKJFRkD0/SRAy6EdQNej8D+gGhdA/KkpQGQ7D0AAAABAdZMoQPp+2j/pJhFA2c4vQOF6DEBeuvk/ZDsfQAAAAEDZzsc/AAAAQB1aDEA3iQFAHVrUPzeJAUCe79c/okUGQJzEIED0/SRASOECQIPAEkDRIgNACKwEQBBYCUC+n+o/AAAAQAAAIECynQ9AokUGQOF6DECR7fw/qvEKQJzE8D9WDjVA308VQPhTO0AdWvQ/F9kuQFYO/T83iQFAtMjWPzVe6j+oxhtAnMTwPwisBECe79c/QmBFQIGVE0BEiwRAF9keQHE9GkBGtvM/AAAQQKrx4j+uRwlAqvEKQIPAEkAtsg1Ake38P5huvkA3iQFAN4kBQEJg1T/pJhFA+n4SQFTjDUBkOx9AMzMrQAAAAEA=\",\"dtype\":\"float32\",\"order\":\"little\",\"shape\":[200]},\"samples\":[\"VBS19253-5563STDY7800341\",\"VBS19253-5563STDY7800341\",\"VBS19253-5563STDY7800341\",\"VBS19253-5563STDY7800341\",\"VBS19253-5563STDY7800341\",\"VBS19253-5563STDY7800341\",\"VBS19253-5563STDY7800341\",\"VBS19253-5563STDY7800341\",\"VBS19253-5563STDY7800341\",\"VBS19253-5563STDY7800341\",\"VBS19253-5563STDY7800341\",\"VBS19253-5563STDY7800341\",\"VBS19253-5563STDY7800341\",\"VBS19253-5563STDY7800341\",\"VBS19253-5563STDY7800341\",\"VBS19253-5563STDY7800341\",\"VBS19253-5563STDY7800341\",\"VBS19253-5563STDY7800341\",\"VBS19253-5563STDY7800341\",\"VBS19253-5563STDY7800341\",\"VBS19253-5563STDY7800341\",\"VBS19253-5563STDY7800341\",\"VBS19253-5563STDY7800341\",\"VBS19253-5563STDY7800341\",\"VBS19253-5563STDY7800341\",\"VBS19253-5563STDY7800341\",\"VBS19253-5563STDY7800341\",\"VBS19253-5563STDY7800341\",\"VBS19253-5563STDY7800341\",\"VBS19253-5563STDY7800341\",\"VBS19253-5563STDY7800341\",\"VBS19253-5563STDY7800341\",\"VBS19253-5563STDY7800341\",\"VBS19253-5563STDY7800341\",\"VBS19253-5563STDY7800341\",\"VBS19253-5563STDY7800341\",\"VBS19253-5563STDY7800341\",\"VBS19253-5563STDY7800341\",\"VBS19253-5563STDY7800341\",\"VBS19253-5563STDY7800341\",\"VBS19253-5563STDY7800341\",\"VBS19253-5563STDY7800341\",\"VBS19253-5563STDY7800341\",\"VBS19253-5563STDY7800341\",\"VBS19253-5563STDY7800341\",\"VBS19253-5563STDY7800341\",\"VBS19253-5563STDY7800341\",\"VBS19253-5563STDY7800341\",\"VBS19253-5563STDY7800341\",\"VBS19253-5563STDY7800341\",\"VBS19253-5563STDY7800341\",\"VBS19253-5563STDY7800341\",\"VBS19253-5563STDY7800341\",\"VBS19253-5563STDY7800341\",\"VBS19253-5563STDY7800341\",\"VBS19253-5563STDY7800341\",\"VBS19253-5563STDY7800341\",\"VBS19253-5563STDY7800341\",\"VBS19253-5563STDY7800341\",\"VBS19253-5563STDY7800341\",\"VBS19253-5563STDY7800341\",\"VBS19253-5563STDY7800341\",\"VBS19253-5563STDY7800341\",\"VBS19253-5563STDY7800341\",\"VBS19253-5563STDY7800341\",\"VBS19253-5563STDY7800341\",\"VBS19253-5563STDY7800341\",\"VBS19253-5563STDY7800341\",\"VBS19253-5563STDY7800341\",\"VBS19253-5563STDY7800341\",\"VBS19253-5563STDY7800341\",\"VBS19253-5563STDY7800341\",\"VBS19253-5563STDY7800341\",\"VBS19253-5563STDY7800341\",\"VBS19253-5563STDY7800341\",\"VBS19253-5563STDY7800341\",\"VBS19253-5563STDY7800341\",\"VBS19253-5563STDY7800341\",\"VBS19253-5563STDY7800341\",\"VBS19253-5563STDY7800341\",\"VBS19253-5563STDY7800341\",\"VBS19253-5563STDY7800341\",\"VBS19253-5563STDY7800341\",\"VBS19253-5563STDY7800341\",\"VBS19253-5563STDY7800341\",\"VBS19253-5563STDY7800341\",\"VBS19253-5563STDY7800341\",\"VBS19253-5563STDY7800341\",\"VBS19253-5563STDY7800341\",\"VBS19253-5563STDY7800341\",\"VBS19253-5563STDY7800341\",\"VBS19253-5563STDY7800341\",\"VBS19253-5563STDY7800341\",\"VBS19253-5563STDY7800341\",\"VBS19253-5563STDY7800341\",\"VBS19253-5563STDY7800341\",\"VBS19253-5563STDY7800341\",\"VBS19253-5563STDY7800341\",\"VBS19253-5563STDY7800341\",\"VBS19253-5563STDY7800341\",\"VBS19253-5563STDY7800341\",\"VBS19253-5563STDY7800341\",\"VBS19253-5563STDY7800341\",\"VBS19253-5563STDY7800341\",\"VBS19253-5563STDY7800341\",\"VBS19253-5563STDY7800341\",\"VBS19253-5563STDY7800341\",\"VBS19253-5563STDY7800341\",\"VBS19253-5563STDY7800341\",\"VBS19253-5563STDY7800341\",\"VBS19253-5563STDY7800341\",\"VBS19253-5563STDY7800341\",\"VBS19253-5563STDY7800341\",\"VBS19253-5563STDY7800341\",\"VBS19253-5563STDY7800341\",\"VBS19253-5563STDY7800341\",\"VBS19253-5563STDY7800341\",\"VBS19253-5563STDY7800341\",\"VBS19253-5563STDY7800341\",\"VBS19253-5563STDY7800341\",\"VBS19253-5563STDY7800341\",\"VBS19253-5563STDY7800341\",\"VBS19253-5563STDY7800341\",\"VBS19253-5563STDY7800341\",\"VBS19253-5563STDY7800341\",\"VBS19253-5563STDY7800341\",\"VBS19253-5563STDY7800341\",\"VBS19253-5563STDY7800341\",\"VBS19253-5563STDY7800341\",\"VBS19253-5563STDY7800341\",\"VBS19253-5563STDY7800341\",\"VBS19253-5563STDY7800341\",\"VBS19253-5563STDY7800341\",\"VBS19253-5563STDY7800341\",\"VBS19253-5563STDY7800341\",\"VBS19253-5563STDY7800341\",\"VBS19253-5563STDY7800341\",\"VBS19253-5563STDY7800341\",\"VBS19253-5563STDY7800341\",\"VBS19253-5563STDY7800341\",\"VBS19253-5563STDY7800341\",\"VBS19253-5563STDY7800341\",\"VBS19253-5563STDY7800341\",\"VBS19253-5563STDY7800341\",\"VBS19253-5563STDY7800341\",\"VBS19253-5563STDY7800341\",\"VBS19253-5563STDY7800341\",\"VBS19253-5563STDY7800341\",\"VBS19253-5563STDY7800341\",\"VBS19253-5563STDY7800341\",\"VBS19253-5563STDY7800341\",\"VBS19253-5563STDY7800341\",\"VBS19253-5563STDY7800341\",\"VBS19253-5563STDY7800341\",\"VBS19253-5563STDY7800341\",\"VBS19253-5563STDY7800341\",\"VBS19253-5563STDY7800341\",\"VBS19253-5563STDY7800341\",\"VBS19253-5563STDY7800341\",\"VBS19253-5563STDY7800341\",\"VBS19253-5563STDY7800341\",\"VBS19253-5563STDY7800341\",\"VBS19253-5563STDY7800341\",\"VBS19253-5563STDY7800341\",\"VBS19253-5563STDY7800341\",\"VBS19253-5563STDY7800341\",\"VBS19253-5563STDY7800341\",\"VBS19253-5563STDY7800341\",\"VBS19253-5563STDY7800341\",\"VBS19253-5563STDY7800341\",\"VBS19253-5563STDY7800341\",\"VBS19253-5563STDY7800341\",\"VBS19253-5563STDY7800341\",\"VBS19253-5563STDY7800341\",\"VBS19253-5563STDY7800341\",\"VBS19253-5563STDY7800341\",\"VBS19253-5563STDY7800341\",\"VBS19253-5563STDY7800341\",\"VBS19253-5563STDY7800341\",\"VBS19253-5563STDY7800341\",\"VBS19253-5563STDY7800341\",\"VBS19253-5563STDY7800341\",\"VBS19253-5563STDY7800341\",\"VBS19253-5563STDY7800341\",\"VBS19253-5563STDY7800341\",\"VBS19253-5563STDY7800341\",\"VBS19253-5563STDY7800341\",\"VBS19253-5563STDY7800341\",\"VBS19253-5563STDY7800341\",\"VBS19253-5563STDY7800341\",\"VBS19253-5563STDY7800341\",\"VBS19253-5563STDY7800341\",\"VBS19253-5563STDY7800341\",\"VBS19253-5563STDY7800341\",\"VBS19253-5563STDY7800341\",\"VBS19253-5563STDY7800341\",\"VBS19253-5563STDY7800341\",\"VBS19253-5563STDY7800341\",\"VBS19253-5563STDY7800341\",\"VBS19253-5563STDY7800341\"],\"variant_contig\":{\"__ndarray__\":\"AQEBAQEBAQEBAQEBAQEBAQEBAQEBAQEBAQEBAQEBAQEBAQEBAQEBAQEBAQEBAQEBAQEBAQEBAQEBAQEBAQEBAQEBAQEBAQEBAQEBAQEBAQEBAQEBAQEBAQEBAQEBAQEBAQEBAQEBAQEBAQEBAQEBAQEBAQEBAQEBAQEBAQEBAQEBAQEBAQEBAQEBAQEBAQEBAQEBAQEBAQEBAQEBAQEBAQEBAQEBAQEBAQEBAQEBAQEBAQEBAQEBAQEBAQEBAQEBAQEBAQEBAQE=\",\"dtype\":\"uint8\",\"order\":\"little\",\"shape\":[200]},\"variant_end\":{\"__ndarray__\":\"pC6zAdAvswH8MLMBKDKzAVQzswGANLMBrDWzAdg2swEEOLMBMDmzAVw6swGIO7MBtDyzAeA9swEMP7MBOECzAWRBswGQQrMBvEOzAehEswEURrMBQEezAWxIswGYSbMBxEqzAfBLswEcTbMBSE6zAXRPswGgULMBzFGzAfhSswEkVLMBUFWzAXxWswGoV7MB1FizAQBaswEsW7MBWFyzAYRdswGwXrMB3F+zAQhhswE0YrMBYGOzAYxkswG4ZbMB5GazARBoswE8abMBaGqzAZRrswHAbLMB7G2zARhvswFEcLMBcHGzAZxyswHIc7MB9HSzASB2swFMd7MBeHizAaR5swHQerMB/HuzASh9swFUfrMBgH+zAayAswHYgbMBBIOzATCEswFchbMBiIazAbSHswHgiLMBDIqzATiLswFkjLMBkI2zAbyOswHoj7MBFJGzAUCSswFsk7MBmJSzAcSVswHwlrMBHJizAUiZswF0mrMBoJuzAcycswH4nbMBJJ+zAVCgswF8obMBqKKzAdSjswEApbMBLKazAVinswGEqLMBsKmzAdyqswEIrLMBNK2zAWCuswGMr7MBuLCzAeSxswEQs7MBPLSzAWi1swGUtrMBwLezAey4swEYurMBRLuzAXC8swGcvbMByL6zAfS/swEgwbMBTMKzAXjDswGkxLMB0MWzAfzGswEoyLMBVMmzAYDKswGsy7MB2MyzAQTOswEwz7MBXNCzAbTSswHg07MBDNWzATjWswFk17MBkNizAbzZswHo2rMBFNyzAUDdswFs3rMBmN+zAcTgswHw4bMBHOOzAUjkswF05bMBoOazAcznswH46LMBJOqzAVDrswF87LMBqO2zAdTuswEA8LMBLPGzAVjyswGE87MBsPSzAdz1swEI97MBNPizAWD5swGM+rMBuPuzAeT8swEQ/rMBPP+zAWgAtAGUAbQBwAK0AewDtAEYBbQBRAa0AXAHtAGcCLQByAm0AfQKtAEgDLQBTA20AXgOtAGkD7QB0BC0AfwRtAEoE7QBVBS0AYAVtAGsFrQB2Be0AQQZtAE=\",\"dtype\":\"int32\",\"order\":\"little\",\"shape\":[200]},\"variant_midpoint\":{\"__ndarray__\":\"Dy6zATsvswFnMLMBkzGzAb8yswHrM7MBFzWzAUM2swFvN7MBmzizAcc5swHzOrMBHzyzAUs9swF3PrMBoz+zAc9AswH7QbMBJ0OzAVNEswF/RbMBq0azAddHswEDSbMBL0qzAVtLswGHTLMBs02zAd9OswELULMBN1GzAWNSswGPU7MBu1SzAedVswETV7MBP1izAWtZswGXWrMBw1uzAe9cswEbXrMBR1+zAXNgswGfYbMBy2KzAfdjswEjZbMBT2azAXtnswGnaLMB02mzAf9qswErbLMBV22zAYNuswGvb7MB23CzAQdyswEzc7MBX3SzAYt1swG3drMB43ezAQ95swE7erMBZ3uzAZN8swG/fbMB636zAReAswFDgbMBb4KzAZuDswHHhLMB84WzAR+HswFLiLMBd4mzAaOKswHPi7MB+4yzASeOswFTj7MBf5CzAauRswHXkrMBA5SzAS+VswFblrMBh5ezAbOYswHfmbMBC5uzATecswFjnbMBj56zAbufswHnoLMBE6KzAT+jswFrpLMBl6WzAcOmswHvp7MBG6mzAUeqswFzq7MBn6yzAcutswH3rrMBI7CzAU+xswF7srMBp7OzAdO0swH/tbMBK7ezAVe4swGDubMBr7qzAdu7swEHvbMBM76zAV+/swGLwLMBt8GzAePCswEPxLMBO8WzAWfGswGTx7MBv8izAevJswEXy7MBQ8yzAW/NswGbzrMBx8+zAR/SswFL07MBd9SzAaPVswHP1rMB+9ezASfZswFT2rMBf9uzAavcswHX3bMBA9+zAS/gswFb4bMBh+KzAbPjswHf5LMBC+azATfnswFj6LMBj+mzAbvqswHn67MBE+2zAT/uswFr77MBl/CzAcPxswHv8rMBG/SzAUf1swFz9rMBn/ezAcv4swH3+bMBI/uzAU/8swF7/bMBp/6zAdP/swH/ALQBKwK0AVcDtAGDBLQBrwW0AdsGtAEHCLQBMwm0AV8KtAGLC7QBtwy0AeMNtAEPD7QBOxC0AWcRtAGTErQBvxO0AesUtAEXFrQBQxe0AW8YtAE=\",\"dtype\":\"int32\",\"order\":\"little\",\"shape\":[200]},\"variant_position\":{\"__ndarray__\":\"eS2zAaUuswHRL7MB/TCzASkyswFVM7MBgTSzAa01swHZNrMBBTizATE5swFdOrMBiTuzAbU8swHhPbMBDT+zATlAswFlQbMBkUKzAb1DswHpRLMBFUazAUFHswFtSLMBmUmzAcVKswHxS7MBHU2zAUlOswF1T7MBoVCzAc1RswH5UrMBJVSzAVFVswF9VrMBqVezAdVYswEBWrMBLVuzAVlcswGFXbMBsV6zAd1fswEJYbMBNWKzAWFjswGNZLMBuWWzAeVmswERaLMBPWmzAWlqswGVa7MBwWyzAe1tswEZb7MBRXCzAXFxswGdcrMByXOzAfV0swEhdrMBTXezAXl4swGlebMB0XqzAf17swEpfbMBVX6zAYF/swGtgLMB2YGzAQWDswExhLMBXYWzAYmGswG1h7MB4YizAQ2KswE5i7MBZYyzAZGNswG9jrMB6Y+zARWRswFBkrMBbZOzAZmUswHFlbMB8ZazAR2YswFJmbMBdZqzAaGbswHNnLMB+Z2zASWfswFRoLMBfaGzAamiswHVo7MBAaWzAS2mswFZp7MBhaizAbGpswHdqrMBCayzATWtswFhrrMBja+zAbmwswHlsbMBEbOzAT20swFptbMBlbazAcG3swHtuLMBGbqzAUW7swFxvLMBnb2zAcm+swH1v7MBIcGzAU3CswF5w7MBpcSzAdHFswH9xrMBKcizAVXJswGByrMBrcuzAdnMswEFzrMBMc+zAYnRswG10rMB4dOzAQ3VswE51rMBZdezAZHYswG92bMB6dqzARXcswFB3bMBbd6zAZnfswHF4LMB8eGzAR3jswFJ5LMBdeWzAaHmswHN57MB+eizASXqswFR67MBfeyzAantswHV7rMBAfCzAS3xswFZ8rMBhfOzAbH0swHd9bMBCfezATX4swFh+bMBjfqzAbn7swHl/LMBEf6zAT3/swFpALQBlQG0AcECtAHtA7QBGQW0AUUGtAFxB7QBnQi0AckJtAH1CrQBIQy0AU0NtAF5DrQBpQ+0AdEQtAH9EbQBKRO0AVUUtAGBFbQBrRa0AdkXtAE=\",\"dtype\":\"int32\",\"order\":\"little\",\"shape\":[200]},\"variants\":[0,1,2,3,4,5,6,7,8,9,10,11,12,13,14,15,16,17,18,19,20,21,22,23,24,25,26,27,28,29,30,31,32,33,34,35,36,37,38,39,40,41,42,43,44,45,46,47,48,49,50,51,52,53,54,55,56,57,58,59,60,61,62,63,64,65,66,67,68,69,70,71,72,73,74,75,76,77,78,79,80,81,82,83,84,85,86,87,88,89,90,91,92,93,94,95,96,97,98,99,100,101,102,103,104,105,106,107,108,109,110,111,112,113,114,115,116,117,118,119,120,121,122,123,124,125,126,127,128,129,130,131,132,133,134,135,136,137,138,140,141,142,143,144,145,146,147,148,149,150,151,152,153,154,155,156,157,158,159,160,161,162,163,164,165,166,167,168,169,170,171,172,173,174,175,176,177,178,179,180,181,182,183,184,185,186,187,188,189,190,191,192,193,194,195,196,197,198,199,200]},\"selected\":{\"id\":\"117698\"},\"selection_policy\":{\"id\":\"117697\"}},\"id\":\"117681\",\"type\":\"ColumnDataSource\"},{\"attributes\":{\"source\":{\"id\":\"117681\"}},\"id\":\"117687\",\"type\":\"CDSView\"},{\"attributes\":{\"label\":{\"value\":\"HMM\"},\"renderers\":[{\"id\":\"117686\"}]},\"id\":\"117699\",\"type\":\"LegendItem\"},{\"attributes\":{},\"id\":\"117755\",\"type\":\"NumeralTickFormatter\"},{\"attributes\":{\"coordinates\":null,\"group\":null,\"items\":[{\"id\":\"117680\"},{\"id\":\"117699\"}]},\"id\":\"117679\",\"type\":\"Legend\"},{\"attributes\":{\"coordinates\":null,\"data_source\":{\"id\":\"117681\"},\"glyph\":{\"id\":\"117683\"},\"group\":null,\"hover_glyph\":null,\"muted_glyph\":{\"id\":\"117685\"},\"nonselection_glyph\":{\"id\":\"117684\"},\"view\":{\"id\":\"117687\"}},\"id\":\"117686\",\"type\":\"GlyphRenderer\"},{\"attributes\":{\"toolbar\":{\"id\":\"117776\"},\"toolbar_location\":\"above\"},\"id\":\"117777\",\"type\":\"ToolbarBox\"},{\"attributes\":{},\"id\":\"117726\",\"type\":\"ResetTool\"},{\"attributes\":{\"fill_color\":{\"value\":null},\"line_width\":{\"value\":0.5},\"size\":{\"value\":3},\"x\":{\"field\":\"variant_midpoint\"},\"y\":{\"field\":\"call_NormCov\"}},\"id\":\"117665\",\"type\":\"Circle\"},{\"attributes\":{\"bottom\":{\"field\":\"bottom\"},\"fill_alpha\":{\"value\":0.1},\"fill_color\":{\"value\":\"#1f77b4\"},\"hatch_alpha\":{\"value\":0.1},\"left\":{\"field\":\"start\"},\"line_alpha\":{\"value\":0.1},\"line_color\":{\"value\":\"#1f77b4\"},\"line_width\":{\"value\":0.5},\"right\":{\"field\":\"end\"},\"top\":{\"field\":\"top\"}},\"id\":\"117748\",\"type\":\"Quad\"}],\"root_ids\":[\"117778\"]},\"title\":\"Bokeh Application\",\"version\":\"2.4.2\"}};\n",
       "  const render_items = [{\"docid\":\"d823f9d5-3ad9-4701-8dd3-3716cbdbfe01\",\"root_ids\":[\"117778\"],\"roots\":{\"117778\":\"cadb160e-8fbc-4351-af04-85572613d4df\"}}];\n",
       "  root.Bokeh.embed.embed_items_notebook(docs_json, render_items);\n",
       "\n",
       "  }\n",
       "  if (root.Bokeh !== undefined) {\n",
       "    embed_document(root);\n",
       "  } else {\n",
       "    let attempts = 0;\n",
       "    const timer = setInterval(function(root) {\n",
       "      if (root.Bokeh !== undefined) {\n",
       "        clearInterval(timer);\n",
       "        embed_document(root);\n",
       "      } else {\n",
       "        attempts++;\n",
       "        if (attempts > 100) {\n",
       "          clearInterval(timer);\n",
       "          console.log(\"Bokeh: ERROR: Unable to run BokehJS code because BokehJS library is missing\");\n",
       "        }\n",
       "      }\n",
       "    }, 10, root)\n",
       "  }\n",
       "})(window);"
      ],
      "application/vnd.bokehjs_exec.v0+json": ""
     },
     "metadata": {
      "application/vnd.bokehjs_exec.v0+json": {
       "id": "117778"
      }
     },
     "output_type": "display_data"
    }
   ],
   "source": [
    "for s in sample_names[:2]:\n",
    "    ag3.plot_cnv_hmm_coverage(s, sample_set=\"1244-VO-GH-YAWSON-VMF00051\", region=coe_region)"
   ]
  },
  {
   "cell_type": "markdown",
   "id": "7c0062e2",
   "metadata": {},
   "source": [
    "Looking legit!!"
   ]
  },
  {
   "cell_type": "markdown",
   "id": "b1c04f32",
   "metadata": {},
   "source": [
    "### Comparing CNV status, sweep status, and karyotype"
   ]
  },
  {
   "cell_type": "code",
   "execution_count": 227,
   "id": "78a75c2e",
   "metadata": {},
   "outputs": [],
   "source": [
    "cnv_ids = sample_names"
   ]
  },
  {
   "cell_type": "code",
   "execution_count": 251,
   "id": "d63ad621",
   "metadata": {
    "scrolled": true
   },
   "outputs": [
    {
     "data": {
      "text/html": [
       "<div>\n",
       "<style scoped>\n",
       "    .dataframe tbody tr th:only-of-type {\n",
       "        vertical-align: middle;\n",
       "    }\n",
       "\n",
       "    .dataframe tbody tr th {\n",
       "        vertical-align: top;\n",
       "    }\n",
       "\n",
       "    .dataframe thead th {\n",
       "        text-align: right;\n",
       "    }\n",
       "</style>\n",
       "<table border=\"1\" class=\"dataframe\">\n",
       "  <thead>\n",
       "    <tr style=\"text-align: right;\">\n",
       "      <th>cnv_status</th>\n",
       "      <th>0</th>\n",
       "      <th>1</th>\n",
       "    </tr>\n",
       "    <tr>\n",
       "      <th>mean_genotype</th>\n",
       "      <th></th>\n",
       "      <th></th>\n",
       "    </tr>\n",
       "  </thead>\n",
       "  <tbody>\n",
       "    <tr>\n",
       "      <th>0.0</th>\n",
       "      <td>223</td>\n",
       "      <td>56</td>\n",
       "    </tr>\n",
       "    <tr>\n",
       "      <th>1.0</th>\n",
       "      <td>152</td>\n",
       "      <td>18</td>\n",
       "    </tr>\n",
       "    <tr>\n",
       "      <th>2.0</th>\n",
       "      <td>28</td>\n",
       "      <td>0</td>\n",
       "    </tr>\n",
       "  </tbody>\n",
       "</table>\n",
       "</div>"
      ],
      "text/plain": [
       "cnv_status       0   1\n",
       "mean_genotype         \n",
       "0.0            223  56\n",
       "1.0            152  18\n",
       "2.0             28   0"
      ]
     },
     "execution_count": 251,
     "metadata": {},
     "output_type": "execute_result"
    }
   ],
   "source": [
    "import warnings\n",
    "warnings.filterwarnings('ignore')\n",
    "\n",
    "karyotypes = pd.read_csv(\"/home/sanj/projects/gaard/results/gaard_karyotypes.tsv\", sep=\"\\t\")\n",
    "karyo2 = pd.read_csv(\"/home/sanj/projects/gaardian/results/karyotypes/gaardian_karyotypes.tsv\", sep=\"\\t\", index_col=0)\n",
    "karyo2 = karyo2.rename(columns={'location2':'location'})\n",
    "karyotypes = pd.concat([karyotypes, karyo2])\n",
    "\n",
    "karyo_2la = karyotypes.query(\"inversion == '2La'\")\n",
    "\n",
    "karyo_2la.loc[:, 'mean_genotype'] = karyo_2la.loc[:,'mean_genotype'].round(0)\n",
    "\n",
    "df_samples = karyo_2la.merge(df_samples)\n",
    "\n",
    "gamb_samples = df_samples.query(\"aim_species == 'gambiae'\")\n",
    "\n",
    "gamb_samples.loc[:, 'cnv_status'] = pd.factorize(np.isin(gamb_samples['sample_id'], cnv_ids))[0]\n",
    "\n",
    "pd.crosstab(gamb_samples['mean_genotype'], gamb_samples['cnv_status'])"
   ]
  },
  {
   "cell_type": "markdown",
   "id": "84e1e2cd",
   "metadata": {},
   "source": [
    "So the CNVs are found on the 2l+a haplotypic background. Interesting. We probably have multiple sweeps on different karyotypes at the same locus, one spreading from togo area and one from Burkina."
   ]
  },
  {
   "cell_type": "markdown",
   "id": "c846019b",
   "metadata": {},
   "source": [
    "Next, we need the IDs of each individual in each sweep"
   ]
  },
  {
   "cell_type": "code",
   "execution_count": null,
   "id": "f23e3f8c",
   "metadata": {},
   "outputs": [],
   "source": []
  }
 ],
 "metadata": {
  "kernelspec": {
   "display_name": "Python 3 (ipykernel)",
   "language": "python",
   "name": "python3"
  },
  "language_info": {
   "codemirror_mode": {
    "name": "ipython",
    "version": 3
   },
   "file_extension": ".py",
   "mimetype": "text/x-python",
   "name": "python",
   "nbconvert_exporter": "python",
   "pygments_lexer": "ipython3",
   "version": "3.7.12"
  }
 },
 "nbformat": 4,
 "nbformat_minor": 5
}
