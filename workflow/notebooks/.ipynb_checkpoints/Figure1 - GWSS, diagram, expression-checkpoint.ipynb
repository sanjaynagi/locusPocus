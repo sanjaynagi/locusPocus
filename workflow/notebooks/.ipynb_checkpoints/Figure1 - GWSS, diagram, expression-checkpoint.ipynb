{
 "cells": [
  {
   "cell_type": "code",
   "execution_count": 29,
   "id": "26d45d0a",
   "metadata": {},
   "outputs": [],
   "source": [
    "import numpy as np \n",
    "import pandas as pd\n",
    "import allel\n",
    "import seaborn as sns\n",
    "import matplotlib.pyplot as plt\n",
    "import matplotlib\n",
    "import matplotlib.patches as patches\n",
    "import malariagen_data\n",
    "%matplotlib inline\n",
    "import sys\n",
    "# adding Folder_2 to the system path\n",
    "sys.path.insert(0, '/home/sanj/projects/gaardian/workflow/scripts/')\n",
    "import probetools as probe"
   ]
  },
  {
   "cell_type": "code",
   "execution_count": 58,
   "id": "6c26a96e",
   "metadata": {},
   "outputs": [],
   "source": [
    "def plotChromLines(ax0, left_arm_start=None, left_arm_end=None, right_arm_start=None, right_arm_end=None, contig='autosome'):\n",
    "    # start vertical line\n",
    "    if contig == 'autosome':\n",
    "        l = matplotlib.lines.Line2D([0,0], [4,6], color='#36454F', linewidth=3)   #line \n",
    "        ax0.add_line(l)\n",
    "        # end vertical line\n",
    "        l = matplotlib.lines.Line2D([right_arm_end,right_arm_end], [4,6], color='#36454F', linewidth=3)   #line \n",
    "        ax0.add_line(l)\n",
    "        # left arm top line and bottom line\n",
    "#         l = matplotlib.lines.Line2D([left_arm_start,left_arm_end-5000000], [4,4], color='#36454F', linewidth=3)\n",
    "#         ax0.add_line(l)\n",
    "#         l = matplotlib.lines.Line2D([left_arm_start,left_arm_end-5000000], [6,6], color='#36454F', linewidth=3)\n",
    "#         ax0.add_line(l)\n",
    "        # right arm top line and bottom line\n",
    "        l = matplotlib.lines.Line2D([right_arm_start+5000000,right_arm_end], [4,4], color='#36454F', linewidth=3)\n",
    "        ax0.add_line(l)\n",
    "        l = matplotlib.lines.Line2D([right_arm_start+5000000,right_arm_end], [6,6], color='#36454F', linewidth=3)\n",
    "        ax0.add_line(l)\n",
    "        # angled lines \n",
    "#         l = matplotlib.lines.Line2D([left_arm_end-5000000,left_arm_end], [4,4.5], color='#36454F', linewidth=3)\n",
    "#         ax0.add_line(l)\n",
    "#         l = matplotlib.lines.Line2D([left_arm_end-5000000,left_arm_end], [6,5.5], color='#36454F', linewidth=3)\n",
    "#         ax0.add_line(l)\n",
    "        l = matplotlib.lines.Line2D([right_arm_start+5000000,right_arm_start], [4,4.5], color='#36454F', linewidth=3)\n",
    "        ax0.add_line(l)\n",
    "        l = matplotlib.lines.Line2D([right_arm_start+5000000,right_arm_start], [6,5.5], color='#36454F', linewidth=3)\n",
    "        ax0.add_line(l)\n",
    "    elif contig == 'X':\n",
    "        # start vertical line\n",
    "        l = matplotlib.lines.Line2D([0,0], [4,6], color='#36454F', linewidth=3)   #line \n",
    "        ax0.add_line(l)\n",
    "#         # end vertical line\n",
    "#         l = matplotlib.lines.Line2D([left_arm_start, left_arm_start], [4,6], color='#36454F', linewidth=3)   #line \n",
    "#         ax0.add_line(l)\n",
    "\n",
    "#         # left arm top line and bottom line\n",
    "#         l = matplotlib.lines.Line2D([left_arm_start,left_arm_end-5000000], [4,4], color='#36454F', linewidth=3)\n",
    "#         ax0.add_line(l)\n",
    "#         l = matplotlib.lines.Line2D([left_arm_start,left_arm_end-5000000], [6,6], color='#36454F', linewidth=3)\n",
    "#         ax0.add_line(l)\n",
    "\n",
    "#         ## end \n",
    "#         l = matplotlib.lines.Line2D([left_arm_end-5000000,left_arm_end], [4,4.5], color='#36454F', linewidth=3)\n",
    "#         ax0.add_line(l)\n",
    "#         l = matplotlib.lines.Line2D([left_arm_end-5000000,left_arm_end], [6,5.5], color='#36454F', linewidth=3)\n",
    "#         ax0.add_line(l)\n",
    "\n",
    "        \n",
    "def setupAxes(ax, maxbp, sample=None, xaxis=True, title=False, contig=None):\n",
    "    ax.set_ylim(3.75,6.25)\n",
    "    ax.set_xlim(0, maxbp)\n",
    "    if sample != None: \n",
    "        ax.set_ylabel(sample, rotation=0, ha='right', fontsize=16)\n",
    "        ax.set_yticks([])\n",
    "        ax.yaxis.set_label_coords(-0.01,0.41)\n",
    "    else:\n",
    "        ax.axes.get_yaxis().set_visible(False)\n",
    "    xtick = np.arange(0, maxbp, 10000000)\n",
    "    ax.set_xticks(xtick, fontsize=42)\n",
    "    ax.ticklabel_format(style='sci',scilimits=(6,6),axis='x')\n",
    "    if xaxis == False:\n",
    "        ax.axes.get_xaxis().set_visible(False)\n",
    "        sns.despine(top=True, right=True, left=True, bottom=True, ax=ax)\n",
    "    else:\n",
    "        sns.despine(top=True, right=True, left=True, bottom=False, ax=ax)\n",
    "        \n",
    "\n",
    "def addInversion(ax, start, size, freq=None, inversion = '2La', color='indianred'):\n",
    "    ### Add inversions ###\n",
    "    # Create a Rectangle patch\n",
    "    rect = patches.Rectangle((start, 4), size, 2, linewidth=3,\n",
    "                            edgecolor='none', facecolor=color, alpha=freq)\n",
    "    ax.add_patch(rect)\n",
    "\n",
    "    # start vertical line\n",
    "    l = matplotlib.lines.Line2D([start, start], [4, 6], color=\"grey\", linewidth=1, linestyle='--')   #line \n",
    "    ax.add_line(l)\n",
    "    l = matplotlib.lines.Line2D([start+size, start+size], [4, 6], color=\"grey\", linewidth=1, linestyle='--')   #line \n",
    "    ax.add_line(l)\n",
    "\n",
    "    mid =  start + (size/2)\n",
    "    # add freq\n",
    "    if inversion == '2Rb':\n",
    "        ax.annotate(inversion, xy=(mid-2_500_000,5.2),# rotation=90,\n",
    "               size=18)\n",
    "    else:\n",
    "        ax.annotate(inversion, xy=(mid-2_000_000,5.2),# rotation=90,\n",
    "               size=18)    \n",
    "\n",
    "#    ax.text(mid-2_000_000, 4.5, f\"{int(freq*100)}%\", color='black',\n",
    " #       bbox=dict(facecolor='white', edgecolor='black', alpha=0.4, boxstyle='round', pad=0.5))\n",
    "    "
   ]
  },
  {
   "cell_type": "code",
   "execution_count": 40,
   "id": "733f8855",
   "metadata": {},
   "outputs": [],
   "source": [
    "contigs = pd.read_csv(\"/home/sanj/ag1000g/data/reference/Anopheles-gambiae-PEST_CHROMOSOMES_AgamP4.fa.fai\", sep=\"\\t\", header=None)\n",
    "\n",
    "contigs = contigs.rename(columns={0:'contig', 1:'end'}).query(\"contig in ['2R', '2L', '3L', '3R', 'X']\")\n",
    "contigs = contigs.drop(columns=[2,3,4])\n",
    "contigs['start'] = 0\n",
    "# new column for whole chrom as these will be subplots\n",
    "contigs['chromosome'] = contigs['contig'].str.replace(\"R\", \"\").str.replace(\"L\", \"\")"
   ]
  },
  {
   "cell_type": "code",
   "execution_count": 60,
   "id": "a1623d0a",
   "metadata": {},
   "outputs": [],
   "source": [
    "# Designate inversion breakpoints\n",
    "# inversion 2La\n",
    "inv2la_start = 20524058\n",
    "inv2la_end   = 42165532 \n",
    "inv2la_size = inv2la_end-inv2la_start\n",
    "\n",
    "h_2l = np.array([[0, 2487770], [5042389, 5788875]])\n"
   ]
  },
  {
   "cell_type": "code",
   "execution_count": 44,
   "id": "0b7f44a6",
   "metadata": {},
   "outputs": [],
   "source": [
    "maxbp = contigs.query(\"contig == '2L'\")['end'].to_numpy()[0]\n",
    "maxbp2r = contigs.query(\"contig == '2R'\")['end'].to_numpy()[0]"
   ]
  },
  {
   "cell_type": "code",
   "execution_count": 64,
   "id": "0baa8186",
   "metadata": {},
   "outputs": [
    {
     "data": {
      "text/plain": [
       "(61545105.0, 110909430.0)"
      ]
     },
     "execution_count": 64,
     "metadata": {},
     "output_type": "execute_result"
    },
    {
     "data": {
      "image/png": "[encoded data removed]",
      "text/plain": [
       "<Figure size 1296x144 with 1 Axes>"
      ]
     },
     "metadata": {
      "needs_background": "light"
     },
     "output_type": "display_data"
    }
   ],
   "source": [
    "fig, ax = plt.subplots(1, figsize=[18,2])\n",
    "\n",
    "setupAxes(ax=ax, maxbp=maxbp+maxbp2r)\n",
    "plotChromLines(ax0=ax, right_arm_start=maxbp2r, right_arm_end=maxbp+maxbp2r)\n",
    "addInversion(ax=ax, start=inv2la_start+maxbp2r, size=inv2la_size, inversion='2La', color='grey')\n",
    "plt.xlim(maxbp2r, maxbp+maxbp2r)"
   ]
  },
  {
   "cell_type": "code",
   "execution_count": 59,
   "id": "ff25ba6a",
   "metadata": {},
   "outputs": [
    {
     "ename": "NameError",
     "evalue": "name 'inv2la_size' is not defined",
     "output_type": "error",
     "traceback": [
      "\u001b[0;31m---------------------------------------------------------------------------\u001b[0m",
      "\u001b[0;31mNameError\u001b[0m                                 Traceback (most recent call last)",
      "\u001b[0;32m/tmp/ipykernel_10849/3833762904.py\u001b[0m in \u001b[0;36m<module>\u001b[0;34m\u001b[0m\n\u001b[0;32m----> 1\u001b[0;31m \u001b[0maddInversion\u001b[0m\u001b[0;34m(\u001b[0m\u001b[0max\u001b[0m\u001b[0;34m=\u001b[0m\u001b[0max\u001b[0m\u001b[0;34m,\u001b[0m \u001b[0mstart\u001b[0m\u001b[0;34m=\u001b[0m\u001b[0minv2la_start\u001b[0m\u001b[0;34m,\u001b[0m \u001b[0msize\u001b[0m\u001b[0;34m=\u001b[0m\u001b[0minv2la_size\u001b[0m\u001b[0;34m,\u001b[0m \u001b[0minversion\u001b[0m\u001b[0;34m=\u001b[0m\u001b[0;34m'2La'\u001b[0m\u001b[0;34m,\u001b[0m \u001b[0mcolor\u001b[0m\u001b[0;34m=\u001b[0m\u001b[0;34m'grey'\u001b[0m\u001b[0;34m)\u001b[0m\u001b[0;34m\u001b[0m\u001b[0;34m\u001b[0m\u001b[0m\n\u001b[0m",
      "\u001b[0;31mNameError\u001b[0m: name 'inv2la_size' is not defined"
     ]
    }
   ],
   "source": [
    "addInversion(ax=ax, start=inv2la_start, size=inv2la_size, inversion='2La', color='grey')"
   ]
  },
  {
   "cell_type": "code",
   "execution_count": null,
   "id": "f6fc74a2",
   "metadata": {},
   "outputs": [],
   "source": []
  }
 ],
 "metadata": {
  "kernelspec": {
   "display_name": "Python 3 (ipykernel)",
   "language": "python",
   "name": "python3"
  },
  "language_info": {
   "codemirror_mode": {
    "name": "ipython",
    "version": 3
   },
   "file_extension": ".py",
   "mimetype": "text/x-python",
   "name": "python",
   "nbconvert_exporter": "python",
   "pygments_lexer": "ipython3",
   "version": "3.7.12"
  }
 },
 "nbformat": 4,
 "nbformat_minor": 5
}
